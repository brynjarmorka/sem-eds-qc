{
 "cells": [
  {
   "cell_type": "markdown",
   "metadata": {},
   "source": [
    "# Misc figures"
   ]
  },
  {
   "attachments": {},
   "cell_type": "markdown",
   "metadata": {},
   "source": [
    "## Detector efficiency - SDD vs Si(Li)\n",
    "https://www.globalsino.com/EM/page4655.html"
   ]
  },
  {
   "cell_type": "code",
   "execution_count": 1,
   "metadata": {},
   "outputs": [],
   "source": [
    "import plotly.graph_objects as go\n",
    "import numpy as np"
   ]
  },
  {
   "cell_type": "code",
   "execution_count": 2,
   "metadata": {},
   "outputs": [],
   "source": [
    "x = [0, 0.25, .5,  1.,     1.7, 3,   4, 6,    7,  8,   10,  12,  14,  16,  18,  20]\n",
    "old = [0, .25, .5, 0.75, 0.9, 1, .99, 1, .99, 1, 1.0, .97, .95, .93, 0.9, .88]\n",
    "sdd = [0, .25, .5, 0.75, 0.9, 1, .99, .99, .98, .9, .69  , .5, .40, .30, .2, .1]"
   ]
  },
  {
   "cell_type": "code",
   "execution_count": 17,
   "metadata": {},
   "outputs": [],
   "source": [
    "xx = np.linspace(0,20, 100)\n",
    "si = np.polyval(np.polyfit(x, old, deg=12), x=xx)\n",
    "sd = np.polyval(np.polyfit(x, sdd, deg=12), x=xx)\n",
    "\n",
    "fig = go.Figure()\n",
    "fig.update_layout(font=dict(family=\"EB Garamond SemiBold\", size=16, color=\"black\"))\n",
    "fig.update_layout(width=800, height=400)\n",
    "fig.update_layout(margin=dict(l=10, r=10, t=10, b=10))\n",
    "fig.update_layout(legend=dict(x=0.85, y=0.8))\n",
    "# detector efficiency, epsilon [a.u.]\n",
    "fig.update_layout(xaxis_title='Energy [keV]', yaxis_title='Detector efficiency, ε [a.u.]')\n",
    "fig.update_xaxes(range=[-0.2, 17])\n",
    "fig.update_yaxes(range=[-0.03, 1.1])\n",
    "\n",
    "\n",
    "\n",
    "# fig.add_scatter(x=x, y=old, mode='markers')\n",
    "# fig.add_scatter(x=x, y=sdd, mode='markers')\n",
    "\n",
    "# hide y tick marks\n",
    "fig.update_yaxes(showticklabels=False)\n",
    "\n",
    "fig.add_scatter(x=xx, y=sd, mode='lines', name='SDD', line_width=3)\n",
    "fig.add_scatter(x=xx, y=si, mode='lines', name='Si(Li)', line_width=3)\n",
    "\n",
    "\n",
    "fig.write_image('../figures/detector_efficiency_illustration.pdf')\n",
    "fig.write_image('../../mastersthesis/figures/detector_efficiency_illustration.pdf')\n",
    "\n"
   ]
  },
  {
   "cell_type": "code",
   "execution_count": null,
   "metadata": {},
   "outputs": [],
   "source": []
  }
 ],
 "metadata": {
  "kernelspec": {
   "display_name": "hspy",
   "language": "python",
   "name": "python3"
  },
  "language_info": {
   "codemirror_mode": {
    "name": "ipython",
    "version": 3
   },
   "file_extension": ".py",
   "mimetype": "text/x-python",
   "name": "python",
   "nbconvert_exporter": "python",
   "pygments_lexer": "ipython3",
   "version": "3.8.16"
  },
  "orig_nbformat": 4,
  "vscode": {
   "interpreter": {
    "hash": "eedee208f6f0fe67ac5ec53646d8853bbb152098f521b748accd5958a126e1a5"
   }
  }
 },
 "nbformat": 4,
 "nbformat_minor": 2
}
