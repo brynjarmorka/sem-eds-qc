{
 "cells": [
  {
   "cell_type": "code",
   "execution_count": null,
   "metadata": {},
   "outputs": [],
   "source": [
    "import hyperspy.api as hs\n",
    "import numpy as np\n",
    "import matplotlib.pyplot as plt\n",
    "import plotly.graph_objects as go\n",
    "import pandas as pd"
   ]
  },
  {
   "cell_type": "code",
   "execution_count": null,
   "metadata": {},
   "outputs": [],
   "source": [
    "path = '../../Masteroppgave/2023-03-08_EDS-Apreo/exports/'\n",
    "\n",
    "f_GaAs = '../../../Masteroppgave/2023-03-08_EDS-Apreo/exports/' + 'GaAs_15kV_25pA.emsa'\n",
    "f_GaSb = '../../../Masteroppgave/2023-03-08_EDS-Apreo/exports/' + 'GaSb_15kV_50pA.emsa'"
   ]
  },
  {
   "cell_type": "code",
   "execution_count": null,
   "metadata": {},
   "outputs": [],
   "source": [
    "s1 = hs.load(f_GaAs, signal_type='EDS_SEM')\n",
    "s1.add_elements(('Ga', 'As'))\n",
    "# s2 = hs.load(f_GaSb, signal_type='EDS_SEM')\n",
    "# s2.add_elements(('Ga', 'Sb'))\n",
    "\n",
    "s2 = s1\n",
    "\n",
    "m_list = []\n",
    "x_list = []"
   ]
  },
  {
   "cell_type": "code",
   "execution_count": null,
   "metadata": {},
   "outputs": [],
   "source": [
    "m2 = s2.create_model(auto_background=True)\n",
    "m2.fit_background()\n",
    "m2.fit(bounded=True)\n",
    "m_list.append(m2.as_signal().data)\n",
    "x_list.append(m2.axes_manager[0].axis)"
   ]
  },
  {
   "cell_type": "code",
   "execution_count": null,
   "metadata": {},
   "outputs": [],
   "source": [
    "m2 = s2.isig[40:].create_model(auto_background=True)\n",
    "m2.fit_background()\n",
    "m2.fit(bounded=True)\n",
    "m_list.append(m2.as_signal().data)\n",
    "x_list.append(m2.axes_manager[0].axis)"
   ]
  },
  {
   "cell_type": "code",
   "execution_count": null,
   "metadata": {},
   "outputs": [],
   "source": [
    "m2 = s2.isig[40:1520].create_model(auto_background=True)\n",
    "m2.fit_background()\n",
    "m2.fit(bounded=True)\n",
    "m_list.append(m2.as_signal().data)\n",
    "x_list.append(m2.axes_manager[0].axis)"
   ]
  },
  {
   "cell_type": "code",
   "execution_count": null,
   "metadata": {},
   "outputs": [],
   "source": [
    "m2 = s2.isig[100:1520].create_model(auto_background=True)\n",
    "m2.fit_background()\n",
    "m2.fit(bounded=True)\n",
    "m_list.append(m2.as_signal().data)\n",
    "x_list.append(m2.axes_manager[0].axis)"
   ]
  },
  {
   "cell_type": "code",
   "execution_count": null,
   "metadata": {},
   "outputs": [],
   "source": [
    "fig = go.Figure()\n",
    "names = ['Fit on the full range', '40:', 'Fit from 0.2-15 keV', '100:1520']\n",
    "s2_data = s2.data\n",
    "s2_data[s2_data == 0] = np.nan\n",
    "fig.add_trace(go.Scatter(x=s2.axes_manager[0].axis, y=s2_data, name='GaSb', mode='markers', marker=dict(size=2, color='black')))\n",
    "for i in [0, 2]:\n",
    "    fig.add_trace(go.Scatter(x=x_list[i], y=m_list[i], name=names[i]))\n",
    "fig.update_layout(legend=dict(yanchor=\"top\",y=0.99,xanchor=\"right\",x=0.99),\n",
    "                    font=dict(family=\"EB Garamond SemiBold\", size=16, color=\"black\"),\n",
    "                    margin=dict(l=5, r=5, t=5, b=5),\n",
    "                    xaxis_title='Energy [keV]', yaxis_title='Intensity [counts]',\n",
    "                    width=900, height=350, xaxis_range=[-.3, 20.35])\n",
    "fig.update_layout(yaxis_type=\"log\", yaxis_range=[1, 4.5])\n",
    "fig\n",
    "\n",
    "# fig.write_image('../figures/discussion/model_slicing_fit.pdf')\n",
    "# fig.write_image('../../mastersthesis/figures/discussion/model_slicing_fit.pdf')\n"
   ]
  },
  {
   "cell_type": "code",
   "execution_count": null,
   "metadata": {},
   "outputs": [],
   "source": [
    "# fig = go.Figure()\n",
    "\n",
    "# names = ['Fit on the full range', '40:', 'Fit from 0.2-15 keV', '100:1520']\n",
    "\n",
    "# s2_data = s2.data\n",
    "# # set 0 to nan\n",
    "# s2_data[s2_data == 0] = np.nan\n",
    "\n",
    "# fig.add_trace(go.Scatter(x=s2.axes_manager[0].axis, y=s2_data, name='GaSb', mode='markers', marker=dict(size=2, color='black')))\n",
    "\n",
    "\n",
    "# for i in [0, 2]:\n",
    "#     fig.add_trace(go.Scatter(x=x_list[i], y=m_list[i], name=names[i]))\n",
    "# fig.update_layout(legend=dict(yanchor=\"top\",y=0.99,xanchor=\"right\",x=0.99),\n",
    "#                     font=dict(family=\"EB Garamond SemiBold\", size=16, color=\"black\"),\n",
    "#                     margin=dict(l=5, r=5, t=5, b=5),\n",
    "#                     xaxis_title='Energy [keV]', yaxis_title='Intensity [counts]',\n",
    "#                     width=900, height=350, xaxis_range=[-.3, 20.35])\n",
    "# # fig.update_layout(yaxis_range=[-300, 13000])\n",
    "# # log y\n",
    "# # fig.update_layout(yaxis_type=\"log\", yaxis_range=[-0.05, 4.5])\n",
    "# fig.update_layout(yaxis_type=\"log\", yaxis_range=[1, 4.5])\n",
    "\n",
    "\n",
    "# fig\n",
    "\n",
    "# # fig.write_image('../figures/discussion/model_slicing_fit.pdf')\n",
    "# # fig.write_image('../../mastersthesis/figures/discussion/model_slicing_fit.pdf')\n"
   ]
  }
 ],
 "metadata": {
  "kernelspec": {
   "display_name": "hspy",
   "language": "python",
   "name": "python3"
  },
  "language_info": {
   "codemirror_mode": {
    "name": "ipython",
    "version": 3
   },
   "file_extension": ".py",
   "mimetype": "text/x-python",
   "name": "python",
   "nbconvert_exporter": "python",
   "pygments_lexer": "ipython3",
   "version": "3.8.16"
  },
  "orig_nbformat": 4
 },
 "nbformat": 4,
 "nbformat_minor": 2
}
