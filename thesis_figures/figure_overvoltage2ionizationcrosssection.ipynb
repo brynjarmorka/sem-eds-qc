{
 "cells": [
  {
   "cell_type": "code",
   "execution_count": null,
   "metadata": {},
   "outputs": [],
   "source": [
    "import numpy as np\n",
    "import plotly.graph_objects as go"
   ]
  },
  {
   "cell_type": "code",
   "execution_count": null,
   "metadata": {},
   "outputs": [],
   "source": [
    "d = [\n",
    "[1.3644469349421833, 0.058824717379742264],\n",
    "[1.5439797378152775, 0.9963240231609571],\n",
    "[1.7235164855105616, 2.319853405226461],\n",
    "[2.08258209125675, 3.9191184118132103],\n",
    "[2.262114894129841, 4.856617717594421],\n",
    "[2.6570862714862074, 5.977941109647389],\n",
    "[2.872528790791673, 6.8235298869518966],\n",
    "[3.0161558220545857, 7.3566182224808125],\n",
    "[3.375221427800774, 7.797795019760244],\n",
    "[3.8779140648098753, 8.12867736527662],\n",
    "[4.847393567217887, 8.257353720780458],\n",
    "[5.81687306962591, 8.055147730767917],\n",
    "[6.355471478245187, 7.8897065580097285],\n",
    "[7.289045209043028, 7.540441298979787],\n",
    "[8.07899190857795, 7.209558953463408],\n",
    "[9.192098442248884, 6.915441425201383],\n",
    "[10.305204975919816, 6.5661771759442225],\n",
    "[11.454217281200926, 6.235294830427846],\n",
    "[12.818668160965306, 5.904412484911469],\n",
    "[15.116696716349722, 5.352941235868988],\n",
    "[17.163373035996294, 4.94853026561669],\n",
    "[19.820467197126902, 4.415441930087774],\n",
    "[22.154397579299303, 4.02941185380348],\n",
    "[26.642729485593208, 3.5882360662968313],\n",
    "[31.23877870671765, 3.202205990012539],\n",
    "[35.33213923565519, 3],\n",
    "[39.49731130781309, 2.8345588272418105]]"
   ]
  },
  {
   "cell_type": "code",
   "execution_count": null,
   "metadata": {},
   "outputs": [],
   "source": [
    "fig = go.Figure()\n",
    "fig.update_layout(font=dict(family=\"EB Garamond SemiBold\", size=16, color=\"black\"))\n",
    "fig.update_layout(margin=dict(l=20, r=20, t=20, b=20))\n",
    "fig.update_layout(width=600, height=300)\n",
    "\n",
    "# fit d to a 6th order polynomial\n",
    "x = np.array([i[0] for i in d])\n",
    "y = np.array([i[1] for i in d])\n",
    "z = np.polyfit(x, y, 10)\n",
    "f = np.poly1d(z)\n",
    "x = np.linspace(1.38, 30, 300)\n",
    "# fig.add_trace(go.Scatter(x=[i[0] for i in d], y=[i[1] for i in d], mode='lines+markers', name='d'))\n",
    "# thicker\n",
    "fig.add_trace(go.Scatter(x=x-.38, y=f(x), mode='lines', name='fit', line=dict(width=4)))\n",
    "                         \n",
    "# U = E_0 / E_C\n",
    "# Y is the ionization cross section, sigma\n",
    "fig.update_xaxes(range=[-.5, 27], title='Overvoltage, U = E<sub>0</sub> / E<sub>C</sub>')\n",
    "fig.update_yaxes(range=[-.5, 10], title='Ionization cross-section, σ<sub>T</sub>')\n",
    "\n",
    "# remove tick labels from y\n",
    "fig.update_yaxes(showticklabels=False)\n"
   ]
  },
  {
   "cell_type": "code",
   "execution_count": null,
   "metadata": {},
   "outputs": [],
   "source": [
    "fig.write_image(\"../figures/overvoltage2ionizationcrosssection.pdf\")\n",
    "fig.write_image('../../mastersthesis/figures/overvoltage2ionizationcrosssection.pdf')"
   ]
  },
  {
   "cell_type": "code",
   "execution_count": null,
   "metadata": {},
   "outputs": [],
   "source": []
  }
 ],
 "metadata": {
  "kernelspec": {
   "display_name": "hspy",
   "language": "python",
   "name": "python3"
  },
  "language_info": {
   "codemirror_mode": {
    "name": "ipython",
    "version": 3
   },
   "file_extension": ".py",
   "mimetype": "text/x-python",
   "name": "python",
   "nbconvert_exporter": "python",
   "pygments_lexer": "ipython3",
   "version": "3.8.16"
  },
  "orig_nbformat": 4
 },
 "nbformat": 4,
 "nbformat_minor": 2
}
