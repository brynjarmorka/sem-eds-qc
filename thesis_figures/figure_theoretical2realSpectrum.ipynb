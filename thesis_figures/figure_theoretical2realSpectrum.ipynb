{
 "cells": [
  {
   "cell_type": "code",
   "execution_count": null,
   "metadata": {},
   "outputs": [],
   "source": [
    "import numpy as np\n",
    "import plotly.graph_objects as go\n",
    "from plotly.subplots import make_subplots\n",
    "import hyperspy.api as hs"
   ]
  },
  {
   "cell_type": "code",
   "execution_count": null,
   "metadata": {},
   "outputs": [],
   "source": [
    "path = \"../../../Masteroppgave/2023-03-08_EDS-Apreo/exports/\"\n",
    "s = hs.load(path + 'GaAs_30kV_50pA.emsa', signal_type='EDS_SEM')\n",
    "elements = ['Ga', 'As']\n",
    "lines = ['Ga_Ll','Ga_La', 'As_La',  'Ga_Ka', 'Ga_Kb', 'As_Ka', 'As_Kb']\n",
    "names = ['Ga Ll','Ga Lα', 'As Lα', 'Ga Kα', 'Ga Kβ',  'As Kα', 'As Kβ']\n",
    "s.set_elements(elements)\n",
    "s.data[:33] = 0\n",
    "m = s.create_model()\n",
    "m.fit()\n",
    "scale = s.axes_manager[0].scale\n",
    "offset = s.axes_manager[0].offset\n",
    "channels = np.arange(0, 2048)\n",
    "kev = s.axes_manager[0].axis\n",
    "x = channels\n",
    "x = kev"
   ]
  },
  {
   "cell_type": "code",
   "execution_count": null,
   "metadata": {},
   "outputs": [],
   "source": [
    "def kev2channel(kev):\n",
    "    return (kev - offset) / scale\n",
    "def channel2kev(channel):\n",
    "    return channel * scale + offset\n",
    "def remove_low_values(y, threshold):\n",
    "    y[y < threshold] = np.nan\n",
    "    return y\n",
    "def theoretical_energy(line, what='energy (keV)'): # what can be 'energy (keV)' or 'weight'\n",
    "    return hs.material.elements[line.split('_')[0]]['Atomic_properties']['Xray_lines'][line.split('_')[1]][what]"
   ]
  },
  {
   "cell_type": "code",
   "execution_count": null,
   "metadata": {},
   "outputs": [],
   "source": [
    "# fig = go.Figure()\n",
    "# fig.update_layout(font=dict(family=\"EB Garamond SemiBold\", size=16, color=\"black\"), margin=dict(l=30, r=30, t=30, b=50))\n",
    "# fig.update_layout(width=800,height=400,legend=dict(yanchor=\"top\",y=0.99,xanchor=\"right\",x=0.99))\n",
    "\n",
    "\n",
    "# for l in lines:\n",
    "#     y = m[l].function(kev) * scale + m[0].function(kev) * scale\n",
    "#     y = remove_low_values(y, 100)\n",
    "#     fig.add_trace(go.Scatter(x=x, y=y, mode='lines', name=f'{l}'))# {round(theoretical_energy(l),2):>10}'))\n",
    "\n",
    "# fig.add_trace(go.Scatter(x=x, y=s.data, mode='lines', name='data', visible='legendonly'))\n",
    "# fig.add_trace(go.Scatter(x=x, y=m.as_signal().data, mode='lines', name='fit'))\n",
    "\n",
    "\n",
    "# fig.update_xaxes(title_text=\"Energy [keV]\", range=[-.2, 14.5])#, showticklabels=False)\n",
    "# fig.update_yaxes(title_text=\"Intensity [counts]\", range=[-2500, 55e3])#, showticklabels=False)\n",
    "\n",
    "# # log y\n",
    "# fig.update_yaxes(type=\"log\", range=[2, 5])\n",
    "\n",
    "# # annotations\n",
    "# # annotate E1-E(Si Ka) at 751 3000\n",
    "# # fig.add_annotation(text=\"E<sub>1</sub>\", x=130, y=47000, showarrow=False)\n",
    "# # fig.add_annotation(text=\"Si Kα\", x=215, y=6900, showarrow=False)\n",
    "\n",
    "\n",
    "# tickvals = [kev2channel(kev) for kev in [-.2, 2, 4, 6, 8, 10, 12]]\n",
    "# ticktext = [str(round(channel2kev(tickval),2)) for tickval in tickvals]\n",
    "# # fig.update_xaxes(tickvals=tickvals, ticktext=ticktext)\n",
    "\n",
    "# fig"
   ]
  },
  {
   "cell_type": "code",
   "execution_count": null,
   "metadata": {},
   "outputs": [],
   "source": [
    "fig = make_subplots(rows=3, cols=1, shared_xaxes=True, vertical_spacing=0.08) #, row_heights=[0.2, 0.8])\n",
    "fig.update_layout(font=dict(family=\"EB Garamond SemiBold\", size=16, color=\"black\"), margin=dict(l=0, r=10, t=10, b=10))\n",
    "fig.update_layout(width=800,height=600,legend=dict(yanchor=\"top\",y=1.0,xanchor=\"right\",x=1.22))\n",
    "\n",
    "fig.update_xaxes(range=[-.2, 14.5])\n",
    "fig.update_yaxes(range=[-2500, 55e3])\n",
    "fig.update_xaxes(title_text=\"Energy [keV]\", row=3, col=1)\n",
    "fig.update_yaxes(type=\"log\", range=[2, 5])\n",
    "\n",
    "fig.update_yaxes(title_text=\"(a)\", row=1, col=1, title_standoff=0)\n",
    "fig.update_yaxes(title_text='Intensity [counts]<br>(b)', row=2, col=1, title_standoff=19)\n",
    "fig.update_yaxes(title_text=\"(c)\", row=3, col=1, title_standoff=0)\n",
    "\n",
    "tickvals_y = [100, 1000, 10000, 100000]\n",
    "ticktext_y = ['0.1k', '1k', '10k', '100k']\n",
    "\n",
    "fig.update_yaxes(tickvals=tickvals_y, ticktext=ticktext_y)\n",
    "\n",
    "colors = ['#636EFA', '#EF553B', '#00CC96', '#AB63FA', '#FFA15A', '#19D3F3', '#FF6692', '#B6E880', '#FF97FF', '#FECB52'] # plotly colors\n",
    "\n",
    "# ROW 1\n",
    "for l in lines:\n",
    "    e = theoretical_energy(l)\n",
    "    w = m[l].function(e) * scale #+ m[0].function(e) * scale\n",
    "    fig.add_trace(go.Scatter(x=[e, e], y=[0, w], mode='lines', name=f'{names[lines.index(l)]}', line_color=colors[lines.index(l)], line_width=3), row=1, col=1)\n",
    "\n",
    "# ROW 2\n",
    "for l in lines:\n",
    "    buff = 0.4\n",
    "    x_range = np.arange(theoretical_energy(l) - buff, theoretical_energy(l) + buff, 0.01)\n",
    "    y = m[l].function(x_range) * scale + m[0].function(x_range) * scale\n",
    "    # y = m[l].function(x_range) * scale #+ m[0].function(x_range) * scale\n",
    "    # y = remove_low_values(y)\n",
    "    fig.add_trace(go.Scatter(x=x_range, y=y, mode='lines', line_color=colors[lines.index(l)], showlegend=False), row=2, col=1)# {round(theoretical_energy(l),2):>10}'))\n",
    "fig.add_trace(go.Scatter(x=x, y=m[0].function(x) * scale, mode='lines', name='Background', line_color=colors[-1]), row=2, col=1)\n",
    "\n",
    "# ROW 3\n",
    "# fig.add_trace(go.Scatter(x=x, y=m.as_signal().data, mode='lines', name='Fit', line_color=colors[-3]), row=3, col=1)\n",
    "fig.add_trace(go.Scatter(x=x, y=s.data, mode='lines', name='Real data', line_color=colors[-2]), row=3, col=1)\n",
    "\n",
    "a_text = names \n",
    "a_x = [0.42, 0.51, 1.9,   8.5, 9.9, 11.2, 12.3]\n",
    "a_y = [3.5,   4.7, 4.2,   4.3, 3.55,  4.1, 3.2]\n",
    "for i, t in enumerate(a_text):\n",
    "    fig.add_annotation(text=t, x=a_x[i], y=a_y[i], showarrow=False, row=1, col=1, xref='paper', yref='paper', font=dict(size=14, color=colors[i]))\n",
    "    # fig.add_annotation(text=t, x=a_x[i], y=a_y[i], showarrow=False, row=3, col=1, xref='paper', yref='paper', font=dict(size=14))\n",
    "\n",
    "    # fig.add_annotation(text=t, x=a_x[i], y=a_y[i], showarrow=False, row=2, col=1, xref='paper', yref='paper', font=dict(size=14, color=colors[i]))\n",
    "\n",
    "\n",
    "fig"
   ]
  },
  {
   "cell_type": "code",
   "execution_count": null,
   "metadata": {},
   "outputs": [],
   "source": [
    "fig.write_image(\"../figures/theoretical2realSpectrum.pdf\")\n",
    "fig.write_image('../../mastersthesis/figures/eds_theoretical2realSpectrum.pdf')"
   ]
  }
 ],
 "metadata": {
  "kernelspec": {
   "display_name": "hspy",
   "language": "python",
   "name": "python3"
  },
  "language_info": {
   "codemirror_mode": {
    "name": "ipython",
    "version": 3
   },
   "file_extension": ".py",
   "mimetype": "text/x-python",
   "name": "python",
   "nbconvert_exporter": "python",
   "pygments_lexer": "ipython3",
   "version": "3.8.16"
  },
  "orig_nbformat": 4
 },
 "nbformat": 4,
 "nbformat_minor": 2
}
