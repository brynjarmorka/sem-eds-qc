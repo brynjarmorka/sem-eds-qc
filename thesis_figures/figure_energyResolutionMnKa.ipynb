{
 "cells": [
  {
   "cell_type": "code",
   "execution_count": null,
   "metadata": {},
   "outputs": [],
   "source": [
    "import numpy as np\n",
    "import plotly.graph_objects as go\n",
    "import hyperspy.api as hs\n",
    "from plotly.subplots import make_subplots"
   ]
  },
  {
   "cell_type": "code",
   "execution_count": null,
   "metadata": {},
   "outputs": [],
   "source": [
    "path = \"../../../Masteroppgave/2023-03-08_EDS-Apreo/exports/\"\n",
    "s = hs.load(path + 'GaAs_30kV_50pA.emsa', signal_type='EDS_SEM')\n",
    "elements = ['Ga', 'As']\n",
    "lines = ['Ga_Ll','Ga_La', 'As_La',  'Ga_Ka', 'Ga_Kb', 'As_Ka', 'As_Kb']\n",
    "names = ['Ga Ll','Ga Lα', 'As Lα', 'Ga Kα', 'Ga Kβ',  'As Kα', 'As Kβ']\n",
    "s.set_elements(elements)\n",
    "s.data[:33] = 0\n",
    "m = s.create_model()\n",
    "m.fit()\n",
    "scale = s.axes_manager[0].scale\n",
    "offset = s.axes_manager[0].offset\n",
    "kev = s.axes_manager[0].axis\n",
    "x = kev\n",
    "colors = ['#636EFA', '#EF553B', '#00CC96', '#AB63FA', '#FFA15A', '#19D3F3', '#FF6692', '#B6E880', '#FF97FF', '#FECB52'] # plotly colors"
   ]
  },
  {
   "cell_type": "code",
   "execution_count": null,
   "metadata": {},
   "outputs": [],
   "source": [
    "def kev2channel(kev):\n",
    "    return (kev - offset) / scale\n",
    "def channel2kev(channel):\n",
    "    return channel * scale + offset\n",
    "def remove_low_values(y, threshold):\n",
    "    y[y < threshold] = np.nan\n",
    "    return y\n",
    "def theoretical_energy(line, what='energy (keV)'): # what can be 'energy (keV)' or 'weight'\n",
    "    return hs.material.elements[line.split('_')[0]]['Atomic_properties']['Xray_lines'][line.split('_')[1]][what]"
   ]
  },
  {
   "cell_type": "code",
   "execution_count": null,
   "metadata": {},
   "outputs": [],
   "source": [
    "def gaussian2(x, x0, fwhm, area):\n",
    "    fwhm = fwhm / 1000  # eV to keV\n",
    "    sigma = fwhm / 2.35482\n",
    "    return area / (sigma * np.sqrt(2 * np.pi)) * np.exp(-((x - x0) / sigma)**2 / 2)\n",
    "def fwhm2sigma(fwhm):\n",
    "    return fwhm / (2 * np.sqrt(2 * np.log(2)))"
   ]
  },
  {
   "cell_type": "code",
   "execution_count": null,
   "metadata": {},
   "outputs": [],
   "source": [
    "fig = go.Figure()\n",
    "fig.update_layout(font=dict(family=\"EB Garamond SemiBold\", size=16, color=\"black\"))\n",
    "fig.update_layout(legend=dict(yanchor=\"top\",y=0.99,xanchor=\"right\",x=0.99))\n",
    "fig.update_layout(width=800,height=500,)\n",
    "fig.update_layout(margin=dict(l=20, r=20, t=20, b=20))\n",
    "\n",
    "fig.update_xaxes(title='Energy [keV]', range=[5.55,6.25])\n",
    "fig.update_yaxes(title='Intensity [counts]', range=[-1500, 3.5e4])\n",
    "\n",
    "fwhms = [120, 130, 160, 200]\n",
    "e = 5.8987\n",
    "area = 4000\n",
    "g = []\n",
    "for fwhm in fwhms:\n",
    "    g.append(gaussian2(x, e, fwhm, area))\n",
    "    fig.add_trace(go.Scatter(x=x, y=g[-1]+1000, name=f'FWHM = {fwhm} eV', mode='lines', line_width=3))\n",
    "\n",
    "fig.add_vline(x=e, line_width=2, line_color=\"Grey\")#, line_dash=\"dash\")\n",
    "fig.add_annotation(x=e-.09, y=3.3e4, xref=\"x\", yref=\"y\", text=\"Mn Kα, 5.8987 keV\", showarrow=False, font=dict(size=16, color=\"Grey\"))\n",
    "\n",
    "g_max = np.max(g, axis=1)\n",
    "for i in range(len(fwhms)):\n",
    "    fig.add_trace(go.Scatter(x=[e-fwhms[i]/1000/2, e+fwhms[i]/1000/2], y=[g_max[i]/2, g_max[i]/2], mode='lines', line_width=2, line_color=colors[i], showlegend=False, name=f'FWHM = {fwhms[i]} eV', line_dash='dot'))\n",
    "\n",
    "fig"
   ]
  },
  {
   "cell_type": "code",
   "execution_count": null,
   "metadata": {},
   "outputs": [],
   "source": [
    "fwhms = [120, 130, 160, 200]\n",
    "e = 5.8987\n",
    "area = 4000\n",
    "g = []"
   ]
  },
  {
   "cell_type": "code",
   "execution_count": null,
   "metadata": {},
   "outputs": [],
   "source": [
    "fig = make_subplots(rows=1, cols=2, shared_xaxes=True, horizontal_spacing=0.06)\n",
    "fig.update_layout(font=dict(family=\"EB Garamond SemiBold\", size=16, color=\"black\"))\n",
    "fig.update_layout(legend=dict(yanchor=\"top\",y=0.99,xanchor=\"right\",x=0.99))\n",
    "fig.update_layout(width=1200,height=500,)\n",
    "fig.update_layout(margin=dict(l=10, r=10, t=10, b=70))\n",
    "\n",
    "# fig.update_xaxes(title='Energy [keV]', range=[5.55,6.25])\n",
    "fig.update_xaxes(range=[5.55,6.25])\n",
    "\n",
    "# fig.update_yaxes(title='(b)', range=[-1500, 3.5e4], row=1, col=2, title_standoff=0)\n",
    "# fig.update_yaxes(type=\"log\", range=[2.9, 4.65],title='Intensity [counts]<br>(a)', row=1, col=1, title_standoff=0)\n",
    "fig.update_yaxes(range=[-1500, 3.5e4], row=1, col=2, title_standoff=0)\n",
    "fig.update_yaxes(type=\"log\", range=[2.9, 4.65],title='Intensity [counts]', row=1, col=1, title_standoff=0)\n",
    "fig.update_xaxes(title='(a)', row=1, col=1, title_standoff=0)\n",
    "fig.update_xaxes(title='(b)', row=1, col=2, title_standoff=0)\n",
    "\n",
    "\n",
    "for fwhm in fwhms:\n",
    "    g.append(gaussian2(x, e, fwhm, area))\n",
    "    fig.add_trace(go.Scatter(x=x, y=g[-1]+1000, name=f'FWHM = {fwhm} eV', mode='lines', line_width=3, line_color=colors[fwhms.index(fwhm)]), row=1, col=2)\n",
    "                            #  ), row=1, col=2)\n",
    "    fig.add_trace(go.Scatter(x=x, y=g[-1]+1000, name=f'FWHM = {fwhm} eV', mode='lines', line_width=3, line_color=colors[fwhms.index(fwhm)], showlegend=False), row=1, col=1)\n",
    "\n",
    "fig.add_vline(x=e, line_width=2, line_color=\"Grey\")\n",
    "# fig.add_annotation(x=e-.09, y=3.3e4, xref=\"x\", yref=\"y\", text=\"Mn Kα, 5.8987 keV\", showarrow=False, font=dict(size=16, color=\"Grey\"), row=1, col=1)\n",
    "fig.add_annotation(x=e-.1, y=4.58, xref=\"x\", yref=\"y\", text=\"Mn Kα, 5.8987 keV\", showarrow=False, font=dict(size=16, color=\"Grey\"), row=1, col=1)\n",
    "\n",
    "\n",
    "g_max = np.max(g, axis=1)\n",
    "for i in range(len(fwhms)):\n",
    "    fig.add_trace(go.Scatter(x=[e-fwhms[i]/1000/2, e+fwhms[i]/1000/2], y=[g_max[i]/2, g_max[i]/2], mode='lines', line_width=2, line_color=colors[i], \n",
    "                             showlegend=False, name=f'FWHM = {fwhms[i]} eV', line_dash='dot'), row=1, col=2)\n",
    "    fig.add_trace(go.Scatter(x=[e-fwhms[i]/1000/2, e+fwhms[i]/1000/2], y=[g_max[i]/2, g_max[i]/2], mode='lines', line_width=2, line_color=colors[i], \n",
    "                             showlegend=False, name=f'FWHM = {fwhms[i]} eV', line_dash='dot'), row=1, col=1)\n",
    "\n",
    "# setting a title at the bottom of the figure\n",
    "fig.update_layout(title_text=\"Energy [keV]\", title_x=0.52, title_y=0.01, title_font_size=16)\n",
    "\n",
    "fig"
   ]
  },
  {
   "cell_type": "code",
   "execution_count": null,
   "metadata": {},
   "outputs": [],
   "source": [
    "fig.write_image(\"../figures/energyResolutionsMnKa.pdf\")\n",
    "fig.write_image('../../mastersthesis/figures/eds_energyResolutionsMnKa.pdf')"
   ]
  }
 ],
 "metadata": {
  "kernelspec": {
   "display_name": "hspy",
   "language": "python",
   "name": "python3"
  },
  "language_info": {
   "codemirror_mode": {
    "name": "ipython",
    "version": 3
   },
   "file_extension": ".py",
   "mimetype": "text/x-python",
   "name": "python",
   "nbconvert_exporter": "python",
   "pygments_lexer": "ipython3",
   "version": "3.8.16"
  },
  "orig_nbformat": 4
 },
 "nbformat": 4,
 "nbformat_minor": 2
}
