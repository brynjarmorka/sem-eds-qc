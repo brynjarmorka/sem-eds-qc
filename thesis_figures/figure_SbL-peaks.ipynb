{
 "cells": [
  {
   "cell_type": "markdown",
   "metadata": {},
   "source": [
    "# The Sb L peaks \n",
    "\n",
    "## Theory, after table with Siegbahn and IUPAC notation"
   ]
  },
  {
   "cell_type": "code",
   "execution_count": null,
   "metadata": {},
   "outputs": [],
   "source": [
    "import hyperspy.api as hs\n",
    "import numpy as np\n",
    "import matplotlib.pyplot as plt\n",
    "import plotly.graph_objects as go\n",
    "import pandas as pd"
   ]
  },
  {
   "cell_type": "code",
   "execution_count": null,
   "metadata": {},
   "outputs": [],
   "source": [
    "def theoretical_energy(line):\n",
    "    element = line.split('_')[0]\n",
    "    line_name = line.split('_')[1]\n",
    "    return hs.material.elements[element]['Atomic_properties']['Xray_lines'][line_name]['energy (keV)']\n",
    "\n",
    "def add_line(fig, line, name, color='black'):\n",
    "    txt = name\n",
    "    fig.add_vline(x=theoretical_energy(line), line_width=0.5, line_dash=\"dash\", line_color=color, annotation_text=txt, annotation_position=\"top right\", annotation_textangle=90)"
   ]
  },
  {
   "cell_type": "code",
   "execution_count": null,
   "metadata": {},
   "outputs": [],
   "source": [
    "import os\n",
    "path = \"../../../Masteroppgave/2023-03-08_EDS-Apreo/exports/\"\n",
    "files = os.listdir(path)"
   ]
  },
  {
   "cell_type": "code",
   "execution_count": null,
   "metadata": {},
   "outputs": [],
   "source": [
    "# s2 = hs.load(path + 'GaSb_30kV_400pA_processTime1.emsa', signal_type='EDS_SEM')\n",
    "s = hs.load(path + 'GaSb_30kV_50pA.emsa', signal_type='EDS_SEM')\n",
    "lines = ['Sb_Ll', 'Sb_La', 'Sb_Lb1', 'Sb_Lb2', 'Sb_Lb3', 'Sb_Lb4',  'Sb_Lg1', 'Sb_Lg3']\n",
    "names = ['Ll', 'Lα', 'Lβ<sub>1</sub>', 'Lβ<sub>2</sub>', 'Lβ<sub>3</sub>', 'Lβ<sub>4</sub>', 'Lγ<sub>1</sub>', 'Lγ<sub>3</sub>']"
   ]
  },
  {
   "cell_type": "code",
   "execution_count": null,
   "metadata": {},
   "outputs": [],
   "source": [
    "zero_peak_slice = 33 # zero peak slice in calibration of GaAs from Sept 2022\n",
    "scale = 0.01\n",
    "offset = 0.1242 - zero_peak_slice * scale\n",
    "channels = 2048\n",
    "x = np.arange(offset, offset + channels * scale, scale)"
   ]
  },
  {
   "cell_type": "code",
   "execution_count": null,
   "metadata": {},
   "outputs": [],
   "source": [
    "fig = go.Figure()\n",
    "fig.update_layout(xaxis_title='Energy (keV)', yaxis_title='Counts')\n",
    "fig.update_yaxes(type=\"log\")\n",
    "\n",
    "fig.update_layout(font=dict(family=\"EB Garamond SemiBold\", size=16, color=\"black\"))\n",
    "fig.update_layout(margin=dict(l=20, r=20, t=20, b=20))\n",
    "fig.update_layout(xaxis_title='Energy [keV]', yaxis_title='Intensity [counts]')\n",
    "\n",
    "fig.add_trace(go.Scatter(x=x, y=s.data, name='GaSb'))\n",
    "for i in range (len(lines)):\n",
    "    add_line(fig, lines[i], names[i])\n",
    "\n",
    "xlim = [3, 4.7]\n",
    "fig.update_xaxes(range=xlim)\n",
    "ylim = [2.78, 4.9]\n",
    "fig.update_yaxes(range=ylim)\n",
    "\n",
    "fig.update_layout(legend=dict( yanchor=\"top\", y=0.95, xanchor=\"left\", x=0.01))\n",
    "fig.update_layout(showlegend=True)\n",
    "\n",
    "fig.update_layout(width=900, height=350)\n",
    "tickvals_y = [1000, 10000, 1e5]\n",
    "ticktext_y = ['1k', '10k', '100k']\n",
    "fig.update_yaxes(tickvals=tickvals_y, ticktext=ticktext_y)\n",
    "\n",
    "\n",
    "\n"
   ]
  },
  {
   "cell_type": "code",
   "execution_count": null,
   "metadata": {},
   "outputs": [],
   "source": [
    "fig.write_image('../figures/Sb_L-peaks_30kV_50pA.pdf')\n",
    "fig.write_image('../../mastersthesis/figures/Sb_L-peaks_30kV_50pA.pdf')"
   ]
  }
 ],
 "metadata": {
  "kernelspec": {
   "display_name": "hspy",
   "language": "python",
   "name": "python3"
  },
  "language_info": {
   "codemirror_mode": {
    "name": "ipython",
    "version": 3
   },
   "file_extension": ".py",
   "mimetype": "text/x-python",
   "name": "python",
   "nbconvert_exporter": "python",
   "pygments_lexer": "ipython3",
   "version": "3.8.16"
  },
  "orig_nbformat": 4
 },
 "nbformat": 4,
 "nbformat_minor": 2
}
