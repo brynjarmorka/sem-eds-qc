{
 "cells": [
  {
   "cell_type": "code",
   "execution_count": null,
   "metadata": {},
   "outputs": [],
   "source": [
    "import numpy as np\n",
    "import plotly.graph_objects as go\n",
    "import hyperspy.api as hs"
   ]
  },
  {
   "cell_type": "code",
   "execution_count": null,
   "metadata": {},
   "outputs": [],
   "source": [
    "path = \"../../../Masteroppgave/2023-03-08_EDS-Apreo/exports/\"\n",
    "s = hs.load(path + 'GaAs_30kV_50pA.emsa', signal_type='EDS_SEM')\n",
    "elements = ['Ga', 'As']\n",
    "s.set_elements(elements)"
   ]
  },
  {
   "cell_type": "code",
   "execution_count": null,
   "metadata": {},
   "outputs": [],
   "source": [
    "noise_peak = s.isig[15:28].deepcopy()\n",
    "noise_peak_channels = np.arange(15, 28)\n",
    "np_kev = noise_peak.axes_manager[0].scale"
   ]
  },
  {
   "cell_type": "code",
   "execution_count": null,
   "metadata": {},
   "outputs": [],
   "source": [
    "s.data[:33] = 0\n",
    "x = s.axes_manager.signal_axes[0].axis\n",
    "m = s.create_model()\n",
    "m.fit()\n",
    "'f'"
   ]
  },
  {
   "cell_type": "code",
   "execution_count": null,
   "metadata": {},
   "outputs": [],
   "source": [
    "scale = s.axes_manager[0].scale\n",
    "offset = s.axes_manager[0].offset"
   ]
  },
  {
   "cell_type": "code",
   "execution_count": null,
   "metadata": {},
   "outputs": [],
   "source": [
    "def kev2channel(kev):\n",
    "    return (kev - offset) / scale\n",
    "def channel2kev(channel):\n",
    "    return channel * scale + offset\n",
    "def remove_low_values(y, threshold):\n",
    "    y[y < threshold] = np.nan\n",
    "    return y"
   ]
  },
  {
   "cell_type": "code",
   "execution_count": null,
   "metadata": {},
   "outputs": [],
   "source": [
    "internal_Si = (noise_peak.data * 0.5) + 610\n",
    "internal_Si_channels = noise_peak_channels + 175\n",
    "internal_Si_x = np_kev + 1.74"
   ]
  },
  {
   "cell_type": "code",
   "execution_count": null,
   "metadata": {},
   "outputs": [],
   "source": [
    "bg_channels = np.arange(0, 2048)\n",
    "bg_kev = bg_channels * scale + offset\n",
    "bg = m[0].function(bg_kev) * scale"
   ]
  },
  {
   "cell_type": "code",
   "execution_count": null,
   "metadata": {},
   "outputs": [],
   "source": [
    "w = .6\n",
    "\n",
    "e1 = 1.089\n",
    "gaLa = np.arange(e1-w, e1+w, .004)\n",
    "gaLa_channels = np.array([kev2channel(kev) for kev in gaLa])\n",
    "e2 = 9.2517\n",
    "gaKa = np.arange(e2-w, e2+w, .004)\n",
    "gaKa_channels = np.array([kev2channel(kev) for kev in gaKa])\n",
    "\n",
    "\n",
    "y_GaLa = (m['Ga_La'].function(gaLa) )* scale# + m[0].function(gaLa) \n",
    "y_GaKa = (m['Ga_Ka'].function(gaKa) )* scale"
   ]
  },
  {
   "cell_type": "code",
   "execution_count": null,
   "metadata": {},
   "outputs": [],
   "source": [
    "y_GaLa = remove_low_values(y_GaLa, 435)\n",
    "y_GaKa = remove_low_values(y_GaKa, 400)"
   ]
  },
  {
   "cell_type": "code",
   "execution_count": null,
   "metadata": {},
   "outputs": [],
   "source": [
    "sum_peak = y_GaLa * 0.25 + 750\n",
    "sum_peak_channels = gaLa_channels + kev2channel(e1)"
   ]
  },
  {
   "cell_type": "code",
   "execution_count": null,
   "metadata": {},
   "outputs": [],
   "source": [
    "escape_peak = y_GaKa *0.12 + 550\n",
    "escape_peak_channels = gaKa_channels - kev2channel(1.74)"
   ]
  },
  {
   "cell_type": "code",
   "execution_count": null,
   "metadata": {},
   "outputs": [],
   "source": [
    "channel2kev(215)"
   ]
  },
  {
   "cell_type": "code",
   "execution_count": null,
   "metadata": {},
   "outputs": [],
   "source": [
    "fig = go.Figure()\n",
    "fig.update_layout(font=dict(family=\"EB Garamond SemiBold\", size=16, color=\"black\"))\n",
    "fig.update_layout(legend=dict(yanchor=\"top\",y=0.99,xanchor=\"right\",x=0.995))\n",
    "fig.update_layout(width=800,height=400,)\n",
    "fig.update_layout(margin=dict(l=5, r=5, t=5, b=5))\n",
    "channels = np.arange(0, 2048)\n",
    "x=channels\n",
    "y = s.data\n",
    "y2 = m.as_signal().data\n",
    "\n",
    "# fig.add_trace(go.Scatter(x=x, y=y, mode='lines', name='data', visible='legendonly'))\n",
    "# fig.add_trace(go.Scatter(x=x, y=y2, mode='lines', name='fit'))\n",
    "\n",
    "fig.add_trace(go.Scatter(x=gaLa_channels, y=y_GaLa, mode='lines', name='Peak at E<sub>1</sub>'))\n",
    "fig.add_trace(go.Scatter(x=gaKa_channels, y=y_GaKa, mode='lines', name='Peak at E<sub>2</sub>'))\n",
    "fig.add_trace(go.Scatter(x=noise_peak_channels-13, y=noise_peak*1, mode='lines', name='Noise peak'))\n",
    "fig.add_trace(go.Scatter(x=internal_Si_channels, y=internal_Si, mode='lines', name='Internal Si Kα'))\n",
    "fig.add_trace(go.Scatter(x=sum_peak_channels, y=sum_peak, mode='lines', name='E<sub>1</sub> sum peak'))\n",
    "fig.add_trace(go.Scatter(x=escape_peak_channels, y=escape_peak, mode='lines', name='E<sub>2</sub> escape peak'))\n",
    "fig.add_trace(go.Scatter(x=bg_channels, y=bg, mode='lines', name='Background', line=dict(color='black')))\n",
    "\n",
    "\n",
    "fig.update_xaxes(range=[-10, 1250])\n",
    "\n",
    "fig.update_xaxes(title_text=\"Energy [keV]\")#, showticklabels=False)\n",
    "fig.update_yaxes(title_text=\"Intensity [counts]\")#, showticklabels=False)\n",
    "\n",
    "\n",
    "# annotations\n",
    "# annotate E1-E(Si Ka) at 751 3000\n",
    "fig.add_annotation(text=\"E<sub>1</sub>\", x=130, y=47000, showarrow=False)\n",
    "fig.add_annotation(text=\"Sum peak<br>2×E<sub>1</sub>\", x=267, y=15500, showarrow=False)\n",
    "fig.add_annotation(text=\"Escape peak<br>E<sub>2</sub>-E(Si Kα)\", x=750, y=6300, showarrow=False)\n",
    "# annotate E1 at 945 18k\n",
    "fig.add_annotation(text=\"E<sub>2</sub>\", x=945, y=19500, showarrow=False)\n",
    "# annotate Si Ka at215 6500\n",
    "fig.add_annotation(text=\"Stray<br>Si Kα\", x=200, y=9300, showarrow=False)\n",
    "# annotate 0 at 12 19k\n",
    "fig.add_annotation(text=\"Noise<br>peak\", x=35, y=14100, showarrow=False, )# font=dict(size=12))\n",
    "\n",
    "\n",
    "# tickvals = [0, 200, 400, 600, 800, 1000, 1200, 1400]\n",
    "# tickvals are -.2, 2, 4, 6, 8, 10, 12\n",
    "tickvals = [kev2channel(kev) for kev in [2, 4, 6, 8, 10, 12]]\n",
    "ticktext = [str(round(channel2kev(tickval),2)) for tickval in tickvals]\n",
    "fig.update_xaxes(tickvals=[0] + tickvals, ticktext=['0'] + ticktext)\n",
    "# show only tick 0 for y axis\n",
    "# fig.update_yaxes(tickvals=[0], ticktext=['0'])\n",
    "\n",
    "# fig.update_layout(yaxis_type='log')\n",
    "\n",
    "fig"
   ]
  },
  {
   "cell_type": "code",
   "execution_count": null,
   "metadata": {},
   "outputs": [],
   "source": [
    "fig.write_image('../figures/figure_artifacts.pdf')\n",
    "fig.write_image('../../mastersthesis/figures/eds_artifacts.pdf')"
   ]
  },
  {
   "cell_type": "code",
   "execution_count": null,
   "metadata": {},
   "outputs": [],
   "source": []
  }
 ],
 "metadata": {
  "kernelspec": {
   "display_name": "hspy",
   "language": "python",
   "name": "python3"
  },
  "language_info": {
   "codemirror_mode": {
    "name": "ipython",
    "version": 3
   },
   "file_extension": ".py",
   "mimetype": "text/x-python",
   "name": "python",
   "nbconvert_exporter": "python",
   "pygments_lexer": "ipython3",
   "version": "3.8.16"
  },
  "orig_nbformat": 4
 },
 "nbformat": 4,
 "nbformat_minor": 2
}
