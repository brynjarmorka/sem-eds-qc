{
 "cells": [
  {
   "cell_type": "code",
   "execution_count": null,
   "metadata": {},
   "outputs": [],
   "source": [
    "import numpy as np\n",
    "import plotly.graph_objects as go\n",
    "import hyperspy.api as hs"
   ]
  },
  {
   "cell_type": "code",
   "execution_count": null,
   "metadata": {},
   "outputs": [],
   "source": [
    "path = \"../../../Masteroppgave/2023-03-08_EDS-Apreo/exports/\"\n",
    "path = \"../../../Masteroppgave/2022-09-06_EDS-Apreo/exports/\"\n",
    "\n",
    "# s = hs.load(path + 'GaAs_15kV_25pA.emsa', signal_type='EDS_SEM')\n",
    "# s = hs.load(path + 'GaSb_05kV_50pA.emsa', signal_type='EDS_SEM')\n",
    "\n",
    "s = hs.load(path + 'GaAs_10kV.emsa', signal_type='EDS_SEM')\n",
    "\n",
    "elements = ['Ga', 'As']\n",
    "s.set_elements(elements)"
   ]
  },
  {
   "cell_type": "code",
   "execution_count": null,
   "metadata": {},
   "outputs": [],
   "source": [
    "s.data[:33] = 0\n",
    "m = s.create_model()\n",
    "m.fit()\n",
    "scale = s.axes_manager[0].scale\n",
    "offset = s.axes_manager[0].offset\n",
    "x = s.axes_manager[0].axis\n",
    "Vacc = s.metadata.Acquisition_instrument.SEM.beam_energy"
   ]
  },
  {
   "cell_type": "code",
   "execution_count": null,
   "metadata": {},
   "outputs": [],
   "source": [
    "buffer_start=2\n",
    "buffer_end=0.1\n",
    "xaxis_plot_buffer=0.5"
   ]
  },
  {
   "cell_type": "code",
   "execution_count": null,
   "metadata": {},
   "outputs": [],
   "source": [
    "s_dh = s.deepcopy() \n",
    "# making the lin fit of the background right before Vacc\n",
    "dh_start = Vacc-buffer_start\n",
    "dh_end = Vacc-buffer_end\n",
    "s_end = s_dh.isig[dh_start:dh_end] # slice with keV\n",
    "m_end = s_end.create_model(auto_background=False)\n",
    "m_end.add_polynomial_background(order=1)\n",
    "m_end.fit()\n",
    "\n",
    "x_s_end = s_dh.isig[dh_start-xaxis_plot_buffer:dh_end+xaxis_plot_buffer].axes_manager[0].axis\n",
    "dh_bg_zero_index = np.argmin(np.abs(m_end[-1].function(x_s_end) * s_dh.axes_manager[0].scale))\n",
    "\n",
    "dh_limit = x_s_end[dh_bg_zero_index]\n",
    "print(f'Duane-Hunt limit: {dh_limit:.3f} keV')"
   ]
  },
  {
   "cell_type": "code",
   "execution_count": null,
   "metadata": {},
   "outputs": [],
   "source": [
    "%matplotlib qt"
   ]
  },
  {
   "cell_type": "code",
   "execution_count": null,
   "metadata": {},
   "outputs": [],
   "source": [
    "s.plot()"
   ]
  },
  {
   "cell_type": "code",
   "execution_count": null,
   "metadata": {},
   "outputs": [],
   "source": [
    "plot_buffer = 1.2\n",
    "fig = go.Figure()\n",
    "fig.update_layout(font=dict(family=\"EB Garamond SemiBold\", size=14, color=\"black\"))\n",
    "fig.update_layout(width=800, height=400)\n",
    "fig.update_layout(margin=dict(l=0, r=0, t=0, b=0))\n",
    "fig.update_layout(legend=dict(x=0.7, y=0.92))\n",
    "fig.update_layout(xaxis_title='Energy [keV]', yaxis_title='Inensity [counts]')\n",
    "fig.add_trace(go.Scatter(x=x, y=s_dh, mode='markers', name='Spectrum data'))\n",
    "fig.add_trace(go.Scatter(x=x_s_end, y=m_end[-1].function(x_s_end)* s_dh.axes_manager[0].scale, mode='lines', name='Linear fit of background'))\n",
    "# fig.add_trace(go.Scatter(x=s_end.axes_manager[0].axis, y=s_end.data, mode='lines+markers', name='Points in bg lin. fit'))\n",
    "fig.add_trace(go.Scatter(x=[Vacc, Vacc], y=[-10, 250], mode='lines', name='Nominal beam energy (V<sub>acc</sub>)', line_color='grey', line_dash=\"dash\"))\n",
    "fig.add_trace(go.Scatter(x=[dh_limit, dh_limit], y=[-10, 250], mode='lines', name='Effective beam energy (E<sub>0</sub>)', line_color='black'))\n",
    "fig.update_xaxes(range=[Vacc-buffer_start*.6, dh_limit + buffer_end+plot_buffer*.5])\n",
    "fig.update_yaxes(range=[-5, m_end[-1].function(x_s_end).max() * s_dh.axes_manager[0].scale*0.55])\n",
    "fig.add_annotation(x=10.5, y=25, text=\"Coincidence counts\", showarrow=False)\n",
    "fig.add_annotation(x=dh_limit, y=40, text=f\"E<sub>0</sub> = {dh_limit:.3f} keV\", showarrow=True, arrowhead=False, ax=70, ay=-80)\n",
    "fig.add_annotation(x=Vacc, y=40, text=f\"V<sub>acc</sub> = {Vacc:.3f} keV\", showarrow=True, arrowhead=False, ax=-70, ay=-80)\n",
    "\n",
    "fig.show()\n",
    "# fig.write_image('Duane-Hunt_GaAb15kV50pA.png', width=800, height=400, scale=2)"
   ]
  },
  {
   "cell_type": "code",
   "execution_count": null,
   "metadata": {},
   "outputs": [],
   "source": []
  },
  {
   "cell_type": "code",
   "execution_count": null,
   "metadata": {},
   "outputs": [],
   "source": [
    "fig.write_image('../figures/Duane-Hunt.pdf')\n",
    "fig.write_image('../../mastersthesis/figures/Duane-Hunt.pdf')"
   ]
  },
  {
   "cell_type": "markdown",
   "metadata": {},
   "source": [
    "# Better hit, but fewer counts"
   ]
  },
  {
   "cell_type": "code",
   "execution_count": null,
   "metadata": {},
   "outputs": [],
   "source": [
    "path = \"../../../Masteroppgave/2023-03-08_EDS-Apreo/exports/\"\n",
    "s = hs.load(path + 'GaSb_10kV_50pA.emsa', signal_type='EDS_SEM')\n",
    "elements = ['Ga', 'Sb']\n",
    "s.set_elements(elements)"
   ]
  },
  {
   "cell_type": "code",
   "execution_count": null,
   "metadata": {},
   "outputs": [],
   "source": [
    "s.data[:33] = 0\n",
    "m = s.create_model()\n",
    "m.fit()\n",
    "scale = s.axes_manager[0].scale\n",
    "offset = s.axes_manager[0].offset\n",
    "x = s.axes_manager[0].axis\n",
    "Vacc = s.metadata.Acquisition_instrument.SEM.beam_energy"
   ]
  },
  {
   "cell_type": "code",
   "execution_count": null,
   "metadata": {},
   "outputs": [],
   "source": [
    "buffer_start=2\n",
    "buffer_end=0.1\n",
    "xaxis_plot_buffer=0.5"
   ]
  },
  {
   "cell_type": "code",
   "execution_count": null,
   "metadata": {},
   "outputs": [],
   "source": [
    "s_dh = s.deepcopy() \n",
    "# making the lin fit of the background right before Vacc\n",
    "dh_start = Vacc-buffer_start\n",
    "dh_end = Vacc-buffer_end\n",
    "s_end = s_dh.isig[dh_start:dh_end] # slice with keV\n",
    "m_end = s_end.create_model(auto_background=False)\n",
    "m_end.add_polynomial_background(order=1)\n",
    "m_end.fit()\n",
    "\n",
    "x_s_end = s_dh.isig[dh_start-xaxis_plot_buffer:dh_end+xaxis_plot_buffer].axes_manager[0].axis\n",
    "dh_bg_zero_index = np.argmin(np.abs(m_end[-1].function(x_s_end) * s_dh.axes_manager[0].scale))\n",
    "\n",
    "dh_limit = x_s_end[dh_bg_zero_index]\n",
    "print(f'Duane-Hunt limit: {dh_limit:.3f} keV')"
   ]
  },
  {
   "cell_type": "code",
   "execution_count": null,
   "metadata": {},
   "outputs": [],
   "source": [
    "plot_buffer = 1.2\n",
    "fig = go.Figure()\n",
    "fig.update_layout(font=dict(family=\"EB Garamond SemiBold\", size=14, color=\"black\"))\n",
    "fig.update_layout(width=800, height=400)\n",
    "fig.update_layout(margin=dict(l=0, r=0, t=0, b=0))\n",
    "fig.update_layout(legend=dict(x=0.7, y=0.92))\n",
    "fig.update_layout(xaxis_title='Energy [keV]', yaxis_title='Inensity [counts]')\n",
    "fig.add_trace(go.Scatter(x=x, y=s_dh, mode='markers', name='Spectrum data'))\n",
    "fig.add_trace(go.Scatter(x=x_s_end, y=m_end[-1].function(x_s_end)* s_dh.axes_manager[0].scale, mode='lines', name='Linear fit of background'))\n",
    "# fig.add_trace(go.Scatter(x=s_end.axes_manager[0].axis, y=s_end.data, mode='lines+markers', name='Points in bg lin. fit'))\n",
    "fig.add_trace(go.Scatter(x=[Vacc, Vacc], y=[-10, 250], mode='lines', name='Nominal beam energy (V<sub>acc</sub>)', line_color='grey', line_dash=\"dash\"))\n",
    "fig.add_trace(go.Scatter(x=[dh_limit, dh_limit], y=[-10, 250], mode='lines', name='Effective beam energy (E<sub>0</sub>)', line_color='black'))\n",
    "fig.update_xaxes(range=[Vacc-buffer_start*.6, dh_limit + buffer_end+plot_buffer*.5])\n",
    "fig.update_yaxes(range=[-5, m_end[-1].function(x_s_end).max() * s_dh.axes_manager[0].scale*0.55])\n",
    "fig.add_annotation(x=10.5, y=25, text=\"Coincidence counts\", showarrow=False)\n",
    "fig.add_annotation(x=dh_limit, y=40, text=f\"E<sub>0</sub> = {dh_limit:.3f} keV\", showarrow=True, arrowhead=False, ax=70, ay=-80)\n",
    "fig.add_annotation(x=Vacc, y=40, text=f\"V<sub>acc</sub> = {Vacc:.3f} keV\", showarrow=True, arrowhead=False, ax=-70, ay=-80)\n",
    "\n",
    "fig.show()"
   ]
  },
  {
   "cell_type": "code",
   "execution_count": null,
   "metadata": {},
   "outputs": [],
   "source": []
  }
 ],
 "metadata": {
  "kernelspec": {
   "display_name": "hspy",
   "language": "python",
   "name": "python3"
  },
  "language_info": {
   "codemirror_mode": {
    "name": "ipython",
    "version": 3
   },
   "file_extension": ".py",
   "mimetype": "text/x-python",
   "name": "python",
   "nbconvert_exporter": "python",
   "pygments_lexer": "ipython3",
   "version": "3.8.16"
  },
  "orig_nbformat": 4
 },
 "nbformat": 4,
 "nbformat_minor": 2
}
