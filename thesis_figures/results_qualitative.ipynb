{
 "cells": [
  {
   "cell_type": "code",
   "execution_count": null,
   "metadata": {},
   "outputs": [],
   "source": [
    "import numpy as np\n",
    "import plotly.graph_objects as go\n",
    "import hyperspy.api as hs\n",
    "from plotly.subplots import make_subplots"
   ]
  },
  {
   "cell_type": "code",
   "execution_count": null,
   "metadata": {},
   "outputs": [],
   "source": [
    "import os\n",
    "path = \"../../../Masteroppgave/2023-03-08_EDS-Apreo/exports/\"\n",
    "files = os.listdir(path)\n",
    "files"
   ]
  },
  {
   "cell_type": "code",
   "execution_count": null,
   "metadata": {},
   "outputs": [],
   "source": [
    "def theoretical_energy(line, what='energy (keV)'): # what can be 'energy (keV)' or 'weight'\n",
    "    return hs.material.elements[line.split('_')[0]]['Atomic_properties']['Xray_lines'][line.split('_')[1]][what]\n",
    "\n",
    "theoretical_energy('Ga_Ka') - theoretical_energy('Si_Ka')"
   ]
  },
  {
   "cell_type": "code",
   "execution_count": null,
   "metadata": {},
   "outputs": [],
   "source": [
    "9.25-1.74"
   ]
  },
  {
   "cell_type": "code",
   "execution_count": null,
   "metadata": {},
   "outputs": [],
   "source": [
    "s = hs.load(path + 'GaSb_30kV_50pA.emsa', signal_type='EDS_SEM')\n",
    "s3 = hs.load(path + 'GaSb_15kV_50pA.emsa', signal_type='EDS_SEM')\n",
    "s2 = hs.load(path + 'GaSb_30kV_400pA_processTime1.emsa', signal_type='EDS_SEM')\n",
    "s4 = hs.load(path + 'GaAs_30kV_50pA.emsa', signal_type='EDS_SEM')\n",
    "\n",
    "x = s.axes_manager[0].axis\n",
    "colors = ['#636EFA', '#EF553B', '#00CC96', '#AB63FA', '#FFA15A', '#19D3F3', '#FF6692', '#B6E880', '#FF97FF', '#FECB52'] # plotly colors"
   ]
  },
  {
   "cell_type": "code",
   "execution_count": null,
   "metadata": {},
   "outputs": [],
   "source": [
    "an_txt = dict(size=14, color=\"black\")\n",
    "def annotate_whole(fig, an_txt=an_txt):\n",
    "    fig.add_annotation(x=7.5, y=4.2, text=\"Coincidence 1\", showarrow=False, font=an_txt, row=1, col=1)\n",
    "    fig.add_annotation(x=13, y=3.9, text=\"Coincidence 2\", showarrow=False, font=an_txt, row=1, col=1)\n",
    "    fig.add_annotation(x=18.6, y=3.35, text=\"Coincidence 3\", showarrow=False, font=an_txt, row=1, col=1)\n",
    "    fig.add_annotation(x=9.25, y=5.2, text=\"Ga Kα\", showarrow=False, font=an_txt, row=1, col=1)\n",
    "    fig.add_annotation(x=10.26, y=4.5, text=\"Ga Kβ\", showarrow=False, font=an_txt, row=1, col=1)\n",
    "    fig.add_annotation(x=1.1, y=5.1, text=\"Ga L\", showarrow=False, font=an_txt, row=1, col=1)\n",
    "    fig.add_annotation(x=3.7, y=5.7, text=\"Sb L\", showarrow=False, font=an_txt, row=1, col=1)\n",
    "\n",
    "def annotate_lowmid(fig, an_txt=an_txt):\n",
    "    fig.add_annotation(x=1.74, y=3.1, text=\"Si Kα\", showarrow=True, ay=-40, ax=-40, font=an_txt, row=2, col=1)\n",
    "    fig.add_annotation(x=1.88, y=3.1, text=\"Sb Lα escape\", showarrow=True, ay=-40, ax=20, font=an_txt, row=2, col=1)\n",
    "    fig.add_annotation(x=0.00, y=4.5, text=\"Noise<br>peak\", showarrow=False, font=an_txt, row=2, col=1)\n",
    "    fig.add_annotation(x=0.21, y=3.4, text=\"C Kα\", showarrow=False, font=an_txt, row=2, col=1)\n",
    "    fig.add_annotation(x=0.52, y=3.05, text=\"O Kα\", showarrow=True, ay=-80, ax=10, font=an_txt, row=2, col=1)\n",
    "    fig.add_annotation(x=3.6, y=5.0, text=\"Sb L\", showarrow=False, font=an_txt, row=2, col=1)\n",
    "\n",
    "    names_SbL = ['l', 'α', 'β<sub>1</sub> + β<sub>4</sub> + β<sub>3</sub>', 'β<sub>2</sub>', 'γ<sub>1</sub>', 'γ<sub>3</sub>']\n",
    "    x_SbL = [3.2, 3.61, 3.99, 4.11, 4.35, 4.6]\n",
    "    y_SbL = np.log10(np.array([3.1e3, 48e3, 26e3, 8e3, 4e3, 2.5e3]))\n",
    "    for i in range(len(names_SbL)):\n",
    "        fig.add_annotation(x=x_SbL[i], y=y_SbL[i], text=names_SbL[i], showarrow=False, font=an_txt, row=2, col=1)\n",
    "    fig.add_annotation(x=0.43, y=3.2, text=\"Sb Mζ\", showarrow=True, ay=-50, ax=-10, font=an_txt, row=2, col=1)\n",
    "    fig.add_annotation(x=0.744, y=2.8, text=\"Sb Mγ\", showarrow=True, ay=-30, ax=-00, font=an_txt, row=2, col=1)\n",
    "    fig.add_annotation(x=1.11, y=4.1, text=\"Ga Lα + Lβ\", showarrow=True, ay=-30, ax=-0, font=an_txt, row=2, col=1)\n",
    "    fig.add_annotation(x=0.965, y=3.05, text=\"Ga Ll\", showarrow=True, ay=-50, ax=-20, font=an_txt, row=2, col=1)\n",
    "\n",
    "def annotate_low(fig, an_txt=an_txt):\n",
    "    fig.add_annotation(x=0.00, y=4.5, text=\"Noise<br>peak\", showarrow=False, font=an_txt, row=3, col=1)\n",
    "    fig.add_annotation(x=0.27, y=3.4, text=\"C Kα\", showarrow=False, font=an_txt, row=3, col=1)\n",
    "    fig.add_annotation(x=0.52, y=3.05, text=\"O Kα\", showarrow=True, ay=-80, ax=0, font=an_txt, row=3, col=1)\n",
    "    fig.add_annotation(x=0.423, y=3.2, text=\"Sb Mζ\", showarrow=True, ay=-50, ax=-0, font=an_txt, row=3, col=1)\n",
    "    fig.add_annotation(x=0.744, y=2.78, text=\"Sb Mγ\", showarrow=True, ay=-60, ax=-00, font=an_txt, row=3, col=1)\n",
    "    fig.add_annotation(x=1.105, y=4.1, text=\"Ga<br>Lα + Lβ\", showarrow=True, ay=55, ax=-0, font=an_txt, row=3, col=1)\n",
    "    fig.add_annotation(x=1.295, y=4.31, text=\"As<br>Lα + Lβ\", showarrow=True, ay=50, ax=-0, font=an_txt, row=3, col=1)\n",
    "    fig.add_annotation(x=0.965, y=3.05, text=\"Ga Ll\", showarrow=True, ay=-70, ax=0, font=an_txt, row=3, col=1)\n"
   ]
  },
  {
   "cell_type": "code",
   "execution_count": null,
   "metadata": {},
   "outputs": [],
   "source": [
    "fig = make_subplots(rows=3, cols=1, shared_xaxes=False, vertical_spacing=0.06)\n",
    "fig.update_layout(font=dict(family=\"EB Garamond SemiBold\", size=16, color=\"black\"))\n",
    "fig.update_layout(margin=dict(l=20, r=5, t=5, b=5), width=800, height=800)\n",
    "\n",
    "\n",
    "\n",
    "# Annotations:\n",
    "annotate_whole(fig)\n",
    "annotate_lowmid(fig)\n",
    "annotate_low(fig)\n",
    "\n",
    "fig.update_yaxes(title_text=\"(a)\", row=1, col=1, title_standoff=0)\n",
    "fig.update_yaxes(title_text='Intensity [counts]<br>(b)', row=2, col=1, title_standoff=7)\n",
    "fig.update_yaxes(title_text=\"(c)\", row=3, col=1, title_standoff=0)\n",
    "\n",
    "# (a) 0-20 keV\n",
    "fig.add_trace(go.Scatter(x=x, y=s2.data, name='GaSb, 400 pA, PT 1, DT 28%', line=dict(width=2, color=colors[0])), row=1, col=1)\n",
    "fig.add_trace(go.Scatter(x=x, y=s.data, name= 'GaSb,   50 pA, PT 6, DT 43%', line=dict(width=2, color=colors[5])), row=1, col=1)\n",
    "\n",
    "fig.update_yaxes(type=\"log\", range=[1.9,5.9], title='(a)', row=1, col=1)\n",
    "fig.update_xaxes(range=[-.3,20.5], row=1, col=1)\n",
    "fig.update_layout(legend=dict(x=0.9985, y=0.9985, xanchor='right', yanchor='top'))\n",
    "\n",
    "# (b) 0-5 keV  \n",
    "fig.add_trace(go.Scatter(x=x, y=s.data, line=dict(width=2, color=colors[5]),showlegend=False), row=2, col=1)\n",
    "fig.update_yaxes(type=\"log\", range=[1.9,5.6], title='(b)', row=2, col=1)\n",
    "fig.update_xaxes(range=[-.2,5.1], row=2, col=1)\n",
    "\n",
    "\n",
    "# (c) 0-1.5 keV\n",
    "fig.add_trace(go.Scatter(x=x, y=s.data, line=dict(width=2, color=colors[5]),showlegend=False), row=3, col=1)\n",
    "fig.add_trace(go.Scatter(x=x, y=s4.data, name='GaAs,   50 pA, PT 6, DT 44%', line=dict(width=2, color=colors[1])), row=3, col=1)\n",
    "fig.update_yaxes(type=\"log\", range=[1.95,4.9], row=3, col=1)\n",
    "fig.update_xaxes(range=[-.1,1.5], row=3, col=1, title='Energy [keV]')\n",
    "\n",
    "fig"
   ]
  },
  {
   "cell_type": "code",
   "execution_count": null,
   "metadata": {},
   "outputs": [],
   "source": [
    "# fig.write_image('../figures/spectrum_overviews.pdf')\n",
    "fig.write_image('../../mastersthesis/figures/results/spectrum_overviews.pdf')"
   ]
  },
  {
   "cell_type": "code",
   "execution_count": null,
   "metadata": {},
   "outputs": [],
   "source": [
    "vaccs = ['05', '10', '15', '30']\n",
    "s_GaSb = [hs.load(path + f'GaSb_{v}kV_50pA.emsa', signal_type='EDS_SEM') for v in vaccs]\n",
    "dt_GaAs = ['3', '6', '12', '25']\n",
    "s_GaAs = [hs.load(path + f'GaAs_{v}kV_25pA.emsa', signal_type='EDS_SEM') for v in vaccs]\n",
    "\n",
    "s_GaAs_50pA = hs.load(path + f'GaAs_30kV_50pA.emsa', signal_type='EDS_SEM')\n"
   ]
  },
  {
   "cell_type": "code",
   "execution_count": null,
   "metadata": {},
   "outputs": [],
   "source": [
    "fig = make_subplots(rows=2, cols=1, shared_xaxes=False, vertical_spacing=0.06)\n",
    "fig.update_layout(font=dict(family=\"EB Garamond SemiBold\", size=16, color=\"black\"))\n",
    "fig.update_layout(margin=dict(l=120, r=5, t=5, b=5), width=800, height=800*2/3)\n",
    "\n",
    "# (a) GaAs\n",
    "for i, s in enumerate(s_GaAs):\n",
    "    fig.add_trace(go.Scatter(x=x, y=s.data, name=f'GaAs, {vaccs[i]} kV', line=dict(width=2, color=colors[8-i])), row=1, col=1)\n",
    "# fig.add_trace(go.Scatter(x=x, y=s_GaAs_50pA.data, name=f'GaAs, {vaccs[i]} kV, 50 pA', line=dict(width=2, color=colors[9])), row=1, col=1)\n",
    "fig.update_yaxes(type=\"log\", title='(a)', row=1, col=1, range=[-.1,4.6])\n",
    "fig.update_xaxes(range=[-.3,20.5], row=1, col=1)\n",
    "fig.update_layout(legend=dict(x=0.99, y=0.99, xanchor='right', yanchor='top', traceorder='reversed'))\n",
    "\n",
    "\n",
    "# (b) is 0-6 keV\n",
    "for i, s in enumerate(s_GaAs):\n",
    "    fig.add_trace(go.Scatter(x=x, y=s.data, name=f'GaAs: {vaccs[i]} kV', line=dict(width=2, color=colors[8-i]), showlegend=False), row=2, col=1)\n",
    "# fig.add_trace(go.Scatter(x=x, y=s_GaAs_50pA.data, name=f'GaAs, {vaccs[i]} kV, 50 pA', line=dict(width=2, color=colors[9]), showlegend=False), row=2, col=1)\n",
    "\n",
    "fig.update_yaxes(type=\"log\", title='(b)', row=2, col=1, range=[1.3,4.7])\n",
    "fig.update_xaxes(range=[.07,3], row=2, col=1, title='Energy [keV]')\n",
    "\n",
    "# annotate \"Intensity [counts]\" as a y-axis title, on the paper\n",
    "fig.add_annotation(x=-0.18, y=0.5, xref=\"paper\", yref=\"paper\", text=\"Intensity [counts]\", showarrow=False, \n",
    "                   font=dict(family=\"EB Garamond SemiBold\", size=20, color=\"black\"), textangle=-90, xanchor=\"left\", yanchor=\"middle\")\n",
    "\n",
    "\n",
    "fig"
   ]
  },
  {
   "cell_type": "code",
   "execution_count": null,
   "metadata": {},
   "outputs": [],
   "source": [
    "# fig.write_image('../figures/GaAs_voltages.pdf')\n",
    "# fig.write_image('../../mastersthesis/figures/results/GaAs_voltages.pdf')"
   ]
  },
  {
   "cell_type": "code",
   "execution_count": null,
   "metadata": {},
   "outputs": [],
   "source": [
    "fig = make_subplots(rows=2, cols=1, shared_xaxes=False, vertical_spacing=0.06)\n",
    "fig.update_layout(font=dict(family=\"EB Garamond SemiBold\", size=16, color=\"black\"))\n",
    "fig.update_layout(margin=dict(l=120, r=5, t=5, b=5), width=800, height=800*2/3)\n",
    "\n",
    "# (a) GaSb\n",
    "for i, s in enumerate(s_GaSb):\n",
    "    fig.add_trace(go.Scatter(x=x, y=s.data, name=f'GaSb: {vaccs[i]} kV', line=dict(width=2, color=colors[i])), row=1, col=1)\n",
    "fig.update_yaxes(type=\"log\", title='(a)', row=1, col=1, range=[-.1,5.3])\n",
    "fig.update_xaxes(range=[-.3,20.5], row=1, col=1)\n",
    "fig.update_layout(legend=dict(x=0.99, y=0.99, xanchor='right', yanchor='top', traceorder='reversed'))\n",
    "\n",
    "\n",
    "# (b) is 0-6 keV\n",
    "for i, s in enumerate(s_GaSb):\n",
    "    fig.add_trace(go.Scatter(x=x, y=s.data, name=f'GaSb: {vaccs[i]} kV, 50 pA, PT6', line=dict(width=2, color=colors[i]), showlegend=False), row=2, col=1)\n",
    "fig.update_yaxes(type=\"log\", title='(b)', row=2, col=1, range=[1.3,4.7])\n",
    "fig.update_xaxes(range=[.07,5.3], row=2, col=1, title='Energy [keV]')\n",
    "fig.add_annotation(x=-0.18, y=0.5, xref=\"paper\", yref=\"paper\", text=\"Intensity [counts]\", showarrow=False, \n",
    "                   font=dict(family=\"EB Garamond SemiBold\", size=20, color=\"black\"), textangle=-90, xanchor=\"left\", yanchor=\"middle\")\n",
    "fig"
   ]
  },
  {
   "cell_type": "code",
   "execution_count": null,
   "metadata": {},
   "outputs": [],
   "source": [
    "# fig.write_image('../figures/GaSb_voltages.pdf')\n",
    "# fig.write_image('../../mastersthesis/figures/results/GaSb_voltages.pdf')"
   ]
  },
  {
   "cell_type": "code",
   "execution_count": null,
   "metadata": {},
   "outputs": [],
   "source": []
  },
  {
   "cell_type": "code",
   "execution_count": null,
   "metadata": {},
   "outputs": [],
   "source": []
  }
 ],
 "metadata": {
  "kernelspec": {
   "display_name": "hspy",
   "language": "python",
   "name": "python3"
  },
  "language_info": {
   "codemirror_mode": {
    "name": "ipython",
    "version": 3
   },
   "file_extension": ".py",
   "mimetype": "text/x-python",
   "name": "python",
   "nbconvert_exporter": "python",
   "pygments_lexer": "ipython3",
   "version": "3.8.16"
  },
  "orig_nbformat": 4
 },
 "nbformat": 4,
 "nbformat_minor": 2
}
