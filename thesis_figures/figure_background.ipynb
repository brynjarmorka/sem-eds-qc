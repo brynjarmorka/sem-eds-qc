{
 "cells": [
  {
   "cell_type": "code",
   "execution_count": null,
   "metadata": {},
   "outputs": [],
   "source": [
    "import numpy as np\n",
    "import plotly.graph_objects as go"
   ]
  },
  {
   "cell_type": "code",
   "execution_count": null,
   "metadata": {},
   "outputs": [],
   "source": [
    "e0 = 30\n",
    "e = np.arange(0.5, e0, 0.1)\n",
    "z = 10\n",
    "k = 1\n",
    "\n",
    "# N(e) = (K Z (e0 - e)) /e\n",
    "N = (k * z * (e0 - e)) / e\n",
    "x = np.arange(0, 2, 0.1)\n",
    "\n",
    "\n",
    "fig = go.Figure()\n",
    "fig.update_layout(xaxis_title='Energy [keV]', yaxis_title='Intensity [a.u.]')\n",
    "fig.update_layout(font=dict(family=\"EB Garamond SemiBold\", size=16, color=\"black\"))\n",
    "fig.update_layout(margin=dict(l=10, r=10, t=10, b=10))\n",
    "fig.update_layout(width=500, height=250)\n",
    "fig.update_yaxes(showticklabels=False)\n",
    "# fig.update_xaxes(showticklabels=False)\n",
    "\n",
    "# legend inside, top right\n",
    "fig.update_layout(legend=dict(\n",
    "    yanchor=\"top\",\n",
    "    y=0.99,\n",
    "    xanchor=\"right\",\n",
    "    x=0.99\n",
    "))\n",
    "\n",
    "\n",
    "a = -95/4\n",
    "b = 90\n",
    "c = 0\n",
    "\n",
    "y = a * x**2 + b * x + c\n",
    "\n",
    "idx = (np.abs(N-70)).argmin()\n",
    "\n",
    "fill = np.linspace(85, 69, idx - len(y))\n",
    "\n",
    "g = np.concatenate((y, fill))\n",
    "g = np.concatenate((g, N[idx:]))\n",
    "h = np.concatenate((x, e[idx:]))\n",
    "\n",
    "p = np.polyfit(e, g, 14)\n",
    "f = np.poly1d(p)\n",
    "y_new = f(e)\n",
    "\n",
    "i = (np.abs(N-62)).argmin()\n",
    "fig.add_trace(go.Scatter(x=e, y=f(e), name='Detected background', line=dict(width=3)))\n",
    "fig.add_trace(go.Scatter(x=e, y=N, name='Generated background', line=dict(color='black', width=3, dash='dash')))\n",
    "fig.update_yaxes(range=[9, 150])\n",
    "fig.update_xaxes(range=[0.5, 15])\n",
    "fig.show()\n"
   ]
  },
  {
   "cell_type": "code",
   "execution_count": null,
   "metadata": {},
   "outputs": [],
   "source": [
    "fig.write_image(\"../figures/background_generated_detected.pdf\")\n",
    "fig.write_image('../../mastersthesis/figures/background_generated_detected.pdf')"
   ]
  }
 ],
 "metadata": {
  "kernelspec": {
   "display_name": "hspy",
   "language": "python",
   "name": "python3"
  },
  "language_info": {
   "codemirror_mode": {
    "name": "ipython",
    "version": 3
   },
   "file_extension": ".py",
   "mimetype": "text/x-python",
   "name": "python",
   "nbconvert_exporter": "python",
   "pygments_lexer": "ipython3",
   "version": "3.8.16"
  },
  "orig_nbformat": 4
 },
 "nbformat": 4,
 "nbformat_minor": 2
}
