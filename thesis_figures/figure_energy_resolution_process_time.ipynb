{
 "cells": [
  {
   "cell_type": "code",
   "execution_count": null,
   "metadata": {},
   "outputs": [],
   "source": [
    "# energy_resolution_process_time"
   ]
  },
  {
   "cell_type": "code",
   "execution_count": null,
   "metadata": {},
   "outputs": [],
   "source": [
    "import hyperspy.api as hs\n",
    "import numpy as np\n",
    "import plotly.graph_objects as go\n",
    "from plotly.subplots import make_subplots"
   ]
  },
  {
   "cell_type": "code",
   "execution_count": null,
   "metadata": {},
   "outputs": [],
   "source": [
    "path = \"../../../Masteroppgave/2023-03-08_EDS-Apreo/exports/\"\n",
    "# processTimeFiles = ['GaSb_30kV_50pA_processTime1.emsa', 'GaSb_30kV_50pA_processTime2.emsa', 'GaSb_30kV_50pA_processTime4.emsa', 'GaSb_30kV_50pA.emsa']\n",
    "# pt_names = ['Process time 1', 'Process time 2', 'Process time 4', 'Process time 6']\n",
    "\n",
    "processTimeFiles = ['GaSb_30kV_50pA_processTime1.emsa', 'GaSb_30kV_50pA.emsa']\n",
    "pt_names = ['Process time 1', 'Process time 6']\n",
    "pt_names = ['PT1', 'PT6']\n",
    "processTimeData = [hs.load(path + '/' + file, signal_type='EDS_SEM').data for file in processTimeFiles]\n",
    "\n",
    "colors = ['#636EFA', '#EF553B', '#00CC96', '#AB63FA', '#FFA15A', '#19D3F3', '#FF6692', '#B6E880', '#FF97FF', '#FECB52']\n",
    "\n",
    "zero_peak_slice = 33 # zero peak slice in calibration of GaAs from Sept 2022\n",
    "scale = 0.01\n",
    "offset = 0.1242 - zero_peak_slice * scale\n",
    "channels = 2048\n",
    "x = np.arange(offset, offset + channels * scale, scale)"
   ]
  },
  {
   "cell_type": "code",
   "execution_count": null,
   "metadata": {},
   "outputs": [],
   "source": [
    "def theoretical_energy(line, what='energy (keV)'): # what can be 'energy (keV)' or 'weight'\n",
    "    return hs.material.elements[line.split('_')[0]]['Atomic_properties']['Xray_lines'][line.split('_')[1]][what]"
   ]
  },
  {
   "cell_type": "code",
   "execution_count": null,
   "metadata": {},
   "outputs": [],
   "source": [
    "# C Ka, O Ka, Ga Ll, Ga La\n",
    "lines_low = ['C_Ka', 'O_Ka', 'Ga_Ll', 'Ga_La']\n",
    "names_low = ['C Kα', 'O Kα', 'Ga Ll', 'Ga Lα']\n",
    "# energies = [theoretical_energy(line) for line in lines_low]\n",
    "names_Sb = ['Sb Mη', 'Sb Mγ']\n",
    "energies_Sb = [0.415, 0.744]\n",
    "\n",
    "# Sb L\n",
    "lines_mid = ['Sb_Ll', 'Sb_La', 'Sb_Lb1', 'Sb_Lb2', 'Sb_Lb3', 'Sb_Lb4',  'Sb_Lg1', 'Sb_Lg3']\n",
    "names_mid = ['Sb Ll', 'Sb Lα', 'Sb Lβ<sub>1</sub>', 'Sb Lβ<sub>2</sub>', 'Sb Lβ<sub>3</sub>', 'Sb Lβ<sub>4</sub>', 'Sb Lγ<sub>1</sub>', 'Sb Lγ<sub>3</sub>']\n",
    "\n",
    "# Ga K\n",
    "lines_high = ['Ga_Ka', 'Ga_Kb']\n",
    "names_high = ['Ga Kα', 'Ga Kβ']\n",
    "# names_mid = ['Sb Ll', 'Sb Lα', 'Sb Lβ<sub>1</sub>', 'Sb Lβ<sub>2</sub>', 'Sb Lβ<sub>3</sub>', 'Sb Lβ<sub>4</sub>', 'Sb Lγ<sub>1</sub>', 'Sb Lγ<sub>3</sub>']"
   ]
  },
  {
   "cell_type": "code",
   "execution_count": null,
   "metadata": {},
   "outputs": [],
   "source": []
  },
  {
   "cell_type": "code",
   "execution_count": null,
   "metadata": {},
   "outputs": [],
   "source": [
    "fig = make_subplots(rows=3, cols=1, shared_xaxes=False, vertical_spacing=0.08) #, row_heights=[0.2, 0.8])\n",
    "fig.update_layout(font=dict(family=\"EB Garamond SemiBold\", size=16, color=\"black\"), margin=dict(l=0, r=10, t=10, b=10))\n",
    "fig.update_layout(width=800,height=900,legend=dict(yanchor=\"top\",y=.99,xanchor=\"right\",x=.99))\n",
    "\n",
    "fig.update_yaxes(title_text=\"(a)\", row=1, col=1, title_standoff=0)\n",
    "fig.update_yaxes(title_text='Intensity [k counts]<br>(b)', row=2, col=1, title_standoff=19)\n",
    "fig.update_yaxes(title_text=\"(c)\", row=3, col=1, title_standoff=0)\n",
    "fig.update_xaxes(title_text='Energy [keV]', row=3, col=1)\n",
    "fig.update_yaxes(type='log')\n",
    "\n",
    "tickvals_y = [1000, 10000, 1e5]\n",
    "ticktext_y = ['1k', '10k', '100k']\n",
    "fig.update_yaxes(tickvals=tickvals_y, ticktext=ticktext_y, row=1, col=1)\n",
    "fig.update_yaxes(tickvals=tickvals_y, ticktext=ticktext_y, row=2, col=1)\n",
    "fig.update_yaxes(tickvals=tickvals_y, ticktext=ticktext_y, row=3, col=1)\n",
    "\n",
    "for i in range(len(pt_names)):\n",
    "    fig.add_trace(go.Scatter(x=x, y=processTimeData[i], name=pt_names[i], line=dict(width=3, color=colors[i])), row=1, col=1)\n",
    "for l in lines_low:\n",
    "    fig.add_vline(x=theoretical_energy(l), line_width=1, line_dash=\"dash\", line_color=\"grey\", annotation_text=names_low[lines_low.index(l)], \n",
    "                  annotation_position=\"top right\", annotation_textangle=90, row=1, col=1, annotation_font_size=12)\n",
    "for l in names_Sb:\n",
    "    fig.add_vline(energies_Sb[names_Sb.index(l)], line_width=1, line_dash=\"dash\", line_color=\"grey\", annotation_text=names_Sb[names_Sb.index(l)], \n",
    "                  annotation_position=\"top right\", annotation_textangle=90, row=1, col=1, annotation_font_size=12)\n",
    "fig.update_xaxes(range=[0.17, 1.3], row=1, col=1)\n",
    "fig.update_yaxes(range=[2.35, 4.6], row=1, col=1)\n",
    "\n",
    "\n",
    "for i in range(len(pt_names)):\n",
    "    fig.add_trace(go.Scatter(x=x, y=processTimeData[i], name=pt_names[i], line=dict(width=3, color=colors[i]), showlegend=False), row=2, col=1)\n",
    "for l in lines_mid:\n",
    "    fig.add_vline(x=theoretical_energy(l), line_width=1, line_dash=\"dash\", line_color=\"grey\", annotation_text=names_mid[lines_mid.index(l)], \n",
    "                  annotation_position=\"bottom right\", annotation_textangle=90, row=2, col=1, annotation_font_size=12)\n",
    "fig.update_xaxes(range=[3.37, 4.5], row=2, col=1)\n",
    "fig.update_yaxes(range=[2.35, 4.6], row=2, col=1)\n",
    "\n",
    "\n",
    "for i in range(len(pt_names)):\n",
    "    fig.add_trace(go.Scatter(x=x, y=processTimeData[i], name=pt_names[i], line=dict(width=3, color=colors[i]), showlegend=False), row=3, col=1)\n",
    "for l in lines_high:\n",
    "    fig.add_vline(x=theoretical_energy(l), line_width=1, line_dash=\"dash\", line_color=\"grey\", annotation_text=names_high[lines_high.index(l)], \n",
    "                  annotation_position=\"top right\", annotation_textangle=90, row=3, col=1, annotation_font_size=12)\n",
    "\n",
    "fig.update_xaxes(range=[8.67, 9.8], row=3, col=1) # Ga Ka, Ga Kb\n",
    "fig.update_yaxes(range=[2.35, 4.6], row=3, col=1)"
   ]
  },
  {
   "cell_type": "code",
   "execution_count": null,
   "metadata": {},
   "outputs": [],
   "source": [
    "# fig.write_image(\"../figures/figure_energyResolutions_process_time.png\", scale=3)\n",
    "fig.write_image(\"../figures/energyResolutions_process_time.pdf\")\n",
    "\n",
    "# fig.write_image('../../mastersthesis/figures/results/eds_energyResolutions_process_time.png', scale=3)\n",
    "fig.write_image('../../mastersthesis/figures/results/eds_energyResolutions_process_time.pdf')\n"
   ]
  },
  {
   "cell_type": "code",
   "execution_count": null,
   "metadata": {},
   "outputs": [],
   "source": []
  }
 ],
 "metadata": {
  "kernelspec": {
   "display_name": "hspy",
   "language": "python",
   "name": "python3"
  },
  "language_info": {
   "codemirror_mode": {
    "name": "ipython",
    "version": 3
   },
   "file_extension": ".py",
   "mimetype": "text/x-python",
   "name": "python",
   "nbconvert_exporter": "python",
   "pygments_lexer": "ipython3",
   "version": "3.8.16"
  },
  "orig_nbformat": 4
 },
 "nbformat": 4,
 "nbformat_minor": 2
}
