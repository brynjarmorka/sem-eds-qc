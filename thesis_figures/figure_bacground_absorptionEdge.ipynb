{
 "cells": [
  {
   "cell_type": "code",
   "execution_count": null,
   "metadata": {},
   "outputs": [],
   "source": [
    "import numpy as np\n",
    "import plotly.graph_objects as go\n",
    "import hyperspy.api as hs"
   ]
  },
  {
   "cell_type": "code",
   "execution_count": null,
   "metadata": {},
   "outputs": [],
   "source": [
    "file = 'Si_30kV.emsa'\n",
    "path = '../../../Masteroppgave/2022-09-06_EDS-Apreo/exports/'"
   ]
  },
  {
   "cell_type": "code",
   "execution_count": null,
   "metadata": {},
   "outputs": [],
   "source": [
    "def theoretical_energy(line):\n",
    "    element = line.split('_')[0]\n",
    "    line_name = line.split('_')[1]\n",
    "    return hs.material.elements[element]['Atomic_properties']['Xray_lines'][line_name]['energy (keV)']\n",
    "def add_line(fig, line, name, color='black'):\n",
    "    txt = name\n",
    "    fig.add_vline(x=theoretical_energy(line), line_width=0.5, line_dash=\"dash\", line_color=color, annotation_text=txt, annotation_position=\"top right\", annotation_textangle=90)"
   ]
  },
  {
   "cell_type": "code",
   "execution_count": null,
   "metadata": {},
   "outputs": [],
   "source": [
    "s = hs.load(path + file, signal_type='EDS_SEM')\n",
    "s = s.isig[0.4:10.]\n",
    "lines = ['O_Ka', 'Si_Ka', 'Si_Kb']\n",
    "names = ['O Kα', 'Si Kα', 'Si Kβ']"
   ]
  },
  {
   "cell_type": "code",
   "execution_count": null,
   "metadata": {},
   "outputs": [],
   "source": [
    "abs_edge = 1838.9 / 1000 # keV"
   ]
  },
  {
   "cell_type": "code",
   "execution_count": null,
   "metadata": {},
   "outputs": [],
   "source": [
    "\n",
    "fig = go.Figure()\n",
    "fig.update_layout(xaxis_title='Energy [keV]', yaxis_title='Intensity [counts]<br>&<br>Mass absorption coefficient [cm<sup>2</sup>/g]')\n",
    "fig.update_layout(font=dict(family=\"EB Garamond SemiBold\", size=16, color=\"black\"))\n",
    "fig.update_layout(margin=dict(l=10, r=10, t=10, b=10))\n",
    "fig.update_layout(width=800, height=400)\n",
    "\n",
    "# log y\n",
    "fig.update_yaxes(type=\"log\", range=[2, 5.9])\n",
    "\n",
    "\n",
    "# annotate \"Si Ka sum peak 3.48 keV\" at 3.48 keV\n",
    "fig.add_annotation(x=1.7397, y=4, text=\"Si Kα (1.74 keV) and Si Kβ (1.84 keV)\", showarrow=True, font=dict(size=14), ax=150, ay=0)\n",
    "fig.add_annotation(x=3.48, y=3.4, text=\"Si Kα sum peak (3.48 keV)\", showarrow=True, font=dict(size=14), ax=100, ay=0)\n",
    "\n",
    "\n",
    "fig.add_trace(go.Scatter(x=s.axes_manager[0].axis, y=s.data, name='Si wafer signal at 30 kV'))\n",
    "\n",
    "fig.add_trace(go.Scatter(x=[abs_edge, abs_edge], y=[0, 1e6], name='Si K absorption edge, 1.84 keV', mode='lines', line=dict(width=2, dash='dash')))\n",
    "\n",
    "energy = np.arange(0.2, 10, 0.001)\n",
    "mu_si = hs.material.mass_absorption_coefficient(element='Si', energies=energy)\n",
    "\n",
    "fig.add_trace(go.Scatter(x=energy, y=mu_si, name='\\u03BC<sub>\\u03C1</sub>(E) for Si', mode='lines', line=dict(width=2, dash='dot')))\n",
    "\n",
    "\n",
    "fig.update_layout(legend=dict(yanchor=\"top\",y=0.99,xanchor=\"right\",x=0.99))\n"
   ]
  },
  {
   "cell_type": "code",
   "execution_count": null,
   "metadata": {},
   "outputs": [],
   "source": [
    "fig.write_image(\"../figures/background_absorptionEdge_Si.pdf\")\n",
    "fig.write_image('../../mastersthesis/figures/background_absorptionEdge_Si.pdf')"
   ]
  }
 ],
 "metadata": {
  "kernelspec": {
   "display_name": "hspy",
   "language": "python",
   "name": "python3"
  },
  "language_info": {
   "codemirror_mode": {
    "name": "ipython",
    "version": 3
   },
   "file_extension": ".py",
   "mimetype": "text/x-python",
   "name": "python",
   "nbconvert_exporter": "python",
   "pygments_lexer": "ipython3",
   "version": "3.8.16"
  },
  "orig_nbformat": 4
 },
 "nbformat": 4,
 "nbformat_minor": 2
}
