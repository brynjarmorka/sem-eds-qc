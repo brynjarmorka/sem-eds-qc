{
 "cells": [
  {
   "cell_type": "markdown",
   "metadata": {},
   "source": [
    "# NOT USED FOR NOW"
   ]
  },
  {
   "cell_type": "code",
   "execution_count": null,
   "metadata": {},
   "outputs": [],
   "source": [
    "import numpy as np\n",
    "import plotly.graph_objects as go\n",
    "import hyperspy.api as hs\n",
    "from plotly.subplots import make_subplots"
   ]
  },
  {
   "cell_type": "code",
   "execution_count": null,
   "metadata": {},
   "outputs": [],
   "source": [
    "def energy(element, line):\n",
    "    return hs.material.elements[element].Atomic_properties['Xray_lines'][line]['energy (keV)']\n",
    "def weight(element, line):\n",
    "    return hs.material.elements[element].Atomic_properties['Xray_lines'][line]['weight']"
   ]
  },
  {
   "cell_type": "code",
   "execution_count": null,
   "metadata": {},
   "outputs": [],
   "source": [
    "fwhm_MnKa = 130\n",
    "energy_MnKa = energy('Mn', 'Ka')"
   ]
  },
  {
   "cell_type": "code",
   "execution_count": null,
   "metadata": {},
   "outputs": [],
   "source": [
    "# FWHM(E) = sqrt(2.5 * (E-E_ref) + FWHM_ref^2)))\n",
    "def fwhm(e, e_ref=energy_MnKa, fwhm_ref=fwhm_MnKa):# energy is in keV, convert to eV. fwhm is in eV\n",
    "    return np.sqrt(2.5 * (e-e_ref)*1000 + fwhm_ref**2)\n",
    "\n",
    "# make a gaussian from a given energy and fwhm, with height , on x\n",
    "def gaussian(x, e, fwhm, height=1, widths=1.3):\n",
    "    # slice x to +- widths * fwhm\n",
    "    fwhm /= 1000 # convert to keV\n",
    "    xg = x[(x > e - widths * fwhm) & (x < e + widths * fwhm)]\n",
    "    # return x and gaussian\n",
    "    return xg, height * np.exp(-4*np.log(2) * (xg-e)**2 / fwhm**2)"
   ]
  },
  {
   "cell_type": "markdown",
   "metadata": {},
   "source": [
    "# GaAs"
   ]
  },
  {
   "cell_type": "code",
   "execution_count": null,
   "metadata": {},
   "outputs": [],
   "source": [
    "x = np.arange(0, 20, 0.001)\n",
    "xlist = []\n",
    "ylist = []\n",
    "lines = []\n",
    "elist = []\n",
    "fwhmlist = []\n",
    "for elem in ['As', 'Ga']:\n",
    "    for lin in hs.material.elements[elem].Atomic_properties['Xray_lines'].keys():\n",
    "        lines.append(elem+'_'+lin)\n",
    "\n",
    "for line in lines:\n",
    "    el = line.split('_')[0]\n",
    "    li = line.split('_')[1]\n",
    "    lineenergy = energy(el, li)\n",
    "    linefwhm = fwhm(lineenergy)\n",
    "    lineheight = weight(el, li)\n",
    "    if 'K' in li:\n",
    "        lineheight *= 0.5\n",
    "    xg, yg = gaussian(x, lineenergy, linefwhm, lineheight)\n",
    "    xlist.append(xg)\n",
    "    ylist.append(yg)\n",
    "    elist.append(lineenergy)\n",
    "    fwhmlist.append(linefwhm)"
   ]
  },
  {
   "cell_type": "code",
   "execution_count": null,
   "metadata": {},
   "outputs": [],
   "source": [
    "# plot\n",
    "fig = go.Figure()\n",
    "fig.update_layout(width=800, height=400, font=dict(family=\"EB Garamond SemiBold\", size=16, color=\"black\"), margin=dict(l=10, r=10, t=10, b=10))\n",
    "colors = ['#636EFA', '#EF553B', '#00CC96', '#AB63FA', '#FFA15A', '#19D3F3', '#FF6692', '#B6E880', '#FF97FF', '#FECB52']\n",
    "\n",
    "# legend in upper right corner\n",
    "fig.update_layout(legend=dict(x=0.99, y=.99, yanchor=\"top\", xanchor=\"right\"))\n",
    "for i in range(len(xlist)):\n",
    "    if 'Ga' in lines[i]:\n",
    "        color = colors[0]\n",
    "    else:\n",
    "        color = colors[1]\n",
    "    fig.add_trace(go.Scatter(x=xlist[i], y=ylist[i], name=lines[i], line=dict(color=color, width=2), showlegend=False))\n",
    "    # add fwhm\n",
    "\n",
    "fig.add_trace(go.Scatter(x=[-10,-20], y=[-20,-20], name='Ga', mode='lines', line=dict(color=colors[0], width=2)))\n",
    "fig.add_trace(go.Scatter(x=[-10,-20], y=[-20,-20], name='As', mode='lines', line=dict(color=colors[1], width=2)))\n",
    "\n",
    "\n",
    "\n",
    "\n",
    "fig.update_xaxes(title_text=\"Energy [keV]\", range=[-.1, 12.2])\n",
    "fig.update_yaxes(title_text=\"Intensity [a.u]\", range=[-.05, 1.05])"
   ]
  },
  {
   "cell_type": "markdown",
   "metadata": {},
   "source": [
    "# GaSb"
   ]
  },
  {
   "cell_type": "code",
   "execution_count": null,
   "metadata": {},
   "outputs": [],
   "source": [
    "x = np.arange(0, 30, 0.001)\n",
    "xlist = []\n",
    "ylist = []\n",
    "lines = []\n",
    "elist = []\n",
    "fwhmlist = []\n",
    "for elem in ['Ga', 'Sb']:\n",
    "    for lin in hs.material.elements[elem].Atomic_properties['Xray_lines'].keys():\n",
    "        lines.append(elem+'_'+lin)\n",
    "\n",
    "for line in lines:\n",
    "    el = line.split('_')[0]\n",
    "    li = line.split('_')[1]\n",
    "    lineenergy = energy(el, li)\n",
    "    linefwhm = fwhm(lineenergy)\n",
    "    lineheight = weight(el, li)\n",
    "    if 'K' in li:\n",
    "        lineheight *= 0.5\n",
    "    xg, yg = gaussian(x, lineenergy, linefwhm, lineheight)\n",
    "    xlist.append(xg)\n",
    "    ylist.append(yg)\n",
    "    elist.append(lineenergy)\n",
    "    fwhmlist.append(linefwhm)"
   ]
  },
  {
   "cell_type": "code",
   "execution_count": null,
   "metadata": {},
   "outputs": [],
   "source": [
    "# plot\n",
    "fig = go.Figure()\n",
    "fig.update_layout(width=800, height=400, font=dict(family=\"EB Garamond SemiBold\", size=16, color=\"black\"), margin=dict(l=10, r=10, t=10, b=10))\n",
    "colors = ['#636EFA', '#EF553B', '#00CC96', '#AB63FA', '#FFA15A', '#19D3F3', '#FF6692', '#B6E880', '#FF97FF', '#FECB52']\n",
    "\n",
    "# legend in upper right corner\n",
    "fig.update_layout(legend=dict(x=0.99, y=.99, yanchor=\"top\", xanchor=\"right\"))\n",
    "for i in range(len(xlist)):\n",
    "    if 'Ga' in lines[i]:\n",
    "        color = colors[0]\n",
    "    else:\n",
    "        color = colors[1]\n",
    "    fig.add_trace(go.Scatter(x=xlist[i], y=ylist[i], name=lines[i], line=dict(color=color, width=2), showlegend=False))\n",
    "    # add fwhm\n",
    "\n",
    "fig.add_trace(go.Scatter(x=[-10,-20], y=[-20,-20], name='Ga', mode='lines', line=dict(color=colors[0], width=2)))\n",
    "fig.add_trace(go.Scatter(x=[-10,-20], y=[-20,-20], name='Sb', mode='lines', line=dict(color=colors[1], width=2)))\n",
    "\n",
    "\n",
    "\n",
    "\n",
    "fig.update_xaxes(title_text=\"Energy [keV]\", range=[-.1, 30])\n",
    "fig.update_yaxes(title_text=\"Relative intensity [a.u]\", range=[-.05, 1.05])"
   ]
  },
  {
   "cell_type": "code",
   "execution_count": null,
   "metadata": {},
   "outputs": [],
   "source": [
    "line.split('_')[0]"
   ]
  }
 ],
 "metadata": {
  "kernelspec": {
   "display_name": "hspy",
   "language": "python",
   "name": "python3"
  },
  "language_info": {
   "codemirror_mode": {
    "name": "ipython",
    "version": 3
   },
   "file_extension": ".py",
   "mimetype": "text/x-python",
   "name": "python",
   "nbconvert_exporter": "python",
   "pygments_lexer": "ipython3",
   "version": "3.8.16"
  },
  "orig_nbformat": 4
 },
 "nbformat": 4,
 "nbformat_minor": 2
}
