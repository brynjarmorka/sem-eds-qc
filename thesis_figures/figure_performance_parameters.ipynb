{
 "cells": [
  {
   "cell_type": "code",
   "execution_count": null,
   "metadata": {},
   "outputs": [],
   "source": [
    "import numpy as np\n",
    "import plotly.graph_objects as go\n",
    "import hyperspy.api as hs\n",
    "from plotly.subplots import make_subplots"
   ]
  },
  {
   "cell_type": "code",
   "execution_count": null,
   "metadata": {},
   "outputs": [],
   "source": [
    "path = \"../../../Masteroppgave/2022-09-06_EDS-Apreo/exports/\"\n",
    "s = hs.load(path + 'GaAs_10kV.emsa', signal_type='EDS_SEM')\n",
    "elements = ['Ga', 'As']\n",
    "s.set_elements(elements)"
   ]
  },
  {
   "cell_type": "code",
   "execution_count": null,
   "metadata": {},
   "outputs": [],
   "source": [
    "s.data[:33] = 0\n",
    "m = s.isig[320:1030].create_model()\n",
    "m.fit()\n",
    "scale = s.axes_manager[0].scale\n",
    "offset = s.axes_manager[0].offset\n",
    "c = np.arange(0, 2048)\n",
    "x = s.axes_manager[0].axis\n",
    "Vacc = s.metadata.Acquisition_instrument.SEM.beam_energy\n",
    "c2 = np.arange(320, 1030)\n",
    "x2 = s.axes_manager[0].axis[320:1030]\n",
    "b = m[0].function(x2) * scale"
   ]
  },
  {
   "cell_type": "code",
   "execution_count": null,
   "metadata": {},
   "outputs": [],
   "source": [
    "def kev2ch(kev):\n",
    "    return (kev - offset) / scale\n",
    "def ch2kev(ch):\n",
    "    return ch * scale + offset"
   ]
  },
  {
   "cell_type": "code",
   "execution_count": null,
   "metadata": {},
   "outputs": [],
   "source": [
    "dh = s.data[320:420]\n",
    "\n",
    "x = np.arange(3, 4, scale)\n",
    "m, bb = np.polyfit(x, dh, 1)\n",
    "x = np.arange(3, 8, scale)\n",
    "y = m * x + bb\n",
    "\n",
    "start = s.data[220:319]\n",
    "\n",
    "b = np.concatenate((start,b))\n",
    "y = np.concatenate((start,y))"
   ]
  },
  {
   "cell_type": "code",
   "execution_count": null,
   "metadata": {},
   "outputs": [],
   "source": [
    "fig = go.Figure() \n",
    "fig.update_layout(width=600, height=400, font=dict(family=\"EB Garamond SemiBold\", size=16, color=\"black\"), margin=dict(l=10, r=10, t=10, b=10))\n",
    "colors = ['#636EFA', '#EF553B', '#00CC96', '#AB63FA', '#FFA15A', '#19D3F3', '#FF6692', '#B6E880', '#FF97FF', '#FECB52']\n",
    "fig.add_trace(go.Scatter(x=x, y=y, name='Charging', line=dict(width=3, color=colors[1])))\n",
    "fig.add_trace(go.Scatter(x=x2, y=b, name='Normal', line=dict(width=3, color=colors[0])))\n",
    "\n",
    "# legend in upper right corner\n",
    "fig.update_layout(legend=dict(x=0.99, y=.99, traceorder=\"reversed\", yanchor=\"top\", xanchor=\"right\"))\n",
    "\n",
    "fig.update_yaxes(type=\"log\")\n",
    "fig.update_xaxes(range=[3,10.1], title='Energy [keV]')\n",
    "fig.update_yaxes(range=[2.15,3.7], title='Intensity [counts]')\n"
   ]
  },
  {
   "cell_type": "code",
   "execution_count": null,
   "metadata": {},
   "outputs": [],
   "source": [
    "# fig.write_image('../figures/pp_duane-hunt.pdf')\n",
    "# fig.write_image('../../mastersthesis/figures/pp_duane-hunt.pdf')"
   ]
  },
  {
   "cell_type": "markdown",
   "metadata": {},
   "source": [
    "# Fiori illustration"
   ]
  },
  {
   "cell_type": "code",
   "execution_count": null,
   "metadata": {},
   "outputs": [],
   "source": [
    "path = \"../../../Masteroppgave/2023-03-08_EDS-Apreo/exports/\"\n",
    "s = hs.load(path + 'GaSb_30kV_50pA.emsa', signal_type='EDS_SEM')\n",
    "elements = ['Ga', 'Sb']\n",
    "# s.set_lines()\n",
    "s.set_elements(elements)\n",
    "s.data[:33] = 0\n",
    "m = s.isig[8.:12.].create_model()\n",
    "m.fit()\n",
    "scale = s.axes_manager[0].scale\n",
    "offset = s.axes_manager[0].offset\n",
    "c = np.arange(0, 2048)\n",
    "x = s.axes_manager[0].axis\n",
    "\n",
    "xm = m.as_signal().axes_manager[0].axis\n",
    "\n",
    "b1 = m[0].function(xm) * scale*1\n",
    "b2 = m[0].function(xm) * scale*4"
   ]
  },
  {
   "cell_type": "code",
   "execution_count": null,
   "metadata": {},
   "outputs": [],
   "source": [
    "# plot\n",
    "fig = make_subplots(rows=1, cols=3, shared_xaxes=False, vertical_spacing=0.08) #, row_heights=[0.2, 0.8])\n",
    "\n",
    "fig.update_layout(width=800, height=400, font=dict(family=\"EB Garamond SemiBold\", size=16, color=\"black\"), margin=dict(l=10, r=10, t=10, b=90))\n",
    "colors = ['#636EFA', '#EF553B', '#00CC96', '#AB63FA', '#FFA15A', '#19D3F3', '#FF6692', '#B6E880', '#FF97FF', '#FECB52']\n",
    "fig.add_trace(go.Scatter(x=xm, y=b1, name='Background', line=dict(width=3, color=colors[0]), fill='tozeroy'), row=1, col=1)\n",
    "fig.add_trace(go.Scatter(x=xm, y=m[1].function(xm) * scale + b1, name='Peak', line=dict(width=3, color=colors[2]), fill='tonexty'), row=1, col=1)\n",
    "fig.add_trace(go.Scatter(x=xm, y=b2, name='Background', line=dict(width=3, color=colors[0]), fill='tozeroy', showlegend=False), row=1, col=2)\n",
    "fig.add_trace(go.Scatter(x=xm, y=m[1].function(xm) * scale + b2, name='Peak', line=dict(width=3, color=colors[2]), fill='tonexty', showlegend=False), row=1, col=2)\n",
    "fig.add_trace(go.Scatter(x=xm, y=b1, name='Background', line=dict(width=3, color=colors[0]), fill='tozeroy', showlegend=False), row=1, col=3)\n",
    "fig.add_trace(go.Scatter(x=xm, y=m[1].function(xm) * scale*.3 + b1, name='Peak', line=dict(width=3, color=colors[2]), fill='tonexty', showlegend=False), row=1, col=3)\n",
    "# log y\n",
    "# fig.update_yaxes(type=\"log\", range=[2.5, 4.3])\n",
    "fig.update_yaxes(range=[-600, 14e3])\n",
    "\n",
    "# put legend in upper right corner\n",
    "fig.update_layout(legend=dict(x=0.99, y=.99, traceorder=\"reversed\", yanchor=\"top\", xanchor=\"right\"))\n",
    "\n",
    "fig.update_yaxes(title='Intensity [counts]', row=1, col=1)\n",
    "fig.update_xaxes(range=[8.6,9.9], title='(a)', row=1, col=1)\n",
    "fig.update_xaxes(range=[8.6,9.9], title='(b)', row=1, col=2)\n",
    "fig.update_xaxes(range=[8.6,9.9], title='(c)', row=1, col=3)\n",
    "\n",
    "\n",
    "# put title at bottom with text Energy [keV]\n",
    "fig.update_layout(title_text=\"Energy [keV]\", title_x=0.53, title_y=0.015, title_font_size=18)"
   ]
  },
  {
   "cell_type": "code",
   "execution_count": null,
   "metadata": {},
   "outputs": [],
   "source": [
    "# fig.write_image('../figures/pp_fiori_snr.pdf')\n",
    "# fig.write_image('../../mastersthesis/figures/pp_fiori_snr.pdf')"
   ]
  },
  {
   "cell_type": "code",
   "execution_count": null,
   "metadata": {},
   "outputs": [],
   "source": [
    "# peak shift illustration\n",
    "\n",
    "# plot Ga Ka \n",
    "fig = make_subplots(rows=1, cols=2, shared_xaxes=False, vertical_spacing=0.08) #, row_heights=[0.2, 0.8])\n",
    "fig.update_layout(width=800, height=400, font=dict(family=\"EB Garamond SemiBold\", size=16, color=\"black\"), margin=dict(l=10, r=10, t=10, b=90))\n",
    "\n",
    "fig.add_trace(go.Scatter(x=x, y=m[1].function(x) * scale, name='Peak', line=dict(width=3, color=colors[2]), showlegend=False), row=1, col=1)\n",
    "fig.add_trace(go.Scatter(x=x, y=m[1].function(x+.045) * scale, name='Ga Kα peak', line=dict(width=3, color=colors[2])), row=1, col=2)\n",
    "\n",
    "# add a black dashed line from 9.2517 to 9.2517\n",
    "fig.add_trace(go.Scatter(x=[9.2517, 9.2517], y=[0, 1e4], name='9.2517 keV', mode='lines', line=dict(width=2, color='black', dash='dash')), row=1, col=2)\n",
    "\n",
    "fig.add_vline(x=9.2517, line_width=2, line_dash=\"dash\", line_color=\"black\")\n",
    "\n",
    "# put legend in upper right corner\n",
    "fig.update_layout(legend=dict(x=0.99, y=.99, traceorder=\"reversed\", yanchor=\"top\", xanchor=\"right\"))\n",
    "\n",
    "fig.update_yaxes(title='Intensity [counts]', row=1, col=1)\n",
    "fig.update_xaxes(range=[8.99,9.55], title='(a)', row=1, col=1)\n",
    "fig.update_xaxes(range=[8.99,9.55], title='(b)', row=1, col=2)\n",
    "\n",
    "fig.update_layout(title_text=\"Energy [keV]\", title_x=0.53, title_y=0.015, title_font_size=18)"
   ]
  },
  {
   "cell_type": "code",
   "execution_count": null,
   "metadata": {},
   "outputs": [],
   "source": []
  },
  {
   "cell_type": "code",
   "execution_count": null,
   "metadata": {},
   "outputs": [],
   "source": [
    "# fig.write_image('../figures/pp_peak_deviation.pdf')\n",
    "# fig.write_image('../../mastersthesis/figures/pp_peak_deviation.pdf')"
   ]
  },
  {
   "cell_type": "markdown",
   "metadata": {},
   "source": [
    "# Strays"
   ]
  },
  {
   "cell_type": "code",
   "execution_count": null,
   "metadata": {},
   "outputs": [],
   "source": [
    "path = \"../../../Masteroppgave/2023-03-08_EDS-Apreo/exports/\"\n",
    "s = hs.load(path + 'GaAs_30kV_25pA.emsa', signal_type='EDS_SEM')\n",
    "elements = ['Ga', 'As']\n",
    "# s.set_lines()\n",
    "s.set_elements(elements)\n",
    "s.data[:33] = 0\n",
    "# m = s.isig[8.:12.].create_model()\n",
    "m = s.create_model()\n",
    "\n",
    "m.fit()\n",
    "m.fit_background()\n",
    "scale = s.axes_manager[0].scale\n",
    "offset = s.axes_manager[0].offset\n",
    "c = np.arange(0, 2048)\n",
    "x = s.axes_manager[0].axis\n",
    "\n",
    "xm = m.as_signal().axes_manager[0].axis\n",
    "\n",
    "b = m[0].function(xm) * scale"
   ]
  },
  {
   "cell_type": "code",
   "execution_count": null,
   "metadata": {},
   "outputs": [],
   "source": [
    "fig = go.Figure() \n",
    "fig.update_layout(width=800, height=300, font=dict(family=\"EB Garamond SemiBold\", size=16, color=\"black\"), margin=dict(l=10, r=10, t=10, b=10))\n",
    "\n",
    "\n",
    "# make a gaussian i can move\n",
    "p = m[1].function(xm) * scale\n",
    "p = p[int(kev2ch(m[1].centre.value-.35)):int(kev2ch(m[1].centre.value+.35))]\n",
    "x_p = xm[int(kev2ch(m[1].centre.value-.35)):int(kev2ch(m[1].centre.value+.35))]\n",
    "\n",
    "x_list = []\n",
    "y_list = []\n",
    "\n",
    "\n",
    "def add_peak(scale_y, shift_x, scale_x=0, p=p, x_p=x_p, x_list=x_list, y_list=y_list, scale=scale, m=m):\n",
    "    # x_list.append( (x_p  + shift_x))\n",
    "    points = len(x_p)\n",
    "    new_X = np.linspace(x_p[0]-scale_x, x_p[-1]+scale_x, points)\n",
    "    x_list.append(new_X - x_p[0] -0.35 + shift_x)\n",
    "    y_list.append( p * scale_y + m[0].function(x_list[-1]) * scale)\n",
    "\n",
    "# Si Ka\n",
    "# add_peak(.3, 1.74)\n",
    "\n",
    "# # add Cu Ka peak\n",
    "add_peak(.8, 8.0)\n",
    "\n",
    "# # add cu Kb peak\n",
    "add_peak(.1, 8.7)\n",
    "\n",
    "# add Mo Ka at 17.48\n",
    "add_peak(.2, 17.48, scale_x=0.8)\n",
    "# add Mo La at 2.29 and Mo Lb at 2.4\n",
    "add_peak(.22, 2.29, scale_x=-0.2)\n",
    "# add_peak(.2, 2.4)\n",
    "\n",
    "\n",
    "# add s\n",
    "fig.add_trace(go.Scatter(x=x, y=s.data, name='Expected spectrum', line=dict(width=3, color=colors[0])))\n",
    "for i in range(len(x_list)):\n",
    "    if i == 0:\n",
    "        name = True\n",
    "    else:\n",
    "        name = False\n",
    "    fig.add_trace(go.Scatter(x=x_list[i], y=y_list[i], name='Additional stray peaks', line=dict(width=3, color=colors[2]), showlegend=name))\n",
    "# fig.add_trace(go.Scatter(x=x_si, y=si, name='Si', line=dict(width=3, color=colors[1])))\n",
    "\n",
    "# legend in upper right corner\n",
    "fig.update_layout(legend=dict(x=0.99, y=.99, yanchor=\"top\", xanchor=\"right\"))\n",
    "\n",
    "# fig.update_yaxes(type=\"log\")\n",
    "fig.update_xaxes(title='Energy [keV]', range=[.39,20])\n",
    "fig.update_yaxes(title='Intensity [counts]', range=[-1e3,12e3])"
   ]
  },
  {
   "cell_type": "code",
   "execution_count": null,
   "metadata": {},
   "outputs": [],
   "source": [
    "# fig.write_image('../figures/pp_strays.pdf')\n",
    "# fig.write_image('../../mastersthesis/figures/pp_strays.pdf')"
   ]
  },
  {
   "cell_type": "code",
   "execution_count": null,
   "metadata": {},
   "outputs": [],
   "source": []
  },
  {
   "attachments": {},
   "cell_type": "markdown",
   "metadata": {},
   "source": [
    "# Cu-tape, showing bg ratio and Fiori (NOT USED)"
   ]
  },
  {
   "cell_type": "code",
   "execution_count": null,
   "metadata": {},
   "outputs": [],
   "source": [
    "def vacc(s):\n",
    "    return s.metadata.Acquisition_instrument.SEM.beam_energy"
   ]
  },
  {
   "cell_type": "code",
   "execution_count": null,
   "metadata": {},
   "outputs": [],
   "source": [
    "path = \"../../../Masteroppgave/2022-09-06_EDS-Apreo/exports/\"\n",
    "s1 = hs.load(path + 'Cu_05kV.emsa', signal_type='EDS_SEM')\n",
    "s2 = hs.load(path + 'Cu_10kV.emsa', signal_type='EDS_SEM')\n",
    "s3 = hs.load(path + 'Cu_30kV.emsa', signal_type='EDS_SEM')\n",
    "ss = [s1, s2, s3]\n",
    "# s = hs.stack([s1, s2, s3])\n",
    "elements = ['C', 'Cu', 'O']\n",
    "\n",
    "scale = s1.axes_manager[0].scale\n",
    "offset = s1.axes_manager[0].offset\n",
    "x = s1.axes_manager[0].axis"
   ]
  },
  {
   "cell_type": "code",
   "execution_count": null,
   "metadata": {},
   "outputs": [],
   "source": [
    "mm = []\n",
    "\n",
    "for s in ss:\n",
    "    s.set_elements(elements)\n",
    "    s.data[:33] = 0\n",
    "    m = s.isig[.13:vacc(s)].create_model()\n",
    "    m.fit()\n",
    "    m.fit_background()\n",
    "    mm.append(m)\n"
   ]
  },
  {
   "cell_type": "code",
   "execution_count": null,
   "metadata": {},
   "outputs": [],
   "source": [
    "fig = go.Figure() \n",
    "fig.update_layout(width=800, height=300, font=dict(family=\"EB Garamond SemiBold\", size=16, color=\"black\"), margin=dict(l=10, r=10, t=10, b=10))\n",
    "\n",
    "\n",
    "# add s\n",
    "for s in ss:\n",
    "    fig.add_trace(go.Scatter(x=x, y=s.data, name=f'{vacc(s)} kV', mode = 'lines'))\n",
    "\n",
    "for m in mm:\n",
    "    xm = m.as_signal().axes_manager[0].axis\n",
    "    b = m[0].function(xm) * scale\n",
    "    # fig.add_trace(go.Scatter(x=xm, y=b, name='Background', line=dict(width=3, color=colors[0])))\n",
    "    fig.add_trace(go.Scatter(x=xm, y=m.as_signal().data, name='m', line=dict(width=3)))\n",
    "\n",
    "# legend in upper right corner\n",
    "fig.update_layout(legend=dict(x=0.99, y=.99, yanchor=\"top\", xanchor=\"right\"))\n",
    "\n",
    "# fig.update_yaxes(type=\"log\")\n",
    "fig.update_xaxes(title='Energy [keV]', range=[.13,2])\n",
    "fig.update_yaxes(title='Intensity [counts]', range=[.5,5], type='log')"
   ]
  },
  {
   "cell_type": "code",
   "execution_count": null,
   "metadata": {},
   "outputs": [],
   "source": [
    "bg = [42, 12, 125]"
   ]
  },
  {
   "cell_type": "code",
   "execution_count": null,
   "metadata": {},
   "outputs": [],
   "source": [
    "mm[2][1].function(x).sum() * scale"
   ]
  },
  {
   "cell_type": "code",
   "execution_count": null,
   "metadata": {},
   "outputs": [],
   "source": [
    "for s in ss:\n",
    "    m = mm[ss.index(s)]\n",
    "    c_ka = m['C_Ka'].A.value\n",
    "    i_s  =  s.isig[0.18:0.38].data.sum()\n",
    "    sum_s = s.data.sum()\n",
    "    bg_c_ka = m[0].function(.277) * scale\n",
    "    # fiori = round(i_s/bg[ss.index(s)])\n",
    "    fiori = round(i_s/(bg_c_ka))\n",
    "    print(f'P/B {vacc(s)} kV: {fiori}')\n",
    "\n",
    "    # background portions\n",
    "    lines = "
   ]
  },
  {
   "cell_type": "code",
   "execution_count": null,
   "metadata": {},
   "outputs": [],
   "source": [
    "for l in mm[2].active_components:\n",
    "    if not l.isbackground:\n",
    "        print(l.name, l.A.value, l.centre.value, l.sigma.value)"
   ]
  },
  {
   "cell_type": "code",
   "execution_count": null,
   "metadata": {},
   "outputs": [],
   "source": [
    "peaks = [0,0,0]\n",
    "lines = [['C_Ka'], ['C_Ka'], ['C_Ka', 'Cu_Ka', 'Cu_Kb']]\n",
    "for m in mm:\n",
    "    for l in lines[mm.index(m)]:\n",
    "        peaks[mm.index(m)] += m[l].A.value\n"
   ]
  },
  {
   "cell_type": "code",
   "execution_count": null,
   "metadata": {},
   "outputs": [],
   "source": [
    "peaks"
   ]
  },
  {
   "cell_type": "code",
   "execution_count": null,
   "metadata": {},
   "outputs": [],
   "source": [
    "bg_total = [0,0,0]\n",
    "for m in mm:\n",
    "    mx = m.as_signal().axes_manager[0].axis\n",
    "    bg_total[mm.index(m)] = m[0].function(mx).sum() * scale\n",
    "\n",
    "bg_total"
   ]
  },
  {
   "cell_type": "code",
   "execution_count": null,
   "metadata": {},
   "outputs": [],
   "source": [
    "print('S sum,      m_total,      diff')\n",
    "for i in range(3):\n",
    "    print(f'{ss[i].data.sum():.2f},  {peaks[i]+bg_total[i]:.2f}, {ss[i].data.sum() - (peaks[i]+bg_total[i]):.2f}')"
   ]
  },
  {
   "cell_type": "code",
   "execution_count": null,
   "metadata": {},
   "outputs": [],
   "source": [
    "# print background ratio\n",
    "print('Background ratio')\n",
    "for i in range(3):\n",
    "    print(f'{bg_total[i]/(bg_total[i] + peaks[i]):.2f}')"
   ]
  }
 ],
 "metadata": {
  "kernelspec": {
   "display_name": "hspy",
   "language": "python",
   "name": "python3"
  },
  "language_info": {
   "codemirror_mode": {
    "name": "ipython",
    "version": 3
   },
   "file_extension": ".py",
   "mimetype": "text/x-python",
   "name": "python",
   "nbconvert_exporter": "python",
   "pygments_lexer": "ipython3",
   "version": "3.8.16"
  },
  "orig_nbformat": 4
 },
 "nbformat": 4,
 "nbformat_minor": 2
}
