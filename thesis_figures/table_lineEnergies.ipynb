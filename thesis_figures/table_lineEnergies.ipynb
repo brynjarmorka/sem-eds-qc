{
 "cells": [
  {
   "cell_type": "code",
   "execution_count": null,
   "metadata": {},
   "outputs": [],
   "source": [
    "import numpy as np\n",
    "import pandas as pd\n",
    "import hyperspy.api as hs\n",
    "\n",
    "import plotly.graph_objects as go"
   ]
  },
  {
   "cell_type": "code",
   "execution_count": null,
   "metadata": {},
   "outputs": [],
   "source": [
    "# Si elemental data base\n",
    "# hs.material.elements['Si'].Atomic_properties"
   ]
  },
  {
   "cell_type": "code",
   "execution_count": null,
   "metadata": {},
   "outputs": [],
   "source": [
    "def energy(element):\n",
    "    dic = hs.material.elements[element]['Atomic_properties']['Xray_lines'].as_dictionary()\n",
    "    df = pd.DataFrame.from_dict(dic, orient='index')\n",
    "    df['element'] = element\n",
    "    return df\n",
    "\n",
    "def multiple_energy(elements):\n",
    "    df = pd.DataFrame()\n",
    "    for element in elements:\n",
    "        df = pd.concat([df, energy(element)])\n",
    "    return df"
   ]
  },
  {
   "cell_type": "code",
   "execution_count": null,
   "metadata": {},
   "outputs": [],
   "source": [
    "df = multiple_energy(['Si', 'C', 'O', 'Ga', 'As', 'Sb', 'Mo', 'Ni'])\n",
    "df = multiple_energy(['Si', 'C', 'Ga', 'As', 'Sb'])\n",
    "\n",
    "df.sort_values(by='energy (keV)')\n",
    "'df'"
   ]
  },
  {
   "cell_type": "code",
   "execution_count": null,
   "metadata": {},
   "outputs": [],
   "source": [
    "# loop over index column, replace a with alpha, b with beta, g with gamma\n",
    "for i in df.index:\n",
    "    if 'a' in i:\n",
    "        df.rename(index={i:i.replace('a','$\\\\alpha$')}, inplace=True)\n",
    "    elif 'b' in i:\n",
    "        df.rename(index={i:i.replace('b','$\\\\beta$')}, inplace=True)\n",
    "    elif 'g' in i:\n",
    "        df.rename(index={i:i.replace('g','$\\\\gamma$')}, inplace=True)\n",
    "    elif 'n' in i:\n",
    "        df.rename(index={i:i.replace('n','$\\\\nu$')}, inplace=True)\n",
    "\n",
    "# if index[-1] == 1, 2 or 3, replace with $_1$, $_2$ or $_3$\n",
    "for i in df.index:\n",
    "    if i[-1] == '1':\n",
    "        df.rename(index={i:i.replace('1','$_1$')}, inplace=True)\n",
    "    elif i[-1] == '2':\n",
    "        df.rename(index={i:i.replace('2','$_2$')}, inplace=True)\n",
    "    elif i[-1] == '3':\n",
    "        df.rename(index={i:i.replace('3','$_3$')}, inplace=True)\n",
    "    elif i[-1] == '4':\n",
    "        df.rename(index={i:i.replace('4','$_4$')}, inplace=True)"
   ]
  },
  {
   "cell_type": "code",
   "execution_count": null,
   "metadata": {},
   "outputs": [],
   "source": [
    "# insert column with \"&\" between each column\n",
    "df.insert(0, '&', '&')\n",
    "df.insert(2, '&2', '&')\n",
    "df.insert(4, '&4', '&')\n",
    "df.insert(6, '\\\\\\\\', '\\\\\\\\')\n",
    "\n",
    "df"
   ]
  },
  {
   "cell_type": "code",
   "execution_count": null,
   "metadata": {},
   "outputs": [],
   "source": [
    "# plot weight on energy (keV), with element as color\n",
    "\n",
    "fig = go.Figure()\n",
    "\n",
    "for element in df['element'].unique():\n",
    "    fig.add_trace(go.Scatter(x=df[df['element'] == element]['energy (keV)'],\n",
    "                             y=df[df['element'] == element]['weight'],\n",
    "                             mode='markers',\n",
    "                             name=element,\n",
    "                             marker=dict(size=10)))\n",
    "    \n",
    "fig"
   ]
  },
  {
   "cell_type": "code",
   "execution_count": null,
   "metadata": {},
   "outputs": [],
   "source": [
    "hs.material.elements['H']['Atomic_properties']"
   ]
  },
  {
   "cell_type": "code",
   "execution_count": null,
   "metadata": {},
   "outputs": [],
   "source": [
    "hs.eds.xray_range('C_Ka', 30., hs.material.elements.Ga.\n",
    "                  Physical_properties.density_gcm3)"
   ]
  }
 ],
 "metadata": {
  "kernelspec": {
   "display_name": "hspy",
   "language": "python",
   "name": "python3"
  },
  "language_info": {
   "codemirror_mode": {
    "name": "ipython",
    "version": 3
   },
   "file_extension": ".py",
   "mimetype": "text/x-python",
   "name": "python",
   "nbconvert_exporter": "python",
   "pygments_lexer": "ipython3",
   "version": "3.8.16"
  },
  "orig_nbformat": 4
 },
 "nbformat": 4,
 "nbformat_minor": 2
}
