{
 "cells": [
  {
   "cell_type": "code",
   "execution_count": null,
   "metadata": {},
   "outputs": [],
   "source": [
    "colors = ['#636EFA', '#EF553B', '#00CC96', '#AB63FA', '#FFA15A', '#19D3F3', '#FF6692', '#B6E880', '#FF97FF', '#FECB52'] # plotly colors\n"
   ]
  },
  {
   "cell_type": "code",
   "execution_count": null,
   "metadata": {},
   "outputs": [],
   "source": []
  },
  {
   "cell_type": "code",
   "execution_count": null,
   "metadata": {},
   "outputs": [],
   "source": []
  },
  {
   "cell_type": "markdown",
   "metadata": {},
   "source": [
    "# subplots"
   ]
  },
  {
   "cell_type": "code",
   "execution_count": null,
   "metadata": {},
   "outputs": [],
   "source": [
    "import numpy as np\n",
    "import plotly.graph_objects as go\n",
    "from plotly.subplots import make_subplots\n",
    "import hyperspy.api as hs"
   ]
  },
  {
   "cell_type": "code",
   "execution_count": null,
   "metadata": {},
   "outputs": [],
   "source": [
    "path = \"../../../Masteroppgave/2023-03-08_EDS-Apreo/exports/\"\n",
    "s = hs.load(path + 'GaAs_30kV_50pA.emsa', signal_type='EDS_SEM')\n",
    "x = s.axes_manager[0].axis\n",
    "scale = s.axes_manager[0].scale\n",
    "offset = s.axes_manager[0].offset"
   ]
  },
  {
   "cell_type": "code",
   "execution_count": null,
   "metadata": {},
   "outputs": [],
   "source": [
    "def kev2channel(kev):\n",
    "    return (kev - offset) / scale\n",
    "def channel2kev(channel):\n",
    "    return channel * scale + offset\n",
    "def theoretical_energy(line, what='energy (keV)'): # what can be 'energy (keV)' or 'weight'\n",
    "    return hs.material.elements[line.split('_')[0]]['Atomic_properties']['Xray_lines'][line.split('_')[1]][what]"
   ]
  },
  {
   "cell_type": "code",
   "execution_count": null,
   "metadata": {},
   "outputs": [],
   "source": []
  },
  {
   "cell_type": "code",
   "execution_count": null,
   "metadata": {},
   "outputs": [],
   "source": [
    "fig = make_subplots(rows=3, cols=1, shared_xaxes=False, vertical_spacing=0.08)\n",
    "colors = ['#636EFA', '#EF553B', '#00CC96', '#AB63FA', '#FFA15A', '#19D3F3', '#FF6692', '#B6E880', '#FF97FF', '#FECB52'] # plotly colors\n",
    "fig.update_layout(font=dict(family=\"EB Garamond SemiBold\", size=16, color=\"black\"))\n",
    "fig.update_layout(margin=dict(l=20, r=20, t=20, b=20), width=800, height=800)\n",
    "\n",
    "fig.update_yaxes(type=\"log\", range=[2, 5])\n",
    "\n",
    "fig.update_yaxes(title_text=\"(a)\", row=1, col=1, title_standoff=0)\n",
    "fig.update_yaxes(title_text='Intensity [counts]<br>(b)', row=2, col=1, title_standoff=19)\n",
    "fig.update_yaxes(title_text=\"(c)\", row=3, col=1, title_standoff=0)"
   ]
  },
  {
   "cell_type": "code",
   "execution_count": null,
   "metadata": {},
   "outputs": [],
   "source": []
  },
  {
   "cell_type": "code",
   "execution_count": null,
   "metadata": {},
   "outputs": [],
   "source": [
    "fig.write_image('../figures/name.pdf')\n",
    "fig.write_image('../../mastersthesis/figures/name.pdf')"
   ]
  },
  {
   "cell_type": "code",
   "execution_count": null,
   "metadata": {},
   "outputs": [],
   "source": []
  },
  {
   "cell_type": "code",
   "execution_count": null,
   "metadata": {},
   "outputs": [],
   "source": [
    "# y-axis title on 2 subplots\n",
    "\n",
    "# annotate \"Intensity [counts]\" as a y-axis title, on the paper\n",
    "fig.add_annotation(x=-0.18, y=0.5, xref=\"paper\", yref=\"paper\", text=\"Intensity [counts]\", showarrow=False, \n",
    "                   font=dict(family=\"EB Garamond SemiBold\", size=20, color=\"black\"), textangle=-90, xanchor=\"left\", yanchor=\"middle\")"
   ]
  },
  {
   "cell_type": "markdown",
   "metadata": {},
   "source": [
    "# tickvals"
   ]
  },
  {
   "cell_type": "code",
   "execution_count": null,
   "metadata": {},
   "outputs": [],
   "source": [
    "tickvals_y = [100, 1000, 10000, 100000]\n",
    "ticktext_y = ['0.1k', '1k', '10k', '100k']\n",
    "fig.update_yaxes(tickvals=tickvals_y, ticktext=ticktext_y)"
   ]
  }
 ],
 "metadata": {
  "language_info": {
   "name": "python"
  },
  "orig_nbformat": 4
 },
 "nbformat": 4,
 "nbformat_minor": 2
}
