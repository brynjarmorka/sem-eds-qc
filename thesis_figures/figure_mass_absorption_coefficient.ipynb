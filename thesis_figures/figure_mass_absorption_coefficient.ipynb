{
 "cells": [
  {
   "cell_type": "code",
   "execution_count": null,
   "metadata": {},
   "outputs": [],
   "source": [
    "import numpy as np\n",
    "import hyperspy.api as hs\n",
    "import plotly.graph_objects as go\n",
    "from plotly.subplots import make_subplots"
   ]
  },
  {
   "cell_type": "code",
   "execution_count": null,
   "metadata": {},
   "outputs": [],
   "source": [
    "energy = np.arange(0.1, 13, 0.001)\n",
    "mu_gasb = hs.material.mass_absorption_mixture(elements=['Ga','Sb'], weight_percent=[50,50], energies=energy)\n",
    "mu_gaas = hs.material.mass_absorption_mixture(elements=['Ga','As'], weight_percent=[50,50], energies=energy)\n",
    "\n",
    "mu_ga = hs.material.mass_absorption_coefficient(element='Ga', energies=energy)\n",
    "mu_as = hs.material.mass_absorption_coefficient(element='As', energies=energy)\n",
    "\n",
    "mu_sb = hs.material.mass_absorption_coefficient(element='Sb', energies=energy)\n",
    "\n",
    "\n",
    "\n",
    "\n",
    "# plot the mass absorption coefficient\n",
    "\n",
    "fig = go.Figure()\n",
    "fig.add_trace(go.Scatter(x=energy, y=mu_gasb, name='mu GaSb'))\n",
    "fig.add_trace(go.Scatter(x=energy, y=mu_gaas, name='mu GaAs'))\n",
    "\n",
    "fig.add_trace(go.Scatter(x=energy, y=mu_ga, name='mu Ga'))\n",
    "fig.add_trace(go.Scatter(x=energy, y=mu_sb, name='mu Sb'))\n",
    "fig.add_trace(go.Scatter(x=energy, y=mu_as, name='mu As'))\n",
    "\n",
    "\n",
    "# log y\n",
    "fig.update_yaxes(type=\"log\")"
   ]
  },
  {
   "cell_type": "code",
   "execution_count": null,
   "metadata": {},
   "outputs": [],
   "source": [
    "def theoretical_energy(line, what='energy (keV)'): # what can be 'energy (keV)' or 'weight'\n",
    "    return hs.material.elements[line.split('_')[0]]['Atomic_properties']['Xray_lines'][line.split('_')[1]][what]"
   ]
  },
  {
   "cell_type": "code",
   "execution_count": null,
   "metadata": {},
   "outputs": [],
   "source": [
    "fig = make_subplots(rows=2, cols=1, shared_xaxes=False, vertical_spacing=0.08)\n",
    "colors = ['#636EFA', '#EF553B', '#00CC96', '#AB63FA', '#FFA15A', '#19D3F3', '#FF6692', '#B6E880', '#FF97FF', '#FECB52'] # plotly colors\n",
    "fig.update_layout(font=dict(family=\"EB Garamond SemiBold\", size=16, color=\"black\"))\n",
    "fig.update_layout(margin=dict(l=120, r=20, t=20, b=20), width=900, height=600)\n",
    "\n",
    "fig.update_yaxes(type=\"log\") #, range=[2, 5])\n",
    "\n",
    "fig.add_trace(go.Scatter(x=energy, y=mu_gaas, name='GaAs', line=dict(color=colors[0], width=3)), row=1, col=1)\n",
    "fig.add_trace(go.Scatter(x=energy, y=mu_gasb, name='GaSb', line=dict(color=colors[1], width=3)), row=1, col=1)\n",
    "\n",
    "\n",
    "fig.update_yaxes(title_text=\"(a)\", row=1, col=1, title_standoff=0)\n",
    "fig.update_yaxes(title_text='(b)', row=1, col=1, title_standoff=0) # \\u03BC<sub>\\u03C1</sub><br>\n",
    "fig.update_xaxes(title_text=\"Energy [keV]\", row=1, col=1, title_standoff=0)\n",
    "\n",
    "lines1 = ['Ga_La', 'Ga_Ka', 'As_La', 'As_Ka']\n",
    "names1 = ['Ga L\\u03B1', 'Ga K\\u03B1', 'As L\\u03B1', 'As K\\u03B1']\n",
    "lines2 = ['Ga_La', 'Ga_Ka', 'Sb_La']\n",
    "\n",
    "def add_vline(line, name, row, col, elements=['Ga','As'], ax=30, ay=-30):\n",
    "    intersection = hs.material.mass_absorption_mixture(elements=elements, weight_percent=[50,50], energies=theoretical_energy(line))\n",
    "    fig.add_vline(x=theoretical_energy(line), line_width=1, line_dash=\"dash\", line_color=\"black\", row=row, col=col, )\n",
    "    fig.add_annotation(x=theoretical_energy(line), y=np.log10(intersection), xref=\"x\", yref=\"y\", text=f'{name}  \\u03BC<sub>\\u03C1</sub>={int(round(intersection,0))}',\n",
    "                           showarrow=True,font=dict(family=\"EB Garamond SemiBold\", size=15, color=\"black\"), xanchor=\"left\", yanchor=\"middle\", row=row, col=col, ax=ax, ay=ay)\n",
    "\n",
    "add_vline('Ga_La', 'Ga L\\u03B1', 1, 1, ax=50, ay=60)\n",
    "add_vline('Ga_Ka', 'Ga K\\u03B1', 1, 1, ax=-110, ay=-50)\n",
    "add_vline('As_La', 'As L\\u03B1', 1, 1)\n",
    "add_vline('As_Ka', 'As K\\u03B1', 1, 1)\n",
    "\n",
    "add_vline('Ga_La', 'Ga L\\u03B1', 2, 1, elements=['Ga','Sb'], ax=20, ay=-50)\n",
    "add_vline('Ga_Ka', 'Ga K\\u03B1', 2, 1, elements=['Ga','Sb'], ax=80, ay=-60)\n",
    "add_vline('Sb_La', 'Sb L\\u03B1', 2, 1, elements=['Ga','Sb'])\n",
    "\n",
    "fig.add_annotation(x=-0.15, y=0.5, xref=\"paper\", yref=\"paper\", text=\"\\u03BC<sub>\\u03C1</sub> [cm<sup>2</sup>/g]\", showarrow=False, \n",
    "                   font=dict(family=\"EB Garamond SemiBold\", size=20, color=\"black\"), textangle=-90, xanchor=\"left\", yanchor=\"middle\")\n",
    "\n",
    "# lgend inside \n",
    "fig.update_layout(legend=dict(yanchor=\"top\",y=0.99,xanchor=\"right\",x=0.99))\n"
   ]
  },
  {
   "cell_type": "code",
   "execution_count": null,
   "metadata": {},
   "outputs": [],
   "source": [
    "# hs.material.elements['Sb']['Atomic_properties']['Xray_lines']"
   ]
  },
  {
   "cell_type": "code",
   "execution_count": null,
   "metadata": {},
   "outputs": [],
   "source": [
    "# fig.write_image('../figures/mass_absorption_coefficients.pdf')\n",
    "# fig.write_image('../../mastersthesis/figures/mass_absorption_coefficients.pdf')"
   ]
  }
 ],
 "metadata": {
  "kernelspec": {
   "display_name": "hspy",
   "language": "python",
   "name": "python3"
  },
  "language_info": {
   "codemirror_mode": {
    "name": "ipython",
    "version": 3
   },
   "file_extension": ".py",
   "mimetype": "text/x-python",
   "name": "python",
   "nbconvert_exporter": "python",
   "pygments_lexer": "ipython3",
   "version": "3.8.16"
  },
  "orig_nbformat": 4
 },
 "nbformat": 4,
 "nbformat_minor": 2
}
