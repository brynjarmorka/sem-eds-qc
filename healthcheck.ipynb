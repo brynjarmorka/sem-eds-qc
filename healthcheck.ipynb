{
 "cells": [
  {
   "cell_type": "code",
   "execution_count": 1,
   "metadata": {},
   "outputs": [],
   "source": [
    "import hyperspy.api as hs\n",
    "import numpy as np\n",
    "import matplotlib.pyplot as plt\n",
    "import pandas as pd\n",
    "\n",
    "from helper_functions import elementlines, nearestlines, theoretical_energy"
   ]
  },
  {
   "cell_type": "code",
   "execution_count": 2,
   "metadata": {},
   "outputs": [],
   "source": [
    "# %matplotlib qt"
   ]
  },
  {
   "cell_type": "code",
   "execution_count": 3,
   "metadata": {},
   "outputs": [],
   "source": [
    "plt.rcParams['font.size'] = '16'\n",
    "plt.rcParams[\"figure.figsize\"] = (15,8)\n",
    "plt.rcParams['lines.linewidth'] = 3\n",
    "plt.rcParams['font.family'] = 'monospace'"
   ]
  },
  {
   "cell_type": "code",
   "execution_count": 4,
   "metadata": {},
   "outputs": [],
   "source": [
    "# #### SU9000 #####\n",
    "# path = 'data/Skomedal_2022-03-23_EDS_SU9000'\n",
    "# elements = ['Al', 'Au', 'C', 'Cu', 'F', 'Fe', 'Mg', 'Mo', 'Ni', 'O', 'Si',]  # from Mari, pluss Mg. Sb is probably too low, gets 0 area fitted\n",
    "# lines_of_interest = ['Al_Ka', 'C_Ka', 'Cu_Ka', 'Mo_La', 'Ni_Ka', 'Ni_La', 'O_Ka', 'Si_Ka', 'Mo_Ka']\n",
    "# calibrate_all_lines = False\n",
    "# make_info_on_all_lines = False\n",
    "# line_ratio_list = [['Ni_Ka', 'Ni_La'], ['Ni_Ka', 'Mo_Ka'], ['Mo_Ka', 'Mo_La']]\n",
    "# fwtm_to_fwhm_lines = ['Ni_Ka']\n",
    "\n",
    "# file = 'Spectrum 03.emsa'  # 30 kV\n",
    "# file = 'Spectrum 09.emsa'  # 15 kV\n",
    "# file = 'Spectrum 10.emsa'  # 10 kV\n",
    "# file = 'Spectrum 11.emsa'  # 5 kV"
   ]
  },
  {
   "cell_type": "code",
   "execution_count": 5,
   "metadata": {},
   "outputs": [],
   "source": [
    "##### SEM Apreo September 2022 #####\n",
    "\n",
    "##### GaAs #####\n",
    "path = 'data/Maehlum_2022-09-06_EDS-SEM-APREO'\n",
    "elements = ['Ga', 'As', 'O', 'C', 'Si']\n",
    "# elements = ['Ga', 'As']\n",
    "# lines_of_interest = ['Ga_Ka', 'As_Ka', 'O_Ka', 'C_Ka', 'Si_Ka', 'Ga_La', 'As_La', 'Ga_Kb', 'As_Kb', 'Ga_Ll']\n",
    "lines_of_interest = ['Ga_Ka', 'As_Ka', 'Ga_La', 'As_La', 'Ga_Kb', 'As_Kb']\n",
    "make_info_on_all_lines = True\n",
    "line_ratio_list = [['As_Ka', 'As_La'], ['Ga_Ka', 'Ga_La'], ['Ga_La', 'As_La']]\n",
    "fwtm_to_fwhm_lines = ['Ga_Ka', 'Ga_La']\n",
    "fiori_peaks = ['Ga_La', 'As_La', 'Ga_Ka']\n",
    "\n",
    "file = 'GaAs_30kV.emsa'\n",
    "file = 'GaAs_15kV.emsa'\n",
    "file = 'GaAs_10kV.emsa'\n",
    "file = 'GaAs_05kV.emsa'\n",
    "\n",
    "\n",
    "# ##### Mo #####\n",
    "# path = 'data/Mæhlum_2022-09-06_EDS-SEM-APREO'\n",
    "# file = 'Mo_30kV.emsa'\n",
    "# elements = ['Mo', 'O']\n",
    "# lines_of_interest = ['Mo_Ka', 'O_Ka', 'Mo_La', 'Mo_Kb', 'Mo_Ll', 'Mo_Lb1', 'Mo_Lg3']\n",
    "# make_info_on_all_lines = False\n",
    "# line_ratio_list = [['Mo_Ka', 'Mo_La']]\n",
    "# fwtm_to_fwhm_lines = ['Mo_Ka', 'Mo_La']\n",
    "\n",
    "# common settings\n",
    "zero_peak_end_index = 33\n",
    "# the model\n",
    "model_background_order = 6"
   ]
  },
  {
   "cell_type": "code",
   "execution_count": 61,
   "metadata": {},
   "outputs": [],
   "source": [
    "##### SEM Apreo March 2023 #####\n",
    "path = '../../Masteroppgave/2023-03-08_EDS-Apreo/exports/'\n",
    "\n",
    "##### GaAs #####\n",
    "elements = ['Ga', 'As']\n",
    "lines_of_interest = ['Ga_Ka', 'As_Ka', 'Ga_La', 'As_La', 'Ga_Kb', 'As_Kb']\n",
    "fiori_peaks = ['Ga_La', 'As_La', 'Ga_Ka']\n",
    "line_ratio_list = [['As_Ka', 'As_La'], ['Ga_Ka', 'Ga_La'], ['Ga_La', 'As_La']]\n",
    "fwtm_to_fwhm_lines = ['Ga_Ka', 'Ga_La']\n",
    "fwtm_to_fwhm_lines_all = ['Ga_Ka', 'Ga_La']\n",
    "\n",
    "file_current_ICR_PT = [\n",
    "    ['GaAs_05kV_25pA.emsa', 25, 880, 6], # 0\n",
    "    ['GaAs_10kV_25pA.emsa', 25, 1750, 6],\n",
    "    ['GaAs_15kV_25pA.emsa', 25, 3300, 6], # 2\n",
    "    ['GaAs_30kV_25pA.emsa', 25, 8000, 6],\n",
    "    ['GaAs_30kV_50pA.emsa', 50, 16400, 6], # 4\n",
    "]\n",
    "\n",
    "# ##### GaAsCu #####\n",
    "# elements = ['Ga', 'As', 'Cu']\n",
    "# fiori_peaks = ['Ga_La', 'As_La', 'Ga_Ka', 'Cu_Ka', 'Cu_La']\n",
    "# line_ratio_list = [['As_Ka', 'As_La'], ['Ga_Ka', 'Ga_La'], ['Ga_La', 'As_La'], ['Cu_Ka', 'Cu_La'], ['Cu_Ka', 'Ga_Ka'], ['Cu_Ka', 'As_Ka']]\n",
    "# fwtm_to_fwhm_lines = ['Cu_Ka', 'As_Kb']\n",
    "# fwtm_to_fwhm_lines_all = ['Cu_Ka', 'As_Kb']\n",
    "\n",
    "# file_current_ICR_PT = [\n",
    "#     ['GaAs_Cu_30kV_50pA_noPulsePileUpCorrection.emsa', 50, 13000, 6], # 0\n",
    "#     ['GaAs_Cu_30kV_50pA_withPulsePileUpCorrection.emsa', 50, 13000, 6], # 1\n",
    "# ]\n",
    "\n",
    "\n",
    "##### GaSb #####\n",
    "# Sb_Ka has to high energy\n",
    "# elements = ['Ga', 'Sb']\n",
    "# lines_of_interest = ['Ga_Ka', 'Ga_Kb', 'Ga_La', 'Sb_La', 'Sb_Lb1']\n",
    "# fiori_peaks = ['Ga_La', 'Sb_La', 'Ga_Ka', 'Sb_Lb1']\n",
    "# line_ratio_list = [['Ga_Ka', 'Ga_La'], ['Sb_La', 'Sb_Lb1'], ['Ga_La', 'Sb_La']]\n",
    "# fwtm_to_fwhm_lines = ['Ga_Ka', 'Ga_La']\n",
    "# fwtm_to_fwhm_lines_all = ['Ga_Ka', 'Ga_La']\n",
    "\n",
    "# file_current_ICR_PT = [\n",
    "#     ['GaSb_05kV_50pA.emsa', 50, 1080, 6],\n",
    "#     ['GaSb_10kV_50pA.emsa', 50, 2300, 6],\n",
    "#     ['GaSb_15kV_50pA.emsa', 50, 5700, 6],\n",
    "#     ['GaSb_15kV_200pA.emsa', 200, 22000, 6],\n",
    "#     ['GaSb_15kV_400pA.emsa', 400, 42000, 6], # 4\n",
    "#     ['GaSb_30kV_50pA.emsa', 50, 17000, 6], # 5\n",
    "#     ['GaSb_30kV_50pA_noPPUC.emsa', 50, 17000, 6], # 6\n",
    "#     ['GaSb_30kV_50pA_processTime1.emsa', 50, 17000, 1],\n",
    "#     ['GaSb_30kV_50pA_processTime2.emsa', 50, 17000, 2], # 8\n",
    "#     ['GaSb_30kV_50pA_processTime4.emsa', 50, 17000, 4],\n",
    "#     ['GaSb_30kV_400pA_processTime1.emsa', 400, 160000, 1],\n",
    "# ]\n",
    "\n",
    "# change ´number´ to change file\n",
    "number = 4\n",
    "\n",
    "file = file_current_ICR_PT[number][0]\n",
    "beam_current = file_current_ICR_PT[number][1]\n",
    "input_count_rate = file_current_ICR_PT[number][2]\n",
    "process_time = file_current_ICR_PT[number][3]"
   ]
  },
  {
   "cell_type": "code",
   "execution_count": 62,
   "metadata": {},
   "outputs": [],
   "source": [
    "# common settings\n",
    "make_info_on_all_lines = True\n",
    "zero_peak_end_index = 40\n",
    "model_background_order = 6"
   ]
  },
  {
   "cell_type": "markdown",
   "metadata": {},
   "source": [
    "## Loading the data and setting some parameters"
   ]
  },
  {
   "cell_type": "code",
   "execution_count": 63,
   "metadata": {},
   "outputs": [],
   "source": [
    "def load_data(path, file, elements, zero_peak_end_index, plot_s=False):\n",
    "    \"\"\"Loading data with HS and adding the elements, eventually removing the zero peak\"\"\"    \n",
    "    s = hs.load(path + '/' + file, signal_type='EDS_SEM')  \n",
    "    s.add_elements(elements)\n",
    "    if zero_peak_end_index is not None:\n",
    "        s = s.isig[zero_peak_end_index:]\n",
    "\n",
    "    Vacc = s.metadata.Acquisition_instrument.SEM.beam_energy\n",
    "    x = s.axes_manager[0].axis  # x-axis in keV\n",
    "    # date = s.metadata.General.date\n",
    "    # time = s.metadata.General.time\n",
    "    # original_filename = s.metadata.General.original_filename\n",
    "    name = f'{file[:-5]}'\n",
    "    if plot_s:\n",
    "        s.plot(xray_lines=True)\n",
    "    return s, Vacc, x, name"
   ]
  },
  {
   "cell_type": "code",
   "execution_count": 64,
   "metadata": {},
   "outputs": [],
   "source": [
    "s, Vacc, x, name = load_data(path, file, elements, zero_peak_end_index)"
   ]
  },
  {
   "cell_type": "code",
   "execution_count": 65,
   "metadata": {},
   "outputs": [],
   "source": [
    "# # output parameters\n",
    "# scale = np.nan\n",
    "# offset = np.nan \n",
    "# dh_limit = np.nan\n",
    "# total_counts = np.nan\n",
    "# energy_resolution = np.nan\n",
    "# background_counts = np.nan\n",
    "# lines_info = pd.DataFrame(columns=['Theoretical E [keV]', 'Calibrated E [keV]', 'Area', 'Fiori P/B', 'Sigma [keV]', 'FWHM [eV]', 'Height', 'Delta E [eV]'])\n",
    "# line_ratios = pd.DataFrame(columns=[l[0] + '/' + l[1] for l in line_ratio_list])\n",
    "# fwtm_to_fwhm = pd.DataFrame(columns=fwtm_to_fwhm_lines)"
   ]
  },
  {
   "cell_type": "code",
   "execution_count": 66,
   "metadata": {},
   "outputs": [],
   "source": [
    "# these are temporary arrays used to show the effect of the calibrations\n",
    "scale_list = [s.axes_manager[0].scale]\n",
    "offset_list = [s.axes_manager[0].offset]\n",
    "energy_res_list = [s.metadata.Acquisition_instrument.SEM.Detector.EDS.energy_resolution_MnKa]"
   ]
  },
  {
   "cell_type": "code",
   "execution_count": 67,
   "metadata": {},
   "outputs": [],
   "source": [
    "# # Duane-Hunt method to find the real E_0\n",
    "def calculate_duane_hunt(s=s, buffer_start=2, buffer_end=0.1, xaxis_plot_buffer=0.5, dh_plot=False):\n",
    "    x_max = s.axes_manager[0].high_value  # highest x-axis value in keV, used in Duane-Hunt\n",
    "    if Vacc > x_max:\n",
    "        print(f'Vacc={Vacc} > x_max={x_max}, Duane-Hunt not possible')\n",
    "        return np.nan\n",
    "    else:\n",
    "        s_dh = s.deepcopy() \n",
    "        # making the lin fit of the background right before Vacc\n",
    "        dh_start = Vacc-buffer_start\n",
    "        dh_end = Vacc-buffer_end\n",
    "        s_end = s_dh.isig[dh_start:dh_end] # slice with keV\n",
    "        m_end = s_end.create_model(auto_background=False)\n",
    "        m_end.add_polynomial_background(order=1)\n",
    "        m_end.fit()\n",
    "\n",
    "        x_s_end = s_dh.isig[dh_start-xaxis_plot_buffer:dh_end+xaxis_plot_buffer].axes_manager[0].axis\n",
    "        dh_bg_zero_index = np.argmin(np.abs(m_end[-1].function(x_s_end) * s_dh.axes_manager[0].scale))\n",
    "\n",
    "        dh_limit = x_s_end[dh_bg_zero_index]\n",
    "        print(f'Duane-Hunt limit: {dh_limit:.3f} keV')\n",
    "\n",
    "        if dh_plot:\n",
    "            plt.plot(x, s_dh.data, label='spectrum', marker='o')\n",
    "            plt.plot(x_s_end, m_end[-1].function(x_s_end)* s_dh.axes_manager[0].scale, label='bg lin. fit')\n",
    "            plt.plot(s_end.axes_manager[0].axis, s_end.data, marker='o', label=f'points in bg lin. fit')\n",
    "            plt.axhline(0, color='k', linestyle='--')\n",
    "            plt.axvline(dh_limit, color='r', linestyle='--', label=f'Duane-Hunt: {dh_limit:.3f} keV')\n",
    "            plt.axvline(Vacc, color='y', linestyle='--', label=f'Vacc from instrument: {Vacc} keV', alpha=0.6)\n",
    "            plot_buffer = 1.1\n",
    "            plt.title(f'{file}\\nlin fit range kV: [{dh_start:.2f}, {dh_end:.2f}]')\n",
    "            plt.ylim(-5, m_end[-1].function(x_s_end).max() * s_dh.axes_manager[0].scale*plot_buffer)\n",
    "            plt.xlim(Vacc-buffer_start*plot_buffer, dh_limit + buffer_end)\n",
    "            plt.legend()\n",
    "            plt.show()\n",
    "\n",
    "        return dh_limit\n"
   ]
  },
  {
   "cell_type": "code",
   "execution_count": 68,
   "metadata": {},
   "outputs": [
    {
     "name": "stdout",
     "output_type": "stream",
     "text": [
      "Vacc=30.0 > x_max=20.27, Duane-Hunt not possible\n"
     ]
    }
   ],
   "source": [
    "dh_limit = calculate_duane_hunt(dh_plot=False)"
   ]
  },
  {
   "cell_type": "code",
   "execution_count": 69,
   "metadata": {},
   "outputs": [],
   "source": [
    "# Using Duane-Hunt to slice the spectrum\n",
    "def use_dh_to_slice_spectrum(dh_limit=dh_limit, s=s, plot=False):\n",
    "    if np.isnan(dh_limit):\n",
    "        print('No Duane-Hunt limit found, not slicing the spectrum')\n",
    "    else:\n",
    "        s = s.isig[:dh_limit]\n",
    "        print(f'Spectrum sliced at {dh_limit:.2f} keV')\n",
    "        if plot:\n",
    "            s.plot(xray_lines=True)\n",
    "    return s"
   ]
  },
  {
   "cell_type": "code",
   "execution_count": 70,
   "metadata": {},
   "outputs": [
    {
     "name": "stdout",
     "output_type": "stream",
     "text": [
      "No Duane-Hunt limit found, not slicing the spectrum\n"
     ]
    }
   ],
   "source": [
    "s = use_dh_to_slice_spectrum(dh_limit, plot=False)\n",
    "x = s.axes_manager[0].axis  # x-axis in keV, after slicing"
   ]
  },
  {
   "cell_type": "code",
   "execution_count": 71,
   "metadata": {},
   "outputs": [],
   "source": [
    "# creating a model and fitting it\n",
    "def make_model(s=s, model_background_order=model_background_order, plot_m=False):\n",
    "    m = s.create_model(auto_background=False)\n",
    "    m.add_polynomial_background(order=model_background_order) \n",
    "    m.fit_background()\n",
    "    m.fit(bounded=True)\n",
    "    if plot_m:\n",
    "        m.plot(plot_components=True)\n",
    "    return m"
   ]
  },
  {
   "cell_type": "code",
   "execution_count": 72,
   "metadata": {},
   "outputs": [],
   "source": [
    "m = make_model(s=s, model_background_order=model_background_order, plot_m=False)"
   ]
  },
  {
   "cell_type": "code",
   "execution_count": 73,
   "metadata": {},
   "outputs": [],
   "source": [
    "def remove_lines_not_in_model(m=m, lines_of_interest=lines_of_interest, line_ratio_list=line_ratio_list, fwtm_to_fwhm_lines=fwtm_to_fwhm_lines):\n",
    "    lines_in_model = [c.name for c in m][:-1] # not including the background\n",
    "\n",
    "    lines_to_remove = []\n",
    "    for line in lines_of_interest:\n",
    "        if line not in lines_in_model:\n",
    "            # print(f'NB!: {line} not in model')\n",
    "            lines_to_remove.append(line)\n",
    "\n",
    "    fwtm_to_fwhm_to_remove = []\n",
    "    for line in fwtm_to_fwhm_lines:\n",
    "        if line not in lines_in_model:\n",
    "            # print(f'NB!: {line} not in model, fwtm/fwhm not possible')\n",
    "            fwtm_to_fwhm_to_remove.append(line)\n",
    "\n",
    "    line_ratio_to_remove = []\n",
    "    for linepair in line_ratio_list:\n",
    "        if linepair[0] not in lines_in_model or linepair[1] not in lines_in_model:\n",
    "            # print(f'NB!: {linepair} not in model, ratio not possible')\n",
    "            line_ratio_to_remove.append(linepair)\n",
    "            \n",
    "    # remove the lines from the lists\n",
    "    for line in lines_to_remove:\n",
    "        lines_of_interest.remove(line)\n",
    "    for line in fwtm_to_fwhm_to_remove:\n",
    "        fwtm_to_fwhm_lines.remove(line)\n",
    "    for linepair in line_ratio_to_remove:\n",
    "        line_ratio_list.remove(linepair)"
   ]
  },
  {
   "cell_type": "code",
   "execution_count": 74,
   "metadata": {},
   "outputs": [],
   "source": [
    "remove_lines_not_in_model()"
   ]
  },
  {
   "attachments": {},
   "cell_type": "markdown",
   "metadata": {},
   "source": [
    "## Calibration (scale, offset and resolution)"
   ]
  },
  {
   "cell_type": "code",
   "execution_count": 75,
   "metadata": {},
   "outputs": [],
   "source": [
    "def sort_lines(lines_of_interest):\n",
    "    \"\"\"Sort lines_of_interest by area, taking area from m[line].A.value\n",
    "    Used because the calibrate_energy_axis(calibrate='resolution') use the first line,\n",
    "    and using the strongest line gives a good reference energy for the function by\n",
    "    Newbury and Fiori (1978), documented in Goldstein (2018), Eq. ??.\n",
    "    \"\"\"\n",
    "    lines_of_interest = sorted(lines_of_interest, key=lambda x: m[x].A.value, reverse=True)\n",
    "    # for l in lines_of_interest:\n",
    "        # print(f'{l}: {m[l].A.value:.2f}')\n",
    "    return lines_of_interest"
   ]
  },
  {
   "cell_type": "code",
   "execution_count": 76,
   "metadata": {},
   "outputs": [],
   "source": [
    "lines_of_interest = sort_lines(lines_of_interest)\n",
    "all_lines = [l.name for l in m if not l.isbackground]\n",
    "all_lines = sort_lines(all_lines)"
   ]
  },
  {
   "cell_type": "code",
   "execution_count": 77,
   "metadata": {},
   "outputs": [],
   "source": [
    "def calibrate_axis(m=m, s=s, rounds=2, xray_lines=lines_of_interest):\n",
    "    \"\"\"Calibrating the scale and offset of the energy axis.\"\"\"\n",
    "    print('Calibrating energy axis (with many elements it can take multiple minutes)')\n",
    "           \n",
    "    for i in range(rounds):\n",
    "        print(f'Calibrating offset and scale, round {i+1} of {rounds}')\n",
    "        m.calibrate_energy_axis(calibrate='offset', xray_lines=xray_lines)\n",
    "        offset_list.append(s.axes_manager[0].offset)\n",
    "        m.calibrate_energy_axis(calibrate='scale', xray_lines=xray_lines)\n",
    "        scale_list.append(s.axes_manager[0].scale)\n",
    "\n",
    "    print(f'Scale: {scale_list[-1]:.6f} eV/px \\nOffset: {offset_list[-1]:.6f} keV')\n",
    "\n",
    "    return scale_list[-1], offset_list[-1]"
   ]
  },
  {
   "cell_type": "code",
   "execution_count": 78,
   "metadata": {},
   "outputs": [
    {
     "name": "stdout",
     "output_type": "stream",
     "text": [
      "Calibrating energy axis (with many elements it can take multiple minutes)\n",
      "Calibrating offset and scale, round 1 of 2\n",
      "Calibrating offset and scale, round 2 of 2\n",
      "Scale: 0.010046 eV/px \n",
      "Offset: 0.193846 keV\n"
     ]
    }
   ],
   "source": [
    "scale, offset = calibrate_axis(rounds=2, xray_lines=lines_of_interest)\n",
    "# using all lines gives basically the same result\n",
    "# scale2, offset2 = calibrate_axis(rounds=1, xray_lines=all_lines)"
   ]
  },
  {
   "cell_type": "code",
   "execution_count": 79,
   "metadata": {},
   "outputs": [],
   "source": [
    "def calibrate_resolution(m=m, s=s, rounds=2, xray_lines=lines_of_interest[:3]):\n",
    "    \"\"\" \n",
    "    Calibrating the energy resolution, i.e. the energy resolution at the Mn Ka line.\n",
    "    NB! The reference line is the first line in xray_lines, thus the first line should be well defined.\n",
    "\n",
    "    Using the three strongest lines to first calibrate the width, then estimate the energy resolution,\n",
    "    which is done with only the first line in lines_of_interest\n",
    "    \"\"\"\n",
    "    for i in range(rounds):\n",
    "        print(f'Calibrating energy resolution, round {i+1} of {rounds}')\n",
    "        m.calibrate_energy_axis(calibrate='resolution', xray_lines=xray_lines)\n",
    "        energy_res_list.append(s.metadata.Acquisition_instrument.SEM.Detector.EDS.energy_resolution_MnKa)\n",
    "\n",
    "    print(f'Calibrated energy resolution: {energy_res_list[-1]:.3f} eV')\n",
    "    return energy_res_list[-1]"
   ]
  },
  {
   "cell_type": "code",
   "execution_count": 80,
   "metadata": {},
   "outputs": [
    {
     "name": "stdout",
     "output_type": "stream",
     "text": [
      "Calibrating energy resolution, round 1 of 2\n",
      "Calibrating energy resolution, round 2 of 2\n",
      "Calibrated energy resolution: 128.676 eV\n"
     ]
    }
   ],
   "source": [
    "energy_resolution = calibrate_resolution()"
   ]
  },
  {
   "cell_type": "code",
   "execution_count": 81,
   "metadata": {},
   "outputs": [],
   "source": [
    "def print_calibration_info(scls=scale_list, offs=offset_list, eres=energy_res_list):\n",
    "    # make pretty print of calibration info\n",
    "    infos = [' ', 'Scale [eV/channel]', 'Offset [keV]', 'E-res [eV]']\n",
    "    row1 = ['Current', f'{scls[-1]:.6f}', f'{offs[-1]:.6f}', f'{eres[-1]:.3f}']\n",
    "    row2 = ['Original', f'{scls[0]:.6f}', f'{offs[0]:.6f}', f'{eres[0]:.3f}']\n",
    "    row3 = ['Δ original', f'{(scls[-1] - scls[0])/scls[-2]*100:.3f} %', \n",
    "    f'{(offs[-1] - offs[0])/offs[-2]*100:.3f} %', f'{(eres[-1] - eres[0])/eres[0]*100:.3f} %']\n",
    "    row4 = ['Δ last step', f'{(scls[-1] - scls[-2])/scls[-2]*100:.3f} %', \n",
    "    f'{(offs[-1] - offs[-2])/offs[-2]*100:.3f} %', f'{(eres[-1] - eres[-2])/eres[-2]*100:.3f} %']\n",
    "\n",
    "    for i in range(len(infos)):\n",
    "        print(f'{infos[i]:<20}{row1[i]:<15}{row2[i]:<15}{row3[i]:<15}{row4[i]:<15}')"
   ]
  },
  {
   "cell_type": "code",
   "execution_count": 82,
   "metadata": {},
   "outputs": [
    {
     "name": "stdout",
     "output_type": "stream",
     "text": [
      "                    Current        Original       Δ original     Δ last step    \n",
      "Scale [eV/channel]  0.010046       0.010000       0.461 %        0.282 %        \n",
      "Offset [keV]        0.193846       0.200000       -3.134 %       -1.293 %       \n",
      "E-res [eV]          128.676        130.000        -1.019 %       0.031 %        \n"
     ]
    }
   ],
   "source": [
    "print_calibration_info()"
   ]
  },
  {
   "cell_type": "markdown",
   "metadata": {},
   "source": [
    "## Peak positions fitting"
   ]
  },
  {
   "cell_type": "code",
   "execution_count": 83,
   "metadata": {},
   "outputs": [],
   "source": [
    "def calibrate_lines(m=m, rounds=2, xray_lines='all'):\n",
    "    \"\"\"Calibrating the energy and width of the specified lines in m.\"\"\"\n",
    "    for i in range(rounds):\n",
    "        print(f'Calibrating peak positions, round {i+1} of {rounds}')\n",
    "        m.calibrate_xray_lines(calibrate='energy', xray_lines=xray_lines, kind='single') # use kind='multi' for better results? Dunno\n",
    "        m.calibrate_xray_lines(calibrate='width', xray_lines=xray_lines, kind='single')\n",
    "        # Dunno if sub_weight is needed, and raises the following warning for GaAs:\n",
    "        # UserWarning: The X-ray line expected to be in the model was not found\n",
    "        # Probably due to Si, O and C added as elements.\n",
    "        # m.calibrate_xray_lines(calibrate='sub_weight', xray_lines=xray_lines, kind='single')"
   ]
  },
  {
   "cell_type": "code",
   "execution_count": 84,
   "metadata": {},
   "outputs": [
    {
     "name": "stdout",
     "output_type": "stream",
     "text": [
      "Calibrating peak positions, round 1 of 2\n",
      "Calibrating peak positions, round 2 of 2\n"
     ]
    }
   ],
   "source": [
    "calibrate_lines(rounds=2, xray_lines=lines_of_interest) \n",
    "# Could use xray_lines='all', but that raises some warnings, probably due to low counts in some lines\n",
    "# calibrate_lines(rounds=1, xray_lines=all_lines)"
   ]
  },
  {
   "cell_type": "code",
   "execution_count": 85,
   "metadata": {},
   "outputs": [],
   "source": [
    "def make_lines_info(m=m, all_lines=make_info_on_all_lines, sort_by='Area', lines_of_interest=lines_of_interest):\n",
    "    # make df with lines info\n",
    "    lines_info = {}\n",
    "    for i in range(len(m) - 1): # last component is the background\n",
    "        if (all_lines == True) or (m[i].name in lines_of_interest):\n",
    "            lines_info[m[i].name] = {\n",
    "                'Theoretical E [keV]': theoretical_energy(m[i].name),\n",
    "                'Calibrated E [keV]': np.round(m[i].centre.value, 4),\n",
    "                'Area': np.round(m[i].A.value, 1),\n",
    "                'Fiori P/B': np.round(m[i].A.value / (m[-1].function(m[i].centre.value) * scale), 1),\n",
    "                'FWHM [eV]': np.round(m[i].fwhm * 1000, 3),\n",
    "                'Sigma [keV]': np.round(m[i].sigma.value, 4),\n",
    "                'Height': np.round(m[i].height * scale, 1),\n",
    "                'FWHM(Mn Ka)' : np.round(np.sqrt(2.5*(5898.7 - m[i].centre.value*1000) + (m[i].fwhm*1000)**2), 3),\n",
    "                \n",
    "            }\n",
    "    lines_info = pd.DataFrame(lines_info).T\n",
    "    lines_info['Delta E [eV]'] = np.round((lines_info['Calibrated E [keV]'] - lines_info['Theoretical E [keV]'] ) * 1000, 2)\n",
    "    lines_info = lines_info.sort_values(by=sort_by, ascending=False)\n",
    "    return lines_info"
   ]
  },
  {
   "cell_type": "code",
   "execution_count": 86,
   "metadata": {},
   "outputs": [
    {
     "data": {
      "text/plain": [
       "5.8987"
      ]
     },
     "execution_count": 86,
     "metadata": {},
     "output_type": "execute_result"
    }
   ],
   "source": [
    "theoretical_energy('Mn_Ka')"
   ]
  },
  {
   "cell_type": "code",
   "execution_count": 87,
   "metadata": {},
   "outputs": [
    {
     "data": {
      "text/html": [
       "<div>\n",
       "<style scoped>\n",
       "    .dataframe tbody tr th:only-of-type {\n",
       "        vertical-align: middle;\n",
       "    }\n",
       "\n",
       "    .dataframe tbody tr th {\n",
       "        vertical-align: top;\n",
       "    }\n",
       "\n",
       "    .dataframe thead th {\n",
       "        text-align: right;\n",
       "    }\n",
       "</style>\n",
       "<table border=\"1\" class=\"dataframe\">\n",
       "  <thead>\n",
       "    <tr style=\"text-align: right;\">\n",
       "      <th></th>\n",
       "      <th>Theoretical E [keV]</th>\n",
       "      <th>Calibrated E [keV]</th>\n",
       "      <th>Area</th>\n",
       "      <th>Fiori P/B</th>\n",
       "      <th>FWHM [eV]</th>\n",
       "      <th>Sigma [keV]</th>\n",
       "      <th>Height</th>\n",
       "      <th>FWHM(Mn Ka)</th>\n",
       "      <th>Delta E [eV]</th>\n",
       "    </tr>\n",
       "  </thead>\n",
       "  <tbody>\n",
       "    <tr>\n",
       "      <th>Ga_La</th>\n",
       "      <td>1.0980</td>\n",
       "      <td>1.1000</td>\n",
       "      <td>332711.7</td>\n",
       "      <td>585.8</td>\n",
       "      <td>66.866</td>\n",
       "      <td>0.0284</td>\n",
       "      <td>46960.0</td>\n",
       "      <td>128.327</td>\n",
       "      <td>2.0</td>\n",
       "    </tr>\n",
       "    <tr>\n",
       "      <th>Ga_Ka</th>\n",
       "      <td>9.2517</td>\n",
       "      <td>9.2537</td>\n",
       "      <td>301654.4</td>\n",
       "      <td>761.5</td>\n",
       "      <td>162.634</td>\n",
       "      <td>0.0691</td>\n",
       "      <td>17505.2</td>\n",
       "      <td>134.396</td>\n",
       "      <td>2.0</td>\n",
       "    </tr>\n",
       "    <tr>\n",
       "      <th>As_Ka</th>\n",
       "      <td>10.5436</td>\n",
       "      <td>10.5456</td>\n",
       "      <td>183007.1</td>\n",
       "      <td>621.5</td>\n",
       "      <td>172.548</td>\n",
       "      <td>0.0733</td>\n",
       "      <td>10009.8</td>\n",
       "      <td>134.743</td>\n",
       "      <td>2.0</td>\n",
       "    </tr>\n",
       "    <tr>\n",
       "      <th>As_La</th>\n",
       "      <td>1.2819</td>\n",
       "      <td>1.2839</td>\n",
       "      <td>140489.7</td>\n",
       "      <td>236.2</td>\n",
       "      <td>72.009</td>\n",
       "      <td>0.0306</td>\n",
       "      <td>18412.9</td>\n",
       "      <td>129.315</td>\n",
       "      <td>2.0</td>\n",
       "    </tr>\n",
       "    <tr>\n",
       "      <th>Ga_Lb1</th>\n",
       "      <td>1.1249</td>\n",
       "      <td>1.1249</td>\n",
       "      <td>55576.2</td>\n",
       "      <td>97.2</td>\n",
       "      <td>67.993</td>\n",
       "      <td>0.0289</td>\n",
       "      <td>7714.3</td>\n",
       "      <td>128.676</td>\n",
       "      <td>0.0</td>\n",
       "    </tr>\n",
       "    <tr>\n",
       "      <th>Ga_Kb</th>\n",
       "      <td>10.2642</td>\n",
       "      <td>10.2662</td>\n",
       "      <td>38822.9</td>\n",
       "      <td>123.6</td>\n",
       "      <td>161.035</td>\n",
       "      <td>0.0684</td>\n",
       "      <td>2275.3</td>\n",
       "      <td>122.529</td>\n",
       "      <td>2.0</td>\n",
       "    </tr>\n",
       "    <tr>\n",
       "      <th>As_Kb</th>\n",
       "      <td>11.7262</td>\n",
       "      <td>11.7282</td>\n",
       "      <td>26698.9</td>\n",
       "      <td>117.4</td>\n",
       "      <td>181.136</td>\n",
       "      <td>0.0769</td>\n",
       "      <td>1391.1</td>\n",
       "      <td>135.043</td>\n",
       "      <td>2.0</td>\n",
       "    </tr>\n",
       "    <tr>\n",
       "      <th>As_Lb1</th>\n",
       "      <td>1.3174</td>\n",
       "      <td>1.3174</td>\n",
       "      <td>23467.4</td>\n",
       "      <td>39.1</td>\n",
       "      <td>71.444</td>\n",
       "      <td>0.0303</td>\n",
       "      <td>3100.0</td>\n",
       "      <td>128.676</td>\n",
       "      <td>0.0</td>\n",
       "    </tr>\n",
       "    <tr>\n",
       "      <th>Ga_Ll</th>\n",
       "      <td>0.9573</td>\n",
       "      <td>0.9573</td>\n",
       "      <td>18099.5</td>\n",
       "      <td>33.1</td>\n",
       "      <td>64.838</td>\n",
       "      <td>0.0275</td>\n",
       "      <td>2634.5</td>\n",
       "      <td>128.676</td>\n",
       "      <td>0.0</td>\n",
       "    </tr>\n",
       "    <tr>\n",
       "      <th>Ga_Lb3</th>\n",
       "      <td>1.1948</td>\n",
       "      <td>1.1948</td>\n",
       "      <td>15338.0</td>\n",
       "      <td>26.4</td>\n",
       "      <td>69.266</td>\n",
       "      <td>0.0294</td>\n",
       "      <td>2089.9</td>\n",
       "      <td>128.676</td>\n",
       "      <td>0.0</td>\n",
       "    </tr>\n",
       "    <tr>\n",
       "      <th>Ga_Ln</th>\n",
       "      <td>0.9842</td>\n",
       "      <td>0.9842</td>\n",
       "      <td>8347.7</td>\n",
       "      <td>15.2</td>\n",
       "      <td>65.355</td>\n",
       "      <td>0.0278</td>\n",
       "      <td>1205.5</td>\n",
       "      <td>128.676</td>\n",
       "      <td>0.0</td>\n",
       "    </tr>\n",
       "    <tr>\n",
       "      <th>As_Ll</th>\n",
       "      <td>1.1196</td>\n",
       "      <td>1.1196</td>\n",
       "      <td>6924.7</td>\n",
       "      <td>12.1</td>\n",
       "      <td>67.895</td>\n",
       "      <td>0.0288</td>\n",
       "      <td>962.6</td>\n",
       "      <td>128.676</td>\n",
       "      <td>0.0</td>\n",
       "    </tr>\n",
       "    <tr>\n",
       "      <th>As_Lb3</th>\n",
       "      <td>1.3860</td>\n",
       "      <td>1.3860</td>\n",
       "      <td>6700.0</td>\n",
       "      <td>11.0</td>\n",
       "      <td>72.634</td>\n",
       "      <td>0.0308</td>\n",
       "      <td>870.6</td>\n",
       "      <td>128.676</td>\n",
       "      <td>0.0</td>\n",
       "    </tr>\n",
       "    <tr>\n",
       "      <th>As_Ln</th>\n",
       "      <td>1.1551</td>\n",
       "      <td>1.1551</td>\n",
       "      <td>2710.0</td>\n",
       "      <td>4.7</td>\n",
       "      <td>68.546</td>\n",
       "      <td>0.0291</td>\n",
       "      <td>373.1</td>\n",
       "      <td>128.676</td>\n",
       "      <td>0.0</td>\n",
       "    </tr>\n",
       "  </tbody>\n",
       "</table>\n",
       "</div>"
      ],
      "text/plain": [
       "        Theoretical E [keV]  Calibrated E [keV]      Area  Fiori P/B  \\\n",
       "Ga_La                1.0980              1.1000  332711.7      585.8   \n",
       "Ga_Ka                9.2517              9.2537  301654.4      761.5   \n",
       "As_Ka               10.5436             10.5456  183007.1      621.5   \n",
       "As_La                1.2819              1.2839  140489.7      236.2   \n",
       "Ga_Lb1               1.1249              1.1249   55576.2       97.2   \n",
       "Ga_Kb               10.2642             10.2662   38822.9      123.6   \n",
       "As_Kb               11.7262             11.7282   26698.9      117.4   \n",
       "As_Lb1               1.3174              1.3174   23467.4       39.1   \n",
       "Ga_Ll                0.9573              0.9573   18099.5       33.1   \n",
       "Ga_Lb3               1.1948              1.1948   15338.0       26.4   \n",
       "Ga_Ln                0.9842              0.9842    8347.7       15.2   \n",
       "As_Ll                1.1196              1.1196    6924.7       12.1   \n",
       "As_Lb3               1.3860              1.3860    6700.0       11.0   \n",
       "As_Ln                1.1551              1.1551    2710.0        4.7   \n",
       "\n",
       "        FWHM [eV]  Sigma [keV]   Height  FWHM(Mn Ka)  Delta E [eV]  \n",
       "Ga_La      66.866       0.0284  46960.0      128.327           2.0  \n",
       "Ga_Ka     162.634       0.0691  17505.2      134.396           2.0  \n",
       "As_Ka     172.548       0.0733  10009.8      134.743           2.0  \n",
       "As_La      72.009       0.0306  18412.9      129.315           2.0  \n",
       "Ga_Lb1     67.993       0.0289   7714.3      128.676           0.0  \n",
       "Ga_Kb     161.035       0.0684   2275.3      122.529           2.0  \n",
       "As_Kb     181.136       0.0769   1391.1      135.043           2.0  \n",
       "As_Lb1     71.444       0.0303   3100.0      128.676           0.0  \n",
       "Ga_Ll      64.838       0.0275   2634.5      128.676           0.0  \n",
       "Ga_Lb3     69.266       0.0294   2089.9      128.676           0.0  \n",
       "Ga_Ln      65.355       0.0278   1205.5      128.676           0.0  \n",
       "As_Ll      67.895       0.0288    962.6      128.676           0.0  \n",
       "As_Lb3     72.634       0.0308    870.6      128.676           0.0  \n",
       "As_Ln      68.546       0.0291    373.1      128.676           0.0  "
      ]
     },
     "execution_count": 87,
     "metadata": {},
     "output_type": "execute_result"
    }
   ],
   "source": [
    "lines_info = make_lines_info(all_lines=make_info_on_all_lines, sort_by='Area')\n",
    "# print('min: ', lines_info['FWHM(Mn Ka)'].min(), ', max: ', lines_info['FWHM(Mn Ka)'].max())\n",
    "lines_info"
   ]
  },
  {
   "cell_type": "code",
   "execution_count": 88,
   "metadata": {},
   "outputs": [],
   "source": [
    "def peak_ratio(line1, line2, m=m):\n",
    "    # give the K to L ratio of a line, e.g. 'Ga_Ka' to 'Ga_La'\n",
    "    try:\n",
    "        m[line1]\n",
    "        m[line2]\n",
    "    except ValueError:\n",
    "        print('line not in model:', line1, line2)\n",
    "        return np.nan\n",
    "    return np.round(m[line1].A.value / m[line2].A.value, 3)\n",
    "\n",
    "def calculate_all_line_ratios():\n",
    "    # calculate the K to L ratios for line_ratio_list\n",
    "    line_ratios = {}\n",
    "    for line_pair in line_ratio_list:\n",
    "        pair_name = line_pair[0] + '/' + line_pair[1]\n",
    "        line_ratios[pair_name] =  peak_ratio(line_pair[0], line_pair[1])\n",
    "    line_ratios = pd.DataFrame(line_ratios, index=['Line ratio']).T\n",
    "    return line_ratios"
   ]
  },
  {
   "cell_type": "code",
   "execution_count": null,
   "metadata": {},
   "outputs": [],
   "source": [
    "line_ratios = calculate_all_line_ratios()\n",
    "print(line_ratios)"
   ]
  },
  {
   "cell_type": "code",
   "execution_count": null,
   "metadata": {},
   "outputs": [],
   "source": [
    "def fwtm_to_fwhm_line(line, m=m, s=s):\n",
    "    try:\n",
    "        m[line]\n",
    "    except ValueError:\n",
    "        print('line not in model:', line)\n",
    "        return {'FWHM': np.nan, 'FWTM': np.nan, 'FWTM/FWHM': np.nan}\n",
    "    s_wo_bg = s.deepcopy()\n",
    "    s_wo_bg.data = s.data - m[-1].function(x)*s.axes_manager[0].scale\n",
    "    window = m[line].sigma.value * 4 # window around the line\n",
    "    line_energy = m[line].centre.value\n",
    "    s_line_window = s_wo_bg.isig[line_energy-window:line_energy+window]\n",
    "    fwhm = s_line_window.estimate_peak_width(factor=0.5, parallel=False).data[0]\n",
    "    fwtm = s_line_window.estimate_peak_width(factor=0.1, parallel=False).data[0]\n",
    "    return {'FWHM': np.round(fwhm*1000, 2), 'FWTM': np.round(fwtm*1000, 2), 'FWTM/FWHM': np.round(fwtm/fwhm, 3)}\n",
    "\n",
    "\n",
    "def fwtm_to_fwhm_all(fwtm_to_fwhm_lines=fwtm_to_fwhm_lines):\n",
    "    fwtm_to_fwhm = {}\n",
    "    for line in fwtm_to_fwhm_lines:\n",
    "        fwtm_to_fwhm[line] = fwtm_to_fwhm_line(line)\n",
    "    fwtm_to_fwhm = pd.DataFrame(fwtm_to_fwhm).T\n",
    "    return fwtm_to_fwhm"
   ]
  },
  {
   "cell_type": "markdown",
   "metadata": {},
   "source": [
    "## Total counts and background counts"
   ]
  },
  {
   "cell_type": "code",
   "execution_count": null,
   "metadata": {},
   "outputs": [],
   "source": [
    "fwtm_to_fwhm = fwtm_to_fwhm_all()\n",
    "print(fwtm_to_fwhm)"
   ]
  },
  {
   "cell_type": "code",
   "execution_count": null,
   "metadata": {},
   "outputs": [],
   "source": [
    "def total_count_statistics(s=s, m=m, scale=scale):\n",
    "    total_counts = np.round(s.data.sum(), 1)\n",
    "    # total_counts_m = np.array([(m[l.name].function(x)*scale).sum() for l in m[:-1]]).sum()\n",
    "    # [[l.name, (m[l.name].function(x)*scale).sum()] for l in m[:-1]]\n",
    "\n",
    "    background_counts = np.round((m[-1].function(x) * scale).sum(), 1)\n",
    "    total_counts_wo_bg = total_counts - background_counts\n",
    "    print(f'background_counts: {background_counts:.1f}')\n",
    "    print(f'total_counts: {total_counts:.1f}')\n",
    "    print(f'total_counts_wo_bg: {total_counts_wo_bg:.1f}')\n",
    "    print(f'total_counts/background_counts: {total_counts/background_counts:.1f}')\n",
    "    print(f'total_counts/total_counts_wo_bg: {total_counts/total_counts_wo_bg:.1f}')\n",
    "    print(f'percentage of counts in peaks: {total_counts_wo_bg/total_counts*100:.1f}%')\n",
    "    return total_counts, background_counts"
   ]
  },
  {
   "cell_type": "code",
   "execution_count": null,
   "metadata": {},
   "outputs": [],
   "source": [
    "def dead_time(s=s, m=m):\n",
    "    real_time = s.metadata.Acquisition_instrument.SEM.Detector.EDS.real_time\n",
    "    live_time = s.metadata.Acquisition_instrument.SEM.Detector.EDS.live_time\n",
    "    dead_time_percent = (real_time - live_time)/real_time*100\n",
    "    print(f'Dead time: {dead_time_percent:.1f}%')\n",
    "    return round(dead_time_percent, 1)"
   ]
  },
  {
   "cell_type": "code",
   "execution_count": null,
   "metadata": {},
   "outputs": [],
   "source": [
    "dead_time_percent = dead_time(s=s, m=m)"
   ]
  },
  {
   "cell_type": "code",
   "execution_count": null,
   "metadata": {},
   "outputs": [],
   "source": [
    "total_counts, background_counts = total_count_statistics()"
   ]
  },
  {
   "cell_type": "code",
   "execution_count": null,
   "metadata": {},
   "outputs": [],
   "source": [
    "def make_output():\n",
    "    key_output = pd.DataFrame({\n",
    "        'Name': [name],\n",
    "        'Nominal beam energy [kV]': [Vacc],\n",
    "        'Beam current [pA]': [beam_current],\n",
    "        'Process time' : [process_time],\n",
    "        'ICR' : [input_count_rate], \n",
    "        'Dead time [%]': [dead_time_percent],\n",
    "        'Live time [s]': [round(s.metadata.Acquisition_instrument.SEM.Detector.EDS.live_time, 1)],\n",
    "        'Duane-Hunt limit [kV]': [dh_limit],\n",
    "        'Scale [keV]': [scale],\n",
    "        'Offset [keV]': [offset],\n",
    "        'Energy resolution [eV]': [energy_resolution],\n",
    "        'Total counts': [total_counts],\n",
    "        'Background counts': [background_counts],\n",
    "    })\n",
    "    for line in fwtm_to_fwhm_lines_all:\n",
    "        try:\n",
    "            key_output[f'FWTM/FWHM ({line})'] = fwtm_to_fwhm.loc[line, 'FWTM/FWHM']\n",
    "        except KeyError:\n",
    "            key_output[f'FWTM/FWHM ({line})'] = np.nan\n",
    "    for ratio_pair in line_ratios.T.columns:\n",
    "        key_output[f'Ratio ({ratio_pair})'] = line_ratios.T[ratio_pair][0]\n",
    "\n",
    "    for line in fiori_peaks:\n",
    "        try:\n",
    "            key_output[f'Fiori PB ({line})'] = lines_info.loc[line, 'Fiori P/B']\n",
    "        except KeyError:\n",
    "            key_output[f'Fiori PB ({line})'] = np.nan\n",
    "\n",
    "    return key_output"
   ]
  },
  {
   "cell_type": "code",
   "execution_count": null,
   "metadata": {},
   "outputs": [],
   "source": [
    "key_output = make_output()\n",
    "key_output.T"
   ]
  },
  {
   "cell_type": "code",
   "execution_count": null,
   "metadata": {},
   "outputs": [],
   "source": [
    "# old\n",
    "    # # add the n highets Fiori P/B to the output\n",
    "    # n = 1\n",
    "    # for i in range(np.min([n, len(lines_info)])):\n",
    "    #     # find the n element with the highest 'Fiori P/B'\n",
    "    #     element = lines_info.sort_values('Fiori P/B', ascending=False).index[i]\n",
    "    #     key_output[f'Fiori P/B {element}'] = lines_info.sort_values('Fiori P/B', ascending=False)['Fiori P/B'][i]"
   ]
  },
  {
   "cell_type": "code",
   "execution_count": null,
   "metadata": {},
   "outputs": [],
   "source": [
    "def save_output():\n",
    "\n",
    "    # save the output-df to a csv file\n",
    "    key_output.T.to_csv(f'results/{name}_output.csv')\n",
    "\n",
    "    # saves the line info df to another csv file\n",
    "    save_lines_info = True\n",
    "    if save_lines_info:\n",
    "        lines_info.to_csv(f'results/lines_info/{name}_lines_info.csv')"
   ]
  },
  {
   "cell_type": "code",
   "execution_count": null,
   "metadata": {},
   "outputs": [],
   "source": [
    "save_output()\n",
    "# lines_info2 = pd.read_csv(f'results/lines_info/{name}_lines_info.csv', index_col=0)\n"
   ]
  },
  {
   "cell_type": "code",
   "execution_count": null,
   "metadata": {},
   "outputs": [],
   "source": []
  },
  {
   "cell_type": "code",
   "execution_count": null,
   "metadata": {},
   "outputs": [],
   "source": [
    "# plotting all components in m and their centers, labeled\n",
    "\n",
    "plot_all_lines = False\n",
    "\n",
    "if plot_all_lines:\n",
    "    plt.plot(s.axes_manager[0].axis, s.data-m[-1].function(s.axes_manager[0].axis)*scale+100, label='spectrum', marker='o')\n",
    "    # m_data = np.zeros_like(s.data)\n",
    "\n",
    "    for comp in m:\n",
    "        if comp == m[-1]:\n",
    "            continue\n",
    "        # m_data += comp.function(s.axes_manager[0].axis)*scale\n",
    "\n",
    "        # # comment in to only plot centain lines\n",
    "        # if not 'Ni_' in comp.name:\n",
    "        #     continue\n",
    "        \n",
    "        line_y = comp.height * scale\n",
    "        line_x = comp.centre.value\n",
    "        true_e  = hs.material.elements[comp.name.split('_')[0]].Atomic_properties.Xray_lines.as_dictionary()[comp.name.split('_')[1]]['energy (keV)']\n",
    "\n",
    "        plt.plot([line_x, line_x], [0, line_y+100])\n",
    "        plt.plot([true_e, true_e], [0, line_y+100], '--', color='k', alpha=0.7)\n",
    "\n",
    "        # plt.plot(s.axes_manager[0].axis, comp.function(s.axes_manager[0].axis)*scale+m[-1].function(s.axes_manager[0].axis)*scale, label=comp.name)\n",
    "        plt.plot(s.axes_manager[0].axis, comp.function(s.axes_manager[0].axis)*scale+100, label=comp.name)\n",
    "\n",
    "        plt.text(line_x, line_y+100, f'{comp.name}, {comp.centre.value:.3f}',rotation=90)\n",
    "\n",
    "    # plt.plot(s.axes_manager[0].axis, m_data+150, label='model')\n",
    "\n",
    "\n",
    "    plt.ylim(15,25e4)\n",
    "    plt.yscale('log')\n",
    "\n",
    "    # plt.legend()\n",
    "    plt.show()"
   ]
  }
 ],
 "metadata": {
  "kernelspec": {
   "display_name": "hspy_dev",
   "language": "python",
   "name": "python3"
  },
  "language_info": {
   "codemirror_mode": {
    "name": "ipython",
    "version": 3
   },
   "file_extension": ".py",
   "mimetype": "text/x-python",
   "name": "python",
   "nbconvert_exporter": "python",
   "pygments_lexer": "ipython3",
   "version": "3.8.16"
  },
  "orig_nbformat": 4,
  "vscode": {
   "interpreter": {
    "hash": "27df9ad7312a76815d4fe809f9c8bf57d2a2c3257a2dcf6754112e766f98d8e4"
   }
  }
 },
 "nbformat": 4,
 "nbformat_minor": 2
}
