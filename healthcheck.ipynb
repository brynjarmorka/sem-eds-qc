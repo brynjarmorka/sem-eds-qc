{
 "cells": [
  {
   "attachments": {},
   "cell_type": "markdown",
   "metadata": {},
   "source": [
    "#  Import the packages"
   ]
  },
  {
   "cell_type": "code",
   "execution_count": 1,
   "metadata": {},
   "outputs": [],
   "source": [
    "import hyperspy.api as hs\n",
    "import numpy as np\n",
    "import pandas as pd\n",
    "from helper_functions import elementlines, nearestlines, theoretical_energy"
   ]
  },
  {
   "attachments": {},
   "cell_type": "markdown",
   "metadata": {},
   "source": [
    "#  Select spectra, an specify settings like $i_b$, $E_0$, ICR, and PT"
   ]
  },
  {
   "cell_type": "code",
   "execution_count": 2,
   "metadata": {},
   "outputs": [],
   "source": [
    "##### SEM Apreo March 2023 #####\n",
    "path = '../../Masteroppgave/2023-03-08_EDS-Apreo/exports/'\n",
    "# All data files are available in the repository at: \n",
    "# https://github.com/brynjarmorka/eds-sem-bulk-corrections/tree/main/data\n",
    "\n",
    "##### GaAs #####\n",
    "elements = ['Ga', 'As']\n",
    "lines_of_interest = ['Ga_Ka', 'As_Ka', 'Ga_La', 'As_La', 'Ga_Kb', 'As_Kb']\n",
    "fiori_peaks = ['Ga_La', 'As_La', 'Ga_Ka']\n",
    "line_ratio_list = [['As_Ka', 'As_La'], ['Ga_Ka', 'Ga_La'], ['Ga_La', 'As_La']]\n",
    "\n",
    "# setting file name, beam current, input count rate and process time\n",
    "file_current_ICR_PT = [\n",
    "    ['GaAs_05kV_25pA.emsa', 25, 880, 6], # 0\n",
    "    ['GaAs_10kV_25pA.emsa', 25, 1750, 6], # 1\n",
    "    ['GaAs_15kV_25pA.emsa', 25, 3300, 6], # 2\n",
    "    ['GaAs_30kV_25pA.emsa', 25, 8000, 6], # 3\n",
    "    ['GaAs_30kV_50pA.emsa', 50, 16400, 6], # 4\n",
    "]\n",
    "\n",
    "##### GaSb #####\n",
    "# Sb_Ka has to high energy\n",
    "# elements = ['Ga', 'Sb']\n",
    "# lines_of_interest = ['Ga_Ka', 'Ga_Kb', 'Ga_La', 'Sb_La', 'Sb_Lb1']\n",
    "# fiori_peaks = ['Ga_La', 'Sb_La', 'Ga_Ka', 'Sb_Lb1']\n",
    "# line_ratio_list = [['Ga_Ka', 'Ga_La'], ['Sb_La', 'Sb_Lb1'], ['Ga_La', 'Sb_La']]\n",
    "\n",
    "# file_current_ICR_PT = [\n",
    "#     ['GaSb_05kV_50pA.emsa', 50, 1080, 6], # 0\n",
    "#     ['GaSb_10kV_50pA.emsa', 50, 2300, 6], # 1\n",
    "#     ['GaSb_15kV_50pA.emsa', 50, 5700, 6], # 2\n",
    "#     ['GaSb_15kV_200pA.emsa', 200, 22000, 6], # 3\n",
    "#     ['GaSb_15kV_400pA.emsa', 400, 42000, 6], # 4\n",
    "#     ['GaSb_30kV_50pA.emsa', 50, 17000, 6], # 5\n",
    "#     ['GaSb_30kV_50pA_noPPUC.emsa', 50, 17000, 6], # 6\n",
    "#     ['GaSb_30kV_50pA_processTime1.emsa', 50, 17000, 1], # 7\n",
    "#     ['GaSb_30kV_50pA_processTime2.emsa', 50, 17000, 2], # 8\n",
    "#     ['GaSb_30kV_50pA_processTime4.emsa', 50, 17000, 4], # 9\n",
    "#     ['GaSb_30kV_400pA_processTime1.emsa', 400, 160000, 1], # 10\n",
    "# ]\n",
    "\n",
    "number = 4  # change ´number´ to change file\n",
    "file = file_current_ICR_PT[number][0]\n",
    "beam_current = file_current_ICR_PT[number][1]\n",
    "input_count_rate = file_current_ICR_PT[number][2]\n",
    "process_time = file_current_ICR_PT[number][3]\n",
    "\n",
    "# common settings\n",
    "make_info_on_all_lines = True\n",
    "zero_peak_end_index = 40\n",
    "model_background_order = 6"
   ]
  },
  {
   "attachments": {},
   "cell_type": "markdown",
   "metadata": {},
   "source": [
    "#  Import the data with HyperSpy, set the elements in the spectrum, and slice off the noise peak"
   ]
  },
  {
   "cell_type": "code",
   "execution_count": 4,
   "metadata": {},
   "outputs": [],
   "source": [
    "def load_data(path, file, elements, zero_peak_end_index, plot_s=False):\n",
    "    \"\"\"Loading data with HS and adding the elements, eventually removing the zero peak\"\"\"    \n",
    "    s = hs.load(path + '/' + file, signal_type='EDS_SEM')  \n",
    "    s.add_elements(elements)\n",
    "    if zero_peak_end_index is not None:\n",
    "        s = s.isig[zero_peak_end_index:]\n",
    "\n",
    "    Vacc = s.metadata.Acquisition_instrument.SEM.beam_energy\n",
    "    x = s.axes_manager[0].axis  # x-axis in keV\n",
    "    name = f'{file[:-5]}'\n",
    "    if plot_s:\n",
    "        s.plot(xray_lines=True)\n",
    "    return s, Vacc, x, name"
   ]
  },
  {
   "cell_type": "code",
   "execution_count": 5,
   "metadata": {},
   "outputs": [],
   "source": [
    "s, Vacc, x, name = load_data(path, file, elements, zero_peak_end_index)"
   ]
  },
  {
   "cell_type": "code",
   "execution_count": 6,
   "metadata": {},
   "outputs": [],
   "source": [
    "# these are temporary arrays used to show the effect of the calibrations\n",
    "scale_list = [s.axes_manager[0].scale]\n",
    "offset_list = [s.axes_manager[0].offset]\n",
    "energy_res_list = [s.metadata.Acquisition_instrument.SEM.Detector.EDS.energy_resolution_MnKa]"
   ]
  },
  {
   "attachments": {},
   "cell_type": "markdown",
   "metadata": {},
   "source": [
    "# Calculate the Duane-Hunt limit, and slice the spectrum to the limit"
   ]
  },
  {
   "cell_type": "code",
   "execution_count": 7,
   "metadata": {},
   "outputs": [],
   "source": [
    "# # Duane-Hunt method to find the real E_0\n",
    "def calculate_duane_hunt(s=s, buffer_start=2, buffer_end=0.1, xaxis_plot_buffer=0.5, dh_plot=False):\n",
    "    x_max = s.axes_manager[0].high_value  # highest x-axis value in keV, used in Duane-Hunt\n",
    "    if Vacc > x_max:\n",
    "        print(f'Vacc={Vacc} > x_max={x_max}, Duane-Hunt not possible')\n",
    "        return np.nan\n",
    "    else:\n",
    "        s_dh = s.deepcopy() \n",
    "        dh_start = Vacc-buffer_start\n",
    "        dh_end = Vacc-buffer_end\n",
    "        s_end = s_dh.isig[dh_start:dh_end] # slice with keV\n",
    "        m_end = s_end.create_model(auto_background=False)\n",
    "        m_end.add_polynomial_background(order=1)\n",
    "        m_end.fit()\n",
    "        x_s_end = s_dh.isig[dh_start-xaxis_plot_buffer:dh_end+xaxis_plot_buffer].axes_manager[0].axis\n",
    "        dh_bg_zero_index = np.argmin(np.abs(m_end[-1].function(x_s_end) * s_dh.axes_manager[0].scale))\n",
    "        dh_limit = x_s_end[dh_bg_zero_index]\n",
    "        print(f'Duane-Hunt limit: {dh_limit:.3f} keV')\n",
    "\n",
    "        return dh_limit"
   ]
  },
  {
   "cell_type": "code",
   "execution_count": 8,
   "metadata": {},
   "outputs": [
    {
     "name": "stdout",
     "output_type": "stream",
     "text": [
      "Vacc=30.0 > x_max=20.27, Duane-Hunt not possible\n"
     ]
    }
   ],
   "source": [
    "dh_limit = calculate_duane_hunt(dh_plot=False)"
   ]
  },
  {
   "cell_type": "code",
   "execution_count": 9,
   "metadata": {},
   "outputs": [],
   "source": [
    "# Using Duane-Hunt to slice the spectrum\n",
    "def use_dh_to_slice_spectrum(dh_limit=dh_limit, s=s, plot=False):\n",
    "    if np.isnan(dh_limit):\n",
    "        print('No Duane-Hunt limit found, not slicing the spectrum')\n",
    "    else:\n",
    "        s = s.isig[:dh_limit]\n",
    "        print(f'Spectrum sliced at {dh_limit:.2f} keV')\n",
    "        if plot:\n",
    "            s.plot(xray_lines=True)\n",
    "    return s"
   ]
  },
  {
   "cell_type": "code",
   "execution_count": 10,
   "metadata": {},
   "outputs": [
    {
     "name": "stdout",
     "output_type": "stream",
     "text": [
      "No Duane-Hunt limit found, not slicing the spectrum\n"
     ]
    }
   ],
   "source": [
    "s = use_dh_to_slice_spectrum(dh_limit, plot=False)\n",
    "x = s.axes_manager[0].axis  # x-axis in keV, after slicing"
   ]
  },
  {
   "attachments": {},
   "cell_type": "markdown",
   "metadata": {},
   "source": [
    "# Make a model of the spectrum, and fit it to the data"
   ]
  },
  {
   "cell_type": "code",
   "execution_count": 11,
   "metadata": {},
   "outputs": [],
   "source": [
    "# creating a model and fitting it\n",
    "def make_model(s=s, model_background_order=model_background_order, plot_m=False):\n",
    "    m = s.create_model(auto_background=False)\n",
    "    m.add_polynomial_background(order=model_background_order) \n",
    "    m.fit_background()\n",
    "    m.fit(bounded=True)\n",
    "    if plot_m:\n",
    "        m.plot(plot_components=True)\n",
    "    return m"
   ]
  },
  {
   "cell_type": "code",
   "execution_count": 12,
   "metadata": {},
   "outputs": [],
   "source": [
    "m = make_model(s=s, model_background_order=model_background_order, plot_m=False)"
   ]
  },
  {
   "cell_type": "code",
   "execution_count": 13,
   "metadata": {},
   "outputs": [],
   "source": [
    "def remove_lines_not_in_model(m=m, lines_of_interest=lines_of_interest, line_ratio_list=line_ratio_list):\n",
    "    lines_in_model = [c.name for c in m][:-1] # not including the background\n",
    "\n",
    "    lines_to_remove = []\n",
    "    for line in lines_of_interest:\n",
    "        if line not in lines_in_model:\n",
    "            # print(f'NB!: {line} not in model')\n",
    "            lines_to_remove.append(line)\n",
    "\n",
    "    line_ratio_to_remove = []\n",
    "    for linepair in line_ratio_list:\n",
    "        if linepair[0] not in lines_in_model or linepair[1] not in lines_in_model:\n",
    "            # print(f'NB!: {linepair} not in model, ratio not possible')\n",
    "            line_ratio_to_remove.append(linepair)\n",
    "            \n",
    "    # remove the lines from the lists\n",
    "    for line in lines_to_remove:\n",
    "        lines_of_interest.remove(line)\n",
    "    for linepair in line_ratio_to_remove:\n",
    "        line_ratio_list.remove(linepair)"
   ]
  },
  {
   "cell_type": "code",
   "execution_count": 14,
   "metadata": {},
   "outputs": [],
   "source": [
    "remove_lines_not_in_model()"
   ]
  },
  {
   "attachments": {},
   "cell_type": "markdown",
   "metadata": {},
   "source": [
    "# Calibrate the offset and scale"
   ]
  },
  {
   "cell_type": "code",
   "execution_count": 15,
   "metadata": {},
   "outputs": [],
   "source": [
    "def sort_lines(lines_of_interest):\n",
    "    \"\"\"Sort lines_of_interest by area, taking area from m[line].A.value\n",
    "    Used because the calibrate_energy_axis(calibrate='resolution') use the first line,\n",
    "    and using the strongest line gives a good reference energy for the function by\n",
    "    Newbury and Fiori (1978), documented in Goldstein (2018).\n",
    "    \"\"\"\n",
    "    lines_of_interest = sorted(lines_of_interest, key=lambda x: m[x].A.value, reverse=True)\n",
    "    return lines_of_interest"
   ]
  },
  {
   "cell_type": "code",
   "execution_count": 16,
   "metadata": {},
   "outputs": [],
   "source": [
    "lines_of_interest = sort_lines(lines_of_interest)\n",
    "all_lines = [l.name for l in m if not l.isbackground]\n",
    "all_lines = sort_lines(all_lines)"
   ]
  },
  {
   "cell_type": "code",
   "execution_count": 17,
   "metadata": {},
   "outputs": [],
   "source": [
    "def calibrate_axis(m=m, s=s, rounds=2, xray_lines=lines_of_interest):\n",
    "    \"\"\"Calibrating the scale and offset of the energy axis.\"\"\"\n",
    "    print('Calibrating energy axis (with many elements it can take multiple minutes)')\n",
    "           \n",
    "    for i in range(rounds):\n",
    "        print(f'Calibrating offset and scale, round {i+1} of {rounds}')\n",
    "        m.calibrate_energy_axis(calibrate='offset', xray_lines=xray_lines)\n",
    "        offset_list.append(s.axes_manager[0].offset)\n",
    "        m.calibrate_energy_axis(calibrate='scale', xray_lines=xray_lines)\n",
    "        scale_list.append(s.axes_manager[0].scale)\n",
    "\n",
    "    print(f'Scale: {scale_list[-1]:.6f} eV/px \\nOffset: {offset_list[-1]:.6f} keV')\n",
    "    return scale_list[-1], offset_list[-1]"
   ]
  },
  {
   "cell_type": "code",
   "execution_count": 18,
   "metadata": {},
   "outputs": [
    {
     "name": "stdout",
     "output_type": "stream",
     "text": [
      "Calibrating energy axis (with many elements it can take multiple minutes)\n",
      "Calibrating offset and scale, round 1 of 2\n",
      "Calibrating offset and scale, round 2 of 2\n",
      "Scale: 0.010046 eV/px \n",
      "Offset: 0.193846 keV\n"
     ]
    }
   ],
   "source": [
    "scale, offset = calibrate_axis(rounds=2, xray_lines=lines_of_interest)\n",
    "# using all lines gives basically the same result\n",
    "# scale2, offset2 = calibrate_axis(rounds=1, xray_lines=all_lines)"
   ]
  },
  {
   "attachments": {},
   "cell_type": "markdown",
   "metadata": {},
   "source": [
    "#   Calibrate the energy resolution"
   ]
  },
  {
   "cell_type": "code",
   "execution_count": 19,
   "metadata": {},
   "outputs": [],
   "source": [
    "def calibrate_resolution(m=m, s=s, rounds=2, xray_lines=lines_of_interest[:3]):\n",
    "    \"\"\" \n",
    "    Calibrating the energy resolution, i.e. the energy resolution at the Mn Ka line.\n",
    "    NB! The reference line is the first line in xray_lines, thus the first line should be well defined.\n",
    "\n",
    "    Using the three strongest lines to first calibrate the width, then estimate the energy resolution,\n",
    "    which is done with only the first line in lines_of_interest\n",
    "    \"\"\"\n",
    "    for i in range(rounds):\n",
    "        print(f'Calibrating energy resolution, round {i+1} of {rounds}')\n",
    "        m.calibrate_energy_axis(calibrate='resolution', xray_lines=xray_lines)\n",
    "        energy_res_list.append(s.metadata.Acquisition_instrument.SEM.Detector.EDS.energy_resolution_MnKa)\n",
    "\n",
    "    print(f'Calibrated energy resolution: {energy_res_list[-1]:.3f} eV')\n",
    "    return energy_res_list[-1]"
   ]
  },
  {
   "cell_type": "code",
   "execution_count": 20,
   "metadata": {},
   "outputs": [
    {
     "name": "stdout",
     "output_type": "stream",
     "text": [
      "Calibrating energy resolution, round 1 of 2\n",
      "Calibrating energy resolution, round 2 of 2\n",
      "Calibrated energy resolution: 128.676 eV\n"
     ]
    }
   ],
   "source": [
    "energy_resolution = calibrate_resolution()"
   ]
  },
  {
   "cell_type": "code",
   "execution_count": 21,
   "metadata": {},
   "outputs": [],
   "source": [
    "def print_calibration_info(scls=scale_list, offs=offset_list, eres=energy_res_list):\n",
    "    # make pretty print of calibration info\n",
    "    infos = [' ', 'Scale [eV/channel]', 'Offset [keV]', 'E-res [eV]']\n",
    "    row1 = ['Current', f'{scls[-1]:.6f}', f'{offs[-1]:.6f}', f'{eres[-1]:.3f}']\n",
    "    row2 = ['Original', f'{scls[0]:.6f}', f'{offs[0]:.6f}', f'{eres[0]:.3f}']\n",
    "    row3 = ['Δ original', f'{(scls[-1] - scls[0])/scls[-2]*100:.3f} %', \n",
    "    f'{(offs[-1] - offs[0])/offs[-2]*100:.3f} %', f'{(eres[-1] - eres[0])/eres[0]*100:.3f} %']\n",
    "    row4 = ['Δ last step', f'{(scls[-1] - scls[-2])/scls[-2]*100:.3f} %', \n",
    "    f'{(offs[-1] - offs[-2])/offs[-2]*100:.3f} %', f'{(eres[-1] - eres[-2])/eres[-2]*100:.3f} %']\n",
    "\n",
    "    for i in range(len(infos)):\n",
    "        print(f'{infos[i]:<20}{row1[i]:<15}{row2[i]:<15}{row3[i]:<15}{row4[i]:<15}')"
   ]
  },
  {
   "cell_type": "code",
   "execution_count": 22,
   "metadata": {},
   "outputs": [
    {
     "name": "stdout",
     "output_type": "stream",
     "text": [
      "                    Current        Original       Δ original     Δ last step    \n",
      "Scale [eV/channel]  0.010046       0.010000       0.461 %        0.282 %        \n",
      "Offset [keV]        0.193846       0.200000       -3.134 %       -1.293 %       \n",
      "E-res [eV]          128.676        130.000        -1.019 %       0.031 %        \n"
     ]
    }
   ],
   "source": [
    "print_calibration_info()"
   ]
  },
  {
   "attachments": {},
   "cell_type": "markdown",
   "metadata": {},
   "source": [
    "#  Calibrate the energy and width of the peaks"
   ]
  },
  {
   "cell_type": "code",
   "execution_count": 23,
   "metadata": {},
   "outputs": [],
   "source": [
    "def calibrate_lines(m=m, rounds=2, xray_lines='all'):\n",
    "    \"\"\"Calibrating the energy and width of the specified lines in m.\"\"\"\n",
    "    for i in range(rounds):\n",
    "        print(f'Calibrating peak positions, round {i+1} of {rounds}')\n",
    "        m.calibrate_xray_lines(calibrate='energy', xray_lines=xray_lines, kind='single') # use kind='multi' for better results? Dunno\n",
    "        m.calibrate_xray_lines(calibrate='width', xray_lines=xray_lines, kind='single')"
   ]
  },
  {
   "cell_type": "code",
   "execution_count": 24,
   "metadata": {},
   "outputs": [
    {
     "name": "stdout",
     "output_type": "stream",
     "text": [
      "Calibrating peak positions, round 1 of 2\n",
      "Calibrating peak positions, round 2 of 2\n"
     ]
    }
   ],
   "source": [
    "calibrate_lines(rounds=2, xray_lines=lines_of_interest) "
   ]
  },
  {
   "attachments": {},
   "cell_type": "markdown",
   "metadata": {},
   "source": [
    "# Calculate Fiori P/B, peak intensities, FWHMs, and peak deviations"
   ]
  },
  {
   "cell_type": "code",
   "execution_count": 25,
   "metadata": {},
   "outputs": [],
   "source": [
    "def make_lines_info(m=m, all_lines=make_info_on_all_lines, sort_by='Area', lines_of_interest=lines_of_interest):\n",
    "    lines_info = {}\n",
    "    for i in range(len(m) - 1): # last component is the background\n",
    "        if (all_lines == True) or (m[i].name in lines_of_interest):\n",
    "            lines_info[m[i].name] = {\n",
    "                'Theoretical E [keV]': theoretical_energy(m[i].name),\n",
    "                'Calibrated E [keV]': np.round(m[i].centre.value, 4),\n",
    "                'Area': np.round(m[i].A.value, 1),\n",
    "                'Fiori P/B': np.round(m[i].A.value / (m[-1].function(m[i].centre.value) * scale), 1),\n",
    "                'FWHM [eV]': np.round(m[i].fwhm * 1000, 3),\n",
    "                'Sigma [keV]': np.round(m[i].sigma.value, 4),\n",
    "                'Height': np.round(m[i].height * scale, 1),\n",
    "                'FWHM(Mn Ka)' : np.round(np.sqrt(2.5*(5898.7 - m[i].centre.value*1000) + (m[i].fwhm*1000)**2), 3),\n",
    "            }\n",
    "    lines_info = pd.DataFrame(lines_info).T\n",
    "    lines_info['Delta E [eV]'] = np.round((lines_info['Calibrated E [keV]'] - lines_info['Theoretical E [keV]'] ) * 1000, 2)\n",
    "    lines_info = lines_info.sort_values(by=sort_by, ascending=False)\n",
    "    return lines_info"
   ]
  },
  {
   "cell_type": "code",
   "execution_count": 26,
   "metadata": {},
   "outputs": [
    {
     "data": {
      "text/html": [
       "<div>\n",
       "<style scoped>\n",
       "    .dataframe tbody tr th:only-of-type {\n",
       "        vertical-align: middle;\n",
       "    }\n",
       "\n",
       "    .dataframe tbody tr th {\n",
       "        vertical-align: top;\n",
       "    }\n",
       "\n",
       "    .dataframe thead th {\n",
       "        text-align: right;\n",
       "    }\n",
       "</style>\n",
       "<table border=\"1\" class=\"dataframe\">\n",
       "  <thead>\n",
       "    <tr style=\"text-align: right;\">\n",
       "      <th></th>\n",
       "      <th>Theoretical E [keV]</th>\n",
       "      <th>Calibrated E [keV]</th>\n",
       "      <th>Area</th>\n",
       "      <th>Fiori P/B</th>\n",
       "      <th>FWHM [eV]</th>\n",
       "      <th>Sigma [keV]</th>\n",
       "      <th>Height</th>\n",
       "      <th>FWHM(Mn Ka)</th>\n",
       "      <th>Delta E [eV]</th>\n",
       "    </tr>\n",
       "  </thead>\n",
       "  <tbody>\n",
       "    <tr>\n",
       "      <th>Ga_La</th>\n",
       "      <td>1.0980</td>\n",
       "      <td>1.1000</td>\n",
       "      <td>332711.7</td>\n",
       "      <td>585.8</td>\n",
       "      <td>66.866</td>\n",
       "      <td>0.0284</td>\n",
       "      <td>46960.0</td>\n",
       "      <td>128.327</td>\n",
       "      <td>2.0</td>\n",
       "    </tr>\n",
       "    <tr>\n",
       "      <th>Ga_Ka</th>\n",
       "      <td>9.2517</td>\n",
       "      <td>9.2537</td>\n",
       "      <td>301654.4</td>\n",
       "      <td>761.5</td>\n",
       "      <td>162.634</td>\n",
       "      <td>0.0691</td>\n",
       "      <td>17505.2</td>\n",
       "      <td>134.396</td>\n",
       "      <td>2.0</td>\n",
       "    </tr>\n",
       "    <tr>\n",
       "      <th>As_Ka</th>\n",
       "      <td>10.5436</td>\n",
       "      <td>10.5456</td>\n",
       "      <td>183007.1</td>\n",
       "      <td>621.5</td>\n",
       "      <td>172.548</td>\n",
       "      <td>0.0733</td>\n",
       "      <td>10009.8</td>\n",
       "      <td>134.743</td>\n",
       "      <td>2.0</td>\n",
       "    </tr>\n",
       "    <tr>\n",
       "      <th>As_La</th>\n",
       "      <td>1.2819</td>\n",
       "      <td>1.2839</td>\n",
       "      <td>140489.7</td>\n",
       "      <td>236.2</td>\n",
       "      <td>72.009</td>\n",
       "      <td>0.0306</td>\n",
       "      <td>18412.9</td>\n",
       "      <td>129.315</td>\n",
       "      <td>2.0</td>\n",
       "    </tr>\n",
       "    <tr>\n",
       "      <th>Ga_Lb1</th>\n",
       "      <td>1.1249</td>\n",
       "      <td>1.1249</td>\n",
       "      <td>55576.2</td>\n",
       "      <td>97.2</td>\n",
       "      <td>67.993</td>\n",
       "      <td>0.0289</td>\n",
       "      <td>7714.3</td>\n",
       "      <td>128.676</td>\n",
       "      <td>0.0</td>\n",
       "    </tr>\n",
       "    <tr>\n",
       "      <th>Ga_Kb</th>\n",
       "      <td>10.2642</td>\n",
       "      <td>10.2662</td>\n",
       "      <td>38822.9</td>\n",
       "      <td>123.6</td>\n",
       "      <td>161.035</td>\n",
       "      <td>0.0684</td>\n",
       "      <td>2275.3</td>\n",
       "      <td>122.529</td>\n",
       "      <td>2.0</td>\n",
       "    </tr>\n",
       "    <tr>\n",
       "      <th>As_Kb</th>\n",
       "      <td>11.7262</td>\n",
       "      <td>11.7282</td>\n",
       "      <td>26698.9</td>\n",
       "      <td>117.4</td>\n",
       "      <td>181.136</td>\n",
       "      <td>0.0769</td>\n",
       "      <td>1391.1</td>\n",
       "      <td>135.043</td>\n",
       "      <td>2.0</td>\n",
       "    </tr>\n",
       "    <tr>\n",
       "      <th>As_Lb1</th>\n",
       "      <td>1.3174</td>\n",
       "      <td>1.3174</td>\n",
       "      <td>23467.4</td>\n",
       "      <td>39.1</td>\n",
       "      <td>71.444</td>\n",
       "      <td>0.0303</td>\n",
       "      <td>3100.0</td>\n",
       "      <td>128.676</td>\n",
       "      <td>0.0</td>\n",
       "    </tr>\n",
       "    <tr>\n",
       "      <th>Ga_Ll</th>\n",
       "      <td>0.9573</td>\n",
       "      <td>0.9573</td>\n",
       "      <td>18099.5</td>\n",
       "      <td>33.1</td>\n",
       "      <td>64.838</td>\n",
       "      <td>0.0275</td>\n",
       "      <td>2634.5</td>\n",
       "      <td>128.676</td>\n",
       "      <td>0.0</td>\n",
       "    </tr>\n",
       "    <tr>\n",
       "      <th>Ga_Lb3</th>\n",
       "      <td>1.1948</td>\n",
       "      <td>1.1948</td>\n",
       "      <td>15338.0</td>\n",
       "      <td>26.4</td>\n",
       "      <td>69.266</td>\n",
       "      <td>0.0294</td>\n",
       "      <td>2089.9</td>\n",
       "      <td>128.676</td>\n",
       "      <td>0.0</td>\n",
       "    </tr>\n",
       "    <tr>\n",
       "      <th>Ga_Ln</th>\n",
       "      <td>0.9842</td>\n",
       "      <td>0.9842</td>\n",
       "      <td>8347.7</td>\n",
       "      <td>15.2</td>\n",
       "      <td>65.355</td>\n",
       "      <td>0.0278</td>\n",
       "      <td>1205.5</td>\n",
       "      <td>128.676</td>\n",
       "      <td>0.0</td>\n",
       "    </tr>\n",
       "    <tr>\n",
       "      <th>As_Ll</th>\n",
       "      <td>1.1196</td>\n",
       "      <td>1.1196</td>\n",
       "      <td>6924.7</td>\n",
       "      <td>12.1</td>\n",
       "      <td>67.895</td>\n",
       "      <td>0.0288</td>\n",
       "      <td>962.6</td>\n",
       "      <td>128.676</td>\n",
       "      <td>0.0</td>\n",
       "    </tr>\n",
       "    <tr>\n",
       "      <th>As_Lb3</th>\n",
       "      <td>1.3860</td>\n",
       "      <td>1.3860</td>\n",
       "      <td>6700.0</td>\n",
       "      <td>11.0</td>\n",
       "      <td>72.634</td>\n",
       "      <td>0.0308</td>\n",
       "      <td>870.6</td>\n",
       "      <td>128.676</td>\n",
       "      <td>0.0</td>\n",
       "    </tr>\n",
       "    <tr>\n",
       "      <th>As_Ln</th>\n",
       "      <td>1.1551</td>\n",
       "      <td>1.1551</td>\n",
       "      <td>2710.0</td>\n",
       "      <td>4.7</td>\n",
       "      <td>68.546</td>\n",
       "      <td>0.0291</td>\n",
       "      <td>373.1</td>\n",
       "      <td>128.676</td>\n",
       "      <td>0.0</td>\n",
       "    </tr>\n",
       "  </tbody>\n",
       "</table>\n",
       "</div>"
      ],
      "text/plain": [
       "        Theoretical E [keV]  Calibrated E [keV]      Area  Fiori P/B  \\\n",
       "Ga_La                1.0980              1.1000  332711.7      585.8   \n",
       "Ga_Ka                9.2517              9.2537  301654.4      761.5   \n",
       "As_Ka               10.5436             10.5456  183007.1      621.5   \n",
       "As_La                1.2819              1.2839  140489.7      236.2   \n",
       "Ga_Lb1               1.1249              1.1249   55576.2       97.2   \n",
       "Ga_Kb               10.2642             10.2662   38822.9      123.6   \n",
       "As_Kb               11.7262             11.7282   26698.9      117.4   \n",
       "As_Lb1               1.3174              1.3174   23467.4       39.1   \n",
       "Ga_Ll                0.9573              0.9573   18099.5       33.1   \n",
       "Ga_Lb3               1.1948              1.1948   15338.0       26.4   \n",
       "Ga_Ln                0.9842              0.9842    8347.7       15.2   \n",
       "As_Ll                1.1196              1.1196    6924.7       12.1   \n",
       "As_Lb3               1.3860              1.3860    6700.0       11.0   \n",
       "As_Ln                1.1551              1.1551    2710.0        4.7   \n",
       "\n",
       "        FWHM [eV]  Sigma [keV]   Height  FWHM(Mn Ka)  Delta E [eV]  \n",
       "Ga_La      66.866       0.0284  46960.0      128.327           2.0  \n",
       "Ga_Ka     162.634       0.0691  17505.2      134.396           2.0  \n",
       "As_Ka     172.548       0.0733  10009.8      134.743           2.0  \n",
       "As_La      72.009       0.0306  18412.9      129.315           2.0  \n",
       "Ga_Lb1     67.993       0.0289   7714.3      128.676           0.0  \n",
       "Ga_Kb     161.035       0.0684   2275.3      122.529           2.0  \n",
       "As_Kb     181.136       0.0769   1391.1      135.043           2.0  \n",
       "As_Lb1     71.444       0.0303   3100.0      128.676           0.0  \n",
       "Ga_Ll      64.838       0.0275   2634.5      128.676           0.0  \n",
       "Ga_Lb3     69.266       0.0294   2089.9      128.676           0.0  \n",
       "Ga_Ln      65.355       0.0278   1205.5      128.676           0.0  \n",
       "As_Ll      67.895       0.0288    962.6      128.676           0.0  \n",
       "As_Lb3     72.634       0.0308    870.6      128.676           0.0  \n",
       "As_Ln      68.546       0.0291    373.1      128.676           0.0  "
      ]
     },
     "execution_count": 26,
     "metadata": {},
     "output_type": "execute_result"
    }
   ],
   "source": [
    "lines_info = make_lines_info(all_lines=make_info_on_all_lines, sort_by='Area')\n",
    "lines_info"
   ]
  },
  {
   "attachments": {},
   "cell_type": "markdown",
   "metadata": {},
   "source": [
    "# Calculate the relevant peak ratios"
   ]
  },
  {
   "cell_type": "code",
   "execution_count": 27,
   "metadata": {},
   "outputs": [],
   "source": [
    "def peak_ratio(line1, line2, m=m):\n",
    "    # give the K to L ratio of a line, e.g. 'Ga_Ka' to 'Ga_La'\n",
    "    try:\n",
    "        m[line1]\n",
    "        m[line2]\n",
    "    except ValueError:\n",
    "        print('line not in model:', line1, line2)\n",
    "        return np.nan\n",
    "    return np.round(m[line1].A.value / m[line2].A.value, 3)\n",
    "\n",
    "\n",
    "def calculate_all_line_ratios():\n",
    "    line_ratios = {}\n",
    "    for line_pair in line_ratio_list:\n",
    "        pair_name = line_pair[0] + '/' + line_pair[1]\n",
    "        line_ratios[pair_name] =  peak_ratio(line_pair[0], line_pair[1])\n",
    "    line_ratios = pd.DataFrame(line_ratios, index=['Line ratio']).T\n",
    "    return line_ratios"
   ]
  },
  {
   "cell_type": "code",
   "execution_count": 28,
   "metadata": {},
   "outputs": [
    {
     "name": "stdout",
     "output_type": "stream",
     "text": [
      "             Line ratio\n",
      "As_Ka/As_La       1.303\n",
      "Ga_Ka/Ga_La       0.907\n",
      "Ga_La/As_La       2.368\n"
     ]
    }
   ],
   "source": [
    "line_ratios = calculate_all_line_ratios()\n",
    "print(line_ratios)"
   ]
  },
  {
   "attachments": {},
   "cell_type": "markdown",
   "metadata": {},
   "source": [
    "#  Save the results in a DataFrame in a \".csv\" file"
   ]
  },
  {
   "cell_type": "code",
   "execution_count": 29,
   "metadata": {},
   "outputs": [],
   "source": [
    "def dead_time(s=s, m=m):\n",
    "    real_time = s.metadata.Acquisition_instrument.SEM.Detector.EDS.real_time\n",
    "    live_time = s.metadata.Acquisition_instrument.SEM.Detector.EDS.live_time\n",
    "    dead_time_percent = (real_time - live_time)/real_time*100\n",
    "    print(f'Dead time: {dead_time_percent:.1f}%')\n",
    "    return round(dead_time_percent, 1)"
   ]
  },
  {
   "cell_type": "code",
   "execution_count": 30,
   "metadata": {},
   "outputs": [
    {
     "name": "stdout",
     "output_type": "stream",
     "text": [
      "Dead time: 43.7%\n"
     ]
    }
   ],
   "source": [
    "dead_time_percent = dead_time(s=s, m=m)"
   ]
  },
  {
   "cell_type": "code",
   "execution_count": 31,
   "metadata": {},
   "outputs": [],
   "source": [
    "def make_output():\n",
    "    key_output = pd.DataFrame({\n",
    "        'Name': [name],\n",
    "        'Nominal beam energy [kV]': [Vacc],\n",
    "        'Beam current [pA]': [beam_current],\n",
    "        'Process time' : [process_time],\n",
    "        'ICR' : [input_count_rate], \n",
    "        'Dead time [%]': [dead_time_percent],\n",
    "        'Live time [s]': [round(s.metadata.Acquisition_instrument.SEM.Detector.EDS.live_time, 1)],\n",
    "        'Duane-Hunt limit [kV]': [dh_limit],\n",
    "        'Scale [keV]': [scale],\n",
    "        'Offset [keV]': [offset],\n",
    "        'Energy resolution [eV]': [energy_resolution],\n",
    "    })\n",
    "    for ratio_pair in line_ratios.T.columns:\n",
    "        key_output[f'Ratio ({ratio_pair})'] = line_ratios.T[ratio_pair][0]\n",
    "\n",
    "    for line in fiori_peaks:\n",
    "        try:\n",
    "            key_output[f'Fiori PB ({line})'] = lines_info.loc[line, 'Fiori P/B']\n",
    "        except KeyError:\n",
    "            key_output[f'Fiori PB ({line})'] = np.nan\n",
    "\n",
    "    return key_output"
   ]
  },
  {
   "cell_type": "code",
   "execution_count": 32,
   "metadata": {},
   "outputs": [
    {
     "data": {
      "text/html": [
       "<div>\n",
       "<style scoped>\n",
       "    .dataframe tbody tr th:only-of-type {\n",
       "        vertical-align: middle;\n",
       "    }\n",
       "\n",
       "    .dataframe tbody tr th {\n",
       "        vertical-align: top;\n",
       "    }\n",
       "\n",
       "    .dataframe thead th {\n",
       "        text-align: right;\n",
       "    }\n",
       "</style>\n",
       "<table border=\"1\" class=\"dataframe\">\n",
       "  <thead>\n",
       "    <tr style=\"text-align: right;\">\n",
       "      <th></th>\n",
       "      <th>0</th>\n",
       "    </tr>\n",
       "  </thead>\n",
       "  <tbody>\n",
       "    <tr>\n",
       "      <th>Name</th>\n",
       "      <td>GaAs_30kV_50pA</td>\n",
       "    </tr>\n",
       "    <tr>\n",
       "      <th>Nominal beam energy [kV]</th>\n",
       "      <td>30.0</td>\n",
       "    </tr>\n",
       "    <tr>\n",
       "      <th>Beam current [pA]</th>\n",
       "      <td>50</td>\n",
       "    </tr>\n",
       "    <tr>\n",
       "      <th>Process time</th>\n",
       "      <td>6</td>\n",
       "    </tr>\n",
       "    <tr>\n",
       "      <th>ICR</th>\n",
       "      <td>16400</td>\n",
       "    </tr>\n",
       "    <tr>\n",
       "      <th>Dead time [%]</th>\n",
       "      <td>43.7</td>\n",
       "    </tr>\n",
       "    <tr>\n",
       "      <th>Live time [s]</th>\n",
       "      <td>120.0</td>\n",
       "    </tr>\n",
       "    <tr>\n",
       "      <th>Duane-Hunt limit [kV]</th>\n",
       "      <td>NaN</td>\n",
       "    </tr>\n",
       "    <tr>\n",
       "      <th>Scale [keV]</th>\n",
       "      <td>0.010046</td>\n",
       "    </tr>\n",
       "    <tr>\n",
       "      <th>Offset [keV]</th>\n",
       "      <td>0.193846</td>\n",
       "    </tr>\n",
       "    <tr>\n",
       "      <th>Energy resolution [eV]</th>\n",
       "      <td>128.675916</td>\n",
       "    </tr>\n",
       "    <tr>\n",
       "      <th>Ratio (As_Ka/As_La)</th>\n",
       "      <td>1.303</td>\n",
       "    </tr>\n",
       "    <tr>\n",
       "      <th>Ratio (Ga_Ka/Ga_La)</th>\n",
       "      <td>0.907</td>\n",
       "    </tr>\n",
       "    <tr>\n",
       "      <th>Ratio (Ga_La/As_La)</th>\n",
       "      <td>2.368</td>\n",
       "    </tr>\n",
       "    <tr>\n",
       "      <th>Fiori PB (Ga_La)</th>\n",
       "      <td>585.8</td>\n",
       "    </tr>\n",
       "    <tr>\n",
       "      <th>Fiori PB (As_La)</th>\n",
       "      <td>236.2</td>\n",
       "    </tr>\n",
       "    <tr>\n",
       "      <th>Fiori PB (Ga_Ka)</th>\n",
       "      <td>761.5</td>\n",
       "    </tr>\n",
       "  </tbody>\n",
       "</table>\n",
       "</div>"
      ],
      "text/plain": [
       "                                       0\n",
       "Name                      GaAs_30kV_50pA\n",
       "Nominal beam energy [kV]            30.0\n",
       "Beam current [pA]                     50\n",
       "Process time                           6\n",
       "ICR                                16400\n",
       "Dead time [%]                       43.7\n",
       "Live time [s]                      120.0\n",
       "Duane-Hunt limit [kV]                NaN\n",
       "Scale [keV]                     0.010046\n",
       "Offset [keV]                    0.193846\n",
       "Energy resolution [eV]        128.675916\n",
       "Ratio (As_Ka/As_La)                1.303\n",
       "Ratio (Ga_Ka/Ga_La)                0.907\n",
       "Ratio (Ga_La/As_La)                2.368\n",
       "Fiori PB (Ga_La)                   585.8\n",
       "Fiori PB (As_La)                   236.2\n",
       "Fiori PB (Ga_Ka)                   761.5"
      ]
     },
     "execution_count": 32,
     "metadata": {},
     "output_type": "execute_result"
    }
   ],
   "source": [
    "key_output = make_output()\n",
    "key_output.T"
   ]
  },
  {
   "cell_type": "code",
   "execution_count": 33,
   "metadata": {},
   "outputs": [],
   "source": [
    "def save_output():\n",
    "    # save the output-df to a csv file\n",
    "    key_output.T.to_csv(f'results/{name}_output.csv')\n",
    "    # saves the line info df to another csv file\n",
    "    save_lines_info = True\n",
    "    if save_lines_info:\n",
    "        lines_info.to_csv(f'results/lines_info/{name}_lines_info.csv')"
   ]
  },
  {
   "cell_type": "code",
   "execution_count": null,
   "metadata": {},
   "outputs": [],
   "source": [
    "save_output()\n",
    "# ![Image](https://folk.ntnu.no/brynjamm/marathon_dabz.gif)"
   ]
  }
 ],
 "metadata": {
  "kernelspec": {
   "display_name": "hspy_dev",
   "language": "python",
   "name": "python3"
  },
  "language_info": {
   "codemirror_mode": {
    "name": "ipython",
    "version": 3
   },
   "file_extension": ".py",
   "mimetype": "text/x-python",
   "name": "python",
   "nbconvert_exporter": "python",
   "pygments_lexer": "ipython3",
   "version": "3.8.16"
  },
  "orig_nbformat": 4,
  "vscode": {
   "interpreter": {
    "hash": "27df9ad7312a76815d4fe809f9c8bf57d2a2c3257a2dcf6754112e766f98d8e4"
   }
  }
 },
 "nbformat": 4,
 "nbformat_minor": 2
}
