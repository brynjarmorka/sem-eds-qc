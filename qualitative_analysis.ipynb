{
 "cells": [
  {
   "cell_type": "code",
   "execution_count": null,
   "metadata": {},
   "outputs": [],
   "source": [
    "import hyperspy.api as hs\n",
    "import numpy as np\n",
    "import matplotlib.pyplot as plt\n",
    "import plotly.graph_objects as go\n",
    "import pandas as pd\n",
    "\n",
    "from helper_functions import elementlines, nearestlines, theoretical_energy"
   ]
  },
  {
   "cell_type": "code",
   "execution_count": null,
   "metadata": {},
   "outputs": [],
   "source": [
    "import os\n",
    "path = \"../../Masteroppgave/2023-03-08_EDS-Apreo/exports/\"\n",
    "files = os.listdir(path)\n",
    "files"
   ]
  },
  {
   "cell_type": "code",
   "execution_count": null,
   "metadata": {},
   "outputs": [],
   "source": [
    "s_list = [hs.load(path + '/' + file, signal_type='EDS_SEM') for file in files]"
   ]
  },
  {
   "cell_type": "code",
   "execution_count": null,
   "metadata": {},
   "outputs": [],
   "source": [
    "zero_peak_slice = 33 # zero peak slice in calibration of GaAs from Sept 2022\n",
    "scale = 0.01\n",
    "offset = 0.1242 - zero_peak_slice * scale\n",
    "channels = 2048\n",
    "x = np.arange(offset, offset + channels * scale, scale)"
   ]
  },
  {
   "cell_type": "code",
   "execution_count": null,
   "metadata": {},
   "outputs": [],
   "source": [
    "def figg(log=True):\n",
    "    fig = go.Figure()\n",
    "    fig.update_layout(margin=dict(l=5, r=5, t=25, b=5))\n",
    "    fig.update_layout(xaxis_title='Energy (keV)', yaxis_title='Counts')\n",
    "    if log:\n",
    "        fig.update_yaxes(type=\"log\")\n",
    "    return fig\n",
    "\n",
    "\n",
    "def add_all_element_lines(fig, element):\n",
    "    lines = list(hs.material.elements[element].Atomic_properties.Xray_lines.as_dictionary().keys())\n",
    "    for line in lines:\n",
    "        line = element + '_' + line\n",
    "        fig.add_vline(x=theoretical_energy(line), line_width=1, line_dash=\"dash\", line_color=\"black\", annotation_text=line, annotation_position=\"top right\", annotation_textangle=90)\n",
    "    \n",
    "    \n",
    "def kev_to_channel(energy):\n",
    "    return int((energy - offset) / scale)\n",
    "\n",
    "def add_line(fig, line, color='grey'):\n",
    "    fig.add_vline(x=theoretical_energy(line), line_width=0.5, line_dash=\"dash\", line_color=color, annotation_text=line, annotation_position=\"top right\", annotation_textangle=90)\n",
    "\n",
    "def add_multiple_lines(fig, lines, color='grey'):\n",
    "    for line in lines:\n",
    "        add_line(fig, line, color)"
   ]
  },
  {
   "cell_type": "code",
   "execution_count": null,
   "metadata": {},
   "outputs": [],
   "source": [
    "elementlines('Sb')\n",
    "# Sb is missing the Mz line, previously mistaken for the N_Ka line"
   ]
  },
  {
   "cell_type": "code",
   "execution_count": null,
   "metadata": {},
   "outputs": [],
   "source": [
    "# plot raw data\n",
    "fig = figg(log=False)\n",
    "for s in s_list:\n",
    "    fig.add_trace(go.Scatter(x=x, y=s.data, name=s.metadata.General.original_filename))\n",
    "\n",
    "# add_all_element_lines(fig, 'Ga')\n",
    "# add_all_element_lines(fig, 'O')\n",
    "# add_all_element_lines(fig, 'C')\n",
    "# add_all_element_lines(fig, 'N')\n",
    "add_all_element_lines(fig, 'Sb')\n",
    "# add_all_element_lines(fig, 'Si')\n",
    "# add_all_element_lines(fig, 'As')\n",
    "# add_all_element_lines(fig, 'Cu')\n",
    "\n",
    "fig.show()"
   ]
  },
  {
   "cell_type": "code",
   "execution_count": null,
   "metadata": {},
   "outputs": [],
   "source": [
    "# plot all from March 2023\n",
    "fig = figg()\n",
    "for s in s_list:\n",
    "    fig.add_trace(go.Scatter(x=x, y=s.data, name=s.metadata.General.original_filename))\n",
    "\n",
    "fig.update_xaxes(range=[0.1, 11])\n",
    "fig.update_yaxes(range=[0.5, 5.5])\n",
    "\n",
    "# add_multiple_lines(fig,['Ga_Ka', 'Ga_La', 'Ga_Kb', 'Ga_Ll', 'C_Ka', 'Si_Ka', 'Si_Kb', 'N_Ka', 'O_Ka'], 'black')\n",
    "# add_multiple_lines(fig,['Sb_La', 'Sb_Ll', 'Sb_Lg1', 'Sb_Lg3', 'Sb_Lb1', 'Sb_Lb3', 'Sb_Lb2'], 'grey')\n",
    "\n",
    "# add_all_element_lines(fig, 'Sb')\n",
    "\n",
    "# fig.write_html(\"figures/all_March2023.html\")\n",
    "# fig.show()\n",
    "'f'"
   ]
  },
  {
   "cell_type": "code",
   "execution_count": null,
   "metadata": {},
   "outputs": [],
   "source": [
    "# plot GaSb\n",
    "fig = figg()\n",
    "for s in s_list:\n",
    "    fname = s.metadata.General.original_filename\n",
    "    if 'GaSb' in fname:\n",
    "        if 'processTime' in fname:\n",
    "            continue\n",
    "        if '00pA' in fname or 'scratched' in fname or 'noPPUC' in fname:\n",
    "            fig.add_trace(go.Scatter(x=x, y=s.data, name=fname, visible='legendonly'))\n",
    "\n",
    "        else:\n",
    "            fig.add_trace(go.Scatter(x=x, y=s.data, name=fname))\n",
    "\n",
    "fig.update_xaxes(range=[0.1, 11])\n",
    "fig.update_yaxes(range=[0.5, 5.5])\n",
    "\n",
    "add_multiple_lines(fig,['Ga_Ka', 'Ga_La', 'Ga_Kb', 'Ga_Ll', 'C_Ka', 'Si_Ka', 'Si_Kb', 'O_Ka'], 'black')\n",
    "add_multiple_lines(fig,['Sb_La', 'Sb_Ll', 'Sb_Lg1', 'Sb_Lg3', 'Sb_Lb1', 'Sb_Lb3', 'Sb_Lb4', 'Sb_Lb2'], 'grey')\n",
    "\n",
    "# annotate Sb_Mz at x=0.42 with a vline\n",
    "fig.add_vline(x=0.42, line_width=0.5, line_dash=\"dash\", line_color='grey', annotation_text='Sb_Mz? (in AZtec, not in HS)', annotation_position=\"top right\", annotation_textangle=90)\n",
    "fig.add_vline(x=0.73, line_width=0.5, line_dash=\"dash\", line_color='grey', annotation_text='Sb_Mg? (in AZtec, not in HS)', annotation_position=\"top right\", annotation_textangle=90)\n",
    "\n",
    "\n",
    "# add_all_element_lines(fig, 'Sb')\n",
    "\n",
    "# fig.write_html(\"figures/GaSb_March2023.html\")\n",
    "# fig.show()\n",
    "'f'"
   ]
  },
  {
   "cell_type": "code",
   "execution_count": null,
   "metadata": {},
   "outputs": [],
   "source": [
    "# plot GaSb, just different process times\n",
    "fig = figg()\n",
    "for s in s_list:\n",
    "    fname = s.metadata.General.original_filename\n",
    "    if 'GaSb' in fname:\n",
    "        if 'processTime' in fname and '50pA' in fname:\n",
    "            fig.add_trace(go.Scatter(x=x, y=s.data, name=fname))\n",
    "\n",
    "for s in s_list:\n",
    "    fname=s.metadata.General.original_filename\n",
    "    if 'GaSb' in fname:\n",
    "        if '400pA' in fname:\n",
    "            fig.add_trace(go.Scatter(x=x, y=s.data, name=fname, visible='legendonly'))\n",
    "\n",
    "\n",
    "fig.update_xaxes(range=[0.1, 11])\n",
    "fig.update_yaxes(range=[2.2, 5.5])\n",
    "\n",
    "add_multiple_lines(fig,['Ga_Ka', 'Ga_La', 'Ga_Kb', 'Ga_Ll', 'C_Ka', 'Si_Ka', 'Si_Kb', 'N_Ka', 'O_Ka'], 'black')\n",
    "add_multiple_lines(fig,['Sb_La', 'Sb_Ll', 'Sb_Lg1', 'Sb_Lg3', 'Sb_Lb1', 'Sb_Lb3', 'Sb_Lb2'], 'grey')\n",
    "fig.add_annotation(x=7.42, y=4.2, text=\"Sb sum peaks on purple line\", showarrow=False, font=dict(size=10, color=\"gray\"))\n",
    "\n",
    "# fig.write_html(\"figures/GaSb_ProcessTimes_March2023.html\")\n",
    "# fig.show()\n",
    "'f'"
   ]
  },
  {
   "cell_type": "code",
   "execution_count": null,
   "metadata": {},
   "outputs": [],
   "source": [
    "# plot GaAs\n",
    "fig = figg()\n",
    "for s in s_list:\n",
    "    if 'GaAs' in s.metadata.General.original_filename:\n",
    "        if 'Cu' in s.metadata.General.original_filename:\n",
    "            fig.add_trace(go.Scatter(x=x, y=s.data, name=s.metadata.General.original_filename, visible='legendonly'))\n",
    "        else:\n",
    "            fig.add_trace(go.Scatter(x=x, y=s.data, name=s.metadata.General.original_filename))\n",
    "\n",
    "fig.update_xaxes(range=[0.1, 12.2])\n",
    "fig.update_yaxes(range=[0.5, 5.5])\n",
    "\n",
    "\n",
    "\n",
    "add_multiple_lines(fig,['Ga_Ka', 'Ga_La', 'Ga_Kb', 'Ga_Ll', 'As_Ka', 'As_La', 'As_Kb', 'C_Ka', 'Si_Ka'], 'black')\n",
    "add_multiple_lines(fig, [ 'Ag_La', 'Ag_Lb1', 'Cu_Ka', 'Cu_Kb', 'Cu_La'], 'grey')\n",
    "\n",
    "\n",
    "# fig.write_html(\"figures/GaAs_March2023.html\")"
   ]
  },
  {
   "cell_type": "code",
   "execution_count": null,
   "metadata": {},
   "outputs": [],
   "source": [
    "# showing the effect of different processTime\n",
    "\n",
    "processTimeFiles = [\n",
    "# 'GaSb_30kV_50pA_noPPUC.emsa', #  'PT 6 (no PPUC)',\n",
    "'GaSb_30kV_50pA_processTime1.emsa',\n",
    "'GaSb_30kV_50pA_processTime2.emsa',\n",
    "'GaSb_30kV_50pA_processTime4.emsa',\n",
    "'GaSb_30kV_50pA.emsa']\n",
    "\n",
    "names = ['Process time 1', 'Process time 2', 'Process time 4', 'Process time 6']\n",
    "\n",
    "processTimeData = [hs.load(path + '/' + file, signal_type='EDS_SEM').data for file in processTimeFiles]\n",
    "\n",
    "fig = figg()\n",
    "for i, s in enumerate(processTimeData):\n",
    "    fig.add_trace(go.Scatter(x=x, y=s, name=names[i]))\n",
    "\n",
    "fig.update_xaxes(range=[0.17, 1.3])\n",
    "fig.update_yaxes(range=[2.3, 4.4])\n",
    "fig.update_layout(title_text='Effect of different process times, all lines are GaSb 30kV 50pA (DT and real time is different)')\n",
    "fig.update_layout(margin=dict(l=5, r=5, t=50, b=5))\n",
    "fig.update_layout(legend=dict( yanchor=\"top\", y=0.93, xanchor=\"left\", x=0.01))\n",
    "# fig.update_layout(width=1000, height=600)\n",
    "add_multiple_lines(fig,['Ga_La', 'Ga_Ll', 'C_Ka', 'O_Ka', 'C_Ka', 'N_Ka'], 'black')\n",
    "\n",
    "'p'\n",
    "\n",
    "fig.show()\n",
    "\n",
    "fig.write_html(\"figures/processTime.html\")"
   ]
  },
  {
   "cell_type": "code",
   "execution_count": null,
   "metadata": {},
   "outputs": [],
   "source": []
  }
 ],
 "metadata": {
  "kernelspec": {
   "display_name": "hspy",
   "language": "python",
   "name": "python3"
  },
  "language_info": {
   "codemirror_mode": {
    "name": "ipython",
    "version": 3
   },
   "file_extension": ".py",
   "mimetype": "text/x-python",
   "name": "python",
   "nbconvert_exporter": "python",
   "pygments_lexer": "ipython3",
   "version": "3.8.16"
  },
  "orig_nbformat": 4
 },
 "nbformat": 4,
 "nbformat_minor": 2
}
