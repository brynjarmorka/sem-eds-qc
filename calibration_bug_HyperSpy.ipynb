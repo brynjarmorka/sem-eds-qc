{
 "cells": [
  {
   "attachments": {},
   "cell_type": "markdown",
   "metadata": {},
   "source": [
    "### Notebook for highlighting a bug in the `calibrate_energy_axis` method of the `EDSmodel` class in HyperSpy\n",
    "\n",
    "The problem with the function is that the energy resolution is calibrated with only the first line given as the argument `xray_lines`, and as the default value of `xray_lines='all_alpha'`, the line used for reference is the alpabetically first one. This leads to a wrong/bad calibration of the energy resolution.\n",
    "\n",
    "The energy resolution is calculated with the HyperSpy function `_get_sigma()`, which is from Fiori and Newbury (1978, see the docstring of `_get_sigma()`). This equation used the energy and FWHM of a reference line to estimate any other FWHM in the spectrum. If the reference line is a poorly defined one, the calibration will be wrong.\n",
    "\n",
    "This is the results generated 9.2.2023 with HyperSpy 1.7.4, where it is clear that using Ga_La and As_La provides the most stable calibration.\n",
    "\n",
    "```python\n",
    "Used reference            30 kV      15 kV      10 kV       5 kV\n",
    "original_calibration      130.0      130.0      130.0      130.0\n",
    "all_alpha                 139.4      149.7      132.5      132.8\n",
    "all_alpha_calibrated      138.3      148.8      132.0      132.2\n",
    "As_Ka                     137.9      146.4        nan        nan\n",
    "As_La                     130.0      130.4      131.9      132.1\n",
    "Ga_Ka                     132.9      131.7      668.3        nan\n",
    "Ga_La                     129.7      130.9      127.4      130.8\n",
    "```\n",
    "\n",
    "When using `'all_alpha'`, the 30 kV and 15 kV spectrum use As_Ka as reference, where As_Ka is not as well defined as the three other alpha lines. This is especially clear for the 15 kV spectrum.\n",
    "\n",
    "The effect of a poorly defined line is emphasized by the Ga_Ka line calibration for 10 kV, which is >660 eV since the line is almost not defined at all.\n",
    "\n",
    "The 10 and 5 kV spectrum have more stable calibration, as they both use As_La as reference when using `'all_alpha'`.\n",
    "\n",
    "#### Improvements to HyperSpy\n",
    "\n",
    "To fix this bug, an issue was opened on the HyperSpy GitHub page [here](https://github.com/hyperspy/hyperspy/issues/3098).\n",
    "\n",
    "As of now (9.2.2023) a documentation change have been suggested in [this PR](https://github.com/hyperspy/hyperspy/pull/3099), and a code change might be suggested in the future."
   ]
  },
  {
   "cell_type": "code",
   "execution_count": null,
   "metadata": {},
   "outputs": [],
   "source": [
    "import hyperspy.api as hs\n",
    "import numpy as np\n",
    "import matplotlib.pyplot as plt"
   ]
  },
  {
   "cell_type": "code",
   "execution_count": null,
   "metadata": {},
   "outputs": [],
   "source": [
    "path = 'data/Maehlum_2022-09-06_EDS-SEM-APREO'\n",
    "file30 = 'GaAs_30kV.emsa'\n",
    "file15 = 'GaAs_15kV.emsa'\n",
    "file10 = 'GaAs_10kV.emsa'\n",
    "file05 = 'GaAs_05kV.emsa'\n",
    "files = [file30, file15, file10, file05]\n",
    "# elements = ['Ga', 'As', 'O', 'C', 'Si']\n",
    "elements = ['Ga', 'As']\n",
    "zero_peak_end_index = 33"
   ]
  },
  {
   "cell_type": "code",
   "execution_count": null,
   "metadata": {},
   "outputs": [],
   "source": [
    "# s30 = hs.load(path + '/' + file30, signal_type='EDS_SEM')\n",
    "# s15 = hs.load(path + '/' + file15, signal_type='EDS_SEM')\n",
    "# s10 = hs.load(path + '/' + file10, signal_type='EDS_SEM')\n",
    "# s05 = hs.load(path + '/' + file05, signal_type='EDS_SEM')\n",
    "# ss = [s30, s15, s10, s05]\n",
    "\n",
    "ss = [hs.load(path + '/' + file, signal_type='EDS_SEM') for file in files]\n",
    "\n",
    "for i in range(len(ss)):\n",
    "    ss[i].add_elements(elements)\n",
    "    # slice after zero peak and at nominal beam energy\n",
    "    ss[i] = ss[i].isig[zero_peak_end_index:ss[i].metadata.Acquisition_instrument.SEM.beam_energy]\n"
   ]
  },
  {
   "cell_type": "code",
   "execution_count": null,
   "metadata": {},
   "outputs": [],
   "source": [
    "models = []\n",
    "for s in ss:\n",
    "    m = s.create_model()\n",
    "    m.fit()\n",
    "    m.fit_background()\n",
    "    models.append(m)\n",
    "\n",
    "results = {}"
   ]
  },
  {
   "cell_type": "code",
   "execution_count": null,
   "metadata": {},
   "outputs": [],
   "source": [
    "def vacc(s):\n",
    "    \"\"\"Get the accelerating voltage from the metadata\"\"\"\n",
    "    return s.metadata.Acquisition_instrument.SEM.beam_energy\n",
    "\n",
    "def mn_ka(s):\n",
    "    \"\"\"Get the Mn Ka energy from the metadata\"\"\"\n",
    "    return np.round(s.metadata.Acquisition_instrument.SEM.Detector.EDS.energy_resolution_MnKa, decimals=1)"
   ]
  },
  {
   "cell_type": "code",
   "execution_count": null,
   "metadata": {},
   "outputs": [],
   "source": [
    "def print_resolutions(list):\n",
    "    for s in ss:\n",
    "        # print(f'{vacc(s):4.0f} kV:  {mn_ka(s):.0f} eV')\n",
    "        list.append(mn_ka(s))\n"
   ]
  },
  {
   "cell_type": "code",
   "execution_count": null,
   "metadata": {},
   "outputs": [],
   "source": [
    "# print('Original resolutions: ')\n",
    "original_resolutions = []\n",
    "print_resolutions(original_resolutions)\n",
    "results['original_calibration'] = original_resolutions"
   ]
  },
  {
   "cell_type": "code",
   "execution_count": null,
   "metadata": {},
   "outputs": [],
   "source": [
    "# calibrate with xray_lines='all_alpha', which is the default value\n",
    "def calibrate_all_alpha():\n",
    "    for m in models:\n",
    "        m.calibrate_energy_axis(calibrate='resolution', xray_lines='all_alpha')\n"
   ]
  },
  {
   "cell_type": "code",
   "execution_count": null,
   "metadata": {},
   "outputs": [],
   "source": [
    "calibrate_all_alpha()\n",
    "all_alpha_resolutions = []\n",
    "print_resolutions(all_alpha_resolutions)\n",
    "results['all_alpha'] = all_alpha_resolutions"
   ]
  },
  {
   "cell_type": "code",
   "execution_count": null,
   "metadata": {},
   "outputs": [],
   "source": [
    "# calibrate all the xray lines, then doing the energy calibration\n",
    "for m in models:\n",
    "    m.calibrate_xray_lines(calibrate='energy', xray_lines='all', kind='multi', iterpath='serpentine')\n",
    "    m.calibrate_xray_lines(calibrate='width', xray_lines='all', kind='multi', iterpath='serpentine')\n",
    "\n",
    "calibrate_all_alpha()\n",
    "all_alpha_resolutions_calibrated = []\n",
    "print_resolutions(all_alpha_resolutions_calibrated)\n",
    "results['all_alpha_calibrated'] = all_alpha_resolutions_calibrated\n",
    "results"
   ]
  },
  {
   "cell_type": "code",
   "execution_count": null,
   "metadata": {},
   "outputs": [],
   "source": [
    "# calibrating on As_Ka\n",
    "\n",
    "models[0].calibrate_energy_axis(calibrate='resolution', xray_lines=['As_Ka'])\n",
    "models[1].calibrate_energy_axis(calibrate='resolution', xray_lines=['As_Ka'])\n",
    "# models[2].calibrate_energy_axis(calibrate='resolution', xray_lines=['As_Ka'])  # No As_Ka in 10 kV\n",
    "# models[3].calibrate_energy_axis(calibrate='resolution', xray_lines=['As_Ka'])  # No As_Ka in 5 kV\n",
    "\n",
    "\n",
    "results['As_Ka'] = [mn_ka(ss[0]), mn_ka(ss[1]), np.nan, np.nan]"
   ]
  },
  {
   "cell_type": "code",
   "execution_count": null,
   "metadata": {},
   "outputs": [],
   "source": [
    "# calibrating on As_La\n",
    "models[0].calibrate_energy_axis(calibrate='resolution', xray_lines=['As_La'])\n",
    "models[1].calibrate_energy_axis(calibrate='resolution', xray_lines=['As_La'])\n",
    "models[2].calibrate_energy_axis(calibrate='resolution', xray_lines=['As_La'])\n",
    "models[3].calibrate_energy_axis(calibrate='resolution', xray_lines=['As_La'])\n",
    "\n",
    "results['As_La'] = [mn_ka(ss[0]), mn_ka(ss[1]), mn_ka(ss[2]), mn_ka(ss[3])]"
   ]
  },
  {
   "cell_type": "code",
   "execution_count": null,
   "metadata": {},
   "outputs": [],
   "source": [
    "# calibrating on Ga_Ka\n",
    "\n",
    "models[0].calibrate_energy_axis(calibrate='resolution', xray_lines=['Ga_Ka'])\n",
    "models[1].calibrate_energy_axis(calibrate='resolution', xray_lines=['Ga_Ka'])\n",
    "models[2].calibrate_energy_axis(calibrate='resolution', xray_lines=['Ga_Ka'])\n",
    "# models[3].calibrate_energy_axis(calibrate='resolution', xray_lines=['Ga_Ka'])  # No Ga_Ka in 5 kV\n",
    "\n",
    "\n",
    "results['Ga_Ka'] = [mn_ka(ss[0]), mn_ka(ss[1]), mn_ka(ss[2]), np.nan]"
   ]
  },
  {
   "cell_type": "code",
   "execution_count": null,
   "metadata": {},
   "outputs": [],
   "source": [
    "# calibrating on Ga_La\n",
    "models[0].calibrate_energy_axis(calibrate='resolution', xray_lines=['Ga_La'])\n",
    "models[1].calibrate_energy_axis(calibrate='resolution', xray_lines=['Ga_La'])\n",
    "models[2].calibrate_energy_axis(calibrate='resolution', xray_lines=['Ga_La'])\n",
    "models[3].calibrate_energy_axis(calibrate='resolution', xray_lines=['Ga_La'])\n",
    "\n",
    "results['Ga_La'] = [mn_ka(ss[0]), mn_ka(ss[1]), mn_ka(ss[2]), mn_ka(ss[3])]"
   ]
  },
  {
   "cell_type": "code",
   "execution_count": null,
   "metadata": {},
   "outputs": [],
   "source": [
    "# the alphabetically first line is used as reference, which is:\n",
    "print('all_alpha calibration uses the following line as reference')\n",
    "for m in models:\n",
    "    print(str(m)[-5:-1], str(m.xray_lines[0])[1:6])"
   ]
  },
  {
   "cell_type": "code",
   "execution_count": null,
   "metadata": {},
   "outputs": [],
   "source": [
    "print(f'{\"Used reference\":20} {\"30 kV\":>10} {\"15 kV\":>10} {\"10 kV\":>10} {\"5 kV\":>10}')\n",
    "for k, v in results.items():\n",
    "    print(f'{k:20} {v[0]:10.1f} {v[1]:10.1f} {v[2]:10.1f} {v[3]:10.1f}')"
   ]
  },
  {
   "cell_type": "code",
   "execution_count": null,
   "metadata": {},
   "outputs": [],
   "source": [
    "[l.name for l in m.xray_lines]"
   ]
  },
  {
   "cell_type": "code",
   "execution_count": null,
   "metadata": {},
   "outputs": [],
   "source": [
    "# make a table with counts in the lines\n",
    "\n",
    "headers = ['Vacc', 'As_Ka', 'As_La', 'Ga_Ka', 'Ga_La']\n",
    "Vaccs = ['30 kV', '15 kV', '10 kV', ' 5 kV']\n",
    "rows = [headers]\n",
    "for i in range(len(models)):\n",
    "    row = [Vaccs[i]]\n",
    "    for line in headers[1:]:\n",
    "        if line in [l.name for l in models[i].xray_lines]:\n",
    "            row.append(f'{(models[i][line].A.value/1e5):.1f}')\n",
    "            # row.append(f'{(models[i][line].A.value):.1e}')\n",
    "            # row.append(f'{(models[i][line].A.value):.0f}')\n",
    "        else:\n",
    "            row.append('---')\n",
    "    rows.append(row)"
   ]
  },
  {
   "cell_type": "code",
   "execution_count": null,
   "metadata": {},
   "outputs": [],
   "source": [
    "print('Counts in the peaks, divided by 1e5')\n",
    "for r in np.array(rows).T:\n",
    "    row = ''\n",
    "    for c in r:\n",
    "        row += f'{c:>16}'\n",
    "    print(row)"
   ]
  },
  {
   "cell_type": "code",
   "execution_count": null,
   "metadata": {},
   "outputs": [],
   "source": [
    "delim = ' & '"
   ]
  },
  {
   "cell_type": "code",
   "execution_count": null,
   "metadata": {},
   "outputs": [],
   "source": [
    "print('Energy resolution in eV')\n",
    "print(f'{\"Reference line\":>15} {delim} {\"30 kV\":>15} {delim} {\"15 kV\":>15} {delim} {\"10 kV\":>15} {delim} {\"5 kV\":>15} \\\\\\\\')\n",
    "for k, v in results.items():\n",
    "    # if k in ['original_calibration', 'all_alpha', 'all_alpha_calibrated']:\n",
    "    if k in ['all_alpha']:\n",
    "\n",
    "        continue\n",
    "    print(f'{k[:15]:>15} {delim} {v[0]:>15.1f} {delim} {v[1]:>15.1f} {delim} {v[2]:>15.1f} {delim} {v[3]:>15.1f} \\\\\\\\')"
   ]
  },
  {
   "cell_type": "code",
   "execution_count": null,
   "metadata": {},
   "outputs": [],
   "source": [
    "# replace \"_\" in a string with whitespace\n",
    "xraylines[0][0].replace('_', ' ')"
   ]
  },
  {
   "cell_type": "code",
   "execution_count": null,
   "metadata": {},
   "outputs": [],
   "source": [
    "xraylines = []\n",
    "familylines = []\n",
    "for i in range(len(models)):\n",
    "    xraylines.append([l.name.replace('_', ' ') for l in models[i].xray_lines])\n",
    "    familylines.append([l.name.replace('_', ' ') for l in models[i].family_lines])\n",
    "xraylines\n",
    "familylines"
   ]
  },
  {
   "cell_type": "code",
   "execution_count": null,
   "metadata": {},
   "outputs": [],
   "source": [
    "# check if all lines are present in all models, with models[0] as reference\n",
    "# if not, add a \"----\" as value to xraylines and familylines at the corresponding position\n",
    "for i in range(len(models)):\n",
    "    for j in range(len(xraylines[0])):\n",
    "        if xraylines[0][j] not in xraylines[i]:\n",
    "            xraylines[i].insert(j, '-----')\n",
    "    for j in range(len(familylines[0])):\n",
    "        if familylines[0][j] not in familylines[i]:\n",
    "            familylines[i].insert(j, '-----')\n",
    "\n"
   ]
  },
  {
   "cell_type": "code",
   "execution_count": null,
   "metadata": {},
   "outputs": [],
   "source": [
    "print('Lines in the models')\n",
    "columns = 10\n",
    "print(f'{\"Model \":>11} {\"&       \"*columns}\\\\\\\\')\n",
    "print(f'{\"X-ray lines \":>11} {\"&       \"*columns}\\\\\\\\')\n",
    "for i in range(len(models)):\n",
    "    print(f'{vacc(ss[i]):10.0f} {delim} { \" & \".join(xraylines[i])} {\"&       \"*6} \\\\\\\\')\n",
    "print(f'{\"Family lines \":>11} {\"&       \"*columns}\\\\\\\\')\n",
    "for i in range(len(models)):\n",
    "    print(f'{vacc(ss[i]):10.0f} {delim} { \" & \".join(familylines[i])} \\\\\\\\')\n"
   ]
  },
  {
   "cell_type": "code",
   "execution_count": null,
   "metadata": {},
   "outputs": [],
   "source": []
  },
  {
   "cell_type": "code",
   "execution_count": null,
   "metadata": {},
   "outputs": [],
   "source": []
  },
  {
   "cell_type": "code",
   "execution_count": null,
   "metadata": {},
   "outputs": [],
   "source": []
  },
  {
   "cell_type": "code",
   "execution_count": null,
   "metadata": {},
   "outputs": [],
   "source": [
    "models[0].calibrate_energy_axis(calibrate='resolution', xray_lines=['As_Ka', 'As_La', 'Ga_Ka', 'Ga_La'])\n",
    "mn_ka(ss[0])"
   ]
  },
  {
   "cell_type": "code",
   "execution_count": null,
   "metadata": {},
   "outputs": [],
   "source": [
    "models[0].calibrate_energy_axis(calibrate='resolution', xray_lines=['As_Ka', 'As_La', 'Ga_Ka', 'Ga_Kb', 'Ga_La'])\n",
    "mn_ka(ss[0])"
   ]
  },
  {
   "cell_type": "code",
   "execution_count": null,
   "metadata": {},
   "outputs": [],
   "source": [
    "models[0].calibrate_energy_axis(calibrate='resolution', xray_lines=['Ga_La', 'As_Ka', 'As_La', 'Ga_Ka', 'Ga_Kb'])\n",
    "mn_ka(ss[0])"
   ]
  },
  {
   "cell_type": "code",
   "execution_count": null,
   "metadata": {},
   "outputs": [],
   "source": [
    "xraylines = [l.name for l in models[0].xray_lines]\n",
    "familylines = [l.name for l in models[0].family_lines]\n"
   ]
  },
  {
   "cell_type": "code",
   "execution_count": null,
   "metadata": {},
   "outputs": [],
   "source": [
    "lines = xraylines + familylines\n",
    "lines"
   ]
  },
  {
   "cell_type": "code",
   "execution_count": null,
   "metadata": {},
   "outputs": [],
   "source": [
    "models[0].calibrate_energy_axis(calibrate='resolution', xray_lines=lines)\n",
    "mn_ka(ss[0])"
   ]
  },
  {
   "cell_type": "code",
   "execution_count": null,
   "metadata": {},
   "outputs": [],
   "source": [
    "# Swap index 0 with index 3 in lines\n",
    "lines[0], lines[3] = lines[3], lines[0]\n"
   ]
  },
  {
   "cell_type": "code",
   "execution_count": null,
   "metadata": {},
   "outputs": [],
   "source": [
    "lines"
   ]
  },
  {
   "cell_type": "code",
   "execution_count": null,
   "metadata": {},
   "outputs": [],
   "source": [
    "models[0].calibrate_energy_axis(calibrate='resolution', xray_lines=lines)\n",
    "mn_ka(ss[0])"
   ]
  },
  {
   "cell_type": "code",
   "execution_count": null,
   "metadata": {},
   "outputs": [],
   "source": [
    "models[0].calibrate_energy_axis(calibrate='resolution', xray_lines='all_alpha')\n",
    "mn_ka(ss[0])"
   ]
  },
  {
   "cell_type": "code",
   "execution_count": null,
   "metadata": {},
   "outputs": [],
   "source": [
    "models[0].calibrate_energy_axis(calibrate='resolution', xray_lines=['Ga_La'])\n",
    "mn_ka(ss[0])"
   ]
  },
  {
   "cell_type": "code",
   "execution_count": null,
   "metadata": {},
   "outputs": [],
   "source": [
    "models[0].calibrate_energy_axis(calibrate='resolution', xray_lines=['As_Ka', 'Ga_Kb'])\n",
    "mn_ka(ss[0])"
   ]
  }
 ],
 "metadata": {
  "kernelspec": {
   "display_name": "hspy_dev",
   "language": "python",
   "name": "python3"
  },
  "language_info": {
   "codemirror_mode": {
    "name": "ipython",
    "version": 3
   },
   "file_extension": ".py",
   "mimetype": "text/x-python",
   "name": "python",
   "nbconvert_exporter": "python",
   "pygments_lexer": "ipython3",
   "version": "3.10.9"
  },
  "orig_nbformat": 4,
  "vscode": {
   "interpreter": {
    "hash": "27df9ad7312a76815d4fe809f9c8bf57d2a2c3257a2dcf6754112e766f98d8e4"
   }
  }
 },
 "nbformat": 4,
 "nbformat_minor": 2
}
