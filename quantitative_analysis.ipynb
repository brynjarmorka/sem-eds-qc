{
 "cells": [
  {
   "cell_type": "code",
   "execution_count": null,
   "metadata": {},
   "outputs": [],
   "source": [
    "import hyperspy.api as hs\n",
    "import numpy as np\n",
    "import matplotlib.pyplot as plt\n",
    "import plotly.graph_objects as go\n",
    "import pandas as pd\n",
    "\n",
    "from helper_functions import elementlines, nearestlines, theoretical_energy"
   ]
  },
  {
   "cell_type": "code",
   "execution_count": null,
   "metadata": {},
   "outputs": [],
   "source": [
    "import os\n",
    "path = \"../../Masteroppgave/2023-03-08_EDS-Apreo/exports/\"\n",
    "files = os.listdir(path)\n",
    "files"
   ]
  },
  {
   "cell_type": "code",
   "execution_count": null,
   "metadata": {},
   "outputs": [],
   "source": [
    "s_list = [hs.load(path + '/' + file, signal_type='EDS_SEM') for file in files]"
   ]
  },
  {
   "cell_type": "code",
   "execution_count": null,
   "metadata": {},
   "outputs": [],
   "source": [
    "zero_peak_slice = 33\n",
    "scale = 0.01\n",
    "offset = 0.1242 - zero_peak_slice * scale\n",
    "channels = 2048\n",
    "x = np.arange(offset, offset + channels * scale, scale)"
   ]
  },
  {
   "cell_type": "code",
   "execution_count": null,
   "metadata": {},
   "outputs": [],
   "source": [
    "def figg(log=True):\n",
    "    fig = go.Figure()\n",
    "    fig.update_layout(margin=dict(l=5, r=5, t=5, b=5))\n",
    "    fig.update_layout(xaxis_title='Energy (keV)', yaxis_title='Counts')\n",
    "    if log:\n",
    "        fig.update_yaxes(type=\"log\")\n",
    "    return fig\n",
    "\n",
    "\n",
    "def add_all_element_lines(fig, element):\n",
    "    lines = list(hs.material.elements[element].Atomic_properties.Xray_lines.as_dictionary().keys())\n",
    "    for line in lines:\n",
    "        line = element + '_' + line\n",
    "        fig.add_vline(x=theoretical_energy(line), line_width=1, line_dash=\"dash\", line_color=\"black\", annotation_text=line, annotation_position=\"top right\", annotation_textangle=90)"
   ]
  },
  {
   "cell_type": "code",
   "execution_count": null,
   "metadata": {},
   "outputs": [],
   "source": [
    "# plot raw data\n",
    "\n",
    "fig = figg(log=False)\n",
    "for s in s_list:\n",
    "    fig.add_trace(go.Scatter(x=x, y=s.data, name=s.metadata.General.original_filename))\n",
    "\n",
    "\n",
    "add_all_element_lines(fig, 'Ga')\n",
    "add_all_element_lines(fig, 'O')\n",
    "add_all_element_lines(fig, 'C')\n",
    "add_all_element_lines(fig, 'N')\n",
    "add_all_element_lines(fig, 'Sb')\n",
    "add_all_element_lines(fig, 'Si')\n",
    "\n",
    "fig.show()"
   ]
  },
  {
   "cell_type": "code",
   "execution_count": null,
   "metadata": {},
   "outputs": [],
   "source": [
    "# make a logaritmic plot\n",
    "fig = figg()\n",
    "for s in s_list:\n",
    "    fig.add_trace(go.Scatter(x=x, y=s.data, name=s.metadata.General.original_filename))\n",
    "\n",
    "fig.show()"
   ]
  },
  {
   "cell_type": "code",
   "execution_count": null,
   "metadata": {},
   "outputs": [],
   "source": [
    "# showing the effect of different processTime\n",
    "\n",
    "processTimeFiles = [\n",
    "# 'GaSb_30kV_50pA_noPPUC.emsa', #  'PT 6 (no PPUC)',\n",
    "'GaSb_30kV_50pA_processTime1.emsa',\n",
    "'GaSb_30kV_50pA_processTime2.emsa',\n",
    "'GaSb_30kV_50pA_processTime4.emsa',\n",
    "'GaSb_30kV_50pA.emsa']\n",
    "\n",
    "names = ['Process time 1', 'Process time 2', 'Process time 4', 'Process time 6']\n",
    "\n",
    "processTimeData = [hs.load(path + '/' + file, signal_type='EDS_SEM').data for file in processTimeFiles]\n",
    "\n",
    "fig = figg()\n",
    "for i, s in enumerate(processTimeData):\n",
    "    fig.add_trace(go.Scatter(x=x, y=s, name=names[i]))\n",
    "\n",
    "fig.update_xaxes(range=[0.17, 1.3])\n",
    "fig.update_yaxes(range=[2.2, 4.2])\n",
    "fig.update_layout(title_text='Effect of different process times')\n",
    "fig.update_layout(margin=dict(l=5, r=5, t=50, b=5))\n",
    "fig.update_layout(legend=dict( yanchor=\"top\", y=0.95, xanchor=\"left\", x=0.02))\n",
    "fig.update_layout(width=1000, height=600)\n",
    "\n",
    "\n",
    "fig.show()\n",
    "\n",
    "fig.write_html(\"figures/processTime.html\")"
   ]
  },
  {
   "cell_type": "code",
   "execution_count": null,
   "metadata": {},
   "outputs": [],
   "source": [
    "nearestlines(0.73)#.sort_values('energy [keV]')"
   ]
  },
  {
   "cell_type": "code",
   "execution_count": null,
   "metadata": {},
   "outputs": [],
   "source": []
  }
 ],
 "metadata": {
  "kernelspec": {
   "display_name": "hspy",
   "language": "python",
   "name": "python3"
  },
  "language_info": {
   "codemirror_mode": {
    "name": "ipython",
    "version": 3
   },
   "file_extension": ".py",
   "mimetype": "text/x-python",
   "name": "python",
   "nbconvert_exporter": "python",
   "pygments_lexer": "ipython3",
   "version": "3.8.16"
  },
  "orig_nbformat": 4
 },
 "nbformat": 4,
 "nbformat_minor": 2
}
