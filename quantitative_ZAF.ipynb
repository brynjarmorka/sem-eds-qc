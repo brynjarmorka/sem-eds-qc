{
 "cells": [
  {
   "cell_type": "code",
   "execution_count": 36,
   "metadata": {},
   "outputs": [],
   "source": [
    "import hyperspy.api as hs\n",
    "import numpy as np\n",
    "import plotly.graph_objects as go\n",
    "import plotly.express as px\n",
    "import pandas as pd\n",
    "import os\n",
    "\n",
    "from helper_functions import elementlines, nearestlines, theoretical_energy\n",
    "\n",
    "%matplotlib qt"
   ]
  },
  {
   "cell_type": "code",
   "execution_count": 37,
   "metadata": {},
   "outputs": [],
   "source": [
    "##### SEM Apreo March 2023 #####\n",
    "path = '../../Masteroppgave/2023-03-08_EDS-Apreo/exports/'\n",
    "aztec_file = '../../Masteroppgave/2023-03-08_EDS-Apreo/AZtec k-factors and quantification.xlsx'\n",
    "df = pd.read_excel(aztec_file, sheet_name=4)\n",
    "\n",
    "# drop the last 4 rows, which is Map1 and Map2\n",
    "df = df.drop(df.index[-4:])\n",
    "\n",
    "df['%at'] = df['%at'] /100"
   ]
  },
  {
   "cell_type": "code",
   "execution_count": 38,
   "metadata": {},
   "outputs": [
    {
     "data": {
      "text/plain": [
       "0.4593018852012333"
      ]
     },
     "execution_count": 38,
     "metadata": {},
     "output_type": "execute_result"
    }
   ],
   "source": [
    "hs.eds.electron_range('Cu', 10, density='auto', tilt=0)"
   ]
  },
  {
   "cell_type": "code",
   "execution_count": 39,
   "metadata": {},
   "outputs": [
    {
     "data": {
      "text/plain": [
       "1.4615656269399775"
      ]
     },
     "execution_count": 39,
     "metadata": {},
     "output_type": "execute_result"
    }
   ],
   "source": [
    "hs.eds.electron_range('Cu', 20, density='auto', tilt=0)"
   ]
  },
  {
   "cell_type": "code",
   "execution_count": 40,
   "metadata": {},
   "outputs": [
    {
     "data": {
      "text/plain": [
       "2.8766744984001607"
      ]
     },
     "execution_count": 40,
     "metadata": {},
     "output_type": "execute_result"
    }
   ],
   "source": [
    "hs.eds.electron_range('Cu', 30, density='auto', tilt=0)"
   ]
  },
  {
   "cell_type": "code",
   "execution_count": 41,
   "metadata": {},
   "outputs": [
    {
     "name": "stdout",
     "output_type": "stream",
     "text": [
      "\u001b[1;31mSignature:\u001b[0m \u001b[0mhs\u001b[0m\u001b[1;33m.\u001b[0m\u001b[0meds\u001b[0m\u001b[1;33m.\u001b[0m\u001b[0melectron_range\u001b[0m\u001b[1;33m(\u001b[0m\u001b[0melement\u001b[0m\u001b[1;33m,\u001b[0m \u001b[0mbeam_energy\u001b[0m\u001b[1;33m,\u001b[0m \u001b[0mdensity\u001b[0m\u001b[1;33m=\u001b[0m\u001b[1;34m'auto'\u001b[0m\u001b[1;33m,\u001b[0m \u001b[0mtilt\u001b[0m\u001b[1;33m=\u001b[0m\u001b[1;36m0\u001b[0m\u001b[1;33m)\u001b[0m\u001b[1;33m\u001b[0m\u001b[1;33m\u001b[0m\u001b[0m\n",
      "\u001b[1;31mDocstring:\u001b[0m\n",
      "Returns the maximum electron range for a pure bulk material according to\n",
      "the Kanaya-Okayama parameterziation.\n",
      "\n",
      "Parameters\n",
      "----------\n",
      "element: str\n",
      "    The element symbol, e.g. 'Al'.\n",
      "beam_energy: float\n",
      "    The energy of the beam in keV.\n",
      "density: {float, 'auto'}\n",
      "    The density of the material in g/cm3. If 'auto', the density of\n",
      "    the pure element is used.\n",
      "tilt: float.\n",
      "    The tilt of the sample in degrees.\n",
      "\n",
      "Returns\n",
      "-------\n",
      "Electron range in micrometers.\n",
      "\n",
      "Examples\n",
      "--------\n",
      ">>> # Electron range in pure Copper at 30 kV in micron\n",
      ">>> hs.eds.electron_range('Cu', 30.)\n",
      "2.8766744984001607\n",
      "\n",
      "Notes\n",
      "-----\n",
      "From Kanaya, K. and S. Okayama (1972). J. Phys. D. Appl. Phys. 5, p43\n",
      "\n",
      "See also the textbook of Goldstein et al., Plenum publisher,\n",
      "third edition p 72.\n",
      "\u001b[1;31mFile:\u001b[0m      c:\\users\\brynjar\\miniconda3\\envs\\hspy\\lib\\site-packages\\hyperspy\\misc\\eds\\utils.py\n",
      "\u001b[1;31mType:\u001b[0m      function"
     ]
    }
   ],
   "source": [
    "hs.eds.electron_range?"
   ]
  },
  {
   "cell_type": "code",
   "execution_count": 43,
   "metadata": {},
   "outputs": [
    {
     "data": {
      "text/plain": [
       "106.44460851482819"
      ]
     },
     "execution_count": 43,
     "metadata": {},
     "output_type": "execute_result"
    }
   ],
   "source": [
    "hs.material.mass_absorption_mixture(elements=['Ga','Sb'], weight_percent=[50,50], energies='Ga_Ka')"
   ]
  },
  {
   "cell_type": "code",
   "execution_count": 44,
   "metadata": {},
   "outputs": [
    {
     "data": {
      "text/plain": [
       "array([3981.17897293,  449.61890897])"
      ]
     },
     "execution_count": 44,
     "metadata": {},
     "output_type": "execute_result"
    }
   ],
   "source": [
    "hs.material.mass_absorption_mixture(elements=['Ga','Sb'], weight_percent=[50,50], energies=['Ga_La','Sb_La'])"
   ]
  },
  {
   "cell_type": "code",
   "execution_count": 45,
   "metadata": {},
   "outputs": [
    {
     "data": {
      "text/plain": [
       "7073.223074770055"
      ]
     },
     "execution_count": 45,
     "metadata": {},
     "output_type": "execute_result"
    }
   ],
   "source": [
    "hs.material.mass_absorption_mixture(elements=['Ga','Sb'], weight_percent=[100,0], energies=1.3)"
   ]
  },
  {
   "cell_type": "code",
   "execution_count": 46,
   "metadata": {},
   "outputs": [
    {
     "data": {
      "text/plain": [
       "array([1245.06325119,  520.18218321])"
      ]
     },
     "execution_count": 46,
     "metadata": {},
     "output_type": "execute_result"
    }
   ],
   "source": [
    "hs.material.mass_absorption_coefficient(element='Ga', energies=['Ga_La','Sb_La'])"
   ]
  },
  {
   "cell_type": "code",
   "execution_count": 47,
   "metadata": {},
   "outputs": [
    {
     "data": {
      "text/plain": [
       "array([6717.29469467,  173.73187746])"
      ]
     },
     "execution_count": 47,
     "metadata": {},
     "output_type": "execute_result"
    }
   ],
   "source": [
    "hs.material.mass_absorption_coefficient(element='Sb', energies=['Ga_La','Ga_Ka'])"
   ]
  },
  {
   "cell_type": "code",
   "execution_count": 48,
   "metadata": {},
   "outputs": [],
   "source": [
    "def add_name_x_kV(df):\n",
    "    # add a name column to the dataframe\n",
    "    df['Name'] = df['File']\n",
    "    df['Name'] = df['Name'].str.replace('_', ' ')\n",
    "    # df['Name'] = df['Name'].str.replace('GaAs', '(a)')\n",
    "    # df['Name'] = df['Name'].str.replace('GaSb', '(b)')\n",
    "    df['Name'] = df['Name'].str.replace('processTime', 'PT')\n",
    "    df['Name'] = df['Name'].str.replace('scratched', 'scr')\n",
    "    df['i'] = 0.0\n",
    "    df['i/i_sum'] = 0.0\n",
    "\n",
    "    # add kV to the dataframe\n",
    "    kv_list = df['Name'].str.split(' ')\n",
    "    for i in range(len(kv_list)):\n",
    "        # find the index which contains 'kV'\n",
    "        for j in range(len(kv_list[i])):\n",
    "            if 'kV' in kv_list[i][j]:\n",
    "                kv_index = j\n",
    "        kv_list[i] = float(kv_list[i][kv_index][:2])\n",
    "    df['kV'] = kv_list\n",
    "\n",
    "    # add a x-axis for plotting\n",
    "    df['x'] = 0\n",
    "    x = 0\n",
    "    for f in df['File'].unique():\n",
    "        df.loc[df['File'] == f, 'x'] = x\n",
    "        x += 1\n",
    "\n",
    "    return df\n",
    "\n",
    "df = add_name_x_kV(df)"
   ]
  },
  {
   "cell_type": "code",
   "execution_count": 49,
   "metadata": {},
   "outputs": [],
   "source": [
    "# while working now, I do not need \"i corr\" \"k-ratio\"\n",
    "df = df.drop(columns=['i corr', 'k-ratio'])"
   ]
  },
  {
   "cell_type": "code",
   "execution_count": 50,
   "metadata": {},
   "outputs": [
    {
     "data": {
      "text/html": [
       "<div>\n",
       "<style scoped>\n",
       "    .dataframe tbody tr th:only-of-type {\n",
       "        vertical-align: middle;\n",
       "    }\n",
       "\n",
       "    .dataframe tbody tr th {\n",
       "        vertical-align: top;\n",
       "    }\n",
       "\n",
       "    .dataframe thead th {\n",
       "        text-align: right;\n",
       "    }\n",
       "</style>\n",
       "<table border=\"1\" class=\"dataframe\">\n",
       "  <thead>\n",
       "    <tr style=\"text-align: right;\">\n",
       "      <th></th>\n",
       "      <th>File</th>\n",
       "      <th>Element</th>\n",
       "      <th>%at</th>\n",
       "      <th>Line</th>\n",
       "      <th>Name</th>\n",
       "      <th>i</th>\n",
       "      <th>i/i_sum</th>\n",
       "      <th>kV</th>\n",
       "      <th>x</th>\n",
       "    </tr>\n",
       "  </thead>\n",
       "  <tbody>\n",
       "    <tr>\n",
       "      <th>0</th>\n",
       "      <td>GaAs_05kV_25pA</td>\n",
       "      <td>As</td>\n",
       "      <td>0.5342</td>\n",
       "      <td>As_La</td>\n",
       "      <td>GaAs 05kV 25pA</td>\n",
       "      <td>0.0</td>\n",
       "      <td>0.0</td>\n",
       "      <td>5.0</td>\n",
       "      <td>0</td>\n",
       "    </tr>\n",
       "    <tr>\n",
       "      <th>1</th>\n",
       "      <td>GaAs_05kV_25pA</td>\n",
       "      <td>Ga</td>\n",
       "      <td>0.4658</td>\n",
       "      <td>Ga_La</td>\n",
       "      <td>GaAs 05kV 25pA</td>\n",
       "      <td>0.0</td>\n",
       "      <td>0.0</td>\n",
       "      <td>5.0</td>\n",
       "      <td>0</td>\n",
       "    </tr>\n",
       "    <tr>\n",
       "      <th>2</th>\n",
       "      <td>GaAs_15kV_25pA</td>\n",
       "      <td>As</td>\n",
       "      <td>0.5062</td>\n",
       "      <td>As_La</td>\n",
       "      <td>GaAs 15kV 25pA</td>\n",
       "      <td>0.0</td>\n",
       "      <td>0.0</td>\n",
       "      <td>15.0</td>\n",
       "      <td>1</td>\n",
       "    </tr>\n",
       "  </tbody>\n",
       "</table>\n",
       "</div>"
      ],
      "text/plain": [
       "             File Element     %at   Line            Name    i  i/i_sum    kV  \\\n",
       "0  GaAs_05kV_25pA      As  0.5342  As_La  GaAs 05kV 25pA  0.0      0.0   5.0   \n",
       "1  GaAs_05kV_25pA      Ga  0.4658  Ga_La  GaAs 05kV 25pA  0.0      0.0   5.0   \n",
       "2  GaAs_15kV_25pA      As  0.5062  As_La  GaAs 15kV 25pA  0.0      0.0  15.0   \n",
       "\n",
       "   x  \n",
       "0  0  \n",
       "1  0  \n",
       "2  1  "
      ]
     },
     "execution_count": 50,
     "metadata": {},
     "output_type": "execute_result"
    }
   ],
   "source": [
    "df.head(3)"
   ]
  },
  {
   "cell_type": "code",
   "execution_count": 51,
   "metadata": {},
   "outputs": [],
   "source": [
    "def calculate_intensities(filename):\n",
    "\n",
    "        # check if filename exists in path\n",
    "    if filename + '.emsa' not in os.listdir(path):\n",
    "        print(filename + '.emsa', 'not found in path')\n",
    "        return\n",
    "    \n",
    "    df_s = df[df['File'] == filename]\n",
    "    df_s = df_s.sort_values(by=['Element']) # alphabetically, as HS\n",
    "\n",
    "    noise_slice = 0.65 # keV\n",
    "\n",
    "    # make the spectrum and the model\n",
    "    s = hs.load(path + filename + '.emsa', signal_type='EDS_TEM')\n",
    "    elements = df_s['Element'].values\n",
    "    s = s.isig[noise_slice:] # noise peak slice\n",
    "    if s.metadata.Acquisition_instrument.TEM.beam_energy < 20:\n",
    "        s = s.isig[:s.metadata.Acquisition_instrument.TEM.beam_energy]\n",
    "    s.add_elements(elements)\n",
    "    s.add_lines()\n",
    "    m = s.create_model()\n",
    "    m.fit()\n",
    "    m.fit_background()\n",
    "\n",
    "    lines = df_s['Line'].values\n",
    "\n",
    "    line_intensities = []\n",
    "    for l in lines:\n",
    "        line_intensities.append(round(m[l].A.value))\n",
    "\n",
    "    relative_intensities = []  # this is wt%, I think (according to Castaing's paper)\n",
    "    for line_intens in line_intensities:\n",
    "        relative_intensities.append(round(line_intens/sum(line_intensities), 3))\n",
    "    \n",
    "    df_s['i'] = line_intensities\n",
    "    df_s['i/i_sum'] = relative_intensities\n",
    "\n",
    "    df[df['File'] == filename] = df_s\n",
    "\n",
    "# calculate_intensities('GaAs_30kV_50pA')"
   ]
  },
  {
   "cell_type": "code",
   "execution_count": 52,
   "metadata": {},
   "outputs": [],
   "source": [
    "for filename in df['File'].unique():\n",
    "    calculate_intensities(filename)"
   ]
  },
  {
   "cell_type": "code",
   "execution_count": 53,
   "metadata": {},
   "outputs": [
    {
     "name": "stdout",
     "output_type": "stream",
     "text": [
      "i/i_sum is wt%\n"
     ]
    }
   ],
   "source": [
    "at_wt_list = []\n",
    "# as the iteration is over all the rows, some operations are repeated, but it is not a big deal.\n",
    "for i in range(len(df)):\n",
    "    at_wt = hs.material.elements[df['Element'][i]].General_properties.atomic_weight\n",
    "    at_wt_list.append(at_wt)\n",
    "df['at_wt'] = at_wt_list\n",
    "print('i/i_sum is wt%')"
   ]
  },
  {
   "attachments": {},
   "cell_type": "markdown",
   "metadata": {},
   "source": [
    "# i/i_sum is wt%\n",
    "\n",
    "### at%_1 = (wt%_1 / at_wt_1) / (wt%_1 / at_wt_1 + wt%_2 / at_wt_2)\n",
    "\n",
    "https://www.plasmaterials.com/converting-atomic-percent-to-weight-percent-and-vice-versa/"
   ]
  },
  {
   "cell_type": "code",
   "execution_count": 54,
   "metadata": {},
   "outputs": [
    {
     "data": {
      "text/html": [
       "<div>\n",
       "<style scoped>\n",
       "    .dataframe tbody tr th:only-of-type {\n",
       "        vertical-align: middle;\n",
       "    }\n",
       "\n",
       "    .dataframe tbody tr th {\n",
       "        vertical-align: top;\n",
       "    }\n",
       "\n",
       "    .dataframe thead th {\n",
       "        text-align: right;\n",
       "    }\n",
       "</style>\n",
       "<table border=\"1\" class=\"dataframe\">\n",
       "  <thead>\n",
       "    <tr style=\"text-align: right;\">\n",
       "      <th></th>\n",
       "      <th>File</th>\n",
       "      <th>Element</th>\n",
       "      <th>%at</th>\n",
       "      <th>Line</th>\n",
       "      <th>Name</th>\n",
       "      <th>i</th>\n",
       "      <th>i/i_sum</th>\n",
       "      <th>kV</th>\n",
       "      <th>x</th>\n",
       "      <th>at_wt</th>\n",
       "      <th>Elements</th>\n",
       "      <th>i: at%</th>\n",
       "    </tr>\n",
       "  </thead>\n",
       "  <tbody>\n",
       "    <tr>\n",
       "      <th>0</th>\n",
       "      <td>GaAs_05kV_25pA</td>\n",
       "      <td>As</td>\n",
       "      <td>0.5342</td>\n",
       "      <td>As_La</td>\n",
       "      <td>GaAs 05kV 25pA</td>\n",
       "      <td>13128.0</td>\n",
       "      <td>0.445</td>\n",
       "      <td>5.0</td>\n",
       "      <td>0</td>\n",
       "      <td>74.9216</td>\n",
       "      <td>[As, Ga]</td>\n",
       "      <td>0.427317</td>\n",
       "    </tr>\n",
       "  </tbody>\n",
       "</table>\n",
       "</div>"
      ],
      "text/plain": [
       "             File Element     %at   Line            Name        i  i/i_sum  \\\n",
       "0  GaAs_05kV_25pA      As  0.5342  As_La  GaAs 05kV 25pA  13128.0    0.445   \n",
       "\n",
       "    kV  x    at_wt  Elements    i: at%  \n",
       "0  5.0  0  74.9216  [As, Ga]  0.427317  "
      ]
     },
     "execution_count": 54,
     "metadata": {},
     "output_type": "execute_result"
    }
   ],
   "source": [
    "elements_list = []\n",
    "at_perc_list =[]\n",
    "for xi in df['x'].unique():\n",
    "    elements_list.append(df[df['x']==xi]['Element'].unique().tolist())\n",
    "    elements_list.append(df[df['x']==xi]['Element'].unique().tolist()) # twice as there are two elements per sample\n",
    "\n",
    "    wt = df[df['x']==xi]['i/i_sum'].tolist()\n",
    "    at_wt = df[df['x']==xi]['at_wt'].tolist()\n",
    "\n",
    "    # at%_1 = (wt%_1 / at_wt_1) / (wt%_1 / at_wt_1 + wt%_2 / at_wt_2)\n",
    "    # https://www.plasmaterials.com/converting-atomic-percent-to-weight-percent-and-vice-versa/\n",
    "    at_perc_list.append((wt[0]/at_wt[0]) / (wt[0]/at_wt[0] + wt[1]/at_wt[1]))\n",
    "    at_perc_list.append((wt[1]/at_wt[1]) / (wt[0]/at_wt[0] + wt[1]/at_wt[1]))\n",
    "\n",
    "df['Elements'] = elements_list\n",
    "df['i: at%'] = at_perc_list\n",
    "df.head(1)"
   ]
  },
  {
   "cell_type": "code",
   "execution_count": 71,
   "metadata": {},
   "outputs": [
    {
     "data": {
      "text/html": [
       "<div>\n",
       "<style scoped>\n",
       "    .dataframe tbody tr th:only-of-type {\n",
       "        vertical-align: middle;\n",
       "    }\n",
       "\n",
       "    .dataframe tbody tr th {\n",
       "        vertical-align: top;\n",
       "    }\n",
       "\n",
       "    .dataframe thead th {\n",
       "        text-align: right;\n",
       "    }\n",
       "</style>\n",
       "<table border=\"1\" class=\"dataframe\">\n",
       "  <thead>\n",
       "    <tr style=\"text-align: right;\">\n",
       "      <th></th>\n",
       "      <th>File</th>\n",
       "      <th>Element</th>\n",
       "      <th>Elements</th>\n",
       "      <th>Line</th>\n",
       "      <th>i</th>\n",
       "      <th>i/i_sum</th>\n",
       "      <th>%at</th>\n",
       "      <th>i: at%</th>\n",
       "    </tr>\n",
       "  </thead>\n",
       "  <tbody>\n",
       "    <tr>\n",
       "      <th>0</th>\n",
       "      <td>GaAs_05kV_25pA</td>\n",
       "      <td>As</td>\n",
       "      <td>[As, Ga]</td>\n",
       "      <td>As_La</td>\n",
       "      <td>13128.0</td>\n",
       "      <td>0.445</td>\n",
       "      <td>0.5342</td>\n",
       "      <td>0.427317</td>\n",
       "    </tr>\n",
       "    <tr>\n",
       "      <th>1</th>\n",
       "      <td>GaAs_05kV_25pA</td>\n",
       "      <td>Ga</td>\n",
       "      <td>[As, Ga]</td>\n",
       "      <td>Ga_La</td>\n",
       "      <td>16365.0</td>\n",
       "      <td>0.555</td>\n",
       "      <td>0.4658</td>\n",
       "      <td>0.572683</td>\n",
       "    </tr>\n",
       "    <tr>\n",
       "      <th>2</th>\n",
       "      <td>GaAs_15kV_25pA</td>\n",
       "      <td>As</td>\n",
       "      <td>[As, Ga]</td>\n",
       "      <td>As_La</td>\n",
       "      <td>61699.0</td>\n",
       "      <td>0.374</td>\n",
       "      <td>0.5062</td>\n",
       "      <td>0.357322</td>\n",
       "    </tr>\n",
       "    <tr>\n",
       "      <th>3</th>\n",
       "      <td>GaAs_15kV_25pA</td>\n",
       "      <td>Ga</td>\n",
       "      <td>[As, Ga]</td>\n",
       "      <td>Ga_La</td>\n",
       "      <td>103207.0</td>\n",
       "      <td>0.626</td>\n",
       "      <td>0.4938</td>\n",
       "      <td>0.642678</td>\n",
       "    </tr>\n",
       "    <tr>\n",
       "      <th>4</th>\n",
       "      <td>GaAs_30kV_25pA</td>\n",
       "      <td>As</td>\n",
       "      <td>[As, Ga]</td>\n",
       "      <td>As_Ka</td>\n",
       "      <td>83787.0</td>\n",
       "      <td>0.373</td>\n",
       "      <td>0.4841</td>\n",
       "      <td>0.356341</td>\n",
       "    </tr>\n",
       "    <tr>\n",
       "      <th>5</th>\n",
       "      <td>GaAs_30kV_25pA</td>\n",
       "      <td>Ga</td>\n",
       "      <td>[As, Ga]</td>\n",
       "      <td>Ga_Ka</td>\n",
       "      <td>140854.0</td>\n",
       "      <td>0.627</td>\n",
       "      <td>0.5159</td>\n",
       "      <td>0.643659</td>\n",
       "    </tr>\n",
       "    <tr>\n",
       "      <th>6</th>\n",
       "      <td>GaAs_30kV_50pA</td>\n",
       "      <td>As</td>\n",
       "      <td>[As, Ga]</td>\n",
       "      <td>As_Ka</td>\n",
       "      <td>179725.0</td>\n",
       "      <td>0.372</td>\n",
       "      <td>0.4831</td>\n",
       "      <td>0.355361</td>\n",
       "    </tr>\n",
       "    <tr>\n",
       "      <th>7</th>\n",
       "      <td>GaAs_30kV_50pA</td>\n",
       "      <td>Ga</td>\n",
       "      <td>[As, Ga]</td>\n",
       "      <td>Ga_Ka</td>\n",
       "      <td>303060.0</td>\n",
       "      <td>0.628</td>\n",
       "      <td>0.5169</td>\n",
       "      <td>0.644639</td>\n",
       "    </tr>\n",
       "    <tr>\n",
       "      <th>8</th>\n",
       "      <td>GaSb_05kV_50pA</td>\n",
       "      <td>Ga</td>\n",
       "      <td>[Ga, Sb]</td>\n",
       "      <td>Ga_La</td>\n",
       "      <td>19130.0</td>\n",
       "      <td>0.951</td>\n",
       "      <td>0.3903</td>\n",
       "      <td>0.971341</td>\n",
       "    </tr>\n",
       "    <tr>\n",
       "      <th>9</th>\n",
       "      <td>GaSb_05kV_50pA</td>\n",
       "      <td>Sb</td>\n",
       "      <td>[Ga, Sb]</td>\n",
       "      <td>Sb_La</td>\n",
       "      <td>986.0</td>\n",
       "      <td>0.049</td>\n",
       "      <td>0.6097</td>\n",
       "      <td>0.028659</td>\n",
       "    </tr>\n",
       "    <tr>\n",
       "      <th>10</th>\n",
       "      <td>GaSb_10kV_50pA</td>\n",
       "      <td>Ga</td>\n",
       "      <td>[Ga, Sb]</td>\n",
       "      <td>Ga_La</td>\n",
       "      <td>46021.0</td>\n",
       "      <td>0.630</td>\n",
       "      <td>0.4678</td>\n",
       "      <td>0.748332</td>\n",
       "    </tr>\n",
       "    <tr>\n",
       "      <th>11</th>\n",
       "      <td>GaSb_10kV_50pA</td>\n",
       "      <td>Sb</td>\n",
       "      <td>[Ga, Sb]</td>\n",
       "      <td>Sb_La</td>\n",
       "      <td>27030.0</td>\n",
       "      <td>0.370</td>\n",
       "      <td>0.5322</td>\n",
       "      <td>0.251668</td>\n",
       "    </tr>\n",
       "    <tr>\n",
       "      <th>12</th>\n",
       "      <td>GaSb_15kV_200pA</td>\n",
       "      <td>Ga</td>\n",
       "      <td>[Ga, Sb]</td>\n",
       "      <td>Ga_La</td>\n",
       "      <td>154746.0</td>\n",
       "      <td>0.436</td>\n",
       "      <td>0.4871</td>\n",
       "      <td>0.574469</td>\n",
       "    </tr>\n",
       "    <tr>\n",
       "      <th>13</th>\n",
       "      <td>GaSb_15kV_200pA</td>\n",
       "      <td>Sb</td>\n",
       "      <td>[Ga, Sb]</td>\n",
       "      <td>Sb_La</td>\n",
       "      <td>199835.0</td>\n",
       "      <td>0.564</td>\n",
       "      <td>0.5129</td>\n",
       "      <td>0.425531</td>\n",
       "    </tr>\n",
       "    <tr>\n",
       "      <th>14</th>\n",
       "      <td>GaSb_15kV_400pA</td>\n",
       "      <td>Ga</td>\n",
       "      <td>[Ga, Sb]</td>\n",
       "      <td>Ga_La</td>\n",
       "      <td>283915.0</td>\n",
       "      <td>0.436</td>\n",
       "      <td>0.4872</td>\n",
       "      <td>0.574469</td>\n",
       "    </tr>\n",
       "    <tr>\n",
       "      <th>15</th>\n",
       "      <td>GaSb_15kV_400pA</td>\n",
       "      <td>Sb</td>\n",
       "      <td>[Ga, Sb]</td>\n",
       "      <td>Sb_La</td>\n",
       "      <td>367468.0</td>\n",
       "      <td>0.564</td>\n",
       "      <td>0.5128</td>\n",
       "      <td>0.425531</td>\n",
       "    </tr>\n",
       "    <tr>\n",
       "      <th>16</th>\n",
       "      <td>GaSb_15kV_50pA</td>\n",
       "      <td>Ga</td>\n",
       "      <td>[Ga, Sb]</td>\n",
       "      <td>Ga_La</td>\n",
       "      <td>74315.0</td>\n",
       "      <td>0.442</td>\n",
       "      <td>0.4911</td>\n",
       "      <td>0.580414</td>\n",
       "    </tr>\n",
       "    <tr>\n",
       "      <th>17</th>\n",
       "      <td>GaSb_15kV_50pA</td>\n",
       "      <td>Sb</td>\n",
       "      <td>[Ga, Sb]</td>\n",
       "      <td>Sb_La</td>\n",
       "      <td>93967.0</td>\n",
       "      <td>0.558</td>\n",
       "      <td>0.5089</td>\n",
       "      <td>0.419586</td>\n",
       "    </tr>\n",
       "    <tr>\n",
       "      <th>18</th>\n",
       "      <td>GaSb_30kV_400pA_processTime1</td>\n",
       "      <td>Ga</td>\n",
       "      <td>[Ga, Sb]</td>\n",
       "      <td>Ga_Ka</td>\n",
       "      <td>1723976.0</td>\n",
       "      <td>0.365</td>\n",
       "      <td>0.5004</td>\n",
       "      <td>0.500948</td>\n",
       "    </tr>\n",
       "    <tr>\n",
       "      <th>19</th>\n",
       "      <td>GaSb_30kV_400pA_processTime1</td>\n",
       "      <td>Sb</td>\n",
       "      <td>[Ga, Sb]</td>\n",
       "      <td>Sb_La</td>\n",
       "      <td>2996401.0</td>\n",
       "      <td>0.635</td>\n",
       "      <td>0.4996</td>\n",
       "      <td>0.499052</td>\n",
       "    </tr>\n",
       "    <tr>\n",
       "      <th>20</th>\n",
       "      <td>GaSb_30kV_50pA</td>\n",
       "      <td>Ga</td>\n",
       "      <td>[Ga, Sb]</td>\n",
       "      <td>Ga_Ka</td>\n",
       "      <td>190734.0</td>\n",
       "      <td>0.347</td>\n",
       "      <td>0.5023</td>\n",
       "      <td>0.481326</td>\n",
       "    </tr>\n",
       "    <tr>\n",
       "      <th>21</th>\n",
       "      <td>GaSb_30kV_50pA</td>\n",
       "      <td>Sb</td>\n",
       "      <td>[Ga, Sb]</td>\n",
       "      <td>Sb_La</td>\n",
       "      <td>358668.0</td>\n",
       "      <td>0.653</td>\n",
       "      <td>0.4977</td>\n",
       "      <td>0.518674</td>\n",
       "    </tr>\n",
       "    <tr>\n",
       "      <th>22</th>\n",
       "      <td>GaSb_30kV_50pA_noPPUC</td>\n",
       "      <td>Ga</td>\n",
       "      <td>[Ga, Sb]</td>\n",
       "      <td>Ga_Ka</td>\n",
       "      <td>190889.0</td>\n",
       "      <td>0.348</td>\n",
       "      <td>0.5023</td>\n",
       "      <td>0.482427</td>\n",
       "    </tr>\n",
       "    <tr>\n",
       "      <th>23</th>\n",
       "      <td>GaSb_30kV_50pA_noPPUC</td>\n",
       "      <td>Sb</td>\n",
       "      <td>[Ga, Sb]</td>\n",
       "      <td>Sb_La</td>\n",
       "      <td>358349.0</td>\n",
       "      <td>0.652</td>\n",
       "      <td>0.4977</td>\n",
       "      <td>0.517573</td>\n",
       "    </tr>\n",
       "    <tr>\n",
       "      <th>24</th>\n",
       "      <td>GaSb_30kV_50pA_processTime1</td>\n",
       "      <td>Ga</td>\n",
       "      <td>[Ga, Sb]</td>\n",
       "      <td>Ga_Ka</td>\n",
       "      <td>177754.0</td>\n",
       "      <td>0.369</td>\n",
       "      <td>0.5035</td>\n",
       "      <td>0.505253</td>\n",
       "    </tr>\n",
       "    <tr>\n",
       "      <th>25</th>\n",
       "      <td>GaSb_30kV_50pA_processTime1</td>\n",
       "      <td>Sb</td>\n",
       "      <td>[Ga, Sb]</td>\n",
       "      <td>Sb_La</td>\n",
       "      <td>304269.0</td>\n",
       "      <td>0.631</td>\n",
       "      <td>0.4965</td>\n",
       "      <td>0.494747</td>\n",
       "    </tr>\n",
       "    <tr>\n",
       "      <th>26</th>\n",
       "      <td>GaSb_30kV_50pA_processTime2</td>\n",
       "      <td>Ga</td>\n",
       "      <td>[Ga, Sb]</td>\n",
       "      <td>Ga_Ka</td>\n",
       "      <td>184210.0</td>\n",
       "      <td>0.358</td>\n",
       "      <td>0.5016</td>\n",
       "      <td>0.493367</td>\n",
       "    </tr>\n",
       "    <tr>\n",
       "      <th>27</th>\n",
       "      <td>GaSb_30kV_50pA_processTime2</td>\n",
       "      <td>Sb</td>\n",
       "      <td>[Ga, Sb]</td>\n",
       "      <td>Sb_La</td>\n",
       "      <td>329776.0</td>\n",
       "      <td>0.642</td>\n",
       "      <td>0.4984</td>\n",
       "      <td>0.506633</td>\n",
       "    </tr>\n",
       "    <tr>\n",
       "      <th>28</th>\n",
       "      <td>GaSb_30kV_50pA_processTime4</td>\n",
       "      <td>Ga</td>\n",
       "      <td>[Ga, Sb]</td>\n",
       "      <td>Ga_Ka</td>\n",
       "      <td>188844.0</td>\n",
       "      <td>0.350</td>\n",
       "      <td>0.5020</td>\n",
       "      <td>0.484625</td>\n",
       "    </tr>\n",
       "    <tr>\n",
       "      <th>29</th>\n",
       "      <td>GaSb_30kV_50pA_processTime4</td>\n",
       "      <td>Sb</td>\n",
       "      <td>[Ga, Sb]</td>\n",
       "      <td>Sb_La</td>\n",
       "      <td>350191.0</td>\n",
       "      <td>0.650</td>\n",
       "      <td>0.4980</td>\n",
       "      <td>0.515375</td>\n",
       "    </tr>\n",
       "    <tr>\n",
       "      <th>30</th>\n",
       "      <td>GaSb_scratched_15kV_400pA_processTime3</td>\n",
       "      <td>Ga</td>\n",
       "      <td>[Ga, Sb]</td>\n",
       "      <td>Ga_La</td>\n",
       "      <td>760185.0</td>\n",
       "      <td>0.495</td>\n",
       "      <td>0.5460</td>\n",
       "      <td>0.631236</td>\n",
       "    </tr>\n",
       "    <tr>\n",
       "      <th>31</th>\n",
       "      <td>GaSb_scratched_15kV_400pA_processTime3</td>\n",
       "      <td>Sb</td>\n",
       "      <td>[Ga, Sb]</td>\n",
       "      <td>Sb_La</td>\n",
       "      <td>775425.0</td>\n",
       "      <td>0.505</td>\n",
       "      <td>0.4540</td>\n",
       "      <td>0.368764</td>\n",
       "    </tr>\n",
       "    <tr>\n",
       "      <th>32</th>\n",
       "      <td>GaSb_scratched_30kV_25pA</td>\n",
       "      <td>Ga</td>\n",
       "      <td>[Ga, Sb]</td>\n",
       "      <td>Ga_Ka</td>\n",
       "      <td>91436.0</td>\n",
       "      <td>0.398</td>\n",
       "      <td>0.5564</td>\n",
       "      <td>0.535867</td>\n",
       "    </tr>\n",
       "    <tr>\n",
       "      <th>33</th>\n",
       "      <td>GaSb_scratched_30kV_25pA</td>\n",
       "      <td>Sb</td>\n",
       "      <td>[Ga, Sb]</td>\n",
       "      <td>Sb_La</td>\n",
       "      <td>138272.0</td>\n",
       "      <td>0.602</td>\n",
       "      <td>0.4436</td>\n",
       "      <td>0.464133</td>\n",
       "    </tr>\n",
       "  </tbody>\n",
       "</table>\n",
       "</div>"
      ],
      "text/plain": [
       "                                      File Element  Elements   Line  \\\n",
       "0                           GaAs_05kV_25pA      As  [As, Ga]  As_La   \n",
       "1                           GaAs_05kV_25pA      Ga  [As, Ga]  Ga_La   \n",
       "2                           GaAs_15kV_25pA      As  [As, Ga]  As_La   \n",
       "3                           GaAs_15kV_25pA      Ga  [As, Ga]  Ga_La   \n",
       "4                           GaAs_30kV_25pA      As  [As, Ga]  As_Ka   \n",
       "5                           GaAs_30kV_25pA      Ga  [As, Ga]  Ga_Ka   \n",
       "6                           GaAs_30kV_50pA      As  [As, Ga]  As_Ka   \n",
       "7                           GaAs_30kV_50pA      Ga  [As, Ga]  Ga_Ka   \n",
       "8                           GaSb_05kV_50pA      Ga  [Ga, Sb]  Ga_La   \n",
       "9                           GaSb_05kV_50pA      Sb  [Ga, Sb]  Sb_La   \n",
       "10                          GaSb_10kV_50pA      Ga  [Ga, Sb]  Ga_La   \n",
       "11                          GaSb_10kV_50pA      Sb  [Ga, Sb]  Sb_La   \n",
       "12                         GaSb_15kV_200pA      Ga  [Ga, Sb]  Ga_La   \n",
       "13                         GaSb_15kV_200pA      Sb  [Ga, Sb]  Sb_La   \n",
       "14                         GaSb_15kV_400pA      Ga  [Ga, Sb]  Ga_La   \n",
       "15                         GaSb_15kV_400pA      Sb  [Ga, Sb]  Sb_La   \n",
       "16                          GaSb_15kV_50pA      Ga  [Ga, Sb]  Ga_La   \n",
       "17                          GaSb_15kV_50pA      Sb  [Ga, Sb]  Sb_La   \n",
       "18            GaSb_30kV_400pA_processTime1      Ga  [Ga, Sb]  Ga_Ka   \n",
       "19            GaSb_30kV_400pA_processTime1      Sb  [Ga, Sb]  Sb_La   \n",
       "20                          GaSb_30kV_50pA      Ga  [Ga, Sb]  Ga_Ka   \n",
       "21                          GaSb_30kV_50pA      Sb  [Ga, Sb]  Sb_La   \n",
       "22                   GaSb_30kV_50pA_noPPUC      Ga  [Ga, Sb]  Ga_Ka   \n",
       "23                   GaSb_30kV_50pA_noPPUC      Sb  [Ga, Sb]  Sb_La   \n",
       "24             GaSb_30kV_50pA_processTime1      Ga  [Ga, Sb]  Ga_Ka   \n",
       "25             GaSb_30kV_50pA_processTime1      Sb  [Ga, Sb]  Sb_La   \n",
       "26             GaSb_30kV_50pA_processTime2      Ga  [Ga, Sb]  Ga_Ka   \n",
       "27             GaSb_30kV_50pA_processTime2      Sb  [Ga, Sb]  Sb_La   \n",
       "28             GaSb_30kV_50pA_processTime4      Ga  [Ga, Sb]  Ga_Ka   \n",
       "29             GaSb_30kV_50pA_processTime4      Sb  [Ga, Sb]  Sb_La   \n",
       "30  GaSb_scratched_15kV_400pA_processTime3      Ga  [Ga, Sb]  Ga_La   \n",
       "31  GaSb_scratched_15kV_400pA_processTime3      Sb  [Ga, Sb]  Sb_La   \n",
       "32                GaSb_scratched_30kV_25pA      Ga  [Ga, Sb]  Ga_Ka   \n",
       "33                GaSb_scratched_30kV_25pA      Sb  [Ga, Sb]  Sb_La   \n",
       "\n",
       "            i  i/i_sum     %at    i: at%  \n",
       "0     13128.0    0.445  0.5342  0.427317  \n",
       "1     16365.0    0.555  0.4658  0.572683  \n",
       "2     61699.0    0.374  0.5062  0.357322  \n",
       "3    103207.0    0.626  0.4938  0.642678  \n",
       "4     83787.0    0.373  0.4841  0.356341  \n",
       "5    140854.0    0.627  0.5159  0.643659  \n",
       "6    179725.0    0.372  0.4831  0.355361  \n",
       "7    303060.0    0.628  0.5169  0.644639  \n",
       "8     19130.0    0.951  0.3903  0.971341  \n",
       "9       986.0    0.049  0.6097  0.028659  \n",
       "10    46021.0    0.630  0.4678  0.748332  \n",
       "11    27030.0    0.370  0.5322  0.251668  \n",
       "12   154746.0    0.436  0.4871  0.574469  \n",
       "13   199835.0    0.564  0.5129  0.425531  \n",
       "14   283915.0    0.436  0.4872  0.574469  \n",
       "15   367468.0    0.564  0.5128  0.425531  \n",
       "16    74315.0    0.442  0.4911  0.580414  \n",
       "17    93967.0    0.558  0.5089  0.419586  \n",
       "18  1723976.0    0.365  0.5004  0.500948  \n",
       "19  2996401.0    0.635  0.4996  0.499052  \n",
       "20   190734.0    0.347  0.5023  0.481326  \n",
       "21   358668.0    0.653  0.4977  0.518674  \n",
       "22   190889.0    0.348  0.5023  0.482427  \n",
       "23   358349.0    0.652  0.4977  0.517573  \n",
       "24   177754.0    0.369  0.5035  0.505253  \n",
       "25   304269.0    0.631  0.4965  0.494747  \n",
       "26   184210.0    0.358  0.5016  0.493367  \n",
       "27   329776.0    0.642  0.4984  0.506633  \n",
       "28   188844.0    0.350  0.5020  0.484625  \n",
       "29   350191.0    0.650  0.4980  0.515375  \n",
       "30   760185.0    0.495  0.5460  0.631236  \n",
       "31   775425.0    0.505  0.4540  0.368764  \n",
       "32    91436.0    0.398  0.5564  0.535867  \n",
       "33   138272.0    0.602  0.4436  0.464133  "
      ]
     },
     "execution_count": 71,
     "metadata": {},
     "output_type": "execute_result"
    }
   ],
   "source": [
    "df[['File', 'Element', 'Elements', 'Line', 'i', 'i/i_sum', '%at','i: at%']]"
   ]
  },
  {
   "cell_type": "code",
   "execution_count": 56,
   "metadata": {},
   "outputs": [],
   "source": [
    "# plotly plot\n",
    "\n",
    "# fig = px.bar(df, x='Name', y='i/i_sum', color='Line', barmode='group', title='Relative intensities of lines with no correction')\n",
    "# fig.update_xaxes(tickangle=90)\n",
    "# fig.show()"
   ]
  },
  {
   "cell_type": "code",
   "execution_count": 57,
   "metadata": {},
   "outputs": [],
   "source": [
    "# plotting stuff\n",
    "x = df['x'].values\n",
    "y = df['i/i_sum'].values\n",
    "y2 = df['%at'].values\n",
    "name = df['Name'].values\n",
    "line = df['Line'].values\n",
    "element = df['Element'].values\n",
    "\n",
    "lines_list_plotting = ['Sb_La', 'As_Ka', 'Ga_Ka', 'Ga_La', 'As_La']\n",
    "elements_list_plotting = ['As', 'Ga', 'Sb']\n",
    "colors = ['#636EFA', '#EF553B', '#00CC96', '#AB63FA', '#FFA15A', '#19D3F3', '#FF6692', '#B6E880', '#FF97FF', '#FECB52'] "
   ]
  },
  {
   "cell_type": "code",
   "execution_count": 58,
   "metadata": {},
   "outputs": [
    {
     "data": {
      "text/plain": [
       "'f'"
      ]
     },
     "execution_count": 58,
     "metadata": {},
     "output_type": "execute_result"
    }
   ],
   "source": [
    "fig = go.Figure()\n",
    "\n",
    "legends = []\n",
    "for i in range(len(x)):\n",
    "    col = colors[lines_list_plotting.index(line[i])]\n",
    "    show_leg = False if line[i] in legends else True\n",
    "    fig.add_scatter(x=[x[i]], y=[y[i]], mode='markers', name=f'{line[i]}', marker_color=col, legendgroup=line[i], showlegend=show_leg)\n",
    "    fig.add_scatter(x=[x[i]], y=[y2[i]], mode='markers', name=f'AZ {line[i]}', marker_color=col, marker_symbol='x', legendgroup=line[i], showlegend=show_leg)\n",
    "    legends.append(f'{line[i]}')\n",
    "\n",
    "# x ticks are the filenames\n",
    "fig.update_xaxes(tickvals=df['x'].unique(), ticktext=df['Name'].unique(), tickangle=90, range=[-0.5, len(df['x'].unique())-0.5])\n",
    "fig.update_yaxes(range=[0.33, 0.67])\n",
    "fig.update_layout(title='Relative intensities of lines with no correction', yaxis_title='Relative intensity')\n",
    "fig.update_layout(height=600, width=1200)\n",
    "\n",
    "'f'"
   ]
  },
  {
   "cell_type": "code",
   "execution_count": 59,
   "metadata": {},
   "outputs": [],
   "source": [
    "## I / I_0 =  exp(-mu * (rrho*t)),\n",
    "# where mu (or mu/rho) is the mass absorption coefficient (from HS)\n",
    "# and rho is the density of the element (from HS, as the two densities added together and divided by 2)\n",
    "# and t is the travel distance, estimated as the xray_range divided by 2 (also from HS, based on Anderson and Hasler (1966) \n",
    "# and I_0 is the generated intensity,\n",
    "# and I is the measured intensity\n",
    "\n",
    "# I_0 = I / exp(-mu * (rrho*t))"
   ]
  },
  {
   "cell_type": "code",
   "execution_count": 60,
   "metadata": {},
   "outputs": [],
   "source": [
    "def get_mass_absorption_coeff_mixture(elements, line, weight_percent=[50,50]):\n",
    "    \"\"\"\n",
    "    Returns the mass absorption coefficient for a mixture of elements.\n",
    "\n",
    "    mass absorption coefficient(s) in cm^2/g\n",
    "\n",
    "    Parameters\n",
    "    ----------\n",
    "    elements : list\n",
    "        List of elements in the mixture.\n",
    "    line : str\n",
    "        The line to use for the calculation.\n",
    "    weight_percent : list, optional\n",
    "        The weight percent of each element in the mixture. The default is [50,50].\n",
    "\n",
    "    Returns\n",
    "    -------\n",
    "    float\n",
    "        The mass absorption coefficient for the mixture in cm^2/g.\n",
    "    \"\"\"\n",
    "    return hs.material.mass_absorption_mixture(elements=elements, weight_percent=weight_percent, energies=line)\n",
    "\n",
    "\n",
    "def get_density_mixture(elements, weight_percent=[50,50]):\n",
    "    \"\"\"\n",
    "    Returns the density for a mixture of elements.\n",
    "\n",
    "    Parameters\n",
    "    ----------\n",
    "    elements : list\n",
    "        List of elements in the mixture.\n",
    "    weight_percent : list, optional\n",
    "        The weight percent of each element in the mixture. The default is [50,50].\n",
    "\n",
    "    Returns\n",
    "    -------\n",
    "    float\n",
    "        The density for the mixture.\n",
    "    \"\"\"\n",
    "    d1 = hs.material.elements[elements[0]].Physical_properties.density_gcm3\n",
    "    d2 = hs.material.elements[elements[1]].Physical_properties.density_gcm3\n",
    "    return (d1*weight_percent[0] + d2*weight_percent[1])/100\n",
    "\n",
    "\n",
    "# TODO: fix travel distance calculation to electron, not xrays\n",
    "\n",
    "\n",
    "def get_path_length(elements:list, beam_energy: float, range_divider: float = 2, weight_percent: list = [50,50], angle: float = 35) -> float:\n",
    "    \"\"\"\n",
    "    Crude assumnption that the path length (PL, t, Psi) is the electron range divided by 2.\n",
    "    Kinda gets the average path length as the center of the interaction volume, but is not a good assumption.\n",
    "\n",
    "    Parameters\n",
    "    ----------\n",
    "    elements : list\n",
    "        List of elements in the mixture. Use the first element\n",
    "    line : str\n",
    "        The line to use for the calculation.\n",
    "    beam_energy : float\n",
    "        The beam energy in keV.\n",
    "    weight_percent : list, optional\n",
    "        The weight percent of each element in the mixture. The default is [50,50].\n",
    "    angle : float, optional\n",
    "        The take-off angle of the detector in degrees. The default is 35.\n",
    "\n",
    "    Returns\n",
    "    -------\n",
    "    float\n",
    "        The travel distance for the mixture, in cm.\n",
    "    \"\"\"\n",
    "    um_to_cm = 1e-4\n",
    "    rho = get_density_mixture(elements, weight_percent)\n",
    "    electron_range = hs.eds.electron_range(elements[0], beam_energy, density=rho, tilt=0)\n",
    "    # calculate PL = electron_range * csc(angle)\n",
    "    # where csc(angle) = 1/sin(angle), and angle is in degrees\n",
    "    path_length = electron_range / np.sin(np.deg2rad(angle))\n",
    "    return path_length  * um_to_cm / range_divider\n",
    "\n",
    "\n",
    "\n",
    "def calculate_i_gen(i, elements, line, beam_energy, weight_percent=[50,50], r_div=2):\n",
    "    \"\"\"\n",
    "    Returns the generated intensity for a mixture of elements.\n",
    "\n",
    "    i0 = i / exp(-mu * rho * t)\n",
    "\n",
    "    Parameters\n",
    "    ----------\n",
    "    i : float\n",
    "        The measured intensity.\n",
    "    elements : list\n",
    "        List of elements in the mixture.\n",
    "    line : str\n",
    "        The line to use for the calculation.\n",
    "    beam_energy : float\n",
    "        The beam energy in keV.\n",
    "    weight_percent : list, optional\n",
    "        The weight percent of each element in the mixture. The default is [50,50].\n",
    "\n",
    "    Returns\n",
    "    -------\n",
    "    float\n",
    "        The generated intensity for the mixture.\n",
    "    \"\"\"\n",
    "    mu = get_mass_absorption_coeff_mixture(elements, line, weight_percent)\n",
    "    rho = get_density_mixture(elements, weight_percent)\n",
    "    t = get_path_length(elements, beam_energy, range_divider=r_div)\n",
    "    return i / np.exp(-mu * rho * t)"
   ]
  },
  {
   "cell_type": "code",
   "execution_count": 61,
   "metadata": {},
   "outputs": [
    {
     "data": {
      "text/html": [
       "<div>\n",
       "<style scoped>\n",
       "    .dataframe tbody tr th:only-of-type {\n",
       "        vertical-align: middle;\n",
       "    }\n",
       "\n",
       "    .dataframe tbody tr th {\n",
       "        vertical-align: top;\n",
       "    }\n",
       "\n",
       "    .dataframe thead th {\n",
       "        text-align: right;\n",
       "    }\n",
       "</style>\n",
       "<table border=\"1\" class=\"dataframe\">\n",
       "  <thead>\n",
       "    <tr style=\"text-align: right;\">\n",
       "      <th></th>\n",
       "      <th>File</th>\n",
       "      <th>Element</th>\n",
       "      <th>%at</th>\n",
       "      <th>Line</th>\n",
       "      <th>Name</th>\n",
       "      <th>i</th>\n",
       "      <th>i/i_sum</th>\n",
       "      <th>kV</th>\n",
       "      <th>x</th>\n",
       "      <th>at_wt</th>\n",
       "      <th>Elements</th>\n",
       "      <th>i: at%</th>\n",
       "      <th>mu</th>\n",
       "      <th>A</th>\n",
       "      <th>i0</th>\n",
       "    </tr>\n",
       "  </thead>\n",
       "  <tbody>\n",
       "    <tr>\n",
       "      <th>0</th>\n",
       "      <td>GaAs_05kV_25pA</td>\n",
       "      <td>As</td>\n",
       "      <td>0.5342</td>\n",
       "      <td>As_La</td>\n",
       "      <td>GaAs 05kV 25pA</td>\n",
       "      <td>13128.0</td>\n",
       "      <td>0.445</td>\n",
       "      <td>5.0</td>\n",
       "      <td>0</td>\n",
       "      <td>74.9216</td>\n",
       "      <td>[As, Ga]</td>\n",
       "      <td>0.427317</td>\n",
       "      <td>3744.1</td>\n",
       "      <td>1.56</td>\n",
       "      <td>20416.8</td>\n",
       "    </tr>\n",
       "    <tr>\n",
       "      <th>1</th>\n",
       "      <td>GaAs_05kV_25pA</td>\n",
       "      <td>Ga</td>\n",
       "      <td>0.4658</td>\n",
       "      <td>Ga_La</td>\n",
       "      <td>GaAs 05kV 25pA</td>\n",
       "      <td>16365.0</td>\n",
       "      <td>0.555</td>\n",
       "      <td>5.0</td>\n",
       "      <td>0</td>\n",
       "      <td>69.7230</td>\n",
       "      <td>[As, Ga]</td>\n",
       "      <td>0.572683</td>\n",
       "      <td>1387.4</td>\n",
       "      <td>1.18</td>\n",
       "      <td>19274.6</td>\n",
       "    </tr>\n",
       "    <tr>\n",
       "      <th>2</th>\n",
       "      <td>GaAs_15kV_25pA</td>\n",
       "      <td>As</td>\n",
       "      <td>0.5062</td>\n",
       "      <td>As_La</td>\n",
       "      <td>GaAs 15kV 25pA</td>\n",
       "      <td>61699.0</td>\n",
       "      <td>0.374</td>\n",
       "      <td>15.0</td>\n",
       "      <td>1</td>\n",
       "      <td>74.9216</td>\n",
       "      <td>[As, Ga]</td>\n",
       "      <td>0.357322</td>\n",
       "      <td>3744.1</td>\n",
       "      <td>15.89</td>\n",
       "      <td>980576.1</td>\n",
       "    </tr>\n",
       "  </tbody>\n",
       "</table>\n",
       "</div>"
      ],
      "text/plain": [
       "             File Element     %at   Line            Name        i  i/i_sum  \\\n",
       "0  GaAs_05kV_25pA      As  0.5342  As_La  GaAs 05kV 25pA  13128.0    0.445   \n",
       "1  GaAs_05kV_25pA      Ga  0.4658  Ga_La  GaAs 05kV 25pA  16365.0    0.555   \n",
       "2  GaAs_15kV_25pA      As  0.5062  As_La  GaAs 15kV 25pA  61699.0    0.374   \n",
       "\n",
       "     kV  x    at_wt  Elements    i: at%      mu      A        i0  \n",
       "0   5.0  0  74.9216  [As, Ga]  0.427317  3744.1   1.56   20416.8  \n",
       "1   5.0  0  69.7230  [As, Ga]  0.572683  1387.4   1.18   19274.6  \n",
       "2  15.0  1  74.9216  [As, Ga]  0.357322  3744.1  15.89  980576.1  "
      ]
     },
     "execution_count": 61,
     "metadata": {},
     "output_type": "execute_result"
    }
   ],
   "source": [
    "# calculate mu, rho, t, i_0, and A (i=1), and add to df\n",
    "\n",
    "mu_list = []\n",
    "rho_list = []\n",
    "t_list = []\n",
    "A_list = []\n",
    "i0_list = []\n",
    "# i0_r3_list = []\n",
    "# i0_r4_list = []\n",
    "for j in range(len(df)):\n",
    "    mu_list.append(round(get_mass_absorption_coeff_mixture(df['Elements'][j], df['Line'][j]), 1))\n",
    "    rho_list.append(get_density_mixture(df['Elements'][j]))\n",
    "    t_list.append(get_path_length(df['Elements'][j], df['kV'][j]))\n",
    "    A_list.append(round(calculate_i_gen(i=1, elements=df['Elements'][j], line=df['Line'][j], beam_energy=df['kV'][j]), 2))\n",
    "    i0_list.append(round(calculate_i_gen(i=df['i'][j], elements=df['Elements'][j], line=df['Line'][j], beam_energy=df['kV'][j]), 1))\n",
    "    # i0_r3_list.append(round(calculate_i_gen(i=df['i'][j], elements=df['Elements'][j], line=df['Line'][j], beam_energy=df['kV'][j], r_div=3), 1))\n",
    "    # i0_r4_list.append(round(calculate_i_gen(i=df['i'][j], elements=df['Elements'][j], line=df['Line'][j], beam_energy=df['kV'][j], r_div=4), 1))\n",
    "df['mu'] = mu_list\n",
    "# df['rho'] = rho_list\n",
    "# df['t'] = t_list\n",
    "df['A'] = A_list\n",
    "df['i0'] = i0_list\n",
    "# df['i0_r3'] = i0_r3_list\n",
    "# df['i0_r4'] = i0_r4_list\n",
    "df.head(3)"
   ]
  },
  {
   "cell_type": "code",
   "execution_count": 62,
   "metadata": {},
   "outputs": [
    {
     "data": {
      "text/html": [
       "<div>\n",
       "<style scoped>\n",
       "    .dataframe tbody tr th:only-of-type {\n",
       "        vertical-align: middle;\n",
       "    }\n",
       "\n",
       "    .dataframe tbody tr th {\n",
       "        vertical-align: top;\n",
       "    }\n",
       "\n",
       "    .dataframe thead th {\n",
       "        text-align: right;\n",
       "    }\n",
       "</style>\n",
       "<table border=\"1\" class=\"dataframe\">\n",
       "  <thead>\n",
       "    <tr style=\"text-align: right;\">\n",
       "      <th></th>\n",
       "      <th>File</th>\n",
       "      <th>Element</th>\n",
       "      <th>%at</th>\n",
       "      <th>Line</th>\n",
       "      <th>Name</th>\n",
       "      <th>i</th>\n",
       "      <th>i/i_sum</th>\n",
       "      <th>kV</th>\n",
       "      <th>x</th>\n",
       "      <th>at_wt</th>\n",
       "      <th>Elements</th>\n",
       "      <th>i: at%</th>\n",
       "      <th>mu</th>\n",
       "      <th>A</th>\n",
       "      <th>i0</th>\n",
       "      <th>i0/i0_sum</th>\n",
       "    </tr>\n",
       "  </thead>\n",
       "  <tbody>\n",
       "    <tr>\n",
       "      <th>0</th>\n",
       "      <td>GaAs_05kV_25pA</td>\n",
       "      <td>As</td>\n",
       "      <td>0.5342</td>\n",
       "      <td>As_La</td>\n",
       "      <td>GaAs 05kV 25pA</td>\n",
       "      <td>13128.0</td>\n",
       "      <td>0.445</td>\n",
       "      <td>5.0</td>\n",
       "      <td>0</td>\n",
       "      <td>74.9216</td>\n",
       "      <td>[As, Ga]</td>\n",
       "      <td>0.427317</td>\n",
       "      <td>3744.1</td>\n",
       "      <td>1.56</td>\n",
       "      <td>20416.8</td>\n",
       "      <td>0.514</td>\n",
       "    </tr>\n",
       "    <tr>\n",
       "      <th>1</th>\n",
       "      <td>GaAs_05kV_25pA</td>\n",
       "      <td>Ga</td>\n",
       "      <td>0.4658</td>\n",
       "      <td>Ga_La</td>\n",
       "      <td>GaAs 05kV 25pA</td>\n",
       "      <td>16365.0</td>\n",
       "      <td>0.555</td>\n",
       "      <td>5.0</td>\n",
       "      <td>0</td>\n",
       "      <td>69.7230</td>\n",
       "      <td>[As, Ga]</td>\n",
       "      <td>0.572683</td>\n",
       "      <td>1387.4</td>\n",
       "      <td>1.18</td>\n",
       "      <td>19274.6</td>\n",
       "      <td>0.486</td>\n",
       "    </tr>\n",
       "    <tr>\n",
       "      <th>2</th>\n",
       "      <td>GaAs_15kV_25pA</td>\n",
       "      <td>As</td>\n",
       "      <td>0.5062</td>\n",
       "      <td>As_La</td>\n",
       "      <td>GaAs 15kV 25pA</td>\n",
       "      <td>61699.0</td>\n",
       "      <td>0.374</td>\n",
       "      <td>15.0</td>\n",
       "      <td>1</td>\n",
       "      <td>74.9216</td>\n",
       "      <td>[As, Ga]</td>\n",
       "      <td>0.357322</td>\n",
       "      <td>3744.1</td>\n",
       "      <td>15.89</td>\n",
       "      <td>980576.1</td>\n",
       "      <td>0.773</td>\n",
       "    </tr>\n",
       "  </tbody>\n",
       "</table>\n",
       "</div>"
      ],
      "text/plain": [
       "             File Element     %at   Line            Name        i  i/i_sum  \\\n",
       "0  GaAs_05kV_25pA      As  0.5342  As_La  GaAs 05kV 25pA  13128.0    0.445   \n",
       "1  GaAs_05kV_25pA      Ga  0.4658  Ga_La  GaAs 05kV 25pA  16365.0    0.555   \n",
       "2  GaAs_15kV_25pA      As  0.5062  As_La  GaAs 15kV 25pA  61699.0    0.374   \n",
       "\n",
       "     kV  x    at_wt  Elements    i: at%      mu      A        i0  i0/i0_sum  \n",
       "0   5.0  0  74.9216  [As, Ga]  0.427317  3744.1   1.56   20416.8      0.514  \n",
       "1   5.0  0  69.7230  [As, Ga]  0.572683  1387.4   1.18   19274.6      0.486  \n",
       "2  15.0  1  74.9216  [As, Ga]  0.357322  3744.1  15.89  980576.1      0.773  "
      ]
     },
     "execution_count": 62,
     "metadata": {},
     "output_type": "execute_result"
    }
   ],
   "source": [
    "# calculate i0/i0_sum for each x, and add to df\n",
    "\n",
    "def calculate_relative_intensity(column: str, df=df):\n",
    "    \"\"\"\n",
    "    Returns the relative intensity for each x value in the dataframe.\n",
    "    \"\"\"\n",
    "    relative_intensities = []\n",
    "    for j in range(len(df)):\n",
    "        i0 = df[column][j]\n",
    "        i0_sum = df[df['x']==df['x'][j]][column].sum()\n",
    "        # print(i0/i0_sum)\n",
    "        relative_intensities.append(round(i0/i0_sum, 3))\n",
    "    return relative_intensities\n",
    "\n",
    "i0_sum_list = calculate_relative_intensity('i0')\n",
    "# i0_r3_sum_list = calculate_relative_intensity('i0_r3')\n",
    "# i0_r4_sum_list = calculate_relative_intensity('i0_r4')\n",
    "\n",
    "df['i0/i0_sum'] = i0_sum_list\n",
    "# df['i0_r3/i0_sum'] = i0_r3_sum_list\n",
    "# df['i0_r4/i0_sum'] = i0_r4_sum_list\n",
    "df.head(3)\n"
   ]
  },
  {
   "cell_type": "code",
   "execution_count": 63,
   "metadata": {},
   "outputs": [
    {
     "data": {
      "text/html": [
       "<div>\n",
       "<style scoped>\n",
       "    .dataframe tbody tr th:only-of-type {\n",
       "        vertical-align: middle;\n",
       "    }\n",
       "\n",
       "    .dataframe tbody tr th {\n",
       "        vertical-align: top;\n",
       "    }\n",
       "\n",
       "    .dataframe thead th {\n",
       "        text-align: right;\n",
       "    }\n",
       "</style>\n",
       "<table border=\"1\" class=\"dataframe\">\n",
       "  <thead>\n",
       "    <tr style=\"text-align: right;\">\n",
       "      <th></th>\n",
       "      <th>File</th>\n",
       "      <th>Element</th>\n",
       "      <th>%at</th>\n",
       "      <th>Line</th>\n",
       "      <th>Name</th>\n",
       "      <th>i</th>\n",
       "      <th>i/i_sum</th>\n",
       "      <th>kV</th>\n",
       "      <th>x</th>\n",
       "      <th>at_wt</th>\n",
       "      <th>Elements</th>\n",
       "      <th>i: at%</th>\n",
       "      <th>mu</th>\n",
       "      <th>A</th>\n",
       "      <th>i0</th>\n",
       "      <th>i0/i0_sum</th>\n",
       "      <th>i0: at%</th>\n",
       "    </tr>\n",
       "  </thead>\n",
       "  <tbody>\n",
       "    <tr>\n",
       "      <th>0</th>\n",
       "      <td>GaAs_05kV_25pA</td>\n",
       "      <td>As</td>\n",
       "      <td>0.5342</td>\n",
       "      <td>As_La</td>\n",
       "      <td>GaAs 05kV 25pA</td>\n",
       "      <td>13128.0</td>\n",
       "      <td>0.445</td>\n",
       "      <td>5.0</td>\n",
       "      <td>0</td>\n",
       "      <td>74.9216</td>\n",
       "      <td>[As, Ga]</td>\n",
       "      <td>0.427317</td>\n",
       "      <td>3744.1</td>\n",
       "      <td>1.56</td>\n",
       "      <td>20416.8</td>\n",
       "      <td>0.514</td>\n",
       "      <td>0.496026</td>\n",
       "    </tr>\n",
       "    <tr>\n",
       "      <th>1</th>\n",
       "      <td>GaAs_05kV_25pA</td>\n",
       "      <td>Ga</td>\n",
       "      <td>0.4658</td>\n",
       "      <td>Ga_La</td>\n",
       "      <td>GaAs 05kV 25pA</td>\n",
       "      <td>16365.0</td>\n",
       "      <td>0.555</td>\n",
       "      <td>5.0</td>\n",
       "      <td>0</td>\n",
       "      <td>69.7230</td>\n",
       "      <td>[As, Ga]</td>\n",
       "      <td>0.572683</td>\n",
       "      <td>1387.4</td>\n",
       "      <td>1.18</td>\n",
       "      <td>19274.6</td>\n",
       "      <td>0.486</td>\n",
       "      <td>0.503974</td>\n",
       "    </tr>\n",
       "    <tr>\n",
       "      <th>2</th>\n",
       "      <td>GaAs_15kV_25pA</td>\n",
       "      <td>As</td>\n",
       "      <td>0.5062</td>\n",
       "      <td>As_La</td>\n",
       "      <td>GaAs 15kV 25pA</td>\n",
       "      <td>61699.0</td>\n",
       "      <td>0.374</td>\n",
       "      <td>15.0</td>\n",
       "      <td>1</td>\n",
       "      <td>74.9216</td>\n",
       "      <td>[As, Ga]</td>\n",
       "      <td>0.357322</td>\n",
       "      <td>3744.1</td>\n",
       "      <td>15.89</td>\n",
       "      <td>980576.1</td>\n",
       "      <td>0.773</td>\n",
       "      <td>0.760135</td>\n",
       "    </tr>\n",
       "  </tbody>\n",
       "</table>\n",
       "</div>"
      ],
      "text/plain": [
       "             File Element     %at   Line            Name        i  i/i_sum  \\\n",
       "0  GaAs_05kV_25pA      As  0.5342  As_La  GaAs 05kV 25pA  13128.0    0.445   \n",
       "1  GaAs_05kV_25pA      Ga  0.4658  Ga_La  GaAs 05kV 25pA  16365.0    0.555   \n",
       "2  GaAs_15kV_25pA      As  0.5062  As_La  GaAs 15kV 25pA  61699.0    0.374   \n",
       "\n",
       "     kV  x    at_wt  Elements    i: at%      mu      A        i0  i0/i0_sum  \\\n",
       "0   5.0  0  74.9216  [As, Ga]  0.427317  3744.1   1.56   20416.8      0.514   \n",
       "1   5.0  0  69.7230  [As, Ga]  0.572683  1387.4   1.18   19274.6      0.486   \n",
       "2  15.0  1  74.9216  [As, Ga]  0.357322  3744.1  15.89  980576.1      0.773   \n",
       "\n",
       "    i0: at%  \n",
       "0  0.496026  \n",
       "1  0.503974  \n",
       "2  0.760135  "
      ]
     },
     "execution_count": 63,
     "metadata": {},
     "output_type": "execute_result"
    }
   ],
   "source": [
    "def calculate_atom_percent(column: str, df=df):\n",
    "    \"\"\"\n",
    "    Returns the atom percent from the weight percent for each x value in the dataframe.\n",
    "    \"\"\"\n",
    "    atom_percent_list = []\n",
    "    for xi in df['x'].unique():\n",
    "        wt_i0 = df[df['x']==xi][column].tolist()\n",
    "        at_wt = df[df['x']==xi]['at_wt'].tolist()\n",
    "        # at%_1 = (wt%_1 * at_wt_1) / (wt%_1 * at_wt_1 + wt%_2 * at_wt_2)\n",
    "        atom_percent_list.append((wt_i0[0]/at_wt[0]) / (wt_i0[0]/at_wt[0] + wt_i0[1]/at_wt[1]))\n",
    "        atom_percent_list.append((wt_i0[1]/at_wt[1]) / (wt_i0[0]/at_wt[0] + wt_i0[1]/at_wt[1]))\n",
    "    return atom_percent_list\n",
    "\n",
    "df['Elements'] = elements_list\n",
    "df['i0: at%'] = calculate_atom_percent('i0/i0_sum')\n",
    "df.head(3)"
   ]
  },
  {
   "cell_type": "code",
   "execution_count": 64,
   "metadata": {},
   "outputs": [
    {
     "data": {
      "text/html": [
       "<div>\n",
       "<style scoped>\n",
       "    .dataframe tbody tr th:only-of-type {\n",
       "        vertical-align: middle;\n",
       "    }\n",
       "\n",
       "    .dataframe tbody tr th {\n",
       "        vertical-align: top;\n",
       "    }\n",
       "\n",
       "    .dataframe thead th {\n",
       "        text-align: right;\n",
       "    }\n",
       "</style>\n",
       "<table border=\"1\" class=\"dataframe\">\n",
       "  <thead>\n",
       "    <tr style=\"text-align: right;\">\n",
       "      <th></th>\n",
       "      <th>File</th>\n",
       "      <th>Line</th>\n",
       "      <th>%at</th>\n",
       "      <th>i/i_sum</th>\n",
       "      <th>i0/i0_sum</th>\n",
       "      <th>i0: at%</th>\n",
       "      <th>i: at%</th>\n",
       "      <th>at_wt</th>\n",
       "    </tr>\n",
       "  </thead>\n",
       "  <tbody>\n",
       "    <tr>\n",
       "      <th>0</th>\n",
       "      <td>GaAs_05kV_25pA</td>\n",
       "      <td>As_La</td>\n",
       "      <td>0.5342</td>\n",
       "      <td>0.445</td>\n",
       "      <td>0.514</td>\n",
       "      <td>0.496026</td>\n",
       "      <td>0.427317</td>\n",
       "      <td>74.9216</td>\n",
       "    </tr>\n",
       "    <tr>\n",
       "      <th>1</th>\n",
       "      <td>GaAs_05kV_25pA</td>\n",
       "      <td>Ga_La</td>\n",
       "      <td>0.4658</td>\n",
       "      <td>0.555</td>\n",
       "      <td>0.486</td>\n",
       "      <td>0.503974</td>\n",
       "      <td>0.572683</td>\n",
       "      <td>69.7230</td>\n",
       "    </tr>\n",
       "    <tr>\n",
       "      <th>2</th>\n",
       "      <td>GaAs_15kV_25pA</td>\n",
       "      <td>As_La</td>\n",
       "      <td>0.5062</td>\n",
       "      <td>0.374</td>\n",
       "      <td>0.773</td>\n",
       "      <td>0.760135</td>\n",
       "      <td>0.357322</td>\n",
       "      <td>74.9216</td>\n",
       "    </tr>\n",
       "    <tr>\n",
       "      <th>3</th>\n",
       "      <td>GaAs_15kV_25pA</td>\n",
       "      <td>Ga_La</td>\n",
       "      <td>0.4938</td>\n",
       "      <td>0.626</td>\n",
       "      <td>0.227</td>\n",
       "      <td>0.239865</td>\n",
       "      <td>0.642678</td>\n",
       "      <td>69.7230</td>\n",
       "    </tr>\n",
       "    <tr>\n",
       "      <th>4</th>\n",
       "      <td>GaAs_30kV_25pA</td>\n",
       "      <td>As_Ka</td>\n",
       "      <td>0.4841</td>\n",
       "      <td>0.373</td>\n",
       "      <td>0.418</td>\n",
       "      <td>0.400616</td>\n",
       "      <td>0.356341</td>\n",
       "      <td>74.9216</td>\n",
       "    </tr>\n",
       "    <tr>\n",
       "      <th>5</th>\n",
       "      <td>GaAs_30kV_25pA</td>\n",
       "      <td>Ga_Ka</td>\n",
       "      <td>0.5159</td>\n",
       "      <td>0.627</td>\n",
       "      <td>0.582</td>\n",
       "      <td>0.599384</td>\n",
       "      <td>0.643659</td>\n",
       "      <td>69.7230</td>\n",
       "    </tr>\n",
       "    <tr>\n",
       "      <th>6</th>\n",
       "      <td>GaAs_30kV_50pA</td>\n",
       "      <td>As_Ka</td>\n",
       "      <td>0.4831</td>\n",
       "      <td>0.372</td>\n",
       "      <td>0.417</td>\n",
       "      <td>0.399629</td>\n",
       "      <td>0.355361</td>\n",
       "      <td>74.9216</td>\n",
       "    </tr>\n",
       "    <tr>\n",
       "      <th>7</th>\n",
       "      <td>GaAs_30kV_50pA</td>\n",
       "      <td>Ga_Ka</td>\n",
       "      <td>0.5169</td>\n",
       "      <td>0.628</td>\n",
       "      <td>0.583</td>\n",
       "      <td>0.600371</td>\n",
       "      <td>0.644639</td>\n",
       "      <td>69.7230</td>\n",
       "    </tr>\n",
       "    <tr>\n",
       "      <th>8</th>\n",
       "      <td>GaSb_05kV_50pA</td>\n",
       "      <td>Ga_La</td>\n",
       "      <td>0.3903</td>\n",
       "      <td>0.951</td>\n",
       "      <td>0.967</td>\n",
       "      <td>0.980833</td>\n",
       "      <td>0.971341</td>\n",
       "      <td>69.7230</td>\n",
       "    </tr>\n",
       "    <tr>\n",
       "      <th>9</th>\n",
       "      <td>GaSb_05kV_50pA</td>\n",
       "      <td>Sb_La</td>\n",
       "      <td>0.6097</td>\n",
       "      <td>0.049</td>\n",
       "      <td>0.033</td>\n",
       "      <td>0.019167</td>\n",
       "      <td>0.028659</td>\n",
       "      <td>121.7600</td>\n",
       "    </tr>\n",
       "    <tr>\n",
       "      <th>10</th>\n",
       "      <td>GaSb_10kV_50pA</td>\n",
       "      <td>Ga_La</td>\n",
       "      <td>0.4678</td>\n",
       "      <td>0.630</td>\n",
       "      <td>0.863</td>\n",
       "      <td>0.916671</td>\n",
       "      <td>0.748332</td>\n",
       "      <td>69.7230</td>\n",
       "    </tr>\n",
       "    <tr>\n",
       "      <th>11</th>\n",
       "      <td>GaSb_10kV_50pA</td>\n",
       "      <td>Sb_La</td>\n",
       "      <td>0.5322</td>\n",
       "      <td>0.370</td>\n",
       "      <td>0.137</td>\n",
       "      <td>0.083329</td>\n",
       "      <td>0.251668</td>\n",
       "      <td>121.7600</td>\n",
       "    </tr>\n",
       "    <tr>\n",
       "      <th>12</th>\n",
       "      <td>GaSb_15kV_200pA</td>\n",
       "      <td>Ga_La</td>\n",
       "      <td>0.4871</td>\n",
       "      <td>0.436</td>\n",
       "      <td>0.910</td>\n",
       "      <td>0.946402</td>\n",
       "      <td>0.574469</td>\n",
       "      <td>69.7230</td>\n",
       "    </tr>\n",
       "    <tr>\n",
       "      <th>13</th>\n",
       "      <td>GaSb_15kV_200pA</td>\n",
       "      <td>Sb_La</td>\n",
       "      <td>0.5129</td>\n",
       "      <td>0.564</td>\n",
       "      <td>0.090</td>\n",
       "      <td>0.053598</td>\n",
       "      <td>0.425531</td>\n",
       "      <td>121.7600</td>\n",
       "    </tr>\n",
       "    <tr>\n",
       "      <th>14</th>\n",
       "      <td>GaSb_15kV_400pA</td>\n",
       "      <td>Ga_La</td>\n",
       "      <td>0.4872</td>\n",
       "      <td>0.436</td>\n",
       "      <td>0.910</td>\n",
       "      <td>0.946402</td>\n",
       "      <td>0.574469</td>\n",
       "      <td>69.7230</td>\n",
       "    </tr>\n",
       "    <tr>\n",
       "      <th>15</th>\n",
       "      <td>GaSb_15kV_400pA</td>\n",
       "      <td>Sb_La</td>\n",
       "      <td>0.5128</td>\n",
       "      <td>0.564</td>\n",
       "      <td>0.090</td>\n",
       "      <td>0.053598</td>\n",
       "      <td>0.425531</td>\n",
       "      <td>121.7600</td>\n",
       "    </tr>\n",
       "    <tr>\n",
       "      <th>16</th>\n",
       "      <td>GaSb_15kV_50pA</td>\n",
       "      <td>Ga_La</td>\n",
       "      <td>0.4911</td>\n",
       "      <td>0.442</td>\n",
       "      <td>0.912</td>\n",
       "      <td>0.947640</td>\n",
       "      <td>0.580414</td>\n",
       "      <td>69.7230</td>\n",
       "    </tr>\n",
       "    <tr>\n",
       "      <th>17</th>\n",
       "      <td>GaSb_15kV_50pA</td>\n",
       "      <td>Sb_La</td>\n",
       "      <td>0.5089</td>\n",
       "      <td>0.558</td>\n",
       "      <td>0.088</td>\n",
       "      <td>0.052360</td>\n",
       "      <td>0.419586</td>\n",
       "      <td>121.7600</td>\n",
       "    </tr>\n",
       "    <tr>\n",
       "      <th>18</th>\n",
       "      <td>GaSb_30kV_400pA_processTime1</td>\n",
       "      <td>Ga_Ka</td>\n",
       "      <td>0.5004</td>\n",
       "      <td>0.365</td>\n",
       "      <td>0.206</td>\n",
       "      <td>0.311807</td>\n",
       "      <td>0.500948</td>\n",
       "      <td>69.7230</td>\n",
       "    </tr>\n",
       "    <tr>\n",
       "      <th>19</th>\n",
       "      <td>GaSb_30kV_400pA_processTime1</td>\n",
       "      <td>Sb_La</td>\n",
       "      <td>0.4996</td>\n",
       "      <td>0.635</td>\n",
       "      <td>0.794</td>\n",
       "      <td>0.688193</td>\n",
       "      <td>0.499052</td>\n",
       "      <td>121.7600</td>\n",
       "    </tr>\n",
       "    <tr>\n",
       "      <th>20</th>\n",
       "      <td>GaSb_30kV_50pA</td>\n",
       "      <td>Ga_Ka</td>\n",
       "      <td>0.5023</td>\n",
       "      <td>0.347</td>\n",
       "      <td>0.194</td>\n",
       "      <td>0.295941</td>\n",
       "      <td>0.481326</td>\n",
       "      <td>69.7230</td>\n",
       "    </tr>\n",
       "    <tr>\n",
       "      <th>21</th>\n",
       "      <td>GaSb_30kV_50pA</td>\n",
       "      <td>Sb_La</td>\n",
       "      <td>0.4977</td>\n",
       "      <td>0.653</td>\n",
       "      <td>0.806</td>\n",
       "      <td>0.704059</td>\n",
       "      <td>0.518674</td>\n",
       "      <td>121.7600</td>\n",
       "    </tr>\n",
       "    <tr>\n",
       "      <th>22</th>\n",
       "      <td>GaSb_30kV_50pA_noPPUC</td>\n",
       "      <td>Ga_Ka</td>\n",
       "      <td>0.5023</td>\n",
       "      <td>0.348</td>\n",
       "      <td>0.194</td>\n",
       "      <td>0.295941</td>\n",
       "      <td>0.482427</td>\n",
       "      <td>69.7230</td>\n",
       "    </tr>\n",
       "    <tr>\n",
       "      <th>23</th>\n",
       "      <td>GaSb_30kV_50pA_noPPUC</td>\n",
       "      <td>Sb_La</td>\n",
       "      <td>0.4977</td>\n",
       "      <td>0.652</td>\n",
       "      <td>0.806</td>\n",
       "      <td>0.704059</td>\n",
       "      <td>0.517573</td>\n",
       "      <td>121.7600</td>\n",
       "    </tr>\n",
       "    <tr>\n",
       "      <th>24</th>\n",
       "      <td>GaSb_30kV_50pA_processTime1</td>\n",
       "      <td>Ga_Ka</td>\n",
       "      <td>0.5035</td>\n",
       "      <td>0.369</td>\n",
       "      <td>0.209</td>\n",
       "      <td>0.315735</td>\n",
       "      <td>0.505253</td>\n",
       "      <td>69.7230</td>\n",
       "    </tr>\n",
       "    <tr>\n",
       "      <th>25</th>\n",
       "      <td>GaSb_30kV_50pA_processTime1</td>\n",
       "      <td>Sb_La</td>\n",
       "      <td>0.4965</td>\n",
       "      <td>0.631</td>\n",
       "      <td>0.791</td>\n",
       "      <td>0.684265</td>\n",
       "      <td>0.494747</td>\n",
       "      <td>121.7600</td>\n",
       "    </tr>\n",
       "    <tr>\n",
       "      <th>26</th>\n",
       "      <td>GaSb_30kV_50pA_processTime2</td>\n",
       "      <td>Ga_Ka</td>\n",
       "      <td>0.5016</td>\n",
       "      <td>0.358</td>\n",
       "      <td>0.202</td>\n",
       "      <td>0.306546</td>\n",
       "      <td>0.493367</td>\n",
       "      <td>69.7230</td>\n",
       "    </tr>\n",
       "    <tr>\n",
       "      <th>27</th>\n",
       "      <td>GaSb_30kV_50pA_processTime2</td>\n",
       "      <td>Sb_La</td>\n",
       "      <td>0.4984</td>\n",
       "      <td>0.642</td>\n",
       "      <td>0.798</td>\n",
       "      <td>0.693454</td>\n",
       "      <td>0.506633</td>\n",
       "      <td>121.7600</td>\n",
       "    </tr>\n",
       "    <tr>\n",
       "      <th>28</th>\n",
       "      <td>GaSb_30kV_50pA_processTime4</td>\n",
       "      <td>Ga_Ka</td>\n",
       "      <td>0.5020</td>\n",
       "      <td>0.350</td>\n",
       "      <td>0.196</td>\n",
       "      <td>0.298602</td>\n",
       "      <td>0.484625</td>\n",
       "      <td>69.7230</td>\n",
       "    </tr>\n",
       "    <tr>\n",
       "      <th>29</th>\n",
       "      <td>GaSb_30kV_50pA_processTime4</td>\n",
       "      <td>Sb_La</td>\n",
       "      <td>0.4980</td>\n",
       "      <td>0.650</td>\n",
       "      <td>0.804</td>\n",
       "      <td>0.701398</td>\n",
       "      <td>0.515375</td>\n",
       "      <td>121.7600</td>\n",
       "    </tr>\n",
       "    <tr>\n",
       "      <th>30</th>\n",
       "      <td>GaSb_scratched_15kV_400pA_processTime3</td>\n",
       "      <td>Ga_La</td>\n",
       "      <td>0.5460</td>\n",
       "      <td>0.495</td>\n",
       "      <td>0.927</td>\n",
       "      <td>0.956852</td>\n",
       "      <td>0.631236</td>\n",
       "      <td>69.7230</td>\n",
       "    </tr>\n",
       "    <tr>\n",
       "      <th>31</th>\n",
       "      <td>GaSb_scratched_15kV_400pA_processTime3</td>\n",
       "      <td>Sb_La</td>\n",
       "      <td>0.4540</td>\n",
       "      <td>0.505</td>\n",
       "      <td>0.073</td>\n",
       "      <td>0.043148</td>\n",
       "      <td>0.368764</td>\n",
       "      <td>121.7600</td>\n",
       "    </tr>\n",
       "    <tr>\n",
       "      <th>32</th>\n",
       "      <td>GaSb_scratched_30kV_25pA</td>\n",
       "      <td>Ga_Ka</td>\n",
       "      <td>0.5564</td>\n",
       "      <td>0.398</td>\n",
       "      <td>0.230</td>\n",
       "      <td>0.342812</td>\n",
       "      <td>0.535867</td>\n",
       "      <td>69.7230</td>\n",
       "    </tr>\n",
       "    <tr>\n",
       "      <th>33</th>\n",
       "      <td>GaSb_scratched_30kV_25pA</td>\n",
       "      <td>Sb_La</td>\n",
       "      <td>0.4436</td>\n",
       "      <td>0.602</td>\n",
       "      <td>0.770</td>\n",
       "      <td>0.657188</td>\n",
       "      <td>0.464133</td>\n",
       "      <td>121.7600</td>\n",
       "    </tr>\n",
       "  </tbody>\n",
       "</table>\n",
       "</div>"
      ],
      "text/plain": [
       "                                      File   Line     %at  i/i_sum  i0/i0_sum  \\\n",
       "0                           GaAs_05kV_25pA  As_La  0.5342    0.445      0.514   \n",
       "1                           GaAs_05kV_25pA  Ga_La  0.4658    0.555      0.486   \n",
       "2                           GaAs_15kV_25pA  As_La  0.5062    0.374      0.773   \n",
       "3                           GaAs_15kV_25pA  Ga_La  0.4938    0.626      0.227   \n",
       "4                           GaAs_30kV_25pA  As_Ka  0.4841    0.373      0.418   \n",
       "5                           GaAs_30kV_25pA  Ga_Ka  0.5159    0.627      0.582   \n",
       "6                           GaAs_30kV_50pA  As_Ka  0.4831    0.372      0.417   \n",
       "7                           GaAs_30kV_50pA  Ga_Ka  0.5169    0.628      0.583   \n",
       "8                           GaSb_05kV_50pA  Ga_La  0.3903    0.951      0.967   \n",
       "9                           GaSb_05kV_50pA  Sb_La  0.6097    0.049      0.033   \n",
       "10                          GaSb_10kV_50pA  Ga_La  0.4678    0.630      0.863   \n",
       "11                          GaSb_10kV_50pA  Sb_La  0.5322    0.370      0.137   \n",
       "12                         GaSb_15kV_200pA  Ga_La  0.4871    0.436      0.910   \n",
       "13                         GaSb_15kV_200pA  Sb_La  0.5129    0.564      0.090   \n",
       "14                         GaSb_15kV_400pA  Ga_La  0.4872    0.436      0.910   \n",
       "15                         GaSb_15kV_400pA  Sb_La  0.5128    0.564      0.090   \n",
       "16                          GaSb_15kV_50pA  Ga_La  0.4911    0.442      0.912   \n",
       "17                          GaSb_15kV_50pA  Sb_La  0.5089    0.558      0.088   \n",
       "18            GaSb_30kV_400pA_processTime1  Ga_Ka  0.5004    0.365      0.206   \n",
       "19            GaSb_30kV_400pA_processTime1  Sb_La  0.4996    0.635      0.794   \n",
       "20                          GaSb_30kV_50pA  Ga_Ka  0.5023    0.347      0.194   \n",
       "21                          GaSb_30kV_50pA  Sb_La  0.4977    0.653      0.806   \n",
       "22                   GaSb_30kV_50pA_noPPUC  Ga_Ka  0.5023    0.348      0.194   \n",
       "23                   GaSb_30kV_50pA_noPPUC  Sb_La  0.4977    0.652      0.806   \n",
       "24             GaSb_30kV_50pA_processTime1  Ga_Ka  0.5035    0.369      0.209   \n",
       "25             GaSb_30kV_50pA_processTime1  Sb_La  0.4965    0.631      0.791   \n",
       "26             GaSb_30kV_50pA_processTime2  Ga_Ka  0.5016    0.358      0.202   \n",
       "27             GaSb_30kV_50pA_processTime2  Sb_La  0.4984    0.642      0.798   \n",
       "28             GaSb_30kV_50pA_processTime4  Ga_Ka  0.5020    0.350      0.196   \n",
       "29             GaSb_30kV_50pA_processTime4  Sb_La  0.4980    0.650      0.804   \n",
       "30  GaSb_scratched_15kV_400pA_processTime3  Ga_La  0.5460    0.495      0.927   \n",
       "31  GaSb_scratched_15kV_400pA_processTime3  Sb_La  0.4540    0.505      0.073   \n",
       "32                GaSb_scratched_30kV_25pA  Ga_Ka  0.5564    0.398      0.230   \n",
       "33                GaSb_scratched_30kV_25pA  Sb_La  0.4436    0.602      0.770   \n",
       "\n",
       "     i0: at%    i: at%     at_wt  \n",
       "0   0.496026  0.427317   74.9216  \n",
       "1   0.503974  0.572683   69.7230  \n",
       "2   0.760135  0.357322   74.9216  \n",
       "3   0.239865  0.642678   69.7230  \n",
       "4   0.400616  0.356341   74.9216  \n",
       "5   0.599384  0.643659   69.7230  \n",
       "6   0.399629  0.355361   74.9216  \n",
       "7   0.600371  0.644639   69.7230  \n",
       "8   0.980833  0.971341   69.7230  \n",
       "9   0.019167  0.028659  121.7600  \n",
       "10  0.916671  0.748332   69.7230  \n",
       "11  0.083329  0.251668  121.7600  \n",
       "12  0.946402  0.574469   69.7230  \n",
       "13  0.053598  0.425531  121.7600  \n",
       "14  0.946402  0.574469   69.7230  \n",
       "15  0.053598  0.425531  121.7600  \n",
       "16  0.947640  0.580414   69.7230  \n",
       "17  0.052360  0.419586  121.7600  \n",
       "18  0.311807  0.500948   69.7230  \n",
       "19  0.688193  0.499052  121.7600  \n",
       "20  0.295941  0.481326   69.7230  \n",
       "21  0.704059  0.518674  121.7600  \n",
       "22  0.295941  0.482427   69.7230  \n",
       "23  0.704059  0.517573  121.7600  \n",
       "24  0.315735  0.505253   69.7230  \n",
       "25  0.684265  0.494747  121.7600  \n",
       "26  0.306546  0.493367   69.7230  \n",
       "27  0.693454  0.506633  121.7600  \n",
       "28  0.298602  0.484625   69.7230  \n",
       "29  0.701398  0.515375  121.7600  \n",
       "30  0.956852  0.631236   69.7230  \n",
       "31  0.043148  0.368764  121.7600  \n",
       "32  0.342812  0.535867   69.7230  \n",
       "33  0.657188  0.464133  121.7600  "
      ]
     },
     "execution_count": 64,
     "metadata": {},
     "output_type": "execute_result"
    }
   ],
   "source": [
    "df[['File', 'Line', '%at', 'i/i_sum', 'i0/i0_sum','i0: at%', 'i: at%', 'at_wt']]"
   ]
  },
  {
   "cell_type": "code",
   "execution_count": 65,
   "metadata": {},
   "outputs": [
    {
     "data": {
      "application/vnd.plotly.v1+json": {
       "config": {
        "plotlyServerURL": "https://plot.ly"
       },
       "data": [
        {
         "legendgroup": "As_La",
         "marker": {
          "color": "#636EFA",
          "line": {
           "color": "Black",
           "width": 1
          },
          "size": 10,
          "symbol": "circle"
         },
         "mode": "markers",
         "name": "As_La, i wt%",
         "showlegend": true,
         "type": "scatter",
         "x": [
          0
         ],
         "y": [
          0.445
         ]
        },
        {
         "legendgroup": "As_La",
         "marker": {
          "color": "#636EFA",
          "line": {
           "color": "Black",
           "width": 1
          },
          "size": 10,
          "symbol": "x"
         },
         "mode": "markers",
         "name": "As_La, AZ at%",
         "showlegend": true,
         "type": "scatter",
         "x": [
          0
         ],
         "y": [
          0.5342
         ]
        },
        {
         "legendgroup": "As_La",
         "marker": {
          "color": "#636EFA",
          "line": {
           "color": "Black",
           "width": 1
          },
          "size": 10,
          "symbol": "diamond"
         },
         "mode": "markers",
         "name": "As_La, i0 wt%",
         "showlegend": true,
         "type": "scatter",
         "x": [
          0
         ],
         "y": [
          0.514
         ]
        },
        {
         "legendgroup": "Ga_La",
         "marker": {
          "color": "#EF553B",
          "line": {
           "color": "Black",
           "width": 1
          },
          "size": 10,
          "symbol": "circle"
         },
         "mode": "markers",
         "name": "Ga_La, i wt%",
         "showlegend": true,
         "type": "scatter",
         "x": [
          0
         ],
         "y": [
          0.555
         ]
        },
        {
         "legendgroup": "Ga_La",
         "marker": {
          "color": "#EF553B",
          "line": {
           "color": "Black",
           "width": 1
          },
          "size": 10,
          "symbol": "x"
         },
         "mode": "markers",
         "name": "Ga_La, AZ at%",
         "showlegend": true,
         "type": "scatter",
         "x": [
          0
         ],
         "y": [
          0.4658
         ]
        },
        {
         "legendgroup": "Ga_La",
         "marker": {
          "color": "#EF553B",
          "line": {
           "color": "Black",
           "width": 1
          },
          "size": 10,
          "symbol": "diamond"
         },
         "mode": "markers",
         "name": "Ga_La, i0 wt%",
         "showlegend": true,
         "type": "scatter",
         "x": [
          0
         ],
         "y": [
          0.486
         ]
        },
        {
         "legendgroup": "As_La",
         "marker": {
          "color": "#636EFA",
          "line": {
           "color": "Black",
           "width": 1
          },
          "size": 10,
          "symbol": "circle"
         },
         "mode": "markers",
         "name": "As_La, i wt%",
         "showlegend": false,
         "type": "scatter",
         "x": [
          1
         ],
         "y": [
          0.374
         ]
        },
        {
         "legendgroup": "As_La",
         "marker": {
          "color": "#636EFA",
          "line": {
           "color": "Black",
           "width": 1
          },
          "size": 10,
          "symbol": "x"
         },
         "mode": "markers",
         "name": "As_La, AZ at%",
         "showlegend": false,
         "type": "scatter",
         "x": [
          1
         ],
         "y": [
          0.5062
         ]
        },
        {
         "legendgroup": "As_La",
         "marker": {
          "color": "#636EFA",
          "line": {
           "color": "Black",
           "width": 1
          },
          "size": 10,
          "symbol": "diamond"
         },
         "mode": "markers",
         "name": "As_La, i0 wt%",
         "showlegend": false,
         "type": "scatter",
         "x": [
          1
         ],
         "y": [
          0.773
         ]
        },
        {
         "legendgroup": "Ga_La",
         "marker": {
          "color": "#EF553B",
          "line": {
           "color": "Black",
           "width": 1
          },
          "size": 10,
          "symbol": "circle"
         },
         "mode": "markers",
         "name": "Ga_La, i wt%",
         "showlegend": false,
         "type": "scatter",
         "x": [
          1
         ],
         "y": [
          0.626
         ]
        },
        {
         "legendgroup": "Ga_La",
         "marker": {
          "color": "#EF553B",
          "line": {
           "color": "Black",
           "width": 1
          },
          "size": 10,
          "symbol": "x"
         },
         "mode": "markers",
         "name": "Ga_La, AZ at%",
         "showlegend": false,
         "type": "scatter",
         "x": [
          1
         ],
         "y": [
          0.4938
         ]
        },
        {
         "legendgroup": "Ga_La",
         "marker": {
          "color": "#EF553B",
          "line": {
           "color": "Black",
           "width": 1
          },
          "size": 10,
          "symbol": "diamond"
         },
         "mode": "markers",
         "name": "Ga_La, i0 wt%",
         "showlegend": false,
         "type": "scatter",
         "x": [
          1
         ],
         "y": [
          0.227
         ]
        },
        {
         "legendgroup": "As_Ka",
         "marker": {
          "color": "#636EFA",
          "line": {
           "color": "Black",
           "width": 0
          },
          "size": 10,
          "symbol": "circle"
         },
         "mode": "markers",
         "name": "As_Ka, i wt%",
         "showlegend": true,
         "type": "scatter",
         "x": [
          2
         ],
         "y": [
          0.373
         ]
        },
        {
         "legendgroup": "As_Ka",
         "marker": {
          "color": "#636EFA",
          "line": {
           "color": "Black",
           "width": 0
          },
          "size": 10,
          "symbol": "x"
         },
         "mode": "markers",
         "name": "As_Ka, AZ at%",
         "showlegend": true,
         "type": "scatter",
         "x": [
          2
         ],
         "y": [
          0.4841
         ]
        },
        {
         "legendgroup": "As_Ka",
         "marker": {
          "color": "#636EFA",
          "line": {
           "color": "Black",
           "width": 0
          },
          "size": 10,
          "symbol": "diamond"
         },
         "mode": "markers",
         "name": "As_Ka, i0 wt%",
         "showlegend": true,
         "type": "scatter",
         "x": [
          2
         ],
         "y": [
          0.418
         ]
        },
        {
         "legendgroup": "Ga_Ka",
         "marker": {
          "color": "#EF553B",
          "line": {
           "color": "Black",
           "width": 0
          },
          "size": 10,
          "symbol": "circle"
         },
         "mode": "markers",
         "name": "Ga_Ka, i wt%",
         "showlegend": true,
         "type": "scatter",
         "x": [
          2
         ],
         "y": [
          0.627
         ]
        },
        {
         "legendgroup": "Ga_Ka",
         "marker": {
          "color": "#EF553B",
          "line": {
           "color": "Black",
           "width": 0
          },
          "size": 10,
          "symbol": "x"
         },
         "mode": "markers",
         "name": "Ga_Ka, AZ at%",
         "showlegend": true,
         "type": "scatter",
         "x": [
          2
         ],
         "y": [
          0.5159
         ]
        },
        {
         "legendgroup": "Ga_Ka",
         "marker": {
          "color": "#EF553B",
          "line": {
           "color": "Black",
           "width": 0
          },
          "size": 10,
          "symbol": "diamond"
         },
         "mode": "markers",
         "name": "Ga_Ka, i0 wt%",
         "showlegend": true,
         "type": "scatter",
         "x": [
          2
         ],
         "y": [
          0.582
         ]
        },
        {
         "legendgroup": "As_Ka",
         "marker": {
          "color": "#636EFA",
          "line": {
           "color": "Black",
           "width": 0
          },
          "size": 10,
          "symbol": "circle"
         },
         "mode": "markers",
         "name": "As_Ka, i wt%",
         "showlegend": false,
         "type": "scatter",
         "x": [
          3
         ],
         "y": [
          0.372
         ]
        },
        {
         "legendgroup": "As_Ka",
         "marker": {
          "color": "#636EFA",
          "line": {
           "color": "Black",
           "width": 0
          },
          "size": 10,
          "symbol": "x"
         },
         "mode": "markers",
         "name": "As_Ka, AZ at%",
         "showlegend": false,
         "type": "scatter",
         "x": [
          3
         ],
         "y": [
          0.48310000000000003
         ]
        },
        {
         "legendgroup": "As_Ka",
         "marker": {
          "color": "#636EFA",
          "line": {
           "color": "Black",
           "width": 0
          },
          "size": 10,
          "symbol": "diamond"
         },
         "mode": "markers",
         "name": "As_Ka, i0 wt%",
         "showlegend": false,
         "type": "scatter",
         "x": [
          3
         ],
         "y": [
          0.417
         ]
        },
        {
         "legendgroup": "Ga_Ka",
         "marker": {
          "color": "#EF553B",
          "line": {
           "color": "Black",
           "width": 0
          },
          "size": 10,
          "symbol": "circle"
         },
         "mode": "markers",
         "name": "Ga_Ka, i wt%",
         "showlegend": false,
         "type": "scatter",
         "x": [
          3
         ],
         "y": [
          0.628
         ]
        },
        {
         "legendgroup": "Ga_Ka",
         "marker": {
          "color": "#EF553B",
          "line": {
           "color": "Black",
           "width": 0
          },
          "size": 10,
          "symbol": "x"
         },
         "mode": "markers",
         "name": "Ga_Ka, AZ at%",
         "showlegend": false,
         "type": "scatter",
         "x": [
          3
         ],
         "y": [
          0.5169
         ]
        },
        {
         "legendgroup": "Ga_Ka",
         "marker": {
          "color": "#EF553B",
          "line": {
           "color": "Black",
           "width": 0
          },
          "size": 10,
          "symbol": "diamond"
         },
         "mode": "markers",
         "name": "Ga_Ka, i0 wt%",
         "showlegend": false,
         "type": "scatter",
         "x": [
          3
         ],
         "y": [
          0.583
         ]
        },
        {
         "legendgroup": "Ga_La",
         "marker": {
          "color": "#EF553B",
          "line": {
           "color": "Black",
           "width": 1
          },
          "size": 10,
          "symbol": "circle"
         },
         "mode": "markers",
         "name": "Ga_La, i wt%",
         "showlegend": false,
         "type": "scatter",
         "x": [
          4
         ],
         "y": [
          0.951
         ]
        },
        {
         "legendgroup": "Ga_La",
         "marker": {
          "color": "#EF553B",
          "line": {
           "color": "Black",
           "width": 1
          },
          "size": 10,
          "symbol": "x"
         },
         "mode": "markers",
         "name": "Ga_La, AZ at%",
         "showlegend": false,
         "type": "scatter",
         "x": [
          4
         ],
         "y": [
          0.39030000000000004
         ]
        },
        {
         "legendgroup": "Ga_La",
         "marker": {
          "color": "#EF553B",
          "line": {
           "color": "Black",
           "width": 1
          },
          "size": 10,
          "symbol": "diamond"
         },
         "mode": "markers",
         "name": "Ga_La, i0 wt%",
         "showlegend": false,
         "type": "scatter",
         "x": [
          4
         ],
         "y": [
          0.967
         ]
        },
        {
         "legendgroup": "Sb_La",
         "marker": {
          "color": "#00CC96",
          "line": {
           "color": "Black",
           "width": 1
          },
          "size": 10,
          "symbol": "circle"
         },
         "mode": "markers",
         "name": "Sb_La, i wt%",
         "showlegend": true,
         "type": "scatter",
         "x": [
          4
         ],
         "y": [
          0.049
         ]
        },
        {
         "legendgroup": "Sb_La",
         "marker": {
          "color": "#00CC96",
          "line": {
           "color": "Black",
           "width": 1
          },
          "size": 10,
          "symbol": "x"
         },
         "mode": "markers",
         "name": "Sb_La, AZ at%",
         "showlegend": true,
         "type": "scatter",
         "x": [
          4
         ],
         "y": [
          0.6097
         ]
        },
        {
         "legendgroup": "Sb_La",
         "marker": {
          "color": "#00CC96",
          "line": {
           "color": "Black",
           "width": 1
          },
          "size": 10,
          "symbol": "diamond"
         },
         "mode": "markers",
         "name": "Sb_La, i0 wt%",
         "showlegend": true,
         "type": "scatter",
         "x": [
          4
         ],
         "y": [
          0.033
         ]
        },
        {
         "legendgroup": "Ga_La",
         "marker": {
          "color": "#EF553B",
          "line": {
           "color": "Black",
           "width": 1
          },
          "size": 10,
          "symbol": "circle"
         },
         "mode": "markers",
         "name": "Ga_La, i wt%",
         "showlegend": false,
         "type": "scatter",
         "x": [
          5
         ],
         "y": [
          0.63
         ]
        },
        {
         "legendgroup": "Ga_La",
         "marker": {
          "color": "#EF553B",
          "line": {
           "color": "Black",
           "width": 1
          },
          "size": 10,
          "symbol": "x"
         },
         "mode": "markers",
         "name": "Ga_La, AZ at%",
         "showlegend": false,
         "type": "scatter",
         "x": [
          5
         ],
         "y": [
          0.4678
         ]
        },
        {
         "legendgroup": "Ga_La",
         "marker": {
          "color": "#EF553B",
          "line": {
           "color": "Black",
           "width": 1
          },
          "size": 10,
          "symbol": "diamond"
         },
         "mode": "markers",
         "name": "Ga_La, i0 wt%",
         "showlegend": false,
         "type": "scatter",
         "x": [
          5
         ],
         "y": [
          0.863
         ]
        },
        {
         "legendgroup": "Sb_La",
         "marker": {
          "color": "#00CC96",
          "line": {
           "color": "Black",
           "width": 1
          },
          "size": 10,
          "symbol": "circle"
         },
         "mode": "markers",
         "name": "Sb_La, i wt%",
         "showlegend": false,
         "type": "scatter",
         "x": [
          5
         ],
         "y": [
          0.37
         ]
        },
        {
         "legendgroup": "Sb_La",
         "marker": {
          "color": "#00CC96",
          "line": {
           "color": "Black",
           "width": 1
          },
          "size": 10,
          "symbol": "x"
         },
         "mode": "markers",
         "name": "Sb_La, AZ at%",
         "showlegend": false,
         "type": "scatter",
         "x": [
          5
         ],
         "y": [
          0.5322
         ]
        },
        {
         "legendgroup": "Sb_La",
         "marker": {
          "color": "#00CC96",
          "line": {
           "color": "Black",
           "width": 1
          },
          "size": 10,
          "symbol": "diamond"
         },
         "mode": "markers",
         "name": "Sb_La, i0 wt%",
         "showlegend": false,
         "type": "scatter",
         "x": [
          5
         ],
         "y": [
          0.137
         ]
        },
        {
         "legendgroup": "Ga_La",
         "marker": {
          "color": "#EF553B",
          "line": {
           "color": "Black",
           "width": 1
          },
          "size": 10,
          "symbol": "circle"
         },
         "mode": "markers",
         "name": "Ga_La, i wt%",
         "showlegend": false,
         "type": "scatter",
         "x": [
          6
         ],
         "y": [
          0.436
         ]
        },
        {
         "legendgroup": "Ga_La",
         "marker": {
          "color": "#EF553B",
          "line": {
           "color": "Black",
           "width": 1
          },
          "size": 10,
          "symbol": "x"
         },
         "mode": "markers",
         "name": "Ga_La, AZ at%",
         "showlegend": false,
         "type": "scatter",
         "x": [
          6
         ],
         "y": [
          0.48710000000000003
         ]
        },
        {
         "legendgroup": "Ga_La",
         "marker": {
          "color": "#EF553B",
          "line": {
           "color": "Black",
           "width": 1
          },
          "size": 10,
          "symbol": "diamond"
         },
         "mode": "markers",
         "name": "Ga_La, i0 wt%",
         "showlegend": false,
         "type": "scatter",
         "x": [
          6
         ],
         "y": [
          0.91
         ]
        },
        {
         "legendgroup": "Sb_La",
         "marker": {
          "color": "#00CC96",
          "line": {
           "color": "Black",
           "width": 1
          },
          "size": 10,
          "symbol": "circle"
         },
         "mode": "markers",
         "name": "Sb_La, i wt%",
         "showlegend": false,
         "type": "scatter",
         "x": [
          6
         ],
         "y": [
          0.564
         ]
        },
        {
         "legendgroup": "Sb_La",
         "marker": {
          "color": "#00CC96",
          "line": {
           "color": "Black",
           "width": 1
          },
          "size": 10,
          "symbol": "x"
         },
         "mode": "markers",
         "name": "Sb_La, AZ at%",
         "showlegend": false,
         "type": "scatter",
         "x": [
          6
         ],
         "y": [
          0.5129
         ]
        },
        {
         "legendgroup": "Sb_La",
         "marker": {
          "color": "#00CC96",
          "line": {
           "color": "Black",
           "width": 1
          },
          "size": 10,
          "symbol": "diamond"
         },
         "mode": "markers",
         "name": "Sb_La, i0 wt%",
         "showlegend": false,
         "type": "scatter",
         "x": [
          6
         ],
         "y": [
          0.09
         ]
        },
        {
         "legendgroup": "Ga_La",
         "marker": {
          "color": "#EF553B",
          "line": {
           "color": "Black",
           "width": 1
          },
          "size": 10,
          "symbol": "circle"
         },
         "mode": "markers",
         "name": "Ga_La, i wt%",
         "showlegend": false,
         "type": "scatter",
         "x": [
          7
         ],
         "y": [
          0.436
         ]
        },
        {
         "legendgroup": "Ga_La",
         "marker": {
          "color": "#EF553B",
          "line": {
           "color": "Black",
           "width": 1
          },
          "size": 10,
          "symbol": "x"
         },
         "mode": "markers",
         "name": "Ga_La, AZ at%",
         "showlegend": false,
         "type": "scatter",
         "x": [
          7
         ],
         "y": [
          0.48719999999999997
         ]
        },
        {
         "legendgroup": "Ga_La",
         "marker": {
          "color": "#EF553B",
          "line": {
           "color": "Black",
           "width": 1
          },
          "size": 10,
          "symbol": "diamond"
         },
         "mode": "markers",
         "name": "Ga_La, i0 wt%",
         "showlegend": false,
         "type": "scatter",
         "x": [
          7
         ],
         "y": [
          0.91
         ]
        },
        {
         "legendgroup": "Sb_La",
         "marker": {
          "color": "#00CC96",
          "line": {
           "color": "Black",
           "width": 1
          },
          "size": 10,
          "symbol": "circle"
         },
         "mode": "markers",
         "name": "Sb_La, i wt%",
         "showlegend": false,
         "type": "scatter",
         "x": [
          7
         ],
         "y": [
          0.564
         ]
        },
        {
         "legendgroup": "Sb_La",
         "marker": {
          "color": "#00CC96",
          "line": {
           "color": "Black",
           "width": 1
          },
          "size": 10,
          "symbol": "x"
         },
         "mode": "markers",
         "name": "Sb_La, AZ at%",
         "showlegend": false,
         "type": "scatter",
         "x": [
          7
         ],
         "y": [
          0.5128
         ]
        },
        {
         "legendgroup": "Sb_La",
         "marker": {
          "color": "#00CC96",
          "line": {
           "color": "Black",
           "width": 1
          },
          "size": 10,
          "symbol": "diamond"
         },
         "mode": "markers",
         "name": "Sb_La, i0 wt%",
         "showlegend": false,
         "type": "scatter",
         "x": [
          7
         ],
         "y": [
          0.09
         ]
        },
        {
         "legendgroup": "Ga_La",
         "marker": {
          "color": "#EF553B",
          "line": {
           "color": "Black",
           "width": 1
          },
          "size": 10,
          "symbol": "circle"
         },
         "mode": "markers",
         "name": "Ga_La, i wt%",
         "showlegend": false,
         "type": "scatter",
         "x": [
          8
         ],
         "y": [
          0.442
         ]
        },
        {
         "legendgroup": "Ga_La",
         "marker": {
          "color": "#EF553B",
          "line": {
           "color": "Black",
           "width": 1
          },
          "size": 10,
          "symbol": "x"
         },
         "mode": "markers",
         "name": "Ga_La, AZ at%",
         "showlegend": false,
         "type": "scatter",
         "x": [
          8
         ],
         "y": [
          0.4911
         ]
        },
        {
         "legendgroup": "Ga_La",
         "marker": {
          "color": "#EF553B",
          "line": {
           "color": "Black",
           "width": 1
          },
          "size": 10,
          "symbol": "diamond"
         },
         "mode": "markers",
         "name": "Ga_La, i0 wt%",
         "showlegend": false,
         "type": "scatter",
         "x": [
          8
         ],
         "y": [
          0.912
         ]
        },
        {
         "legendgroup": "Sb_La",
         "marker": {
          "color": "#00CC96",
          "line": {
           "color": "Black",
           "width": 1
          },
          "size": 10,
          "symbol": "circle"
         },
         "mode": "markers",
         "name": "Sb_La, i wt%",
         "showlegend": false,
         "type": "scatter",
         "x": [
          8
         ],
         "y": [
          0.558
         ]
        },
        {
         "legendgroup": "Sb_La",
         "marker": {
          "color": "#00CC96",
          "line": {
           "color": "Black",
           "width": 1
          },
          "size": 10,
          "symbol": "x"
         },
         "mode": "markers",
         "name": "Sb_La, AZ at%",
         "showlegend": false,
         "type": "scatter",
         "x": [
          8
         ],
         "y": [
          0.5089
         ]
        },
        {
         "legendgroup": "Sb_La",
         "marker": {
          "color": "#00CC96",
          "line": {
           "color": "Black",
           "width": 1
          },
          "size": 10,
          "symbol": "diamond"
         },
         "mode": "markers",
         "name": "Sb_La, i0 wt%",
         "showlegend": false,
         "type": "scatter",
         "x": [
          8
         ],
         "y": [
          0.088
         ]
        },
        {
         "legendgroup": "Ga_Ka",
         "marker": {
          "color": "#EF553B",
          "line": {
           "color": "Black",
           "width": 0
          },
          "size": 10,
          "symbol": "circle"
         },
         "mode": "markers",
         "name": "Ga_Ka, i wt%",
         "showlegend": false,
         "type": "scatter",
         "x": [
          9
         ],
         "y": [
          0.365
         ]
        },
        {
         "legendgroup": "Ga_Ka",
         "marker": {
          "color": "#EF553B",
          "line": {
           "color": "Black",
           "width": 0
          },
          "size": 10,
          "symbol": "x"
         },
         "mode": "markers",
         "name": "Ga_Ka, AZ at%",
         "showlegend": false,
         "type": "scatter",
         "x": [
          9
         ],
         "y": [
          0.5004
         ]
        },
        {
         "legendgroup": "Ga_Ka",
         "marker": {
          "color": "#EF553B",
          "line": {
           "color": "Black",
           "width": 0
          },
          "size": 10,
          "symbol": "diamond"
         },
         "mode": "markers",
         "name": "Ga_Ka, i0 wt%",
         "showlegend": false,
         "type": "scatter",
         "x": [
          9
         ],
         "y": [
          0.206
         ]
        },
        {
         "legendgroup": "Sb_La",
         "marker": {
          "color": "#00CC96",
          "line": {
           "color": "Black",
           "width": 1
          },
          "size": 10,
          "symbol": "circle"
         },
         "mode": "markers",
         "name": "Sb_La, i wt%",
         "showlegend": false,
         "type": "scatter",
         "x": [
          9
         ],
         "y": [
          0.635
         ]
        },
        {
         "legendgroup": "Sb_La",
         "marker": {
          "color": "#00CC96",
          "line": {
           "color": "Black",
           "width": 1
          },
          "size": 10,
          "symbol": "x"
         },
         "mode": "markers",
         "name": "Sb_La, AZ at%",
         "showlegend": false,
         "type": "scatter",
         "x": [
          9
         ],
         "y": [
          0.4996
         ]
        },
        {
         "legendgroup": "Sb_La",
         "marker": {
          "color": "#00CC96",
          "line": {
           "color": "Black",
           "width": 1
          },
          "size": 10,
          "symbol": "diamond"
         },
         "mode": "markers",
         "name": "Sb_La, i0 wt%",
         "showlegend": false,
         "type": "scatter",
         "x": [
          9
         ],
         "y": [
          0.794
         ]
        },
        {
         "legendgroup": "Ga_Ka",
         "marker": {
          "color": "#EF553B",
          "line": {
           "color": "Black",
           "width": 0
          },
          "size": 10,
          "symbol": "circle"
         },
         "mode": "markers",
         "name": "Ga_Ka, i wt%",
         "showlegend": false,
         "type": "scatter",
         "x": [
          10
         ],
         "y": [
          0.347
         ]
        },
        {
         "legendgroup": "Ga_Ka",
         "marker": {
          "color": "#EF553B",
          "line": {
           "color": "Black",
           "width": 0
          },
          "size": 10,
          "symbol": "x"
         },
         "mode": "markers",
         "name": "Ga_Ka, AZ at%",
         "showlegend": false,
         "type": "scatter",
         "x": [
          10
         ],
         "y": [
          0.5023
         ]
        },
        {
         "legendgroup": "Ga_Ka",
         "marker": {
          "color": "#EF553B",
          "line": {
           "color": "Black",
           "width": 0
          },
          "size": 10,
          "symbol": "diamond"
         },
         "mode": "markers",
         "name": "Ga_Ka, i0 wt%",
         "showlegend": false,
         "type": "scatter",
         "x": [
          10
         ],
         "y": [
          0.194
         ]
        },
        {
         "legendgroup": "Sb_La",
         "marker": {
          "color": "#00CC96",
          "line": {
           "color": "Black",
           "width": 1
          },
          "size": 10,
          "symbol": "circle"
         },
         "mode": "markers",
         "name": "Sb_La, i wt%",
         "showlegend": false,
         "type": "scatter",
         "x": [
          10
         ],
         "y": [
          0.653
         ]
        },
        {
         "legendgroup": "Sb_La",
         "marker": {
          "color": "#00CC96",
          "line": {
           "color": "Black",
           "width": 1
          },
          "size": 10,
          "symbol": "x"
         },
         "mode": "markers",
         "name": "Sb_La, AZ at%",
         "showlegend": false,
         "type": "scatter",
         "x": [
          10
         ],
         "y": [
          0.49770000000000003
         ]
        },
        {
         "legendgroup": "Sb_La",
         "marker": {
          "color": "#00CC96",
          "line": {
           "color": "Black",
           "width": 1
          },
          "size": 10,
          "symbol": "diamond"
         },
         "mode": "markers",
         "name": "Sb_La, i0 wt%",
         "showlegend": false,
         "type": "scatter",
         "x": [
          10
         ],
         "y": [
          0.806
         ]
        },
        {
         "legendgroup": "Ga_Ka",
         "marker": {
          "color": "#EF553B",
          "line": {
           "color": "Black",
           "width": 0
          },
          "size": 10,
          "symbol": "circle"
         },
         "mode": "markers",
         "name": "Ga_Ka, i wt%",
         "showlegend": false,
         "type": "scatter",
         "x": [
          11
         ],
         "y": [
          0.348
         ]
        },
        {
         "legendgroup": "Ga_Ka",
         "marker": {
          "color": "#EF553B",
          "line": {
           "color": "Black",
           "width": 0
          },
          "size": 10,
          "symbol": "x"
         },
         "mode": "markers",
         "name": "Ga_Ka, AZ at%",
         "showlegend": false,
         "type": "scatter",
         "x": [
          11
         ],
         "y": [
          0.5023
         ]
        },
        {
         "legendgroup": "Ga_Ka",
         "marker": {
          "color": "#EF553B",
          "line": {
           "color": "Black",
           "width": 0
          },
          "size": 10,
          "symbol": "diamond"
         },
         "mode": "markers",
         "name": "Ga_Ka, i0 wt%",
         "showlegend": false,
         "type": "scatter",
         "x": [
          11
         ],
         "y": [
          0.194
         ]
        },
        {
         "legendgroup": "Sb_La",
         "marker": {
          "color": "#00CC96",
          "line": {
           "color": "Black",
           "width": 1
          },
          "size": 10,
          "symbol": "circle"
         },
         "mode": "markers",
         "name": "Sb_La, i wt%",
         "showlegend": false,
         "type": "scatter",
         "x": [
          11
         ],
         "y": [
          0.652
         ]
        },
        {
         "legendgroup": "Sb_La",
         "marker": {
          "color": "#00CC96",
          "line": {
           "color": "Black",
           "width": 1
          },
          "size": 10,
          "symbol": "x"
         },
         "mode": "markers",
         "name": "Sb_La, AZ at%",
         "showlegend": false,
         "type": "scatter",
         "x": [
          11
         ],
         "y": [
          0.49770000000000003
         ]
        },
        {
         "legendgroup": "Sb_La",
         "marker": {
          "color": "#00CC96",
          "line": {
           "color": "Black",
           "width": 1
          },
          "size": 10,
          "symbol": "diamond"
         },
         "mode": "markers",
         "name": "Sb_La, i0 wt%",
         "showlegend": false,
         "type": "scatter",
         "x": [
          11
         ],
         "y": [
          0.806
         ]
        },
        {
         "legendgroup": "Ga_Ka",
         "marker": {
          "color": "#EF553B",
          "line": {
           "color": "Black",
           "width": 0
          },
          "size": 10,
          "symbol": "circle"
         },
         "mode": "markers",
         "name": "Ga_Ka, i wt%",
         "showlegend": false,
         "type": "scatter",
         "x": [
          12
         ],
         "y": [
          0.369
         ]
        },
        {
         "legendgroup": "Ga_Ka",
         "marker": {
          "color": "#EF553B",
          "line": {
           "color": "Black",
           "width": 0
          },
          "size": 10,
          "symbol": "x"
         },
         "mode": "markers",
         "name": "Ga_Ka, AZ at%",
         "showlegend": false,
         "type": "scatter",
         "x": [
          12
         ],
         "y": [
          0.5035000000000001
         ]
        },
        {
         "legendgroup": "Ga_Ka",
         "marker": {
          "color": "#EF553B",
          "line": {
           "color": "Black",
           "width": 0
          },
          "size": 10,
          "symbol": "diamond"
         },
         "mode": "markers",
         "name": "Ga_Ka, i0 wt%",
         "showlegend": false,
         "type": "scatter",
         "x": [
          12
         ],
         "y": [
          0.209
         ]
        },
        {
         "legendgroup": "Sb_La",
         "marker": {
          "color": "#00CC96",
          "line": {
           "color": "Black",
           "width": 1
          },
          "size": 10,
          "symbol": "circle"
         },
         "mode": "markers",
         "name": "Sb_La, i wt%",
         "showlegend": false,
         "type": "scatter",
         "x": [
          12
         ],
         "y": [
          0.631
         ]
        },
        {
         "legendgroup": "Sb_La",
         "marker": {
          "color": "#00CC96",
          "line": {
           "color": "Black",
           "width": 1
          },
          "size": 10,
          "symbol": "x"
         },
         "mode": "markers",
         "name": "Sb_La, AZ at%",
         "showlegend": false,
         "type": "scatter",
         "x": [
          12
         ],
         "y": [
          0.4965
         ]
        },
        {
         "legendgroup": "Sb_La",
         "marker": {
          "color": "#00CC96",
          "line": {
           "color": "Black",
           "width": 1
          },
          "size": 10,
          "symbol": "diamond"
         },
         "mode": "markers",
         "name": "Sb_La, i0 wt%",
         "showlegend": false,
         "type": "scatter",
         "x": [
          12
         ],
         "y": [
          0.791
         ]
        },
        {
         "legendgroup": "Ga_Ka",
         "marker": {
          "color": "#EF553B",
          "line": {
           "color": "Black",
           "width": 0
          },
          "size": 10,
          "symbol": "circle"
         },
         "mode": "markers",
         "name": "Ga_Ka, i wt%",
         "showlegend": false,
         "type": "scatter",
         "x": [
          13
         ],
         "y": [
          0.358
         ]
        },
        {
         "legendgroup": "Ga_Ka",
         "marker": {
          "color": "#EF553B",
          "line": {
           "color": "Black",
           "width": 0
          },
          "size": 10,
          "symbol": "x"
         },
         "mode": "markers",
         "name": "Ga_Ka, AZ at%",
         "showlegend": false,
         "type": "scatter",
         "x": [
          13
         ],
         "y": [
          0.5015999999999999
         ]
        },
        {
         "legendgroup": "Ga_Ka",
         "marker": {
          "color": "#EF553B",
          "line": {
           "color": "Black",
           "width": 0
          },
          "size": 10,
          "symbol": "diamond"
         },
         "mode": "markers",
         "name": "Ga_Ka, i0 wt%",
         "showlegend": false,
         "type": "scatter",
         "x": [
          13
         ],
         "y": [
          0.202
         ]
        },
        {
         "legendgroup": "Sb_La",
         "marker": {
          "color": "#00CC96",
          "line": {
           "color": "Black",
           "width": 1
          },
          "size": 10,
          "symbol": "circle"
         },
         "mode": "markers",
         "name": "Sb_La, i wt%",
         "showlegend": false,
         "type": "scatter",
         "x": [
          13
         ],
         "y": [
          0.642
         ]
        },
        {
         "legendgroup": "Sb_La",
         "marker": {
          "color": "#00CC96",
          "line": {
           "color": "Black",
           "width": 1
          },
          "size": 10,
          "symbol": "x"
         },
         "mode": "markers",
         "name": "Sb_La, AZ at%",
         "showlegend": false,
         "type": "scatter",
         "x": [
          13
         ],
         "y": [
          0.4984
         ]
        },
        {
         "legendgroup": "Sb_La",
         "marker": {
          "color": "#00CC96",
          "line": {
           "color": "Black",
           "width": 1
          },
          "size": 10,
          "symbol": "diamond"
         },
         "mode": "markers",
         "name": "Sb_La, i0 wt%",
         "showlegend": false,
         "type": "scatter",
         "x": [
          13
         ],
         "y": [
          0.798
         ]
        },
        {
         "legendgroup": "Ga_Ka",
         "marker": {
          "color": "#EF553B",
          "line": {
           "color": "Black",
           "width": 0
          },
          "size": 10,
          "symbol": "circle"
         },
         "mode": "markers",
         "name": "Ga_Ka, i wt%",
         "showlegend": false,
         "type": "scatter",
         "x": [
          14
         ],
         "y": [
          0.35
         ]
        },
        {
         "legendgroup": "Ga_Ka",
         "marker": {
          "color": "#EF553B",
          "line": {
           "color": "Black",
           "width": 0
          },
          "size": 10,
          "symbol": "x"
         },
         "mode": "markers",
         "name": "Ga_Ka, AZ at%",
         "showlegend": false,
         "type": "scatter",
         "x": [
          14
         ],
         "y": [
          0.502
         ]
        },
        {
         "legendgroup": "Ga_Ka",
         "marker": {
          "color": "#EF553B",
          "line": {
           "color": "Black",
           "width": 0
          },
          "size": 10,
          "symbol": "diamond"
         },
         "mode": "markers",
         "name": "Ga_Ka, i0 wt%",
         "showlegend": false,
         "type": "scatter",
         "x": [
          14
         ],
         "y": [
          0.196
         ]
        },
        {
         "legendgroup": "Sb_La",
         "marker": {
          "color": "#00CC96",
          "line": {
           "color": "Black",
           "width": 1
          },
          "size": 10,
          "symbol": "circle"
         },
         "mode": "markers",
         "name": "Sb_La, i wt%",
         "showlegend": false,
         "type": "scatter",
         "x": [
          14
         ],
         "y": [
          0.65
         ]
        },
        {
         "legendgroup": "Sb_La",
         "marker": {
          "color": "#00CC96",
          "line": {
           "color": "Black",
           "width": 1
          },
          "size": 10,
          "symbol": "x"
         },
         "mode": "markers",
         "name": "Sb_La, AZ at%",
         "showlegend": false,
         "type": "scatter",
         "x": [
          14
         ],
         "y": [
          0.498
         ]
        },
        {
         "legendgroup": "Sb_La",
         "marker": {
          "color": "#00CC96",
          "line": {
           "color": "Black",
           "width": 1
          },
          "size": 10,
          "symbol": "diamond"
         },
         "mode": "markers",
         "name": "Sb_La, i0 wt%",
         "showlegend": false,
         "type": "scatter",
         "x": [
          14
         ],
         "y": [
          0.804
         ]
        },
        {
         "legendgroup": "Ga_La",
         "marker": {
          "color": "#EF553B",
          "line": {
           "color": "Black",
           "width": 1
          },
          "size": 10,
          "symbol": "circle"
         },
         "mode": "markers",
         "name": "Ga_La, i wt%",
         "showlegend": false,
         "type": "scatter",
         "x": [
          15
         ],
         "y": [
          0.495
         ]
        },
        {
         "legendgroup": "Ga_La",
         "marker": {
          "color": "#EF553B",
          "line": {
           "color": "Black",
           "width": 1
          },
          "size": 10,
          "symbol": "x"
         },
         "mode": "markers",
         "name": "Ga_La, AZ at%",
         "showlegend": false,
         "type": "scatter",
         "x": [
          15
         ],
         "y": [
          0.546
         ]
        },
        {
         "legendgroup": "Ga_La",
         "marker": {
          "color": "#EF553B",
          "line": {
           "color": "Black",
           "width": 1
          },
          "size": 10,
          "symbol": "diamond"
         },
         "mode": "markers",
         "name": "Ga_La, i0 wt%",
         "showlegend": false,
         "type": "scatter",
         "x": [
          15
         ],
         "y": [
          0.927
         ]
        },
        {
         "legendgroup": "Sb_La",
         "marker": {
          "color": "#00CC96",
          "line": {
           "color": "Black",
           "width": 1
          },
          "size": 10,
          "symbol": "circle"
         },
         "mode": "markers",
         "name": "Sb_La, i wt%",
         "showlegend": false,
         "type": "scatter",
         "x": [
          15
         ],
         "y": [
          0.505
         ]
        },
        {
         "legendgroup": "Sb_La",
         "marker": {
          "color": "#00CC96",
          "line": {
           "color": "Black",
           "width": 1
          },
          "size": 10,
          "symbol": "x"
         },
         "mode": "markers",
         "name": "Sb_La, AZ at%",
         "showlegend": false,
         "type": "scatter",
         "x": [
          15
         ],
         "y": [
          0.45399999999999996
         ]
        },
        {
         "legendgroup": "Sb_La",
         "marker": {
          "color": "#00CC96",
          "line": {
           "color": "Black",
           "width": 1
          },
          "size": 10,
          "symbol": "diamond"
         },
         "mode": "markers",
         "name": "Sb_La, i0 wt%",
         "showlegend": false,
         "type": "scatter",
         "x": [
          15
         ],
         "y": [
          0.073
         ]
        },
        {
         "legendgroup": "Ga_Ka",
         "marker": {
          "color": "#EF553B",
          "line": {
           "color": "Black",
           "width": 0
          },
          "size": 10,
          "symbol": "circle"
         },
         "mode": "markers",
         "name": "Ga_Ka, i wt%",
         "showlegend": false,
         "type": "scatter",
         "x": [
          16
         ],
         "y": [
          0.398
         ]
        },
        {
         "legendgroup": "Ga_Ka",
         "marker": {
          "color": "#EF553B",
          "line": {
           "color": "Black",
           "width": 0
          },
          "size": 10,
          "symbol": "x"
         },
         "mode": "markers",
         "name": "Ga_Ka, AZ at%",
         "showlegend": false,
         "type": "scatter",
         "x": [
          16
         ],
         "y": [
          0.5564
         ]
        },
        {
         "legendgroup": "Ga_Ka",
         "marker": {
          "color": "#EF553B",
          "line": {
           "color": "Black",
           "width": 0
          },
          "size": 10,
          "symbol": "diamond"
         },
         "mode": "markers",
         "name": "Ga_Ka, i0 wt%",
         "showlegend": false,
         "type": "scatter",
         "x": [
          16
         ],
         "y": [
          0.23
         ]
        },
        {
         "legendgroup": "Sb_La",
         "marker": {
          "color": "#00CC96",
          "line": {
           "color": "Black",
           "width": 1
          },
          "size": 10,
          "symbol": "circle"
         },
         "mode": "markers",
         "name": "Sb_La, i wt%",
         "showlegend": false,
         "type": "scatter",
         "x": [
          16
         ],
         "y": [
          0.602
         ]
        },
        {
         "legendgroup": "Sb_La",
         "marker": {
          "color": "#00CC96",
          "line": {
           "color": "Black",
           "width": 1
          },
          "size": 10,
          "symbol": "x"
         },
         "mode": "markers",
         "name": "Sb_La, AZ at%",
         "showlegend": false,
         "type": "scatter",
         "x": [
          16
         ],
         "y": [
          0.4436
         ]
        },
        {
         "legendgroup": "Sb_La",
         "marker": {
          "color": "#00CC96",
          "line": {
           "color": "Black",
           "width": 1
          },
          "size": 10,
          "symbol": "diamond"
         },
         "mode": "markers",
         "name": "Sb_La, i0 wt%",
         "showlegend": false,
         "type": "scatter",
         "x": [
          16
         ],
         "y": [
          0.77
         ]
        }
       ],
       "layout": {
        "height": 600,
        "legend": {
         "font": {
          "color": "black",
          "family": "sans-serif",
          "size": 12
         },
         "traceorder": "normal",
         "x": 1.01,
         "y": 0.5
        },
        "template": {
         "data": {
          "bar": [
           {
            "error_x": {
             "color": "#2a3f5f"
            },
            "error_y": {
             "color": "#2a3f5f"
            },
            "marker": {
             "line": {
              "color": "#E5ECF6",
              "width": 0.5
             },
             "pattern": {
              "fillmode": "overlay",
              "size": 10,
              "solidity": 0.2
             }
            },
            "type": "bar"
           }
          ],
          "barpolar": [
           {
            "marker": {
             "line": {
              "color": "#E5ECF6",
              "width": 0.5
             },
             "pattern": {
              "fillmode": "overlay",
              "size": 10,
              "solidity": 0.2
             }
            },
            "type": "barpolar"
           }
          ],
          "carpet": [
           {
            "aaxis": {
             "endlinecolor": "#2a3f5f",
             "gridcolor": "white",
             "linecolor": "white",
             "minorgridcolor": "white",
             "startlinecolor": "#2a3f5f"
            },
            "baxis": {
             "endlinecolor": "#2a3f5f",
             "gridcolor": "white",
             "linecolor": "white",
             "minorgridcolor": "white",
             "startlinecolor": "#2a3f5f"
            },
            "type": "carpet"
           }
          ],
          "choropleth": [
           {
            "colorbar": {
             "outlinewidth": 0,
             "ticks": ""
            },
            "type": "choropleth"
           }
          ],
          "contour": [
           {
            "colorbar": {
             "outlinewidth": 0,
             "ticks": ""
            },
            "colorscale": [
             [
              0,
              "#0d0887"
             ],
             [
              0.1111111111111111,
              "#46039f"
             ],
             [
              0.2222222222222222,
              "#7201a8"
             ],
             [
              0.3333333333333333,
              "#9c179e"
             ],
             [
              0.4444444444444444,
              "#bd3786"
             ],
             [
              0.5555555555555556,
              "#d8576b"
             ],
             [
              0.6666666666666666,
              "#ed7953"
             ],
             [
              0.7777777777777778,
              "#fb9f3a"
             ],
             [
              0.8888888888888888,
              "#fdca26"
             ],
             [
              1,
              "#f0f921"
             ]
            ],
            "type": "contour"
           }
          ],
          "contourcarpet": [
           {
            "colorbar": {
             "outlinewidth": 0,
             "ticks": ""
            },
            "type": "contourcarpet"
           }
          ],
          "heatmap": [
           {
            "colorbar": {
             "outlinewidth": 0,
             "ticks": ""
            },
            "colorscale": [
             [
              0,
              "#0d0887"
             ],
             [
              0.1111111111111111,
              "#46039f"
             ],
             [
              0.2222222222222222,
              "#7201a8"
             ],
             [
              0.3333333333333333,
              "#9c179e"
             ],
             [
              0.4444444444444444,
              "#bd3786"
             ],
             [
              0.5555555555555556,
              "#d8576b"
             ],
             [
              0.6666666666666666,
              "#ed7953"
             ],
             [
              0.7777777777777778,
              "#fb9f3a"
             ],
             [
              0.8888888888888888,
              "#fdca26"
             ],
             [
              1,
              "#f0f921"
             ]
            ],
            "type": "heatmap"
           }
          ],
          "heatmapgl": [
           {
            "colorbar": {
             "outlinewidth": 0,
             "ticks": ""
            },
            "colorscale": [
             [
              0,
              "#0d0887"
             ],
             [
              0.1111111111111111,
              "#46039f"
             ],
             [
              0.2222222222222222,
              "#7201a8"
             ],
             [
              0.3333333333333333,
              "#9c179e"
             ],
             [
              0.4444444444444444,
              "#bd3786"
             ],
             [
              0.5555555555555556,
              "#d8576b"
             ],
             [
              0.6666666666666666,
              "#ed7953"
             ],
             [
              0.7777777777777778,
              "#fb9f3a"
             ],
             [
              0.8888888888888888,
              "#fdca26"
             ],
             [
              1,
              "#f0f921"
             ]
            ],
            "type": "heatmapgl"
           }
          ],
          "histogram": [
           {
            "marker": {
             "pattern": {
              "fillmode": "overlay",
              "size": 10,
              "solidity": 0.2
             }
            },
            "type": "histogram"
           }
          ],
          "histogram2d": [
           {
            "colorbar": {
             "outlinewidth": 0,
             "ticks": ""
            },
            "colorscale": [
             [
              0,
              "#0d0887"
             ],
             [
              0.1111111111111111,
              "#46039f"
             ],
             [
              0.2222222222222222,
              "#7201a8"
             ],
             [
              0.3333333333333333,
              "#9c179e"
             ],
             [
              0.4444444444444444,
              "#bd3786"
             ],
             [
              0.5555555555555556,
              "#d8576b"
             ],
             [
              0.6666666666666666,
              "#ed7953"
             ],
             [
              0.7777777777777778,
              "#fb9f3a"
             ],
             [
              0.8888888888888888,
              "#fdca26"
             ],
             [
              1,
              "#f0f921"
             ]
            ],
            "type": "histogram2d"
           }
          ],
          "histogram2dcontour": [
           {
            "colorbar": {
             "outlinewidth": 0,
             "ticks": ""
            },
            "colorscale": [
             [
              0,
              "#0d0887"
             ],
             [
              0.1111111111111111,
              "#46039f"
             ],
             [
              0.2222222222222222,
              "#7201a8"
             ],
             [
              0.3333333333333333,
              "#9c179e"
             ],
             [
              0.4444444444444444,
              "#bd3786"
             ],
             [
              0.5555555555555556,
              "#d8576b"
             ],
             [
              0.6666666666666666,
              "#ed7953"
             ],
             [
              0.7777777777777778,
              "#fb9f3a"
             ],
             [
              0.8888888888888888,
              "#fdca26"
             ],
             [
              1,
              "#f0f921"
             ]
            ],
            "type": "histogram2dcontour"
           }
          ],
          "mesh3d": [
           {
            "colorbar": {
             "outlinewidth": 0,
             "ticks": ""
            },
            "type": "mesh3d"
           }
          ],
          "parcoords": [
           {
            "line": {
             "colorbar": {
              "outlinewidth": 0,
              "ticks": ""
             }
            },
            "type": "parcoords"
           }
          ],
          "pie": [
           {
            "automargin": true,
            "type": "pie"
           }
          ],
          "scatter": [
           {
            "fillpattern": {
             "fillmode": "overlay",
             "size": 10,
             "solidity": 0.2
            },
            "type": "scatter"
           }
          ],
          "scatter3d": [
           {
            "line": {
             "colorbar": {
              "outlinewidth": 0,
              "ticks": ""
             }
            },
            "marker": {
             "colorbar": {
              "outlinewidth": 0,
              "ticks": ""
             }
            },
            "type": "scatter3d"
           }
          ],
          "scattercarpet": [
           {
            "marker": {
             "colorbar": {
              "outlinewidth": 0,
              "ticks": ""
             }
            },
            "type": "scattercarpet"
           }
          ],
          "scattergeo": [
           {
            "marker": {
             "colorbar": {
              "outlinewidth": 0,
              "ticks": ""
             }
            },
            "type": "scattergeo"
           }
          ],
          "scattergl": [
           {
            "marker": {
             "colorbar": {
              "outlinewidth": 0,
              "ticks": ""
             }
            },
            "type": "scattergl"
           }
          ],
          "scattermapbox": [
           {
            "marker": {
             "colorbar": {
              "outlinewidth": 0,
              "ticks": ""
             }
            },
            "type": "scattermapbox"
           }
          ],
          "scatterpolar": [
           {
            "marker": {
             "colorbar": {
              "outlinewidth": 0,
              "ticks": ""
             }
            },
            "type": "scatterpolar"
           }
          ],
          "scatterpolargl": [
           {
            "marker": {
             "colorbar": {
              "outlinewidth": 0,
              "ticks": ""
             }
            },
            "type": "scatterpolargl"
           }
          ],
          "scatterternary": [
           {
            "marker": {
             "colorbar": {
              "outlinewidth": 0,
              "ticks": ""
             }
            },
            "type": "scatterternary"
           }
          ],
          "surface": [
           {
            "colorbar": {
             "outlinewidth": 0,
             "ticks": ""
            },
            "colorscale": [
             [
              0,
              "#0d0887"
             ],
             [
              0.1111111111111111,
              "#46039f"
             ],
             [
              0.2222222222222222,
              "#7201a8"
             ],
             [
              0.3333333333333333,
              "#9c179e"
             ],
             [
              0.4444444444444444,
              "#bd3786"
             ],
             [
              0.5555555555555556,
              "#d8576b"
             ],
             [
              0.6666666666666666,
              "#ed7953"
             ],
             [
              0.7777777777777778,
              "#fb9f3a"
             ],
             [
              0.8888888888888888,
              "#fdca26"
             ],
             [
              1,
              "#f0f921"
             ]
            ],
            "type": "surface"
           }
          ],
          "table": [
           {
            "cells": {
             "fill": {
              "color": "#EBF0F8"
             },
             "line": {
              "color": "white"
             }
            },
            "header": {
             "fill": {
              "color": "#C8D4E3"
             },
             "line": {
              "color": "white"
             }
            },
            "type": "table"
           }
          ]
         },
         "layout": {
          "annotationdefaults": {
           "arrowcolor": "#2a3f5f",
           "arrowhead": 0,
           "arrowwidth": 1
          },
          "autotypenumbers": "strict",
          "coloraxis": {
           "colorbar": {
            "outlinewidth": 0,
            "ticks": ""
           }
          },
          "colorscale": {
           "diverging": [
            [
             0,
             "#8e0152"
            ],
            [
             0.1,
             "#c51b7d"
            ],
            [
             0.2,
             "#de77ae"
            ],
            [
             0.3,
             "#f1b6da"
            ],
            [
             0.4,
             "#fde0ef"
            ],
            [
             0.5,
             "#f7f7f7"
            ],
            [
             0.6,
             "#e6f5d0"
            ],
            [
             0.7,
             "#b8e186"
            ],
            [
             0.8,
             "#7fbc41"
            ],
            [
             0.9,
             "#4d9221"
            ],
            [
             1,
             "#276419"
            ]
           ],
           "sequential": [
            [
             0,
             "#0d0887"
            ],
            [
             0.1111111111111111,
             "#46039f"
            ],
            [
             0.2222222222222222,
             "#7201a8"
            ],
            [
             0.3333333333333333,
             "#9c179e"
            ],
            [
             0.4444444444444444,
             "#bd3786"
            ],
            [
             0.5555555555555556,
             "#d8576b"
            ],
            [
             0.6666666666666666,
             "#ed7953"
            ],
            [
             0.7777777777777778,
             "#fb9f3a"
            ],
            [
             0.8888888888888888,
             "#fdca26"
            ],
            [
             1,
             "#f0f921"
            ]
           ],
           "sequentialminus": [
            [
             0,
             "#0d0887"
            ],
            [
             0.1111111111111111,
             "#46039f"
            ],
            [
             0.2222222222222222,
             "#7201a8"
            ],
            [
             0.3333333333333333,
             "#9c179e"
            ],
            [
             0.4444444444444444,
             "#bd3786"
            ],
            [
             0.5555555555555556,
             "#d8576b"
            ],
            [
             0.6666666666666666,
             "#ed7953"
            ],
            [
             0.7777777777777778,
             "#fb9f3a"
            ],
            [
             0.8888888888888888,
             "#fdca26"
            ],
            [
             1,
             "#f0f921"
            ]
           ]
          },
          "colorway": [
           "#636efa",
           "#EF553B",
           "#00cc96",
           "#ab63fa",
           "#FFA15A",
           "#19d3f3",
           "#FF6692",
           "#B6E880",
           "#FF97FF",
           "#FECB52"
          ],
          "font": {
           "color": "#2a3f5f"
          },
          "geo": {
           "bgcolor": "white",
           "lakecolor": "white",
           "landcolor": "#E5ECF6",
           "showlakes": true,
           "showland": true,
           "subunitcolor": "white"
          },
          "hoverlabel": {
           "align": "left"
          },
          "hovermode": "closest",
          "mapbox": {
           "style": "light"
          },
          "paper_bgcolor": "white",
          "plot_bgcolor": "#E5ECF6",
          "polar": {
           "angularaxis": {
            "gridcolor": "white",
            "linecolor": "white",
            "ticks": ""
           },
           "bgcolor": "#E5ECF6",
           "radialaxis": {
            "gridcolor": "white",
            "linecolor": "white",
            "ticks": ""
           }
          },
          "scene": {
           "xaxis": {
            "backgroundcolor": "#E5ECF6",
            "gridcolor": "white",
            "gridwidth": 2,
            "linecolor": "white",
            "showbackground": true,
            "ticks": "",
            "zerolinecolor": "white"
           },
           "yaxis": {
            "backgroundcolor": "#E5ECF6",
            "gridcolor": "white",
            "gridwidth": 2,
            "linecolor": "white",
            "showbackground": true,
            "ticks": "",
            "zerolinecolor": "white"
           },
           "zaxis": {
            "backgroundcolor": "#E5ECF6",
            "gridcolor": "white",
            "gridwidth": 2,
            "linecolor": "white",
            "showbackground": true,
            "ticks": "",
            "zerolinecolor": "white"
           }
          },
          "shapedefaults": {
           "line": {
            "color": "#2a3f5f"
           }
          },
          "ternary": {
           "aaxis": {
            "gridcolor": "white",
            "linecolor": "white",
            "ticks": ""
           },
           "baxis": {
            "gridcolor": "white",
            "linecolor": "white",
            "ticks": ""
           },
           "bgcolor": "#E5ECF6",
           "caxis": {
            "gridcolor": "white",
            "linecolor": "white",
            "ticks": ""
           }
          },
          "title": {
           "x": 0.05
          },
          "xaxis": {
           "automargin": true,
           "gridcolor": "white",
           "linecolor": "white",
           "ticks": "",
           "title": {
            "standoff": 15
           },
           "zerolinecolor": "white",
           "zerolinewidth": 2
          },
          "yaxis": {
           "automargin": true,
           "gridcolor": "white",
           "linecolor": "white",
           "ticks": "",
           "title": {
            "standoff": 15
           },
           "zerolinecolor": "white",
           "zerolinewidth": 2
          }
         }
        },
        "title": {
         "text": "AZtec at% and wt% for raw intensity (i, circle) and A-corrected intensity (i0, diamonds)"
        },
        "width": 1200,
        "xaxis": {
         "range": [
          -0.5,
          16.5
         ],
         "tickangle": 90,
         "ticktext": [
          "GaAs 05kV 25pA",
          "GaAs 15kV 25pA",
          "GaAs 30kV 25pA",
          "GaAs 30kV 50pA",
          "GaSb 05kV 50pA",
          "GaSb 10kV 50pA",
          "GaSb 15kV 200pA",
          "GaSb 15kV 400pA",
          "GaSb 15kV 50pA",
          "GaSb 30kV 400pA PT1",
          "GaSb 30kV 50pA",
          "GaSb 30kV 50pA noPPUC",
          "GaSb 30kV 50pA PT1",
          "GaSb 30kV 50pA PT2",
          "GaSb 30kV 50pA PT4",
          "GaSb scr 15kV 400pA PT3",
          "GaSb scr 30kV 25pA"
         ],
         "tickvals": [
          0,
          1,
          2,
          3,
          4,
          5,
          6,
          7,
          8,
          9,
          10,
          11,
          12,
          13,
          14,
          15,
          16
         ]
        },
        "yaxis": {
         "title": {
          "text": "Relative intensity"
         }
        }
       }
      }
     },
     "metadata": {},
     "output_type": "display_data"
    }
   ],
   "source": [
    "fig = go.Figure()\n",
    "legends = []\n",
    "for i in range(len(x)):\n",
    "    # col = colors[lines_list_plotting.index(line[i])]\n",
    "    col = colors[elements_list_plotting.index(df['Element'][i])]\n",
    "    showlegend = False if line[i] in legends else True\n",
    "    marker_line_width = 1 if (\"La\" in line[i]) else 0\n",
    "    fig.add_scatter(x=[x[i]], y=[df['i/i_sum'][i]], mode='markers', name=f'{line[i]}, i wt%', legendgroup=line[i], showlegend=showlegend,\n",
    "                    marker=dict(size=10, color=col, symbol='circle', line=dict(color='Black', width=marker_line_width)))\n",
    "    fig.add_scatter(x=[x[i]], y=[y2[i]], mode='markers', name=f'{line[i]}, AZ at%', marker_symbol='x', legendgroup=line[i], showlegend=showlegend,\n",
    "                    marker=dict(size=10, color=col, line=dict(color='Black', width=marker_line_width)))\n",
    "    fig.add_scatter(x=[x[i]], y=[df['i0/i0_sum'][i]], mode='markers', name=f'{line[i]}, i0 wt%', marker_symbol='diamond', legendgroup=line[i], showlegend=showlegend,\n",
    "                    marker=dict(size=10, color=col, line=dict(color='Black', width=marker_line_width)))\n",
    "    legends.append(f'{line[i]}')\n",
    "\n",
    "# x ticks are the filenames\n",
    "fig.update_xaxes(tickvals=df['x'].unique(), ticktext=df['Name'].unique(), tickangle=90, range=[-0.5, len(df['x'].unique())-0.5])\n",
    "# fig.update_yaxes(range=[0.33, 0.67])\n",
    "fig.update_layout(title='AZtec at% and wt% for raw intensity (i, circle) and A-corrected intensity (i0, diamonds)', yaxis_title='Relative intensity')\n",
    "fig.update_layout(height=600, width=1200)\n",
    "fig.update_layout(legend=dict(x=1.01, y=0.5, traceorder='normal', font=dict(family='sans-serif', size=12, color='black'))) \n",
    "fig.show()"
   ]
  },
  {
   "cell_type": "code",
   "execution_count": 66,
   "metadata": {},
   "outputs": [
    {
     "data": {
      "application/vnd.plotly.v1+json": {
       "config": {
        "plotlyServerURL": "https://plot.ly"
       },
       "data": [
        {
         "legendgroup": "As_La",
         "marker": {
          "color": "#636EFA",
          "line": {
           "color": "Black",
           "width": 1
          },
          "size": 10,
          "symbol": "circle"
         },
         "mode": "markers",
         "name": "As_La, i at%",
         "showlegend": true,
         "type": "scatter",
         "x": [
          0
         ],
         "y": [
          0.42731709602643764
         ]
        },
        {
         "legendgroup": "As_La",
         "marker": {
          "color": "#636EFA",
          "line": {
           "color": "Black",
           "width": 1
          },
          "size": 10,
          "symbol": "x"
         },
         "mode": "markers",
         "name": "As_La, AZ at%",
         "showlegend": true,
         "type": "scatter",
         "x": [
          0
         ],
         "y": [
          0.5342
         ]
        },
        {
         "legendgroup": "As_La",
         "marker": {
          "color": "#636EFA",
          "line": {
           "color": "Black",
           "width": 1
          },
          "size": 10,
          "symbol": "diamond"
         },
         "mode": "markers",
         "name": "As_La, i0 at%",
         "showlegend": true,
         "type": "scatter",
         "x": [
          0
         ],
         "y": [
          0.49602574796912563
         ]
        },
        {
         "legendgroup": "Ga_La",
         "marker": {
          "color": "#EF553B",
          "line": {
           "color": "Black",
           "width": 1
          },
          "size": 10,
          "symbol": "circle"
         },
         "mode": "markers",
         "name": "Ga_La, i at%",
         "showlegend": true,
         "type": "scatter",
         "x": [
          0
         ],
         "y": [
          0.5726829039735625
         ]
        },
        {
         "legendgroup": "Ga_La",
         "marker": {
          "color": "#EF553B",
          "line": {
           "color": "Black",
           "width": 1
          },
          "size": 10,
          "symbol": "x"
         },
         "mode": "markers",
         "name": "Ga_La, AZ at%",
         "showlegend": true,
         "type": "scatter",
         "x": [
          0
         ],
         "y": [
          0.4658
         ]
        },
        {
         "legendgroup": "Ga_La",
         "marker": {
          "color": "#EF553B",
          "line": {
           "color": "Black",
           "width": 1
          },
          "size": 10,
          "symbol": "diamond"
         },
         "mode": "markers",
         "name": "Ga_La, i0 at%",
         "showlegend": true,
         "type": "scatter",
         "x": [
          0
         ],
         "y": [
          0.5039742520308744
         ]
        },
        {
         "legendgroup": "As_La",
         "marker": {
          "color": "#636EFA",
          "line": {
           "color": "Black",
           "width": 1
          },
          "size": 10,
          "symbol": "circle"
         },
         "mode": "markers",
         "name": "As_La, i at%",
         "showlegend": false,
         "type": "scatter",
         "x": [
          1
         ],
         "y": [
          0.3573219832358993
         ]
        },
        {
         "legendgroup": "As_La",
         "marker": {
          "color": "#636EFA",
          "line": {
           "color": "Black",
           "width": 1
          },
          "size": 10,
          "symbol": "x"
         },
         "mode": "markers",
         "name": "As_La, AZ at%",
         "showlegend": false,
         "type": "scatter",
         "x": [
          1
         ],
         "y": [
          0.5062
         ]
        },
        {
         "legendgroup": "As_La",
         "marker": {
          "color": "#636EFA",
          "line": {
           "color": "Black",
           "width": 1
          },
          "size": 10,
          "symbol": "diamond"
         },
         "mode": "markers",
         "name": "As_La, i0 at%",
         "showlegend": false,
         "type": "scatter",
         "x": [
          1
         ],
         "y": [
          0.7601345008948003
         ]
        },
        {
         "legendgroup": "Ga_La",
         "marker": {
          "color": "#EF553B",
          "line": {
           "color": "Black",
           "width": 1
          },
          "size": 10,
          "symbol": "circle"
         },
         "mode": "markers",
         "name": "Ga_La, i at%",
         "showlegend": false,
         "type": "scatter",
         "x": [
          1
         ],
         "y": [
          0.6426780167641006
         ]
        },
        {
         "legendgroup": "Ga_La",
         "marker": {
          "color": "#EF553B",
          "line": {
           "color": "Black",
           "width": 1
          },
          "size": 10,
          "symbol": "x"
         },
         "mode": "markers",
         "name": "Ga_La, AZ at%",
         "showlegend": false,
         "type": "scatter",
         "x": [
          1
         ],
         "y": [
          0.4938
         ]
        },
        {
         "legendgroup": "Ga_La",
         "marker": {
          "color": "#EF553B",
          "line": {
           "color": "Black",
           "width": 1
          },
          "size": 10,
          "symbol": "diamond"
         },
         "mode": "markers",
         "name": "Ga_La, i0 at%",
         "showlegend": false,
         "type": "scatter",
         "x": [
          1
         ],
         "y": [
          0.2398654991051997
         ]
        },
        {
         "legendgroup": "As_Ka",
         "marker": {
          "color": "#636EFA",
          "line": {
           "color": "Black",
           "width": 0
          },
          "size": 10,
          "symbol": "circle"
         },
         "mode": "markers",
         "name": "As_Ka, i at%",
         "showlegend": true,
         "type": "scatter",
         "x": [
          2
         ],
         "y": [
          0.35634119260405606
         ]
        },
        {
         "legendgroup": "As_Ka",
         "marker": {
          "color": "#636EFA",
          "line": {
           "color": "Black",
           "width": 0
          },
          "size": 10,
          "symbol": "x"
         },
         "mode": "markers",
         "name": "As_Ka, AZ at%",
         "showlegend": true,
         "type": "scatter",
         "x": [
          2
         ],
         "y": [
          0.4841
         ]
        },
        {
         "legendgroup": "As_Ka",
         "marker": {
          "color": "#636EFA",
          "line": {
           "color": "Black",
           "width": 0
          },
          "size": 10,
          "symbol": "diamond"
         },
         "mode": "markers",
         "name": "As_Ka, i0 at%",
         "showlegend": true,
         "type": "scatter",
         "x": [
          2
         ],
         "y": [
          0.4006155435171267
         ]
        },
        {
         "legendgroup": "Ga_Ka",
         "marker": {
          "color": "#EF553B",
          "line": {
           "color": "Black",
           "width": 0
          },
          "size": 10,
          "symbol": "circle"
         },
         "mode": "markers",
         "name": "Ga_Ka, i at%",
         "showlegend": true,
         "type": "scatter",
         "x": [
          2
         ],
         "y": [
          0.6436588073959439
         ]
        },
        {
         "legendgroup": "Ga_Ka",
         "marker": {
          "color": "#EF553B",
          "line": {
           "color": "Black",
           "width": 0
          },
          "size": 10,
          "symbol": "x"
         },
         "mode": "markers",
         "name": "Ga_Ka, AZ at%",
         "showlegend": true,
         "type": "scatter",
         "x": [
          2
         ],
         "y": [
          0.5159
         ]
        },
        {
         "legendgroup": "Ga_Ka",
         "marker": {
          "color": "#EF553B",
          "line": {
           "color": "Black",
           "width": 0
          },
          "size": 10,
          "symbol": "diamond"
         },
         "mode": "markers",
         "name": "Ga_Ka, i0 at%",
         "showlegend": true,
         "type": "scatter",
         "x": [
          2
         ],
         "y": [
          0.5993844564828732
         ]
        },
        {
         "legendgroup": "As_Ka",
         "marker": {
          "color": "#636EFA",
          "line": {
           "color": "Black",
           "width": 0
          },
          "size": 10,
          "symbol": "circle"
         },
         "mode": "markers",
         "name": "As_Ka, i at%",
         "showlegend": false,
         "type": "scatter",
         "x": [
          3
         ],
         "y": [
          0.355360541687171
         ]
        },
        {
         "legendgroup": "As_Ka",
         "marker": {
          "color": "#636EFA",
          "line": {
           "color": "Black",
           "width": 0
          },
          "size": 10,
          "symbol": "x"
         },
         "mode": "markers",
         "name": "As_Ka, AZ at%",
         "showlegend": false,
         "type": "scatter",
         "x": [
          3
         ],
         "y": [
          0.48310000000000003
         ]
        },
        {
         "legendgroup": "As_Ka",
         "marker": {
          "color": "#636EFA",
          "line": {
           "color": "Black",
           "width": 0
          },
          "size": 10,
          "symbol": "diamond"
         },
         "mode": "markers",
         "name": "As_Ka, i0 at%",
         "showlegend": false,
         "type": "scatter",
         "x": [
          3
         ],
         "y": [
          0.3996285757442625
         ]
        },
        {
         "legendgroup": "Ga_Ka",
         "marker": {
          "color": "#EF553B",
          "line": {
           "color": "Black",
           "width": 0
          },
          "size": 10,
          "symbol": "circle"
         },
         "mode": "markers",
         "name": "Ga_Ka, i at%",
         "showlegend": false,
         "type": "scatter",
         "x": [
          3
         ],
         "y": [
          0.644639458312829
         ]
        },
        {
         "legendgroup": "Ga_Ka",
         "marker": {
          "color": "#EF553B",
          "line": {
           "color": "Black",
           "width": 0
          },
          "size": 10,
          "symbol": "x"
         },
         "mode": "markers",
         "name": "Ga_Ka, AZ at%",
         "showlegend": false,
         "type": "scatter",
         "x": [
          3
         ],
         "y": [
          0.5169
         ]
        },
        {
         "legendgroup": "Ga_Ka",
         "marker": {
          "color": "#EF553B",
          "line": {
           "color": "Black",
           "width": 0
          },
          "size": 10,
          "symbol": "diamond"
         },
         "mode": "markers",
         "name": "Ga_Ka, i0 at%",
         "showlegend": false,
         "type": "scatter",
         "x": [
          3
         ],
         "y": [
          0.6003714242557375
         ]
        },
        {
         "legendgroup": "Ga_La",
         "marker": {
          "color": "#EF553B",
          "line": {
           "color": "Black",
           "width": 1
          },
          "size": 10,
          "symbol": "circle"
         },
         "mode": "markers",
         "name": "Ga_La, i at%",
         "showlegend": false,
         "type": "scatter",
         "x": [
          4
         ],
         "y": [
          0.9713411488902371
         ]
        },
        {
         "legendgroup": "Ga_La",
         "marker": {
          "color": "#EF553B",
          "line": {
           "color": "Black",
           "width": 1
          },
          "size": 10,
          "symbol": "x"
         },
         "mode": "markers",
         "name": "Ga_La, AZ at%",
         "showlegend": false,
         "type": "scatter",
         "x": [
          4
         ],
         "y": [
          0.39030000000000004
         ]
        },
        {
         "legendgroup": "Ga_La",
         "marker": {
          "color": "#EF553B",
          "line": {
           "color": "Black",
           "width": 1
          },
          "size": 10,
          "symbol": "diamond"
         },
         "mode": "markers",
         "name": "Ga_La, i0 at%",
         "showlegend": false,
         "type": "scatter",
         "x": [
          4
         ],
         "y": [
          0.9808330078729683
         ]
        },
        {
         "legendgroup": "Sb_La",
         "marker": {
          "color": "#00CC96",
          "line": {
           "color": "Black",
           "width": 1
          },
          "size": 10,
          "symbol": "circle"
         },
         "mode": "markers",
         "name": "Sb_La, i at%",
         "showlegend": true,
         "type": "scatter",
         "x": [
          4
         ],
         "y": [
          0.02865885110976296
         ]
        },
        {
         "legendgroup": "Sb_La",
         "marker": {
          "color": "#00CC96",
          "line": {
           "color": "Black",
           "width": 1
          },
          "size": 10,
          "symbol": "x"
         },
         "mode": "markers",
         "name": "Sb_La, AZ at%",
         "showlegend": true,
         "type": "scatter",
         "x": [
          4
         ],
         "y": [
          0.6097
         ]
        },
        {
         "legendgroup": "Sb_La",
         "marker": {
          "color": "#00CC96",
          "line": {
           "color": "Black",
           "width": 1
          },
          "size": 10,
          "symbol": "diamond"
         },
         "mode": "markers",
         "name": "Sb_La, i0 at%",
         "showlegend": true,
         "type": "scatter",
         "x": [
          4
         ],
         "y": [
          0.019166992127031646
         ]
        },
        {
         "legendgroup": "Ga_La",
         "marker": {
          "color": "#EF553B",
          "line": {
           "color": "Black",
           "width": 1
          },
          "size": 10,
          "symbol": "circle"
         },
         "mode": "markers",
         "name": "Ga_La, i at%",
         "showlegend": false,
         "type": "scatter",
         "x": [
          5
         ],
         "y": [
          0.7483324685085241
         ]
        },
        {
         "legendgroup": "Ga_La",
         "marker": {
          "color": "#EF553B",
          "line": {
           "color": "Black",
           "width": 1
          },
          "size": 10,
          "symbol": "x"
         },
         "mode": "markers",
         "name": "Ga_La, AZ at%",
         "showlegend": false,
         "type": "scatter",
         "x": [
          5
         ],
         "y": [
          0.4678
         ]
        },
        {
         "legendgroup": "Ga_La",
         "marker": {
          "color": "#EF553B",
          "line": {
           "color": "Black",
           "width": 1
          },
          "size": 10,
          "symbol": "diamond"
         },
         "mode": "markers",
         "name": "Ga_La, i0 at%",
         "showlegend": false,
         "type": "scatter",
         "x": [
          5
         ],
         "y": [
          0.9166712603948056
         ]
        },
        {
         "legendgroup": "Sb_La",
         "marker": {
          "color": "#00CC96",
          "line": {
           "color": "Black",
           "width": 1
          },
          "size": 10,
          "symbol": "circle"
         },
         "mode": "markers",
         "name": "Sb_La, i at%",
         "showlegend": false,
         "type": "scatter",
         "x": [
          5
         ],
         "y": [
          0.251667531491476
         ]
        },
        {
         "legendgroup": "Sb_La",
         "marker": {
          "color": "#00CC96",
          "line": {
           "color": "Black",
           "width": 1
          },
          "size": 10,
          "symbol": "x"
         },
         "mode": "markers",
         "name": "Sb_La, AZ at%",
         "showlegend": false,
         "type": "scatter",
         "x": [
          5
         ],
         "y": [
          0.5322
         ]
        },
        {
         "legendgroup": "Sb_La",
         "marker": {
          "color": "#00CC96",
          "line": {
           "color": "Black",
           "width": 1
          },
          "size": 10,
          "symbol": "diamond"
         },
         "mode": "markers",
         "name": "Sb_La, i0 at%",
         "showlegend": false,
         "type": "scatter",
         "x": [
          5
         ],
         "y": [
          0.08332873960519435
         ]
        },
        {
         "legendgroup": "Ga_La",
         "marker": {
          "color": "#EF553B",
          "line": {
           "color": "Black",
           "width": 1
          },
          "size": 10,
          "symbol": "circle"
         },
         "mode": "markers",
         "name": "Ga_La, i at%",
         "showlegend": false,
         "type": "scatter",
         "x": [
          6
         ],
         "y": [
          0.5744693182635183
         ]
        },
        {
         "legendgroup": "Ga_La",
         "marker": {
          "color": "#EF553B",
          "line": {
           "color": "Black",
           "width": 1
          },
          "size": 10,
          "symbol": "x"
         },
         "mode": "markers",
         "name": "Ga_La, AZ at%",
         "showlegend": false,
         "type": "scatter",
         "x": [
          6
         ],
         "y": [
          0.48710000000000003
         ]
        },
        {
         "legendgroup": "Ga_La",
         "marker": {
          "color": "#EF553B",
          "line": {
           "color": "Black",
           "width": 1
          },
          "size": 10,
          "symbol": "diamond"
         },
         "mode": "markers",
         "name": "Ga_La, i0 at%",
         "showlegend": false,
         "type": "scatter",
         "x": [
          6
         ],
         "y": [
          0.9464020457705195
         ]
        },
        {
         "legendgroup": "Sb_La",
         "marker": {
          "color": "#00CC96",
          "line": {
           "color": "Black",
           "width": 1
          },
          "size": 10,
          "symbol": "circle"
         },
         "mode": "markers",
         "name": "Sb_La, i at%",
         "showlegend": false,
         "type": "scatter",
         "x": [
          6
         ],
         "y": [
          0.4255306817364817
         ]
        },
        {
         "legendgroup": "Sb_La",
         "marker": {
          "color": "#00CC96",
          "line": {
           "color": "Black",
           "width": 1
          },
          "size": 10,
          "symbol": "x"
         },
         "mode": "markers",
         "name": "Sb_La, AZ at%",
         "showlegend": false,
         "type": "scatter",
         "x": [
          6
         ],
         "y": [
          0.5129
         ]
        },
        {
         "legendgroup": "Sb_La",
         "marker": {
          "color": "#00CC96",
          "line": {
           "color": "Black",
           "width": 1
          },
          "size": 10,
          "symbol": "diamond"
         },
         "mode": "markers",
         "name": "Sb_La, i0 at%",
         "showlegend": false,
         "type": "scatter",
         "x": [
          6
         ],
         "y": [
          0.05359795422948056
         ]
        },
        {
         "legendgroup": "Ga_La",
         "marker": {
          "color": "#EF553B",
          "line": {
           "color": "Black",
           "width": 1
          },
          "size": 10,
          "symbol": "circle"
         },
         "mode": "markers",
         "name": "Ga_La, i at%",
         "showlegend": false,
         "type": "scatter",
         "x": [
          7
         ],
         "y": [
          0.5744693182635183
         ]
        },
        {
         "legendgroup": "Ga_La",
         "marker": {
          "color": "#EF553B",
          "line": {
           "color": "Black",
           "width": 1
          },
          "size": 10,
          "symbol": "x"
         },
         "mode": "markers",
         "name": "Ga_La, AZ at%",
         "showlegend": false,
         "type": "scatter",
         "x": [
          7
         ],
         "y": [
          0.48719999999999997
         ]
        },
        {
         "legendgroup": "Ga_La",
         "marker": {
          "color": "#EF553B",
          "line": {
           "color": "Black",
           "width": 1
          },
          "size": 10,
          "symbol": "diamond"
         },
         "mode": "markers",
         "name": "Ga_La, i0 at%",
         "showlegend": false,
         "type": "scatter",
         "x": [
          7
         ],
         "y": [
          0.9464020457705195
         ]
        },
        {
         "legendgroup": "Sb_La",
         "marker": {
          "color": "#00CC96",
          "line": {
           "color": "Black",
           "width": 1
          },
          "size": 10,
          "symbol": "circle"
         },
         "mode": "markers",
         "name": "Sb_La, i at%",
         "showlegend": false,
         "type": "scatter",
         "x": [
          7
         ],
         "y": [
          0.4255306817364817
         ]
        },
        {
         "legendgroup": "Sb_La",
         "marker": {
          "color": "#00CC96",
          "line": {
           "color": "Black",
           "width": 1
          },
          "size": 10,
          "symbol": "x"
         },
         "mode": "markers",
         "name": "Sb_La, AZ at%",
         "showlegend": false,
         "type": "scatter",
         "x": [
          7
         ],
         "y": [
          0.5128
         ]
        },
        {
         "legendgroup": "Sb_La",
         "marker": {
          "color": "#00CC96",
          "line": {
           "color": "Black",
           "width": 1
          },
          "size": 10,
          "symbol": "diamond"
         },
         "mode": "markers",
         "name": "Sb_La, i0 at%",
         "showlegend": false,
         "type": "scatter",
         "x": [
          7
         ],
         "y": [
          0.05359795422948056
         ]
        },
        {
         "legendgroup": "Ga_La",
         "marker": {
          "color": "#EF553B",
          "line": {
           "color": "Black",
           "width": 1
          },
          "size": 10,
          "symbol": "circle"
         },
         "mode": "markers",
         "name": "Ga_La, i at%",
         "showlegend": false,
         "type": "scatter",
         "x": [
          8
         ],
         "y": [
          0.5804138620783714
         ]
        },
        {
         "legendgroup": "Ga_La",
         "marker": {
          "color": "#EF553B",
          "line": {
           "color": "Black",
           "width": 1
          },
          "size": 10,
          "symbol": "x"
         },
         "mode": "markers",
         "name": "Ga_La, AZ at%",
         "showlegend": false,
         "type": "scatter",
         "x": [
          8
         ],
         "y": [
          0.4911
         ]
        },
        {
         "legendgroup": "Ga_La",
         "marker": {
          "color": "#EF553B",
          "line": {
           "color": "Black",
           "width": 1
          },
          "size": 10,
          "symbol": "diamond"
         },
         "mode": "markers",
         "name": "Ga_La, i0 at%",
         "showlegend": false,
         "type": "scatter",
         "x": [
          8
         ],
         "y": [
          0.9476396565633685
         ]
        },
        {
         "legendgroup": "Sb_La",
         "marker": {
          "color": "#00CC96",
          "line": {
           "color": "Black",
           "width": 1
          },
          "size": 10,
          "symbol": "circle"
         },
         "mode": "markers",
         "name": "Sb_La, i at%",
         "showlegend": false,
         "type": "scatter",
         "x": [
          8
         ],
         "y": [
          0.4195861379216287
         ]
        },
        {
         "legendgroup": "Sb_La",
         "marker": {
          "color": "#00CC96",
          "line": {
           "color": "Black",
           "width": 1
          },
          "size": 10,
          "symbol": "x"
         },
         "mode": "markers",
         "name": "Sb_La, AZ at%",
         "showlegend": false,
         "type": "scatter",
         "x": [
          8
         ],
         "y": [
          0.5089
         ]
        },
        {
         "legendgroup": "Sb_La",
         "marker": {
          "color": "#00CC96",
          "line": {
           "color": "Black",
           "width": 1
          },
          "size": 10,
          "symbol": "diamond"
         },
         "mode": "markers",
         "name": "Sb_La, i0 at%",
         "showlegend": false,
         "type": "scatter",
         "x": [
          8
         ],
         "y": [
          0.052360343436631526
         ]
        },
        {
         "legendgroup": "Ga_Ka",
         "marker": {
          "color": "#EF553B",
          "line": {
           "color": "Black",
           "width": 0
          },
          "size": 10,
          "symbol": "circle"
         },
         "mode": "markers",
         "name": "Ga_Ka, i at%",
         "showlegend": false,
         "type": "scatter",
         "x": [
          9
         ],
         "y": [
          0.5009484988165392
         ]
        },
        {
         "legendgroup": "Ga_Ka",
         "marker": {
          "color": "#EF553B",
          "line": {
           "color": "Black",
           "width": 0
          },
          "size": 10,
          "symbol": "x"
         },
         "mode": "markers",
         "name": "Ga_Ka, AZ at%",
         "showlegend": false,
         "type": "scatter",
         "x": [
          9
         ],
         "y": [
          0.5004
         ]
        },
        {
         "legendgroup": "Ga_Ka",
         "marker": {
          "color": "#EF553B",
          "line": {
           "color": "Black",
           "width": 0
          },
          "size": 10,
          "symbol": "diamond"
         },
         "mode": "markers",
         "name": "Ga_Ka, i0 at%",
         "showlegend": false,
         "type": "scatter",
         "x": [
          9
         ],
         "y": [
          0.3118068428948027
         ]
        },
        {
         "legendgroup": "Sb_La",
         "marker": {
          "color": "#00CC96",
          "line": {
           "color": "Black",
           "width": 1
          },
          "size": 10,
          "symbol": "circle"
         },
         "mode": "markers",
         "name": "Sb_La, i at%",
         "showlegend": false,
         "type": "scatter",
         "x": [
          9
         ],
         "y": [
          0.49905150118346076
         ]
        },
        {
         "legendgroup": "Sb_La",
         "marker": {
          "color": "#00CC96",
          "line": {
           "color": "Black",
           "width": 1
          },
          "size": 10,
          "symbol": "x"
         },
         "mode": "markers",
         "name": "Sb_La, AZ at%",
         "showlegend": false,
         "type": "scatter",
         "x": [
          9
         ],
         "y": [
          0.4996
         ]
        },
        {
         "legendgroup": "Sb_La",
         "marker": {
          "color": "#00CC96",
          "line": {
           "color": "Black",
           "width": 1
          },
          "size": 10,
          "symbol": "diamond"
         },
         "mode": "markers",
         "name": "Sb_La, i0 at%",
         "showlegend": false,
         "type": "scatter",
         "x": [
          9
         ],
         "y": [
          0.6881931571051974
         ]
        },
        {
         "legendgroup": "Ga_Ka",
         "marker": {
          "color": "#EF553B",
          "line": {
           "color": "Black",
           "width": 0
          },
          "size": 10,
          "symbol": "circle"
         },
         "mode": "markers",
         "name": "Ga_Ka, i at%",
         "showlegend": false,
         "type": "scatter",
         "x": [
          10
         ],
         "y": [
          0.48132601382419943
         ]
        },
        {
         "legendgroup": "Ga_Ka",
         "marker": {
          "color": "#EF553B",
          "line": {
           "color": "Black",
           "width": 0
          },
          "size": 10,
          "symbol": "x"
         },
         "mode": "markers",
         "name": "Ga_Ka, AZ at%",
         "showlegend": false,
         "type": "scatter",
         "x": [
          10
         ],
         "y": [
          0.5023
         ]
        },
        {
         "legendgroup": "Ga_Ka",
         "marker": {
          "color": "#EF553B",
          "line": {
           "color": "Black",
           "width": 0
          },
          "size": 10,
          "symbol": "diamond"
         },
         "mode": "markers",
         "name": "Ga_Ka, i0 at%",
         "showlegend": false,
         "type": "scatter",
         "x": [
          10
         ],
         "y": [
          0.2959406064117375
         ]
        },
        {
         "legendgroup": "Sb_La",
         "marker": {
          "color": "#00CC96",
          "line": {
           "color": "Black",
           "width": 1
          },
          "size": 10,
          "symbol": "circle"
         },
         "mode": "markers",
         "name": "Sb_La, i at%",
         "showlegend": false,
         "type": "scatter",
         "x": [
          10
         ],
         "y": [
          0.5186739861758006
         ]
        },
        {
         "legendgroup": "Sb_La",
         "marker": {
          "color": "#00CC96",
          "line": {
           "color": "Black",
           "width": 1
          },
          "size": 10,
          "symbol": "x"
         },
         "mode": "markers",
         "name": "Sb_La, AZ at%",
         "showlegend": false,
         "type": "scatter",
         "x": [
          10
         ],
         "y": [
          0.49770000000000003
         ]
        },
        {
         "legendgroup": "Sb_La",
         "marker": {
          "color": "#00CC96",
          "line": {
           "color": "Black",
           "width": 1
          },
          "size": 10,
          "symbol": "diamond"
         },
         "mode": "markers",
         "name": "Sb_La, i0 at%",
         "showlegend": false,
         "type": "scatter",
         "x": [
          10
         ],
         "y": [
          0.7040593935882625
         ]
        },
        {
         "legendgroup": "Ga_Ka",
         "marker": {
          "color": "#EF553B",
          "line": {
           "color": "Black",
           "width": 0
          },
          "size": 10,
          "symbol": "circle"
         },
         "mode": "markers",
         "name": "Ga_Ka, i at%",
         "showlegend": false,
         "type": "scatter",
         "x": [
          11
         ],
         "y": [
          0.48242713158033884
         ]
        },
        {
         "legendgroup": "Ga_Ka",
         "marker": {
          "color": "#EF553B",
          "line": {
           "color": "Black",
           "width": 0
          },
          "size": 10,
          "symbol": "x"
         },
         "mode": "markers",
         "name": "Ga_Ka, AZ at%",
         "showlegend": false,
         "type": "scatter",
         "x": [
          11
         ],
         "y": [
          0.5023
         ]
        },
        {
         "legendgroup": "Ga_Ka",
         "marker": {
          "color": "#EF553B",
          "line": {
           "color": "Black",
           "width": 0
          },
          "size": 10,
          "symbol": "diamond"
         },
         "mode": "markers",
         "name": "Ga_Ka, i0 at%",
         "showlegend": false,
         "type": "scatter",
         "x": [
          11
         ],
         "y": [
          0.2959406064117375
         ]
        },
        {
         "legendgroup": "Sb_La",
         "marker": {
          "color": "#00CC96",
          "line": {
           "color": "Black",
           "width": 1
          },
          "size": 10,
          "symbol": "circle"
         },
         "mode": "markers",
         "name": "Sb_La, i at%",
         "showlegend": false,
         "type": "scatter",
         "x": [
          11
         ],
         "y": [
          0.5175728684196612
         ]
        },
        {
         "legendgroup": "Sb_La",
         "marker": {
          "color": "#00CC96",
          "line": {
           "color": "Black",
           "width": 1
          },
          "size": 10,
          "symbol": "x"
         },
         "mode": "markers",
         "name": "Sb_La, AZ at%",
         "showlegend": false,
         "type": "scatter",
         "x": [
          11
         ],
         "y": [
          0.49770000000000003
         ]
        },
        {
         "legendgroup": "Sb_La",
         "marker": {
          "color": "#00CC96",
          "line": {
           "color": "Black",
           "width": 1
          },
          "size": 10,
          "symbol": "diamond"
         },
         "mode": "markers",
         "name": "Sb_La, i0 at%",
         "showlegend": false,
         "type": "scatter",
         "x": [
          11
         ],
         "y": [
          0.7040593935882625
         ]
        },
        {
         "legendgroup": "Ga_Ka",
         "marker": {
          "color": "#EF553B",
          "line": {
           "color": "Black",
           "width": 0
          },
          "size": 10,
          "symbol": "circle"
         },
         "mode": "markers",
         "name": "Ga_Ka, i at%",
         "showlegend": false,
         "type": "scatter",
         "x": [
          12
         ],
         "y": [
          0.505252913384998
         ]
        },
        {
         "legendgroup": "Ga_Ka",
         "marker": {
          "color": "#EF553B",
          "line": {
           "color": "Black",
           "width": 0
          },
          "size": 10,
          "symbol": "x"
         },
         "mode": "markers",
         "name": "Ga_Ka, AZ at%",
         "showlegend": false,
         "type": "scatter",
         "x": [
          12
         ],
         "y": [
          0.5035000000000001
         ]
        },
        {
         "legendgroup": "Ga_Ka",
         "marker": {
          "color": "#EF553B",
          "line": {
           "color": "Black",
           "width": 0
          },
          "size": 10,
          "symbol": "diamond"
         },
         "mode": "markers",
         "name": "Ga_Ka, i0 at%",
         "showlegend": false,
         "type": "scatter",
         "x": [
          12
         ],
         "y": [
          0.31573498804255395
         ]
        },
        {
         "legendgroup": "Sb_La",
         "marker": {
          "color": "#00CC96",
          "line": {
           "color": "Black",
           "width": 1
          },
          "size": 10,
          "symbol": "circle"
         },
         "mode": "markers",
         "name": "Sb_La, i at%",
         "showlegend": false,
         "type": "scatter",
         "x": [
          12
         ],
         "y": [
          0.4947470866150021
         ]
        },
        {
         "legendgroup": "Sb_La",
         "marker": {
          "color": "#00CC96",
          "line": {
           "color": "Black",
           "width": 1
          },
          "size": 10,
          "symbol": "x"
         },
         "mode": "markers",
         "name": "Sb_La, AZ at%",
         "showlegend": false,
         "type": "scatter",
         "x": [
          12
         ],
         "y": [
          0.4965
         ]
        },
        {
         "legendgroup": "Sb_La",
         "marker": {
          "color": "#00CC96",
          "line": {
           "color": "Black",
           "width": 1
          },
          "size": 10,
          "symbol": "diamond"
         },
         "mode": "markers",
         "name": "Sb_La, i0 at%",
         "showlegend": false,
         "type": "scatter",
         "x": [
          12
         ],
         "y": [
          0.684265011957446
         ]
        },
        {
         "legendgroup": "Ga_Ka",
         "marker": {
          "color": "#EF553B",
          "line": {
           "color": "Black",
           "width": 0
          },
          "size": 10,
          "symbol": "circle"
         },
         "mode": "markers",
         "name": "Ga_Ka, i at%",
         "showlegend": false,
         "type": "scatter",
         "x": [
          13
         ],
         "y": [
          0.4933669711124265
         ]
        },
        {
         "legendgroup": "Ga_Ka",
         "marker": {
          "color": "#EF553B",
          "line": {
           "color": "Black",
           "width": 0
          },
          "size": 10,
          "symbol": "x"
         },
         "mode": "markers",
         "name": "Ga_Ka, AZ at%",
         "showlegend": false,
         "type": "scatter",
         "x": [
          13
         ],
         "y": [
          0.5015999999999999
         ]
        },
        {
         "legendgroup": "Ga_Ka",
         "marker": {
          "color": "#EF553B",
          "line": {
           "color": "Black",
           "width": 0
          },
          "size": 10,
          "symbol": "diamond"
         },
         "mode": "markers",
         "name": "Ga_Ka, i0 at%",
         "showlegend": false,
         "type": "scatter",
         "x": [
          13
         ],
         "y": [
          0.3065455380189817
         ]
        },
        {
         "legendgroup": "Sb_La",
         "marker": {
          "color": "#00CC96",
          "line": {
           "color": "Black",
           "width": 1
          },
          "size": 10,
          "symbol": "circle"
         },
         "mode": "markers",
         "name": "Sb_La, i at%",
         "showlegend": false,
         "type": "scatter",
         "x": [
          13
         ],
         "y": [
          0.5066330288875734
         ]
        },
        {
         "legendgroup": "Sb_La",
         "marker": {
          "color": "#00CC96",
          "line": {
           "color": "Black",
           "width": 1
          },
          "size": 10,
          "symbol": "x"
         },
         "mode": "markers",
         "name": "Sb_La, AZ at%",
         "showlegend": false,
         "type": "scatter",
         "x": [
          13
         ],
         "y": [
          0.4984
         ]
        },
        {
         "legendgroup": "Sb_La",
         "marker": {
          "color": "#00CC96",
          "line": {
           "color": "Black",
           "width": 1
          },
          "size": 10,
          "symbol": "diamond"
         },
         "mode": "markers",
         "name": "Sb_La, i0 at%",
         "showlegend": false,
         "type": "scatter",
         "x": [
          13
         ],
         "y": [
          0.6934544619810182
         ]
        },
        {
         "legendgroup": "Ga_Ka",
         "marker": {
          "color": "#EF553B",
          "line": {
           "color": "Black",
           "width": 0
          },
          "size": 10,
          "symbol": "circle"
         },
         "mode": "markers",
         "name": "Ga_Ka, i at%",
         "showlegend": false,
         "type": "scatter",
         "x": [
          14
         ],
         "y": [
          0.4846254575062872
         ]
        },
        {
         "legendgroup": "Ga_Ka",
         "marker": {
          "color": "#EF553B",
          "line": {
           "color": "Black",
           "width": 0
          },
          "size": 10,
          "symbol": "x"
         },
         "mode": "markers",
         "name": "Ga_Ka, AZ at%",
         "showlegend": false,
         "type": "scatter",
         "x": [
          14
         ],
         "y": [
          0.502
         ]
        },
        {
         "legendgroup": "Ga_Ka",
         "marker": {
          "color": "#EF553B",
          "line": {
           "color": "Black",
           "width": 0
          },
          "size": 10,
          "symbol": "diamond"
         },
         "mode": "markers",
         "name": "Ga_Ka, i0 at%",
         "showlegend": false,
         "type": "scatter",
         "x": [
          14
         ],
         "y": [
          0.298602196544712
         ]
        },
        {
         "legendgroup": "Sb_La",
         "marker": {
          "color": "#00CC96",
          "line": {
           "color": "Black",
           "width": 1
          },
          "size": 10,
          "symbol": "circle"
         },
         "mode": "markers",
         "name": "Sb_La, i at%",
         "showlegend": false,
         "type": "scatter",
         "x": [
          14
         ],
         "y": [
          0.5153745424937127
         ]
        },
        {
         "legendgroup": "Sb_La",
         "marker": {
          "color": "#00CC96",
          "line": {
           "color": "Black",
           "width": 1
          },
          "size": 10,
          "symbol": "x"
         },
         "mode": "markers",
         "name": "Sb_La, AZ at%",
         "showlegend": false,
         "type": "scatter",
         "x": [
          14
         ],
         "y": [
          0.498
         ]
        },
        {
         "legendgroup": "Sb_La",
         "marker": {
          "color": "#00CC96",
          "line": {
           "color": "Black",
           "width": 1
          },
          "size": 10,
          "symbol": "diamond"
         },
         "mode": "markers",
         "name": "Sb_La, i0 at%",
         "showlegend": false,
         "type": "scatter",
         "x": [
          14
         ],
         "y": [
          0.701397803455288
         ]
        },
        {
         "legendgroup": "Ga_La",
         "marker": {
          "color": "#EF553B",
          "line": {
           "color": "Black",
           "width": 1
          },
          "size": 10,
          "symbol": "circle"
         },
         "mode": "markers",
         "name": "Ga_La, i at%",
         "showlegend": false,
         "type": "scatter",
         "x": [
          15
         ],
         "y": [
          0.6312355459285411
         ]
        },
        {
         "legendgroup": "Ga_La",
         "marker": {
          "color": "#EF553B",
          "line": {
           "color": "Black",
           "width": 1
          },
          "size": 10,
          "symbol": "x"
         },
         "mode": "markers",
         "name": "Ga_La, AZ at%",
         "showlegend": false,
         "type": "scatter",
         "x": [
          15
         ],
         "y": [
          0.546
         ]
        },
        {
         "legendgroup": "Ga_La",
         "marker": {
          "color": "#EF553B",
          "line": {
           "color": "Black",
           "width": 1
          },
          "size": 10,
          "symbol": "diamond"
         },
         "mode": "markers",
         "name": "Ga_La, i0 at%",
         "showlegend": false,
         "type": "scatter",
         "x": [
          15
         ],
         "y": [
          0.9568521282560647
         ]
        },
        {
         "legendgroup": "Sb_La",
         "marker": {
          "color": "#00CC96",
          "line": {
           "color": "Black",
           "width": 1
          },
          "size": 10,
          "symbol": "circle"
         },
         "mode": "markers",
         "name": "Sb_La, i at%",
         "showlegend": false,
         "type": "scatter",
         "x": [
          15
         ],
         "y": [
          0.3687644540714589
         ]
        },
        {
         "legendgroup": "Sb_La",
         "marker": {
          "color": "#00CC96",
          "line": {
           "color": "Black",
           "width": 1
          },
          "size": 10,
          "symbol": "x"
         },
         "mode": "markers",
         "name": "Sb_La, AZ at%",
         "showlegend": false,
         "type": "scatter",
         "x": [
          15
         ],
         "y": [
          0.45399999999999996
         ]
        },
        {
         "legendgroup": "Sb_La",
         "marker": {
          "color": "#00CC96",
          "line": {
           "color": "Black",
           "width": 1
          },
          "size": 10,
          "symbol": "diamond"
         },
         "mode": "markers",
         "name": "Sb_La, i0 at%",
         "showlegend": false,
         "type": "scatter",
         "x": [
          15
         ],
         "y": [
          0.04314787174393526
         ]
        },
        {
         "legendgroup": "Ga_Ka",
         "marker": {
          "color": "#EF553B",
          "line": {
           "color": "Black",
           "width": 0
          },
          "size": 10,
          "symbol": "circle"
         },
         "mode": "markers",
         "name": "Ga_Ka, i at%",
         "showlegend": false,
         "type": "scatter",
         "x": [
          16
         ],
         "y": [
          0.5358673378115595
         ]
        },
        {
         "legendgroup": "Ga_Ka",
         "marker": {
          "color": "#EF553B",
          "line": {
           "color": "Black",
           "width": 0
          },
          "size": 10,
          "symbol": "x"
         },
         "mode": "markers",
         "name": "Ga_Ka, AZ at%",
         "showlegend": false,
         "type": "scatter",
         "x": [
          16
         ],
         "y": [
          0.5564
         ]
        },
        {
         "legendgroup": "Ga_Ka",
         "marker": {
          "color": "#EF553B",
          "line": {
           "color": "Black",
           "width": 0
          },
          "size": 10,
          "symbol": "diamond"
         },
         "mode": "markers",
         "name": "Ga_Ka, i0 at%",
         "showlegend": false,
         "type": "scatter",
         "x": [
          16
         ],
         "y": [
          0.3428116336691536
         ]
        },
        {
         "legendgroup": "Sb_La",
         "marker": {
          "color": "#00CC96",
          "line": {
           "color": "Black",
           "width": 1
          },
          "size": 10,
          "symbol": "circle"
         },
         "mode": "markers",
         "name": "Sb_La, i at%",
         "showlegend": false,
         "type": "scatter",
         "x": [
          16
         ],
         "y": [
          0.4641326621884406
         ]
        },
        {
         "legendgroup": "Sb_La",
         "marker": {
          "color": "#00CC96",
          "line": {
           "color": "Black",
           "width": 1
          },
          "size": 10,
          "symbol": "x"
         },
         "mode": "markers",
         "name": "Sb_La, AZ at%",
         "showlegend": false,
         "type": "scatter",
         "x": [
          16
         ],
         "y": [
          0.4436
         ]
        },
        {
         "legendgroup": "Sb_La",
         "marker": {
          "color": "#00CC96",
          "line": {
           "color": "Black",
           "width": 1
          },
          "size": 10,
          "symbol": "diamond"
         },
         "mode": "markers",
         "name": "Sb_La, i0 at%",
         "showlegend": false,
         "type": "scatter",
         "x": [
          16
         ],
         "y": [
          0.6571883663308464
         ]
        }
       ],
       "layout": {
        "height": 600,
        "legend": {
         "font": {
          "color": "black",
          "family": "sans-serif",
          "size": 12
         },
         "traceorder": "normal",
         "x": 1.01,
         "y": 0.5
        },
        "template": {
         "data": {
          "bar": [
           {
            "error_x": {
             "color": "#2a3f5f"
            },
            "error_y": {
             "color": "#2a3f5f"
            },
            "marker": {
             "line": {
              "color": "#E5ECF6",
              "width": 0.5
             },
             "pattern": {
              "fillmode": "overlay",
              "size": 10,
              "solidity": 0.2
             }
            },
            "type": "bar"
           }
          ],
          "barpolar": [
           {
            "marker": {
             "line": {
              "color": "#E5ECF6",
              "width": 0.5
             },
             "pattern": {
              "fillmode": "overlay",
              "size": 10,
              "solidity": 0.2
             }
            },
            "type": "barpolar"
           }
          ],
          "carpet": [
           {
            "aaxis": {
             "endlinecolor": "#2a3f5f",
             "gridcolor": "white",
             "linecolor": "white",
             "minorgridcolor": "white",
             "startlinecolor": "#2a3f5f"
            },
            "baxis": {
             "endlinecolor": "#2a3f5f",
             "gridcolor": "white",
             "linecolor": "white",
             "minorgridcolor": "white",
             "startlinecolor": "#2a3f5f"
            },
            "type": "carpet"
           }
          ],
          "choropleth": [
           {
            "colorbar": {
             "outlinewidth": 0,
             "ticks": ""
            },
            "type": "choropleth"
           }
          ],
          "contour": [
           {
            "colorbar": {
             "outlinewidth": 0,
             "ticks": ""
            },
            "colorscale": [
             [
              0,
              "#0d0887"
             ],
             [
              0.1111111111111111,
              "#46039f"
             ],
             [
              0.2222222222222222,
              "#7201a8"
             ],
             [
              0.3333333333333333,
              "#9c179e"
             ],
             [
              0.4444444444444444,
              "#bd3786"
             ],
             [
              0.5555555555555556,
              "#d8576b"
             ],
             [
              0.6666666666666666,
              "#ed7953"
             ],
             [
              0.7777777777777778,
              "#fb9f3a"
             ],
             [
              0.8888888888888888,
              "#fdca26"
             ],
             [
              1,
              "#f0f921"
             ]
            ],
            "type": "contour"
           }
          ],
          "contourcarpet": [
           {
            "colorbar": {
             "outlinewidth": 0,
             "ticks": ""
            },
            "type": "contourcarpet"
           }
          ],
          "heatmap": [
           {
            "colorbar": {
             "outlinewidth": 0,
             "ticks": ""
            },
            "colorscale": [
             [
              0,
              "#0d0887"
             ],
             [
              0.1111111111111111,
              "#46039f"
             ],
             [
              0.2222222222222222,
              "#7201a8"
             ],
             [
              0.3333333333333333,
              "#9c179e"
             ],
             [
              0.4444444444444444,
              "#bd3786"
             ],
             [
              0.5555555555555556,
              "#d8576b"
             ],
             [
              0.6666666666666666,
              "#ed7953"
             ],
             [
              0.7777777777777778,
              "#fb9f3a"
             ],
             [
              0.8888888888888888,
              "#fdca26"
             ],
             [
              1,
              "#f0f921"
             ]
            ],
            "type": "heatmap"
           }
          ],
          "heatmapgl": [
           {
            "colorbar": {
             "outlinewidth": 0,
             "ticks": ""
            },
            "colorscale": [
             [
              0,
              "#0d0887"
             ],
             [
              0.1111111111111111,
              "#46039f"
             ],
             [
              0.2222222222222222,
              "#7201a8"
             ],
             [
              0.3333333333333333,
              "#9c179e"
             ],
             [
              0.4444444444444444,
              "#bd3786"
             ],
             [
              0.5555555555555556,
              "#d8576b"
             ],
             [
              0.6666666666666666,
              "#ed7953"
             ],
             [
              0.7777777777777778,
              "#fb9f3a"
             ],
             [
              0.8888888888888888,
              "#fdca26"
             ],
             [
              1,
              "#f0f921"
             ]
            ],
            "type": "heatmapgl"
           }
          ],
          "histogram": [
           {
            "marker": {
             "pattern": {
              "fillmode": "overlay",
              "size": 10,
              "solidity": 0.2
             }
            },
            "type": "histogram"
           }
          ],
          "histogram2d": [
           {
            "colorbar": {
             "outlinewidth": 0,
             "ticks": ""
            },
            "colorscale": [
             [
              0,
              "#0d0887"
             ],
             [
              0.1111111111111111,
              "#46039f"
             ],
             [
              0.2222222222222222,
              "#7201a8"
             ],
             [
              0.3333333333333333,
              "#9c179e"
             ],
             [
              0.4444444444444444,
              "#bd3786"
             ],
             [
              0.5555555555555556,
              "#d8576b"
             ],
             [
              0.6666666666666666,
              "#ed7953"
             ],
             [
              0.7777777777777778,
              "#fb9f3a"
             ],
             [
              0.8888888888888888,
              "#fdca26"
             ],
             [
              1,
              "#f0f921"
             ]
            ],
            "type": "histogram2d"
           }
          ],
          "histogram2dcontour": [
           {
            "colorbar": {
             "outlinewidth": 0,
             "ticks": ""
            },
            "colorscale": [
             [
              0,
              "#0d0887"
             ],
             [
              0.1111111111111111,
              "#46039f"
             ],
             [
              0.2222222222222222,
              "#7201a8"
             ],
             [
              0.3333333333333333,
              "#9c179e"
             ],
             [
              0.4444444444444444,
              "#bd3786"
             ],
             [
              0.5555555555555556,
              "#d8576b"
             ],
             [
              0.6666666666666666,
              "#ed7953"
             ],
             [
              0.7777777777777778,
              "#fb9f3a"
             ],
             [
              0.8888888888888888,
              "#fdca26"
             ],
             [
              1,
              "#f0f921"
             ]
            ],
            "type": "histogram2dcontour"
           }
          ],
          "mesh3d": [
           {
            "colorbar": {
             "outlinewidth": 0,
             "ticks": ""
            },
            "type": "mesh3d"
           }
          ],
          "parcoords": [
           {
            "line": {
             "colorbar": {
              "outlinewidth": 0,
              "ticks": ""
             }
            },
            "type": "parcoords"
           }
          ],
          "pie": [
           {
            "automargin": true,
            "type": "pie"
           }
          ],
          "scatter": [
           {
            "fillpattern": {
             "fillmode": "overlay",
             "size": 10,
             "solidity": 0.2
            },
            "type": "scatter"
           }
          ],
          "scatter3d": [
           {
            "line": {
             "colorbar": {
              "outlinewidth": 0,
              "ticks": ""
             }
            },
            "marker": {
             "colorbar": {
              "outlinewidth": 0,
              "ticks": ""
             }
            },
            "type": "scatter3d"
           }
          ],
          "scattercarpet": [
           {
            "marker": {
             "colorbar": {
              "outlinewidth": 0,
              "ticks": ""
             }
            },
            "type": "scattercarpet"
           }
          ],
          "scattergeo": [
           {
            "marker": {
             "colorbar": {
              "outlinewidth": 0,
              "ticks": ""
             }
            },
            "type": "scattergeo"
           }
          ],
          "scattergl": [
           {
            "marker": {
             "colorbar": {
              "outlinewidth": 0,
              "ticks": ""
             }
            },
            "type": "scattergl"
           }
          ],
          "scattermapbox": [
           {
            "marker": {
             "colorbar": {
              "outlinewidth": 0,
              "ticks": ""
             }
            },
            "type": "scattermapbox"
           }
          ],
          "scatterpolar": [
           {
            "marker": {
             "colorbar": {
              "outlinewidth": 0,
              "ticks": ""
             }
            },
            "type": "scatterpolar"
           }
          ],
          "scatterpolargl": [
           {
            "marker": {
             "colorbar": {
              "outlinewidth": 0,
              "ticks": ""
             }
            },
            "type": "scatterpolargl"
           }
          ],
          "scatterternary": [
           {
            "marker": {
             "colorbar": {
              "outlinewidth": 0,
              "ticks": ""
             }
            },
            "type": "scatterternary"
           }
          ],
          "surface": [
           {
            "colorbar": {
             "outlinewidth": 0,
             "ticks": ""
            },
            "colorscale": [
             [
              0,
              "#0d0887"
             ],
             [
              0.1111111111111111,
              "#46039f"
             ],
             [
              0.2222222222222222,
              "#7201a8"
             ],
             [
              0.3333333333333333,
              "#9c179e"
             ],
             [
              0.4444444444444444,
              "#bd3786"
             ],
             [
              0.5555555555555556,
              "#d8576b"
             ],
             [
              0.6666666666666666,
              "#ed7953"
             ],
             [
              0.7777777777777778,
              "#fb9f3a"
             ],
             [
              0.8888888888888888,
              "#fdca26"
             ],
             [
              1,
              "#f0f921"
             ]
            ],
            "type": "surface"
           }
          ],
          "table": [
           {
            "cells": {
             "fill": {
              "color": "#EBF0F8"
             },
             "line": {
              "color": "white"
             }
            },
            "header": {
             "fill": {
              "color": "#C8D4E3"
             },
             "line": {
              "color": "white"
             }
            },
            "type": "table"
           }
          ]
         },
         "layout": {
          "annotationdefaults": {
           "arrowcolor": "#2a3f5f",
           "arrowhead": 0,
           "arrowwidth": 1
          },
          "autotypenumbers": "strict",
          "coloraxis": {
           "colorbar": {
            "outlinewidth": 0,
            "ticks": ""
           }
          },
          "colorscale": {
           "diverging": [
            [
             0,
             "#8e0152"
            ],
            [
             0.1,
             "#c51b7d"
            ],
            [
             0.2,
             "#de77ae"
            ],
            [
             0.3,
             "#f1b6da"
            ],
            [
             0.4,
             "#fde0ef"
            ],
            [
             0.5,
             "#f7f7f7"
            ],
            [
             0.6,
             "#e6f5d0"
            ],
            [
             0.7,
             "#b8e186"
            ],
            [
             0.8,
             "#7fbc41"
            ],
            [
             0.9,
             "#4d9221"
            ],
            [
             1,
             "#276419"
            ]
           ],
           "sequential": [
            [
             0,
             "#0d0887"
            ],
            [
             0.1111111111111111,
             "#46039f"
            ],
            [
             0.2222222222222222,
             "#7201a8"
            ],
            [
             0.3333333333333333,
             "#9c179e"
            ],
            [
             0.4444444444444444,
             "#bd3786"
            ],
            [
             0.5555555555555556,
             "#d8576b"
            ],
            [
             0.6666666666666666,
             "#ed7953"
            ],
            [
             0.7777777777777778,
             "#fb9f3a"
            ],
            [
             0.8888888888888888,
             "#fdca26"
            ],
            [
             1,
             "#f0f921"
            ]
           ],
           "sequentialminus": [
            [
             0,
             "#0d0887"
            ],
            [
             0.1111111111111111,
             "#46039f"
            ],
            [
             0.2222222222222222,
             "#7201a8"
            ],
            [
             0.3333333333333333,
             "#9c179e"
            ],
            [
             0.4444444444444444,
             "#bd3786"
            ],
            [
             0.5555555555555556,
             "#d8576b"
            ],
            [
             0.6666666666666666,
             "#ed7953"
            ],
            [
             0.7777777777777778,
             "#fb9f3a"
            ],
            [
             0.8888888888888888,
             "#fdca26"
            ],
            [
             1,
             "#f0f921"
            ]
           ]
          },
          "colorway": [
           "#636efa",
           "#EF553B",
           "#00cc96",
           "#ab63fa",
           "#FFA15A",
           "#19d3f3",
           "#FF6692",
           "#B6E880",
           "#FF97FF",
           "#FECB52"
          ],
          "font": {
           "color": "#2a3f5f"
          },
          "geo": {
           "bgcolor": "white",
           "lakecolor": "white",
           "landcolor": "#E5ECF6",
           "showlakes": true,
           "showland": true,
           "subunitcolor": "white"
          },
          "hoverlabel": {
           "align": "left"
          },
          "hovermode": "closest",
          "mapbox": {
           "style": "light"
          },
          "paper_bgcolor": "white",
          "plot_bgcolor": "#E5ECF6",
          "polar": {
           "angularaxis": {
            "gridcolor": "white",
            "linecolor": "white",
            "ticks": ""
           },
           "bgcolor": "#E5ECF6",
           "radialaxis": {
            "gridcolor": "white",
            "linecolor": "white",
            "ticks": ""
           }
          },
          "scene": {
           "xaxis": {
            "backgroundcolor": "#E5ECF6",
            "gridcolor": "white",
            "gridwidth": 2,
            "linecolor": "white",
            "showbackground": true,
            "ticks": "",
            "zerolinecolor": "white"
           },
           "yaxis": {
            "backgroundcolor": "#E5ECF6",
            "gridcolor": "white",
            "gridwidth": 2,
            "linecolor": "white",
            "showbackground": true,
            "ticks": "",
            "zerolinecolor": "white"
           },
           "zaxis": {
            "backgroundcolor": "#E5ECF6",
            "gridcolor": "white",
            "gridwidth": 2,
            "linecolor": "white",
            "showbackground": true,
            "ticks": "",
            "zerolinecolor": "white"
           }
          },
          "shapedefaults": {
           "line": {
            "color": "#2a3f5f"
           }
          },
          "ternary": {
           "aaxis": {
            "gridcolor": "white",
            "linecolor": "white",
            "ticks": ""
           },
           "baxis": {
            "gridcolor": "white",
            "linecolor": "white",
            "ticks": ""
           },
           "bgcolor": "#E5ECF6",
           "caxis": {
            "gridcolor": "white",
            "linecolor": "white",
            "ticks": ""
           }
          },
          "title": {
           "x": 0.05
          },
          "xaxis": {
           "automargin": true,
           "gridcolor": "white",
           "linecolor": "white",
           "ticks": "",
           "title": {
            "standoff": 15
           },
           "zerolinecolor": "white",
           "zerolinewidth": 2
          },
          "yaxis": {
           "automargin": true,
           "gridcolor": "white",
           "linecolor": "white",
           "ticks": "",
           "title": {
            "standoff": 15
           },
           "zerolinecolor": "white",
           "zerolinewidth": 2
          }
         }
        },
        "title": {
         "text": "AZtec at% and at% for i (circle) and i0 (diamonds)"
        },
        "width": 1200,
        "xaxis": {
         "range": [
          -0.5,
          16.5
         ],
         "tickangle": 90,
         "ticktext": [
          "GaAs 05kV 25pA",
          "GaAs 15kV 25pA",
          "GaAs 30kV 25pA",
          "GaAs 30kV 50pA",
          "GaSb 05kV 50pA",
          "GaSb 10kV 50pA",
          "GaSb 15kV 200pA",
          "GaSb 15kV 400pA",
          "GaSb 15kV 50pA",
          "GaSb 30kV 400pA PT1",
          "GaSb 30kV 50pA",
          "GaSb 30kV 50pA noPPUC",
          "GaSb 30kV 50pA PT1",
          "GaSb 30kV 50pA PT2",
          "GaSb 30kV 50pA PT4",
          "GaSb scr 15kV 400pA PT3",
          "GaSb scr 30kV 25pA"
         ],
         "tickvals": [
          0,
          1,
          2,
          3,
          4,
          5,
          6,
          7,
          8,
          9,
          10,
          11,
          12,
          13,
          14,
          15,
          16
         ]
        },
        "yaxis": {
         "title": {
          "text": "Relative intensity"
         }
        }
       }
      }
     },
     "metadata": {},
     "output_type": "display_data"
    }
   ],
   "source": [
    "fig = go.Figure()\n",
    "legends = []\n",
    "for i in range(len(x)):\n",
    "    # col = colors[lines_list_plotting.index(line[i])]\n",
    "    col = colors[elements_list_plotting.index(df['Element'][i])]\n",
    "    showlegend = False if line[i] in legends else True\n",
    "    marker_line_width = 1 if (\"La\" in line[i]) else 0\n",
    "    fig.add_scatter(x=[x[i]], y=[df['i: at%'][i]], mode='markers', name=f'{line[i]}, i at%', legendgroup=line[i], showlegend=showlegend,\n",
    "                    marker=dict(size=10, color=col, symbol='circle', line=dict(color='Black', width=marker_line_width)))\n",
    "    fig.add_scatter(x=[x[i]], y=[y2[i]], mode='markers', name=f'{line[i]}, AZ at%', marker_symbol='x', legendgroup=line[i], showlegend=showlegend,\n",
    "                    marker=dict(size=10, color=col, line=dict(color='Black', width=marker_line_width)))\n",
    "    fig.add_scatter(x=[x[i]], y=[df['i0: at%'][i]], mode='markers', name=f'{line[i]}, i0 at%', marker_symbol='diamond', legendgroup=line[i], showlegend=showlegend,\n",
    "                    marker=dict(size=10, color=col, line=dict(color='Black', width=marker_line_width)))\n",
    "    legends.append(f'{line[i]}')\n",
    "\n",
    "# x ticks are the filenames\n",
    "fig.update_xaxes(tickvals=df['x'].unique(), ticktext=df['Name'].unique(), tickangle=90, range=[-0.5, len(df['x'].unique())-0.5])\n",
    "# fig.update_yaxes(range=[0.33, 0.67])\n",
    "fig.update_layout(title='AZtec at% and at% for i (circle) and i0 (diamonds)', yaxis_title='Relative intensity')\n",
    "fig.update_layout(height=600, width=1200)\n",
    "fig.update_layout(legend=dict(x=1.01, y=0.5, traceorder='normal', font=dict(family='sans-serif', size=12, color='black'))) \n",
    "fig.show()"
   ]
  },
  {
   "cell_type": "code",
   "execution_count": 67,
   "metadata": {},
   "outputs": [],
   "source": [
    "# write a output file\n",
    "df.to_csv('output.csv', index=False)"
   ]
  },
  {
   "cell_type": "code",
   "execution_count": 68,
   "metadata": {},
   "outputs": [
    {
     "data": {
      "text/html": [
       "<div>\n",
       "<style scoped>\n",
       "    .dataframe tbody tr th:only-of-type {\n",
       "        vertical-align: middle;\n",
       "    }\n",
       "\n",
       "    .dataframe tbody tr th {\n",
       "        vertical-align: top;\n",
       "    }\n",
       "\n",
       "    .dataframe thead th {\n",
       "        text-align: right;\n",
       "    }\n",
       "</style>\n",
       "<table border=\"1\" class=\"dataframe\">\n",
       "  <thead>\n",
       "    <tr style=\"text-align: right;\">\n",
       "      <th></th>\n",
       "      <th>File</th>\n",
       "      <th>Element</th>\n",
       "      <th>%at</th>\n",
       "      <th>Line</th>\n",
       "      <th>Name</th>\n",
       "      <th>i</th>\n",
       "      <th>i/i_sum</th>\n",
       "      <th>kV</th>\n",
       "      <th>x</th>\n",
       "      <th>at_wt</th>\n",
       "      <th>Elements</th>\n",
       "      <th>i: at%</th>\n",
       "      <th>mu</th>\n",
       "      <th>A</th>\n",
       "      <th>i0</th>\n",
       "      <th>i0/i0_sum</th>\n",
       "      <th>i0: at%</th>\n",
       "    </tr>\n",
       "  </thead>\n",
       "  <tbody>\n",
       "    <tr>\n",
       "      <th>0</th>\n",
       "      <td>GaAs_05kV_25pA</td>\n",
       "      <td>As</td>\n",
       "      <td>0.5342</td>\n",
       "      <td>As_La</td>\n",
       "      <td>GaAs 05kV 25pA</td>\n",
       "      <td>13128.0</td>\n",
       "      <td>0.445</td>\n",
       "      <td>5.0</td>\n",
       "      <td>0</td>\n",
       "      <td>74.9216</td>\n",
       "      <td>[As, Ga]</td>\n",
       "      <td>0.427317</td>\n",
       "      <td>3744.1</td>\n",
       "      <td>1.56</td>\n",
       "      <td>20416.8</td>\n",
       "      <td>0.514</td>\n",
       "      <td>0.496026</td>\n",
       "    </tr>\n",
       "    <tr>\n",
       "      <th>1</th>\n",
       "      <td>GaAs_05kV_25pA</td>\n",
       "      <td>Ga</td>\n",
       "      <td>0.4658</td>\n",
       "      <td>Ga_La</td>\n",
       "      <td>GaAs 05kV 25pA</td>\n",
       "      <td>16365.0</td>\n",
       "      <td>0.555</td>\n",
       "      <td>5.0</td>\n",
       "      <td>0</td>\n",
       "      <td>69.7230</td>\n",
       "      <td>[As, Ga]</td>\n",
       "      <td>0.572683</td>\n",
       "      <td>1387.4</td>\n",
       "      <td>1.18</td>\n",
       "      <td>19274.6</td>\n",
       "      <td>0.486</td>\n",
       "      <td>0.503974</td>\n",
       "    </tr>\n",
       "    <tr>\n",
       "      <th>2</th>\n",
       "      <td>GaAs_15kV_25pA</td>\n",
       "      <td>As</td>\n",
       "      <td>0.5062</td>\n",
       "      <td>As_La</td>\n",
       "      <td>GaAs 15kV 25pA</td>\n",
       "      <td>61699.0</td>\n",
       "      <td>0.374</td>\n",
       "      <td>15.0</td>\n",
       "      <td>1</td>\n",
       "      <td>74.9216</td>\n",
       "      <td>[As, Ga]</td>\n",
       "      <td>0.357322</td>\n",
       "      <td>3744.1</td>\n",
       "      <td>15.89</td>\n",
       "      <td>980576.1</td>\n",
       "      <td>0.773</td>\n",
       "      <td>0.760135</td>\n",
       "    </tr>\n",
       "    <tr>\n",
       "      <th>3</th>\n",
       "      <td>GaAs_15kV_25pA</td>\n",
       "      <td>Ga</td>\n",
       "      <td>0.4938</td>\n",
       "      <td>Ga_La</td>\n",
       "      <td>GaAs 15kV 25pA</td>\n",
       "      <td>103207.0</td>\n",
       "      <td>0.626</td>\n",
       "      <td>15.0</td>\n",
       "      <td>1</td>\n",
       "      <td>69.7230</td>\n",
       "      <td>[As, Ga]</td>\n",
       "      <td>0.642678</td>\n",
       "      <td>1387.4</td>\n",
       "      <td>2.79</td>\n",
       "      <td>287622.7</td>\n",
       "      <td>0.227</td>\n",
       "      <td>0.239865</td>\n",
       "    </tr>\n",
       "    <tr>\n",
       "      <th>4</th>\n",
       "      <td>GaAs_30kV_25pA</td>\n",
       "      <td>As</td>\n",
       "      <td>0.4841</td>\n",
       "      <td>As_Ka</td>\n",
       "      <td>GaAs 30kV 25pA</td>\n",
       "      <td>83787.0</td>\n",
       "      <td>0.373</td>\n",
       "      <td>30.0</td>\n",
       "      <td>2</td>\n",
       "      <td>74.9216</td>\n",
       "      <td>[As, Ga]</td>\n",
       "      <td>0.356341</td>\n",
       "      <td>123.4</td>\n",
       "      <td>1.34</td>\n",
       "      <td>111979.7</td>\n",
       "      <td>0.418</td>\n",
       "      <td>0.400616</td>\n",
       "    </tr>\n",
       "    <tr>\n",
       "      <th>5</th>\n",
       "      <td>GaAs_30kV_25pA</td>\n",
       "      <td>Ga</td>\n",
       "      <td>0.5159</td>\n",
       "      <td>Ga_Ka</td>\n",
       "      <td>GaAs 30kV 25pA</td>\n",
       "      <td>140854.0</td>\n",
       "      <td>0.627</td>\n",
       "      <td>30.0</td>\n",
       "      <td>2</td>\n",
       "      <td>69.7230</td>\n",
       "      <td>[As, Ga]</td>\n",
       "      <td>0.643659</td>\n",
       "      <td>43.2</td>\n",
       "      <td>1.11</td>\n",
       "      <td>155907.6</td>\n",
       "      <td>0.582</td>\n",
       "      <td>0.599384</td>\n",
       "    </tr>\n",
       "    <tr>\n",
       "      <th>6</th>\n",
       "      <td>GaAs_30kV_50pA</td>\n",
       "      <td>As</td>\n",
       "      <td>0.4831</td>\n",
       "      <td>As_Ka</td>\n",
       "      <td>GaAs 30kV 50pA</td>\n",
       "      <td>179725.0</td>\n",
       "      <td>0.372</td>\n",
       "      <td>30.0</td>\n",
       "      <td>3</td>\n",
       "      <td>74.9216</td>\n",
       "      <td>[As, Ga]</td>\n",
       "      <td>0.355361</td>\n",
       "      <td>123.4</td>\n",
       "      <td>1.34</td>\n",
       "      <td>240198.9</td>\n",
       "      <td>0.417</td>\n",
       "      <td>0.399629</td>\n",
       "    </tr>\n",
       "    <tr>\n",
       "      <th>7</th>\n",
       "      <td>GaAs_30kV_50pA</td>\n",
       "      <td>Ga</td>\n",
       "      <td>0.5169</td>\n",
       "      <td>Ga_Ka</td>\n",
       "      <td>GaAs 30kV 50pA</td>\n",
       "      <td>303060.0</td>\n",
       "      <td>0.628</td>\n",
       "      <td>30.0</td>\n",
       "      <td>3</td>\n",
       "      <td>69.7230</td>\n",
       "      <td>[As, Ga]</td>\n",
       "      <td>0.644639</td>\n",
       "      <td>43.2</td>\n",
       "      <td>1.11</td>\n",
       "      <td>335449.2</td>\n",
       "      <td>0.583</td>\n",
       "      <td>0.600371</td>\n",
       "    </tr>\n",
       "    <tr>\n",
       "      <th>8</th>\n",
       "      <td>GaSb_05kV_50pA</td>\n",
       "      <td>Ga</td>\n",
       "      <td>0.3903</td>\n",
       "      <td>Ga_La</td>\n",
       "      <td>GaSb 05kV 50pA</td>\n",
       "      <td>19130.0</td>\n",
       "      <td>0.951</td>\n",
       "      <td>5.0</td>\n",
       "      <td>4</td>\n",
       "      <td>69.7230</td>\n",
       "      <td>[Ga, Sb]</td>\n",
       "      <td>0.971341</td>\n",
       "      <td>3981.2</td>\n",
       "      <td>1.59</td>\n",
       "      <td>30364.1</td>\n",
       "      <td>0.967</td>\n",
       "      <td>0.980833</td>\n",
       "    </tr>\n",
       "    <tr>\n",
       "      <th>9</th>\n",
       "      <td>GaSb_05kV_50pA</td>\n",
       "      <td>Sb</td>\n",
       "      <td>0.6097</td>\n",
       "      <td>Sb_La</td>\n",
       "      <td>GaSb 05kV 50pA</td>\n",
       "      <td>986.0</td>\n",
       "      <td>0.049</td>\n",
       "      <td>5.0</td>\n",
       "      <td>4</td>\n",
       "      <td>121.7600</td>\n",
       "      <td>[Ga, Sb]</td>\n",
       "      <td>0.028659</td>\n",
       "      <td>449.6</td>\n",
       "      <td>1.05</td>\n",
       "      <td>1038.8</td>\n",
       "      <td>0.033</td>\n",
       "      <td>0.019167</td>\n",
       "    </tr>\n",
       "    <tr>\n",
       "      <th>10</th>\n",
       "      <td>GaSb_10kV_50pA</td>\n",
       "      <td>Ga</td>\n",
       "      <td>0.4678</td>\n",
       "      <td>Ga_La</td>\n",
       "      <td>GaSb 10kV 50pA</td>\n",
       "      <td>46021.0</td>\n",
       "      <td>0.630</td>\n",
       "      <td>10.0</td>\n",
       "      <td>5</td>\n",
       "      <td>69.7230</td>\n",
       "      <td>[Ga, Sb]</td>\n",
       "      <td>0.748332</td>\n",
       "      <td>3981.2</td>\n",
       "      <td>4.35</td>\n",
       "      <td>200187.5</td>\n",
       "      <td>0.863</td>\n",
       "      <td>0.916671</td>\n",
       "    </tr>\n",
       "    <tr>\n",
       "      <th>11</th>\n",
       "      <td>GaSb_10kV_50pA</td>\n",
       "      <td>Sb</td>\n",
       "      <td>0.5322</td>\n",
       "      <td>Sb_La</td>\n",
       "      <td>GaSb 10kV 50pA</td>\n",
       "      <td>27030.0</td>\n",
       "      <td>0.370</td>\n",
       "      <td>10.0</td>\n",
       "      <td>5</td>\n",
       "      <td>121.7600</td>\n",
       "      <td>[Ga, Sb]</td>\n",
       "      <td>0.251668</td>\n",
       "      <td>449.6</td>\n",
       "      <td>1.18</td>\n",
       "      <td>31912.0</td>\n",
       "      <td>0.137</td>\n",
       "      <td>0.083329</td>\n",
       "    </tr>\n",
       "    <tr>\n",
       "      <th>12</th>\n",
       "      <td>GaSb_15kV_200pA</td>\n",
       "      <td>Ga</td>\n",
       "      <td>0.4871</td>\n",
       "      <td>Ga_La</td>\n",
       "      <td>GaSb 15kV 200pA</td>\n",
       "      <td>154746.0</td>\n",
       "      <td>0.436</td>\n",
       "      <td>15.0</td>\n",
       "      <td>6</td>\n",
       "      <td>69.7230</td>\n",
       "      <td>[Ga, Sb]</td>\n",
       "      <td>0.574469</td>\n",
       "      <td>3981.2</td>\n",
       "      <td>18.06</td>\n",
       "      <td>2794389.0</td>\n",
       "      <td>0.910</td>\n",
       "      <td>0.946402</td>\n",
       "    </tr>\n",
       "    <tr>\n",
       "      <th>13</th>\n",
       "      <td>GaSb_15kV_200pA</td>\n",
       "      <td>Sb</td>\n",
       "      <td>0.5129</td>\n",
       "      <td>Sb_La</td>\n",
       "      <td>GaSb 15kV 200pA</td>\n",
       "      <td>199835.0</td>\n",
       "      <td>0.564</td>\n",
       "      <td>15.0</td>\n",
       "      <td>6</td>\n",
       "      <td>121.7600</td>\n",
       "      <td>[Ga, Sb]</td>\n",
       "      <td>0.425531</td>\n",
       "      <td>449.6</td>\n",
       "      <td>1.39</td>\n",
       "      <td>277073.3</td>\n",
       "      <td>0.090</td>\n",
       "      <td>0.053598</td>\n",
       "    </tr>\n",
       "    <tr>\n",
       "      <th>14</th>\n",
       "      <td>GaSb_15kV_400pA</td>\n",
       "      <td>Ga</td>\n",
       "      <td>0.4872</td>\n",
       "      <td>Ga_La</td>\n",
       "      <td>GaSb 15kV 400pA</td>\n",
       "      <td>283915.0</td>\n",
       "      <td>0.436</td>\n",
       "      <td>15.0</td>\n",
       "      <td>7</td>\n",
       "      <td>69.7230</td>\n",
       "      <td>[Ga, Sb]</td>\n",
       "      <td>0.574469</td>\n",
       "      <td>3981.2</td>\n",
       "      <td>18.06</td>\n",
       "      <td>5126910.9</td>\n",
       "      <td>0.910</td>\n",
       "      <td>0.946402</td>\n",
       "    </tr>\n",
       "    <tr>\n",
       "      <th>15</th>\n",
       "      <td>GaSb_15kV_400pA</td>\n",
       "      <td>Sb</td>\n",
       "      <td>0.5128</td>\n",
       "      <td>Sb_La</td>\n",
       "      <td>GaSb 15kV 400pA</td>\n",
       "      <td>367468.0</td>\n",
       "      <td>0.564</td>\n",
       "      <td>15.0</td>\n",
       "      <td>7</td>\n",
       "      <td>121.7600</td>\n",
       "      <td>[Ga, Sb]</td>\n",
       "      <td>0.425531</td>\n",
       "      <td>449.6</td>\n",
       "      <td>1.39</td>\n",
       "      <td>509498.2</td>\n",
       "      <td>0.090</td>\n",
       "      <td>0.053598</td>\n",
       "    </tr>\n",
       "    <tr>\n",
       "      <th>16</th>\n",
       "      <td>GaSb_15kV_50pA</td>\n",
       "      <td>Ga</td>\n",
       "      <td>0.4911</td>\n",
       "      <td>Ga_La</td>\n",
       "      <td>GaSb 15kV 50pA</td>\n",
       "      <td>74315.0</td>\n",
       "      <td>0.442</td>\n",
       "      <td>15.0</td>\n",
       "      <td>8</td>\n",
       "      <td>69.7230</td>\n",
       "      <td>[Ga, Sb]</td>\n",
       "      <td>0.580414</td>\n",
       "      <td>3981.2</td>\n",
       "      <td>18.06</td>\n",
       "      <td>1341973.4</td>\n",
       "      <td>0.912</td>\n",
       "      <td>0.947640</td>\n",
       "    </tr>\n",
       "    <tr>\n",
       "      <th>17</th>\n",
       "      <td>GaSb_15kV_50pA</td>\n",
       "      <td>Sb</td>\n",
       "      <td>0.5089</td>\n",
       "      <td>Sb_La</td>\n",
       "      <td>GaSb 15kV 50pA</td>\n",
       "      <td>93967.0</td>\n",
       "      <td>0.558</td>\n",
       "      <td>15.0</td>\n",
       "      <td>8</td>\n",
       "      <td>121.7600</td>\n",
       "      <td>[Ga, Sb]</td>\n",
       "      <td>0.419586</td>\n",
       "      <td>449.6</td>\n",
       "      <td>1.39</td>\n",
       "      <td>130286.2</td>\n",
       "      <td>0.088</td>\n",
       "      <td>0.052360</td>\n",
       "    </tr>\n",
       "    <tr>\n",
       "      <th>18</th>\n",
       "      <td>GaSb_30kV_400pA_processTime1</td>\n",
       "      <td>Ga</td>\n",
       "      <td>0.5004</td>\n",
       "      <td>Ga_Ka</td>\n",
       "      <td>GaSb 30kV 400pA PT1</td>\n",
       "      <td>1723976.0</td>\n",
       "      <td>0.365</td>\n",
       "      <td>30.0</td>\n",
       "      <td>9</td>\n",
       "      <td>69.7230</td>\n",
       "      <td>[Ga, Sb]</td>\n",
       "      <td>0.500948</td>\n",
       "      <td>106.4</td>\n",
       "      <td>1.28</td>\n",
       "      <td>2205208.2</td>\n",
       "      <td>0.206</td>\n",
       "      <td>0.311807</td>\n",
       "    </tr>\n",
       "    <tr>\n",
       "      <th>19</th>\n",
       "      <td>GaSb_30kV_400pA_processTime1</td>\n",
       "      <td>Sb</td>\n",
       "      <td>0.4996</td>\n",
       "      <td>Sb_La</td>\n",
       "      <td>GaSb 30kV 400pA PT1</td>\n",
       "      <td>2996401.0</td>\n",
       "      <td>0.635</td>\n",
       "      <td>30.0</td>\n",
       "      <td>9</td>\n",
       "      <td>121.7600</td>\n",
       "      <td>[Ga, Sb]</td>\n",
       "      <td>0.499052</td>\n",
       "      <td>449.6</td>\n",
       "      <td>2.83</td>\n",
       "      <td>8476568.8</td>\n",
       "      <td>0.794</td>\n",
       "      <td>0.688193</td>\n",
       "    </tr>\n",
       "    <tr>\n",
       "      <th>20</th>\n",
       "      <td>GaSb_30kV_50pA</td>\n",
       "      <td>Ga</td>\n",
       "      <td>0.5023</td>\n",
       "      <td>Ga_Ka</td>\n",
       "      <td>GaSb 30kV 50pA</td>\n",
       "      <td>190734.0</td>\n",
       "      <td>0.347</td>\n",
       "      <td>30.0</td>\n",
       "      <td>10</td>\n",
       "      <td>69.7230</td>\n",
       "      <td>[Ga, Sb]</td>\n",
       "      <td>0.481326</td>\n",
       "      <td>106.4</td>\n",
       "      <td>1.28</td>\n",
       "      <td>243975.7</td>\n",
       "      <td>0.194</td>\n",
       "      <td>0.295941</td>\n",
       "    </tr>\n",
       "    <tr>\n",
       "      <th>21</th>\n",
       "      <td>GaSb_30kV_50pA</td>\n",
       "      <td>Sb</td>\n",
       "      <td>0.4977</td>\n",
       "      <td>Sb_La</td>\n",
       "      <td>GaSb 30kV 50pA</td>\n",
       "      <td>358668.0</td>\n",
       "      <td>0.653</td>\n",
       "      <td>30.0</td>\n",
       "      <td>10</td>\n",
       "      <td>121.7600</td>\n",
       "      <td>[Ga, Sb]</td>\n",
       "      <td>0.518674</td>\n",
       "      <td>449.6</td>\n",
       "      <td>2.83</td>\n",
       "      <td>1014641.9</td>\n",
       "      <td>0.806</td>\n",
       "      <td>0.704059</td>\n",
       "    </tr>\n",
       "    <tr>\n",
       "      <th>22</th>\n",
       "      <td>GaSb_30kV_50pA_noPPUC</td>\n",
       "      <td>Ga</td>\n",
       "      <td>0.5023</td>\n",
       "      <td>Ga_Ka</td>\n",
       "      <td>GaSb 30kV 50pA noPPUC</td>\n",
       "      <td>190889.0</td>\n",
       "      <td>0.348</td>\n",
       "      <td>30.0</td>\n",
       "      <td>11</td>\n",
       "      <td>69.7230</td>\n",
       "      <td>[Ga, Sb]</td>\n",
       "      <td>0.482427</td>\n",
       "      <td>106.4</td>\n",
       "      <td>1.28</td>\n",
       "      <td>244173.9</td>\n",
       "      <td>0.194</td>\n",
       "      <td>0.295941</td>\n",
       "    </tr>\n",
       "    <tr>\n",
       "      <th>23</th>\n",
       "      <td>GaSb_30kV_50pA_noPPUC</td>\n",
       "      <td>Sb</td>\n",
       "      <td>0.4977</td>\n",
       "      <td>Sb_La</td>\n",
       "      <td>GaSb 30kV 50pA noPPUC</td>\n",
       "      <td>358349.0</td>\n",
       "      <td>0.652</td>\n",
       "      <td>30.0</td>\n",
       "      <td>11</td>\n",
       "      <td>121.7600</td>\n",
       "      <td>[Ga, Sb]</td>\n",
       "      <td>0.517573</td>\n",
       "      <td>449.6</td>\n",
       "      <td>2.83</td>\n",
       "      <td>1013739.5</td>\n",
       "      <td>0.806</td>\n",
       "      <td>0.704059</td>\n",
       "    </tr>\n",
       "    <tr>\n",
       "      <th>24</th>\n",
       "      <td>GaSb_30kV_50pA_processTime1</td>\n",
       "      <td>Ga</td>\n",
       "      <td>0.5035</td>\n",
       "      <td>Ga_Ka</td>\n",
       "      <td>GaSb 30kV 50pA PT1</td>\n",
       "      <td>177754.0</td>\n",
       "      <td>0.369</td>\n",
       "      <td>30.0</td>\n",
       "      <td>12</td>\n",
       "      <td>69.7230</td>\n",
       "      <td>[Ga, Sb]</td>\n",
       "      <td>0.505253</td>\n",
       "      <td>106.4</td>\n",
       "      <td>1.28</td>\n",
       "      <td>227372.4</td>\n",
       "      <td>0.209</td>\n",
       "      <td>0.315735</td>\n",
       "    </tr>\n",
       "    <tr>\n",
       "      <th>25</th>\n",
       "      <td>GaSb_30kV_50pA_processTime1</td>\n",
       "      <td>Sb</td>\n",
       "      <td>0.4965</td>\n",
       "      <td>Sb_La</td>\n",
       "      <td>GaSb 30kV 50pA PT1</td>\n",
       "      <td>304269.0</td>\n",
       "      <td>0.631</td>\n",
       "      <td>30.0</td>\n",
       "      <td>12</td>\n",
       "      <td>121.7600</td>\n",
       "      <td>[Ga, Sb]</td>\n",
       "      <td>0.494747</td>\n",
       "      <td>449.6</td>\n",
       "      <td>2.83</td>\n",
       "      <td>860751.6</td>\n",
       "      <td>0.791</td>\n",
       "      <td>0.684265</td>\n",
       "    </tr>\n",
       "    <tr>\n",
       "      <th>26</th>\n",
       "      <td>GaSb_30kV_50pA_processTime2</td>\n",
       "      <td>Ga</td>\n",
       "      <td>0.5016</td>\n",
       "      <td>Ga_Ka</td>\n",
       "      <td>GaSb 30kV 50pA PT2</td>\n",
       "      <td>184210.0</td>\n",
       "      <td>0.358</td>\n",
       "      <td>30.0</td>\n",
       "      <td>13</td>\n",
       "      <td>69.7230</td>\n",
       "      <td>[Ga, Sb]</td>\n",
       "      <td>0.493367</td>\n",
       "      <td>106.4</td>\n",
       "      <td>1.28</td>\n",
       "      <td>235630.5</td>\n",
       "      <td>0.202</td>\n",
       "      <td>0.306546</td>\n",
       "    </tr>\n",
       "    <tr>\n",
       "      <th>27</th>\n",
       "      <td>GaSb_30kV_50pA_processTime2</td>\n",
       "      <td>Sb</td>\n",
       "      <td>0.4984</td>\n",
       "      <td>Sb_La</td>\n",
       "      <td>GaSb 30kV 50pA PT2</td>\n",
       "      <td>329776.0</td>\n",
       "      <td>0.642</td>\n",
       "      <td>30.0</td>\n",
       "      <td>13</td>\n",
       "      <td>121.7600</td>\n",
       "      <td>[Ga, Sb]</td>\n",
       "      <td>0.506633</td>\n",
       "      <td>449.6</td>\n",
       "      <td>2.83</td>\n",
       "      <td>932908.8</td>\n",
       "      <td>0.798</td>\n",
       "      <td>0.693454</td>\n",
       "    </tr>\n",
       "    <tr>\n",
       "      <th>28</th>\n",
       "      <td>GaSb_30kV_50pA_processTime4</td>\n",
       "      <td>Ga</td>\n",
       "      <td>0.5020</td>\n",
       "      <td>Ga_Ka</td>\n",
       "      <td>GaSb 30kV 50pA PT4</td>\n",
       "      <td>188844.0</td>\n",
       "      <td>0.350</td>\n",
       "      <td>30.0</td>\n",
       "      <td>14</td>\n",
       "      <td>69.7230</td>\n",
       "      <td>[Ga, Sb]</td>\n",
       "      <td>0.484625</td>\n",
       "      <td>106.4</td>\n",
       "      <td>1.28</td>\n",
       "      <td>241558.1</td>\n",
       "      <td>0.196</td>\n",
       "      <td>0.298602</td>\n",
       "    </tr>\n",
       "    <tr>\n",
       "      <th>29</th>\n",
       "      <td>GaSb_30kV_50pA_processTime4</td>\n",
       "      <td>Sb</td>\n",
       "      <td>0.4980</td>\n",
       "      <td>Sb_La</td>\n",
       "      <td>GaSb 30kV 50pA PT4</td>\n",
       "      <td>350191.0</td>\n",
       "      <td>0.650</td>\n",
       "      <td>30.0</td>\n",
       "      <td>14</td>\n",
       "      <td>121.7600</td>\n",
       "      <td>[Ga, Sb]</td>\n",
       "      <td>0.515375</td>\n",
       "      <td>449.6</td>\n",
       "      <td>2.83</td>\n",
       "      <td>990661.2</td>\n",
       "      <td>0.804</td>\n",
       "      <td>0.701398</td>\n",
       "    </tr>\n",
       "    <tr>\n",
       "      <th>30</th>\n",
       "      <td>GaSb_scratched_15kV_400pA_processTime3</td>\n",
       "      <td>Ga</td>\n",
       "      <td>0.5460</td>\n",
       "      <td>Ga_La</td>\n",
       "      <td>GaSb scr 15kV 400pA PT3</td>\n",
       "      <td>760185.0</td>\n",
       "      <td>0.495</td>\n",
       "      <td>15.0</td>\n",
       "      <td>15</td>\n",
       "      <td>69.7230</td>\n",
       "      <td>[Ga, Sb]</td>\n",
       "      <td>0.631236</td>\n",
       "      <td>3981.2</td>\n",
       "      <td>18.06</td>\n",
       "      <td>13727350.5</td>\n",
       "      <td>0.927</td>\n",
       "      <td>0.956852</td>\n",
       "    </tr>\n",
       "    <tr>\n",
       "      <th>31</th>\n",
       "      <td>GaSb_scratched_15kV_400pA_processTime3</td>\n",
       "      <td>Sb</td>\n",
       "      <td>0.4540</td>\n",
       "      <td>Sb_La</td>\n",
       "      <td>GaSb scr 15kV 400pA PT3</td>\n",
       "      <td>775425.0</td>\n",
       "      <td>0.505</td>\n",
       "      <td>15.0</td>\n",
       "      <td>15</td>\n",
       "      <td>121.7600</td>\n",
       "      <td>[Ga, Sb]</td>\n",
       "      <td>0.368764</td>\n",
       "      <td>449.6</td>\n",
       "      <td>1.39</td>\n",
       "      <td>1075134.9</td>\n",
       "      <td>0.073</td>\n",
       "      <td>0.043148</td>\n",
       "    </tr>\n",
       "    <tr>\n",
       "      <th>32</th>\n",
       "      <td>GaSb_scratched_30kV_25pA</td>\n",
       "      <td>Ga</td>\n",
       "      <td>0.5564</td>\n",
       "      <td>Ga_Ka</td>\n",
       "      <td>GaSb scr 30kV 25pA</td>\n",
       "      <td>91436.0</td>\n",
       "      <td>0.398</td>\n",
       "      <td>30.0</td>\n",
       "      <td>16</td>\n",
       "      <td>69.7230</td>\n",
       "      <td>[Ga, Sb]</td>\n",
       "      <td>0.535867</td>\n",
       "      <td>106.4</td>\n",
       "      <td>1.28</td>\n",
       "      <td>116959.5</td>\n",
       "      <td>0.230</td>\n",
       "      <td>0.342812</td>\n",
       "    </tr>\n",
       "    <tr>\n",
       "      <th>33</th>\n",
       "      <td>GaSb_scratched_30kV_25pA</td>\n",
       "      <td>Sb</td>\n",
       "      <td>0.4436</td>\n",
       "      <td>Sb_La</td>\n",
       "      <td>GaSb scr 30kV 25pA</td>\n",
       "      <td>138272.0</td>\n",
       "      <td>0.602</td>\n",
       "      <td>30.0</td>\n",
       "      <td>16</td>\n",
       "      <td>121.7600</td>\n",
       "      <td>[Ga, Sb]</td>\n",
       "      <td>0.464133</td>\n",
       "      <td>449.6</td>\n",
       "      <td>2.83</td>\n",
       "      <td>391160.0</td>\n",
       "      <td>0.770</td>\n",
       "      <td>0.657188</td>\n",
       "    </tr>\n",
       "  </tbody>\n",
       "</table>\n",
       "</div>"
      ],
      "text/plain": [
       "                                      File Element     %at   Line  \\\n",
       "0                           GaAs_05kV_25pA      As  0.5342  As_La   \n",
       "1                           GaAs_05kV_25pA      Ga  0.4658  Ga_La   \n",
       "2                           GaAs_15kV_25pA      As  0.5062  As_La   \n",
       "3                           GaAs_15kV_25pA      Ga  0.4938  Ga_La   \n",
       "4                           GaAs_30kV_25pA      As  0.4841  As_Ka   \n",
       "5                           GaAs_30kV_25pA      Ga  0.5159  Ga_Ka   \n",
       "6                           GaAs_30kV_50pA      As  0.4831  As_Ka   \n",
       "7                           GaAs_30kV_50pA      Ga  0.5169  Ga_Ka   \n",
       "8                           GaSb_05kV_50pA      Ga  0.3903  Ga_La   \n",
       "9                           GaSb_05kV_50pA      Sb  0.6097  Sb_La   \n",
       "10                          GaSb_10kV_50pA      Ga  0.4678  Ga_La   \n",
       "11                          GaSb_10kV_50pA      Sb  0.5322  Sb_La   \n",
       "12                         GaSb_15kV_200pA      Ga  0.4871  Ga_La   \n",
       "13                         GaSb_15kV_200pA      Sb  0.5129  Sb_La   \n",
       "14                         GaSb_15kV_400pA      Ga  0.4872  Ga_La   \n",
       "15                         GaSb_15kV_400pA      Sb  0.5128  Sb_La   \n",
       "16                          GaSb_15kV_50pA      Ga  0.4911  Ga_La   \n",
       "17                          GaSb_15kV_50pA      Sb  0.5089  Sb_La   \n",
       "18            GaSb_30kV_400pA_processTime1      Ga  0.5004  Ga_Ka   \n",
       "19            GaSb_30kV_400pA_processTime1      Sb  0.4996  Sb_La   \n",
       "20                          GaSb_30kV_50pA      Ga  0.5023  Ga_Ka   \n",
       "21                          GaSb_30kV_50pA      Sb  0.4977  Sb_La   \n",
       "22                   GaSb_30kV_50pA_noPPUC      Ga  0.5023  Ga_Ka   \n",
       "23                   GaSb_30kV_50pA_noPPUC      Sb  0.4977  Sb_La   \n",
       "24             GaSb_30kV_50pA_processTime1      Ga  0.5035  Ga_Ka   \n",
       "25             GaSb_30kV_50pA_processTime1      Sb  0.4965  Sb_La   \n",
       "26             GaSb_30kV_50pA_processTime2      Ga  0.5016  Ga_Ka   \n",
       "27             GaSb_30kV_50pA_processTime2      Sb  0.4984  Sb_La   \n",
       "28             GaSb_30kV_50pA_processTime4      Ga  0.5020  Ga_Ka   \n",
       "29             GaSb_30kV_50pA_processTime4      Sb  0.4980  Sb_La   \n",
       "30  GaSb_scratched_15kV_400pA_processTime3      Ga  0.5460  Ga_La   \n",
       "31  GaSb_scratched_15kV_400pA_processTime3      Sb  0.4540  Sb_La   \n",
       "32                GaSb_scratched_30kV_25pA      Ga  0.5564  Ga_Ka   \n",
       "33                GaSb_scratched_30kV_25pA      Sb  0.4436  Sb_La   \n",
       "\n",
       "                       Name          i  i/i_sum    kV   x     at_wt  Elements  \\\n",
       "0            GaAs 05kV 25pA    13128.0    0.445   5.0   0   74.9216  [As, Ga]   \n",
       "1            GaAs 05kV 25pA    16365.0    0.555   5.0   0   69.7230  [As, Ga]   \n",
       "2            GaAs 15kV 25pA    61699.0    0.374  15.0   1   74.9216  [As, Ga]   \n",
       "3            GaAs 15kV 25pA   103207.0    0.626  15.0   1   69.7230  [As, Ga]   \n",
       "4            GaAs 30kV 25pA    83787.0    0.373  30.0   2   74.9216  [As, Ga]   \n",
       "5            GaAs 30kV 25pA   140854.0    0.627  30.0   2   69.7230  [As, Ga]   \n",
       "6            GaAs 30kV 50pA   179725.0    0.372  30.0   3   74.9216  [As, Ga]   \n",
       "7            GaAs 30kV 50pA   303060.0    0.628  30.0   3   69.7230  [As, Ga]   \n",
       "8            GaSb 05kV 50pA    19130.0    0.951   5.0   4   69.7230  [Ga, Sb]   \n",
       "9            GaSb 05kV 50pA      986.0    0.049   5.0   4  121.7600  [Ga, Sb]   \n",
       "10           GaSb 10kV 50pA    46021.0    0.630  10.0   5   69.7230  [Ga, Sb]   \n",
       "11           GaSb 10kV 50pA    27030.0    0.370  10.0   5  121.7600  [Ga, Sb]   \n",
       "12          GaSb 15kV 200pA   154746.0    0.436  15.0   6   69.7230  [Ga, Sb]   \n",
       "13          GaSb 15kV 200pA   199835.0    0.564  15.0   6  121.7600  [Ga, Sb]   \n",
       "14          GaSb 15kV 400pA   283915.0    0.436  15.0   7   69.7230  [Ga, Sb]   \n",
       "15          GaSb 15kV 400pA   367468.0    0.564  15.0   7  121.7600  [Ga, Sb]   \n",
       "16           GaSb 15kV 50pA    74315.0    0.442  15.0   8   69.7230  [Ga, Sb]   \n",
       "17           GaSb 15kV 50pA    93967.0    0.558  15.0   8  121.7600  [Ga, Sb]   \n",
       "18      GaSb 30kV 400pA PT1  1723976.0    0.365  30.0   9   69.7230  [Ga, Sb]   \n",
       "19      GaSb 30kV 400pA PT1  2996401.0    0.635  30.0   9  121.7600  [Ga, Sb]   \n",
       "20           GaSb 30kV 50pA   190734.0    0.347  30.0  10   69.7230  [Ga, Sb]   \n",
       "21           GaSb 30kV 50pA   358668.0    0.653  30.0  10  121.7600  [Ga, Sb]   \n",
       "22    GaSb 30kV 50pA noPPUC   190889.0    0.348  30.0  11   69.7230  [Ga, Sb]   \n",
       "23    GaSb 30kV 50pA noPPUC   358349.0    0.652  30.0  11  121.7600  [Ga, Sb]   \n",
       "24       GaSb 30kV 50pA PT1   177754.0    0.369  30.0  12   69.7230  [Ga, Sb]   \n",
       "25       GaSb 30kV 50pA PT1   304269.0    0.631  30.0  12  121.7600  [Ga, Sb]   \n",
       "26       GaSb 30kV 50pA PT2   184210.0    0.358  30.0  13   69.7230  [Ga, Sb]   \n",
       "27       GaSb 30kV 50pA PT2   329776.0    0.642  30.0  13  121.7600  [Ga, Sb]   \n",
       "28       GaSb 30kV 50pA PT4   188844.0    0.350  30.0  14   69.7230  [Ga, Sb]   \n",
       "29       GaSb 30kV 50pA PT4   350191.0    0.650  30.0  14  121.7600  [Ga, Sb]   \n",
       "30  GaSb scr 15kV 400pA PT3   760185.0    0.495  15.0  15   69.7230  [Ga, Sb]   \n",
       "31  GaSb scr 15kV 400pA PT3   775425.0    0.505  15.0  15  121.7600  [Ga, Sb]   \n",
       "32       GaSb scr 30kV 25pA    91436.0    0.398  30.0  16   69.7230  [Ga, Sb]   \n",
       "33       GaSb scr 30kV 25pA   138272.0    0.602  30.0  16  121.7600  [Ga, Sb]   \n",
       "\n",
       "      i: at%      mu      A          i0  i0/i0_sum   i0: at%  \n",
       "0   0.427317  3744.1   1.56     20416.8      0.514  0.496026  \n",
       "1   0.572683  1387.4   1.18     19274.6      0.486  0.503974  \n",
       "2   0.357322  3744.1  15.89    980576.1      0.773  0.760135  \n",
       "3   0.642678  1387.4   2.79    287622.7      0.227  0.239865  \n",
       "4   0.356341   123.4   1.34    111979.7      0.418  0.400616  \n",
       "5   0.643659    43.2   1.11    155907.6      0.582  0.599384  \n",
       "6   0.355361   123.4   1.34    240198.9      0.417  0.399629  \n",
       "7   0.644639    43.2   1.11    335449.2      0.583  0.600371  \n",
       "8   0.971341  3981.2   1.59     30364.1      0.967  0.980833  \n",
       "9   0.028659   449.6   1.05      1038.8      0.033  0.019167  \n",
       "10  0.748332  3981.2   4.35    200187.5      0.863  0.916671  \n",
       "11  0.251668   449.6   1.18     31912.0      0.137  0.083329  \n",
       "12  0.574469  3981.2  18.06   2794389.0      0.910  0.946402  \n",
       "13  0.425531   449.6   1.39    277073.3      0.090  0.053598  \n",
       "14  0.574469  3981.2  18.06   5126910.9      0.910  0.946402  \n",
       "15  0.425531   449.6   1.39    509498.2      0.090  0.053598  \n",
       "16  0.580414  3981.2  18.06   1341973.4      0.912  0.947640  \n",
       "17  0.419586   449.6   1.39    130286.2      0.088  0.052360  \n",
       "18  0.500948   106.4   1.28   2205208.2      0.206  0.311807  \n",
       "19  0.499052   449.6   2.83   8476568.8      0.794  0.688193  \n",
       "20  0.481326   106.4   1.28    243975.7      0.194  0.295941  \n",
       "21  0.518674   449.6   2.83   1014641.9      0.806  0.704059  \n",
       "22  0.482427   106.4   1.28    244173.9      0.194  0.295941  \n",
       "23  0.517573   449.6   2.83   1013739.5      0.806  0.704059  \n",
       "24  0.505253   106.4   1.28    227372.4      0.209  0.315735  \n",
       "25  0.494747   449.6   2.83    860751.6      0.791  0.684265  \n",
       "26  0.493367   106.4   1.28    235630.5      0.202  0.306546  \n",
       "27  0.506633   449.6   2.83    932908.8      0.798  0.693454  \n",
       "28  0.484625   106.4   1.28    241558.1      0.196  0.298602  \n",
       "29  0.515375   449.6   2.83    990661.2      0.804  0.701398  \n",
       "30  0.631236  3981.2  18.06  13727350.5      0.927  0.956852  \n",
       "31  0.368764   449.6   1.39   1075134.9      0.073  0.043148  \n",
       "32  0.535867   106.4   1.28    116959.5      0.230  0.342812  \n",
       "33  0.464133   449.6   2.83    391160.0      0.770  0.657188  "
      ]
     },
     "execution_count": 68,
     "metadata": {},
     "output_type": "execute_result"
    }
   ],
   "source": [
    "df"
   ]
  },
  {
   "cell_type": "code",
   "execution_count": null,
   "metadata": {},
   "outputs": [],
   "source": []
  },
  {
   "cell_type": "code",
   "execution_count": null,
   "metadata": {},
   "outputs": [],
   "source": []
  },
  {
   "cell_type": "code",
   "execution_count": 69,
   "metadata": {},
   "outputs": [
    {
     "ename": "SyntaxError",
     "evalue": "invalid syntax (1575662230.py, line 1)",
     "output_type": "error",
     "traceback": [
      "\u001b[1;36m  Cell \u001b[1;32mIn[69], line 1\u001b[1;36m\u001b[0m\n\u001b[1;33m    stop here to see the plot below!\u001b[0m\n\u001b[1;37m         ^\u001b[0m\n\u001b[1;31mSyntaxError\u001b[0m\u001b[1;31m:\u001b[0m invalid syntax\n"
     ]
    }
   ],
   "source": [
    "stop here to see the plot below!"
   ]
  },
  {
   "cell_type": "code",
   "execution_count": null,
   "metadata": {},
   "outputs": [],
   "source": []
  },
  {
   "cell_type": "code",
   "execution_count": null,
   "metadata": {},
   "outputs": [
    {
     "data": {
      "application/vnd.plotly.v1+json": {
       "config": {
        "plotlyServerURL": "https://plot.ly"
       },
       "data": [
        {
         "mode": "markers",
         "name": "Measured Intensity",
         "type": "scatter",
         "x": [
          0,
          0,
          1,
          1,
          2,
          2,
          3,
          3,
          4,
          4,
          5,
          5,
          6,
          6,
          7,
          7,
          8,
          8,
          9,
          9,
          10,
          10,
          11,
          11,
          12,
          12,
          13,
          13,
          14,
          14,
          15,
          15,
          16,
          16
         ],
         "y": [
          0.445,
          0.555,
          0.374,
          0.626,
          0.373,
          0.627,
          0.372,
          0.628,
          0.951,
          0.049,
          0.63,
          0.37,
          0.436,
          0.564,
          0.436,
          0.564,
          0.442,
          0.558,
          0.365,
          0.635,
          0.347,
          0.653,
          0.348,
          0.652,
          0.369,
          0.631,
          0.358,
          0.642,
          0.35,
          0.65,
          0.495,
          0.505,
          0.398,
          0.602
         ]
        },
        {
         "mode": "markers",
         "name": "A corrected Intensity, t2",
         "type": "scatter",
         "x": [
          0,
          0,
          1,
          1,
          2,
          2,
          3,
          3,
          4,
          4,
          5,
          5,
          6,
          6,
          7,
          7,
          8,
          8,
          9,
          9,
          10,
          10,
          11,
          11,
          12,
          12,
          13,
          13,
          14,
          14,
          15,
          15,
          16,
          16
         ],
         "y": [
          0.47,
          0.53,
          0.546,
          0.454,
          0.388,
          0.612,
          0.387,
          0.613,
          0.958,
          0.042,
          0.745,
          0.255,
          0.692,
          0.308,
          0.692,
          0.308,
          0.697,
          0.303,
          0.292,
          0.708,
          0.276,
          0.724,
          0.276,
          0.724,
          0.295,
          0.705,
          0.286,
          0.714,
          0.278,
          0.722,
          0.74,
          0.26,
          0.321,
          0.679
         ]
        },
        {
         "mode": "markers",
         "name": "A corrected Intensity, t3",
         "type": "scatter",
         "x": [
          0,
          0,
          1,
          1,
          2,
          2,
          3,
          3,
          4,
          4,
          5,
          5,
          6,
          6,
          7,
          7,
          8,
          8,
          9,
          9,
          10,
          10,
          11,
          11,
          12,
          12,
          13,
          13,
          14,
          14,
          15,
          15,
          16,
          16
         ],
         "y": [
          0.462,
          0.538,
          0.488,
          0.512,
          0.383,
          0.617,
          0.382,
          0.618,
          0.956,
          0.044,
          0.709,
          0.291,
          0.612,
          0.388,
          0.611,
          0.389,
          0.617,
          0.383,
          0.315,
          0.685,
          0.298,
          0.702,
          0.299,
          0.701,
          0.319,
          0.681,
          0.309,
          0.691,
          0.301,
          0.699,
          0.666,
          0.334,
          0.346,
          0.654
         ]
        },
        {
         "mode": "markers",
         "name": "A corrected Intensity, t4",
         "type": "scatter",
         "x": [
          0,
          0,
          1,
          1,
          2,
          2,
          3,
          3,
          4,
          4,
          5,
          5,
          6,
          6,
          7,
          7,
          8,
          8,
          9,
          9,
          10,
          10,
          11,
          11,
          12,
          12,
          13,
          13,
          14,
          14,
          15,
          15,
          16,
          16
         ],
         "y": [
          0.457,
          0.543,
          0.459,
          0.541,
          0.38,
          0.62,
          0.38,
          0.62,
          0.955,
          0.045,
          0.69,
          0.31,
          0.569,
          0.431,
          0.568,
          0.432,
          0.574,
          0.426,
          0.327,
          0.673,
          0.31,
          0.69,
          0.311,
          0.689,
          0.331,
          0.669,
          0.321,
          0.679,
          0.313,
          0.687,
          0.626,
          0.374,
          0.359,
          0.641
         ]
        },
        {
         "mode": "markers",
         "name": "AZ comp",
         "type": "scatter",
         "x": [
          0,
          0,
          1,
          1,
          2,
          2,
          3,
          3,
          4,
          4,
          5,
          5,
          6,
          6,
          7,
          7,
          8,
          8,
          9,
          9,
          10,
          10,
          11,
          11,
          12,
          12,
          13,
          13,
          14,
          14,
          15,
          15,
          16,
          16
         ],
         "y": [
          0.5342,
          0.4658,
          0.5062,
          0.4938,
          0.4841,
          0.5159,
          0.48310000000000003,
          0.5169,
          0.39030000000000004,
          0.6097,
          0.4678,
          0.5322,
          0.48710000000000003,
          0.5129,
          0.48719999999999997,
          0.5128,
          0.4911,
          0.5089,
          0.5004,
          0.4996,
          0.5023,
          0.49770000000000003,
          0.5023,
          0.49770000000000003,
          0.5035000000000001,
          0.4965,
          0.5015999999999999,
          0.4984,
          0.502,
          0.498,
          0.546,
          0.45399999999999996,
          0.5564,
          0.4436
         ]
        }
       ],
       "layout": {
        "template": {
         "data": {
          "bar": [
           {
            "error_x": {
             "color": "#2a3f5f"
            },
            "error_y": {
             "color": "#2a3f5f"
            },
            "marker": {
             "line": {
              "color": "#E5ECF6",
              "width": 0.5
             },
             "pattern": {
              "fillmode": "overlay",
              "size": 10,
              "solidity": 0.2
             }
            },
            "type": "bar"
           }
          ],
          "barpolar": [
           {
            "marker": {
             "line": {
              "color": "#E5ECF6",
              "width": 0.5
             },
             "pattern": {
              "fillmode": "overlay",
              "size": 10,
              "solidity": 0.2
             }
            },
            "type": "barpolar"
           }
          ],
          "carpet": [
           {
            "aaxis": {
             "endlinecolor": "#2a3f5f",
             "gridcolor": "white",
             "linecolor": "white",
             "minorgridcolor": "white",
             "startlinecolor": "#2a3f5f"
            },
            "baxis": {
             "endlinecolor": "#2a3f5f",
             "gridcolor": "white",
             "linecolor": "white",
             "minorgridcolor": "white",
             "startlinecolor": "#2a3f5f"
            },
            "type": "carpet"
           }
          ],
          "choropleth": [
           {
            "colorbar": {
             "outlinewidth": 0,
             "ticks": ""
            },
            "type": "choropleth"
           }
          ],
          "contour": [
           {
            "colorbar": {
             "outlinewidth": 0,
             "ticks": ""
            },
            "colorscale": [
             [
              0,
              "#0d0887"
             ],
             [
              0.1111111111111111,
              "#46039f"
             ],
             [
              0.2222222222222222,
              "#7201a8"
             ],
             [
              0.3333333333333333,
              "#9c179e"
             ],
             [
              0.4444444444444444,
              "#bd3786"
             ],
             [
              0.5555555555555556,
              "#d8576b"
             ],
             [
              0.6666666666666666,
              "#ed7953"
             ],
             [
              0.7777777777777778,
              "#fb9f3a"
             ],
             [
              0.8888888888888888,
              "#fdca26"
             ],
             [
              1,
              "#f0f921"
             ]
            ],
            "type": "contour"
           }
          ],
          "contourcarpet": [
           {
            "colorbar": {
             "outlinewidth": 0,
             "ticks": ""
            },
            "type": "contourcarpet"
           }
          ],
          "heatmap": [
           {
            "colorbar": {
             "outlinewidth": 0,
             "ticks": ""
            },
            "colorscale": [
             [
              0,
              "#0d0887"
             ],
             [
              0.1111111111111111,
              "#46039f"
             ],
             [
              0.2222222222222222,
              "#7201a8"
             ],
             [
              0.3333333333333333,
              "#9c179e"
             ],
             [
              0.4444444444444444,
              "#bd3786"
             ],
             [
              0.5555555555555556,
              "#d8576b"
             ],
             [
              0.6666666666666666,
              "#ed7953"
             ],
             [
              0.7777777777777778,
              "#fb9f3a"
             ],
             [
              0.8888888888888888,
              "#fdca26"
             ],
             [
              1,
              "#f0f921"
             ]
            ],
            "type": "heatmap"
           }
          ],
          "heatmapgl": [
           {
            "colorbar": {
             "outlinewidth": 0,
             "ticks": ""
            },
            "colorscale": [
             [
              0,
              "#0d0887"
             ],
             [
              0.1111111111111111,
              "#46039f"
             ],
             [
              0.2222222222222222,
              "#7201a8"
             ],
             [
              0.3333333333333333,
              "#9c179e"
             ],
             [
              0.4444444444444444,
              "#bd3786"
             ],
             [
              0.5555555555555556,
              "#d8576b"
             ],
             [
              0.6666666666666666,
              "#ed7953"
             ],
             [
              0.7777777777777778,
              "#fb9f3a"
             ],
             [
              0.8888888888888888,
              "#fdca26"
             ],
             [
              1,
              "#f0f921"
             ]
            ],
            "type": "heatmapgl"
           }
          ],
          "histogram": [
           {
            "marker": {
             "pattern": {
              "fillmode": "overlay",
              "size": 10,
              "solidity": 0.2
             }
            },
            "type": "histogram"
           }
          ],
          "histogram2d": [
           {
            "colorbar": {
             "outlinewidth": 0,
             "ticks": ""
            },
            "colorscale": [
             [
              0,
              "#0d0887"
             ],
             [
              0.1111111111111111,
              "#46039f"
             ],
             [
              0.2222222222222222,
              "#7201a8"
             ],
             [
              0.3333333333333333,
              "#9c179e"
             ],
             [
              0.4444444444444444,
              "#bd3786"
             ],
             [
              0.5555555555555556,
              "#d8576b"
             ],
             [
              0.6666666666666666,
              "#ed7953"
             ],
             [
              0.7777777777777778,
              "#fb9f3a"
             ],
             [
              0.8888888888888888,
              "#fdca26"
             ],
             [
              1,
              "#f0f921"
             ]
            ],
            "type": "histogram2d"
           }
          ],
          "histogram2dcontour": [
           {
            "colorbar": {
             "outlinewidth": 0,
             "ticks": ""
            },
            "colorscale": [
             [
              0,
              "#0d0887"
             ],
             [
              0.1111111111111111,
              "#46039f"
             ],
             [
              0.2222222222222222,
              "#7201a8"
             ],
             [
              0.3333333333333333,
              "#9c179e"
             ],
             [
              0.4444444444444444,
              "#bd3786"
             ],
             [
              0.5555555555555556,
              "#d8576b"
             ],
             [
              0.6666666666666666,
              "#ed7953"
             ],
             [
              0.7777777777777778,
              "#fb9f3a"
             ],
             [
              0.8888888888888888,
              "#fdca26"
             ],
             [
              1,
              "#f0f921"
             ]
            ],
            "type": "histogram2dcontour"
           }
          ],
          "mesh3d": [
           {
            "colorbar": {
             "outlinewidth": 0,
             "ticks": ""
            },
            "type": "mesh3d"
           }
          ],
          "parcoords": [
           {
            "line": {
             "colorbar": {
              "outlinewidth": 0,
              "ticks": ""
             }
            },
            "type": "parcoords"
           }
          ],
          "pie": [
           {
            "automargin": true,
            "type": "pie"
           }
          ],
          "scatter": [
           {
            "fillpattern": {
             "fillmode": "overlay",
             "size": 10,
             "solidity": 0.2
            },
            "type": "scatter"
           }
          ],
          "scatter3d": [
           {
            "line": {
             "colorbar": {
              "outlinewidth": 0,
              "ticks": ""
             }
            },
            "marker": {
             "colorbar": {
              "outlinewidth": 0,
              "ticks": ""
             }
            },
            "type": "scatter3d"
           }
          ],
          "scattercarpet": [
           {
            "marker": {
             "colorbar": {
              "outlinewidth": 0,
              "ticks": ""
             }
            },
            "type": "scattercarpet"
           }
          ],
          "scattergeo": [
           {
            "marker": {
             "colorbar": {
              "outlinewidth": 0,
              "ticks": ""
             }
            },
            "type": "scattergeo"
           }
          ],
          "scattergl": [
           {
            "marker": {
             "colorbar": {
              "outlinewidth": 0,
              "ticks": ""
             }
            },
            "type": "scattergl"
           }
          ],
          "scattermapbox": [
           {
            "marker": {
             "colorbar": {
              "outlinewidth": 0,
              "ticks": ""
             }
            },
            "type": "scattermapbox"
           }
          ],
          "scatterpolar": [
           {
            "marker": {
             "colorbar": {
              "outlinewidth": 0,
              "ticks": ""
             }
            },
            "type": "scatterpolar"
           }
          ],
          "scatterpolargl": [
           {
            "marker": {
             "colorbar": {
              "outlinewidth": 0,
              "ticks": ""
             }
            },
            "type": "scatterpolargl"
           }
          ],
          "scatterternary": [
           {
            "marker": {
             "colorbar": {
              "outlinewidth": 0,
              "ticks": ""
             }
            },
            "type": "scatterternary"
           }
          ],
          "surface": [
           {
            "colorbar": {
             "outlinewidth": 0,
             "ticks": ""
            },
            "colorscale": [
             [
              0,
              "#0d0887"
             ],
             [
              0.1111111111111111,
              "#46039f"
             ],
             [
              0.2222222222222222,
              "#7201a8"
             ],
             [
              0.3333333333333333,
              "#9c179e"
             ],
             [
              0.4444444444444444,
              "#bd3786"
             ],
             [
              0.5555555555555556,
              "#d8576b"
             ],
             [
              0.6666666666666666,
              "#ed7953"
             ],
             [
              0.7777777777777778,
              "#fb9f3a"
             ],
             [
              0.8888888888888888,
              "#fdca26"
             ],
             [
              1,
              "#f0f921"
             ]
            ],
            "type": "surface"
           }
          ],
          "table": [
           {
            "cells": {
             "fill": {
              "color": "#EBF0F8"
             },
             "line": {
              "color": "white"
             }
            },
            "header": {
             "fill": {
              "color": "#C8D4E3"
             },
             "line": {
              "color": "white"
             }
            },
            "type": "table"
           }
          ]
         },
         "layout": {
          "annotationdefaults": {
           "arrowcolor": "#2a3f5f",
           "arrowhead": 0,
           "arrowwidth": 1
          },
          "autotypenumbers": "strict",
          "coloraxis": {
           "colorbar": {
            "outlinewidth": 0,
            "ticks": ""
           }
          },
          "colorscale": {
           "diverging": [
            [
             0,
             "#8e0152"
            ],
            [
             0.1,
             "#c51b7d"
            ],
            [
             0.2,
             "#de77ae"
            ],
            [
             0.3,
             "#f1b6da"
            ],
            [
             0.4,
             "#fde0ef"
            ],
            [
             0.5,
             "#f7f7f7"
            ],
            [
             0.6,
             "#e6f5d0"
            ],
            [
             0.7,
             "#b8e186"
            ],
            [
             0.8,
             "#7fbc41"
            ],
            [
             0.9,
             "#4d9221"
            ],
            [
             1,
             "#276419"
            ]
           ],
           "sequential": [
            [
             0,
             "#0d0887"
            ],
            [
             0.1111111111111111,
             "#46039f"
            ],
            [
             0.2222222222222222,
             "#7201a8"
            ],
            [
             0.3333333333333333,
             "#9c179e"
            ],
            [
             0.4444444444444444,
             "#bd3786"
            ],
            [
             0.5555555555555556,
             "#d8576b"
            ],
            [
             0.6666666666666666,
             "#ed7953"
            ],
            [
             0.7777777777777778,
             "#fb9f3a"
            ],
            [
             0.8888888888888888,
             "#fdca26"
            ],
            [
             1,
             "#f0f921"
            ]
           ],
           "sequentialminus": [
            [
             0,
             "#0d0887"
            ],
            [
             0.1111111111111111,
             "#46039f"
            ],
            [
             0.2222222222222222,
             "#7201a8"
            ],
            [
             0.3333333333333333,
             "#9c179e"
            ],
            [
             0.4444444444444444,
             "#bd3786"
            ],
            [
             0.5555555555555556,
             "#d8576b"
            ],
            [
             0.6666666666666666,
             "#ed7953"
            ],
            [
             0.7777777777777778,
             "#fb9f3a"
            ],
            [
             0.8888888888888888,
             "#fdca26"
            ],
            [
             1,
             "#f0f921"
            ]
           ]
          },
          "colorway": [
           "#636efa",
           "#EF553B",
           "#00cc96",
           "#ab63fa",
           "#FFA15A",
           "#19d3f3",
           "#FF6692",
           "#B6E880",
           "#FF97FF",
           "#FECB52"
          ],
          "font": {
           "color": "#2a3f5f"
          },
          "geo": {
           "bgcolor": "white",
           "lakecolor": "white",
           "landcolor": "#E5ECF6",
           "showlakes": true,
           "showland": true,
           "subunitcolor": "white"
          },
          "hoverlabel": {
           "align": "left"
          },
          "hovermode": "closest",
          "mapbox": {
           "style": "light"
          },
          "paper_bgcolor": "white",
          "plot_bgcolor": "#E5ECF6",
          "polar": {
           "angularaxis": {
            "gridcolor": "white",
            "linecolor": "white",
            "ticks": ""
           },
           "bgcolor": "#E5ECF6",
           "radialaxis": {
            "gridcolor": "white",
            "linecolor": "white",
            "ticks": ""
           }
          },
          "scene": {
           "xaxis": {
            "backgroundcolor": "#E5ECF6",
            "gridcolor": "white",
            "gridwidth": 2,
            "linecolor": "white",
            "showbackground": true,
            "ticks": "",
            "zerolinecolor": "white"
           },
           "yaxis": {
            "backgroundcolor": "#E5ECF6",
            "gridcolor": "white",
            "gridwidth": 2,
            "linecolor": "white",
            "showbackground": true,
            "ticks": "",
            "zerolinecolor": "white"
           },
           "zaxis": {
            "backgroundcolor": "#E5ECF6",
            "gridcolor": "white",
            "gridwidth": 2,
            "linecolor": "white",
            "showbackground": true,
            "ticks": "",
            "zerolinecolor": "white"
           }
          },
          "shapedefaults": {
           "line": {
            "color": "#2a3f5f"
           }
          },
          "ternary": {
           "aaxis": {
            "gridcolor": "white",
            "linecolor": "white",
            "ticks": ""
           },
           "baxis": {
            "gridcolor": "white",
            "linecolor": "white",
            "ticks": ""
           },
           "bgcolor": "#E5ECF6",
           "caxis": {
            "gridcolor": "white",
            "linecolor": "white",
            "ticks": ""
           }
          },
          "title": {
           "x": 0.05
          },
          "xaxis": {
           "automargin": true,
           "gridcolor": "white",
           "linecolor": "white",
           "ticks": "",
           "title": {
            "standoff": 15
           },
           "zerolinecolor": "white",
           "zerolinewidth": 2
          },
          "yaxis": {
           "automargin": true,
           "gridcolor": "white",
           "linecolor": "white",
           "ticks": "",
           "title": {
            "standoff": 15
           },
           "zerolinecolor": "white",
           "zerolinewidth": 2
          }
         }
        },
        "title": {
         "text": "Intensity with and without A correction"
        },
        "xaxis": {
         "range": [
          -0.5,
          16.5
         ],
         "tickangle": 90,
         "ticktext": [
          "(a) 05kV 25pA",
          "(a) 15kV 25pA",
          "(a) 30kV 25pA",
          "(a) 30kV 50pA",
          "(b) 05kV 50pA",
          "(b) 10kV 50pA",
          "(b) 15kV 200pA",
          "(b) 15kV 400pA",
          "(b) 15kV 50pA",
          "(b) 30kV 400pA PT1",
          "(b) 30kV 50pA",
          "(b) 30kV 50pA noPPUC",
          "(b) 30kV 50pA PT1",
          "(b) 30kV 50pA PT2",
          "(b) 30kV 50pA PT4",
          "(b) scr 15kV 400pA PT3",
          "(b) scr 30kV 25pA"
         ],
         "tickvals": [
          0,
          1,
          2,
          3,
          4,
          5,
          6,
          7,
          8,
          9,
          10,
          11,
          12,
          13,
          14,
          15,
          16
         ]
        },
        "yaxis": {
         "title": {
          "text": "Relative intensity"
         }
        }
       }
      }
     },
     "metadata": {},
     "output_type": "display_data"
    }
   ],
   "source": [
    "fig = go.Figure()\n",
    "\n",
    "y1 = df['i/i_sum']\n",
    "# y2 = df['i_gen/sum']\n",
    "y2t2 = df['i_gen_t2/sum']\n",
    "y2t3 = df['i_gen_t3/sum']\n",
    "y2t4 = df['i_gen_t4/sum']\n",
    "\n",
    "y3 = df['%at']\n",
    "\n",
    "fig.add_trace(go.Scatter(x=x, y=y1, name='Measured Intensity', mode='markers'))\n",
    "# fig.add_trace(go.Scatter(x=x, y=y2, name='A corrected Intensity', mode='markers'))\n",
    "fig.add_trace(go.Scatter(x=x, y=y2t2, name='A corrected Intensity, t2', mode='markers'))\n",
    "fig.add_trace(go.Scatter(x=x, y=y2t3, name='A corrected Intensity, t3', mode='markers'))\n",
    "fig.add_trace(go.Scatter(x=x, y=y2t4, name='A corrected Intensity, t4', mode='markers'))\n",
    "\n",
    "fig.add_trace(go.Scatter(x=x, y=y3, name='AZ comp', mode='markers'))\n",
    "\n",
    "fig.update_xaxes(tickvals=df['x'].unique(), ticktext=df['Name'].unique(), tickangle=90, range=[-0.5, len(df['x'].unique())-0.5])\n",
    "\n",
    "\n",
    "fig\n",
    "\n",
    "\n",
    "fig.update_layout(title='Intensity with and without A correction', yaxis_title='Relative intensity')"
   ]
  },
  {
   "cell_type": "code",
   "execution_count": null,
   "metadata": {},
   "outputs": [],
   "source": []
  },
  {
   "cell_type": "code",
   "execution_count": null,
   "metadata": {},
   "outputs": [],
   "source": []
  }
 ],
 "metadata": {
  "kernelspec": {
   "display_name": "hspy",
   "language": "python",
   "name": "python3"
  },
  "language_info": {
   "codemirror_mode": {
    "name": "ipython",
    "version": 3
   },
   "file_extension": ".py",
   "mimetype": "text/x-python",
   "name": "python",
   "nbconvert_exporter": "python",
   "pygments_lexer": "ipython3",
   "version": "3.8.16"
  },
  "orig_nbformat": 4
 },
 "nbformat": 4,
 "nbformat_minor": 2
}
