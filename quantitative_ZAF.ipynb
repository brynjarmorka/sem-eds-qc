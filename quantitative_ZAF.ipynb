{
 "cells": [
  {
   "cell_type": "code",
   "execution_count": null,
   "metadata": {},
   "outputs": [],
   "source": [
    "import hyperspy.api as hs\n",
    "import numpy as np\n",
    "import plotly.graph_objects as go\n",
    "import plotly.express as px\n",
    "import pandas as pd\n",
    "import os\n",
    "\n",
    "from helper_functions import elementlines, nearestlines, theoretical_energy"
   ]
  },
  {
   "cell_type": "code",
   "execution_count": null,
   "metadata": {},
   "outputs": [],
   "source": [
    "%matplotlib qt"
   ]
  },
  {
   "cell_type": "code",
   "execution_count": null,
   "metadata": {},
   "outputs": [],
   "source": [
    "##### SEM Apreo March 2023 #####\n",
    "path = '../../Masteroppgave/2023-03-08_EDS-Apreo/exports/'\n",
    "aztec_file = '../../Masteroppgave/2023-03-08_EDS-Apreo/AZtec k-factors and quantification.xlsx'\n",
    "nans = np.array([0,3,6,9,10,11,12,15,16,19,22,25,28,31,34,37,40,43,46,49,52,55,56,57,60])+1\n",
    "df = pd.read_excel(aztec_file, sheet_name=4, skiprows=nans)"
   ]
  },
  {
   "cell_type": "code",
   "execution_count": null,
   "metadata": {},
   "outputs": [],
   "source": [
    "df['Name'] = df['File']\n",
    "df['Name'] = df['Name'].str.replace('_', ' ')\n",
    "df['Name'] = df['Name'].str.replace('GaAs', '(a)')\n",
    "df['Name'] = df['Name'].str.replace('GaSb', '(b)')\n",
    "df['Name'] = df['Name'].str.replace('processTime', 'PT')\n",
    "df['Name'] = df['Name'].str.replace('scratched', 'scr')\n",
    "df['Line'] = df['Element'] + '_' + df['Line series'] + 'a'\n",
    "df['Line'] = df['Line'].str.replace(' ', '')\n",
    "df['i'] = 0.0\n",
    "df['i/i_sum'] = 0.0\n",
    "\n",
    "\n",
    "df.head(3)"
   ]
  },
  {
   "cell_type": "code",
   "execution_count": null,
   "metadata": {},
   "outputs": [],
   "source": [
    "def calculate_intensities(filename):\n",
    "\n",
    "        # check if filename exists in path\n",
    "    if filename + '.emsa' not in os.listdir(path):\n",
    "        print(filename + '.emsa', 'not found in path')\n",
    "        return\n",
    "    \n",
    "    df_s = df[df['File'] == filename]\n",
    "    df_s = df_s.sort_values(by=['Element']) # alphabetically, as HS\n",
    "\n",
    "    noise_slice = 0.65 # keV\n",
    "\n",
    "    # make the spectrum and the model\n",
    "    s = hs.load(path + filename + '.emsa', signal_type='EDS_TEM')\n",
    "    elements = df_s['Element'].values\n",
    "    s = s.isig[noise_slice:] # noise peak slice\n",
    "    if s.metadata.Acquisition_instrument.TEM.beam_energy < 20:\n",
    "        s = s.isig[:s.metadata.Acquisition_instrument.TEM.beam_energy]\n",
    "    s.add_elements(elements)\n",
    "    s.add_lines()\n",
    "    m = s.create_model()\n",
    "    m.fit()\n",
    "    m.fit_background()\n",
    "\n",
    "    lines = df_s['Line'].values\n",
    "\n",
    "    line_intensities = []\n",
    "    for l in lines:\n",
    "        line_intensities.append(int(m[l].A.value))\n",
    "\n",
    "    relative_intensities = []\n",
    "    for line_intens in line_intensities:\n",
    "        relative_intensities.append(round(line_intens/sum(line_intensities), 3))\n",
    "\n",
    "    df_s['i'] = line_intensities\n",
    "    df_s['i/i_sum'] = relative_intensities\n",
    "\n",
    "\n",
    "    df[df['File'] == filename] = df_s\n",
    "\n",
    "calculate_intensities('GaAs_30kV_50pA')"
   ]
  },
  {
   "cell_type": "code",
   "execution_count": null,
   "metadata": {},
   "outputs": [],
   "source": [
    "for filename in df['File'].unique():\n",
    "    calculate_intensities(filename)\n",
    "df"
   ]
  },
  {
   "cell_type": "code",
   "execution_count": null,
   "metadata": {},
   "outputs": [],
   "source": [
    "df.plot(x='Name', y='i/i_sum', kind='bar', figsize=(20,10), title='Relative intensities of lines with no correction')"
   ]
  }
 ],
 "metadata": {
  "kernelspec": {
   "display_name": "hspy",
   "language": "python",
   "name": "python3"
  },
  "language_info": {
   "codemirror_mode": {
    "name": "ipython",
    "version": 3
   },
   "file_extension": ".py",
   "mimetype": "text/x-python",
   "name": "python",
   "nbconvert_exporter": "python",
   "pygments_lexer": "ipython3",
   "version": "3.8.16"
  },
  "orig_nbformat": 4
 },
 "nbformat": 4,
 "nbformat_minor": 2
}
