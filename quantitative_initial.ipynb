{
 "cells": [
  {
   "cell_type": "code",
   "execution_count": null,
   "metadata": {},
   "outputs": [],
   "source": [
    "import hyperspy.api as hs\n",
    "import numpy as np\n",
    "import matplotlib.pyplot as plt\n",
    "import plotly.graph_objects as go\n",
    "import plotly.express as px\n",
    "import pandas as pd\n",
    "import os\n",
    "\n",
    "from helper_functions import elementlines, nearestlines, theoretical_energy"
   ]
  },
  {
   "cell_type": "code",
   "execution_count": null,
   "metadata": {},
   "outputs": [],
   "source": [
    "%matplotlib qt\n",
    "\n",
    "plt.rcParams['font.size'] = '16'\n",
    "plt.rcParams[\"figure.figsize\"] = (15,8)\n",
    "plt.rcParams['lines.linewidth'] = 3\n",
    "plt.rcParams['font.family'] = 'monospace'"
   ]
  },
  {
   "cell_type": "code",
   "execution_count": null,
   "metadata": {},
   "outputs": [],
   "source": [
    "##### SEM Apreo March 2023 #####\n",
    "path = '../../Masteroppgave/2023-03-08_EDS-Apreo/exports/'\n"
   ]
  },
  {
   "cell_type": "code",
   "execution_count": null,
   "metadata": {},
   "outputs": [],
   "source": [
    "# put all files in a list\n",
    "files = os.listdir(path)"
   ]
  },
  {
   "attachments": {},
   "cell_type": "markdown",
   "metadata": {},
   "source": [
    "# Quantification with AZtec"
   ]
  },
  {
   "cell_type": "code",
   "execution_count": null,
   "metadata": {},
   "outputs": [],
   "source": [
    "aztec_file = '../../Masteroppgave/2023-03-08_EDS-Apreo/AZtec k-factors and quantification.xlsx'\n",
    "nans = np.array([0,3,6,9,10,11,12,15,16,19,22,25,28,31,34,37,40,43,46,49,52,55,56,57,60])+1\n",
    "df = pd.read_excel(aztec_file, sheet_name=4, skiprows=nans)"
   ]
  },
  {
   "cell_type": "code",
   "execution_count": null,
   "metadata": {},
   "outputs": [],
   "source": [
    "df['Name'] = df['File']\n",
    "df['Name'] = df['Name'].str.replace('_', ' ')\n",
    "df['Name'] = df['Name'].str.replace('GaAs', '(a)')\n",
    "df['Name'] = df['Name'].str.replace('GaSb', '(b)')\n",
    "df['Name'] = df['Name'].str.replace('processTime', 'PT')\n",
    "df['Name'] = df['Name'].str.replace('scratched', 'scr')\n",
    "df['Line'] = df['Element'] + '_' + df['Line series'] + 'a'\n",
    "df['Line'] = df['Line'].str.replace(' ', '')\n",
    "df.head(3)"
   ]
  },
  {
   "cell_type": "code",
   "execution_count": null,
   "metadata": {},
   "outputs": [],
   "source": [
    "# make df2 as a deep copy of df\n",
    "df2 = df.copy()\n",
    "# drop all columns except Name, Line, Int. correction, k-ratio, %at\n",
    "df2 = df2[['Name', 'Line', 'Int. correction', 'k-ratio', '%at']]\n",
    "# rename columns\n",
    "df2['i'] = 0.0\n",
    "df2.columns = ['Name', 'Line', 'corr', 'k', 'AZ at%', 'i']\n",
    "df2.head(3)"
   ]
  },
  {
   "cell_type": "code",
   "execution_count": null,
   "metadata": {},
   "outputs": [],
   "source": [
    "# plot '%at' col with \"Line\" as color\n",
    "fig = px.scatter(df, x='Name', y='%at', color='Element', hover_name='Name', hover_data=['%at', 'Element', 'Line series', 'File'])\n",
    "fig.update_xaxes(tickangle=90)\n",
    "fig.update_layout(title='AZtec quantification  <br>(a)=GaAs, (b)=GaSb, scr=scratched')\n",
    "fig"
   ]
  },
  {
   "cell_type": "code",
   "execution_count": null,
   "metadata": {},
   "outputs": [],
   "source": [
    "df['File'].unique()"
   ]
  },
  {
   "cell_type": "code",
   "execution_count": null,
   "metadata": {},
   "outputs": [],
   "source": [
    "df['File'].unique()[0]"
   ]
  },
  {
   "cell_type": "code",
   "execution_count": null,
   "metadata": {},
   "outputs": [],
   "source": [
    "s = hs.load(path + df['File'].unique()[0] + '.emsa', signal_type='EDS_SEM')\n",
    "s.metadata"
   ]
  },
  {
   "cell_type": "code",
   "execution_count": null,
   "metadata": {},
   "outputs": [],
   "source": [
    "def calculate_composition(file_number, df, df2):\n",
    "    file = df['File'].unique()[file_number]\n",
    "    df_line = df[df['File']==file]\n",
    "\n",
    "    elements = df_line['Element'].unique()\n",
    "    intCorr = df_line['Int. correction'].unique()\n",
    "    lines = df_line['Line'].unique()\n",
    "    kRatio = df_line['k-ratio'].unique()\n",
    "    atAZtec = df_line['%at'].unique()\n",
    "\n",
    "    s = hs.load(path + file + '.emsa', signal_type='EDS_SEM')\n",
    "    s = s.isig[0.4:] # 0.4 keV\n",
    "\n",
    "    # if Vacc is lower than 20, slice at Vacc\n",
    "    if s.metadata.Acquisition_instrument.SEM.beam_energy < 20:\n",
    "        s = s.isig[:s.metadata.Acquisition_instrument.SEM.beam_energy]\n",
    "\n",
    "    s.add_elements(elements)\n",
    "    s.add_lines()\n",
    "\n",
    "    m = s.create_model()\n",
    "    m.fit()\n",
    "    m.fit_background()\n",
    "\n",
    "    intensities_raw_modelled = [m[lines[0]].A.value, m[lines[1]].A.value]\n",
    "\n",
    "    # add intensities_raw_modelled to df\n",
    "    \n",
    "    conditions = [\n",
    "        (df['File'] == file) & (df['Line'] == lines[0]),\n",
    "        (df['File'] == file) & (df['Line'] == lines[1])\n",
    "    ]\n",
    "    df['i'] = np.select(conditions, intensities_raw_modelled, default=np.nan)\n",
    "\n",
    "\n",
    "    # df2['i'] = np.select(conditions, intensities_raw_modelled)\n",
    "\n",
    "\n",
    "\n",
    "\n",
    "\n",
    "    # intensities_corrected = [i/k for i,k in zip(intensities_raw_modelled, kRatio)]\n",
    "    i_k = [i/k for i,k in zip(intensities_raw_modelled, kRatio)]\n",
    "    ic_k = [i*c/k for i,c,k in zip(intensities_raw_modelled, intCorr, kRatio)]\n",
    "    i_c_k = [i/c/k for i,c,k in zip(intensities_raw_modelled, intCorr, kRatio)]\n",
    "    # intensities_corrected = [i/c/k for i,c,k in zip(intensities_raw_modelled, intCorr, kRatio)]\n",
    "\n",
    "    p = file[:15] + '\\t i/k' + '\\t i*c/k' + '\\t i/c/k' + '\\t AZtec'\n",
    "    print(p)\n",
    "    # print(lines[0], '\\t\\t', round(i_k[0],2), '\\t', round(ic_k[0],2), '\\t', round(i_c_k[0],2), '\\t', round(atAZtec[0],2))\n",
    "    print(lines[0], '\\t\\t', round(i_k[0]/sum(i_k),2), '\\t', round(ic_k[0]/sum(ic_k),2), '\\t', round(i_c_k[0]/sum(i_c_k),2), '\\t', round(atAZtec[0]/sum(atAZtec),2))\n",
    "    print(lines[1], '\\t\\t', round(i_k[1]/sum(i_k),2), '\\t', round(ic_k[1]/sum(ic_k),2), '\\t', round(i_c_k[1]/sum(i_c_k),2), '\\t', round(atAZtec[1]/sum(atAZtec),2))\n",
    "\n",
    "\n",
    "\n",
    "    # concentrations = [round(intensities_corrected[i]/sum(intensities_corrected), 4) for i in [0,1]]\n",
    "    # print(concentrations, '\\n', atAZtec)\n",
    "\n",
    "    \n",
    "    return intensities_raw_modelled"
   ]
  },
  {
   "cell_type": "code",
   "execution_count": null,
   "metadata": {},
   "outputs": [],
   "source": [
    "calculate_composition(1, df, df2)"
   ]
  },
  {
   "cell_type": "code",
   "execution_count": null,
   "metadata": {},
   "outputs": [],
   "source": [
    "df2.head(6)"
   ]
  },
  {
   "cell_type": "code",
   "execution_count": null,
   "metadata": {},
   "outputs": [],
   "source": [
    "intensities_list = []\n",
    "for i in range(len(df['File'].unique())-2): # -2 because of the two maps\n",
    "    # print(df['File'].unique()[i])\n",
    "    i_list = calculate_composition(i, df, df2)\n",
    "    intensities_list.append(i_list[0])\n",
    "    intensities_list.append(i_list[1])\n"
   ]
  },
  {
   "cell_type": "code",
   "execution_count": null,
   "metadata": {},
   "outputs": [],
   "source": [
    "len(intensities_list)\n",
    "# len(df2['i'])"
   ]
  },
  {
   "cell_type": "code",
   "execution_count": null,
   "metadata": {},
   "outputs": [],
   "source": [
    "intensities_list += [np.nan]*4"
   ]
  },
  {
   "cell_type": "code",
   "execution_count": null,
   "metadata": {},
   "outputs": [],
   "source": [
    "df2['i'] = intensities_list\n",
    "df['i'] = intensities_list\n",
    "\n",
    "df2.head(3)"
   ]
  },
  {
   "cell_type": "code",
   "execution_count": null,
   "metadata": {},
   "outputs": [],
   "source": [
    "fig = px.scatter(df, x='Name', y='i', color='Line', hover_name='Name', hover_data=['%at', 'Element', 'Line series', 'File'])\n",
    "\n",
    "fig.update_xaxes(tickangle=90)\n",
    "fig.update_yaxes(range=[0,400e3])\n",
    "\n",
    "fig.update_layout(title='Counts in the peaks  <br>(a)=GaAs, (b)=GaSb, scr=scratched')\n",
    "\n",
    "fig.write_html('i.html')\n",
    "\n",
    "fig"
   ]
  },
  {
   "cell_type": "code",
   "execution_count": null,
   "metadata": {},
   "outputs": [],
   "source": [
    "df2['i/k'] = df2['i']/df2['k']\n",
    "df2['i*c/k'] = df2['i']*df2['corr']/df2['k']\n",
    "df2['i/c/k'] = df2['i']/df2['corr']/df2['k']\n"
   ]
  },
  {
   "cell_type": "code",
   "execution_count": null,
   "metadata": {},
   "outputs": [],
   "source": [
    "# go through unique names and calculate i/k[0]/sum(i/k) and i/k[1]/sum(i/k)\n",
    "\n",
    "for name in df2['Name'].unique():\n",
    "    df2['i/k'][df2['Name']==name] = df2['i/k'][df2['Name']==name]/sum(df2['i/k'][df2['Name']==name])\n",
    "    df2['i*c/k'][df2['Name']==name] = df2['i*c/k'][df2['Name']==name]/sum(df2['i*c/k'][df2['Name']==name])\n",
    "    df2['i/c/k'][df2['Name']==name] = df2['i/c/k'][df2['Name']==name]/sum(df2['i/c/k'][df2['Name']==name])"
   ]
  },
  {
   "cell_type": "code",
   "execution_count": null,
   "metadata": {},
   "outputs": [],
   "source": [
    "fig = px.scatter(df2.sort_values(by=[\"Line\"]), x='Name', y='AZ at%', color='Line', hover_name='Name', hover_data=['AZ at%', 'i', 'i/k', 'i*c/k', 'i/c/k'])\n",
    "\n",
    "fig.update_traces(marker=dict(size=10,\n",
    "                              line=dict(width=2,\n",
    "                                        color='DarkSlateGrey')),\n",
    "                  selector=dict(mode='markers'))\n",
    "\n",
    "\n",
    "fig.update_xaxes(tickangle=90)\n",
    "fig.update_layout(title='AZ at%')\n",
    "fig.write_html('AZ_comp.html')\n",
    "\n",
    "fig"
   ]
  },
  {
   "cell_type": "code",
   "execution_count": null,
   "metadata": {},
   "outputs": [],
   "source": [
    "c0 = 2\n",
    "c2 = 6\n",
    "co = np.array([px.colors.sequential.Blues[c0:c2],\n",
    "px.colors.sequential.Teal[c0:c2],\n",
    "px.colors.sequential.Peach[c0:c2],\n",
    "px.colors.sequential.Burg[c0:c2],\n",
    "px.colors.sequential.Greys[c0:c2]])"
   ]
  },
  {
   "cell_type": "code",
   "execution_count": null,
   "metadata": {},
   "outputs": [],
   "source": [
    "fig = go.Figure()\n",
    "\n",
    "lines_list = ['As_Ka', 'As_La', 'Ga_Ka', 'Ga_La', 'Sb_La']\n",
    "\n",
    "for l in lines_list:\n",
    "    # df2[df2['Line'] =='As_Ka']\n",
    "        # print(df2[df2['Line'] =='As_Ka'][key])\n",
    "    i = lines_list.index(l)\n",
    "    mode = 'markers'\n",
    "    bol = df2['Line'] == l\n",
    "    # fig.add_scatter(x=df2[bol]['Name'], y = df2[bol]['i/k'], mode=mode, name=l, marker=dict(size=10, color=co.T[0][i]), legendgroup=l)\n",
    "    # fig.add_scatter(x=df2[bol]['Name'], y = df2[bol]['i*c/k'], mode=mode, name=l, marker=dict(size=10, color=co.T[1][i]), legendgroup=l)\n",
    "    # fig.add_scatter(x=df2[bol]['Name'], y = df2[bol]['i/c/k'], mode=mode, name=l, marker=dict(size=10, color=co.T[2][i]), legendgroup=l)\n",
    "\n",
    "\n",
    "    # fig.add_scatter(x=df2[bol]['Name'], y = df2[bol]['i']/df2[bol]['i'].mean(), mode=mode, name=l, marker=dict(size=10, color=co.T[2][i]), legendgroup=l)\n",
    "    # fig.add_scatter(x=df2[bol]['Name'], y = df2[bol]['AZ at%']/100, mode='markers', name='AZ', marker=dict(size=5, color=co.T[3][i]))\n",
    "\n",
    "    fig.add_scatter(x=df2[bol]['Name'], y = df2[bol]['i'], mode=mode, name=f'I({l})', marker=dict(size=10, color=co.T[2][i], symbol='square'))\n",
    "    fig.add_scatter(x=df2[bol]['Name'], y = df2[bol]['AZ at%']/100*df2[bol]['i'].mean(), mode='markers', name='AZ at% * I(mean)', marker=dict(size=5, color=co.T[3][i]))\n",
    "\n",
    "fig.update_yaxes(type='log', title='Counts and [AZ at% * I(mean)]')\n",
    "fig.add_hline(y=0.5*df2[bol]['i'].mean(), line_width=1, line_dash=\"dash\", line_color=\"black\")\n",
    "fig.update_layout(title='Intensity (squares) and AZ at% (circles)')\n",
    "\n",
    "fig\n"
   ]
  },
  {
   "cell_type": "code",
   "execution_count": null,
   "metadata": {},
   "outputs": [],
   "source": [
    "fig = go.Figure()\n",
    "lines_list = ['Sb_La']\n",
    "for l in lines_list:\n",
    "    i = lines_list.index(l)\n",
    "    fig.add_scatter(x=df2[df2['Line'] == l]['Name'], y = df2[df2['Line'] == l]['i/k'], mode='markers+lines', name='i/k', marker=dict(size=5, color=co.T[0][i]))\n",
    "    fig.add_scatter(x=df2[df2['Line'] == l]['Name'], y = df2[df2['Line'] == l]['i*c/k'], mode='markers+lines', name='i*c/k', marker=dict(size=5, color=co.T[1][i]))\n",
    "    fig.add_scatter(x=df2[df2['Line'] == l]['Name'], y = df2[df2['Line'] == l]['i/c/k'], mode='markers+lines', name='i/c/k', marker=dict(size=5, color=co.T[2][i]))\n",
    "    fig.add_scatter(x=df2[df2['Line'] == l]['Name'], y = df2[df2['Line'] == l]['AZ at%']/100, mode='markers+lines', name='AZ at%', marker=dict(size=5, color=co.T[3][i]))\n",
    "fig.update_layout(title='Sb La')\n",
    "fig\n"
   ]
  },
  {
   "cell_type": "code",
   "execution_count": null,
   "metadata": {},
   "outputs": [],
   "source": [
    "fig = go.Figure()\n",
    "lines_list = ['Ga_La']\n",
    "for l in lines_list:\n",
    "    i = lines_list.index(l)\n",
    "    fig.add_scatter(x=df2[df2['Line'] == l]['Name'], y = df2[df2['Line'] == l]['i/k'], mode='markers+lines', name='i/k', marker=dict(size=5, color=co.T[0][i]))\n",
    "    fig.add_scatter(x=df2[df2['Line'] == l]['Name'], y = df2[df2['Line'] == l]['i*c/k'], mode='markers+lines', name='i*c/k', marker=dict(size=5, color=co.T[1][i]))\n",
    "    fig.add_scatter(x=df2[df2['Line'] == l]['Name'], y = df2[df2['Line'] == l]['i/c/k'], mode='markers+lines', name='i/c/k', marker=dict(size=5, color=co.T[2][i]))\n",
    "    fig.add_scatter(x=df2[df2['Line'] == l]['Name'], y = df2[df2['Line'] == l]['AZ at%']/100, mode='markers+lines', name='AZ at%', marker=dict(size=5, color=co.T[3][i]))\n",
    "fig.update_layout(title=lines_list[0])\n",
    "fig\n"
   ]
  },
  {
   "cell_type": "code",
   "execution_count": null,
   "metadata": {},
   "outputs": [],
   "source": [
    "fig = go.Figure()\n",
    "lines_list = ['Sb_La']\n",
    "for l in lines_list:\n",
    "    i = lines_list.index(l)\n",
    "    bol = df2['Line'] == l\n",
    "    fig.add_scatter(x=df2[bol]['Name'], y = df2[bol]['i']/df2[bol]['i'].max(), mode='markers+lines', name='i', marker=dict(size=5, color=co.T[0][i]))\n",
    "    # fig.add_scatter(x=df2[bol]['Name'], y = df2[bol]['i*c/k'], mode='markers+lines', name='i*c/k', marker=dict(size=5, color=co.T[1][i]))\n",
    "    # fig.add_scatter(x=df2[bol]['Name'], y = df2[bol]['i/c/k'], mode='markers+lines', name='i/c/k', marker=dict(size=5, color=co.T[2][i]))\n",
    "    fig.add_scatter(x=df2[bol]['Name'], y = df2[bol]['AZ at%']/100, mode='markers+lines', name='AZ at%', marker=dict(size=5, color=co.T[3][i]))\n",
    "fig.update_layout(title=lines_list[0])\n",
    "fig\n"
   ]
  },
  {
   "cell_type": "code",
   "execution_count": null,
   "metadata": {},
   "outputs": [],
   "source": [
    "fig = go.Figure()\n",
    "\n",
    "fig.add_scatter(x=df)"
   ]
  },
  {
   "cell_type": "code",
   "execution_count": null,
   "metadata": {},
   "outputs": [],
   "source": [
    "fig = px.scatter(df2, x='Name', y='i/k', color='Line', hover_name='Name', hover_data=['AZ at%', 'i', 'i/k', 'i*c/k', 'i/c/k'])\n",
    "\n",
    "\n",
    "fig.update_xaxes(tickangle=90)\n",
    "fig.update_layout(title='i/k')\n",
    "fig.write_html('i_k.html')\n",
    "\n",
    "fig"
   ]
  },
  {
   "cell_type": "code",
   "execution_count": null,
   "metadata": {},
   "outputs": [],
   "source": [
    "fig = px.scatter(df2, x='Name', y='i*c/k', color='Line', hover_name='Name', hover_data=['AZ at%', 'i', 'i/k', 'i*c/k', 'i/c/k'])\n",
    "fig.update_xaxes(tickangle=90)\n",
    "fig.update_layout(title='i*c/k')\n",
    "fig.write_html('ic_k.html')\n",
    "\n",
    "fig"
   ]
  },
  {
   "cell_type": "code",
   "execution_count": null,
   "metadata": {},
   "outputs": [],
   "source": [
    "fig = px.scatter(df2, x='Name', y='i/c/k', color='Line', hover_name='Name', hover_data=['AZ at%', 'i', 'i/k', 'i*c/k', 'i/c/k'])\n",
    "fig.update_xaxes(tickangle=90)\n",
    "fig.update_layout(title='i/c/k')\n",
    "fig.write_html('i_c_k.html')\n",
    "fig"
   ]
  },
  {
   "cell_type": "code",
   "execution_count": null,
   "metadata": {},
   "outputs": [],
   "source": []
  },
  {
   "cell_type": "code",
   "execution_count": null,
   "metadata": {},
   "outputs": [],
   "source": []
  },
  {
   "cell_type": "code",
   "execution_count": null,
   "metadata": {},
   "outputs": [],
   "source": [
    "i1 = int(m['As_Ka'].A.value) * 1.03\n",
    "k1 = 0.01876\n",
    "i2 = int(m['Ga_Ka'].A.value) * 1.0\n",
    "k2 = 0.03083"
   ]
  },
  {
   "cell_type": "code",
   "execution_count": null,
   "metadata": {},
   "outputs": [],
   "source": [
    "print('As Ka raw I: ', i1, '     As Ka corrected: ', i1 / k1)\n",
    "print('Ga Ka raw I: ', i2, '     Ga Ka corrected: ', i2 / k2)\n",
    "\n",
    "t1 = i1 / k1\n",
    "t2 = i2 / k2\n",
    "print('As:' , t1 / (t1 + t2))\n",
    "print('Ga:' , t2 / (t1 + t2))\n",
    "\n",
    "# without AZtec intensity correction\n",
    "# As: 0.4943\n",
    "# Ga: 0.5057"
   ]
  },
  {
   "cell_type": "code",
   "execution_count": null,
   "metadata": {},
   "outputs": [],
   "source": []
  },
  {
   "cell_type": "code",
   "execution_count": null,
   "metadata": {},
   "outputs": [],
   "source": [
    "s = hs.load(path + files[3], signal_type='EDS_TEM')\n",
    "s = s.isig[0.4:] # 0.4 keV\n",
    "\n",
    "s.add_elements(['As','Ga'])\n",
    "s.add_lines()\n",
    "\n",
    "m = s.create_model()\n",
    "m.fit()\n",
    "m.fit_background()"
   ]
  },
  {
   "cell_type": "code",
   "execution_count": null,
   "metadata": {},
   "outputs": [],
   "source": [
    "i1 = int(m['As_Ka'].A.value) * 1.03\n",
    "k1 = 0.01876\n",
    "i2 = int(m['Ga_Ka'].A.value) * 1.0\n",
    "k2 = 0.03083"
   ]
  },
  {
   "cell_type": "code",
   "execution_count": null,
   "metadata": {},
   "outputs": [],
   "source": [
    "print('As Ka raw I: ', i1, '     As Ka corrected: ', i1 / k1)\n",
    "print('Ga Ka raw I: ', i2, '     Ga Ka corrected: ', i2 / k2)\n",
    "\n",
    "t1 = i1 / k1\n",
    "t2 = i2 / k2\n",
    "print('As:' , t1 / (t1 + t2))\n",
    "print('Ga:' , t2 / (t1 + t2))\n",
    "\n",
    "# without AZtec intensity correction\n",
    "# As: 0.4943\n",
    "# Ga: 0.5057"
   ]
  },
  {
   "cell_type": "markdown",
   "metadata": {},
   "source": [
    "# treated as EDS_TEM\n"
   ]
  },
  {
   "cell_type": "code",
   "execution_count": null,
   "metadata": {},
   "outputs": [],
   "source": [
    "files = df['File'].unique()[:-2]\n",
    "files"
   ]
  },
  {
   "cell_type": "code",
   "execution_count": null,
   "metadata": {},
   "outputs": [],
   "source": [
    "s = hs.load(path + files[4] + '.emsa', signal_type='EDS_TEM')\n",
    "elements = ['As','Ga']\n",
    "elements = ['Sb','Ga']\n",
    "s.plot()"
   ]
  },
  {
   "cell_type": "code",
   "execution_count": null,
   "metadata": {},
   "outputs": [],
   "source": [
    "\n",
    "s = hs.load(path + files[0] + '.emsa', signal_type='EDS_TEM')\n",
    "elements = ['As','Ga']\n",
    "s = s.isig[0.4:] # 0.4 keV\n",
    "\n",
    "# if Vacc is lower than 20, slice at Vacc\n",
    "if s.metadata.Acquisition_instrument.TEM.beam_energy < 20:\n",
    "    s = s.isig[:s.metadata.Acquisition_instrument.TEM.beam_energy]\n",
    "\n",
    "s.add_elements(elements)\n",
    "s.add_lines()\n",
    "\n",
    "m = s.create_model()\n",
    "m.fit()\n",
    "m.fit_background()"
   ]
  },
  {
   "cell_type": "code",
   "execution_count": null,
   "metadata": {},
   "outputs": [],
   "source": [
    "kfactors = [4.191,3.268] # As, Ga\n",
    "\n",
    "intensities = s.get_lines_intensity()\n",
    "m_intensities = m.get_lines_intensity()"
   ]
  },
  {
   "cell_type": "code",
   "execution_count": null,
   "metadata": {},
   "outputs": [],
   "source": [
    "intensities"
   ]
  },
  {
   "cell_type": "code",
   "execution_count": null,
   "metadata": {},
   "outputs": [],
   "source": [
    "m_intensities[::2]"
   ]
  },
  {
   "cell_type": "code",
   "execution_count": null,
   "metadata": {},
   "outputs": [],
   "source": [
    "m_intensities[0].metadata.Sample.xray_lines"
   ]
  },
  {
   "cell_type": "code",
   "execution_count": null,
   "metadata": {},
   "outputs": [],
   "source": [
    "at = s.quantification(intensities, factors=kfactors, method='CL', absorption_correction=True, thickness=10000)\n",
    "at_m = s.quantification(m_intensities[::2], factors=kfactors, method='CL', absorption_correction=True, thickness=10000)"
   ]
  },
  {
   "cell_type": "code",
   "execution_count": null,
   "metadata": {},
   "outputs": [],
   "source": [
    "print('As at%: ', at[0][0].data, 'or with model m: ', at_m[0][0].data)\n",
    "print('Ga at%: ', at[0][1].data, 'or with model m: ', at_m[0][1].data)"
   ]
  },
  {
   "cell_type": "code",
   "execution_count": null,
   "metadata": {},
   "outputs": [],
   "source": []
  }
 ],
 "metadata": {
  "kernelspec": {
   "display_name": "hspy",
   "language": "python",
   "name": "python3"
  },
  "language_info": {
   "codemirror_mode": {
    "name": "ipython",
    "version": 3
   },
   "file_extension": ".py",
   "mimetype": "text/x-python",
   "name": "python",
   "nbconvert_exporter": "python",
   "pygments_lexer": "ipython3",
   "version": "3.8.16"
  },
  "orig_nbformat": 4
 },
 "nbformat": 4,
 "nbformat_minor": 2
}
