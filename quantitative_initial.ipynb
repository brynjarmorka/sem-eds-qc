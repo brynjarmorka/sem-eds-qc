{
 "cells": [
  {
   "cell_type": "code",
   "execution_count": 1,
   "metadata": {},
   "outputs": [],
   "source": [
    "import hyperspy.api as hs\n",
    "import numpy as np\n",
    "import matplotlib.pyplot as plt\n",
    "import plotly.graph_objects as go\n",
    "import plotly.express as px\n",
    "import pandas as pd\n",
    "import os\n",
    "\n",
    "from helper_functions import elementlines, nearestlines, theoretical_energy"
   ]
  },
  {
   "cell_type": "code",
   "execution_count": 2,
   "metadata": {},
   "outputs": [],
   "source": [
    "%matplotlib qt\n",
    "\n",
    "plt.rcParams['font.size'] = '16'\n",
    "plt.rcParams[\"figure.figsize\"] = (15,8)\n",
    "plt.rcParams['lines.linewidth'] = 3\n",
    "plt.rcParams['font.family'] = 'monospace'"
   ]
  },
  {
   "cell_type": "code",
   "execution_count": 3,
   "metadata": {},
   "outputs": [],
   "source": [
    "##### SEM Apreo March 2023 #####\n",
    "path = '../../Masteroppgave/2023-03-08_EDS-Apreo/exports/'\n"
   ]
  },
  {
   "cell_type": "code",
   "execution_count": 4,
   "metadata": {},
   "outputs": [],
   "source": [
    "# put all files in a list\n",
    "files = os.listdir(path)"
   ]
  },
  {
   "attachments": {},
   "cell_type": "markdown",
   "metadata": {},
   "source": [
    "# Quantification with AZtec"
   ]
  },
  {
   "cell_type": "code",
   "execution_count": 5,
   "metadata": {},
   "outputs": [],
   "source": [
    "aztec_file = '../../Masteroppgave/2023-03-08_EDS-Apreo/AZtec k-factors and quantification.xlsx'\n",
    "df = pd.read_excel(aztec_file, sheet_name=4)"
   ]
  },
  {
   "cell_type": "code",
   "execution_count": 6,
   "metadata": {},
   "outputs": [
    {
     "data": {
      "text/html": [
       "<div>\n",
       "<style scoped>\n",
       "    .dataframe tbody tr th:only-of-type {\n",
       "        vertical-align: middle;\n",
       "    }\n",
       "\n",
       "    .dataframe tbody tr th {\n",
       "        vertical-align: top;\n",
       "    }\n",
       "\n",
       "    .dataframe thead th {\n",
       "        text-align: right;\n",
       "    }\n",
       "</style>\n",
       "<table border=\"1\" class=\"dataframe\">\n",
       "  <thead>\n",
       "    <tr style=\"text-align: right;\">\n",
       "      <th></th>\n",
       "      <th>File</th>\n",
       "      <th>Element</th>\n",
       "      <th>i corr</th>\n",
       "      <th>k-ratio</th>\n",
       "      <th>%at</th>\n",
       "      <th>Line</th>\n",
       "      <th>Name</th>\n",
       "    </tr>\n",
       "  </thead>\n",
       "  <tbody>\n",
       "    <tr>\n",
       "      <th>0</th>\n",
       "      <td>GaAs_05kV_25pA</td>\n",
       "      <td>As</td>\n",
       "      <td>1.61</td>\n",
       "      <td>0.00234</td>\n",
       "      <td>53.42</td>\n",
       "      <td>As_La</td>\n",
       "      <td>(a) 05kV 25pA</td>\n",
       "    </tr>\n",
       "    <tr>\n",
       "      <th>1</th>\n",
       "      <td>GaAs_05kV_25pA</td>\n",
       "      <td>Ga</td>\n",
       "      <td>1.07</td>\n",
       "      <td>0.00220</td>\n",
       "      <td>46.58</td>\n",
       "      <td>Ga_La</td>\n",
       "      <td>(a) 05kV 25pA</td>\n",
       "    </tr>\n",
       "    <tr>\n",
       "      <th>2</th>\n",
       "      <td>GaAs_15kV_25pA</td>\n",
       "      <td>As</td>\n",
       "      <td>1.00</td>\n",
       "      <td>0.01876</td>\n",
       "      <td>50.62</td>\n",
       "      <td>As_La</td>\n",
       "      <td>(a) 15kV 25pA</td>\n",
       "    </tr>\n",
       "  </tbody>\n",
       "</table>\n",
       "</div>"
      ],
      "text/plain": [
       "             File Element  i corr  k-ratio    %at   Line           Name\n",
       "0  GaAs_05kV_25pA      As    1.61  0.00234  53.42  As_La  (a) 05kV 25pA\n",
       "1  GaAs_05kV_25pA      Ga    1.07  0.00220  46.58  Ga_La  (a) 05kV 25pA\n",
       "2  GaAs_15kV_25pA      As    1.00  0.01876  50.62  As_La  (a) 15kV 25pA"
      ]
     },
     "execution_count": 6,
     "metadata": {},
     "output_type": "execute_result"
    }
   ],
   "source": [
    "df['Name'] = df['File']\n",
    "df['Name'] = df['Name'].str.replace('_', ' ')\n",
    "df['Name'] = df['Name'].str.replace('GaAs', '(a)')\n",
    "df['Name'] = df['Name'].str.replace('GaSb', '(b)')\n",
    "df['Name'] = df['Name'].str.replace('processTime', 'PT')\n",
    "df['Name'] = df['Name'].str.replace('scratched', 'scr')\n",
    "df.head(3)"
   ]
  },
  {
   "cell_type": "code",
   "execution_count": 7,
   "metadata": {},
   "outputs": [
    {
     "data": {
      "text/html": [
       "<div>\n",
       "<style scoped>\n",
       "    .dataframe tbody tr th:only-of-type {\n",
       "        vertical-align: middle;\n",
       "    }\n",
       "\n",
       "    .dataframe tbody tr th {\n",
       "        vertical-align: top;\n",
       "    }\n",
       "\n",
       "    .dataframe thead th {\n",
       "        text-align: right;\n",
       "    }\n",
       "</style>\n",
       "<table border=\"1\" class=\"dataframe\">\n",
       "  <thead>\n",
       "    <tr style=\"text-align: right;\">\n",
       "      <th></th>\n",
       "      <th>Name</th>\n",
       "      <th>Line</th>\n",
       "      <th>corr</th>\n",
       "      <th>k</th>\n",
       "      <th>AZ at%</th>\n",
       "      <th>i</th>\n",
       "    </tr>\n",
       "  </thead>\n",
       "  <tbody>\n",
       "    <tr>\n",
       "      <th>0</th>\n",
       "      <td>(a) 05kV 25pA</td>\n",
       "      <td>As_La</td>\n",
       "      <td>1.61</td>\n",
       "      <td>0.00234</td>\n",
       "      <td>53.42</td>\n",
       "      <td>0.0</td>\n",
       "    </tr>\n",
       "    <tr>\n",
       "      <th>1</th>\n",
       "      <td>(a) 05kV 25pA</td>\n",
       "      <td>Ga_La</td>\n",
       "      <td>1.07</td>\n",
       "      <td>0.00220</td>\n",
       "      <td>46.58</td>\n",
       "      <td>0.0</td>\n",
       "    </tr>\n",
       "    <tr>\n",
       "      <th>2</th>\n",
       "      <td>(a) 15kV 25pA</td>\n",
       "      <td>As_La</td>\n",
       "      <td>1.00</td>\n",
       "      <td>0.01876</td>\n",
       "      <td>50.62</td>\n",
       "      <td>0.0</td>\n",
       "    </tr>\n",
       "  </tbody>\n",
       "</table>\n",
       "</div>"
      ],
      "text/plain": [
       "            Name   Line  corr        k  AZ at%    i\n",
       "0  (a) 05kV 25pA  As_La  1.61  0.00234   53.42  0.0\n",
       "1  (a) 05kV 25pA  Ga_La  1.07  0.00220   46.58  0.0\n",
       "2  (a) 15kV 25pA  As_La  1.00  0.01876   50.62  0.0"
      ]
     },
     "execution_count": 7,
     "metadata": {},
     "output_type": "execute_result"
    }
   ],
   "source": [
    "# make df2 as a deep copy of df\n",
    "df2 = df.copy()\n",
    "# drop all columns except Name, Line, Int. correction, k-ratio, %at\n",
    "df2 = df2[['Name', 'Line', 'i corr', 'k-ratio', '%at']]\n",
    "# rename columns\n",
    "df2['i'] = 0.0\n",
    "df2.columns = ['Name', 'Line', 'corr', 'k', 'AZ at%', 'i']\n",
    "df2.head(3)"
   ]
  },
  {
   "cell_type": "code",
   "execution_count": 8,
   "metadata": {},
   "outputs": [
    {
     "data": {
      "application/vnd.plotly.v1+json": {
       "config": {
        "plotlyServerURL": "https://plot.ly"
       },
       "data": [
        {
         "customdata": [
          [
           "As",
           "As_La",
           "GaAs_05kV_25pA"
          ],
          [
           "As",
           "As_La",
           "GaAs_15kV_25pA"
          ],
          [
           "As",
           "As_Ka",
           "GaAs_30kV_25pA"
          ],
          [
           "As",
           "As_Ka",
           "GaAs_30kV_50pA"
          ]
         ],
         "hovertemplate": "<b>%{hovertext}</b><br><br>Element=%{customdata[0]}<br>Name=%{x}<br>%at=%{y}<br>Line=%{customdata[1]}<br>File=%{customdata[2]}<extra></extra>",
         "hovertext": [
          "(a) 05kV 25pA",
          "(a) 15kV 25pA",
          "(a) 30kV 25pA",
          "(a) 30kV 50pA"
         ],
         "legendgroup": "As",
         "marker": {
          "color": "#636efa",
          "symbol": "circle"
         },
         "mode": "markers",
         "name": "As",
         "orientation": "v",
         "showlegend": true,
         "type": "scatter",
         "x": [
          "(a) 05kV 25pA",
          "(a) 15kV 25pA",
          "(a) 30kV 25pA",
          "(a) 30kV 50pA"
         ],
         "xaxis": "x",
         "y": [
          53.42,
          50.62,
          48.41,
          48.31
         ],
         "yaxis": "y"
        },
        {
         "customdata": [
          [
           "Ga",
           "Ga_La",
           "GaAs_05kV_25pA"
          ],
          [
           "Ga",
           "Ga_La",
           "GaAs_15kV_25pA"
          ],
          [
           "Ga",
           "Ga_Ka",
           "GaAs_30kV_25pA"
          ],
          [
           "Ga",
           "Ga_Ka",
           "GaAs_30kV_50pA"
          ],
          [
           "Ga",
           "Ga_La",
           "GaSb_05kV_50pA"
          ],
          [
           "Ga",
           "Ga_La",
           "GaSb_10kV_50pA"
          ],
          [
           "Ga",
           "Ga_La",
           "GaSb_15kV_200pA"
          ],
          [
           "Ga",
           "Ga_La",
           "GaSb_15kV_400pA"
          ],
          [
           "Ga",
           "Ga_La",
           "GaSb_15kV_50pA"
          ],
          [
           "Ga",
           "Ga_Ka",
           "GaSb_30kV_400pA_processTime1"
          ],
          [
           "Ga",
           "Ga_Ka",
           "GaSb_30kV_50pA"
          ],
          [
           "Ga",
           "Ga_Ka",
           "GaSb_30kV_50pA_noPPUC"
          ],
          [
           "Ga",
           "Ga_Ka",
           "GaSb_30kV_50pA_processTime1"
          ],
          [
           "Ga",
           "Ga_Ka",
           "GaSb_30kV_50pA_processTime2"
          ],
          [
           "Ga",
           "Ga_Ka",
           "GaSb_30kV_50pA_processTime4"
          ],
          [
           "Ga",
           "Ga_La",
           "GaSb_scratched_15kV_400pA_processTime3"
          ],
          [
           "Ga",
           "Ga_Ka",
           "GaSb_scratched_30kV_25pA"
          ],
          [
           "Ga",
           "Ga_La",
           "Map1"
          ],
          [
           "Ga",
           "Ga_La",
           "Map2"
          ]
         ],
         "hovertemplate": "<b>%{hovertext}</b><br><br>Element=%{customdata[0]}<br>Name=%{x}<br>%at=%{y}<br>Line=%{customdata[1]}<br>File=%{customdata[2]}<extra></extra>",
         "hovertext": [
          "(a) 05kV 25pA",
          "(a) 15kV 25pA",
          "(a) 30kV 25pA",
          "(a) 30kV 50pA",
          "(b) 05kV 50pA",
          "(b) 10kV 50pA",
          "(b) 15kV 200pA",
          "(b) 15kV 400pA",
          "(b) 15kV 50pA",
          "(b) 30kV 400pA PT1",
          "(b) 30kV 50pA",
          "(b) 30kV 50pA noPPUC",
          "(b) 30kV 50pA PT1",
          "(b) 30kV 50pA PT2",
          "(b) 30kV 50pA PT4",
          "(b) scr 15kV 400pA PT3",
          "(b) scr 30kV 25pA",
          "Map1",
          "Map2"
         ],
         "legendgroup": "Ga",
         "marker": {
          "color": "#EF553B",
          "symbol": "circle"
         },
         "mode": "markers",
         "name": "Ga",
         "orientation": "v",
         "showlegend": true,
         "type": "scatter",
         "x": [
          "(a) 05kV 25pA",
          "(a) 15kV 25pA",
          "(a) 30kV 25pA",
          "(a) 30kV 50pA",
          "(b) 05kV 50pA",
          "(b) 10kV 50pA",
          "(b) 15kV 200pA",
          "(b) 15kV 400pA",
          "(b) 15kV 50pA",
          "(b) 30kV 400pA PT1",
          "(b) 30kV 50pA",
          "(b) 30kV 50pA noPPUC",
          "(b) 30kV 50pA PT1",
          "(b) 30kV 50pA PT2",
          "(b) 30kV 50pA PT4",
          "(b) scr 15kV 400pA PT3",
          "(b) scr 30kV 25pA",
          "Map1",
          "Map2"
         ],
         "xaxis": "x",
         "y": [
          46.58,
          49.38,
          51.59,
          51.69,
          39.03,
          46.78,
          48.71,
          48.72,
          49.11,
          50.04,
          50.23,
          50.23,
          50.35,
          50.16,
          50.2,
          54.6,
          55.64,
          48.97,
          48.9
         ],
         "yaxis": "y"
        },
        {
         "customdata": [
          [
           "Sb",
           "Sb_La",
           "GaSb_05kV_50pA"
          ],
          [
           "Sb",
           "Sb_La",
           "GaSb_10kV_50pA"
          ],
          [
           "Sb",
           "Sb_La",
           "GaSb_15kV_200pA"
          ],
          [
           "Sb",
           "Sb_La",
           "GaSb_15kV_400pA"
          ],
          [
           "Sb",
           "Sb_La",
           "GaSb_15kV_50pA"
          ],
          [
           "Sb",
           "Sb_La",
           "GaSb_30kV_400pA_processTime1"
          ],
          [
           "Sb",
           "Sb_La",
           "GaSb_30kV_50pA"
          ],
          [
           "Sb",
           "Sb_La",
           "GaSb_30kV_50pA_noPPUC"
          ],
          [
           "Sb",
           "Sb_La",
           "GaSb_30kV_50pA_processTime1"
          ],
          [
           "Sb",
           "Sb_La",
           "GaSb_30kV_50pA_processTime2"
          ],
          [
           "Sb",
           "Sb_La",
           "GaSb_30kV_50pA_processTime4"
          ],
          [
           "Sb",
           "Sb_La",
           "GaSb_scratched_15kV_400pA_processTime3"
          ],
          [
           "Sb",
           "Sb_La",
           "GaSb_scratched_30kV_25pA"
          ],
          [
           "Sb",
           "Sb_La",
           "Map1"
          ],
          [
           "Sb",
           "Sb_La",
           "Map2"
          ]
         ],
         "hovertemplate": "<b>%{hovertext}</b><br><br>Element=%{customdata[0]}<br>Name=%{x}<br>%at=%{y}<br>Line=%{customdata[1]}<br>File=%{customdata[2]}<extra></extra>",
         "hovertext": [
          "(b) 05kV 50pA",
          "(b) 10kV 50pA",
          "(b) 15kV 200pA",
          "(b) 15kV 400pA",
          "(b) 15kV 50pA",
          "(b) 30kV 400pA PT1",
          "(b) 30kV 50pA",
          "(b) 30kV 50pA noPPUC",
          "(b) 30kV 50pA PT1",
          "(b) 30kV 50pA PT2",
          "(b) 30kV 50pA PT4",
          "(b) scr 15kV 400pA PT3",
          "(b) scr 30kV 25pA",
          "Map1",
          "Map2"
         ],
         "legendgroup": "Sb",
         "marker": {
          "color": "#00cc96",
          "symbol": "circle"
         },
         "mode": "markers",
         "name": "Sb",
         "orientation": "v",
         "showlegend": true,
         "type": "scatter",
         "x": [
          "(b) 05kV 50pA",
          "(b) 10kV 50pA",
          "(b) 15kV 200pA",
          "(b) 15kV 400pA",
          "(b) 15kV 50pA",
          "(b) 30kV 400pA PT1",
          "(b) 30kV 50pA",
          "(b) 30kV 50pA noPPUC",
          "(b) 30kV 50pA PT1",
          "(b) 30kV 50pA PT2",
          "(b) 30kV 50pA PT4",
          "(b) scr 15kV 400pA PT3",
          "(b) scr 30kV 25pA",
          "Map1",
          "Map2"
         ],
         "xaxis": "x",
         "y": [
          60.97,
          53.22,
          51.29,
          51.28,
          50.89,
          49.96,
          49.77,
          49.77,
          49.65,
          49.84,
          49.8,
          45.4,
          44.36,
          51.03,
          51.1
         ],
         "yaxis": "y"
        }
       ],
       "layout": {
        "legend": {
         "title": {
          "text": "Element"
         },
         "tracegroupgap": 0
        },
        "margin": {
         "t": 60
        },
        "template": {
         "data": {
          "bar": [
           {
            "error_x": {
             "color": "#2a3f5f"
            },
            "error_y": {
             "color": "#2a3f5f"
            },
            "marker": {
             "line": {
              "color": "#E5ECF6",
              "width": 0.5
             },
             "pattern": {
              "fillmode": "overlay",
              "size": 10,
              "solidity": 0.2
             }
            },
            "type": "bar"
           }
          ],
          "barpolar": [
           {
            "marker": {
             "line": {
              "color": "#E5ECF6",
              "width": 0.5
             },
             "pattern": {
              "fillmode": "overlay",
              "size": 10,
              "solidity": 0.2
             }
            },
            "type": "barpolar"
           }
          ],
          "carpet": [
           {
            "aaxis": {
             "endlinecolor": "#2a3f5f",
             "gridcolor": "white",
             "linecolor": "white",
             "minorgridcolor": "white",
             "startlinecolor": "#2a3f5f"
            },
            "baxis": {
             "endlinecolor": "#2a3f5f",
             "gridcolor": "white",
             "linecolor": "white",
             "minorgridcolor": "white",
             "startlinecolor": "#2a3f5f"
            },
            "type": "carpet"
           }
          ],
          "choropleth": [
           {
            "colorbar": {
             "outlinewidth": 0,
             "ticks": ""
            },
            "type": "choropleth"
           }
          ],
          "contour": [
           {
            "colorbar": {
             "outlinewidth": 0,
             "ticks": ""
            },
            "colorscale": [
             [
              0,
              "#0d0887"
             ],
             [
              0.1111111111111111,
              "#46039f"
             ],
             [
              0.2222222222222222,
              "#7201a8"
             ],
             [
              0.3333333333333333,
              "#9c179e"
             ],
             [
              0.4444444444444444,
              "#bd3786"
             ],
             [
              0.5555555555555556,
              "#d8576b"
             ],
             [
              0.6666666666666666,
              "#ed7953"
             ],
             [
              0.7777777777777778,
              "#fb9f3a"
             ],
             [
              0.8888888888888888,
              "#fdca26"
             ],
             [
              1,
              "#f0f921"
             ]
            ],
            "type": "contour"
           }
          ],
          "contourcarpet": [
           {
            "colorbar": {
             "outlinewidth": 0,
             "ticks": ""
            },
            "type": "contourcarpet"
           }
          ],
          "heatmap": [
           {
            "colorbar": {
             "outlinewidth": 0,
             "ticks": ""
            },
            "colorscale": [
             [
              0,
              "#0d0887"
             ],
             [
              0.1111111111111111,
              "#46039f"
             ],
             [
              0.2222222222222222,
              "#7201a8"
             ],
             [
              0.3333333333333333,
              "#9c179e"
             ],
             [
              0.4444444444444444,
              "#bd3786"
             ],
             [
              0.5555555555555556,
              "#d8576b"
             ],
             [
              0.6666666666666666,
              "#ed7953"
             ],
             [
              0.7777777777777778,
              "#fb9f3a"
             ],
             [
              0.8888888888888888,
              "#fdca26"
             ],
             [
              1,
              "#f0f921"
             ]
            ],
            "type": "heatmap"
           }
          ],
          "heatmapgl": [
           {
            "colorbar": {
             "outlinewidth": 0,
             "ticks": ""
            },
            "colorscale": [
             [
              0,
              "#0d0887"
             ],
             [
              0.1111111111111111,
              "#46039f"
             ],
             [
              0.2222222222222222,
              "#7201a8"
             ],
             [
              0.3333333333333333,
              "#9c179e"
             ],
             [
              0.4444444444444444,
              "#bd3786"
             ],
             [
              0.5555555555555556,
              "#d8576b"
             ],
             [
              0.6666666666666666,
              "#ed7953"
             ],
             [
              0.7777777777777778,
              "#fb9f3a"
             ],
             [
              0.8888888888888888,
              "#fdca26"
             ],
             [
              1,
              "#f0f921"
             ]
            ],
            "type": "heatmapgl"
           }
          ],
          "histogram": [
           {
            "marker": {
             "pattern": {
              "fillmode": "overlay",
              "size": 10,
              "solidity": 0.2
             }
            },
            "type": "histogram"
           }
          ],
          "histogram2d": [
           {
            "colorbar": {
             "outlinewidth": 0,
             "ticks": ""
            },
            "colorscale": [
             [
              0,
              "#0d0887"
             ],
             [
              0.1111111111111111,
              "#46039f"
             ],
             [
              0.2222222222222222,
              "#7201a8"
             ],
             [
              0.3333333333333333,
              "#9c179e"
             ],
             [
              0.4444444444444444,
              "#bd3786"
             ],
             [
              0.5555555555555556,
              "#d8576b"
             ],
             [
              0.6666666666666666,
              "#ed7953"
             ],
             [
              0.7777777777777778,
              "#fb9f3a"
             ],
             [
              0.8888888888888888,
              "#fdca26"
             ],
             [
              1,
              "#f0f921"
             ]
            ],
            "type": "histogram2d"
           }
          ],
          "histogram2dcontour": [
           {
            "colorbar": {
             "outlinewidth": 0,
             "ticks": ""
            },
            "colorscale": [
             [
              0,
              "#0d0887"
             ],
             [
              0.1111111111111111,
              "#46039f"
             ],
             [
              0.2222222222222222,
              "#7201a8"
             ],
             [
              0.3333333333333333,
              "#9c179e"
             ],
             [
              0.4444444444444444,
              "#bd3786"
             ],
             [
              0.5555555555555556,
              "#d8576b"
             ],
             [
              0.6666666666666666,
              "#ed7953"
             ],
             [
              0.7777777777777778,
              "#fb9f3a"
             ],
             [
              0.8888888888888888,
              "#fdca26"
             ],
             [
              1,
              "#f0f921"
             ]
            ],
            "type": "histogram2dcontour"
           }
          ],
          "mesh3d": [
           {
            "colorbar": {
             "outlinewidth": 0,
             "ticks": ""
            },
            "type": "mesh3d"
           }
          ],
          "parcoords": [
           {
            "line": {
             "colorbar": {
              "outlinewidth": 0,
              "ticks": ""
             }
            },
            "type": "parcoords"
           }
          ],
          "pie": [
           {
            "automargin": true,
            "type": "pie"
           }
          ],
          "scatter": [
           {
            "fillpattern": {
             "fillmode": "overlay",
             "size": 10,
             "solidity": 0.2
            },
            "type": "scatter"
           }
          ],
          "scatter3d": [
           {
            "line": {
             "colorbar": {
              "outlinewidth": 0,
              "ticks": ""
             }
            },
            "marker": {
             "colorbar": {
              "outlinewidth": 0,
              "ticks": ""
             }
            },
            "type": "scatter3d"
           }
          ],
          "scattercarpet": [
           {
            "marker": {
             "colorbar": {
              "outlinewidth": 0,
              "ticks": ""
             }
            },
            "type": "scattercarpet"
           }
          ],
          "scattergeo": [
           {
            "marker": {
             "colorbar": {
              "outlinewidth": 0,
              "ticks": ""
             }
            },
            "type": "scattergeo"
           }
          ],
          "scattergl": [
           {
            "marker": {
             "colorbar": {
              "outlinewidth": 0,
              "ticks": ""
             }
            },
            "type": "scattergl"
           }
          ],
          "scattermapbox": [
           {
            "marker": {
             "colorbar": {
              "outlinewidth": 0,
              "ticks": ""
             }
            },
            "type": "scattermapbox"
           }
          ],
          "scatterpolar": [
           {
            "marker": {
             "colorbar": {
              "outlinewidth": 0,
              "ticks": ""
             }
            },
            "type": "scatterpolar"
           }
          ],
          "scatterpolargl": [
           {
            "marker": {
             "colorbar": {
              "outlinewidth": 0,
              "ticks": ""
             }
            },
            "type": "scatterpolargl"
           }
          ],
          "scatterternary": [
           {
            "marker": {
             "colorbar": {
              "outlinewidth": 0,
              "ticks": ""
             }
            },
            "type": "scatterternary"
           }
          ],
          "surface": [
           {
            "colorbar": {
             "outlinewidth": 0,
             "ticks": ""
            },
            "colorscale": [
             [
              0,
              "#0d0887"
             ],
             [
              0.1111111111111111,
              "#46039f"
             ],
             [
              0.2222222222222222,
              "#7201a8"
             ],
             [
              0.3333333333333333,
              "#9c179e"
             ],
             [
              0.4444444444444444,
              "#bd3786"
             ],
             [
              0.5555555555555556,
              "#d8576b"
             ],
             [
              0.6666666666666666,
              "#ed7953"
             ],
             [
              0.7777777777777778,
              "#fb9f3a"
             ],
             [
              0.8888888888888888,
              "#fdca26"
             ],
             [
              1,
              "#f0f921"
             ]
            ],
            "type": "surface"
           }
          ],
          "table": [
           {
            "cells": {
             "fill": {
              "color": "#EBF0F8"
             },
             "line": {
              "color": "white"
             }
            },
            "header": {
             "fill": {
              "color": "#C8D4E3"
             },
             "line": {
              "color": "white"
             }
            },
            "type": "table"
           }
          ]
         },
         "layout": {
          "annotationdefaults": {
           "arrowcolor": "#2a3f5f",
           "arrowhead": 0,
           "arrowwidth": 1
          },
          "autotypenumbers": "strict",
          "coloraxis": {
           "colorbar": {
            "outlinewidth": 0,
            "ticks": ""
           }
          },
          "colorscale": {
           "diverging": [
            [
             0,
             "#8e0152"
            ],
            [
             0.1,
             "#c51b7d"
            ],
            [
             0.2,
             "#de77ae"
            ],
            [
             0.3,
             "#f1b6da"
            ],
            [
             0.4,
             "#fde0ef"
            ],
            [
             0.5,
             "#f7f7f7"
            ],
            [
             0.6,
             "#e6f5d0"
            ],
            [
             0.7,
             "#b8e186"
            ],
            [
             0.8,
             "#7fbc41"
            ],
            [
             0.9,
             "#4d9221"
            ],
            [
             1,
             "#276419"
            ]
           ],
           "sequential": [
            [
             0,
             "#0d0887"
            ],
            [
             0.1111111111111111,
             "#46039f"
            ],
            [
             0.2222222222222222,
             "#7201a8"
            ],
            [
             0.3333333333333333,
             "#9c179e"
            ],
            [
             0.4444444444444444,
             "#bd3786"
            ],
            [
             0.5555555555555556,
             "#d8576b"
            ],
            [
             0.6666666666666666,
             "#ed7953"
            ],
            [
             0.7777777777777778,
             "#fb9f3a"
            ],
            [
             0.8888888888888888,
             "#fdca26"
            ],
            [
             1,
             "#f0f921"
            ]
           ],
           "sequentialminus": [
            [
             0,
             "#0d0887"
            ],
            [
             0.1111111111111111,
             "#46039f"
            ],
            [
             0.2222222222222222,
             "#7201a8"
            ],
            [
             0.3333333333333333,
             "#9c179e"
            ],
            [
             0.4444444444444444,
             "#bd3786"
            ],
            [
             0.5555555555555556,
             "#d8576b"
            ],
            [
             0.6666666666666666,
             "#ed7953"
            ],
            [
             0.7777777777777778,
             "#fb9f3a"
            ],
            [
             0.8888888888888888,
             "#fdca26"
            ],
            [
             1,
             "#f0f921"
            ]
           ]
          },
          "colorway": [
           "#636efa",
           "#EF553B",
           "#00cc96",
           "#ab63fa",
           "#FFA15A",
           "#19d3f3",
           "#FF6692",
           "#B6E880",
           "#FF97FF",
           "#FECB52"
          ],
          "font": {
           "color": "#2a3f5f"
          },
          "geo": {
           "bgcolor": "white",
           "lakecolor": "white",
           "landcolor": "#E5ECF6",
           "showlakes": true,
           "showland": true,
           "subunitcolor": "white"
          },
          "hoverlabel": {
           "align": "left"
          },
          "hovermode": "closest",
          "mapbox": {
           "style": "light"
          },
          "paper_bgcolor": "white",
          "plot_bgcolor": "#E5ECF6",
          "polar": {
           "angularaxis": {
            "gridcolor": "white",
            "linecolor": "white",
            "ticks": ""
           },
           "bgcolor": "#E5ECF6",
           "radialaxis": {
            "gridcolor": "white",
            "linecolor": "white",
            "ticks": ""
           }
          },
          "scene": {
           "xaxis": {
            "backgroundcolor": "#E5ECF6",
            "gridcolor": "white",
            "gridwidth": 2,
            "linecolor": "white",
            "showbackground": true,
            "ticks": "",
            "zerolinecolor": "white"
           },
           "yaxis": {
            "backgroundcolor": "#E5ECF6",
            "gridcolor": "white",
            "gridwidth": 2,
            "linecolor": "white",
            "showbackground": true,
            "ticks": "",
            "zerolinecolor": "white"
           },
           "zaxis": {
            "backgroundcolor": "#E5ECF6",
            "gridcolor": "white",
            "gridwidth": 2,
            "linecolor": "white",
            "showbackground": true,
            "ticks": "",
            "zerolinecolor": "white"
           }
          },
          "shapedefaults": {
           "line": {
            "color": "#2a3f5f"
           }
          },
          "ternary": {
           "aaxis": {
            "gridcolor": "white",
            "linecolor": "white",
            "ticks": ""
           },
           "baxis": {
            "gridcolor": "white",
            "linecolor": "white",
            "ticks": ""
           },
           "bgcolor": "#E5ECF6",
           "caxis": {
            "gridcolor": "white",
            "linecolor": "white",
            "ticks": ""
           }
          },
          "title": {
           "x": 0.05
          },
          "xaxis": {
           "automargin": true,
           "gridcolor": "white",
           "linecolor": "white",
           "ticks": "",
           "title": {
            "standoff": 15
           },
           "zerolinecolor": "white",
           "zerolinewidth": 2
          },
          "yaxis": {
           "automargin": true,
           "gridcolor": "white",
           "linecolor": "white",
           "ticks": "",
           "title": {
            "standoff": 15
           },
           "zerolinecolor": "white",
           "zerolinewidth": 2
          }
         }
        },
        "title": {
         "text": "AZtec quantification  <br>(a)=GaAs, (b)=GaSb, scr=scratched"
        },
        "xaxis": {
         "anchor": "y",
         "domain": [
          0,
          1
         ],
         "tickangle": 90,
         "title": {
          "text": "Name"
         }
        },
        "yaxis": {
         "anchor": "x",
         "domain": [
          0,
          1
         ],
         "title": {
          "text": "%at"
         }
        }
       }
      }
     },
     "metadata": {},
     "output_type": "display_data"
    }
   ],
   "source": [
    "# plot '%at' col with \"Line\" as color\n",
    "fig = px.scatter(df, x='Name', y='%at', color='Element', hover_name='Name', hover_data=['%at', 'Element', 'Line', 'File'])\n",
    "fig.update_xaxes(tickangle=90)\n",
    "fig.update_layout(title='AZtec quantification  <br>(a)=GaAs, (b)=GaSb, scr=scratched')\n",
    "fig"
   ]
  },
  {
   "cell_type": "code",
   "execution_count": 9,
   "metadata": {},
   "outputs": [
    {
     "data": {
      "text/plain": [
       "array(['GaAs_05kV_25pA', 'GaAs_15kV_25pA', 'GaAs_30kV_25pA',\n",
       "       'GaAs_30kV_50pA', 'GaSb_05kV_50pA', 'GaSb_10kV_50pA',\n",
       "       'GaSb_15kV_200pA', 'GaSb_15kV_400pA', 'GaSb_15kV_50pA',\n",
       "       'GaSb_30kV_400pA_processTime1', 'GaSb_30kV_50pA',\n",
       "       'GaSb_30kV_50pA_noPPUC', 'GaSb_30kV_50pA_processTime1',\n",
       "       'GaSb_30kV_50pA_processTime2', 'GaSb_30kV_50pA_processTime4',\n",
       "       'GaSb_scratched_15kV_400pA_processTime3',\n",
       "       'GaSb_scratched_30kV_25pA', 'Map1', 'Map2'], dtype=object)"
      ]
     },
     "execution_count": 9,
     "metadata": {},
     "output_type": "execute_result"
    }
   ],
   "source": [
    "df['File'].unique()"
   ]
  },
  {
   "cell_type": "code",
   "execution_count": 10,
   "metadata": {},
   "outputs": [
    {
     "data": {
      "text/plain": [
       "'GaAs_05kV_25pA'"
      ]
     },
     "execution_count": 10,
     "metadata": {},
     "output_type": "execute_result"
    }
   ],
   "source": [
    "df['File'].unique()[0]"
   ]
  },
  {
   "cell_type": "code",
   "execution_count": 11,
   "metadata": {},
   "outputs": [
    {
     "data": {
      "text/html": [
       "<ul style=\"margin: 0px; list-style-position: outside;\">\n",
       "                    <details open>\n",
       "                    <summary style=\"display: list-item;\">\n",
       "                    <li style=\"display: inline;\">\n",
       "                    Acquisition_instrument\n",
       "                    </li></summary>\n",
       "                    <ul style=\"margin: 0px; list-style-position: outside;\">\n",
       "                    <details closed>\n",
       "                    <summary style=\"display: list-item;\">\n",
       "                    <li style=\"display: inline;\">\n",
       "                    SEM\n",
       "                    </li></summary>\n",
       "                    <ul style=\"margin: 0px; list-style-position: outside;\">\n",
       "                    <details closed>\n",
       "                    <summary style=\"display: list-item;\">\n",
       "                    <li style=\"display: inline;\">\n",
       "                    Detector\n",
       "                    </li></summary>\n",
       "                    <ul style=\"margin: 0px; list-style-position: outside;\">\n",
       "                    <details closed>\n",
       "                    <summary style=\"display: list-item;\">\n",
       "                    <li style=\"display: inline;\">\n",
       "                    EDS\n",
       "                    </li></summary>\n",
       "                    \n",
       "    <ul style=\"margin: 0px; list-style-position: outside;\">\n",
       "    <li style='margin-left:1em; padding-left: 0.5em'>azimuth_angle = 0.0</li></ul>\n",
       "    \n",
       "    <ul style=\"margin: 0px; list-style-position: outside;\">\n",
       "    <li style='margin-left:1em; padding-left: 0.5em'>elevation_angle = 35.0</li></ul>\n",
       "    \n",
       "    <ul style=\"margin: 0px; list-style-position: outside;\">\n",
       "    <li style='margin-left:1em; padding-left: 0.5em'>energy_resolution_MnKa = 130.0</li></ul>\n",
       "    \n",
       "    <ul style=\"margin: 0px; list-style-position: outside;\">\n",
       "    <li style='margin-left:1em; padding-left: 0.5em'>live_time = 120.0</li></ul>\n",
       "    \n",
       "    <ul style=\"margin: 0px; list-style-position: outside;\">\n",
       "    <li style='margin-left:1em; padding-left: 0.5em'>real_time = 123.82950592</li></ul>\n",
       "    </details></ul></details></ul><ul style=\"margin: 0px; list-style-position: outside;\">\n",
       "                    <details closed>\n",
       "                    <summary style=\"display: list-item;\">\n",
       "                    <li style=\"display: inline;\">\n",
       "                    Stage\n",
       "                    </li></summary>\n",
       "                    \n",
       "    <ul style=\"margin: 0px; list-style-position: outside;\">\n",
       "    <li style='margin-left:1em; padding-left: 0.5em'>tilt_alpha = 0.0</li></ul>\n",
       "    </details></ul>\n",
       "    <ul style=\"margin: 0px; list-style-position: outside;\">\n",
       "    <li style='margin-left:1em; padding-left: 0.5em'>beam_energy = 5.0</li></ul>\n",
       "    </details></ul></details></ul><ul style=\"margin: 0px; list-style-position: outside;\">\n",
       "                    <details open>\n",
       "                    <summary style=\"display: list-item;\">\n",
       "                    <li style=\"display: inline;\">\n",
       "                    General\n",
       "                    </li></summary>\n",
       "                    <ul style=\"margin: 0px; list-style-position: outside;\">\n",
       "                    <details closed>\n",
       "                    <summary style=\"display: list-item;\">\n",
       "                    <li style=\"display: inline;\">\n",
       "                    FileIO\n",
       "                    </li></summary>\n",
       "                    <ul style=\"margin: 0px; list-style-position: outside;\">\n",
       "                    <details closed>\n",
       "                    <summary style=\"display: list-item;\">\n",
       "                    <li style=\"display: inline;\">\n",
       "                    0\n",
       "                    </li></summary>\n",
       "                    \n",
       "    <ul style=\"margin: 0px; list-style-position: outside;\">\n",
       "    <li style='margin-left:1em; padding-left: 0.5em'>hyperspy_version = 1.7.4</li></ul>\n",
       "    \n",
       "    <ul style=\"margin: 0px; list-style-position: outside;\">\n",
       "    <li style='margin-left:1em; padding-left: 0.5em'>io_plugin = hyperspy.io_plugins.msa</li></ul>\n",
       "    \n",
       "    <ul style=\"margin: 0px; list-style-position: outside;\">\n",
       "    <li style='margin-left:1em; padding-left: 0.5em'>operation = load</li></ul>\n",
       "    \n",
       "    <ul style=\"margin: 0px; list-style-position: outside;\">\n",
       "    <li style='margin-left:1em; padding-left: 0.5em'>timestamp = 2023-04-20T12:02:17.563053+02:00</li></ul>\n",
       "    </details></ul></details></ul>\n",
       "    <ul style=\"margin: 0px; list-style-position: outside;\">\n",
       "    <li style='margin-left:1em; padding-left: 0.5em'>date = 2023-03-08</li></ul>\n",
       "    \n",
       "    <ul style=\"margin: 0px; list-style-position: outside;\">\n",
       "    <li style='margin-left:1em; padding-left: 0.5em'>original_filename = GaAs_05kV_25pA.emsa</li></ul>\n",
       "    \n",
       "    <ul style=\"margin: 0px; list-style-position: outside;\">\n",
       "    <li style='margin-left:1em; padding-left: 0.5em'>time = 14:23:00</li></ul>\n",
       "    \n",
       "    <ul style=\"margin: 0px; list-style-position: outside;\">\n",
       "    <li style='margin-left:1em; padding-left: 0.5em'>title = GaAs_05kV_25pA</li></ul>\n",
       "    </details></ul><ul style=\"margin: 0px; list-style-position: outside;\">\n",
       "                    <details open>\n",
       "                    <summary style=\"display: list-item;\">\n",
       "                    <li style=\"display: inline;\">\n",
       "                    Signal\n",
       "                    </li></summary>\n",
       "                    \n",
       "    <ul style=\"margin: 0px; list-style-position: outside;\">\n",
       "    <li style='margin-left:1em; padding-left: 0.5em'>quantity = X-rays (counts)</li></ul>\n",
       "    \n",
       "    <ul style=\"margin: 0px; list-style-position: outside;\">\n",
       "    <li style='margin-left:1em; padding-left: 0.5em'>signal_type = EDS_SEM</li></ul>\n",
       "    </details></ul>"
      ],
      "text/plain": [
       "├── Acquisition_instrument\n",
       "│   └── SEM\n",
       "│       ├── Detector\n",
       "│       │   └── EDS\n",
       "│       │       ├── azimuth_angle = 0.0\n",
       "│       │       ├── elevation_angle = 35.0\n",
       "│       │       ├── energy_resolution_MnKa = 130.0\n",
       "│       │       ├── live_time = 120.0\n",
       "│       │       └── real_time = 123.82950592\n",
       "│       ├── Stage\n",
       "│       │   └── tilt_alpha = 0.0\n",
       "│       └── beam_energy = 5.0\n",
       "├── General\n",
       "│   ├── FileIO\n",
       "│   │   └── 0\n",
       "│   │       ├── hyperspy_version = 1.7.4\n",
       "│   │       ├── io_plugin = hyperspy.io_plugins.msa\n",
       "│   │       ├── operation = load\n",
       "│   │       └── timestamp = 2023-04-20T12:02:17.563053+02:00\n",
       "│   ├── date = 2023-03-08\n",
       "│   ├── original_filename = GaAs_05kV_25pA.emsa\n",
       "│   ├── time = 14:23:00\n",
       "│   └── title = GaAs_05kV_25pA\n",
       "└── Signal\n",
       "    ├── quantity = X-rays (counts)\n",
       "    └── signal_type = EDS_SEM"
      ]
     },
     "execution_count": 11,
     "metadata": {},
     "output_type": "execute_result"
    }
   ],
   "source": [
    "s = hs.load(path + df['File'].unique()[0] + '.emsa', signal_type='EDS_SEM')\n",
    "s.metadata"
   ]
  },
  {
   "cell_type": "code",
   "execution_count": null,
   "metadata": {},
   "outputs": [],
   "source": [
    "def calculate_composition(file_number, df, df2):\n",
    "    file = df['File'].unique()[file_number]\n",
    "    df_line = df[df['File']==file]\n",
    "\n",
    "    elements = df_line['Element'].unique()\n",
    "    intCorr = df_line['i corr'].unique()\n",
    "    lines = df_line['Line'].unique()\n",
    "    kRatio = df_line['k-ratio'].unique()\n",
    "    atAZtec = df_line['%at'].unique()\n",
    "\n",
    "    s = hs.load(path + file + '.emsa', signal_type='EDS_SEM')\n",
    "    s = s.isig[0.4:] # 0.4 keV\n",
    "\n",
    "    # if Vacc is lower than 20, slice at Vacc\n",
    "    if s.metadata.Acquisition_instrument.SEM.beam_energy < 20:\n",
    "        s = s.isig[:s.metadata.Acquisition_instrument.SEM.beam_energy]\n",
    "\n",
    "    s.add_elements(elements)\n",
    "    s.add_lines()\n",
    "\n",
    "    m = s.create_model()\n",
    "    m.fit()\n",
    "    m.fit_background()\n",
    "\n",
    "    intensities_raw_modelled = [m[lines[0]].A.value, m[lines[1]].A.value]\n",
    "\n",
    "    # add intensities_raw_modelled to df\n",
    "    \n",
    "    conditions = [\n",
    "        (df['File'] == file) & (df['Line'] == lines[0]),\n",
    "        (df['File'] == file) & (df['Line'] == lines[1])\n",
    "    ]\n",
    "    df['i'] = np.select(conditions, intensities_raw_modelled, default=np.nan)\n",
    "\n",
    "\n",
    "    # df2['i'] = np.select(conditions, intensities_raw_modelled)\n",
    "\n",
    "\n",
    "\n",
    "\n",
    "\n",
    "    # intensities_corrected = [i/k for i,k in zip(intensities_raw_modelled, kRatio)]\n",
    "    i_k = [i/k for i,k in zip(intensities_raw_modelled, kRatio)]\n",
    "    ic_k = [i*c/k for i,c,k in zip(intensities_raw_modelled, intCorr, kRatio)]\n",
    "    i_c_k = [i/c/k for i,c,k in zip(intensities_raw_modelled, intCorr, kRatio)]\n",
    "    # intensities_corrected = [i/c/k for i,c,k in zip(intensities_raw_modelled, intCorr, kRatio)]\n",
    "\n",
    "    p = file[:15] + '\\t i/k' + '\\t i*c/k' + '\\t i/c/k' + '\\t AZtec'\n",
    "    print(p)\n",
    "    # print(lines[0], '\\t\\t', round(i_k[0],2), '\\t', round(ic_k[0],2), '\\t', round(i_c_k[0],2), '\\t', round(atAZtec[0],2))\n",
    "    print(lines[0], '\\t\\t', round(i_k[0]/sum(i_k),2), '\\t', round(ic_k[0]/sum(ic_k),2), '\\t', round(i_c_k[0]/sum(i_c_k),2), '\\t', round(atAZtec[0]/sum(atAZtec),2))\n",
    "    print(lines[1], '\\t\\t', round(i_k[1]/sum(i_k),2), '\\t', round(ic_k[1]/sum(ic_k),2), '\\t', round(i_c_k[1]/sum(i_c_k),2), '\\t', round(atAZtec[1]/sum(atAZtec),2))\n",
    "\n",
    "\n",
    "\n",
    "    # concentrations = [round(intensities_corrected[i]/sum(intensities_corrected), 4) for i in [0,1]]\n",
    "    # print(concentrations, '\\n', atAZtec)\n",
    "\n",
    "    \n",
    "    return intensities_raw_modelled"
   ]
  },
  {
   "cell_type": "code",
   "execution_count": 12,
   "metadata": {},
   "outputs": [
    {
     "ename": "NameError",
     "evalue": "name 'calculate_composition' is not defined",
     "output_type": "error",
     "traceback": [
      "\u001b[1;31m---------------------------------------------------------------------------\u001b[0m",
      "\u001b[1;31mNameError\u001b[0m                                 Traceback (most recent call last)",
      "Cell \u001b[1;32mIn[12], line 1\u001b[0m\n\u001b[1;32m----> 1\u001b[0m calculate_composition(\u001b[39m1\u001b[39m, df, df2)\n",
      "\u001b[1;31mNameError\u001b[0m: name 'calculate_composition' is not defined"
     ]
    }
   ],
   "source": [
    "calculate_composition(1, df, df2)"
   ]
  },
  {
   "cell_type": "code",
   "execution_count": null,
   "metadata": {},
   "outputs": [],
   "source": [
    "df2.head(6)"
   ]
  },
  {
   "cell_type": "code",
   "execution_count": null,
   "metadata": {},
   "outputs": [],
   "source": [
    "intensities_list = []\n",
    "for i in range(len(df['File'].unique())-2): # -2 because of the two maps\n",
    "    # print(df['File'].unique()[i])\n",
    "    i_list = calculate_composition(i, df, df2)\n",
    "    intensities_list.append(i_list[0])\n",
    "    intensities_list.append(i_list[1])\n"
   ]
  },
  {
   "cell_type": "code",
   "execution_count": null,
   "metadata": {},
   "outputs": [],
   "source": [
    "len(intensities_list)\n",
    "# len(df2['i'])"
   ]
  },
  {
   "cell_type": "code",
   "execution_count": null,
   "metadata": {},
   "outputs": [],
   "source": [
    "intensities_list += [np.nan]*4"
   ]
  },
  {
   "cell_type": "code",
   "execution_count": null,
   "metadata": {},
   "outputs": [],
   "source": [
    "df2['i'] = intensities_list\n",
    "df['i'] = intensities_list\n",
    "\n",
    "df2.head(3)"
   ]
  },
  {
   "cell_type": "code",
   "execution_count": null,
   "metadata": {},
   "outputs": [],
   "source": [
    "fig = px.scatter(df, x='Name', y='i', color='Line', hover_name='Name', hover_data=['%at', 'Element', 'Line', 'File'])\n",
    "\n",
    "fig.update_xaxes(tickangle=90)\n",
    "fig.update_yaxes(range=[0,400e3])\n",
    "\n",
    "fig.update_layout(title='Counts in the peaks  <br>(a)=GaAs, (b)=GaSb, scr=scratched')\n",
    "\n",
    "fig.write_html('i.html')\n",
    "\n",
    "fig"
   ]
  },
  {
   "cell_type": "code",
   "execution_count": null,
   "metadata": {},
   "outputs": [],
   "source": [
    "df2['i/k'] = df2['i']/df2['k']\n",
    "df2['i*c/k'] = df2['i']*df2['corr']/df2['k']\n",
    "df2['i/c/k'] = df2['i']/df2['corr']/df2['k']\n"
   ]
  },
  {
   "cell_type": "code",
   "execution_count": null,
   "metadata": {},
   "outputs": [],
   "source": [
    "# go through unique names and calculate i/k[0]/sum(i/k) and i/k[1]/sum(i/k)\n",
    "\n",
    "for name in df2['Name'].unique():\n",
    "    df2['i/k'][df2['Name']==name] = df2['i/k'][df2['Name']==name]/sum(df2['i/k'][df2['Name']==name])\n",
    "    df2['i*c/k'][df2['Name']==name] = df2['i*c/k'][df2['Name']==name]/sum(df2['i*c/k'][df2['Name']==name])\n",
    "    df2['i/c/k'][df2['Name']==name] = df2['i/c/k'][df2['Name']==name]/sum(df2['i/c/k'][df2['Name']==name])"
   ]
  },
  {
   "cell_type": "code",
   "execution_count": null,
   "metadata": {},
   "outputs": [],
   "source": [
    "fig = px.scatter(df2.sort_values(by=[\"Line\"]), x='Name', y='AZ at%', color='Line', hover_name='Name', hover_data=['AZ at%', 'i', 'i/k', 'i*c/k', 'i/c/k'])\n",
    "\n",
    "fig.update_traces(marker=dict(size=10,\n",
    "                              line=dict(width=2,\n",
    "                                        color='DarkSlateGrey')),\n",
    "                  selector=dict(mode='markers'))\n",
    "\n",
    "\n",
    "fig.update_xaxes(tickangle=90)\n",
    "fig.update_layout(title='AZ at%')\n",
    "fig.write_html('AZ_comp.html')\n",
    "\n",
    "fig"
   ]
  },
  {
   "cell_type": "code",
   "execution_count": null,
   "metadata": {},
   "outputs": [],
   "source": [
    "c0 = 2\n",
    "c2 = 6\n",
    "co = np.array([px.colors.sequential.Blues[c0:c2],\n",
    "px.colors.sequential.Teal[c0:c2],\n",
    "px.colors.sequential.Peach[c0:c2],\n",
    "px.colors.sequential.Burg[c0:c2],\n",
    "px.colors.sequential.Greys[c0:c2]])"
   ]
  },
  {
   "cell_type": "code",
   "execution_count": null,
   "metadata": {},
   "outputs": [],
   "source": [
    "fig = go.Figure()\n",
    "\n",
    "lines_list = ['As_Ka', 'As_La', 'Ga_Ka', 'Ga_La', 'Sb_La']\n",
    "\n",
    "for l in lines_list:\n",
    "    # df2[df2['Line'] =='As_Ka']\n",
    "        # print(df2[df2['Line'] =='As_Ka'][key])\n",
    "    i = lines_list.index(l)\n",
    "    mode = 'markers'\n",
    "    bol = df2['Line'] == l\n",
    "    # fig.add_scatter(x=df2[bol]['Name'], y = df2[bol]['i/k'], mode=mode, name=l, marker=dict(size=10, color=co.T[0][i]), legendgroup=l)\n",
    "    # fig.add_scatter(x=df2[bol]['Name'], y = df2[bol]['i*c/k'], mode=mode, name=l, marker=dict(size=10, color=co.T[1][i]), legendgroup=l)\n",
    "    # fig.add_scatter(x=df2[bol]['Name'], y = df2[bol]['i/c/k'], mode=mode, name=l, marker=dict(size=10, color=co.T[2][i]), legendgroup=l)\n",
    "\n",
    "\n",
    "    # fig.add_scatter(x=df2[bol]['Name'], y = df2[bol]['i']/df2[bol]['i'].mean(), mode=mode, name=l, marker=dict(size=10, color=co.T[2][i]), legendgroup=l)\n",
    "    # fig.add_scatter(x=df2[bol]['Name'], y = df2[bol]['AZ at%']/100, mode='markers', name='AZ', marker=dict(size=5, color=co.T[3][i]))\n",
    "\n",
    "    fig.add_scatter(x=df2[bol]['Name'], y = df2[bol]['i'], mode=mode, name=f'I({l})', marker=dict(size=10, color=co.T[2][i], symbol='square'))\n",
    "    fig.add_scatter(x=df2[bol]['Name'], y = df2[bol]['AZ at%']/100*df2[bol]['i'].mean(), mode='markers', name='AZ at% * I(mean)', marker=dict(size=5, color=co.T[3][i]))\n",
    "\n",
    "fig.update_yaxes(type='log', title='Counts and [AZ at% * I(mean)]')\n",
    "fig.add_hline(y=0.5*df2[bol]['i'].mean(), line_width=1, line_dash=\"dash\", line_color=\"black\")\n",
    "fig.update_layout(title='Intensity (squares) and AZ at% (circles)')\n",
    "\n",
    "fig\n"
   ]
  },
  {
   "cell_type": "code",
   "execution_count": null,
   "metadata": {},
   "outputs": [],
   "source": [
    "fig = go.Figure()\n",
    "lines_list = ['Sb_La']\n",
    "for l in lines_list:\n",
    "    i = lines_list.index(l)\n",
    "    fig.add_scatter(x=df2[df2['Line'] == l]['Name'], y = df2[df2['Line'] == l]['i/k'], mode='markers+lines', name='i/k', marker=dict(size=5, color=co.T[0][i]))\n",
    "    fig.add_scatter(x=df2[df2['Line'] == l]['Name'], y = df2[df2['Line'] == l]['i*c/k'], mode='markers+lines', name='i*c/k', marker=dict(size=5, color=co.T[1][i]))\n",
    "    fig.add_scatter(x=df2[df2['Line'] == l]['Name'], y = df2[df2['Line'] == l]['i/c/k'], mode='markers+lines', name='i/c/k', marker=dict(size=5, color=co.T[2][i]))\n",
    "    fig.add_scatter(x=df2[df2['Line'] == l]['Name'], y = df2[df2['Line'] == l]['AZ at%']/100, mode='markers+lines', name='AZ at%', marker=dict(size=5, color=co.T[3][i]))\n",
    "fig.update_layout(title='Sb La')\n",
    "fig\n"
   ]
  },
  {
   "cell_type": "code",
   "execution_count": null,
   "metadata": {},
   "outputs": [],
   "source": [
    "fig = go.Figure()\n",
    "lines_list = ['Ga_La']\n",
    "for l in lines_list:\n",
    "    i = lines_list.index(l)\n",
    "    fig.add_scatter(x=df2[df2['Line'] == l]['Name'], y = df2[df2['Line'] == l]['i/k'], mode='markers+lines', name='i/k', marker=dict(size=5, color=co.T[0][i]))\n",
    "    fig.add_scatter(x=df2[df2['Line'] == l]['Name'], y = df2[df2['Line'] == l]['i*c/k'], mode='markers+lines', name='i*c/k', marker=dict(size=5, color=co.T[1][i]))\n",
    "    fig.add_scatter(x=df2[df2['Line'] == l]['Name'], y = df2[df2['Line'] == l]['i/c/k'], mode='markers+lines', name='i/c/k', marker=dict(size=5, color=co.T[2][i]))\n",
    "    fig.add_scatter(x=df2[df2['Line'] == l]['Name'], y = df2[df2['Line'] == l]['AZ at%']/100, mode='markers+lines', name='AZ at%', marker=dict(size=5, color=co.T[3][i]))\n",
    "fig.update_layout(title=lines_list[0])\n",
    "fig\n"
   ]
  },
  {
   "cell_type": "code",
   "execution_count": null,
   "metadata": {},
   "outputs": [],
   "source": [
    "fig = go.Figure()\n",
    "lines_list = ['Sb_La']\n",
    "for l in lines_list:\n",
    "    i = lines_list.index(l)\n",
    "    bol = df2['Line'] == l\n",
    "    fig.add_scatter(x=df2[bol]['Name'], y = df2[bol]['i']/df2[bol]['i'].max(), mode='markers+lines', name='i', marker=dict(size=5, color=co.T[0][i]))\n",
    "    # fig.add_scatter(x=df2[bol]['Name'], y = df2[bol]['i*c/k'], mode='markers+lines', name='i*c/k', marker=dict(size=5, color=co.T[1][i]))\n",
    "    # fig.add_scatter(x=df2[bol]['Name'], y = df2[bol]['i/c/k'], mode='markers+lines', name='i/c/k', marker=dict(size=5, color=co.T[2][i]))\n",
    "    fig.add_scatter(x=df2[bol]['Name'], y = df2[bol]['AZ at%']/100, mode='markers+lines', name='AZ at%', marker=dict(size=5, color=co.T[3][i]))\n",
    "fig.update_layout(title=lines_list[0])\n",
    "fig\n"
   ]
  },
  {
   "cell_type": "code",
   "execution_count": null,
   "metadata": {},
   "outputs": [],
   "source": [
    "fig = go.Figure()\n",
    "\n",
    "fig.add_scatter(x=df)"
   ]
  },
  {
   "cell_type": "code",
   "execution_count": null,
   "metadata": {},
   "outputs": [],
   "source": [
    "fig = px.scatter(df2, x='Name', y='i/k', color='Line', hover_name='Name', hover_data=['AZ at%', 'i', 'i/k', 'i*c/k', 'i/c/k'])\n",
    "\n",
    "\n",
    "fig.update_xaxes(tickangle=90)\n",
    "fig.update_layout(title='i/k')\n",
    "fig.write_html('i_k.html')\n",
    "\n",
    "fig"
   ]
  },
  {
   "cell_type": "code",
   "execution_count": null,
   "metadata": {},
   "outputs": [],
   "source": [
    "fig = px.scatter(df2, x='Name', y='i*c/k', color='Line', hover_name='Name', hover_data=['AZ at%', 'i', 'i/k', 'i*c/k', 'i/c/k'])\n",
    "fig.update_xaxes(tickangle=90)\n",
    "fig.update_layout(title='i*c/k')\n",
    "fig.write_html('ic_k.html')\n",
    "\n",
    "fig"
   ]
  },
  {
   "cell_type": "code",
   "execution_count": null,
   "metadata": {},
   "outputs": [],
   "source": [
    "fig = px.scatter(df2, x='Name', y='i/c/k', color='Line', hover_name='Name', hover_data=['AZ at%', 'i', 'i/k', 'i*c/k', 'i/c/k'])\n",
    "fig.update_xaxes(tickangle=90)\n",
    "fig.update_layout(title='i/c/k')\n",
    "fig.write_html('i_c_k.html')\n",
    "fig"
   ]
  },
  {
   "cell_type": "code",
   "execution_count": null,
   "metadata": {},
   "outputs": [],
   "source": []
  },
  {
   "cell_type": "code",
   "execution_count": null,
   "metadata": {},
   "outputs": [],
   "source": []
  },
  {
   "cell_type": "code",
   "execution_count": null,
   "metadata": {},
   "outputs": [],
   "source": [
    "i1 = int(m['As_Ka'].A.value) * 1.03\n",
    "k1 = 0.01876\n",
    "i2 = int(m['Ga_Ka'].A.value) * 1.0\n",
    "k2 = 0.03083"
   ]
  },
  {
   "cell_type": "code",
   "execution_count": null,
   "metadata": {},
   "outputs": [],
   "source": [
    "print('As Ka raw I: ', i1, '     As Ka corrected: ', i1 / k1)\n",
    "print('Ga Ka raw I: ', i2, '     Ga Ka corrected: ', i2 / k2)\n",
    "\n",
    "t1 = i1 / k1\n",
    "t2 = i2 / k2\n",
    "print('As:' , t1 / (t1 + t2))\n",
    "print('Ga:' , t2 / (t1 + t2))\n",
    "\n",
    "# without AZtec intensity correction\n",
    "# As: 0.4943\n",
    "# Ga: 0.5057"
   ]
  },
  {
   "cell_type": "code",
   "execution_count": null,
   "metadata": {},
   "outputs": [],
   "source": []
  },
  {
   "cell_type": "code",
   "execution_count": null,
   "metadata": {},
   "outputs": [],
   "source": [
    "s = hs.load(path + files[3], signal_type='EDS_TEM')\n",
    "s = s.isig[0.4:] # 0.4 keV\n",
    "\n",
    "s.add_elements(['As','Ga'])\n",
    "s.add_lines()\n",
    "\n",
    "m = s.create_model()\n",
    "m.fit()\n",
    "m.fit_background()"
   ]
  },
  {
   "cell_type": "code",
   "execution_count": null,
   "metadata": {},
   "outputs": [],
   "source": [
    "i1 = int(m['As_Ka'].A.value) * 1.03\n",
    "k1 = 0.01876\n",
    "i2 = int(m['Ga_Ka'].A.value) * 1.0\n",
    "k2 = 0.03083"
   ]
  },
  {
   "cell_type": "code",
   "execution_count": null,
   "metadata": {},
   "outputs": [],
   "source": [
    "print('As Ka raw I: ', i1, '     As Ka corrected: ', i1 / k1)\n",
    "print('Ga Ka raw I: ', i2, '     Ga Ka corrected: ', i2 / k2)\n",
    "\n",
    "t1 = i1 / k1\n",
    "t2 = i2 / k2\n",
    "print('As:' , t1 / (t1 + t2))\n",
    "print('Ga:' , t2 / (t1 + t2))\n",
    "\n",
    "# without AZtec intensity correction\n",
    "# As: 0.4943\n",
    "# Ga: 0.5057"
   ]
  },
  {
   "cell_type": "markdown",
   "metadata": {},
   "source": [
    "# treated as EDS_TEM\n"
   ]
  },
  {
   "cell_type": "code",
   "execution_count": null,
   "metadata": {},
   "outputs": [],
   "source": [
    "files = df['File'].unique()[:-2]\n",
    "files"
   ]
  },
  {
   "cell_type": "code",
   "execution_count": null,
   "metadata": {},
   "outputs": [],
   "source": [
    "s = hs.load(path + files[4] + '.emsa', signal_type='EDS_TEM')\n",
    "elements = ['As','Ga']\n",
    "elements = ['Sb','Ga']\n",
    "s.plot()"
   ]
  },
  {
   "cell_type": "code",
   "execution_count": null,
   "metadata": {},
   "outputs": [],
   "source": [
    "\n",
    "s = hs.load(path + files[0] + '.emsa', signal_type='EDS_TEM')\n",
    "elements = ['As','Ga']\n",
    "s = s.isig[0.4:] # 0.4 keV\n",
    "\n",
    "# if Vacc is lower than 20, slice at Vacc\n",
    "if s.metadata.Acquisition_instrument.TEM.beam_energy < 20:\n",
    "    s = s.isig[:s.metadata.Acquisition_instrument.TEM.beam_energy]\n",
    "\n",
    "s.add_elements(elements)\n",
    "s.add_lines()\n",
    "\n",
    "m = s.create_model()\n",
    "m.fit()\n",
    "m.fit_background()"
   ]
  },
  {
   "cell_type": "code",
   "execution_count": null,
   "metadata": {},
   "outputs": [],
   "source": [
    "kfactors = [4.191,3.268] # As, Ga\n",
    "\n",
    "intensities = s.get_lines_intensity()\n",
    "m_intensities = m.get_lines_intensity()"
   ]
  },
  {
   "cell_type": "code",
   "execution_count": null,
   "metadata": {},
   "outputs": [],
   "source": [
    "intensities"
   ]
  },
  {
   "cell_type": "code",
   "execution_count": null,
   "metadata": {},
   "outputs": [],
   "source": [
    "m_intensities[::2]"
   ]
  },
  {
   "cell_type": "code",
   "execution_count": null,
   "metadata": {},
   "outputs": [],
   "source": [
    "m_intensities[0].metadata.Sample.xray_lines"
   ]
  },
  {
   "cell_type": "code",
   "execution_count": null,
   "metadata": {},
   "outputs": [],
   "source": [
    "at = s.quantification(intensities, factors=kfactors, method='CL', absorption_correction=True, thickness=10000)\n",
    "at_m = s.quantification(m_intensities[::2], factors=kfactors, method='CL', absorption_correction=True, thickness=10000)"
   ]
  },
  {
   "cell_type": "code",
   "execution_count": null,
   "metadata": {},
   "outputs": [],
   "source": [
    "print('As at%: ', at[0][0].data, 'or with model m: ', at_m[0][0].data)\n",
    "print('Ga at%: ', at[0][1].data, 'or with model m: ', at_m[0][1].data)"
   ]
  },
  {
   "cell_type": "code",
   "execution_count": null,
   "metadata": {},
   "outputs": [],
   "source": []
  }
 ],
 "metadata": {
  "kernelspec": {
   "display_name": "hspy",
   "language": "python",
   "name": "python3"
  },
  "language_info": {
   "codemirror_mode": {
    "name": "ipython",
    "version": 3
   },
   "file_extension": ".py",
   "mimetype": "text/x-python",
   "name": "python",
   "nbconvert_exporter": "python",
   "pygments_lexer": "ipython3",
   "version": "3.8.16"
  },
  "orig_nbformat": 4
 },
 "nbformat": 4,
 "nbformat_minor": 2
}
