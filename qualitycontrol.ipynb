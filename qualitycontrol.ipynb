{
 "cells": [
  {
   "cell_type": "code",
   "execution_count": null,
   "metadata": {},
   "outputs": [],
   "source": [
    "import hyperspy.api as hs\n",
    "import numpy as np\n",
    "import matplotlib.pyplot as plt\n",
    "import plotly.graph_objects as go\n",
    "\n",
    "from helper_functions import elementlines, nearestlines"
   ]
  },
  {
   "cell_type": "code",
   "execution_count": null,
   "metadata": {},
   "outputs": [],
   "source": [
    "%matplotlib qt"
   ]
  },
  {
   "attachments": {},
   "cell_type": "markdown",
   "metadata": {},
   "source": [
    "### Variables that you need to change\n",
    "\n",
    "- path\n",
    "    - path to the data\n",
    "- file\n",
    "    - file name\n",
    "- elements\n",
    "    - list of elements to be analyzed\n",
    "- lines_of_interest\n",
    "    - lines of interest, will be included in the output\n",
    "- info_on_all_lines\n",
    "    - boolean, if true, the output will contain all lines, not only the lines of interest\n",
    "- zero_peak\n",
    "    - boolean, if true, the zero peak will be sliced out\n",
    "- zero_peak_end_index\n",
    "    - index of the last element of the zero peak, which will be sliced out\n",
    "- k_to_l_ratio_elements\n",
    "    - elements where the k to l ratio will be calculated, using Ka and La\n",
    "- fwtm_to_fwhm_lines\n",
    "    - lines of interest for the fwtm to fwhm ratio, should not be overlapping with other peaks\n",
    "    - the fwhm and fwtm here is taken from the raw spectrum, since the fitted gaussians have perfect shapes\n",
    "    - then if a overlapping peak is used, the ratio will be skewed"
   ]
  },
  {
   "cell_type": "code",
   "execution_count": null,
   "metadata": {},
   "outputs": [],
   "source": [
    "##### SU9000 #####\n",
    "# path = 'data/Skomedal_2022-03-23'\n",
    "# file = 'Spectrum 03.emsa'\n",
    "# elements = ['Al', 'Au', 'C', 'Cu', 'F', 'Fe', 'Mg', 'Mo', 'Ni', 'O', 'Si', 'Sn']  # from Mari, seems ok\n",
    "# lines_of_interest = ['Al_Ka', 'C_Ka', 'Cu_Ka', 'Mo_La', 'Ni_Ka', 'Ni_La', 'O_Ka', 'Si_Ka']\n",
    "\n",
    "##### GaAs APREO #####\n",
    "path = 'data/Mæhlum_2022-09-06_EDS-SEM-APREO'\n",
    "file = 'GaAs_30kV.emsa'\n",
    "elements = ['Ga', 'As', 'O', 'C', 'Si']\n",
    "lines_of_interest = ['Ga_Ka', 'As_Ka', 'O_Ka', 'C_Ka', 'Si_Ka', 'Ga_La', 'As_La', 'Ga_Kb', 'As_Kb', 'Ga_Ll']\n",
    "info_on_all_lines = False\n",
    "k_to_l_ratio_elements = ['As', 'Ga']\n",
    "fwtm_to_fwhm_lines = ['Ga_Ka']\n",
    "\n",
    "zero_peak = True \n",
    "zero_peak_end_index = 33"
   ]
  },
  {
   "attachments": {},
   "cell_type": "markdown",
   "metadata": {},
   "source": [
    "## The output parameters that will be calculated are:\n",
    "\n",
    "..."
   ]
  },
  {
   "cell_type": "code",
   "execution_count": null,
   "metadata": {},
   "outputs": [],
   "source": [
    "# output parameters\n",
    "scale = np.nan  # float\n",
    "offset = np.nan  # float \n",
    "energy_resolution = np.nan  # float\n",
    "total_counts = np.nan  # float\n",
    "background_counts = np.nan  # float\n",
    "lines_info = dict() # dict of dicts as {line_name1: {true_energy: ..., calib_energy: ..., area: ..., max_counts: ..., sigma: ..., fwhm: ...}, line_name2: {...}}\n",
    "k_to_l_ratios = dict()  # dict as {element1: k_to_l_ratio1, element2: k_to_l_ratio2, ...}\n",
    "fwtm_to_fwhm = dict()  # dict as {line1: fwtm_to_fwhm1, line2: fwtm_to_fwhm2, ...}"
   ]
  },
  {
   "cell_type": "markdown",
   "metadata": {},
   "source": [
    "## Loading the data and setting some parameters"
   ]
  },
  {
   "cell_type": "code",
   "execution_count": null,
   "metadata": {},
   "outputs": [],
   "source": [
    "s = hs.load(path + '/' + file, signal_type='EDS_TEM')  # have to pretent it's a TEM signal\n",
    "s.add_elements(elements)\n",
    "\n",
    "# x_channels = np.arange(0, len(s.axes_manager[0].axis), 1)\n",
    "if zero_peak:\n",
    "    s = s.isig[zero_peak_end_index:]\n",
    "    # x_channels = x_channels[zero_peak_end_index:]\n",
    "\n",
    "Vacc = s.metadata.Acquisition_instrument.TEM.beam_energy\n",
    "x_max = s.axes_manager[0].high_value  # highest x-axis value in keV, used in Duane-Hunt\n",
    "x = s.axes_manager[0].axis  # x-axis in keV"
   ]
  },
  {
   "cell_type": "code",
   "execution_count": null,
   "metadata": {},
   "outputs": [],
   "source": [
    "plt.rcParams['font.size'] = '16'\n",
    "plt.rcParams[\"figure.figsize\"] = (15,8)\n",
    "plt.rcParams['lines.linewidth'] = 3\n",
    "plt.rcParams['font.family'] = 'monospace'\n",
    "s.plot(xray_lines=True)"
   ]
  },
  {
   "cell_type": "code",
   "execution_count": null,
   "metadata": {},
   "outputs": [],
   "source": [
    "# these are temporary arrays used to show the effect of the calibrations\n",
    "# temporary because thay are not used in the final output\n",
    "\n",
    "scale_list = [s.axes_manager[0].scale]\n",
    "offset_list = [s.axes_manager[0].offset]\n",
    "energy_res_list = [s.metadata.Acquisition_instrument.TEM.Detector.EDS.energy_resolution_MnKa]"
   ]
  },
  {
   "cell_type": "code",
   "execution_count": null,
   "metadata": {},
   "outputs": [],
   "source": [
    "plt.close('all')"
   ]
  },
  {
   "cell_type": "code",
   "execution_count": null,
   "metadata": {},
   "outputs": [],
   "source": [
    "m = s.create_model(auto_background=False)\n",
    "m.plot()"
   ]
  },
  {
   "cell_type": "code",
   "execution_count": null,
   "metadata": {},
   "outputs": [],
   "source": [
    "# fitting the data\n",
    "\n",
    "m.add_polynomial_background(order=6) # use order 12? Or 8?\n",
    "m.fit_background()\n",
    "m.fit(bounded=True)\n",
    "m.plot(True)"
   ]
  },
  {
   "attachments": {},
   "cell_type": "markdown",
   "metadata": {},
   "source": [
    "## Calibration (scale, offset and resolution)"
   ]
  },
  {
   "cell_type": "code",
   "execution_count": null,
   "metadata": {},
   "outputs": [],
   "source": [
    "def calibrate_axis(rounds=2):\n",
    "    # calibration of the energy axis, i.e. scale and offset\n",
    "    print('Calibrating energy axis (with many elements it can take multiple minutes)')\n",
    "           \n",
    "    for i in range(rounds):\n",
    "        print(f'Calibrating offset and scale, round {i+1} of {rounds}')\n",
    "        m.calibrate_energy_axis(calibrate='offset')\n",
    "        offset_list.append(s.axes_manager[0].offset)\n",
    "        m.calibrate_energy_axis(calibrate='scale')\n",
    "        scale_list.append(s.axes_manager[0].scale)\n",
    "\n",
    "    print(f'Scale: {scale_list[-1]:.6f} eV/px \\nOffset: {offset_list[-1]:.6f} keV')\n",
    "    scale = scale_list[-1]\n",
    "    offset = offset_list[-1]\n",
    "\n",
    "\n",
    "def calibrate_resolution(rounds=1):\n",
    "    # calibration of the energy resolution\n",
    "    print('Calibrating energy resolution')\n",
    "    for i in range(rounds):\n",
    "        print(f'Calibrating energy resolution, round {i+1} of {rounds}')\n",
    "        m.calibrate_energy_axis(calibrate='resolution')\n",
    "        energy_res_list.append(s.metadata.Acquisition_instrument.TEM.Detector.EDS.energy_resolution_MnKa)\n",
    "\n",
    "    print(f'Calibrated energy resolution: {energy_res_list[-1]:.3f} eV')\n",
    "    energy_resolution = energy_res_list[-1]\n",
    "\n",
    "\n",
    "def print_calibration_info():\n",
    "    # make pretty print of calibration info\n",
    "    infos = [' ', 'Scale [eV/channel]', 'Offset [keV]', 'E-res [eV]']\n",
    "    row1 = ['Current', f'{scale_list[-1]:.6f}', f'{offset_list[-1]:.6f}', f'{energy_res_list[-1]:.3f}']\n",
    "    row2 = ['Original', f'{scale_list[0]:.6f}', f'{offset_list[0]:.6f}', f'{energy_res_list[0]:.3f}']\n",
    "    row3 = ['Δ original', f'{(scale_list[-1] - scale_list[0])/scale_list[-2]*100:.3f} %', \n",
    "    f'{(offset_list[-1] - offset_list[0])/offset_list[-2]*100:.3f} %', f'{(energy_res_list[-1] - energy_res_list[0])/energy_res_list[0]*100:.3f} %']\n",
    "    row4 = ['Δ last step', f'{(scale_list[-1] - scale_list[-2])/scale_list[-2]*100:.3f} %', \n",
    "    f'{(offset_list[-1] - offset_list[-2])/offset_list[-2]*100:.3f} %', f'{(energy_res_list[-1] - energy_res_list[-2])/energy_res_list[-2]*100:.3f} %']\n",
    "\n",
    "    for i in range(len(infos)):\n",
    "        print(f'{infos[i]:<20}{row1[i]:<15}{row2[i]:<15}{row3[i]:<15}{row4[i]:<15}')\n",
    "    \n"
   ]
  },
  {
   "cell_type": "code",
   "execution_count": null,
   "metadata": {},
   "outputs": [],
   "source": [
    "calibrate_axis()\n",
    "calibrate_resolution()\n",
    "print_calibration_info()"
   ]
  },
  {
   "cell_type": "markdown",
   "metadata": {},
   "source": [
    "## Peak positions fitting"
   ]
  },
  {
   "cell_type": "code",
   "execution_count": null,
   "metadata": {},
   "outputs": [],
   "source": [
    "# these could be put in a separate file\n",
    "# if so, x and s should be passed as arguments\n",
    "\n",
    "\n",
    "def energy_index(energy):\n",
    "    # given an energy in keV, return the index of that energy in the spectrum\n",
    "    return np.abs(x - energy).argmin()\n",
    "\n",
    "\n",
    "def energy_counts(energy):\n",
    "    # given an energy in keV, return the counts at that energy\n",
    "    energy_index = energy_index(energy)\n",
    "    return s.data[energy_index]\n",
    "\n",
    "\n",
    "def range_counts(start, stop):\n",
    "    # given a range in keV, return the counts in that range\n",
    "    return s.data[energy_index(start), energy_index(stop)].sum()\n",
    "\n",
    "\n",
    "def max_counts(energy, buffer=10):\n",
    "    # get the highest counts in +- 10 channels around a given energy\n",
    "    i = np.argmin(np.abs(x - energy))\n",
    "    return s.data[i-buffer:i+buffer].max()\n",
    "     \n",
    "\n",
    "def gaussian_counts(line):\n",
    "    # give the sum of counts from a gaussian fit of a line\n",
    "    return (m[line].function(x) * s.axes_manager[0].scale).sum()\n",
    "\n",
    "def gaussian_max_counts(line):\n",
    "    # give the max counts from a gaussian fit of a line\n",
    "    return m[line].function(x).max() * s.axes_manager[0].scale\n",
    "\n",
    "\n",
    "def bg_point(energy):\n",
    "    # give the background counts at a certain energy\n",
    "    return m[-1].function(energy) * s.axes_manager[0].scale\n",
    "\n",
    "\n",
    "def bg_range(range_array):\n",
    "    # give the background sum counts in range, where range is an array of energies\n",
    "    return (m[-1].function(range_array) * s.axes_manager[0].scale).sum()\n",
    "\n",
    "    \n",
    "def kev_to_channels(energy):\n",
    "    return np.argmin(np.abs(x - energy))\n",
    "\n",
    "\n",
    "def theoretical_energy(line):\n",
    "    # returns the theoretical energy of a given line, e.g. 'Ga_Ka'\n",
    "    element = line.split('_')[0]\n",
    "    line_name = line.split('_')[1]\n",
    "    return hs.material.elements[element]['Atomic_properties']['Xray_lines'][line_name]['energy (keV)']\n"
   ]
  },
  {
   "cell_type": "code",
   "execution_count": null,
   "metadata": {},
   "outputs": [],
   "source": [
    "def calibrate_lines(rounds=2):\n",
    "    # calibrating the lines using HyperSpy\n",
    "    # calibrate energy rounds times, and width once\n",
    "    for i in range(rounds):\n",
    "        print(f'Calibrating peak positions, round {i+1} of {rounds}')\n",
    "        m.calibrate_xray_lines(calibrate='energy', xray_lines='all', kind='single') # use kind='multi' for better results?\n",
    "        if i == 0:\n",
    "            m.calibrate_xray_lines(calibrate='width', xray_lines='all', kind='single')\n",
    "    # m.calibrate_xray_lines(calibrate='sub_weight', xray_lines='all', kind='single')  # not necessary?\n",
    "\n",
    "\n",
    "def make_lines_info(all_lines=info_on_all_lines):\n",
    "    # make lists with line info\n",
    "    lines_info = {}\n",
    "    for i in range(len(m) - 1): # last component is the background\n",
    "        if (all_lines == True) or (m[i].name in lines_of_interest):\n",
    "            lines_info[m[i].name] = {\n",
    "                'true_energy': theoretical_energy(m[i].name),\n",
    "                'calib_energy': m[i].centre.value,\n",
    "                'area': gaussian_counts(i),\n",
    "                'max_counts': gaussian_max_counts(i),\n",
    "                'sigma': m[i].sigma.value,\n",
    "                'fwhm': m[i].fwhm * 1000\n",
    "            }\n",
    "            # line_names = (m[i].name)\n",
    "            # true_energy = (theoretical_energy(m[i].name))\n",
    "            # calib_energy = (m[i].centre.value)\n",
    "            # area = (gaussian_counts(i))\n",
    "            # max_counts = (gaussian_max_counts(i))\n",
    "            # sigma = (m[i].sigma.value)\n",
    "            # fwhm = (m[i].fwhm) * 1000\n",
    "            # lines_info.append([line_names, true_energy, calib_energy, area, max_counts, sigma, fwhm])\n",
    "    return lines_info\n",
    "\n",
    "\n",
    "def print_lines_info(give_return=False):\n",
    "    # print line info\n",
    "    headers = ['Line', 'True E [keV]', 'Calib. E [keV]', 'Area [counts]', 'Max (fit)', 'Sigma [keV]', 'FWHM [eV]']\n",
    "    table = ''\n",
    "    for i in range(len(headers)):\n",
    "        table += f'{headers[i]:<15}'\n",
    "    table += '\\n'\n",
    "    for line in lines_info:\n",
    "    #   # this looks bad, but it is to align the columns and adjust the number of decimals\n",
    "        one_line_info = f'{line:<15}'\n",
    "        one_line_info += f'{lines_info[line][\"true_energy\"]:<15.4f}'\n",
    "        one_line_info += f'{lines_info[line][\"calib_energy\"]:<15.4f}'\n",
    "        one_line_info += f'{lines_info[line][\"area\"]:<15.1f}'\n",
    "        one_line_info += f'{lines_info[line][\"max_counts\"]:<15.1f}'\n",
    "        one_line_info += f'{lines_info[line][\"sigma\"]:<15.4f}'\n",
    "        one_line_info += f'{lines_info[line][\"fwhm\"]:<15.4f}'\n",
    "        table += one_line_info + '\\n'\n",
    "    \n",
    "    if give_return == True:\n",
    "        return table\n",
    "    else:\n",
    "        print(table)\n",
    "\n",
    "        "
   ]
  },
  {
   "cell_type": "code",
   "execution_count": null,
   "metadata": {},
   "outputs": [],
   "source": [
    "calibrate_lines()\n",
    "lines_info = make_lines_info()\n",
    "print_lines_info()"
   ]
  },
  {
   "cell_type": "code",
   "execution_count": null,
   "metadata": {},
   "outputs": [],
   "source": [
    "## K to L ratios\n",
    "\n",
    "def peak_ratio(line1, line2):\n",
    "    # give the K to L ratio of a line, e.g. 'Ga_Ka' to 'Ga_La'\n",
    "    return gaussian_counts(line1) / gaussian_counts(line2)\n",
    "\n",
    "def calculate_k_to_l_ratios():\n",
    "    # calculate the K to L ratios for k_to_l_ratio_elements\n",
    "    k_to_l_ratios = {}\n",
    "    for element in k_to_l_ratio_elements:\n",
    "        k_to_l_ratios[element] =  peak_ratio(element+'_Ka', element+'_La')\n",
    "    return k_to_l_ratios\n",
    "\n",
    "k_to_l_ratios = calculate_k_to_l_ratios()\n"
   ]
  },
  {
   "cell_type": "code",
   "execution_count": null,
   "metadata": {},
   "outputs": [],
   "source": [
    "## FWTM to FWHM\n",
    "\n",
    "def fwtm_to_fwhm_line(line, plot_ratio=False):\n",
    "    s_wo_bg = s.deepcopy()\n",
    "    s_wo_bg.data = s.data - m[-1].function(x)*s.axes_manager[0].scale\n",
    "    window = m[line].sigma.value * 4 # window around the line\n",
    "    line_energy = m[line].centre.value\n",
    "    s_line_window = s_wo_bg.isig[line_energy-window:line_energy+window]\n",
    "    fwhm = s_line_window.estimate_peak_width(factor=0.5, parallel=False).data[0]\n",
    "    fwtm = s_line_window.estimate_peak_width(factor=0.1, parallel=False).data[0]\n",
    "    # WARNING:hyperspy._signals.signal1d:Parallel operation is not supported on Windows. Setting `parallel=False`\n",
    "\n",
    "    # TODO: Put this plotting in a separate function?\n",
    "    if plot_ratio:\n",
    "        plt.plot(s_line_window.axes_manager[0].axis, s_line_window.data, label=f'Signal without bg', marker='o')\n",
    "        plt.axvline(line_energy-window, color='k', linestyle='--', label='window')\n",
    "        plt.axvline(line_energy+window, color='k', linestyle='--')\n",
    "        plt.axvline(theoretical_energy(line), color='r', linestyle='--', label='theoretical line center')\n",
    "        plt.axvline(m[line].centre.value, color='g', linestyle='--', label='calibrated center')\n",
    "        plt.plot([line_energy-fwhm/2, line_energy+fwhm/2], [lines_info[line]['max_counts']/2, lines_info[line]['max_counts']/2], label='fwhm')\n",
    "        plt.plot([line_energy-fwtm/2, line_energy+fwtm/2], [lines_info[line]['max_counts']/10, lines_info[line]['max_counts']/10], label='fwtm')\n",
    "        plt.title(f'{line} \\n FWHM: {fwhm*1000:.2f} eV, FWTM: {fwtm*1000:.2f} eV, ratio: {fwtm/fwhm:.3f}')\n",
    "        plt.legend()\n",
    "        plt.show()\n",
    "    \n",
    "    return {'fwhm': fwhm*1000, 'fwtm': fwtm*1000, 'fwtm/fwhm': fwtm/fwhm}\n",
    "\n",
    "\n",
    "def fwtm_to_fwhm_all():\n",
    "    fwtm_to_fwhm = {}\n",
    "    for line in fwtm_to_fwhm_lines:\n",
    "        fwtm_to_fwhm[line] = fwtm_to_fwhm_line(line, plot_ratio=False)\n",
    "\n",
    "    return fwtm_to_fwhm\n",
    "        \n",
    "\n",
    "fwtm_to_fwhm = fwtm_to_fwhm_all()"
   ]
  },
  {
   "cell_type": "code",
   "execution_count": null,
   "metadata": {},
   "outputs": [],
   "source": [
    "fwtm_to_fwhm"
   ]
  },
  {
   "cell_type": "markdown",
   "metadata": {},
   "source": [
    "## Total counts and background counts"
   ]
  },
  {
   "cell_type": "code",
   "execution_count": null,
   "metadata": {},
   "outputs": [],
   "source": [
    "total_counts = s.data.sum()\n",
    "# total_counts_m = m.signal.data.sum() # does not work, m.signal is just a view of s\n",
    "print(f'total_counts: {total_counts:.1f}')\n",
    "\n",
    "# counts in the background\n",
    "background_counts = bg_range(x).sum()\n",
    "print(f'background_counts: {background_counts:.1f}')\n",
    "\n",
    "# counts in the spectrum without background\n",
    "total_counts_wo_bg = total_counts - background_counts\n",
    "print(f'total_counts_wo_bg: {total_counts_wo_bg:.1f}')\n",
    "\n",
    "# ratio of total counts to total counts in background\n",
    "print(f'total_counts/background_counts: {total_counts/background_counts:.1f}')\n",
    "\n",
    "# ratio of total counts to total counts in spectrum without background\n",
    "print(f'total_counts/total_counts_wo_bg: {total_counts/total_counts_wo_bg:.1f}')\n",
    "\n",
    "# Fiori background at a certain peak\n",
    "#TODO"
   ]
  },
  {
   "cell_type": "code",
   "execution_count": null,
   "metadata": {},
   "outputs": [],
   "source": [
    "plt.close('all')"
   ]
  },
  {
   "cell_type": "code",
   "execution_count": null,
   "metadata": {},
   "outputs": [],
   "source": [
    "# setting the parameters which have temporary arrays\n",
    "\n",
    "scale = scale_list[-1]\n",
    "offset = offset_list[-1]\n",
    "energy_resolution = energy_res_list[-1]"
   ]
  },
  {
   "cell_type": "code",
   "execution_count": null,
   "metadata": {},
   "outputs": [],
   "source": [
    "def print_output(scale=scale, offset=offset, energy_resolution=energy_resolution, total_counts=total_counts, \n",
    "background_counts=background_counts, lines_info=lines_info, k_to_l_ratios=k_to_l_ratios, fwtm_to_fwhm=fwtm_to_fwhm):\n",
    "    print(f\"scale: {scale}\")\n",
    "    print(f\"offset: {offset}\")\n",
    "    print(f\"energy_resolution: {energy_resolution}\")\n",
    "    print(f\"total_counts: {total_counts}\")\n",
    "    print(f\"background_counts: {background_counts}\")\n",
    "    print(print_lines_info(give_return=True))\n",
    "    print(f\"k_to_l_ratios: {k_to_l_ratios}\")\n",
    "    print(f\"fwtm_to_fwhm: {fwtm_to_fwhm}\")\n",
    "\n",
    "print_output()"
   ]
  },
  {
   "cell_type": "code",
   "execution_count": null,
   "metadata": {},
   "outputs": [],
   "source": [
    "# put output in a dictionary\n",
    "\n",
    "def output_dict(scale=scale, offset=offset, energy_resolution=energy_resolution, total_counts=total_counts,\n",
    "background_counts=background_counts, lines_info=lines_info, k_to_l_ratios=k_to_l_ratios, fwtm_to_fwhm=fwtm_to_fwhm):\n",
    "    output = {'scale': scale, 'offset': offset, 'energy_resolution': energy_resolution, 'total_counts': total_counts,\n",
    "    'background_counts': background_counts, 'lines_info': lines_info, 'k_to_l_ratios': k_to_l_ratios, 'fwtm_to_fwhm': fwtm_to_fwhm}\n",
    "    return output\n",
    "\n",
    "\n",
    "output = output_dict()\n",
    "output"
   ]
  },
  {
   "cell_type": "code",
   "execution_count": null,
   "metadata": {},
   "outputs": [],
   "source": [
    "plt.plot(x, m[-1].function(x) * s.axes_manager[0].scale)\n",
    "plt.plot(x, s.data)\n",
    "\n",
    "plt.show()"
   ]
  },
  {
   "cell_type": "code",
   "execution_count": null,
   "metadata": {},
   "outputs": [],
   "source": [
    "plt.close('all')"
   ]
  },
  {
   "cell_type": "code",
   "execution_count": null,
   "metadata": {},
   "outputs": [],
   "source": []
  },
  {
   "cell_type": "code",
   "execution_count": null,
   "metadata": {},
   "outputs": [],
   "source": []
  },
  {
   "cell_type": "code",
   "execution_count": null,
   "metadata": {},
   "outputs": [],
   "source": [
    "# TODO: discuss with Ton this Duane-Hunt method\n",
    "\n",
    "\n",
    "path = 'data/Mæhlum_2022-09-06_EDS-SEM-APREO'\n",
    "file = 'GaAs_10kV.emsa'\n",
    "\n",
    "s_dh = hs.load(path + '/' + file, signal_type='EDS_TEM')  # have to pretent it's a TEM signal\n",
    "s_dh.add_elements(elements)\n",
    "if zero_peak:\n",
    "    s_dh = s_dh.isig[zero_peak_end_index:]\n",
    "Vacc = s_dh.metadata.Acquisition_instrument.TEM.beam_energy\n",
    "x_max = s_dh.axes_manager[0].high_value  # highest x-axis value in keV, used in Duane-Hunt\n",
    "x = s_dh.axes_manager[0].axis  # x-axis in keV\n",
    "\n",
    "\n",
    "\n",
    "\n",
    "\n",
    "# Duane-Hunt (where the the real E_0 is)\n",
    "def calculate_duane_hunt(buffer_start=3, buffer_end=0.2):\n",
    "    if Vacc > x_max:\n",
    "        print(f'Vacc={Vacc} > x_max={x_max}, Duane-Hunt not possible')\n",
    "        return np.nan\n",
    "    else:\n",
    "        # doing a fit from Vacc-3 keV till Vacc-0.2 keV\n",
    "        ...\n",
    "\n",
    "\n",
    "buffer_start=2\n",
    "buffer_end=0.1\n",
    "\n",
    "dh_start = Vacc-buffer_start\n",
    "dh_end = Vacc-buffer_end\n",
    "s_end = s_dh.isig[dh_start:dh_end] # slice with keV\n",
    "m_end = s_end.create_model(auto_background=False)\n",
    "m_end.add_polynomial_background(order=1)\n",
    "m_end.fit()\n",
    "\n",
    "x_s_end = s_dh.isig[dh_start-0.5:dh_end+0.5].axes_manager[0].axis\n",
    "\n",
    "plt.plot(x, s_dh.data, label='spectrum', marker='o')\n",
    "\n",
    "plt.plot(x_s_end, m_end[-1].function(x_s_end)* s_dh.axes_manager[0].scale, label='bg lin. fit')\n",
    "plt.plot(s_end.axes_manager[0].axis, s_end.data, marker='o', label=f'points used for lin. fit bg, kV: [{dh_start:.2f}, {dh_end:.2f}]')\n",
    "plt.axhline(0, color='k', linestyle='--')\n",
    "plt.legend()\n",
    "plt.show()\n",
    "\n",
    "\n",
    "# set y range from -20 to 200\n",
    "plt.ylim(-20, 350)\n",
    "plt.xlim(7,11)\n",
    "\n",
    "# locate where the background is closest to zero\n",
    "bg_zero_index = np.argmin(np.abs(m_end[-1].function(x_s_end)* s_dh.axes_manager[0].scale))\n",
    "bg_zero_index\n",
    "\n",
    "print(f'bg_zero_index: {bg_zero_index}')\n",
    "print(f'x_s_end[bg_zero_index]: {x_s_end[bg_zero_index]}')\n",
    "# calculate_duane_hunt()"
   ]
  }
 ],
 "metadata": {
  "kernelspec": {
   "display_name": "hspy",
   "language": "python",
   "name": "python3"
  },
  "language_info": {
   "codemirror_mode": {
    "name": "ipython",
    "version": 3
   },
   "file_extension": ".py",
   "mimetype": "text/x-python",
   "name": "python",
   "nbconvert_exporter": "python",
   "pygments_lexer": "ipython3",
   "version": "3.8.15"
  },
  "orig_nbformat": 4,
  "vscode": {
   "interpreter": {
    "hash": "eedee208f6f0fe67ac5ec53646d8853bbb152098f521b748accd5958a126e1a5"
   }
  }
 },
 "nbformat": 4,
 "nbformat_minor": 2
}
