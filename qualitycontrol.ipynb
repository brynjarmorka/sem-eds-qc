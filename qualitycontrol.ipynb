{
 "cells": [
  {
   "cell_type": "code",
   "execution_count": 28,
   "metadata": {},
   "outputs": [],
   "source": [
    "import hyperspy.api as hs\n",
    "import numpy as np\n",
    "import matplotlib.pyplot as plt\n",
    "import plotly.graph_objects as go\n",
    "\n",
    "from helper_functions import elementlines, nearestlines"
   ]
  },
  {
   "cell_type": "code",
   "execution_count": 29,
   "metadata": {},
   "outputs": [],
   "source": [
    "%matplotlib qt"
   ]
  },
  {
   "attachments": {},
   "cell_type": "markdown",
   "metadata": {},
   "source": [
    "### Variables that you need to change\n",
    "\n",
    "- path\n",
    "    - path to the data\n",
    "- file\n",
    "    - file name\n",
    "- elements\n",
    "    - list of elements to be analyzed\n",
    "- lines_of_interest\n",
    "    - lines of interest, will be included in the output\n",
    "- info_on_all_lines\n",
    "    - boolean, if true, the output will contain all lines, not only the lines of interest\n",
    "- zero_peak\n",
    "    - boolean, if true, the zero peak will be sliced out\n",
    "- zero_peak_end_index\n",
    "    - index of the last element of the zero peak, which will be sliced out\n",
    "- line_ratio_list\n",
    "    - list of list of lines which will be given a ratio, eg. K to L\n",
    "    - [['Ni_Ka', 'Ni_La'], ['Ni_Ka', 'Ni_Kb']]\n",
    "- fwtm_to_fwhm_lines\n",
    "    - lines of interest for the fwtm to fwhm ratio, should not be overlapping with other peaks\n",
    "    - the fwhm and fwtm here is taken from the raw spectrum, since the fitted gaussians have perfect shapes\n",
    "    - then if a overlapping peak is used, the ratio will be skewed"
   ]
  },
  {
   "cell_type": "code",
   "execution_count": 30,
   "metadata": {},
   "outputs": [],
   "source": [
    "#### SU9000 #####\n",
    "path = 'data/Skomedal_2022-03-23_EDS_SU9000'\n",
    "file = 'Spectrum 03.emsa'\n",
    "elements = ['Al', 'Au', 'C', 'Cu', 'F', 'Fe', 'Mg', 'Mo', 'Ni', 'O', 'Si', 'Sn']  # from Mari, pluss Mg and Sn\n",
    "lines_of_interest = ['Al_Ka', 'C_Ka', 'Cu_Ka', 'Mo_La', 'Ni_Ka', 'Ni_La', 'O_Ka', 'Si_Ka']\n",
    "info_on_all_lines = False\n",
    "line_ratio_list = [['Ni_Ka', 'Ni_La']]\n",
    "fwtm_to_fwhm_lines = ['Ni_Ka']\n",
    "\n",
    "# ##### GaAs 30 kV APREO #####\n",
    "path = 'data/Mæhlum_2022-09-06_EDS-SEM-APREO'\n",
    "# file = 'GaAs_30kV.emsa'\n",
    "# file = 'GaAs_15kV.emsa'\n",
    "file = 'GaAs_10kV.emsa'\n",
    "\n",
    "elements = ['Ga', 'As', 'O', 'C', 'Si']\n",
    "lines_of_interest = ['Ga_Ka', 'As_Ka', 'O_Ka', 'C_Ka', 'Si_Ka', 'Ga_La', 'As_La', 'Ga_Kb', 'As_Kb', 'Ga_Ll']\n",
    "info_on_all_lines = False\n",
    "line_ratio_list = [['As_Ka', 'As_La'], ['Ga_Ka', 'Ga_La']]\n",
    "fwtm_to_fwhm_lines = ['Ga_Ka']\n",
    "\n",
    "\n",
    "# ##### Mo APREO #####\n",
    "# path = 'data/Mæhlum_2022-09-06_EDS-SEM-APREO'\n",
    "# file = 'Mo_30kV.emsa'\n",
    "# elements = ['Mo', 'O']\n",
    "# lines_of_interest = ['Mo_Ka', 'O_Ka', 'Mo_La', 'Mo_Kb', 'Mo_Ll', 'Mo_Lb1', 'Mo_Lg3']\n",
    "# info_on_all_lines = False\n",
    "# line_ratio_list = [['Mo_Ka', 'Mo_La']]\n",
    "# fwtm_to_fwhm_lines = ['Mo_Ka', 'Mo_La']\n",
    "\n",
    "zero_peak = True \n",
    "zero_peak_end_index = 33"
   ]
  },
  {
   "cell_type": "code",
   "execution_count": 31,
   "metadata": {},
   "outputs": [],
   "source": [
    "# function arguments that you can change, eg. if a step take too long\n",
    "\n",
    "# the model\n",
    "model_background_order = 6\n"
   ]
  },
  {
   "attachments": {},
   "cell_type": "markdown",
   "metadata": {},
   "source": [
    "## The output parameters that will be calculated are:\n",
    "\n",
    "..."
   ]
  },
  {
   "cell_type": "code",
   "execution_count": 32,
   "metadata": {},
   "outputs": [],
   "source": [
    "# output parameters\n",
    "scale = np.nan  # float\n",
    "offset = np.nan  # float \n",
    "energy_resolution = np.nan  # float\n",
    "total_counts = np.nan  # float\n",
    "background_counts = np.nan  # float\n",
    "dh_limit = np.nan # float\n",
    "lines_info = dict() # dict of dicts as {line_name1: {true_energy: ..., calib_energy: ..., area: ..., max_counts: ..., sigma: ..., fwhm: ...}, line_name2: {...}}\n",
    "line_ratios = dict()  # dict as {line1a/line1b: ratio1, line2a/line2b: ratio2, ...}\n",
    "fwtm_to_fwhm = dict()  # dict as {line1: fwtm_to_fwhm1, line2: fwtm_to_fwhm2, ...}"
   ]
  },
  {
   "cell_type": "markdown",
   "metadata": {},
   "source": [
    "## Loading the data and setting some parameters"
   ]
  },
  {
   "cell_type": "code",
   "execution_count": 33,
   "metadata": {},
   "outputs": [],
   "source": [
    "s = hs.load(path + '/' + file, signal_type='EDS_TEM')  # have to pretent it's a TEM signal\n",
    "s.add_elements(elements)\n",
    "\n",
    "if zero_peak:\n",
    "    s = s.isig[zero_peak_end_index:]\n",
    "\n",
    "Vacc = s.metadata.Acquisition_instrument.TEM.beam_energy\n",
    "x_max = s.axes_manager[0].high_value  # highest x-axis value in keV, used in Duane-Hunt\n",
    "x = s.axes_manager[0].axis  # x-axis in keV"
   ]
  },
  {
   "cell_type": "code",
   "execution_count": 34,
   "metadata": {},
   "outputs": [],
   "source": [
    "plt.rcParams['font.size'] = '16'\n",
    "plt.rcParams[\"figure.figsize\"] = (15,8)\n",
    "plt.rcParams['lines.linewidth'] = 3\n",
    "plt.rcParams['font.family'] = 'monospace'"
   ]
  },
  {
   "cell_type": "code",
   "execution_count": 35,
   "metadata": {},
   "outputs": [],
   "source": [
    "# plot the spectrum\n",
    "\n",
    "# s.plot(xray_lines=True)"
   ]
  },
  {
   "cell_type": "code",
   "execution_count": 36,
   "metadata": {},
   "outputs": [],
   "source": [
    "# these are temporary arrays used to show the effect of the calibrations\n",
    "# temporary because thay are not used in the final output\n",
    "\n",
    "scale_list = [s.axes_manager[0].scale]\n",
    "offset_list = [s.axes_manager[0].offset]\n",
    "energy_res_list = [s.metadata.Acquisition_instrument.TEM.Detector.EDS.energy_resolution_MnKa]"
   ]
  },
  {
   "cell_type": "code",
   "execution_count": 52,
   "metadata": {},
   "outputs": [],
   "source": [
    "# # Duane-Hunt method to find the real E_0\n",
    "def calculate_duane_hunt(buffer_start=2, buffer_end=0.1, xaxis_plot_buffer=0.5, dh_plot=False):\n",
    "    if Vacc > x_max:\n",
    "        print(f'Vacc={Vacc} > x_max={x_max}, Duane-Hunt not possible')\n",
    "        return np.nan\n",
    "    else:\n",
    "        s_dh = s.deepcopy() \n",
    "        # making the lin fit of the background right before Vacc\n",
    "        dh_start = Vacc-buffer_start\n",
    "        dh_end = Vacc-buffer_end\n",
    "        s_end = s_dh.isig[dh_start:dh_end] # slice with keV\n",
    "        m_end = s_end.create_model(auto_background=False)\n",
    "        m_end.add_polynomial_background(order=1)\n",
    "        m_end.fit()\n",
    "\n",
    "        x_s_end = s_dh.isig[dh_start-xaxis_plot_buffer:dh_end+xaxis_plot_buffer].axes_manager[0].axis\n",
    "        dh_bg_zero_index = np.argmin(np.abs(m_end[-1].function(x_s_end) * s_dh.axes_manager[0].scale))\n",
    "\n",
    "        dh_limit = x_s_end[dh_bg_zero_index]\n",
    "        print(f'dh_bg_zero_index: {dh_bg_zero_index}')\n",
    "        print(f'Duane-Hunt limit: {dh_limit:.3f} keV')\n",
    "\n",
    "        if dh_plot:\n",
    "            plt.plot(x, s_dh.data, label='spectrum', marker='o')\n",
    "            plt.plot(x_s_end, m_end[-1].function(x_s_end)* s_dh.axes_manager[0].scale, label='bg lin. fit')\n",
    "            plt.plot(s_end.axes_manager[0].axis, s_end.data, marker='o', label=f'points in bg lin. fit')\n",
    "            plt.axhline(0, color='k', linestyle='--')\n",
    "            plt.axvline(dh_limit, color='r', linestyle='--', label=f'Duane-Hunt: {dh_limit:.3f} keV')\n",
    "            plt.axvline(Vacc, color='y', linestyle='--', label=f'Vacc from instrument: {Vacc} keV', alpha=0.6)\n",
    "            plot_buffer = 1.1\n",
    "            plt.title(f'{file}\\nlin fit range kV: [{dh_start:.2f}, {dh_end:.2f}]')\n",
    "            plt.ylim(-5, m_end[-1].function(x_s_end).max() * s_dh.axes_manager[0].scale*plot_buffer)\n",
    "            plt.xlim(Vacc-buffer_start*plot_buffer, dh_limit + buffer_end)\n",
    "            plt.legend()\n",
    "            plt.show()\n",
    "        \n",
    "        return dh_limit"
   ]
  },
  {
   "cell_type": "code",
   "execution_count": 53,
   "metadata": {},
   "outputs": [
    {
     "name": "stdout",
     "output_type": "stream",
     "text": [
      "dh_bg_zero_index: 262\n",
      "Duane-Hunt limit: 10.120 keV\n"
     ]
    }
   ],
   "source": [
    "dh_limit = calculate_duane_hunt(dh_plot=True)"
   ]
  },
  {
   "cell_type": "code",
   "execution_count": 54,
   "metadata": {},
   "outputs": [],
   "source": [
    "# Using Duane-Hunt to slice the spectrum\n",
    "def use_dh_to_slice_spectrum(dh_limit=dh_limit, s=s, plot=False):\n",
    "    if np.isnan(dh_limit):\n",
    "        print('No Duane-Hunt limit found, not slicing the spectrum')\n",
    "    else:\n",
    "        s = s.isig[:dh_limit]\n",
    "        print(f'Spectrum sliced at {dh_limit:.2f} keV')\n",
    "        if plot:\n",
    "            s.plot(xray_lines=True)\n",
    "    return s"
   ]
  },
  {
   "cell_type": "code",
   "execution_count": 55,
   "metadata": {},
   "outputs": [
    {
     "name": "stdout",
     "output_type": "stream",
     "text": [
      "Spectrum sliced at 10.12 keV\n"
     ]
    }
   ],
   "source": [
    "s = use_dh_to_slice_spectrum(dh_limit, plot=True)\n",
    "x = s.axes_manager[0].axis  # x-axis in keV, after slicing"
   ]
  },
  {
   "cell_type": "code",
   "execution_count": 56,
   "metadata": {},
   "outputs": [],
   "source": [
    "# creating a model\n",
    "m = s.create_model(auto_background=False)\n",
    "\n",
    "# fitting the data\n",
    "m.add_polynomial_background(order=model_background_order) \n",
    "m.fit_background()\n",
    "m.fit(bounded=True)\n",
    "m.plot(True)"
   ]
  },
  {
   "attachments": {},
   "cell_type": "markdown",
   "metadata": {},
   "source": [
    "## Calibration (scale, offset and resolution)"
   ]
  },
  {
   "cell_type": "code",
   "execution_count": 77,
   "metadata": {},
   "outputs": [],
   "source": [
    "#  Functions for calibrating the energy axis\n",
    "\n",
    "def calibrate_axis(rounds=2, xray_lines='all_alpha'):\n",
    "    # calibration of the energy axis, i.e. scale and offset\n",
    "    print('Calibrating energy axis (with many elements it can take multiple minutes)')\n",
    "           \n",
    "    for i in range(rounds):\n",
    "        print(f'Calibrating offset and scale, round {i+1} of {rounds}')\n",
    "        m.calibrate_energy_axis(calibrate='offset', xray_lines=xray_lines)\n",
    "        offset_list.append(s.axes_manager[0].offset)\n",
    "        m.calibrate_energy_axis(calibrate='scale', xray_lines=xray_lines)\n",
    "        scale_list.append(s.axes_manager[0].scale)\n",
    "\n",
    "    print(f'Scale: {scale_list[-1]:.6f} eV/px \\nOffset: {offset_list[-1]:.6f} keV')\n",
    "    scale = scale_list[-1]\n",
    "    offset = offset_list[-1]\n",
    "\n",
    "\n",
    "def calibrate_resolution(rounds=2, xray_lines='all_alpha'):\n",
    "    # calibration of the energy resolution\n",
    "    for i in range(rounds):\n",
    "        print(f'Calibrating energy resolution, round {i+1} of {rounds}')\n",
    "        m.calibrate_energy_axis(calibrate='resolution', xray_lines=xray_lines)\n",
    "        energy_res_list.append(s.metadata.Acquisition_instrument.TEM.Detector.EDS.energy_resolution_MnKa)\n",
    "\n",
    "    print(f'Calibrated energy resolution: {energy_res_list[-1]:.3f} eV')\n",
    "    energy_resolution = energy_res_list[-1]\n",
    "\n",
    "\n",
    "def print_calibration_info():\n",
    "    # make pretty print of calibration info\n",
    "    infos = [' ', 'Scale [eV/channel]', 'Offset [keV]', 'E-res [eV]']\n",
    "    row1 = ['Current', f'{scale_list[-1]:.6f}', f'{offset_list[-1]:.6f}', f'{energy_res_list[-1]:.3f}']\n",
    "    row2 = ['Original', f'{scale_list[0]:.6f}', f'{offset_list[0]:.6f}', f'{energy_res_list[0]:.3f}']\n",
    "    row3 = ['Δ original', f'{(scale_list[-1] - scale_list[0])/scale_list[-2]*100:.3f} %', \n",
    "    f'{(offset_list[-1] - offset_list[0])/offset_list[-2]*100:.3f} %', f'{(energy_res_list[-1] - energy_res_list[0])/energy_res_list[0]*100:.3f} %']\n",
    "    row4 = ['Δ last step', f'{(scale_list[-1] - scale_list[-2])/scale_list[-2]*100:.3f} %', \n",
    "    f'{(offset_list[-1] - offset_list[-2])/offset_list[-2]*100:.3f} %', f'{(energy_res_list[-1] - energy_res_list[-2])/energy_res_list[-2]*100:.3f} %']\n",
    "\n",
    "    for i in range(len(infos)):\n",
    "        print(f'{infos[i]:<20}{row1[i]:<15}{row2[i]:<15}{row3[i]:<15}{row4[i]:<15}')\n",
    "    \n"
   ]
  },
  {
   "cell_type": "code",
   "execution_count": 78,
   "metadata": {},
   "outputs": [
    {
     "name": "stdout",
     "output_type": "stream",
     "text": [
      "Calibrating energy axis (with many elements it can take multiple minutes)\n",
      "Calibrating offset and scale, round 1 of 2\n",
      "Calibrating offset and scale, round 2 of 2\n",
      "Scale: 0.009997 eV/px \n",
      "Offset: 0.134898 keV\n",
      "Calibrating energy resolution, round 1 of 2\n"
     ]
    },
    {
     "name": "stderr",
     "output_type": "stream",
     "text": [
      "WARNING:hyperspy.model:Covariance of the parameters could not be estimated. Estimated parameter standard deviations will be np.nan.\n"
     ]
    },
    {
     "name": "stdout",
     "output_type": "stream",
     "text": [
      "Calibrating energy resolution, round 2 of 2\n",
      "Calibrated energy resolution: 129.920 eV\n"
     ]
    }
   ],
   "source": [
    "calibrate_axis()\n",
    "calibrate_resolution()"
   ]
  },
  {
   "cell_type": "code",
   "execution_count": 79,
   "metadata": {},
   "outputs": [
    {
     "name": "stdout",
     "output_type": "stream",
     "text": [
      "                    Current        Original       Δ original     Δ last step    \n",
      "Scale [eV/channel]  0.009997       0.010000       -0.032 %       -0.001 %       \n",
      "Offset [keV]        0.134898       0.130000       3.635 %        0.122 %        \n",
      "E-res [eV]          129.920        130.000        -0.061 %       -0.001 %       \n"
     ]
    }
   ],
   "source": [
    "print_calibration_info()"
   ]
  },
  {
   "cell_type": "markdown",
   "metadata": {},
   "source": [
    "## Peak positions fitting"
   ]
  },
  {
   "cell_type": "code",
   "execution_count": 80,
   "metadata": {},
   "outputs": [],
   "source": [
    "# helper functions\n",
    "\n",
    "\n",
    "def energy_index(energy):\n",
    "    # given an energy in keV, return the index of that energy in the spectrum\n",
    "    return np.abs(x - energy).argmin()\n",
    "\n",
    "\n",
    "def energy_counts(energy):\n",
    "    # given an energy in keV, return the counts at that energy\n",
    "    energy_index = energy_index(energy)\n",
    "    return s.data[energy_index]\n",
    "\n",
    "\n",
    "def range_counts(start, stop):\n",
    "    # given a range in keV, return the counts in that range\n",
    "    return s.data[energy_index(start), energy_index(stop)].sum()\n",
    "\n",
    "\n",
    "def max_counts(energy, buffer=10):\n",
    "    # get the highest counts in +- 10 channels around a given energy\n",
    "    i = np.argmin(np.abs(x - energy))\n",
    "    return s.data[i-buffer:i+buffer].max()\n",
    "     \n",
    "\n",
    "def gaussian_counts(line):\n",
    "    # give the sum of counts from a gaussian fit of a line\n",
    "    return (m[line].function(x) * s.axes_manager[0].scale).sum()\n",
    "\n",
    "def gaussian_max_counts(line):\n",
    "    # give the max counts from a gaussian fit of a line\n",
    "    return m[line].function(x).max() * s.axes_manager[0].scale\n",
    "\n",
    "\n",
    "def bg_point(energy):\n",
    "    # give the background counts at a certain energy\n",
    "    return m[-1].function(energy) * s.axes_manager[0].scale\n",
    "\n",
    "\n",
    "def bg_range(range_array):\n",
    "    # give the background sum counts in range, where range is an array of energies\n",
    "    return (m[-1].function(range_array) * s.axes_manager[0].scale).sum()\n",
    "\n",
    "    \n",
    "def kev_to_channels(energy):\n",
    "    return np.argmin(np.abs(x - energy))\n",
    "\n",
    "\n",
    "def theoretical_energy(line):\n",
    "    # returns the theoretical energy of a given line, e.g. 'Ga_Ka'\n",
    "    element = line.split('_')[0]\n",
    "    line_name = line.split('_')[1]\n",
    "    return hs.material.elements[element]['Atomic_properties']['Xray_lines'][line_name]['energy (keV)']\n"
   ]
  },
  {
   "cell_type": "code",
   "execution_count": 81,
   "metadata": {},
   "outputs": [],
   "source": [
    "# functions for calibrations of lines\n",
    "\n",
    "def calibrate_lines(rounds=2, xray_lines='all_alpha'):\n",
    "    # calibrating the lines using HyperSpy\n",
    "    # calibrate energy rounds times, and width and sub_weight only once\n",
    "    for i in range(rounds):\n",
    "        print(f'Calibrating peak positions, round {i+1} of {rounds}')\n",
    "        m.calibrate_xray_lines(calibrate='energy', xray_lines=xray_lines, kind='single') # use kind='multi' for better results?\n",
    "        if i == 0:\n",
    "            m.calibrate_xray_lines(calibrate='width', xray_lines=xray_lines, kind='single')\n",
    "            m.calibrate_xray_lines(calibrate='sub_weight', xray_lines=xray_lines, kind='single')\n",
    "\n",
    "\n",
    "def make_lines_info(all_lines=info_on_all_lines):\n",
    "    # make dict with lines info\n",
    "    lines_info = {}\n",
    "    for i in range(len(m) - 1): # last component is the background\n",
    "        if (all_lines == True) or (m[i].name in lines_of_interest):\n",
    "            lines_info[m[i].name] = {\n",
    "                'true_energy': theoretical_energy(m[i].name),\n",
    "                'calib_energy': m[i].centre.value,\n",
    "                'area': gaussian_counts(i),\n",
    "                'max_counts': gaussian_max_counts(i),\n",
    "                'sigma': m[i].sigma.value,\n",
    "                'fwhm': m[i].fwhm * 1000\n",
    "            }\n",
    "    return lines_info\n",
    "\n",
    "\n",
    "def print_lines_info(give_return=False):\n",
    "    # print line info\n",
    "    headers = ['Line', 'True E [keV]', 'Calib. E [keV]', 'Area [counts]', 'Max (fit)', 'Sigma [keV]', 'FWHM [eV]']\n",
    "    table = ''\n",
    "    for i in range(len(headers)):\n",
    "        table += f'{headers[i]:<15}'\n",
    "    table += '\\n'\n",
    "    for line in lines_info:\n",
    "    #   # this looks bad, but it is to align the columns and adjust the number of decimals\n",
    "        one_line_info = f'{line:<15}'\n",
    "        one_line_info += f'{lines_info[line][\"true_energy\"]:<15.4f}'\n",
    "        one_line_info += f'{lines_info[line][\"calib_energy\"]:<15.4f}'\n",
    "        one_line_info += f'{lines_info[line][\"area\"]:<15.1f}'\n",
    "        one_line_info += f'{lines_info[line][\"max_counts\"]:<15.1f}'\n",
    "        one_line_info += f'{lines_info[line][\"sigma\"]:<15.4f}'\n",
    "        one_line_info += f'{lines_info[line][\"fwhm\"]:<15.4f}'\n",
    "        table += one_line_info + '\\n'\n",
    "    \n",
    "    if give_return == True:\n",
    "        return table\n",
    "    else:\n",
    "        print(table)\n",
    "\n",
    "        "
   ]
  },
  {
   "cell_type": "code",
   "execution_count": 82,
   "metadata": {},
   "outputs": [
    {
     "name": "stdout",
     "output_type": "stream",
     "text": [
      "Calibrating peak positions, round 1 of 2\n",
      "Calibrating peak positions, round 2 of 2\n"
     ]
    }
   ],
   "source": [
    "calibrate_lines(rounds=2, xray_lines='all_alpha')"
   ]
  },
  {
   "cell_type": "code",
   "execution_count": 83,
   "metadata": {},
   "outputs": [
    {
     "name": "stdout",
     "output_type": "stream",
     "text": [
      "Line           True E [keV]   Calib. E [keV] Area [counts]  Max (fit)      Sigma [keV]    FWHM [eV]      \n",
      "Al_Ka          1.4865         1.4865         91822.9        11214.1        0.0325         76.4774        \n",
      "C_Ka           0.2774         0.2774         312027.1       54775.9        0.0226         53.1606        \n",
      "Cu_Ka          8.0478         8.0478         68591.6        4317.1         0.0633         149.1712       \n",
      "Mo_La          2.2932         2.2932         54820.9        5786.0         0.0377         88.6879        \n",
      "Ni_Ka          7.4781         7.4781         342124.6       22259.8        0.0613         144.3184       \n",
      "Ni_La          0.8511         0.8511         285763.3       41097.2        0.0277         65.2710        \n",
      "O_Ka           0.5249         0.5249         217110.6       34085.8        0.0249         58.6924        \n",
      "Si_Ka          1.7397         1.7397         25567.4        2983.3         0.0342         80.5096        \n",
      "\n"
     ]
    }
   ],
   "source": [
    "lines_info = make_lines_info()\n",
    "print_lines_info()"
   ]
  },
  {
   "cell_type": "code",
   "execution_count": 84,
   "metadata": {},
   "outputs": [],
   "source": [
    "## line ratios\n",
    "\n",
    "def peak_ratio(line1, line2):\n",
    "    # give the K to L ratio of a line, e.g. 'Ga_Ka' to 'Ga_La'\n",
    "    return gaussian_counts(line1) / gaussian_counts(line2)\n",
    "\n",
    "def calculate_all_line_ratios():\n",
    "    # calculate the K to L ratios for line_ratio_list\n",
    "    line_ratios = {}\n",
    "    for line_pair in line_ratio_list:\n",
    "        pair_name = line_pair[0] + '/' + line_pair[1]\n",
    "        line_ratios[pair_name] =  peak_ratio(line_pair[0], line_pair[0])\n",
    "    return line_ratios"
   ]
  },
  {
   "cell_type": "code",
   "execution_count": 85,
   "metadata": {},
   "outputs": [
    {
     "data": {
      "text/plain": [
       "{'Ni_Ka/Ni_La': 1.0}"
      ]
     },
     "execution_count": 85,
     "metadata": {},
     "output_type": "execute_result"
    }
   ],
   "source": [
    "line_ratios = calculate_all_line_ratios()\n",
    "line_ratios"
   ]
  },
  {
   "cell_type": "code",
   "execution_count": 86,
   "metadata": {},
   "outputs": [
    {
     "data": {
      "text/plain": [
       "{'Ni_Ka': {'fwhm': 140.3527012161625,\n",
       "  'fwtm': 257.71697327598633,\n",
       "  'fwtm/fwhm': 1.8362095709085546}}"
      ]
     },
     "execution_count": 86,
     "metadata": {},
     "output_type": "execute_result"
    }
   ],
   "source": [
    "## FWTM to FWHM\n",
    "\n",
    "def fwtm_to_fwhm_line(line, plot_ratio=False):\n",
    "    s_wo_bg = s.deepcopy()\n",
    "    s_wo_bg.data = s.data - m[-1].function(x)*s.axes_manager[0].scale\n",
    "    window = m[line].sigma.value * 4 # window around the line\n",
    "    line_energy = m[line].centre.value\n",
    "    s_line_window = s_wo_bg.isig[line_energy-window:line_energy+window]\n",
    "    fwhm = s_line_window.estimate_peak_width(factor=0.5, parallel=False).data[0]\n",
    "    fwtm = s_line_window.estimate_peak_width(factor=0.1, parallel=False).data[0]\n",
    "\n",
    "    # TODO: Put this plotting in a separate function?\n",
    "    if plot_ratio:\n",
    "        plt.plot(s_line_window.axes_manager[0].axis, s_line_window.data, label=f'Signal without bg', marker='o')\n",
    "        plt.axvline(line_energy-window, color='k', linestyle='--', label='window')\n",
    "        plt.axvline(line_energy+window, color='k', linestyle='--')\n",
    "        plt.axvline(theoretical_energy(line), color='r', linestyle='--', label='theoretical line center')\n",
    "        plt.axvline(m[line].centre.value, color='g', linestyle='--', label='calibrated center')\n",
    "        plt.plot([line_energy-fwhm/2, line_energy+fwhm/2], [lines_info[line]['max_counts']/2, lines_info[line]['max_counts']/2], label='fwhm')\n",
    "        plt.plot([line_energy-fwtm/2, line_energy+fwtm/2], [lines_info[line]['max_counts']/10, lines_info[line]['max_counts']/10], label='fwtm')\n",
    "        plt.title(f'{line} \\n FWHM: {fwhm*1000:.2f} eV, FWTM: {fwtm*1000:.2f} eV, ratio: {fwtm/fwhm:.3f}')\n",
    "        plt.legend()\n",
    "        plt.show()\n",
    "    \n",
    "    return {'fwhm': fwhm*1000, 'fwtm': fwtm*1000, 'fwtm/fwhm': fwtm/fwhm}\n",
    "\n",
    "\n",
    "def fwtm_to_fwhm_all():\n",
    "    fwtm_to_fwhm = {}\n",
    "    for line in fwtm_to_fwhm_lines:\n",
    "        fwtm_to_fwhm[line] = fwtm_to_fwhm_line(line, plot_ratio=False)\n",
    "\n",
    "    return fwtm_to_fwhm\n",
    "        \n",
    "\n",
    "fwtm_to_fwhm = fwtm_to_fwhm_all()\n",
    "fwtm_to_fwhm"
   ]
  },
  {
   "cell_type": "code",
   "execution_count": 87,
   "metadata": {},
   "outputs": [
    {
     "data": {
      "text/plain": [
       "{'fwhm': 140.3527012161625,\n",
       " 'fwtm': 257.71697327598633,\n",
       " 'fwtm/fwhm': 1.8362095709085546}"
      ]
     },
     "execution_count": 87,
     "metadata": {},
     "output_type": "execute_result"
    }
   ],
   "source": [
    "fwtm_to_fwhm_line('Ni_Ka', plot_ratio=True)"
   ]
  },
  {
   "cell_type": "code",
   "execution_count": 88,
   "metadata": {},
   "outputs": [],
   "source": [
    "# plt.plot(s.axes_manager[0].axis, s.data-m[-1].function(s.axes_manager[0].axis)*scale+100, label='spectrum', marker='o')\n",
    "# # m_data = np.zeros_like(s.data)\n",
    "\n",
    "# for comp in m:\n",
    "#     if comp == m[-1]:\n",
    "#         continue\n",
    "#     # m_data += comp.function(s.axes_manager[0].axis)*scale\n",
    "\n",
    "#     # if 'Sn_' in comp.name:\n",
    "    \n",
    "#     line_y = comp.height * scale\n",
    "#     line_x = comp.centre.value\n",
    "#     true_e  = hs.material.elements[comp.name.split('_')[0]].Atomic_properties.Xray_lines.as_dictionary()[comp.name.split('_')[1]]['energy (keV)']\n",
    "\n",
    "#     plt.plot([line_x, line_x], [0, line_y+100])\n",
    "#     plt.plot([true_e, true_e], [0, line_y+100], '--', color='k', alpha=0.7)\n",
    "\n",
    "#     # plt.plot(s.axes_manager[0].axis, comp.function(s.axes_manager[0].axis)*scale+m[-1].function(s.axes_manager[0].axis)*scale, label=comp.name)\n",
    "#     plt.plot(s.axes_manager[0].axis, comp.function(s.axes_manager[0].axis)*scale+100, label=comp.name)\n",
    "\n",
    "#     plt.text(line_x, line_y+100, f'{comp.name}, {comp.centre.value:.3f}',rotation=90)\n",
    "\n",
    "# # plt.plot(s.axes_manager[0].axis, m_data+150, label='model')\n",
    "\n",
    "\n",
    "# plt.ylim(15,25e4)\n",
    "# plt.yscale('log')\n",
    "\n",
    "# # plt.legend()\n",
    "# plt.show()"
   ]
  },
  {
   "cell_type": "code",
   "execution_count": null,
   "metadata": {},
   "outputs": [],
   "source": []
  },
  {
   "cell_type": "markdown",
   "metadata": {},
   "source": [
    "## Total counts and background counts"
   ]
  },
  {
   "cell_type": "code",
   "execution_count": 89,
   "metadata": {},
   "outputs": [
    {
     "name": "stdout",
     "output_type": "stream",
     "text": [
      "total_counts: 2458125.0\n",
      "background_counts: 703981.2\n",
      "total_counts_wo_bg: 1754143.8\n",
      "total_counts/background_counts: 3.5\n",
      "total_counts/total_counts_wo_bg: 1.4\n"
     ]
    }
   ],
   "source": [
    "total_counts = s.data.sum()\n",
    "# total_counts_m = m.signal.data.sum() # does not work, m.signal is just a view of s\n",
    "print(f'total_counts: {total_counts:.1f}')\n",
    "\n",
    "# counts in the background\n",
    "background_counts = bg_range(x).sum()\n",
    "print(f'background_counts: {background_counts:.1f}')\n",
    "\n",
    "# counts in the spectrum without background\n",
    "total_counts_wo_bg = total_counts - background_counts\n",
    "print(f'total_counts_wo_bg: {total_counts_wo_bg:.1f}')\n",
    "\n",
    "# ratio of total counts to total counts in background\n",
    "print(f'total_counts/background_counts: {total_counts/background_counts:.1f}')\n",
    "\n",
    "# ratio of total counts to total counts in spectrum without background\n",
    "print(f'total_counts/total_counts_wo_bg: {total_counts/total_counts_wo_bg:.1f}')\n",
    "\n",
    "# Fiori background at a certain peak\n",
    "#TODO"
   ]
  },
  {
   "cell_type": "code",
   "execution_count": 90,
   "metadata": {},
   "outputs": [],
   "source": [
    "plt.close('all')"
   ]
  },
  {
   "cell_type": "code",
   "execution_count": 91,
   "metadata": {},
   "outputs": [],
   "source": [
    "# setting the parameters which have temporary arrays\n",
    "\n",
    "scale = scale_list[-1]\n",
    "offset = offset_list[-1]\n",
    "energy_resolution = energy_res_list[-1]"
   ]
  },
  {
   "cell_type": "code",
   "execution_count": 92,
   "metadata": {},
   "outputs": [
    {
     "name": "stdout",
     "output_type": "stream",
     "text": [
      "Vacc=30.0 > x_max=20.27, Duane-Hunt not possible\n"
     ]
    }
   ],
   "source": [
    "# TODO: discuss with Ton this Duane-Hunt method\n",
    "\n",
    "\n",
    "# path = 'data/Mæhlum_2022-09-06_EDS-SEM-APREO'\n",
    "# file = 'GaAs_10kV.emsa'\n",
    "# s_dh = hs.load(path + '/' + file, signal_type='EDS_TEM')  # have to pretent it's a TEM signal\n",
    "# s_dh.add_elements(elements)\n",
    "# if zero_peak:\n",
    "#     s_dh = s_dh.isig[zero_peak_end_index:]\n",
    "# Vacc = s_dh.metadata.Acquisition_instrument.TEM.beam_energy\n",
    "# x_max = s_dh.axes_manager[0].high_value  # highest x-axis value in keV, used in Duane-Hunt\n",
    "# x = s_dh.axes_manager[0].axis  # x-axis in keV\n",
    "\n",
    "\n",
    "\n",
    "\n",
    "\n",
    "# Duane-Hunt (where the the real E_0 is)\n",
    "def calculate_duane_hunt(buffer_start=2, buffer_end=0.1, xaxis_buffer=0.5, dh_plot=False):\n",
    "    if Vacc > x_max:\n",
    "        print(f'Vacc={Vacc} > x_max={x_max}, Duane-Hunt not possible')\n",
    "        return np.nan\n",
    "    else:\n",
    "        # doing a linear fit from Vacc-2 keV till Vacc-0.1 keV, i.e. only the bg\n",
    "        dh_start = Vacc-buffer_start\n",
    "        dh_end = Vacc-buffer_end\n",
    "        s_end = s.isig[dh_start:dh_end] # slice with keV\n",
    "        m_end = s_end.create_model(auto_background=False)\n",
    "        m_end.add_polynomial_background(order=1)\n",
    "        m_end.fit()\n",
    "\n",
    "        # x-axis from dh_start-0.5 to dh_end+0.5, i.e. a buffer for plotting\n",
    "        x_s_end = s.isig[dh_start-xaxis_buffer:dh_end+xaxis_buffer].axes_manager[0].axis\n",
    "\n",
    "        # locate where the background is closest to zero\n",
    "        bg_zero_index = np.argmin(np.abs(m_end[-1].function(x_s_end) * s.axes_manager[0].scale))\n",
    "\n",
    "        dh_limit = x_s_end[bg_zero_index]\n",
    "\n",
    "        print(f'bg_zero_index: {bg_zero_index}')\n",
    "        print(f'Duane-Hunt limit: {dh_limit}')\n",
    "        if dh_plot:\n",
    "            plt.plot(x, s.data, label='spectrum', marker='o')\n",
    "            plt.plot(x_s_end, m_end[-1].function(x_s_end)* s.axes_manager[0].scale, label='bg lin. fit')\n",
    "            plt.plot(s_end.axes_manager[0].axis, s_end.data, marker='o', label=f'points in bg lin. fit')\n",
    "            plt.axhline(0, color='k', linestyle='--')\n",
    "            plt.axvline(dh_limit, color='r', linestyle='--', label=f'Duane-Hunt: {dh_limit:.2f} keV')\n",
    "            plt.axvline(Vacc, color='r', linestyle='--', label=f'Vacc from instrument: {Vacc} keV', alpha=0.6)\n",
    "\n",
    "            plt.legend()\n",
    "            plt.title(f'{file}\\nlin fit range kV: [{dh_start:.2f}, {dh_end:.2f}]')\n",
    "            plot_buffer = 1.1\n",
    "            plt.ylim(-5, m_end[-1].function(x_s_end).max() * s.axes_manager[0].scale*plot_buffer)\n",
    "            plt.xlim(Vacc-buffer_start*plot_buffer, dh_limit + buffer_end)\n",
    "            plt.show()\n",
    "        return dh_limit\n",
    "\n",
    "\n",
    "\n",
    "\n",
    "dh_limit = calculate_duane_hunt(dh_plot=True)"
   ]
  },
  {
   "cell_type": "code",
   "execution_count": 93,
   "metadata": {},
   "outputs": [
    {
     "name": "stdout",
     "output_type": "stream",
     "text": [
      "scale: 0.009996773445464083\n",
      "offset: 0.1348980721198133\n",
      "energy_resolution: 129.92035855169993\n",
      "total_counts: 2458125.0\n",
      "background_counts: 703981.1630655867\n",
      "dh_limit: nan\n",
      "Line           True E [keV]   Calib. E [keV] Area [counts]  Max (fit)      Sigma [keV]    FWHM [eV]      \n",
      "Al_Ka          1.4865         1.4865         91822.9        11214.1        0.0325         76.4774        \n",
      "C_Ka           0.2774         0.2774         312027.1       54775.9        0.0226         53.1606        \n",
      "Cu_Ka          8.0478         8.0478         68591.6        4317.1         0.0633         149.1712       \n",
      "Mo_La          2.2932         2.2932         54820.9        5786.0         0.0377         88.6879        \n",
      "Ni_Ka          7.4781         7.4781         342124.6       22259.8        0.0613         144.3184       \n",
      "Ni_La          0.8511         0.8511         285763.3       41097.2        0.0277         65.2710        \n",
      "O_Ka           0.5249         0.5249         217110.6       34085.8        0.0249         58.6924        \n",
      "Si_Ka          1.7397         1.7397         25567.4        2983.3         0.0342         80.5096        \n",
      "\n",
      "line_ratios: {'Ni_Ka/Ni_La': 1.0}\n",
      "fwtm_to_fwhm: {'Ni_Ka': {'fwhm': 140.3527012161625, 'fwtm': 257.71697327598633, 'fwtm/fwhm': 1.8362095709085546}}\n"
     ]
    }
   ],
   "source": [
    "def print_output(scale=scale, offset=offset, energy_resolution=energy_resolution, total_counts=total_counts, \n",
    "background_counts=background_counts, dh_limit=dh_limit, lines_info=lines_info, line_ratios=line_ratios, fwtm_to_fwhm=fwtm_to_fwhm):\n",
    "    print(f\"scale: {scale}\")\n",
    "    print(f\"offset: {offset}\")\n",
    "    print(f\"energy_resolution: {energy_resolution}\")\n",
    "    print(f\"total_counts: {total_counts}\")\n",
    "    print(f\"background_counts: {background_counts}\")\n",
    "    print(f\"dh_limit: {dh_limit}\")\n",
    "    print(print_lines_info(give_return=True))\n",
    "    print(f\"line_ratios: {line_ratios}\")\n",
    "    print(f\"fwtm_to_fwhm: {fwtm_to_fwhm}\")\n",
    "\n",
    "print_output()"
   ]
  },
  {
   "cell_type": "code",
   "execution_count": 94,
   "metadata": {},
   "outputs": [
    {
     "data": {
      "text/plain": [
       "{'scale': 0.009996773445464083,\n",
       " 'offset': 0.1348980721198133,\n",
       " 'energy_resolution': 129.92035855169993,\n",
       " 'total_counts': 2458125.0,\n",
       " 'background_counts': 703981.1630655867,\n",
       " 'dh_limit': nan,\n",
       " 'lines_info': {'Al_Ka': {'true_energy': 1.4865,\n",
       "   'calib_energy': 1.4865,\n",
       "   'area': 91822.85217193273,\n",
       "   'max_counts': 11214.069251336288,\n",
       "   'sigma': 0.03247698055799203,\n",
       "   'fwhm': 76.47744482004005},\n",
       "  'C_Ka': {'true_energy': 0.2774,\n",
       "   'calib_energy': 0.2774,\n",
       "   'area': 312027.0851628599,\n",
       "   'max_counts': 54775.94811599539,\n",
       "   'sigma': 0.02257522894254459,\n",
       "   'fwhm': 53.16060163506684},\n",
       "  'Cu_Ka': {'true_energy': 8.0478,\n",
       "   'calib_energy': 8.0478,\n",
       "   'area': 68591.62937514996,\n",
       "   'max_counts': 4317.098862850585,\n",
       "   'sigma': 0.0633471798492003,\n",
       "   'fwhm': 149.1712089050775},\n",
       "  'Mo_La': {'true_energy': 2.2932,\n",
       "   'calib_energy': 2.2932,\n",
       "   'area': 54820.901935666785,\n",
       "   'max_counts': 5786.04504996606,\n",
       "   'sigma': 0.03766229771440258,\n",
       "   'fwhm': 88.68793359979851},\n",
       "  'Ni_Ka': {'true_energy': 7.4781,\n",
       "   'calib_energy': 7.4781,\n",
       "   'area': 342124.55499198975,\n",
       "   'max_counts': 22259.819334947464,\n",
       "   'sigma': 0.06128638016189784,\n",
       "   'fwhm': 144.31839649262415},\n",
       "  'Ni_La': {'true_energy': 0.8511,\n",
       "   'calib_energy': 0.8511,\n",
       "   'area': 285763.2913855764,\n",
       "   'max_counts': 41097.193860133375,\n",
       "   'sigma': 0.027718029008349004,\n",
       "   'fwhm': 65.27097031760957},\n",
       "  'O_Ka': {'true_energy': 0.5249,\n",
       "   'calib_energy': 0.5249,\n",
       "   'area': 217110.55622474573,\n",
       "   'max_counts': 34085.84957552468,\n",
       "   'sigma': 0.02492437374091992,\n",
       "   'fwhm': 58.69241489496125},\n",
       "  'Si_Ka': {'true_energy': 1.7397,\n",
       "   'calib_energy': 1.7397,\n",
       "   'area': 25567.41706962543,\n",
       "   'max_counts': 2983.25328718454,\n",
       "   'sigma': 0.03418928942336373,\n",
       "   'fwhm': 80.50962405950155}},\n",
       " 'line_ratios': {'Ni_Ka/Ni_La': 1.0},\n",
       " 'fwtm_to_fwhm': {'Ni_Ka': {'fwhm': 140.3527012161625,\n",
       "   'fwtm': 257.71697327598633,\n",
       "   'fwtm/fwhm': 1.8362095709085546}}}"
      ]
     },
     "execution_count": 94,
     "metadata": {},
     "output_type": "execute_result"
    }
   ],
   "source": [
    "# put output in a dictionary\n",
    "\n",
    "def output_dict(scale=scale, offset=offset, energy_resolution=energy_resolution, total_counts=total_counts,\n",
    "background_counts=background_counts, lines_info=lines_info, line_ratios=line_ratios, fwtm_to_fwhm=fwtm_to_fwhm):\n",
    "    output = {'scale': scale, 'offset': offset, 'energy_resolution': energy_resolution, 'total_counts': total_counts,\n",
    "    'background_counts': background_counts, 'dh_limit':dh_limit, 'lines_info': lines_info, 'line_ratios': line_ratios, 'fwtm_to_fwhm': fwtm_to_fwhm}\n",
    "    return output\n",
    "\n",
    "\n",
    "output = output_dict()\n",
    "output"
   ]
  },
  {
   "cell_type": "code",
   "execution_count": 95,
   "metadata": {},
   "outputs": [],
   "source": [
    "plt.plot(x, m[-1].function(x) * s.axes_manager[0].scale)\n",
    "plt.plot(x, s.data)\n",
    "\n",
    "plt.show()"
   ]
  },
  {
   "cell_type": "code",
   "execution_count": 96,
   "metadata": {},
   "outputs": [],
   "source": [
    "plt.close('all')"
   ]
  },
  {
   "cell_type": "code",
   "execution_count": 98,
   "metadata": {},
   "outputs": [],
   "source": []
  },
  {
   "cell_type": "code",
   "execution_count": 99,
   "metadata": {},
   "outputs": [
    {
     "name": "stdout",
     "output_type": "stream",
     "text": [
      "bg_zero_index: 202\n",
      "Duane-Hunt limit: 9.521868337410586\n"
     ]
    },
    {
     "data": {
      "text/plain": [
       "9.521868337410586"
      ]
     },
     "execution_count": 99,
     "metadata": {},
     "output_type": "execute_result"
    }
   ],
   "source": [
    "calculate_duane_hunt()"
   ]
  },
  {
   "cell_type": "code",
   "execution_count": 101,
   "metadata": {},
   "outputs": [
    {
     "data": {
      "text/plain": [
       "10.0"
      ]
     },
     "execution_count": 101,
     "metadata": {},
     "output_type": "execute_result"
    }
   ],
   "source": [
    "Vacc"
   ]
  },
  {
   "cell_type": "code",
   "execution_count": 100,
   "metadata": {},
   "outputs": [
    {
     "data": {
      "text/html": [
       "<ul style=\"margin: 0px; list-style-position: outside;\">\n",
       "                    <details open>\n",
       "                    <summary style=\"display: list-item;\">\n",
       "                    <li style=\"display: inline;\">\n",
       "                    Acquisition_instrument\n",
       "                    </li></summary>\n",
       "                    <ul style=\"margin: 0px; list-style-position: outside;\">\n",
       "                    <details closed>\n",
       "                    <summary style=\"display: list-item;\">\n",
       "                    <li style=\"display: inline;\">\n",
       "                    TEM\n",
       "                    </li></summary>\n",
       "                    <ul style=\"margin: 0px; list-style-position: outside;\">\n",
       "                    <details closed>\n",
       "                    <summary style=\"display: list-item;\">\n",
       "                    <li style=\"display: inline;\">\n",
       "                    Detector\n",
       "                    </li></summary>\n",
       "                    <ul style=\"margin: 0px; list-style-position: outside;\">\n",
       "                    <details closed>\n",
       "                    <summary style=\"display: list-item;\">\n",
       "                    <li style=\"display: inline;\">\n",
       "                    EDS\n",
       "                    </li></summary>\n",
       "                    \n",
       "    <ul style=\"margin: 0px; list-style-position: outside;\">\n",
       "    <li style='margin-left:1em; padding-left: 0.5em'>azimuth_angle = 0.0</li></ul>\n",
       "    \n",
       "    <ul style=\"margin: 0px; list-style-position: outside;\">\n",
       "    <li style='margin-left:1em; padding-left: 0.5em'>elevation_angle = 18.4</li></ul>\n",
       "    \n",
       "    <ul style=\"margin: 0px; list-style-position: outside;\">\n",
       "    <li style='margin-left:1em; padding-left: 0.5em'>energy_resolution_MnKa = 129.92035855169993</li></ul>\n",
       "    \n",
       "    <ul style=\"margin: 0px; list-style-position: outside;\">\n",
       "    <li style='margin-left:1em; padding-left: 0.5em'>live_time = 120.0</li></ul>\n",
       "    \n",
       "    <ul style=\"margin: 0px; list-style-position: outside;\">\n",
       "    <li style='margin-left:1em; padding-left: 0.5em'>real_time = 137.728393555</li></ul>\n",
       "    </details></ul></details></ul><ul style=\"margin: 0px; list-style-position: outside;\">\n",
       "                    <details closed>\n",
       "                    <summary style=\"display: list-item;\">\n",
       "                    <li style=\"display: inline;\">\n",
       "                    Stage\n",
       "                    </li></summary>\n",
       "                    \n",
       "    <ul style=\"margin: 0px; list-style-position: outside;\">\n",
       "    <li style='margin-left:1em; padding-left: 0.5em'>tilt_alpha = 0.0</li></ul>\n",
       "    </details></ul>\n",
       "    <ul style=\"margin: 0px; list-style-position: outside;\">\n",
       "    <li style='margin-left:1em; padding-left: 0.5em'>beam_energy = 30.0</li></ul>\n",
       "    </details></ul></details></ul><ul style=\"margin: 0px; list-style-position: outside;\">\n",
       "                    <details open>\n",
       "                    <summary style=\"display: list-item;\">\n",
       "                    <li style=\"display: inline;\">\n",
       "                    General\n",
       "                    </li></summary>\n",
       "                    <ul style=\"margin: 0px; list-style-position: outside;\">\n",
       "                    <details closed>\n",
       "                    <summary style=\"display: list-item;\">\n",
       "                    <li style=\"display: inline;\">\n",
       "                    FileIO\n",
       "                    </li></summary>\n",
       "                    <ul style=\"margin: 0px; list-style-position: outside;\">\n",
       "                    <details closed>\n",
       "                    <summary style=\"display: list-item;\">\n",
       "                    <li style=\"display: inline;\">\n",
       "                    0\n",
       "                    </li></summary>\n",
       "                    \n",
       "    <ul style=\"margin: 0px; list-style-position: outside;\">\n",
       "    <li style='margin-left:1em; padding-left: 0.5em'>hyperspy_version = 1.7.3</li></ul>\n",
       "    \n",
       "    <ul style=\"margin: 0px; list-style-position: outside;\">\n",
       "    <li style='margin-left:1em; padding-left: 0.5em'>io_plugin = hyperspy.io_plugins.msa</li></ul>\n",
       "    \n",
       "    <ul style=\"margin: 0px; list-style-position: outside;\">\n",
       "    <li style='margin-left:1em; padding-left: 0.5em'>operation = load</li></ul>\n",
       "    \n",
       "    <ul style=\"margin: 0px; list-style-position: outside;\">\n",
       "    <li style='margin-left:1em; padding-left: 0.5em'>timestamp = 2023-01-26T11:52:24.203112+01:00</li></ul>\n",
       "    </details></ul></details></ul>\n",
       "    <ul style=\"margin: 0px; list-style-position: outside;\">\n",
       "    <li style='margin-left:1em; padding-left: 0.5em'>date = 2022-03-23</li></ul>\n",
       "    \n",
       "    <ul style=\"margin: 0px; list-style-position: outside;\">\n",
       "    <li style='margin-left:1em; padding-left: 0.5em'>original_filename = Spectrum 03.emsa</li></ul>\n",
       "    \n",
       "    <ul style=\"margin: 0px; list-style-position: outside;\">\n",
       "    <li style='margin-left:1em; padding-left: 0.5em'>time = 14:12:00</li></ul>\n",
       "    \n",
       "    <ul style=\"margin: 0px; list-style-position: outside;\">\n",
       "    <li style='margin-left:1em; padding-left: 0.5em'>title = Spectrum 3</li></ul>\n",
       "    </details></ul><ul style=\"margin: 0px; list-style-position: outside;\">\n",
       "                    <details open>\n",
       "                    <summary style=\"display: list-item;\">\n",
       "                    <li style=\"display: inline;\">\n",
       "                    Sample\n",
       "                    </li></summary>\n",
       "                    \n",
       "    <ul style=\"margin: 0px; list-style-position: outside;\">\n",
       "    <li style='margin-left:1em; padding-left: 0.5em'>elements = ['Al', 'Au', 'C', 'Cu', 'F', 'Fe', 'Mg', 'Mo', 'Ni', 'O', 'Si', 'Sn']</li></ul>\n",
       "    </details></ul><ul style=\"margin: 0px; list-style-position: outside;\">\n",
       "                    <details open>\n",
       "                    <summary style=\"display: list-item;\">\n",
       "                    <li style=\"display: inline;\">\n",
       "                    Signal\n",
       "                    </li></summary>\n",
       "                    \n",
       "    <ul style=\"margin: 0px; list-style-position: outside;\">\n",
       "    <li style='margin-left:1em; padding-left: 0.5em'>quantity = X-rays (counts)</li></ul>\n",
       "    \n",
       "    <ul style=\"margin: 0px; list-style-position: outside;\">\n",
       "    <li style='margin-left:1em; padding-left: 0.5em'>signal_type = EDS_TEM</li></ul>\n",
       "    </details></ul>"
      ],
      "text/plain": [
       "├── Acquisition_instrument\n",
       "│   └── TEM\n",
       "│       ├── Detector\n",
       "│       │   └── EDS\n",
       "│       │       ├── azimuth_angle = 0.0\n",
       "│       │       ├── elevation_angle = 18.4\n",
       "│       │       ├── energy_resolution_MnKa = 129.92035855169993\n",
       "│       │       ├── live_time = 120.0\n",
       "│       │       └── real_time = 137.728393555\n",
       "│       ├── Stage\n",
       "│       │   └── tilt_alpha = 0.0\n",
       "│       └── beam_energy = 30.0\n",
       "├── General\n",
       "│   ├── FileIO\n",
       "│   │   └── 0\n",
       "│   │       ├── hyperspy_version = 1.7.3\n",
       "│   │       ├── io_plugin = hyperspy.io_plugins.msa\n",
       "│   │       ├── operation = load\n",
       "│   │       └── timestamp = 2023-01-26T11:52:24.203112+01:00\n",
       "│   ├── date = 2022-03-23\n",
       "│   ├── original_filename = Spectrum 03.emsa\n",
       "│   ├── time = 14:12:00\n",
       "│   └── title = Spectrum 3\n",
       "├── Sample\n",
       "│   └── elements = ['Al', 'Au', 'C', 'Cu', 'F', 'Fe', 'Mg', 'Mo', 'Ni', 'O', 'Si', 'Sn']\n",
       "└── Signal\n",
       "    ├── quantity = X-rays (counts)\n",
       "    └── signal_type = EDS_TEM"
      ]
     },
     "execution_count": 100,
     "metadata": {},
     "output_type": "execute_result"
    }
   ],
   "source": [
    "s.metadata"
   ]
  }
 ],
 "metadata": {
  "kernelspec": {
   "display_name": "hspy",
   "language": "python",
   "name": "python3"
  },
  "language_info": {
   "codemirror_mode": {
    "name": "ipython",
    "version": 3
   },
   "file_extension": ".py",
   "mimetype": "text/x-python",
   "name": "python",
   "nbconvert_exporter": "python",
   "pygments_lexer": "ipython3",
   "version": "3.8.15"
  },
  "orig_nbformat": 4,
  "vscode": {
   "interpreter": {
    "hash": "eedee208f6f0fe67ac5ec53646d8853bbb152098f521b748accd5958a126e1a5"
   }
  }
 },
 "nbformat": 4,
 "nbformat_minor": 2
}
