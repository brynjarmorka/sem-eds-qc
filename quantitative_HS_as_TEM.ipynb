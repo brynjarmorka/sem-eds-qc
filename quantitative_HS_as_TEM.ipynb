{
 "cells": [
  {
   "cell_type": "code",
   "execution_count": 1,
   "metadata": {},
   "outputs": [],
   "source": [
    "import hyperspy.api as hs\n",
    "import numpy as np\n",
    "import plotly.graph_objects as go\n",
    "import pandas as pd\n",
    "import os"
   ]
  },
  {
   "cell_type": "code",
   "execution_count": 2,
   "metadata": {},
   "outputs": [],
   "source": [
    "##### SEM Apreo March 2023 #####\n",
    "path = '../../Masteroppgave/2023-03-08_EDS-Apreo/exports/'"
   ]
  },
  {
   "cell_type": "code",
   "execution_count": 3,
   "metadata": {},
   "outputs": [],
   "source": [
    "aztec_TEM_file = '../../Masteroppgave/2023-03-08_EDS-Apreo/AZtec quant as EDS_TEM.xlsx'\n",
    "df = pd.read_excel(aztec_TEM_file, sheet_name=1)"
   ]
  },
  {
   "cell_type": "code",
   "execution_count": 4,
   "metadata": {},
   "outputs": [],
   "source": [
    "def quant_as_TEM(filename, a_corr=True, noise_slice=0.65, print_results=False):\n",
    "    # check if filename exists in path\n",
    "    if filename + '.emsa' not in os.listdir(path):\n",
    "        print(filename + '.emsa', 'not found in path')\n",
    "        return\n",
    "    \n",
    "    df_s = df[df['File'] == filename]\n",
    "    df_s = df_s.sort_values(by=['Element']) # alphabetically, as HS\n",
    "\n",
    "    # make the spectrum and the model\n",
    "    s = hs.load(path + filename + '.emsa', signal_type='EDS_TEM')\n",
    "    elements = df_s['Element'].values\n",
    "    s = s.isig[noise_slice:] # noise peak slice\n",
    "    # if Vacc is lower than 20, slice at Vacc\n",
    "    if s.metadata.Acquisition_instrument.TEM.beam_energy < 20:\n",
    "        s = s.isig[:s.metadata.Acquisition_instrument.TEM.beam_energy]\n",
    "\n",
    "    s.add_elements(elements)\n",
    "    s.add_lines()\n",
    "    m = s.create_model()\n",
    "    m.fit()\n",
    "    m.fit_background()\n",
    "\n",
    "    lines = df_s['Line'].values\n",
    "    kfactors = df_s['k-factor'].values\n",
    "    intensities = s.get_lines_intensity()\n",
    "    m_intensities = m.get_lines_intensity()\n",
    "\n",
    "    # select only the relevant lines in m (relevant = we have a k-factor for it from AZtec)    \n",
    "    lines_in_m_to_use = []\n",
    "    for m_line in m_intensities:\n",
    "        if m_line.metadata.Sample.xray_lines[0] in lines:\n",
    "            lines_in_m_to_use.append(m_line)\n",
    "    thickness_list = [1e3,1e4,1e5]\n",
    "    if a_corr:\n",
    "    # calculate %at for each line in m, if possible\n",
    "        for l in lines:\n",
    "            try:\n",
    "                m[l]\n",
    "                for thickness in thickness_list:\n",
    "                    at_m = s.quantification(lines_in_m_to_use, factors=kfactors, method='CL', absorption_correction=True, thickness=thickness)\n",
    "                    df_s[f'HS %at m A t={thickness:.0e}'] = [at_m[0][0].data.round(2)[0], at_m[0][1].data.round(2)[0]]\n",
    "            except:\n",
    "                print(l, 'not found in m, quantification with model not possible')\n",
    "                df_s[f'HS %at m A t={thickness:.0e}'] = [np.nan, np.nan]\n",
    "\n",
    "        # do the CL quantification with the intensities from the original spectrum\n",
    "        at = s.quantification(intensities, factors=kfactors, method='CL', absorption_correction=True, thickness=thickness)\n",
    "        df_s['HS %at s A'] = [at[0][0].data.round(2)[0], at[0][1].data.round(2)[0]]\n",
    "    \n",
    "    else: # no absorption correction\n",
    "        # almost the same code, but slicing at and at_m with one less level\n",
    "        for l in lines:\n",
    "            try:\n",
    "                m[l]\n",
    "                at_m = s.quantification(lines_in_m_to_use, factors=kfactors, method='CL')\n",
    "                df_s['HS %at m'] = [at_m[0].data.round(2)[0], at_m[1].data.round(2)[0]]\n",
    "            except:\n",
    "                print(l, 'not found in m, quantification with model not possible')\n",
    "                df_s['HS %at m'] = [np.nan, np.nan]\n",
    "        at = s.quantification(intensities, factors=kfactors, method='CL')\n",
    "        df_s['HS %at s'] = [at[0].data.round(2)[0], at[1].data.round(2)[0]]\n",
    "            \n",
    "\n",
    "    if print_results:\n",
    "        print(df_s)\n",
    "\n",
    "    # put results back in df\n",
    "    df[df['File'] == filename] = df_s"
   ]
  },
  {
   "cell_type": "code",
   "execution_count": 5,
   "metadata": {},
   "outputs": [
    {
     "data": {
      "text/html": [
       "<div>\n",
       "<style scoped>\n",
       "    .dataframe tbody tr th:only-of-type {\n",
       "        vertical-align: middle;\n",
       "    }\n",
       "\n",
       "    .dataframe tbody tr th {\n",
       "        vertical-align: top;\n",
       "    }\n",
       "\n",
       "    .dataframe thead th {\n",
       "        text-align: right;\n",
       "    }\n",
       "</style>\n",
       "<table border=\"1\" class=\"dataframe\">\n",
       "  <thead>\n",
       "    <tr style=\"text-align: right;\">\n",
       "      <th></th>\n",
       "      <th>File</th>\n",
       "      <th>Element</th>\n",
       "      <th>Line series</th>\n",
       "      <th>k-factor</th>\n",
       "      <th>Line</th>\n",
       "      <th>AZ %at</th>\n",
       "      <th>HS %at s</th>\n",
       "      <th>HS %at s A</th>\n",
       "      <th>HS %at m</th>\n",
       "      <th>HS %at m A t=1e+03</th>\n",
       "      <th>HS %at m A t=1e+04</th>\n",
       "      <th>HS %at m A t=1e+05</th>\n",
       "    </tr>\n",
       "  </thead>\n",
       "  <tbody>\n",
       "    <tr>\n",
       "      <th>0</th>\n",
       "      <td>GaAs_05kV_25pA</td>\n",
       "      <td>As</td>\n",
       "      <td>L</td>\n",
       "      <td>1.21</td>\n",
       "      <td>As_La</td>\n",
       "      <td>45.4</td>\n",
       "      <td>0</td>\n",
       "      <td>0</td>\n",
       "      <td>0</td>\n",
       "      <td>0.0</td>\n",
       "      <td>0.0</td>\n",
       "      <td>0</td>\n",
       "    </tr>\n",
       "  </tbody>\n",
       "</table>\n",
       "</div>"
      ],
      "text/plain": [
       "             File Element Line series  k-factor   Line  AZ %at  HS %at s  \\\n",
       "0  GaAs_05kV_25pA      As           L      1.21  As_La    45.4         0   \n",
       "\n",
       "   HS %at s A  HS %at m  HS %at m A t=1e+03  HS %at m A t=1e+04  \\\n",
       "0           0         0                 0.0                 0.0   \n",
       "\n",
       "   HS %at m A t=1e+05  \n",
       "0                   0  "
      ]
     },
     "execution_count": 5,
     "metadata": {},
     "output_type": "execute_result"
    }
   ],
   "source": [
    "df.head(1)"
   ]
  },
  {
   "cell_type": "code",
   "execution_count": 6,
   "metadata": {},
   "outputs": [
    {
     "data": {
      "application/vnd.jupyter.widget-view+json": {
       "model_id": "ce3b1c75c3354a29aff21b494354c733",
       "version_major": 2,
       "version_minor": 0
      },
      "text/plain": [
       "Absorption correction calculation: 0it [00:00, ?it/s]"
      ]
     },
     "metadata": {},
     "output_type": "display_data"
    },
    {
     "name": "stdout",
     "output_type": "stream",
     "text": [
      "[########################################] | 100% Completed | 104.46 ms\n"
     ]
    },
    {
     "data": {
      "application/vnd.jupyter.widget-view+json": {
       "model_id": "79b3c6ff715a4ccba223023ed35dbce2",
       "version_major": 2,
       "version_minor": 0
      },
      "text/plain": [
       "Absorption correction calculation: 0it [00:00, ?it/s]"
      ]
     },
     "metadata": {},
     "output_type": "display_data"
    },
    {
     "name": "stdout",
     "output_type": "stream",
     "text": [
      "[########################################] | 100% Completed | 107.39 ms\n"
     ]
    },
    {
     "data": {
      "application/vnd.jupyter.widget-view+json": {
       "model_id": "cdc89f6be89d4941b431f1550eeef7f5",
       "version_major": 2,
       "version_minor": 0
      },
      "text/plain": [
       "Absorption correction calculation: 0it [00:00, ?it/s]"
      ]
     },
     "metadata": {},
     "output_type": "display_data"
    },
    {
     "name": "stdout",
     "output_type": "stream",
     "text": [
      "[########################################] | 100% Completed | 121.18 ms\n"
     ]
    },
    {
     "data": {
      "application/vnd.jupyter.widget-view+json": {
       "model_id": "0c284eb604bf4ce8bdd8ecbebf88b2a5",
       "version_major": 2,
       "version_minor": 0
      },
      "text/plain": [
       "Absorption correction calculation: 0it [00:00, ?it/s]"
      ]
     },
     "metadata": {},
     "output_type": "display_data"
    },
    {
     "name": "stdout",
     "output_type": "stream",
     "text": [
      "[########################################] | 100% Completed | 111.51 ms\n"
     ]
    },
    {
     "data": {
      "application/vnd.jupyter.widget-view+json": {
       "model_id": "c263ed553e15493dbd630bccc58cd4b3",
       "version_major": 2,
       "version_minor": 0
      },
      "text/plain": [
       "Absorption correction calculation: 0it [00:00, ?it/s]"
      ]
     },
     "metadata": {},
     "output_type": "display_data"
    },
    {
     "name": "stdout",
     "output_type": "stream",
     "text": [
      "[########################################] | 100% Completed | 121.32 ms\n"
     ]
    },
    {
     "data": {
      "application/vnd.jupyter.widget-view+json": {
       "model_id": "18d446b23d65466aa999da2ede7e909b",
       "version_major": 2,
       "version_minor": 0
      },
      "text/plain": [
       "Absorption correction calculation: 0it [00:00, ?it/s]"
      ]
     },
     "metadata": {},
     "output_type": "display_data"
    },
    {
     "name": "stdout",
     "output_type": "stream",
     "text": [
      "[########################################] | 100% Completed | 121.84 ms\n"
     ]
    },
    {
     "data": {
      "application/vnd.jupyter.widget-view+json": {
       "model_id": "24f07c293c0c4dfa81f6e1a947c9d047",
       "version_major": 2,
       "version_minor": 0
      },
      "text/plain": [
       "Absorption correction calculation: 0it [00:00, ?it/s]"
      ]
     },
     "metadata": {},
     "output_type": "display_data"
    },
    {
     "name": "stdout",
     "output_type": "stream",
     "text": [
      "[########################################] | 100% Completed | 105.82 ms\n",
      "             File Element Line series  k-factor   Line  AZ %at  HS %at s  \\\n",
      "6  GaAs_30kV_25pA      As           K     4.191  As_Ka   42.03         0   \n",
      "7  GaAs_30kV_25pA      Ga           K     3.268  Ga_Ka   57.97         0   \n",
      "\n",
      "   HS %at s A  HS %at m  HS %at m A t=1e+03  HS %at m A t=1e+04  \\\n",
      "6       62.03         0               42.63               49.93   \n",
      "7       37.97         0               57.37               50.07   \n",
      "\n",
      "   HS %at m A t=1e+05  \n",
      "6               61.36  \n",
      "7               38.64  \n"
     ]
    }
   ],
   "source": [
    "quant_as_TEM('GaAs_30kV_25pA',print_results=True)"
   ]
  },
  {
   "cell_type": "code",
   "execution_count": 7,
   "metadata": {},
   "outputs": [
    {
     "name": "stdout",
     "output_type": "stream",
     "text": [
      "[########################################] | 100% Completed | 119.19 ms\n",
      "[########################################] | 100% Completed | 111.45 ms\n",
      "[########################################] | 100% Completed | 115.87 ms\n",
      "             File Element Line series  k-factor   Line  AZ %at  HS %at s  \\\n",
      "6  GaAs_30kV_25pA      As           K     4.191  As_Ka   42.03     42.54   \n",
      "7  GaAs_30kV_25pA      Ga           K     3.268  Ga_Ka   57.97     57.46   \n",
      "\n",
      "   HS %at s A  HS %at m  HS %at m A t=1e+03  HS %at m A t=1e+04  \\\n",
      "6       62.03     41.52               42.63               49.93   \n",
      "7       37.97     58.48               57.37               50.07   \n",
      "\n",
      "   HS %at m A t=1e+05  \n",
      "6               61.36  \n",
      "7               38.64  \n"
     ]
    }
   ],
   "source": [
    "quant_as_TEM('GaAs_30kV_25pA',print_results=True, a_corr=False)\n"
   ]
  },
  {
   "cell_type": "code",
   "execution_count": 8,
   "metadata": {},
   "outputs": [
    {
     "data": {
      "application/vnd.jupyter.widget-view+json": {
       "model_id": "67b275677f6e41a0b974d3abf4896cb2",
       "version_major": 2,
       "version_minor": 0
      },
      "text/plain": [
       "Absorption correction calculation: 0it [00:00, ?it/s]"
      ]
     },
     "metadata": {},
     "output_type": "display_data"
    },
    {
     "name": "stdout",
     "output_type": "stream",
     "text": [
      "[########################################] | 100% Completed | 107.20 ms\n"
     ]
    },
    {
     "data": {
      "application/vnd.jupyter.widget-view+json": {
       "model_id": "d1a68a83a38b4bb3b47a3fba93d08436",
       "version_major": 2,
       "version_minor": 0
      },
      "text/plain": [
       "Absorption correction calculation: 0it [00:00, ?it/s]"
      ]
     },
     "metadata": {},
     "output_type": "display_data"
    },
    {
     "name": "stdout",
     "output_type": "stream",
     "text": [
      "[########################################] | 100% Completed | 116.63 ms\n"
     ]
    },
    {
     "data": {
      "application/vnd.jupyter.widget-view+json": {
       "model_id": "9509822b4b42445c8fb28229a51e6b51",
       "version_major": 2,
       "version_minor": 0
      },
      "text/plain": [
       "Absorption correction calculation: 0it [00:00, ?it/s]"
      ]
     },
     "metadata": {},
     "output_type": "display_data"
    },
    {
     "name": "stdout",
     "output_type": "stream",
     "text": [
      "[########################################] | 100% Completed | 120.87 ms\n"
     ]
    },
    {
     "data": {
      "application/vnd.jupyter.widget-view+json": {
       "model_id": "7d15c9dc278744a8bc14f378fcece1f2",
       "version_major": 2,
       "version_minor": 0
      },
      "text/plain": [
       "Absorption correction calculation: 0it [00:00, ?it/s]"
      ]
     },
     "metadata": {},
     "output_type": "display_data"
    },
    {
     "name": "stdout",
     "output_type": "stream",
     "text": [
      "[########################################] | 100% Completed | 112.17 ms\n"
     ]
    },
    {
     "data": {
      "application/vnd.jupyter.widget-view+json": {
       "model_id": "61f8447a8ed64b52b7f14b529f138606",
       "version_major": 2,
       "version_minor": 0
      },
      "text/plain": [
       "Absorption correction calculation: 0it [00:00, ?it/s]"
      ]
     },
     "metadata": {},
     "output_type": "display_data"
    },
    {
     "name": "stdout",
     "output_type": "stream",
     "text": [
      "[########################################] | 100% Completed | 120.89 ms\n"
     ]
    },
    {
     "data": {
      "application/vnd.jupyter.widget-view+json": {
       "model_id": "300063e8ee7d4baaa3718690f96ee5b1",
       "version_major": 2,
       "version_minor": 0
      },
      "text/plain": [
       "Absorption correction calculation: 0it [00:00, ?it/s]"
      ]
     },
     "metadata": {},
     "output_type": "display_data"
    },
    {
     "name": "stdout",
     "output_type": "stream",
     "text": [
      "[########################################] | 100% Completed | 115.86 ms\n"
     ]
    },
    {
     "data": {
      "application/vnd.jupyter.widget-view+json": {
       "model_id": "71c9886e62b046bca117cbd8ed8e367e",
       "version_major": 2,
       "version_minor": 0
      },
      "text/plain": [
       "Absorption correction calculation: 0it [00:00, ?it/s]"
      ]
     },
     "metadata": {},
     "output_type": "display_data"
    },
    {
     "name": "stdout",
     "output_type": "stream",
     "text": [
      "[########################################] | 100% Completed | 118.20 ms\n",
      "             File Element Line series  k-factor   Line  AZ %at  HS %at s  \\\n",
      "6  GaAs_30kV_25pA      As           K     4.191  As_Ka   42.03     42.54   \n",
      "7  GaAs_30kV_25pA      Ga           K     3.268  Ga_Ka   57.97     57.46   \n",
      "\n",
      "   HS %at s A  HS %at m  HS %at m A t=1e+03  HS %at m A t=1e+04  \\\n",
      "6       62.03     41.52               42.63               49.93   \n",
      "7       37.97     58.48               57.37               50.07   \n",
      "\n",
      "   HS %at m A t=1e+05  \n",
      "6               61.36  \n",
      "7               38.64  \n",
      "[########################################] | 100% Completed | 106.13 ms\n",
      "[########################################] | 100% Completed | 112.74 ms\n",
      "[########################################] | 100% Completed | 105.15 ms\n",
      "             File Element Line series  k-factor   Line  AZ %at  HS %at s  \\\n",
      "6  GaAs_30kV_25pA      As           K     4.191  As_Ka   42.03     42.54   \n",
      "7  GaAs_30kV_25pA      Ga           K     3.268  Ga_Ka   57.97     57.46   \n",
      "\n",
      "   HS %at s A  HS %at m  HS %at m A t=1e+03  HS %at m A t=1e+04  \\\n",
      "6       62.03     41.52               42.63               49.93   \n",
      "7       37.97     58.48               57.37               50.07   \n",
      "\n",
      "   HS %at m A t=1e+05  \n",
      "6               61.36  \n",
      "7               38.64  \n"
     ]
    }
   ],
   "source": [
    "quant_as_TEM('GaAs_30kV_25pA',print_results=True)\n",
    "quant_as_TEM('GaAs_30kV_25pA',print_results=True, a_corr=False)\n",
    "\n"
   ]
  },
  {
   "cell_type": "code",
   "execution_count": 9,
   "metadata": {},
   "outputs": [
    {
     "name": "stdout",
     "output_type": "stream",
     "text": [
      "GaAs_05kV_25pA\n"
     ]
    },
    {
     "data": {
      "application/vnd.jupyter.widget-view+json": {
       "model_id": "f266e7e6db924383afcafe368b3a7794",
       "version_major": 2,
       "version_minor": 0
      },
      "text/plain": [
       "Absorption correction calculation: 0it [00:00, ?it/s]"
      ]
     },
     "metadata": {},
     "output_type": "display_data"
    },
    {
     "name": "stdout",
     "output_type": "stream",
     "text": [
      "[########################################] | 100% Completed | 113.28 ms\n"
     ]
    },
    {
     "data": {
      "application/vnd.jupyter.widget-view+json": {
       "model_id": "f7a0c722f53e4316b3f3d12788813791",
       "version_major": 2,
       "version_minor": 0
      },
      "text/plain": [
       "Absorption correction calculation: 0it [00:00, ?it/s]"
      ]
     },
     "metadata": {},
     "output_type": "display_data"
    },
    {
     "name": "stdout",
     "output_type": "stream",
     "text": [
      "[########################################] | 100% Completed | 115.17 ms\n"
     ]
    },
    {
     "data": {
      "application/vnd.jupyter.widget-view+json": {
       "model_id": "d084e42e9fcd496e9afbb52fb699ca90",
       "version_major": 2,
       "version_minor": 0
      },
      "text/plain": [
       "Absorption correction calculation: 0it [00:00, ?it/s]"
      ]
     },
     "metadata": {},
     "output_type": "display_data"
    },
    {
     "name": "stdout",
     "output_type": "stream",
     "text": [
      "[########################################] | 100% Completed | 112.64 ms\n"
     ]
    },
    {
     "data": {
      "application/vnd.jupyter.widget-view+json": {
       "model_id": "73577f27b1b446958a8f7c9658d2fc87",
       "version_major": 2,
       "version_minor": 0
      },
      "text/plain": [
       "Absorption correction calculation: 0it [00:00, ?it/s]"
      ]
     },
     "metadata": {},
     "output_type": "display_data"
    },
    {
     "name": "stdout",
     "output_type": "stream",
     "text": [
      "[########################################] | 100% Completed | 116.43 ms\n"
     ]
    },
    {
     "data": {
      "application/vnd.jupyter.widget-view+json": {
       "model_id": "e743bf351da949a3bf6dff9f30f441e6",
       "version_major": 2,
       "version_minor": 0
      },
      "text/plain": [
       "Absorption correction calculation: 0it [00:00, ?it/s]"
      ]
     },
     "metadata": {},
     "output_type": "display_data"
    },
    {
     "name": "stdout",
     "output_type": "stream",
     "text": [
      "[########################################] | 100% Completed | 120.54 ms\n"
     ]
    },
    {
     "data": {
      "application/vnd.jupyter.widget-view+json": {
       "model_id": "6bf3c454176349d38e4d7a332482e563",
       "version_major": 2,
       "version_minor": 0
      },
      "text/plain": [
       "Absorption correction calculation: 0it [00:00, ?it/s]"
      ]
     },
     "metadata": {},
     "output_type": "display_data"
    },
    {
     "name": "stdout",
     "output_type": "stream",
     "text": [
      "[########################################] | 100% Completed | 123.13 ms\n"
     ]
    },
    {
     "data": {
      "application/vnd.jupyter.widget-view+json": {
       "model_id": "b98ebf0fe6eb44ee99e55015afb3e44b",
       "version_major": 2,
       "version_minor": 0
      },
      "text/plain": [
       "Absorption correction calculation: 0it [00:00, ?it/s]"
      ]
     },
     "metadata": {},
     "output_type": "display_data"
    },
    {
     "name": "stdout",
     "output_type": "stream",
     "text": [
      "[########################################] | 100% Completed | 108.14 ms\n",
      "GaAs_10kV_25pA\n"
     ]
    },
    {
     "data": {
      "application/vnd.jupyter.widget-view+json": {
       "model_id": "a1a0931044c74c8584758a67e2ba144a",
       "version_major": 2,
       "version_minor": 0
      },
      "text/plain": [
       "Absorption correction calculation: 0it [00:00, ?it/s]"
      ]
     },
     "metadata": {},
     "output_type": "display_data"
    },
    {
     "name": "stdout",
     "output_type": "stream",
     "text": [
      "[########################################] | 100% Completed | 116.20 ms\n"
     ]
    },
    {
     "data": {
      "application/vnd.jupyter.widget-view+json": {
       "model_id": "26d02b9f5d4c41b7b567d58f3660de62",
       "version_major": 2,
       "version_minor": 0
      },
      "text/plain": [
       "Absorption correction calculation: 0it [00:00, ?it/s]"
      ]
     },
     "metadata": {},
     "output_type": "display_data"
    },
    {
     "name": "stdout",
     "output_type": "stream",
     "text": [
      "[########################################] | 100% Completed | 114.28 ms\n"
     ]
    },
    {
     "data": {
      "application/vnd.jupyter.widget-view+json": {
       "model_id": "cf37d5d6e4f548c79c6fee6122d2a055",
       "version_major": 2,
       "version_minor": 0
      },
      "text/plain": [
       "Absorption correction calculation: 0it [00:00, ?it/s]"
      ]
     },
     "metadata": {},
     "output_type": "display_data"
    },
    {
     "name": "stdout",
     "output_type": "stream",
     "text": [
      "[########################################] | 100% Completed | 112.00 ms\n"
     ]
    },
    {
     "data": {
      "application/vnd.jupyter.widget-view+json": {
       "model_id": "1f1baa6e1c7d43f0805a166be1c30066",
       "version_major": 2,
       "version_minor": 0
      },
      "text/plain": [
       "Absorption correction calculation: 0it [00:00, ?it/s]"
      ]
     },
     "metadata": {},
     "output_type": "display_data"
    },
    {
     "name": "stdout",
     "output_type": "stream",
     "text": [
      "[########################################] | 100% Completed | 108.83 ms\n"
     ]
    },
    {
     "data": {
      "application/vnd.jupyter.widget-view+json": {
       "model_id": "2eb8344b3c41497489d868ed359d450c",
       "version_major": 2,
       "version_minor": 0
      },
      "text/plain": [
       "Absorption correction calculation: 0it [00:00, ?it/s]"
      ]
     },
     "metadata": {},
     "output_type": "display_data"
    },
    {
     "name": "stdout",
     "output_type": "stream",
     "text": [
      "[########################################] | 100% Completed | 116.80 ms\n"
     ]
    },
    {
     "data": {
      "application/vnd.jupyter.widget-view+json": {
       "model_id": "e50892b1f9594fe1ad3f37819a2ce205",
       "version_major": 2,
       "version_minor": 0
      },
      "text/plain": [
       "Absorption correction calculation: 0it [00:00, ?it/s]"
      ]
     },
     "metadata": {},
     "output_type": "display_data"
    },
    {
     "name": "stdout",
     "output_type": "stream",
     "text": [
      "[########################################] | 100% Completed | 120.07 ms\n"
     ]
    },
    {
     "data": {
      "application/vnd.jupyter.widget-view+json": {
       "model_id": "12479481cbe24633a285caceff67d6f5",
       "version_major": 2,
       "version_minor": 0
      },
      "text/plain": [
       "Absorption correction calculation: 0it [00:00, ?it/s]"
      ]
     },
     "metadata": {},
     "output_type": "display_data"
    },
    {
     "name": "stdout",
     "output_type": "stream",
     "text": [
      "[########################################] | 100% Completed | 108.33 ms\n",
      "GaAs_15kV_25pA\n"
     ]
    },
    {
     "data": {
      "application/vnd.jupyter.widget-view+json": {
       "model_id": "bfb1ee3f9e944629add4017766a10d78",
       "version_major": 2,
       "version_minor": 0
      },
      "text/plain": [
       "Absorption correction calculation: 0it [00:00, ?it/s]"
      ]
     },
     "metadata": {},
     "output_type": "display_data"
    },
    {
     "name": "stdout",
     "output_type": "stream",
     "text": [
      "[########################################] | 100% Completed | 119.83 ms\n"
     ]
    },
    {
     "data": {
      "application/vnd.jupyter.widget-view+json": {
       "model_id": "674e39c16fac46cd88b24dad1f61e6df",
       "version_major": 2,
       "version_minor": 0
      },
      "text/plain": [
       "Absorption correction calculation: 0it [00:00, ?it/s]"
      ]
     },
     "metadata": {},
     "output_type": "display_data"
    },
    {
     "name": "stdout",
     "output_type": "stream",
     "text": [
      "[########################################] | 100% Completed | 111.79 ms\n"
     ]
    },
    {
     "data": {
      "application/vnd.jupyter.widget-view+json": {
       "model_id": "e7199cd33ed14b638808d3950e17230e",
       "version_major": 2,
       "version_minor": 0
      },
      "text/plain": [
       "Absorption correction calculation: 0it [00:00, ?it/s]"
      ]
     },
     "metadata": {},
     "output_type": "display_data"
    },
    {
     "name": "stdout",
     "output_type": "stream",
     "text": [
      "[########################################] | 100% Completed | 118.22 ms\n"
     ]
    },
    {
     "data": {
      "application/vnd.jupyter.widget-view+json": {
       "model_id": "404112b4d23743749f4ab7ac0e380547",
       "version_major": 2,
       "version_minor": 0
      },
      "text/plain": [
       "Absorption correction calculation: 0it [00:00, ?it/s]"
      ]
     },
     "metadata": {},
     "output_type": "display_data"
    },
    {
     "name": "stdout",
     "output_type": "stream",
     "text": [
      "[########################################] | 100% Completed | 115.16 ms\n"
     ]
    },
    {
     "data": {
      "application/vnd.jupyter.widget-view+json": {
       "model_id": "f994d51ba0a7438e9997408fbd4d44db",
       "version_major": 2,
       "version_minor": 0
      },
      "text/plain": [
       "Absorption correction calculation: 0it [00:00, ?it/s]"
      ]
     },
     "metadata": {},
     "output_type": "display_data"
    },
    {
     "name": "stdout",
     "output_type": "stream",
     "text": [
      "[########################################] | 100% Completed | 108.82 ms\n"
     ]
    },
    {
     "data": {
      "application/vnd.jupyter.widget-view+json": {
       "model_id": "04ae22f0645f42ac94326c5ad6f8c61f",
       "version_major": 2,
       "version_minor": 0
      },
      "text/plain": [
       "Absorption correction calculation: 0it [00:00, ?it/s]"
      ]
     },
     "metadata": {},
     "output_type": "display_data"
    },
    {
     "name": "stdout",
     "output_type": "stream",
     "text": [
      "[########################################] | 100% Completed | 112.49 ms\n"
     ]
    },
    {
     "data": {
      "application/vnd.jupyter.widget-view+json": {
       "model_id": "8cd71091d62b44709d40fa3e4270b458",
       "version_major": 2,
       "version_minor": 0
      },
      "text/plain": [
       "Absorption correction calculation: 0it [00:00, ?it/s]"
      ]
     },
     "metadata": {},
     "output_type": "display_data"
    },
    {
     "name": "stdout",
     "output_type": "stream",
     "text": [
      "[########################################] | 100% Completed | 121.72 ms\n",
      "GaAs_30kV_25pA\n"
     ]
    },
    {
     "data": {
      "application/vnd.jupyter.widget-view+json": {
       "model_id": "a9fc49d0a532455aa794dfd98960c438",
       "version_major": 2,
       "version_minor": 0
      },
      "text/plain": [
       "Absorption correction calculation: 0it [00:00, ?it/s]"
      ]
     },
     "metadata": {},
     "output_type": "display_data"
    },
    {
     "name": "stdout",
     "output_type": "stream",
     "text": [
      "[########################################] | 100% Completed | 111.70 ms\n"
     ]
    },
    {
     "data": {
      "application/vnd.jupyter.widget-view+json": {
       "model_id": "7073c475063146d0aac874b3ba7085a6",
       "version_major": 2,
       "version_minor": 0
      },
      "text/plain": [
       "Absorption correction calculation: 0it [00:00, ?it/s]"
      ]
     },
     "metadata": {},
     "output_type": "display_data"
    },
    {
     "name": "stdout",
     "output_type": "stream",
     "text": [
      "[########################################] | 100% Completed | 114.26 ms\n"
     ]
    },
    {
     "data": {
      "application/vnd.jupyter.widget-view+json": {
       "model_id": "ab3b81cdcdd74bef8a0005edb296b423",
       "version_major": 2,
       "version_minor": 0
      },
      "text/plain": [
       "Absorption correction calculation: 0it [00:00, ?it/s]"
      ]
     },
     "metadata": {},
     "output_type": "display_data"
    },
    {
     "name": "stdout",
     "output_type": "stream",
     "text": [
      "[########################################] | 100% Completed | 116.45 ms\n"
     ]
    },
    {
     "data": {
      "application/vnd.jupyter.widget-view+json": {
       "model_id": "09002a90ee494f6b84e05c1227a27165",
       "version_major": 2,
       "version_minor": 0
      },
      "text/plain": [
       "Absorption correction calculation: 0it [00:00, ?it/s]"
      ]
     },
     "metadata": {},
     "output_type": "display_data"
    },
    {
     "name": "stdout",
     "output_type": "stream",
     "text": [
      "[########################################] | 100% Completed | 120.57 ms\n"
     ]
    },
    {
     "data": {
      "application/vnd.jupyter.widget-view+json": {
       "model_id": "8f9d0afdf6e44b7f95290ed77ceab4f7",
       "version_major": 2,
       "version_minor": 0
      },
      "text/plain": [
       "Absorption correction calculation: 0it [00:00, ?it/s]"
      ]
     },
     "metadata": {},
     "output_type": "display_data"
    },
    {
     "name": "stdout",
     "output_type": "stream",
     "text": [
      "[########################################] | 100% Completed | 107.71 ms\n"
     ]
    },
    {
     "data": {
      "application/vnd.jupyter.widget-view+json": {
       "model_id": "9d7bef5729e142e0a661d33c7ceabe4a",
       "version_major": 2,
       "version_minor": 0
      },
      "text/plain": [
       "Absorption correction calculation: 0it [00:00, ?it/s]"
      ]
     },
     "metadata": {},
     "output_type": "display_data"
    },
    {
     "name": "stdout",
     "output_type": "stream",
     "text": [
      "[########################################] | 100% Completed | 108.66 ms\n"
     ]
    },
    {
     "data": {
      "application/vnd.jupyter.widget-view+json": {
       "model_id": "2936d9229da74ba79218c0753498f29b",
       "version_major": 2,
       "version_minor": 0
      },
      "text/plain": [
       "Absorption correction calculation: 0it [00:00, ?it/s]"
      ]
     },
     "metadata": {},
     "output_type": "display_data"
    },
    {
     "name": "stdout",
     "output_type": "stream",
     "text": [
      "[########################################] | 100% Completed | 107.46 ms\n",
      "GaAs_30kV_50pA\n"
     ]
    },
    {
     "data": {
      "application/vnd.jupyter.widget-view+json": {
       "model_id": "54aa0d31c2a24159929055e107b4eade",
       "version_major": 2,
       "version_minor": 0
      },
      "text/plain": [
       "Absorption correction calculation: 0it [00:00, ?it/s]"
      ]
     },
     "metadata": {},
     "output_type": "display_data"
    },
    {
     "name": "stdout",
     "output_type": "stream",
     "text": [
      "[########################################] | 100% Completed | 112.02 ms\n"
     ]
    },
    {
     "data": {
      "application/vnd.jupyter.widget-view+json": {
       "model_id": "436bec043d0c4785b8753c05291d47a8",
       "version_major": 2,
       "version_minor": 0
      },
      "text/plain": [
       "Absorption correction calculation: 0it [00:00, ?it/s]"
      ]
     },
     "metadata": {},
     "output_type": "display_data"
    },
    {
     "name": "stdout",
     "output_type": "stream",
     "text": [
      "[########################################] | 100% Completed | 112.36 ms\n"
     ]
    },
    {
     "data": {
      "application/vnd.jupyter.widget-view+json": {
       "model_id": "5b99709904d64b5db032ea6f7d75facb",
       "version_major": 2,
       "version_minor": 0
      },
      "text/plain": [
       "Absorption correction calculation: 0it [00:00, ?it/s]"
      ]
     },
     "metadata": {},
     "output_type": "display_data"
    },
    {
     "name": "stdout",
     "output_type": "stream",
     "text": [
      "[########################################] | 100% Completed | 129.84 ms\n"
     ]
    },
    {
     "data": {
      "application/vnd.jupyter.widget-view+json": {
       "model_id": "82949ebccfe240b2b465291c88e34c03",
       "version_major": 2,
       "version_minor": 0
      },
      "text/plain": [
       "Absorption correction calculation: 0it [00:00, ?it/s]"
      ]
     },
     "metadata": {},
     "output_type": "display_data"
    },
    {
     "name": "stdout",
     "output_type": "stream",
     "text": [
      "[########################################] | 100% Completed | 116.28 ms\n"
     ]
    },
    {
     "data": {
      "application/vnd.jupyter.widget-view+json": {
       "model_id": "5498d722c31f4a668ecde34814a0a959",
       "version_major": 2,
       "version_minor": 0
      },
      "text/plain": [
       "Absorption correction calculation: 0it [00:00, ?it/s]"
      ]
     },
     "metadata": {},
     "output_type": "display_data"
    },
    {
     "name": "stdout",
     "output_type": "stream",
     "text": [
      "[########################################] | 100% Completed | 112.02 ms\n"
     ]
    },
    {
     "data": {
      "application/vnd.jupyter.widget-view+json": {
       "model_id": "75c7762f78d64c6ba570e452b68fe87a",
       "version_major": 2,
       "version_minor": 0
      },
      "text/plain": [
       "Absorption correction calculation: 0it [00:00, ?it/s]"
      ]
     },
     "metadata": {},
     "output_type": "display_data"
    },
    {
     "name": "stdout",
     "output_type": "stream",
     "text": [
      "[########################################] | 100% Completed | 121.97 ms\n"
     ]
    },
    {
     "data": {
      "application/vnd.jupyter.widget-view+json": {
       "model_id": "f3fb1321f4584b1891e6d14a0b5b9d1b",
       "version_major": 2,
       "version_minor": 0
      },
      "text/plain": [
       "Absorption correction calculation: 0it [00:00, ?it/s]"
      ]
     },
     "metadata": {},
     "output_type": "display_data"
    },
    {
     "name": "stdout",
     "output_type": "stream",
     "text": [
      "[########################################] | 100% Completed | 113.56 ms\n",
      "GaSb_05kV_50pA\n",
      "Ga_La not found in m, quantification with model not possible\n",
      "Sb_Mz not found in m, quantification with model not possible\n"
     ]
    },
    {
     "data": {
      "application/vnd.jupyter.widget-view+json": {
       "model_id": "0a98338838894ae3a3f4ff47dde19f0f",
       "version_major": 2,
       "version_minor": 0
      },
      "text/plain": [
       "Absorption correction calculation: 0it [00:00, ?it/s]"
      ]
     },
     "metadata": {},
     "output_type": "display_data"
    },
    {
     "name": "stdout",
     "output_type": "stream",
     "text": [
      "[########################################] | 100% Completed | 122.77 ms\n",
      "GaSb_10kV_50pA\n"
     ]
    },
    {
     "data": {
      "application/vnd.jupyter.widget-view+json": {
       "model_id": "34cfdc9083ac4d26a6163dc00e2e3853",
       "version_major": 2,
       "version_minor": 0
      },
      "text/plain": [
       "Absorption correction calculation: 0it [00:00, ?it/s]"
      ]
     },
     "metadata": {},
     "output_type": "display_data"
    },
    {
     "name": "stdout",
     "output_type": "stream",
     "text": [
      "[########################################] | 100% Completed | 114.42 ms\n"
     ]
    },
    {
     "data": {
      "application/vnd.jupyter.widget-view+json": {
       "model_id": "a8a328e64dbc4365a4d572fe5240c6d0",
       "version_major": 2,
       "version_minor": 0
      },
      "text/plain": [
       "Absorption correction calculation: 0it [00:00, ?it/s]"
      ]
     },
     "metadata": {},
     "output_type": "display_data"
    },
    {
     "name": "stdout",
     "output_type": "stream",
     "text": [
      "[########################################] | 100% Completed | 114.56 ms\n"
     ]
    },
    {
     "data": {
      "application/vnd.jupyter.widget-view+json": {
       "model_id": "e51a2e0cde4445e4b513709a0fe23b60",
       "version_major": 2,
       "version_minor": 0
      },
      "text/plain": [
       "Absorption correction calculation: 0it [00:00, ?it/s]"
      ]
     },
     "metadata": {},
     "output_type": "display_data"
    },
    {
     "name": "stdout",
     "output_type": "stream",
     "text": [
      "[########################################] | 100% Completed | 117.69 ms\n"
     ]
    },
    {
     "data": {
      "application/vnd.jupyter.widget-view+json": {
       "model_id": "95d1b0e416744b33912cd27240aa2dcb",
       "version_major": 2,
       "version_minor": 0
      },
      "text/plain": [
       "Absorption correction calculation: 0it [00:00, ?it/s]"
      ]
     },
     "metadata": {},
     "output_type": "display_data"
    },
    {
     "name": "stdout",
     "output_type": "stream",
     "text": [
      "[########################################] | 100% Completed | 114.97 ms\n"
     ]
    },
    {
     "data": {
      "application/vnd.jupyter.widget-view+json": {
       "model_id": "f9b367b8c35f4abcb2a6a67ba20b58a4",
       "version_major": 2,
       "version_minor": 0
      },
      "text/plain": [
       "Absorption correction calculation: 0it [00:00, ?it/s]"
      ]
     },
     "metadata": {},
     "output_type": "display_data"
    },
    {
     "name": "stdout",
     "output_type": "stream",
     "text": [
      "[########################################] | 100% Completed | 113.76 ms\n"
     ]
    },
    {
     "data": {
      "application/vnd.jupyter.widget-view+json": {
       "model_id": "33f6087d3d984dea814b686276abe7f5",
       "version_major": 2,
       "version_minor": 0
      },
      "text/plain": [
       "Absorption correction calculation: 0it [00:00, ?it/s]"
      ]
     },
     "metadata": {},
     "output_type": "display_data"
    },
    {
     "name": "stdout",
     "output_type": "stream",
     "text": [
      "[########################################] | 100% Completed | 114.53 ms\n"
     ]
    },
    {
     "data": {
      "application/vnd.jupyter.widget-view+json": {
       "model_id": "fe1f8bb3751542219bf6b626941b0342",
       "version_major": 2,
       "version_minor": 0
      },
      "text/plain": [
       "Absorption correction calculation: 0it [00:00, ?it/s]"
      ]
     },
     "metadata": {},
     "output_type": "display_data"
    },
    {
     "name": "stdout",
     "output_type": "stream",
     "text": [
      "[########################################] | 100% Completed | 119.90 ms\n",
      "GaSb_15kV_200pA\n"
     ]
    },
    {
     "data": {
      "application/vnd.jupyter.widget-view+json": {
       "model_id": "50ae7faf9ad349188ed85a763fbf966c",
       "version_major": 2,
       "version_minor": 0
      },
      "text/plain": [
       "Absorption correction calculation: 0it [00:00, ?it/s]"
      ]
     },
     "metadata": {},
     "output_type": "display_data"
    },
    {
     "name": "stdout",
     "output_type": "stream",
     "text": [
      "[########################################] | 100% Completed | 122.07 ms\n"
     ]
    },
    {
     "data": {
      "application/vnd.jupyter.widget-view+json": {
       "model_id": "a4f3e2347bd44be7af01c4e03381de75",
       "version_major": 2,
       "version_minor": 0
      },
      "text/plain": [
       "Absorption correction calculation: 0it [00:00, ?it/s]"
      ]
     },
     "metadata": {},
     "output_type": "display_data"
    },
    {
     "name": "stdout",
     "output_type": "stream",
     "text": [
      "[########################################] | 100% Completed | 111.83 ms\n"
     ]
    },
    {
     "data": {
      "application/vnd.jupyter.widget-view+json": {
       "model_id": "0b7874126f6b42d3b4e038d4945eeaa3",
       "version_major": 2,
       "version_minor": 0
      },
      "text/plain": [
       "Absorption correction calculation: 0it [00:00, ?it/s]"
      ]
     },
     "metadata": {},
     "output_type": "display_data"
    },
    {
     "name": "stdout",
     "output_type": "stream",
     "text": [
      "[########################################] | 100% Completed | 120.03 ms\n"
     ]
    },
    {
     "data": {
      "application/vnd.jupyter.widget-view+json": {
       "model_id": "50fa3e5f2b6748118f3018ca4fb05c5b",
       "version_major": 2,
       "version_minor": 0
      },
      "text/plain": [
       "Absorption correction calculation: 0it [00:00, ?it/s]"
      ]
     },
     "metadata": {},
     "output_type": "display_data"
    },
    {
     "name": "stdout",
     "output_type": "stream",
     "text": [
      "[########################################] | 100% Completed | 114.22 ms\n"
     ]
    },
    {
     "data": {
      "application/vnd.jupyter.widget-view+json": {
       "model_id": "1ba4a3ae20dc479ea59eba36d8f67a1b",
       "version_major": 2,
       "version_minor": 0
      },
      "text/plain": [
       "Absorption correction calculation: 0it [00:00, ?it/s]"
      ]
     },
     "metadata": {},
     "output_type": "display_data"
    },
    {
     "name": "stdout",
     "output_type": "stream",
     "text": [
      "[########################################] | 100% Completed | 121.98 ms\n"
     ]
    },
    {
     "data": {
      "application/vnd.jupyter.widget-view+json": {
       "model_id": "e7e079a7a2ff467f8ce98c2ace364558",
       "version_major": 2,
       "version_minor": 0
      },
      "text/plain": [
       "Absorption correction calculation: 0it [00:00, ?it/s]"
      ]
     },
     "metadata": {},
     "output_type": "display_data"
    },
    {
     "name": "stdout",
     "output_type": "stream",
     "text": [
      "[########################################] | 100% Completed | 110.83 ms\n"
     ]
    },
    {
     "data": {
      "application/vnd.jupyter.widget-view+json": {
       "model_id": "50fa68559cf8499bb79a8bee54634f77",
       "version_major": 2,
       "version_minor": 0
      },
      "text/plain": [
       "Absorption correction calculation: 0it [00:00, ?it/s]"
      ]
     },
     "metadata": {},
     "output_type": "display_data"
    },
    {
     "name": "stdout",
     "output_type": "stream",
     "text": [
      "[########################################] | 100% Completed | 120.81 ms\n",
      "GaSb_15kV_400pA\n"
     ]
    },
    {
     "data": {
      "application/vnd.jupyter.widget-view+json": {
       "model_id": "1edb782e1ab0490a937e9845f1f382f3",
       "version_major": 2,
       "version_minor": 0
      },
      "text/plain": [
       "Absorption correction calculation: 0it [00:00, ?it/s]"
      ]
     },
     "metadata": {},
     "output_type": "display_data"
    },
    {
     "name": "stdout",
     "output_type": "stream",
     "text": [
      "[########################################] | 100% Completed | 118.46 ms\n"
     ]
    },
    {
     "data": {
      "application/vnd.jupyter.widget-view+json": {
       "model_id": "bc40491242854987a05b6c6c711cfe88",
       "version_major": 2,
       "version_minor": 0
      },
      "text/plain": [
       "Absorption correction calculation: 0it [00:00, ?it/s]"
      ]
     },
     "metadata": {},
     "output_type": "display_data"
    },
    {
     "name": "stdout",
     "output_type": "stream",
     "text": [
      "[########################################] | 100% Completed | 113.13 ms\n"
     ]
    },
    {
     "data": {
      "application/vnd.jupyter.widget-view+json": {
       "model_id": "5401b71d1eeb4793a1ee484587c6c6f6",
       "version_major": 2,
       "version_minor": 0
      },
      "text/plain": [
       "Absorption correction calculation: 0it [00:00, ?it/s]"
      ]
     },
     "metadata": {},
     "output_type": "display_data"
    },
    {
     "name": "stdout",
     "output_type": "stream",
     "text": [
      "[########################################] | 100% Completed | 111.98 ms\n"
     ]
    },
    {
     "data": {
      "application/vnd.jupyter.widget-view+json": {
       "model_id": "156a66578172439c96cf24355fcb4001",
       "version_major": 2,
       "version_minor": 0
      },
      "text/plain": [
       "Absorption correction calculation: 0it [00:00, ?it/s]"
      ]
     },
     "metadata": {},
     "output_type": "display_data"
    },
    {
     "name": "stdout",
     "output_type": "stream",
     "text": [
      "[########################################] | 100% Completed | 112.70 ms\n"
     ]
    },
    {
     "data": {
      "application/vnd.jupyter.widget-view+json": {
       "model_id": "c1a9fb15553f465aa082f2570a2f722a",
       "version_major": 2,
       "version_minor": 0
      },
      "text/plain": [
       "Absorption correction calculation: 0it [00:00, ?it/s]"
      ]
     },
     "metadata": {},
     "output_type": "display_data"
    },
    {
     "name": "stdout",
     "output_type": "stream",
     "text": [
      "[########################################] | 100% Completed | 122.26 ms\n"
     ]
    },
    {
     "data": {
      "application/vnd.jupyter.widget-view+json": {
       "model_id": "758dfaa95f234ad793120d8174f3c760",
       "version_major": 2,
       "version_minor": 0
      },
      "text/plain": [
       "Absorption correction calculation: 0it [00:00, ?it/s]"
      ]
     },
     "metadata": {},
     "output_type": "display_data"
    },
    {
     "name": "stdout",
     "output_type": "stream",
     "text": [
      "[########################################] | 100% Completed | 116.42 ms\n"
     ]
    },
    {
     "data": {
      "application/vnd.jupyter.widget-view+json": {
       "model_id": "3a717d1562944610817767d818557c59",
       "version_major": 2,
       "version_minor": 0
      },
      "text/plain": [
       "Absorption correction calculation: 0it [00:00, ?it/s]"
      ]
     },
     "metadata": {},
     "output_type": "display_data"
    },
    {
     "name": "stdout",
     "output_type": "stream",
     "text": [
      "[########################################] | 100% Completed | 115.70 ms\n",
      "GaSb_15kV_50pA\n"
     ]
    },
    {
     "data": {
      "application/vnd.jupyter.widget-view+json": {
       "model_id": "9a627db8a93b431084d61b20138ab376",
       "version_major": 2,
       "version_minor": 0
      },
      "text/plain": [
       "Absorption correction calculation: 0it [00:00, ?it/s]"
      ]
     },
     "metadata": {},
     "output_type": "display_data"
    },
    {
     "name": "stdout",
     "output_type": "stream",
     "text": [
      "[########################################] | 100% Completed | 113.45 ms\n"
     ]
    },
    {
     "data": {
      "application/vnd.jupyter.widget-view+json": {
       "model_id": "39713d86b1ff4563901a01d16a8e9bac",
       "version_major": 2,
       "version_minor": 0
      },
      "text/plain": [
       "Absorption correction calculation: 0it [00:00, ?it/s]"
      ]
     },
     "metadata": {},
     "output_type": "display_data"
    },
    {
     "name": "stdout",
     "output_type": "stream",
     "text": [
      "[########################################] | 100% Completed | 108.95 ms\n"
     ]
    },
    {
     "data": {
      "application/vnd.jupyter.widget-view+json": {
       "model_id": "73ed4a012a1448c38237b860fa8fd1e1",
       "version_major": 2,
       "version_minor": 0
      },
      "text/plain": [
       "Absorption correction calculation: 0it [00:00, ?it/s]"
      ]
     },
     "metadata": {},
     "output_type": "display_data"
    },
    {
     "name": "stdout",
     "output_type": "stream",
     "text": [
      "[########################################] | 100% Completed | 104.81 ms\n"
     ]
    },
    {
     "data": {
      "application/vnd.jupyter.widget-view+json": {
       "model_id": "d197c548313d4f1594e92846679bcc58",
       "version_major": 2,
       "version_minor": 0
      },
      "text/plain": [
       "Absorption correction calculation: 0it [00:00, ?it/s]"
      ]
     },
     "metadata": {},
     "output_type": "display_data"
    },
    {
     "name": "stdout",
     "output_type": "stream",
     "text": [
      "[########################################] | 100% Completed | 119.53 ms\n"
     ]
    },
    {
     "data": {
      "application/vnd.jupyter.widget-view+json": {
       "model_id": "5b66c5f6ae6b43109534dae918e94f13",
       "version_major": 2,
       "version_minor": 0
      },
      "text/plain": [
       "Absorption correction calculation: 0it [00:00, ?it/s]"
      ]
     },
     "metadata": {},
     "output_type": "display_data"
    },
    {
     "name": "stdout",
     "output_type": "stream",
     "text": [
      "[########################################] | 100% Completed | 119.80 ms\n"
     ]
    },
    {
     "data": {
      "application/vnd.jupyter.widget-view+json": {
       "model_id": "d6676b882bbe4a7f94e2f901197e0d62",
       "version_major": 2,
       "version_minor": 0
      },
      "text/plain": [
       "Absorption correction calculation: 0it [00:00, ?it/s]"
      ]
     },
     "metadata": {},
     "output_type": "display_data"
    },
    {
     "name": "stdout",
     "output_type": "stream",
     "text": [
      "[########################################] | 100% Completed | 121.76 ms\n"
     ]
    },
    {
     "data": {
      "application/vnd.jupyter.widget-view+json": {
       "model_id": "adb2466d1bcf404ca9ea871dec5e1101",
       "version_major": 2,
       "version_minor": 0
      },
      "text/plain": [
       "Absorption correction calculation: 0it [00:00, ?it/s]"
      ]
     },
     "metadata": {},
     "output_type": "display_data"
    },
    {
     "name": "stdout",
     "output_type": "stream",
     "text": [
      "[########################################] | 100% Completed | 121.73 ms\n",
      "GaSb_30kV_400pA_processTime1\n"
     ]
    },
    {
     "data": {
      "application/vnd.jupyter.widget-view+json": {
       "model_id": "6961c75c5e9143c48d5cfd38c4fae868",
       "version_major": 2,
       "version_minor": 0
      },
      "text/plain": [
       "Absorption correction calculation: 0it [00:00, ?it/s]"
      ]
     },
     "metadata": {},
     "output_type": "display_data"
    },
    {
     "name": "stdout",
     "output_type": "stream",
     "text": [
      "[########################################] | 100% Completed | 120.63 ms\n"
     ]
    },
    {
     "data": {
      "application/vnd.jupyter.widget-view+json": {
       "model_id": "6f4ad31a260543f5b2bea1950aa011d1",
       "version_major": 2,
       "version_minor": 0
      },
      "text/plain": [
       "Absorption correction calculation: 0it [00:00, ?it/s]"
      ]
     },
     "metadata": {},
     "output_type": "display_data"
    },
    {
     "name": "stdout",
     "output_type": "stream",
     "text": [
      "[########################################] | 100% Completed | 106.91 ms\n"
     ]
    },
    {
     "data": {
      "application/vnd.jupyter.widget-view+json": {
       "model_id": "55c1d659efec4ec6bc12c75e05ac3d07",
       "version_major": 2,
       "version_minor": 0
      },
      "text/plain": [
       "Absorption correction calculation: 0it [00:00, ?it/s]"
      ]
     },
     "metadata": {},
     "output_type": "display_data"
    },
    {
     "name": "stdout",
     "output_type": "stream",
     "text": [
      "[########################################] | 100% Completed | 110.17 ms\n"
     ]
    },
    {
     "data": {
      "application/vnd.jupyter.widget-view+json": {
       "model_id": "0d3f17b485b941baa23fdaa674b41cea",
       "version_major": 2,
       "version_minor": 0
      },
      "text/plain": [
       "Absorption correction calculation: 0it [00:00, ?it/s]"
      ]
     },
     "metadata": {},
     "output_type": "display_data"
    },
    {
     "name": "stdout",
     "output_type": "stream",
     "text": [
      "[########################################] | 100% Completed | 114.29 ms\n"
     ]
    },
    {
     "data": {
      "application/vnd.jupyter.widget-view+json": {
       "model_id": "ae128197e0b74b6fb2f8fb5b8f26291a",
       "version_major": 2,
       "version_minor": 0
      },
      "text/plain": [
       "Absorption correction calculation: 0it [00:00, ?it/s]"
      ]
     },
     "metadata": {},
     "output_type": "display_data"
    },
    {
     "name": "stdout",
     "output_type": "stream",
     "text": [
      "[########################################] | 100% Completed | 107.57 ms\n"
     ]
    },
    {
     "data": {
      "application/vnd.jupyter.widget-view+json": {
       "model_id": "c8f4e3d5154f41f5bdadb5c94304d82f",
       "version_major": 2,
       "version_minor": 0
      },
      "text/plain": [
       "Absorption correction calculation: 0it [00:00, ?it/s]"
      ]
     },
     "metadata": {},
     "output_type": "display_data"
    },
    {
     "name": "stdout",
     "output_type": "stream",
     "text": [
      "[########################################] | 100% Completed | 110.15 ms\n"
     ]
    },
    {
     "data": {
      "application/vnd.jupyter.widget-view+json": {
       "model_id": "31434944f4bf47b7adab24dc1c4eb523",
       "version_major": 2,
       "version_minor": 0
      },
      "text/plain": [
       "Absorption correction calculation: 0it [00:00, ?it/s]"
      ]
     },
     "metadata": {},
     "output_type": "display_data"
    },
    {
     "name": "stdout",
     "output_type": "stream",
     "text": [
      "[########################################] | 100% Completed | 120.42 ms\n",
      "GaSb_30kV_50pA\n"
     ]
    },
    {
     "data": {
      "application/vnd.jupyter.widget-view+json": {
       "model_id": "46ffca00c87e4a57947ea71cb3620793",
       "version_major": 2,
       "version_minor": 0
      },
      "text/plain": [
       "Absorption correction calculation: 0it [00:00, ?it/s]"
      ]
     },
     "metadata": {},
     "output_type": "display_data"
    },
    {
     "name": "stdout",
     "output_type": "stream",
     "text": [
      "[########################################] | 100% Completed | 108.74 ms\n"
     ]
    },
    {
     "data": {
      "application/vnd.jupyter.widget-view+json": {
       "model_id": "acdf5ac91b5d4bba8cef4c9d6b6b5b43",
       "version_major": 2,
       "version_minor": 0
      },
      "text/plain": [
       "Absorption correction calculation: 0it [00:00, ?it/s]"
      ]
     },
     "metadata": {},
     "output_type": "display_data"
    },
    {
     "name": "stdout",
     "output_type": "stream",
     "text": [
      "[########################################] | 100% Completed | 116.93 ms\n"
     ]
    },
    {
     "data": {
      "application/vnd.jupyter.widget-view+json": {
       "model_id": "5d146cb300a34c888e346f370ab7ff89",
       "version_major": 2,
       "version_minor": 0
      },
      "text/plain": [
       "Absorption correction calculation: 0it [00:00, ?it/s]"
      ]
     },
     "metadata": {},
     "output_type": "display_data"
    },
    {
     "name": "stdout",
     "output_type": "stream",
     "text": [
      "[########################################] | 100% Completed | 121.30 ms\n"
     ]
    },
    {
     "data": {
      "application/vnd.jupyter.widget-view+json": {
       "model_id": "afd0a63f04a84118abb1c585797bd13e",
       "version_major": 2,
       "version_minor": 0
      },
      "text/plain": [
       "Absorption correction calculation: 0it [00:00, ?it/s]"
      ]
     },
     "metadata": {},
     "output_type": "display_data"
    },
    {
     "name": "stdout",
     "output_type": "stream",
     "text": [
      "[########################################] | 100% Completed | 111.08 ms\n"
     ]
    },
    {
     "data": {
      "application/vnd.jupyter.widget-view+json": {
       "model_id": "65f686316a8b4f199774d57ef3ad3012",
       "version_major": 2,
       "version_minor": 0
      },
      "text/plain": [
       "Absorption correction calculation: 0it [00:00, ?it/s]"
      ]
     },
     "metadata": {},
     "output_type": "display_data"
    },
    {
     "name": "stdout",
     "output_type": "stream",
     "text": [
      "[########################################] | 100% Completed | 119.54 ms\n"
     ]
    },
    {
     "data": {
      "application/vnd.jupyter.widget-view+json": {
       "model_id": "c2485e43f2424ebb9874584de4ab94b8",
       "version_major": 2,
       "version_minor": 0
      },
      "text/plain": [
       "Absorption correction calculation: 0it [00:00, ?it/s]"
      ]
     },
     "metadata": {},
     "output_type": "display_data"
    },
    {
     "name": "stdout",
     "output_type": "stream",
     "text": [
      "[########################################] | 100% Completed | 112.29 ms\n"
     ]
    },
    {
     "data": {
      "application/vnd.jupyter.widget-view+json": {
       "model_id": "c90ebc130cc5437faca313159c2542da",
       "version_major": 2,
       "version_minor": 0
      },
      "text/plain": [
       "Absorption correction calculation: 0it [00:00, ?it/s]"
      ]
     },
     "metadata": {},
     "output_type": "display_data"
    },
    {
     "name": "stdout",
     "output_type": "stream",
     "text": [
      "[########################################] | 100% Completed | 113.51 ms\n",
      "GaSb_30kV_50pA_noPPUC\n"
     ]
    },
    {
     "data": {
      "application/vnd.jupyter.widget-view+json": {
       "model_id": "5975be66eda647e7a364c4a0bbb74f09",
       "version_major": 2,
       "version_minor": 0
      },
      "text/plain": [
       "Absorption correction calculation: 0it [00:00, ?it/s]"
      ]
     },
     "metadata": {},
     "output_type": "display_data"
    },
    {
     "name": "stdout",
     "output_type": "stream",
     "text": [
      "[########################################] | 100% Completed | 121.02 ms\n"
     ]
    },
    {
     "data": {
      "application/vnd.jupyter.widget-view+json": {
       "model_id": "a0c327e62d084a66afff541a7c70bb3a",
       "version_major": 2,
       "version_minor": 0
      },
      "text/plain": [
       "Absorption correction calculation: 0it [00:00, ?it/s]"
      ]
     },
     "metadata": {},
     "output_type": "display_data"
    },
    {
     "name": "stdout",
     "output_type": "stream",
     "text": [
      "[########################################] | 100% Completed | 122.53 ms\n"
     ]
    },
    {
     "data": {
      "application/vnd.jupyter.widget-view+json": {
       "model_id": "f073d1f7e81b4e55a098e982bc3dc6c3",
       "version_major": 2,
       "version_minor": 0
      },
      "text/plain": [
       "Absorption correction calculation: 0it [00:00, ?it/s]"
      ]
     },
     "metadata": {},
     "output_type": "display_data"
    },
    {
     "name": "stdout",
     "output_type": "stream",
     "text": [
      "[########################################] | 100% Completed | 112.98 ms\n"
     ]
    },
    {
     "data": {
      "application/vnd.jupyter.widget-view+json": {
       "model_id": "a0a84c47da3c401bb59615b1e2179b44",
       "version_major": 2,
       "version_minor": 0
      },
      "text/plain": [
       "Absorption correction calculation: 0it [00:00, ?it/s]"
      ]
     },
     "metadata": {},
     "output_type": "display_data"
    },
    {
     "name": "stdout",
     "output_type": "stream",
     "text": [
      "[########################################] | 100% Completed | 113.43 ms\n"
     ]
    },
    {
     "data": {
      "application/vnd.jupyter.widget-view+json": {
       "model_id": "4389a1f3034b498b8f2db177e2c5b9fc",
       "version_major": 2,
       "version_minor": 0
      },
      "text/plain": [
       "Absorption correction calculation: 0it [00:00, ?it/s]"
      ]
     },
     "metadata": {},
     "output_type": "display_data"
    },
    {
     "name": "stdout",
     "output_type": "stream",
     "text": [
      "[########################################] | 100% Completed | 112.70 ms\n"
     ]
    },
    {
     "data": {
      "application/vnd.jupyter.widget-view+json": {
       "model_id": "becaa9a553634ff5bf1ffd953443a063",
       "version_major": 2,
       "version_minor": 0
      },
      "text/plain": [
       "Absorption correction calculation: 0it [00:00, ?it/s]"
      ]
     },
     "metadata": {},
     "output_type": "display_data"
    },
    {
     "name": "stdout",
     "output_type": "stream",
     "text": [
      "[########################################] | 100% Completed | 114.27 ms\n"
     ]
    },
    {
     "data": {
      "application/vnd.jupyter.widget-view+json": {
       "model_id": "2596192d18ff466ab902b78a408ee628",
       "version_major": 2,
       "version_minor": 0
      },
      "text/plain": [
       "Absorption correction calculation: 0it [00:00, ?it/s]"
      ]
     },
     "metadata": {},
     "output_type": "display_data"
    },
    {
     "name": "stdout",
     "output_type": "stream",
     "text": [
      "[########################################] | 100% Completed | 122.72 ms\n",
      "GaSb_30kV_50pA_processTime1\n"
     ]
    },
    {
     "data": {
      "application/vnd.jupyter.widget-view+json": {
       "model_id": "9f33aaeae3484420901d0cb3fd1dab91",
       "version_major": 2,
       "version_minor": 0
      },
      "text/plain": [
       "Absorption correction calculation: 0it [00:00, ?it/s]"
      ]
     },
     "metadata": {},
     "output_type": "display_data"
    },
    {
     "name": "stdout",
     "output_type": "stream",
     "text": [
      "[########################################] | 100% Completed | 124.04 ms\n"
     ]
    },
    {
     "data": {
      "application/vnd.jupyter.widget-view+json": {
       "model_id": "3b3d3831bec74e6db15d819c98d8638e",
       "version_major": 2,
       "version_minor": 0
      },
      "text/plain": [
       "Absorption correction calculation: 0it [00:00, ?it/s]"
      ]
     },
     "metadata": {},
     "output_type": "display_data"
    },
    {
     "name": "stdout",
     "output_type": "stream",
     "text": [
      "[########################################] | 100% Completed | 113.57 ms\n"
     ]
    },
    {
     "data": {
      "application/vnd.jupyter.widget-view+json": {
       "model_id": "b96089d52a20436381a1337dc35604c4",
       "version_major": 2,
       "version_minor": 0
      },
      "text/plain": [
       "Absorption correction calculation: 0it [00:00, ?it/s]"
      ]
     },
     "metadata": {},
     "output_type": "display_data"
    },
    {
     "name": "stdout",
     "output_type": "stream",
     "text": [
      "[########################################] | 100% Completed | 112.55 ms\n"
     ]
    },
    {
     "data": {
      "application/vnd.jupyter.widget-view+json": {
       "model_id": "ef2ec161bcec44328d87a3f915473e0d",
       "version_major": 2,
       "version_minor": 0
      },
      "text/plain": [
       "Absorption correction calculation: 0it [00:00, ?it/s]"
      ]
     },
     "metadata": {},
     "output_type": "display_data"
    },
    {
     "name": "stdout",
     "output_type": "stream",
     "text": [
      "[########################################] | 100% Completed | 123.02 ms\n"
     ]
    },
    {
     "data": {
      "application/vnd.jupyter.widget-view+json": {
       "model_id": "25946c14642c437f8bbd25e623ca6f25",
       "version_major": 2,
       "version_minor": 0
      },
      "text/plain": [
       "Absorption correction calculation: 0it [00:00, ?it/s]"
      ]
     },
     "metadata": {},
     "output_type": "display_data"
    },
    {
     "name": "stdout",
     "output_type": "stream",
     "text": [
      "[########################################] | 100% Completed | 111.71 ms\n"
     ]
    },
    {
     "data": {
      "application/vnd.jupyter.widget-view+json": {
       "model_id": "6ba36fdd3185473d8ce44adde4685e3b",
       "version_major": 2,
       "version_minor": 0
      },
      "text/plain": [
       "Absorption correction calculation: 0it [00:00, ?it/s]"
      ]
     },
     "metadata": {},
     "output_type": "display_data"
    },
    {
     "name": "stdout",
     "output_type": "stream",
     "text": [
      "[########################################] | 100% Completed | 115.76 ms\n"
     ]
    },
    {
     "data": {
      "application/vnd.jupyter.widget-view+json": {
       "model_id": "94e166e10b714f9da834e503509d554b",
       "version_major": 2,
       "version_minor": 0
      },
      "text/plain": [
       "Absorption correction calculation: 0it [00:00, ?it/s]"
      ]
     },
     "metadata": {},
     "output_type": "display_data"
    },
    {
     "name": "stdout",
     "output_type": "stream",
     "text": [
      "[########################################] | 100% Completed | 118.23 ms\n",
      "GaSb_30kV_50pA_processTime2\n"
     ]
    },
    {
     "data": {
      "application/vnd.jupyter.widget-view+json": {
       "model_id": "8b662fd8069941ffadc1d6a14daeb3b2",
       "version_major": 2,
       "version_minor": 0
      },
      "text/plain": [
       "Absorption correction calculation: 0it [00:00, ?it/s]"
      ]
     },
     "metadata": {},
     "output_type": "display_data"
    },
    {
     "name": "stdout",
     "output_type": "stream",
     "text": [
      "[########################################] | 100% Completed | 118.59 ms\n"
     ]
    },
    {
     "data": {
      "application/vnd.jupyter.widget-view+json": {
       "model_id": "00f0955da2884c28b7cae237f62d27c9",
       "version_major": 2,
       "version_minor": 0
      },
      "text/plain": [
       "Absorption correction calculation: 0it [00:00, ?it/s]"
      ]
     },
     "metadata": {},
     "output_type": "display_data"
    },
    {
     "name": "stdout",
     "output_type": "stream",
     "text": [
      "[########################################] | 100% Completed | 123.34 ms\n"
     ]
    },
    {
     "data": {
      "application/vnd.jupyter.widget-view+json": {
       "model_id": "12db6d107cfc4304b9d8fb1712d206ec",
       "version_major": 2,
       "version_minor": 0
      },
      "text/plain": [
       "Absorption correction calculation: 0it [00:00, ?it/s]"
      ]
     },
     "metadata": {},
     "output_type": "display_data"
    },
    {
     "name": "stdout",
     "output_type": "stream",
     "text": [
      "[########################################] | 100% Completed | 122.50 ms\n"
     ]
    },
    {
     "data": {
      "application/vnd.jupyter.widget-view+json": {
       "model_id": "abedfd7c4db342da870b049c1d21d928",
       "version_major": 2,
       "version_minor": 0
      },
      "text/plain": [
       "Absorption correction calculation: 0it [00:00, ?it/s]"
      ]
     },
     "metadata": {},
     "output_type": "display_data"
    },
    {
     "name": "stdout",
     "output_type": "stream",
     "text": [
      "[########################################] | 100% Completed | 113.41 ms\n"
     ]
    },
    {
     "data": {
      "application/vnd.jupyter.widget-view+json": {
       "model_id": "00afa82ca3e041338f7ced31c5a217f1",
       "version_major": 2,
       "version_minor": 0
      },
      "text/plain": [
       "Absorption correction calculation: 0it [00:00, ?it/s]"
      ]
     },
     "metadata": {},
     "output_type": "display_data"
    },
    {
     "name": "stdout",
     "output_type": "stream",
     "text": [
      "[########################################] | 100% Completed | 118.15 ms\n"
     ]
    },
    {
     "data": {
      "application/vnd.jupyter.widget-view+json": {
       "model_id": "0fb073c9cbef4cbaafe1b6f280b79a30",
       "version_major": 2,
       "version_minor": 0
      },
      "text/plain": [
       "Absorption correction calculation: 0it [00:00, ?it/s]"
      ]
     },
     "metadata": {},
     "output_type": "display_data"
    },
    {
     "name": "stdout",
     "output_type": "stream",
     "text": [
      "[########################################] | 100% Completed | 110.05 ms\n"
     ]
    },
    {
     "data": {
      "application/vnd.jupyter.widget-view+json": {
       "model_id": "3bf1349c6b544085a811f17ac613a594",
       "version_major": 2,
       "version_minor": 0
      },
      "text/plain": [
       "Absorption correction calculation: 0it [00:00, ?it/s]"
      ]
     },
     "metadata": {},
     "output_type": "display_data"
    },
    {
     "name": "stdout",
     "output_type": "stream",
     "text": [
      "[########################################] | 100% Completed | 108.86 ms\n",
      "GaSb_30kV_50pA_processTime4\n"
     ]
    },
    {
     "data": {
      "application/vnd.jupyter.widget-view+json": {
       "model_id": "b580b9eda3ad479e9d349172ea4f7214",
       "version_major": 2,
       "version_minor": 0
      },
      "text/plain": [
       "Absorption correction calculation: 0it [00:00, ?it/s]"
      ]
     },
     "metadata": {},
     "output_type": "display_data"
    },
    {
     "name": "stdout",
     "output_type": "stream",
     "text": [
      "[########################################] | 100% Completed | 118.93 ms\n"
     ]
    },
    {
     "data": {
      "application/vnd.jupyter.widget-view+json": {
       "model_id": "891f0c74806146c3b74056d9206afdfe",
       "version_major": 2,
       "version_minor": 0
      },
      "text/plain": [
       "Absorption correction calculation: 0it [00:00, ?it/s]"
      ]
     },
     "metadata": {},
     "output_type": "display_data"
    },
    {
     "name": "stdout",
     "output_type": "stream",
     "text": [
      "[########################################] | 100% Completed | 111.13 ms\n"
     ]
    },
    {
     "data": {
      "application/vnd.jupyter.widget-view+json": {
       "model_id": "059c97e2ae0040cb8578773b9793ed22",
       "version_major": 2,
       "version_minor": 0
      },
      "text/plain": [
       "Absorption correction calculation: 0it [00:00, ?it/s]"
      ]
     },
     "metadata": {},
     "output_type": "display_data"
    },
    {
     "name": "stdout",
     "output_type": "stream",
     "text": [
      "[########################################] | 100% Completed | 111.79 ms\n"
     ]
    },
    {
     "data": {
      "application/vnd.jupyter.widget-view+json": {
       "model_id": "8cfb1f4bb26049ca841d79e64af29234",
       "version_major": 2,
       "version_minor": 0
      },
      "text/plain": [
       "Absorption correction calculation: 0it [00:00, ?it/s]"
      ]
     },
     "metadata": {},
     "output_type": "display_data"
    },
    {
     "name": "stdout",
     "output_type": "stream",
     "text": [
      "[########################################] | 100% Completed | 110.79 ms\n"
     ]
    },
    {
     "data": {
      "application/vnd.jupyter.widget-view+json": {
       "model_id": "e545f1fdad1e4f31a8ce15f74500f108",
       "version_major": 2,
       "version_minor": 0
      },
      "text/plain": [
       "Absorption correction calculation: 0it [00:00, ?it/s]"
      ]
     },
     "metadata": {},
     "output_type": "display_data"
    },
    {
     "name": "stdout",
     "output_type": "stream",
     "text": [
      "[########################################] | 100% Completed | 116.19 ms\n"
     ]
    },
    {
     "data": {
      "application/vnd.jupyter.widget-view+json": {
       "model_id": "4799e3c7ada14f97b70232fcd76fdee2",
       "version_major": 2,
       "version_minor": 0
      },
      "text/plain": [
       "Absorption correction calculation: 0it [00:00, ?it/s]"
      ]
     },
     "metadata": {},
     "output_type": "display_data"
    },
    {
     "name": "stdout",
     "output_type": "stream",
     "text": [
      "[########################################] | 100% Completed | 115.58 ms\n"
     ]
    },
    {
     "data": {
      "application/vnd.jupyter.widget-view+json": {
       "model_id": "a0dc2a7729554b39914b5e1f4c064082",
       "version_major": 2,
       "version_minor": 0
      },
      "text/plain": [
       "Absorption correction calculation: 0it [00:00, ?it/s]"
      ]
     },
     "metadata": {},
     "output_type": "display_data"
    },
    {
     "name": "stdout",
     "output_type": "stream",
     "text": [
      "[########################################] | 100% Completed | 110.11 ms\n",
      "GaSb_scratched_15kV_400pA_processTime3\n"
     ]
    },
    {
     "data": {
      "application/vnd.jupyter.widget-view+json": {
       "model_id": "1fa7a0c9f25440c38d57e3bd388d3e5e",
       "version_major": 2,
       "version_minor": 0
      },
      "text/plain": [
       "Absorption correction calculation: 0it [00:00, ?it/s]"
      ]
     },
     "metadata": {},
     "output_type": "display_data"
    },
    {
     "name": "stdout",
     "output_type": "stream",
     "text": [
      "[########################################] | 100% Completed | 108.99 ms\n"
     ]
    },
    {
     "data": {
      "application/vnd.jupyter.widget-view+json": {
       "model_id": "310c23e7014248829ffe32334e488caf",
       "version_major": 2,
       "version_minor": 0
      },
      "text/plain": [
       "Absorption correction calculation: 0it [00:00, ?it/s]"
      ]
     },
     "metadata": {},
     "output_type": "display_data"
    },
    {
     "name": "stdout",
     "output_type": "stream",
     "text": [
      "[########################################] | 100% Completed | 119.40 ms\n"
     ]
    },
    {
     "data": {
      "application/vnd.jupyter.widget-view+json": {
       "model_id": "84b2db71d6084aaba6d5dedbd7b6f033",
       "version_major": 2,
       "version_minor": 0
      },
      "text/plain": [
       "Absorption correction calculation: 0it [00:00, ?it/s]"
      ]
     },
     "metadata": {},
     "output_type": "display_data"
    },
    {
     "name": "stdout",
     "output_type": "stream",
     "text": [
      "[########################################] | 100% Completed | 123.10 ms\n"
     ]
    },
    {
     "data": {
      "application/vnd.jupyter.widget-view+json": {
       "model_id": "b693ac40eee94393b235b0ef204183c2",
       "version_major": 2,
       "version_minor": 0
      },
      "text/plain": [
       "Absorption correction calculation: 0it [00:00, ?it/s]"
      ]
     },
     "metadata": {},
     "output_type": "display_data"
    },
    {
     "name": "stdout",
     "output_type": "stream",
     "text": [
      "[########################################] | 100% Completed | 111.91 ms\n"
     ]
    },
    {
     "data": {
      "application/vnd.jupyter.widget-view+json": {
       "model_id": "25fb9e48f3534a40902aeeaf144f536f",
       "version_major": 2,
       "version_minor": 0
      },
      "text/plain": [
       "Absorption correction calculation: 0it [00:00, ?it/s]"
      ]
     },
     "metadata": {},
     "output_type": "display_data"
    },
    {
     "name": "stdout",
     "output_type": "stream",
     "text": [
      "[########################################] | 100% Completed | 108.32 ms\n"
     ]
    },
    {
     "data": {
      "application/vnd.jupyter.widget-view+json": {
       "model_id": "d99d832c49f14dadaed2b940e81ec886",
       "version_major": 2,
       "version_minor": 0
      },
      "text/plain": [
       "Absorption correction calculation: 0it [00:00, ?it/s]"
      ]
     },
     "metadata": {},
     "output_type": "display_data"
    },
    {
     "name": "stdout",
     "output_type": "stream",
     "text": [
      "[########################################] | 100% Completed | 112.44 ms\n"
     ]
    },
    {
     "data": {
      "application/vnd.jupyter.widget-view+json": {
       "model_id": "c55c5bc89d0d4356b00a55648a3c1b76",
       "version_major": 2,
       "version_minor": 0
      },
      "text/plain": [
       "Absorption correction calculation: 0it [00:00, ?it/s]"
      ]
     },
     "metadata": {},
     "output_type": "display_data"
    },
    {
     "name": "stdout",
     "output_type": "stream",
     "text": [
      "[########################################] | 100% Completed | 107.65 ms\n",
      "GaSb_scratched_30kV_25pA\n"
     ]
    },
    {
     "data": {
      "application/vnd.jupyter.widget-view+json": {
       "model_id": "9d26140dc32e4c61be74a51929821de0",
       "version_major": 2,
       "version_minor": 0
      },
      "text/plain": [
       "Absorption correction calculation: 0it [00:00, ?it/s]"
      ]
     },
     "metadata": {},
     "output_type": "display_data"
    },
    {
     "name": "stdout",
     "output_type": "stream",
     "text": [
      "[########################################] | 100% Completed | 109.56 ms\n"
     ]
    },
    {
     "data": {
      "application/vnd.jupyter.widget-view+json": {
       "model_id": "07825b837b764ceba5fb8277683fa3db",
       "version_major": 2,
       "version_minor": 0
      },
      "text/plain": [
       "Absorption correction calculation: 0it [00:00, ?it/s]"
      ]
     },
     "metadata": {},
     "output_type": "display_data"
    },
    {
     "name": "stdout",
     "output_type": "stream",
     "text": [
      "[########################################] | 100% Completed | 114.50 ms\n"
     ]
    },
    {
     "data": {
      "application/vnd.jupyter.widget-view+json": {
       "model_id": "991523c3e5d840959e687c941f2bca2c",
       "version_major": 2,
       "version_minor": 0
      },
      "text/plain": [
       "Absorption correction calculation: 0it [00:00, ?it/s]"
      ]
     },
     "metadata": {},
     "output_type": "display_data"
    },
    {
     "name": "stdout",
     "output_type": "stream",
     "text": [
      "[########################################] | 100% Completed | 110.12 ms\n"
     ]
    },
    {
     "data": {
      "application/vnd.jupyter.widget-view+json": {
       "model_id": "0ff7854995fa412c8fd2e815b9dd3f22",
       "version_major": 2,
       "version_minor": 0
      },
      "text/plain": [
       "Absorption correction calculation: 0it [00:00, ?it/s]"
      ]
     },
     "metadata": {},
     "output_type": "display_data"
    },
    {
     "name": "stdout",
     "output_type": "stream",
     "text": [
      "[########################################] | 100% Completed | 119.94 ms\n"
     ]
    },
    {
     "data": {
      "application/vnd.jupyter.widget-view+json": {
       "model_id": "b37e0f55d995473cb2ac052da68ff99e",
       "version_major": 2,
       "version_minor": 0
      },
      "text/plain": [
       "Absorption correction calculation: 0it [00:00, ?it/s]"
      ]
     },
     "metadata": {},
     "output_type": "display_data"
    },
    {
     "name": "stdout",
     "output_type": "stream",
     "text": [
      "[########################################] | 100% Completed | 121.87 ms\n"
     ]
    },
    {
     "data": {
      "application/vnd.jupyter.widget-view+json": {
       "model_id": "dd392a4c07e64737bc20b186ef3d42c5",
       "version_major": 2,
       "version_minor": 0
      },
      "text/plain": [
       "Absorption correction calculation: 0it [00:00, ?it/s]"
      ]
     },
     "metadata": {},
     "output_type": "display_data"
    },
    {
     "name": "stdout",
     "output_type": "stream",
     "text": [
      "[########################################] | 100% Completed | 108.70 ms\n"
     ]
    },
    {
     "data": {
      "application/vnd.jupyter.widget-view+json": {
       "model_id": "9ddd43de70fe41c9944de789e88d997e",
       "version_major": 2,
       "version_minor": 0
      },
      "text/plain": [
       "Absorption correction calculation: 0it [00:00, ?it/s]"
      ]
     },
     "metadata": {},
     "output_type": "display_data"
    },
    {
     "name": "stdout",
     "output_type": "stream",
     "text": [
      "[########################################] | 100% Completed | 117.54 ms\n",
      "Map1\n",
      "Map1.emsa not found in path\n",
      "Map2\n",
      "Map2.emsa not found in path\n"
     ]
    }
   ],
   "source": [
    "# took 3-4 min\n",
    "for f in df['File'].unique():\n",
    "    print(f)\n",
    "    quant_as_TEM(f)"
   ]
  },
  {
   "cell_type": "code",
   "execution_count": 10,
   "metadata": {},
   "outputs": [
    {
     "name": "stdout",
     "output_type": "stream",
     "text": [
      "GaAs_05kV_25pA\n",
      "[########################################] | 100% Completed | 115.32 ms\n",
      "[########################################] | 100% Completed | 128.82 ms\n",
      "[########################################] | 100% Completed | 120.77 ms\n",
      "GaAs_10kV_25pA\n",
      "[########################################] | 100% Completed | 114.57 ms\n",
      "[########################################] | 100% Completed | 128.48 ms\n",
      "[########################################] | 100% Completed | 132.24 ms\n",
      "GaAs_15kV_25pA\n",
      "[########################################] | 100% Completed | 108.74 ms\n",
      "[########################################] | 100% Completed | 119.68 ms\n",
      "[########################################] | 100% Completed | 120.16 ms\n",
      "GaAs_30kV_25pA\n",
      "[########################################] | 100% Completed | 111.70 ms\n",
      "[########################################] | 100% Completed | 116.57 ms\n",
      "[########################################] | 100% Completed | 109.97 ms\n",
      "GaAs_30kV_50pA\n",
      "[########################################] | 100% Completed | 114.33 ms\n",
      "[########################################] | 100% Completed | 110.87 ms\n",
      "[########################################] | 100% Completed | 108.24 ms\n",
      "GaSb_05kV_50pA\n",
      "Ga_La not found in m, quantification with model not possible\n",
      "Sb_Mz not found in m, quantification with model not possible\n",
      "[########################################] | 100% Completed | 109.54 ms\n",
      "GaSb_10kV_50pA\n",
      "[########################################] | 100% Completed | 115.20 ms\n",
      "[########################################] | 100% Completed | 113.56 ms\n",
      "[########################################] | 100% Completed | 109.95 ms\n",
      "GaSb_15kV_200pA\n",
      "[########################################] | 100% Completed | 113.39 ms\n",
      "[########################################] | 100% Completed | 110.42 ms\n",
      "[########################################] | 100% Completed | 116.06 ms\n",
      "GaSb_15kV_400pA\n",
      "[########################################] | 100% Completed | 107.06 ms\n",
      "[########################################] | 100% Completed | 116.94 ms\n",
      "[########################################] | 100% Completed | 109.53 ms\n",
      "GaSb_15kV_50pA\n",
      "[########################################] | 100% Completed | 107.71 ms\n",
      "[########################################] | 100% Completed | 106.66 ms\n",
      "[########################################] | 100% Completed | 117.68 ms\n",
      "GaSb_30kV_400pA_processTime1\n",
      "[########################################] | 100% Completed | 103.96 ms\n",
      "[########################################] | 100% Completed | 109.45 ms\n",
      "[########################################] | 100% Completed | 116.49 ms\n",
      "GaSb_30kV_50pA\n",
      "[########################################] | 100% Completed | 111.51 ms\n",
      "[########################################] | 100% Completed | 115.60 ms\n",
      "[########################################] | 100% Completed | 106.37 ms\n",
      "GaSb_30kV_50pA_noPPUC\n",
      "[########################################] | 100% Completed | 119.13 ms\n",
      "[########################################] | 100% Completed | 116.92 ms\n",
      "[########################################] | 100% Completed | 108.80 ms\n",
      "GaSb_30kV_50pA_processTime1\n",
      "[########################################] | 100% Completed | 115.67 ms\n",
      "[########################################] | 100% Completed | 111.82 ms\n",
      "[########################################] | 100% Completed | 105.31 ms\n",
      "GaSb_30kV_50pA_processTime2\n",
      "[########################################] | 100% Completed | 115.71 ms\n",
      "[########################################] | 100% Completed | 120.42 ms\n",
      "[########################################] | 100% Completed | 111.86 ms\n",
      "GaSb_30kV_50pA_processTime4\n",
      "[########################################] | 100% Completed | 116.37 ms\n",
      "[########################################] | 100% Completed | 113.07 ms\n",
      "[########################################] | 100% Completed | 123.91 ms\n",
      "GaSb_scratched_15kV_400pA_processTime3\n",
      "[########################################] | 100% Completed | 115.37 ms\n",
      "[########################################] | 100% Completed | 118.17 ms\n",
      "[########################################] | 100% Completed | 112.02 ms\n",
      "GaSb_scratched_30kV_25pA\n",
      "[########################################] | 100% Completed | 111.03 ms\n",
      "[########################################] | 100% Completed | 125.26 ms\n",
      "[########################################] | 100% Completed | 119.94 ms\n",
      "Map1\n",
      "Map1.emsa not found in path\n",
      "Map2\n",
      "Map2.emsa not found in path\n"
     ]
    }
   ],
   "source": [
    "# took 30 sec\n",
    "for f in df['File'].unique():\n",
    "    print(f)\n",
    "    quant_as_TEM(f, a_corr=False)"
   ]
  },
  {
   "cell_type": "code",
   "execution_count": 11,
   "metadata": {},
   "outputs": [
    {
     "data": {
      "text/html": [
       "<div>\n",
       "<style scoped>\n",
       "    .dataframe tbody tr th:only-of-type {\n",
       "        vertical-align: middle;\n",
       "    }\n",
       "\n",
       "    .dataframe tbody tr th {\n",
       "        vertical-align: top;\n",
       "    }\n",
       "\n",
       "    .dataframe thead th {\n",
       "        text-align: right;\n",
       "    }\n",
       "</style>\n",
       "<table border=\"1\" class=\"dataframe\">\n",
       "  <thead>\n",
       "    <tr style=\"text-align: right;\">\n",
       "      <th></th>\n",
       "      <th>File</th>\n",
       "      <th>Element</th>\n",
       "      <th>Line series</th>\n",
       "      <th>k-factor</th>\n",
       "      <th>Line</th>\n",
       "      <th>AZ %at</th>\n",
       "      <th>HS %at s</th>\n",
       "      <th>HS %at s A</th>\n",
       "      <th>HS %at m</th>\n",
       "      <th>HS %at m A t=1e+03</th>\n",
       "      <th>HS %at m A t=1e+04</th>\n",
       "      <th>HS %at m A t=1e+05</th>\n",
       "    </tr>\n",
       "  </thead>\n",
       "  <tbody>\n",
       "    <tr>\n",
       "      <th>0</th>\n",
       "      <td>GaAs_05kV_25pA</td>\n",
       "      <td>As</td>\n",
       "      <td>L</td>\n",
       "      <td>1.210</td>\n",
       "      <td>As_La</td>\n",
       "      <td>45.40</td>\n",
       "      <td>45.00</td>\n",
       "      <td>62.93</td>\n",
       "      <td>45.41</td>\n",
       "      <td>59.51</td>\n",
       "      <td>63.19</td>\n",
       "      <td>63.19</td>\n",
       "    </tr>\n",
       "    <tr>\n",
       "      <th>1</th>\n",
       "      <td>GaAs_05kV_25pA</td>\n",
       "      <td>Ga</td>\n",
       "      <td>L</td>\n",
       "      <td>1.086</td>\n",
       "      <td>Ga_La</td>\n",
       "      <td>54.60</td>\n",
       "      <td>55.00</td>\n",
       "      <td>37.07</td>\n",
       "      <td>54.59</td>\n",
       "      <td>40.49</td>\n",
       "      <td>36.81</td>\n",
       "      <td>36.81</td>\n",
       "    </tr>\n",
       "    <tr>\n",
       "      <th>2</th>\n",
       "      <td>GaAs_10kV_25pA</td>\n",
       "      <td>As</td>\n",
       "      <td>L</td>\n",
       "      <td>1.310</td>\n",
       "      <td>As_La</td>\n",
       "      <td>42.09</td>\n",
       "      <td>41.43</td>\n",
       "      <td>60.58</td>\n",
       "      <td>41.62</td>\n",
       "      <td>56.79</td>\n",
       "      <td>60.71</td>\n",
       "      <td>60.71</td>\n",
       "    </tr>\n",
       "  </tbody>\n",
       "</table>\n",
       "</div>"
      ],
      "text/plain": [
       "             File Element Line series  k-factor   Line  AZ %at  HS %at s  \\\n",
       "0  GaAs_05kV_25pA      As           L     1.210  As_La   45.40     45.00   \n",
       "1  GaAs_05kV_25pA      Ga           L     1.086  Ga_La   54.60     55.00   \n",
       "2  GaAs_10kV_25pA      As           L     1.310  As_La   42.09     41.43   \n",
       "\n",
       "   HS %at s A  HS %at m  HS %at m A t=1e+03  HS %at m A t=1e+04  \\\n",
       "0       62.93     45.41               59.51               63.19   \n",
       "1       37.07     54.59               40.49               36.81   \n",
       "2       60.58     41.62               56.79               60.71   \n",
       "\n",
       "   HS %at m A t=1e+05  \n",
       "0               63.19  \n",
       "1               36.81  \n",
       "2               60.71  "
      ]
     },
     "execution_count": 11,
     "metadata": {},
     "output_type": "execute_result"
    }
   ],
   "source": [
    "df.head(3)"
   ]
  },
  {
   "cell_type": "code",
   "execution_count": 12,
   "metadata": {},
   "outputs": [],
   "source": [
    "y_keys = ['AZ %at', 'HS %at s', 'HS %at s A', 'HS %at m', 'HS %at m A t=1e+03', 'HS %at m A t=1e+04', 'HS %at m A t=1e+05']\n",
    "x_key = ['File']\n",
    "\n"
   ]
  },
  {
   "cell_type": "code",
   "execution_count": 13,
   "metadata": {},
   "outputs": [],
   "source": [
    "# save the df to excel\n",
    "# df.to_excel('results/quant_as_TEM.xlsx')"
   ]
  },
  {
   "cell_type": "code",
   "execution_count": 14,
   "metadata": {},
   "outputs": [
    {
     "data": {
      "application/vnd.plotly.v1+json": {
       "config": {
        "plotlyServerURL": "https://plot.ly"
       },
       "data": [
        {
         "legendgroup": "AZ %at",
         "marker": {
          "color": "#636EFA",
          "size": 8
         },
         "mode": "markers",
         "name": "AZ %at",
         "showlegend": true,
         "type": "scatter",
         "x": [
          "GaSb_10kV_50pA",
          "GaSb_15kV_200pA",
          "GaSb_15kV_400pA",
          "GaSb_15kV_50pA",
          "GaSb_30kV_400pA_processTime1",
          "GaSb_30kV_50pA",
          "GaSb_30kV_50pA_noPPUC",
          "GaSb_30kV_50pA_processTime1",
          "GaSb_30kV_50pA_processTime2",
          "GaSb_30kV_50pA_processTime4",
          "GaSb_scratched_15kV_400pA_processTime3",
          "GaSb_scratched_30kV_25pA",
          "Map1",
          "Map2"
         ],
         "y": [
          57.84,
          71.08,
          71.09,
          70.66,
          55.45,
          55.32,
          55.31,
          55.13,
          55.37,
          55.35,
          64.93,
          49.51,
          71.05,
          71.11
         ]
        },
        {
         "legendgroup": "HS %at s",
         "marker": {
          "color": "#EF553B",
          "size": 8
         },
         "mode": "markers",
         "name": "HS %at s",
         "showlegend": true,
         "type": "scatter",
         "x": [
          "GaSb_10kV_50pA",
          "GaSb_15kV_200pA",
          "GaSb_15kV_400pA",
          "GaSb_15kV_50pA",
          "GaSb_30kV_400pA_processTime1",
          "GaSb_30kV_50pA",
          "GaSb_30kV_50pA_noPPUC",
          "GaSb_30kV_50pA_processTime1",
          "GaSb_30kV_50pA_processTime2",
          "GaSb_30kV_50pA_processTime4",
          "GaSb_scratched_15kV_400pA_processTime3",
          "GaSb_scratched_30kV_25pA",
          "Map1",
          "Map2"
         ],
         "y": [
          45.61,
          59.04,
          59.04,
          58.55,
          41.97,
          42.89,
          42.8,
          41.97,
          42.46,
          42.78,
          52.64,
          37.12,
          0,
          0
         ]
        },
        {
         "legendgroup": "HS %at s A",
         "marker": {
          "color": "#00CC96",
          "size": 8
         },
         "mode": "markers",
         "name": "HS %at s A",
         "showlegend": true,
         "type": "scatter",
         "x": [
          "GaSb_10kV_50pA",
          "GaSb_15kV_200pA",
          "GaSb_15kV_400pA",
          "GaSb_15kV_50pA",
          "GaSb_30kV_400pA_processTime1",
          "GaSb_30kV_50pA",
          "GaSb_30kV_50pA_noPPUC",
          "GaSb_30kV_50pA_processTime1",
          "GaSb_30kV_50pA_processTime2",
          "GaSb_30kV_50pA_processTime4",
          "GaSb_scratched_15kV_400pA_processTime3",
          "GaSb_scratched_30kV_25pA",
          "Map1",
          "Map2"
         ],
         "y": [
          14.16,
          19.3,
          19.3,
          19.09,
          67.18,
          67.86,
          67.8,
          67.18,
          67.55,
          67.78,
          16.68,
          63.41,
          0,
          0
         ]
        },
        {
         "legendgroup": "HS %at m",
         "marker": {
          "color": "#AB63FA",
          "size": 8
         },
         "mode": "markers",
         "name": "HS %at m",
         "showlegend": true,
         "type": "scatter",
         "x": [
          "GaSb_10kV_50pA",
          "GaSb_15kV_200pA",
          "GaSb_15kV_400pA",
          "GaSb_15kV_50pA",
          "GaSb_30kV_400pA_processTime1",
          "GaSb_30kV_50pA",
          "GaSb_30kV_50pA_noPPUC",
          "GaSb_30kV_50pA_processTime1",
          "GaSb_30kV_50pA_processTime2",
          "GaSb_30kV_50pA_processTime4",
          "GaSb_scratched_15kV_400pA_processTime3",
          "GaSb_scratched_30kV_25pA",
          "Map1",
          "Map2"
         ],
         "y": [
          47.54,
          61.8,
          61.85,
          61.3,
          41.38,
          43.3,
          43.26,
          41.01,
          42.1,
          42.96,
          56.1,
          38.05,
          0,
          0
         ]
        },
        {
         "legendgroup": "HS %at m A t=1e+03",
         "marker": {
          "color": "#FFA15A",
          "size": 8
         },
         "mode": "markers",
         "name": "HS %at m A t=1e+03",
         "showlegend": true,
         "type": "scatter",
         "x": [
          "GaSb_10kV_50pA",
          "GaSb_15kV_200pA",
          "GaSb_15kV_400pA",
          "GaSb_15kV_50pA",
          "GaSb_30kV_400pA_processTime1",
          "GaSb_30kV_50pA",
          "GaSb_30kV_50pA_noPPUC",
          "GaSb_30kV_50pA_processTime1",
          "GaSb_30kV_50pA_processTime2",
          "GaSb_30kV_50pA_processTime4",
          "GaSb_scratched_15kV_400pA_processTime3",
          "GaSb_scratched_30kV_25pA",
          "Map1",
          "Map2"
         ],
         "y": [
          24.44,
          32.96,
          32.99,
          32.62,
          45.49,
          47.39,
          47.35,
          45.12,
          46.2,
          47.05,
          29.3,
          42.16,
          0,
          null
         ]
        },
        {
         "legendgroup": "HS %at m A t=1e+04",
         "marker": {
          "color": "#19D3F3",
          "size": 8
         },
         "mode": "markers",
         "name": "HS %at m A t=1e+04",
         "showlegend": true,
         "type": "scatter",
         "x": [
          "GaSb_10kV_50pA",
          "GaSb_15kV_200pA",
          "GaSb_15kV_400pA",
          "GaSb_15kV_50pA",
          "GaSb_30kV_400pA_processTime1",
          "GaSb_30kV_50pA",
          "GaSb_30kV_50pA_noPPUC",
          "GaSb_30kV_50pA_processTime1",
          "GaSb_30kV_50pA_processTime2",
          "GaSb_30kV_50pA_processTime4",
          "GaSb_scratched_15kV_400pA_processTime3",
          "GaSb_scratched_30kV_25pA",
          "Map1",
          "Map2"
         ],
         "y": [
          14.87,
          20.63,
          20.65,
          20.39,
          62.7,
          64.28,
          64.24,
          62.39,
          63.29,
          64,
          18.11,
          59.86,
          0,
          null
         ]
        },
        {
         "legendgroup": "HS %at m A t=1e+05",
         "marker": {
          "color": "#FF6692",
          "size": 8
         },
         "mode": "markers",
         "name": "HS %at m A t=1e+05",
         "showlegend": true,
         "type": "scatter",
         "x": [
          "GaSb_10kV_50pA",
          "GaSb_15kV_200pA",
          "GaSb_15kV_400pA",
          "GaSb_15kV_50pA",
          "GaSb_30kV_400pA_processTime1",
          "GaSb_30kV_50pA",
          "GaSb_30kV_50pA_noPPUC",
          "GaSb_30kV_50pA_processTime1",
          "GaSb_30kV_50pA_processTime2",
          "GaSb_30kV_50pA_processTime4",
          "GaSb_scratched_15kV_400pA_processTime3",
          "GaSb_scratched_30kV_25pA",
          "Map1",
          "Map2"
         ],
         "y": [
          14.82,
          20.56,
          20.58,
          20.32,
          66.74,
          68.17,
          68.14,
          66.46,
          67.28,
          67.92,
          18.05,
          64.15,
          0,
          0
         ]
        },
        {
         "legendgroup": "AZ %at",
         "marker": {
          "color": "#636EFA",
          "size": 8
         },
         "mode": "markers",
         "name": "AZ %at",
         "showlegend": false,
         "type": "scatter",
         "x": [
          "GaAs_30kV_25pA",
          "GaAs_30kV_50pA"
         ],
         "y": [
          42.03,
          41.93
         ]
        },
        {
         "legendgroup": "HS %at s",
         "marker": {
          "color": "#EF553B",
          "size": 8
         },
         "mode": "markers",
         "name": "HS %at s",
         "showlegend": false,
         "type": "scatter",
         "x": [
          "GaAs_30kV_25pA",
          "GaAs_30kV_50pA"
         ],
         "y": [
          42.54,
          42.5
         ]
        },
        {
         "legendgroup": "HS %at s A",
         "marker": {
          "color": "#00CC96",
          "size": 8
         },
         "mode": "markers",
         "name": "HS %at s A",
         "showlegend": false,
         "type": "scatter",
         "x": [
          "GaAs_30kV_25pA",
          "GaAs_30kV_50pA"
         ],
         "y": [
          62.03,
          62.01
         ]
        },
        {
         "legendgroup": "HS %at m",
         "marker": {
          "color": "#AB63FA",
          "size": 8
         },
         "mode": "markers",
         "name": "HS %at m",
         "showlegend": false,
         "type": "scatter",
         "x": [
          "GaAs_30kV_25pA",
          "GaAs_30kV_50pA"
         ],
         "y": [
          41.52,
          41.44
         ]
        },
        {
         "legendgroup": "HS %at m A t=1e+03",
         "marker": {
          "color": "#FFA15A",
          "size": 8
         },
         "mode": "markers",
         "name": "HS %at m A t=1e+03",
         "showlegend": false,
         "type": "scatter",
         "x": [
          "GaAs_30kV_25pA",
          "GaAs_30kV_50pA"
         ],
         "y": [
          42.63,
          42.55
         ]
        },
        {
         "legendgroup": "HS %at m A t=1e+04",
         "marker": {
          "color": "#19D3F3",
          "size": 8
         },
         "mode": "markers",
         "name": "HS %at m A t=1e+04",
         "showlegend": false,
         "type": "scatter",
         "x": [
          "GaAs_30kV_25pA",
          "GaAs_30kV_50pA"
         ],
         "y": [
          49.93,
          49.86
         ]
        },
        {
         "legendgroup": "HS %at m A t=1e+05",
         "marker": {
          "color": "#FF6692",
          "size": 8
         },
         "mode": "markers",
         "name": "HS %at m A t=1e+05",
         "showlegend": false,
         "type": "scatter",
         "x": [
          "GaAs_30kV_25pA",
          "GaAs_30kV_50pA"
         ],
         "y": [
          61.36,
          61.31
         ]
        },
        {
         "legendgroup": "AZ %at",
         "marker": {
          "color": "#636EFA",
          "size": 8
         },
         "mode": "markers",
         "name": "AZ %at",
         "showlegend": false,
         "type": "scatter",
         "x": [
          "GaAs_30kV_25pA",
          "GaAs_30kV_50pA",
          "GaSb_30kV_400pA_processTime1",
          "GaSb_30kV_50pA",
          "GaSb_30kV_50pA_noPPUC",
          "GaSb_30kV_50pA_processTime1",
          "GaSb_30kV_50pA_processTime2",
          "GaSb_30kV_50pA_processTime4",
          "GaSb_scratched_30kV_25pA"
         ],
         "y": [
          57.97,
          58.07,
          44.55,
          44.68,
          44.69,
          44.87,
          44.63,
          44.65,
          50.49
         ]
        },
        {
         "legendgroup": "HS %at s",
         "marker": {
          "color": "#EF553B",
          "size": 8
         },
         "mode": "markers",
         "name": "HS %at s",
         "showlegend": false,
         "type": "scatter",
         "x": [
          "GaAs_30kV_25pA",
          "GaAs_30kV_50pA",
          "GaSb_30kV_400pA_processTime1",
          "GaSb_30kV_50pA",
          "GaSb_30kV_50pA_noPPUC",
          "GaSb_30kV_50pA_processTime1",
          "GaSb_30kV_50pA_processTime2",
          "GaSb_30kV_50pA_processTime4",
          "GaSb_scratched_30kV_25pA"
         ],
         "y": [
          57.46,
          57.5,
          58.03,
          57.11,
          57.2,
          58.03,
          57.54,
          57.22,
          62.88
         ]
        },
        {
         "legendgroup": "HS %at s A",
         "marker": {
          "color": "#00CC96",
          "size": 8
         },
         "mode": "markers",
         "name": "HS %at s A",
         "showlegend": false,
         "type": "scatter",
         "x": [
          "GaAs_30kV_25pA",
          "GaAs_30kV_50pA",
          "GaSb_30kV_400pA_processTime1",
          "GaSb_30kV_50pA",
          "GaSb_30kV_50pA_noPPUC",
          "GaSb_30kV_50pA_processTime1",
          "GaSb_30kV_50pA_processTime2",
          "GaSb_30kV_50pA_processTime4",
          "GaSb_scratched_30kV_25pA"
         ],
         "y": [
          37.97,
          37.99,
          32.82,
          32.14,
          32.2,
          32.82,
          32.45,
          32.22,
          36.59
         ]
        },
        {
         "legendgroup": "HS %at m",
         "marker": {
          "color": "#AB63FA",
          "size": 8
         },
         "mode": "markers",
         "name": "HS %at m",
         "showlegend": false,
         "type": "scatter",
         "x": [
          "GaAs_30kV_25pA",
          "GaAs_30kV_50pA",
          "GaSb_30kV_400pA_processTime1",
          "GaSb_30kV_50pA",
          "GaSb_30kV_50pA_noPPUC",
          "GaSb_30kV_50pA_processTime1",
          "GaSb_30kV_50pA_processTime2",
          "GaSb_30kV_50pA_processTime4",
          "GaSb_scratched_30kV_25pA"
         ],
         "y": [
          58.48,
          58.56,
          58.62,
          56.7,
          56.74,
          58.99,
          57.9,
          57.04,
          61.95
         ]
        },
        {
         "legendgroup": "HS %at m A t=1e+03",
         "marker": {
          "color": "#FFA15A",
          "size": 8
         },
         "mode": "markers",
         "name": "HS %at m A t=1e+03",
         "showlegend": false,
         "type": "scatter",
         "x": [
          "GaAs_30kV_25pA",
          "GaAs_30kV_50pA",
          "GaSb_30kV_400pA_processTime1",
          "GaSb_30kV_50pA",
          "GaSb_30kV_50pA_noPPUC",
          "GaSb_30kV_50pA_processTime1",
          "GaSb_30kV_50pA_processTime2",
          "GaSb_30kV_50pA_processTime4",
          "GaSb_scratched_30kV_25pA"
         ],
         "y": [
          57.37,
          57.45,
          54.51,
          52.61,
          52.65,
          54.88,
          53.8,
          52.95,
          57.84
         ]
        },
        {
         "legendgroup": "HS %at m A t=1e+04",
         "marker": {
          "color": "#19D3F3",
          "size": 8
         },
         "mode": "markers",
         "name": "HS %at m A t=1e+04",
         "showlegend": false,
         "type": "scatter",
         "x": [
          "GaAs_30kV_25pA",
          "GaAs_30kV_50pA",
          "GaSb_30kV_400pA_processTime1",
          "GaSb_30kV_50pA",
          "GaSb_30kV_50pA_noPPUC",
          "GaSb_30kV_50pA_processTime1",
          "GaSb_30kV_50pA_processTime2",
          "GaSb_30kV_50pA_processTime4",
          "GaSb_scratched_30kV_25pA"
         ],
         "y": [
          50.07,
          50.14,
          37.3,
          35.72,
          35.76,
          37.61,
          36.71,
          36,
          40.14
         ]
        },
        {
         "legendgroup": "HS %at m A t=1e+05",
         "marker": {
          "color": "#FF6692",
          "size": 8
         },
         "mode": "markers",
         "name": "HS %at m A t=1e+05",
         "showlegend": false,
         "type": "scatter",
         "x": [
          "GaAs_30kV_25pA",
          "GaAs_30kV_50pA",
          "GaSb_30kV_400pA_processTime1",
          "GaSb_30kV_50pA",
          "GaSb_30kV_50pA_noPPUC",
          "GaSb_30kV_50pA_processTime1",
          "GaSb_30kV_50pA_processTime2",
          "GaSb_30kV_50pA_processTime4",
          "GaSb_scratched_30kV_25pA"
         ],
         "y": [
          38.64,
          38.69,
          33.26,
          31.83,
          31.86,
          33.54,
          32.72,
          32.08,
          35.85
         ]
        },
        {
         "legendgroup": "AZ %at",
         "marker": {
          "color": "#636EFA",
          "size": 8
         },
         "mode": "markers",
         "name": "AZ %at",
         "showlegend": false,
         "type": "scatter",
         "x": [
          "GaAs_05kV_25pA",
          "GaAs_10kV_25pA",
          "GaAs_15kV_25pA",
          "GaSb_05kV_50pA",
          "GaSb_10kV_50pA",
          "GaSb_15kV_200pA",
          "GaSb_15kV_400pA",
          "GaSb_15kV_50pA",
          "GaSb_scratched_15kV_400pA_processTime3",
          "Map1",
          "Map2"
         ],
         "y": [
          54.6,
          57.91,
          62.36,
          91.47,
          42.16,
          28.92,
          28.91,
          29.34,
          35.07,
          28.95,
          28.89
         ]
        },
        {
         "legendgroup": "HS %at s",
         "marker": {
          "color": "#EF553B",
          "size": 8
         },
         "mode": "markers",
         "name": "HS %at s",
         "showlegend": false,
         "type": "scatter",
         "x": [
          "GaAs_05kV_25pA",
          "GaAs_10kV_25pA",
          "GaAs_15kV_25pA",
          "GaSb_05kV_50pA",
          "GaSb_10kV_50pA",
          "GaSb_15kV_200pA",
          "GaSb_15kV_400pA",
          "GaSb_15kV_50pA",
          "GaSb_scratched_15kV_400pA_processTime3",
          "Map1",
          "Map2"
         ],
         "y": [
          55,
          58.57,
          62.84,
          96.4,
          54.39,
          40.96,
          40.96,
          41.45,
          47.36,
          0,
          0
         ]
        },
        {
         "legendgroup": "HS %at s A",
         "marker": {
          "color": "#00CC96",
          "size": 8
         },
         "mode": "markers",
         "name": "HS %at s A",
         "showlegend": false,
         "type": "scatter",
         "x": [
          "GaAs_05kV_25pA",
          "GaAs_10kV_25pA",
          "GaAs_15kV_25pA",
          "GaSb_05kV_50pA",
          "GaSb_10kV_50pA",
          "GaSb_15kV_200pA",
          "GaSb_15kV_400pA",
          "GaSb_15kV_50pA",
          "GaSb_scratched_15kV_400pA_processTime3",
          "Map1",
          "Map2"
         ],
         "y": [
          37.07,
          39.42,
          42.39,
          97.58,
          85.84,
          80.7,
          80.7,
          80.91,
          83.32,
          0,
          0
         ]
        },
        {
         "legendgroup": "HS %at m",
         "marker": {
          "color": "#AB63FA",
          "size": 8
         },
         "mode": "markers",
         "name": "HS %at m",
         "showlegend": false,
         "type": "scatter",
         "x": [
          "GaAs_05kV_25pA",
          "GaAs_10kV_25pA",
          "GaAs_15kV_25pA",
          "GaSb_05kV_50pA",
          "GaSb_10kV_50pA",
          "GaSb_15kV_200pA",
          "GaSb_15kV_400pA",
          "GaSb_15kV_50pA",
          "GaSb_scratched_15kV_400pA_processTime3",
          "Map1",
          "Map2"
         ],
         "y": [
          54.59,
          58.38,
          62.97,
          null,
          52.46,
          38.2,
          38.15,
          38.7,
          43.9,
          0,
          0
         ]
        },
        {
         "legendgroup": "HS %at m A t=1e+03",
         "marker": {
          "color": "#FFA15A",
          "size": 8
         },
         "mode": "markers",
         "name": "HS %at m A t=1e+03",
         "showlegend": false,
         "type": "scatter",
         "x": [
          "GaAs_05kV_25pA",
          "GaAs_10kV_25pA",
          "GaAs_15kV_25pA",
          "GaSb_05kV_50pA",
          "GaSb_10kV_50pA",
          "GaSb_15kV_200pA",
          "GaSb_15kV_400pA",
          "GaSb_15kV_50pA",
          "GaSb_scratched_15kV_400pA_processTime3",
          "Map1",
          "Map2"
         ],
         "y": [
          40.49,
          43.21,
          46.66,
          null,
          75.56,
          67.04,
          67.01,
          67.38,
          70.7,
          0,
          0
         ]
        },
        {
         "legendgroup": "HS %at m A t=1e+04",
         "marker": {
          "color": "#19D3F3",
          "size": 8
         },
         "mode": "markers",
         "name": "HS %at m A t=1e+04",
         "showlegend": false,
         "type": "scatter",
         "x": [
          "GaAs_05kV_25pA",
          "GaAs_10kV_25pA",
          "GaAs_15kV_25pA",
          "GaSb_05kV_50pA",
          "GaSb_10kV_50pA",
          "GaSb_15kV_200pA",
          "GaSb_15kV_400pA",
          "GaSb_15kV_50pA",
          "GaSb_scratched_15kV_400pA_processTime3",
          "Map1",
          "Map2"
         ],
         "y": [
          36.81,
          39.29,
          42.48,
          0,
          85.13,
          79.37,
          79.35,
          79.61,
          81.89,
          0,
          0
         ]
        },
        {
         "legendgroup": "HS %at m A t=1e+05",
         "marker": {
          "color": "#FF6692",
          "size": 8
         },
         "mode": "markers",
         "name": "HS %at m A t=1e+05",
         "showlegend": false,
         "type": "scatter",
         "x": [
          "GaAs_05kV_25pA",
          "GaAs_10kV_25pA",
          "GaAs_15kV_25pA",
          "GaSb_05kV_50pA",
          "GaSb_10kV_50pA",
          "GaSb_15kV_200pA",
          "GaSb_15kV_400pA",
          "GaSb_15kV_50pA",
          "GaSb_scratched_15kV_400pA_processTime3",
          "Map1",
          "Map2"
         ],
         "y": [
          36.81,
          39.29,
          42.48,
          0,
          85.18,
          79.44,
          79.42,
          79.68,
          81.95,
          0,
          0
         ]
        },
        {
         "legendgroup": "AZ %at",
         "marker": {
          "color": "#636EFA",
          "size": 8
         },
         "mode": "markers",
         "name": "AZ %at",
         "showlegend": false,
         "type": "scatter",
         "x": [
          "GaAs_05kV_25pA",
          "GaAs_10kV_25pA",
          "GaAs_15kV_25pA"
         ],
         "y": [
          45.4,
          42.09,
          37.64
         ]
        },
        {
         "legendgroup": "HS %at s",
         "marker": {
          "color": "#EF553B",
          "size": 8
         },
         "mode": "markers",
         "name": "HS %at s",
         "showlegend": false,
         "type": "scatter",
         "x": [
          "GaAs_05kV_25pA",
          "GaAs_10kV_25pA",
          "GaAs_15kV_25pA"
         ],
         "y": [
          45,
          41.43,
          37.16
         ]
        },
        {
         "legendgroup": "HS %at s A",
         "marker": {
          "color": "#00CC96",
          "size": 8
         },
         "mode": "markers",
         "name": "HS %at s A",
         "showlegend": false,
         "type": "scatter",
         "x": [
          "GaAs_05kV_25pA",
          "GaAs_10kV_25pA",
          "GaAs_15kV_25pA"
         ],
         "y": [
          62.93,
          60.58,
          57.61
         ]
        },
        {
         "legendgroup": "HS %at m",
         "marker": {
          "color": "#AB63FA",
          "size": 8
         },
         "mode": "markers",
         "name": "HS %at m",
         "showlegend": false,
         "type": "scatter",
         "x": [
          "GaAs_05kV_25pA",
          "GaAs_10kV_25pA",
          "GaAs_15kV_25pA"
         ],
         "y": [
          45.41,
          41.62,
          37.03
         ]
        },
        {
         "legendgroup": "HS %at m A t=1e+03",
         "marker": {
          "color": "#FFA15A",
          "size": 8
         },
         "mode": "markers",
         "name": "HS %at m A t=1e+03",
         "showlegend": false,
         "type": "scatter",
         "x": [
          "GaAs_05kV_25pA",
          "GaAs_10kV_25pA",
          "GaAs_15kV_25pA"
         ],
         "y": [
          59.51,
          56.79,
          53.34
         ]
        },
        {
         "legendgroup": "HS %at m A t=1e+04",
         "marker": {
          "color": "#19D3F3",
          "size": 8
         },
         "mode": "markers",
         "name": "HS %at m A t=1e+04",
         "showlegend": false,
         "type": "scatter",
         "x": [
          "GaAs_05kV_25pA",
          "GaAs_10kV_25pA",
          "GaAs_15kV_25pA"
         ],
         "y": [
          63.19,
          60.71,
          57.52
         ]
        },
        {
         "legendgroup": "HS %at m A t=1e+05",
         "marker": {
          "color": "#FF6692",
          "size": 8
         },
         "mode": "markers",
         "name": "HS %at m A t=1e+05",
         "showlegend": false,
         "type": "scatter",
         "x": [
          "GaAs_05kV_25pA",
          "GaAs_10kV_25pA",
          "GaAs_15kV_25pA"
         ],
         "y": [
          63.19,
          60.71,
          57.52
         ]
        }
       ],
       "layout": {
        "legend": {
         "orientation": "h",
         "x": 1,
         "xanchor": "right",
         "y": 1.02,
         "yanchor": "bottom"
        },
        "template": {
         "data": {
          "bar": [
           {
            "error_x": {
             "color": "#2a3f5f"
            },
            "error_y": {
             "color": "#2a3f5f"
            },
            "marker": {
             "line": {
              "color": "#E5ECF6",
              "width": 0.5
             },
             "pattern": {
              "fillmode": "overlay",
              "size": 10,
              "solidity": 0.2
             }
            },
            "type": "bar"
           }
          ],
          "barpolar": [
           {
            "marker": {
             "line": {
              "color": "#E5ECF6",
              "width": 0.5
             },
             "pattern": {
              "fillmode": "overlay",
              "size": 10,
              "solidity": 0.2
             }
            },
            "type": "barpolar"
           }
          ],
          "carpet": [
           {
            "aaxis": {
             "endlinecolor": "#2a3f5f",
             "gridcolor": "white",
             "linecolor": "white",
             "minorgridcolor": "white",
             "startlinecolor": "#2a3f5f"
            },
            "baxis": {
             "endlinecolor": "#2a3f5f",
             "gridcolor": "white",
             "linecolor": "white",
             "minorgridcolor": "white",
             "startlinecolor": "#2a3f5f"
            },
            "type": "carpet"
           }
          ],
          "choropleth": [
           {
            "colorbar": {
             "outlinewidth": 0,
             "ticks": ""
            },
            "type": "choropleth"
           }
          ],
          "contour": [
           {
            "colorbar": {
             "outlinewidth": 0,
             "ticks": ""
            },
            "colorscale": [
             [
              0,
              "#0d0887"
             ],
             [
              0.1111111111111111,
              "#46039f"
             ],
             [
              0.2222222222222222,
              "#7201a8"
             ],
             [
              0.3333333333333333,
              "#9c179e"
             ],
             [
              0.4444444444444444,
              "#bd3786"
             ],
             [
              0.5555555555555556,
              "#d8576b"
             ],
             [
              0.6666666666666666,
              "#ed7953"
             ],
             [
              0.7777777777777778,
              "#fb9f3a"
             ],
             [
              0.8888888888888888,
              "#fdca26"
             ],
             [
              1,
              "#f0f921"
             ]
            ],
            "type": "contour"
           }
          ],
          "contourcarpet": [
           {
            "colorbar": {
             "outlinewidth": 0,
             "ticks": ""
            },
            "type": "contourcarpet"
           }
          ],
          "heatmap": [
           {
            "colorbar": {
             "outlinewidth": 0,
             "ticks": ""
            },
            "colorscale": [
             [
              0,
              "#0d0887"
             ],
             [
              0.1111111111111111,
              "#46039f"
             ],
             [
              0.2222222222222222,
              "#7201a8"
             ],
             [
              0.3333333333333333,
              "#9c179e"
             ],
             [
              0.4444444444444444,
              "#bd3786"
             ],
             [
              0.5555555555555556,
              "#d8576b"
             ],
             [
              0.6666666666666666,
              "#ed7953"
             ],
             [
              0.7777777777777778,
              "#fb9f3a"
             ],
             [
              0.8888888888888888,
              "#fdca26"
             ],
             [
              1,
              "#f0f921"
             ]
            ],
            "type": "heatmap"
           }
          ],
          "heatmapgl": [
           {
            "colorbar": {
             "outlinewidth": 0,
             "ticks": ""
            },
            "colorscale": [
             [
              0,
              "#0d0887"
             ],
             [
              0.1111111111111111,
              "#46039f"
             ],
             [
              0.2222222222222222,
              "#7201a8"
             ],
             [
              0.3333333333333333,
              "#9c179e"
             ],
             [
              0.4444444444444444,
              "#bd3786"
             ],
             [
              0.5555555555555556,
              "#d8576b"
             ],
             [
              0.6666666666666666,
              "#ed7953"
             ],
             [
              0.7777777777777778,
              "#fb9f3a"
             ],
             [
              0.8888888888888888,
              "#fdca26"
             ],
             [
              1,
              "#f0f921"
             ]
            ],
            "type": "heatmapgl"
           }
          ],
          "histogram": [
           {
            "marker": {
             "pattern": {
              "fillmode": "overlay",
              "size": 10,
              "solidity": 0.2
             }
            },
            "type": "histogram"
           }
          ],
          "histogram2d": [
           {
            "colorbar": {
             "outlinewidth": 0,
             "ticks": ""
            },
            "colorscale": [
             [
              0,
              "#0d0887"
             ],
             [
              0.1111111111111111,
              "#46039f"
             ],
             [
              0.2222222222222222,
              "#7201a8"
             ],
             [
              0.3333333333333333,
              "#9c179e"
             ],
             [
              0.4444444444444444,
              "#bd3786"
             ],
             [
              0.5555555555555556,
              "#d8576b"
             ],
             [
              0.6666666666666666,
              "#ed7953"
             ],
             [
              0.7777777777777778,
              "#fb9f3a"
             ],
             [
              0.8888888888888888,
              "#fdca26"
             ],
             [
              1,
              "#f0f921"
             ]
            ],
            "type": "histogram2d"
           }
          ],
          "histogram2dcontour": [
           {
            "colorbar": {
             "outlinewidth": 0,
             "ticks": ""
            },
            "colorscale": [
             [
              0,
              "#0d0887"
             ],
             [
              0.1111111111111111,
              "#46039f"
             ],
             [
              0.2222222222222222,
              "#7201a8"
             ],
             [
              0.3333333333333333,
              "#9c179e"
             ],
             [
              0.4444444444444444,
              "#bd3786"
             ],
             [
              0.5555555555555556,
              "#d8576b"
             ],
             [
              0.6666666666666666,
              "#ed7953"
             ],
             [
              0.7777777777777778,
              "#fb9f3a"
             ],
             [
              0.8888888888888888,
              "#fdca26"
             ],
             [
              1,
              "#f0f921"
             ]
            ],
            "type": "histogram2dcontour"
           }
          ],
          "mesh3d": [
           {
            "colorbar": {
             "outlinewidth": 0,
             "ticks": ""
            },
            "type": "mesh3d"
           }
          ],
          "parcoords": [
           {
            "line": {
             "colorbar": {
              "outlinewidth": 0,
              "ticks": ""
             }
            },
            "type": "parcoords"
           }
          ],
          "pie": [
           {
            "automargin": true,
            "type": "pie"
           }
          ],
          "scatter": [
           {
            "fillpattern": {
             "fillmode": "overlay",
             "size": 10,
             "solidity": 0.2
            },
            "type": "scatter"
           }
          ],
          "scatter3d": [
           {
            "line": {
             "colorbar": {
              "outlinewidth": 0,
              "ticks": ""
             }
            },
            "marker": {
             "colorbar": {
              "outlinewidth": 0,
              "ticks": ""
             }
            },
            "type": "scatter3d"
           }
          ],
          "scattercarpet": [
           {
            "marker": {
             "colorbar": {
              "outlinewidth": 0,
              "ticks": ""
             }
            },
            "type": "scattercarpet"
           }
          ],
          "scattergeo": [
           {
            "marker": {
             "colorbar": {
              "outlinewidth": 0,
              "ticks": ""
             }
            },
            "type": "scattergeo"
           }
          ],
          "scattergl": [
           {
            "marker": {
             "colorbar": {
              "outlinewidth": 0,
              "ticks": ""
             }
            },
            "type": "scattergl"
           }
          ],
          "scattermapbox": [
           {
            "marker": {
             "colorbar": {
              "outlinewidth": 0,
              "ticks": ""
             }
            },
            "type": "scattermapbox"
           }
          ],
          "scatterpolar": [
           {
            "marker": {
             "colorbar": {
              "outlinewidth": 0,
              "ticks": ""
             }
            },
            "type": "scatterpolar"
           }
          ],
          "scatterpolargl": [
           {
            "marker": {
             "colorbar": {
              "outlinewidth": 0,
              "ticks": ""
             }
            },
            "type": "scatterpolargl"
           }
          ],
          "scatterternary": [
           {
            "marker": {
             "colorbar": {
              "outlinewidth": 0,
              "ticks": ""
             }
            },
            "type": "scatterternary"
           }
          ],
          "surface": [
           {
            "colorbar": {
             "outlinewidth": 0,
             "ticks": ""
            },
            "colorscale": [
             [
              0,
              "#0d0887"
             ],
             [
              0.1111111111111111,
              "#46039f"
             ],
             [
              0.2222222222222222,
              "#7201a8"
             ],
             [
              0.3333333333333333,
              "#9c179e"
             ],
             [
              0.4444444444444444,
              "#bd3786"
             ],
             [
              0.5555555555555556,
              "#d8576b"
             ],
             [
              0.6666666666666666,
              "#ed7953"
             ],
             [
              0.7777777777777778,
              "#fb9f3a"
             ],
             [
              0.8888888888888888,
              "#fdca26"
             ],
             [
              1,
              "#f0f921"
             ]
            ],
            "type": "surface"
           }
          ],
          "table": [
           {
            "cells": {
             "fill": {
              "color": "#EBF0F8"
             },
             "line": {
              "color": "white"
             }
            },
            "header": {
             "fill": {
              "color": "#C8D4E3"
             },
             "line": {
              "color": "white"
             }
            },
            "type": "table"
           }
          ]
         },
         "layout": {
          "annotationdefaults": {
           "arrowcolor": "#2a3f5f",
           "arrowhead": 0,
           "arrowwidth": 1
          },
          "autotypenumbers": "strict",
          "coloraxis": {
           "colorbar": {
            "outlinewidth": 0,
            "ticks": ""
           }
          },
          "colorscale": {
           "diverging": [
            [
             0,
             "#8e0152"
            ],
            [
             0.1,
             "#c51b7d"
            ],
            [
             0.2,
             "#de77ae"
            ],
            [
             0.3,
             "#f1b6da"
            ],
            [
             0.4,
             "#fde0ef"
            ],
            [
             0.5,
             "#f7f7f7"
            ],
            [
             0.6,
             "#e6f5d0"
            ],
            [
             0.7,
             "#b8e186"
            ],
            [
             0.8,
             "#7fbc41"
            ],
            [
             0.9,
             "#4d9221"
            ],
            [
             1,
             "#276419"
            ]
           ],
           "sequential": [
            [
             0,
             "#0d0887"
            ],
            [
             0.1111111111111111,
             "#46039f"
            ],
            [
             0.2222222222222222,
             "#7201a8"
            ],
            [
             0.3333333333333333,
             "#9c179e"
            ],
            [
             0.4444444444444444,
             "#bd3786"
            ],
            [
             0.5555555555555556,
             "#d8576b"
            ],
            [
             0.6666666666666666,
             "#ed7953"
            ],
            [
             0.7777777777777778,
             "#fb9f3a"
            ],
            [
             0.8888888888888888,
             "#fdca26"
            ],
            [
             1,
             "#f0f921"
            ]
           ],
           "sequentialminus": [
            [
             0,
             "#0d0887"
            ],
            [
             0.1111111111111111,
             "#46039f"
            ],
            [
             0.2222222222222222,
             "#7201a8"
            ],
            [
             0.3333333333333333,
             "#9c179e"
            ],
            [
             0.4444444444444444,
             "#bd3786"
            ],
            [
             0.5555555555555556,
             "#d8576b"
            ],
            [
             0.6666666666666666,
             "#ed7953"
            ],
            [
             0.7777777777777778,
             "#fb9f3a"
            ],
            [
             0.8888888888888888,
             "#fdca26"
            ],
            [
             1,
             "#f0f921"
            ]
           ]
          },
          "colorway": [
           "#636efa",
           "#EF553B",
           "#00cc96",
           "#ab63fa",
           "#FFA15A",
           "#19d3f3",
           "#FF6692",
           "#B6E880",
           "#FF97FF",
           "#FECB52"
          ],
          "font": {
           "color": "#2a3f5f"
          },
          "geo": {
           "bgcolor": "white",
           "lakecolor": "white",
           "landcolor": "#E5ECF6",
           "showlakes": true,
           "showland": true,
           "subunitcolor": "white"
          },
          "hoverlabel": {
           "align": "left"
          },
          "hovermode": "closest",
          "mapbox": {
           "style": "light"
          },
          "paper_bgcolor": "white",
          "plot_bgcolor": "#E5ECF6",
          "polar": {
           "angularaxis": {
            "gridcolor": "white",
            "linecolor": "white",
            "ticks": ""
           },
           "bgcolor": "#E5ECF6",
           "radialaxis": {
            "gridcolor": "white",
            "linecolor": "white",
            "ticks": ""
           }
          },
          "scene": {
           "xaxis": {
            "backgroundcolor": "#E5ECF6",
            "gridcolor": "white",
            "gridwidth": 2,
            "linecolor": "white",
            "showbackground": true,
            "ticks": "",
            "zerolinecolor": "white"
           },
           "yaxis": {
            "backgroundcolor": "#E5ECF6",
            "gridcolor": "white",
            "gridwidth": 2,
            "linecolor": "white",
            "showbackground": true,
            "ticks": "",
            "zerolinecolor": "white"
           },
           "zaxis": {
            "backgroundcolor": "#E5ECF6",
            "gridcolor": "white",
            "gridwidth": 2,
            "linecolor": "white",
            "showbackground": true,
            "ticks": "",
            "zerolinecolor": "white"
           }
          },
          "shapedefaults": {
           "line": {
            "color": "#2a3f5f"
           }
          },
          "ternary": {
           "aaxis": {
            "gridcolor": "white",
            "linecolor": "white",
            "ticks": ""
           },
           "baxis": {
            "gridcolor": "white",
            "linecolor": "white",
            "ticks": ""
           },
           "bgcolor": "#E5ECF6",
           "caxis": {
            "gridcolor": "white",
            "linecolor": "white",
            "ticks": ""
           }
          },
          "title": {
           "x": 0.05
          },
          "xaxis": {
           "automargin": true,
           "gridcolor": "white",
           "linecolor": "white",
           "ticks": "",
           "title": {
            "standoff": 15
           },
           "zerolinecolor": "white",
           "zerolinewidth": 2
          },
          "yaxis": {
           "automargin": true,
           "gridcolor": "white",
           "linecolor": "white",
           "ticks": "",
           "title": {
            "standoff": 15
           },
           "zerolinecolor": "white",
           "zerolinewidth": 2
          }
         }
        },
        "title": {
         "text": "Data treated as TEM, quantified with HS using different quantification parameters<br><sub>s=original spectrum, m=model, A=absorption correction, t=thickness"
        },
        "yaxis": {
         "range": [
          0,
          100
         ]
        }
       }
      }
     },
     "metadata": {},
     "output_type": "display_data"
    }
   ],
   "source": [
    "fig = go.Figure()\n",
    "lines_list = ['Sb_La', 'As_Ka', 'Ga_Ka', 'Ga_La', 'As_La']\n",
    "colors = ['#636EFA', '#EF553B', '#00CC96', '#AB63FA', '#FFA15A', '#19D3F3', '#FF6692', '#B6E880', '#FF97FF', '#FECB52'] # plotly colors\n",
    "\n",
    "for l in lines_list:\n",
    "    for y in y_keys:\n",
    "        i = y_keys.index(y)\n",
    "        fig.add_scatter(x=df[df['Line'] == l]['File'], y = df[df['Line'] == l][y], mode='markers', name=y, marker=dict(size=8, color=colors[i]), legendgroup=y, showlegend=True if l == lines_list[0] else False)\n",
    "fig.update_layout(title='Data treated as TEM, quantified with HS using different quantification parameters<br><sub>s=original spectrum, m=model, A=absorption correction, t=thickness')\n",
    "fig.update_layout(legend=dict(orientation=\"h\", yanchor=\"bottom\", y=1.02, xanchor=\"right\", x=1))\n",
    "fig.update_yaxes(range=[0, 100])\n",
    "fig"
   ]
  },
  {
   "cell_type": "code",
   "execution_count": 15,
   "metadata": {},
   "outputs": [],
   "source": [
    "fig.write_html('results/quant_as_TEM.html')"
   ]
  }
 ],
 "metadata": {
  "kernelspec": {
   "display_name": "hspy",
   "language": "python",
   "name": "python3"
  },
  "language_info": {
   "codemirror_mode": {
    "name": "ipython",
    "version": 3
   },
   "file_extension": ".py",
   "mimetype": "text/x-python",
   "name": "python",
   "nbconvert_exporter": "python",
   "pygments_lexer": "ipython3",
   "version": "3.8.16"
  },
  "orig_nbformat": 4
 },
 "nbformat": 4,
 "nbformat_minor": 2
}
