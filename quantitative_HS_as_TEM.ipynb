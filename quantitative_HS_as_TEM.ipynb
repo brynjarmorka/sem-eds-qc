{
 "cells": [
  {
   "cell_type": "code",
   "execution_count": 1,
   "metadata": {},
   "outputs": [],
   "source": [
    "import hyperspy.api as hs\n",
    "import numpy as np\n",
    "import plotly.graph_objects as go\n",
    "import pandas as pd\n",
    "import os"
   ]
  },
  {
   "cell_type": "code",
   "execution_count": 4,
   "metadata": {},
   "outputs": [
    {
     "data": {
      "text/plain": [
       "9.2517"
      ]
     },
     "execution_count": 4,
     "metadata": {},
     "output_type": "execute_result"
    }
   ],
   "source": [
    "hs.material.elements.Ga.Atomic_properties.Xray_lines.Ka['energy (keV)']"
   ]
  },
  {
   "cell_type": "code",
   "execution_count": 5,
   "metadata": {},
   "outputs": [],
   "source": [
    "##### SEM Apreo March 2023 #####\n",
    "path = '../../Masteroppgave/2023-03-08_EDS-Apreo/exports/'"
   ]
  },
  {
   "cell_type": "code",
   "execution_count": 16,
   "metadata": {},
   "outputs": [],
   "source": [
    "aztec_TEM_file = '../../Masteroppgave/2023-03-08_EDS-Apreo/AZtec quant as EDS_TEM.xlsx'\n",
    "df = pd.read_excel(aztec_TEM_file, sheet_name=1)"
   ]
  },
  {
   "cell_type": "code",
   "execution_count": 17,
   "metadata": {},
   "outputs": [
    {
     "data": {
      "text/html": [
       "<div>\n",
       "<style scoped>\n",
       "    .dataframe tbody tr th:only-of-type {\n",
       "        vertical-align: middle;\n",
       "    }\n",
       "\n",
       "    .dataframe tbody tr th {\n",
       "        vertical-align: top;\n",
       "    }\n",
       "\n",
       "    .dataframe thead th {\n",
       "        text-align: right;\n",
       "    }\n",
       "</style>\n",
       "<table border=\"1\" class=\"dataframe\">\n",
       "  <thead>\n",
       "    <tr style=\"text-align: right;\">\n",
       "      <th></th>\n",
       "      <th>File</th>\n",
       "      <th>Group</th>\n",
       "      <th>Element</th>\n",
       "      <th>Line series</th>\n",
       "      <th>k-factor</th>\n",
       "      <th>Line</th>\n",
       "      <th>AZ %at</th>\n",
       "      <th>HS %at s</th>\n",
       "      <th>HS %at s A</th>\n",
       "      <th>HS %at m</th>\n",
       "      <th>HS %at m A t=5e+01</th>\n",
       "      <th>HS %at m A t=1e+02</th>\n",
       "      <th>HS %at m A t=2e+02</th>\n",
       "      <th>HS %at m A t=4e+02</th>\n",
       "      <th>HS %at m A t=1e+03</th>\n",
       "      <th>HS %at m A t=1e+04</th>\n",
       "      <th>HS %at m A t=1e+05</th>\n",
       "    </tr>\n",
       "  </thead>\n",
       "  <tbody>\n",
       "    <tr>\n",
       "      <th>0</th>\n",
       "      <td>GaAs_05kV_25pA</td>\n",
       "      <td>A</td>\n",
       "      <td>As</td>\n",
       "      <td>L</td>\n",
       "      <td>1.210</td>\n",
       "      <td>As_La</td>\n",
       "      <td>45.4</td>\n",
       "      <td>0</td>\n",
       "      <td>0</td>\n",
       "      <td>0</td>\n",
       "      <td>0</td>\n",
       "      <td>0</td>\n",
       "      <td>0</td>\n",
       "      <td>0</td>\n",
       "      <td>0</td>\n",
       "      <td>0</td>\n",
       "      <td>0</td>\n",
       "    </tr>\n",
       "    <tr>\n",
       "      <th>1</th>\n",
       "      <td>GaAs_05kV_25pA</td>\n",
       "      <td>A</td>\n",
       "      <td>Ga</td>\n",
       "      <td>L</td>\n",
       "      <td>1.086</td>\n",
       "      <td>Ga_La</td>\n",
       "      <td>54.6</td>\n",
       "      <td>0</td>\n",
       "      <td>0</td>\n",
       "      <td>0</td>\n",
       "      <td>0</td>\n",
       "      <td>0</td>\n",
       "      <td>0</td>\n",
       "      <td>0</td>\n",
       "      <td>0</td>\n",
       "      <td>0</td>\n",
       "      <td>0</td>\n",
       "    </tr>\n",
       "  </tbody>\n",
       "</table>\n",
       "</div>"
      ],
      "text/plain": [
       "             File Group Element Line series  k-factor   Line  AZ %at  \\\n",
       "0  GaAs_05kV_25pA     A      As           L     1.210  As_La    45.4   \n",
       "1  GaAs_05kV_25pA     A      Ga           L     1.086  Ga_La    54.6   \n",
       "\n",
       "   HS %at s  HS %at s A  HS %at m  HS %at m A t=5e+01  HS %at m A t=1e+02  \\\n",
       "0         0           0         0                   0                   0   \n",
       "1         0           0         0                   0                   0   \n",
       "\n",
       "   HS %at m A t=2e+02  HS %at m A t=4e+02  HS %at m A t=1e+03  \\\n",
       "0                   0                   0                   0   \n",
       "1                   0                   0                   0   \n",
       "\n",
       "   HS %at m A t=1e+04  HS %at m A t=1e+05  \n",
       "0                   0                   0  \n",
       "1                   0                   0  "
      ]
     },
     "execution_count": 17,
     "metadata": {},
     "output_type": "execute_result"
    }
   ],
   "source": [
    "df.head(2)"
   ]
  },
  {
   "cell_type": "code",
   "execution_count": 18,
   "metadata": {},
   "outputs": [],
   "source": [
    "def quant_as_TEM(filename, a_corr=True, noise_slice=0.65, print_results=False):\n",
    "\n",
    "    # thickness_list = [1e2, 1e3,1e4,1e5] # in nm\n",
    "    thickness_list = [50, 100, 200, 400, 1e3, 1e4, 1e5] # in nm\n",
    "\n",
    "\n",
    "    # check if filename exists in path\n",
    "    if filename + '.emsa' not in os.listdir(path):\n",
    "        print(filename + '.emsa', 'not found in path')\n",
    "        return\n",
    "    \n",
    "    df_s = df[df['File'] == filename]\n",
    "    df_s = df_s.sort_values(by=['Element']) # alphabetically, as HS\n",
    "\n",
    "    # make the spectrum and the model\n",
    "    s = hs.load(path + filename + '.emsa', signal_type='EDS_TEM')\n",
    "    elements = df_s['Element'].values\n",
    "    s = s.isig[noise_slice:] # noise peak slice\n",
    "    # if Vacc is lower than 20, slice at Vacc\n",
    "    if s.metadata.Acquisition_instrument.TEM.beam_energy < 20:\n",
    "        s = s.isig[:s.metadata.Acquisition_instrument.TEM.beam_energy]\n",
    "\n",
    "    s.add_elements(elements)\n",
    "    s.add_lines()\n",
    "    m = s.create_model()\n",
    "    m.fit()\n",
    "    m.fit_background()\n",
    "\n",
    "    lines = df_s['Line'].values\n",
    "    kfactors = df_s['k-factor'].values\n",
    "    intensities = s.get_lines_intensity()\n",
    "    m_intensities = m.get_lines_intensity()\n",
    "\n",
    "    # select only the relevant lines in m (relevant = we have a k-factor for it from AZtec)    \n",
    "    lines_in_m_to_use = []\n",
    "    for m_line in m_intensities:\n",
    "        if m_line.metadata.Sample.xray_lines[0] in lines:\n",
    "            lines_in_m_to_use.append(m_line)\n",
    "    if a_corr:\n",
    "    # calculate %at for each line in m, if possible\n",
    "        for l in lines:\n",
    "            try:\n",
    "                m[l]\n",
    "                for thickness in thickness_list:\n",
    "                    at_m = s.quantification(lines_in_m_to_use, factors=kfactors, method='CL', absorption_correction=True, thickness=thickness)\n",
    "                    df_s[f'HS %at m A t={thickness:.0e}'] = [at_m[0][0].data.round(2)[0], at_m[0][1].data.round(2)[0]]\n",
    "            except:\n",
    "                print(l, 'not found in m, quantification with model not possible')\n",
    "                df_s[f'HS %at m A t={thickness:.0e}'] = [np.nan, np.nan]\n",
    "\n",
    "        # do the CL quantification with the intensities from the original spectrum\n",
    "        at = s.quantification(intensities, factors=kfactors, method='CL', absorption_correction=True, thickness=thickness)\n",
    "        df_s['HS %at s A'] = [at[0][0].data.round(2)[0], at[0][1].data.round(2)[0]]\n",
    "    \n",
    "    else: # no absorption correction\n",
    "        # almost the same code, but slicing at and at_m with one less level\n",
    "        for l in lines:\n",
    "            try:\n",
    "                m[l]\n",
    "                at_m = s.quantification(lines_in_m_to_use, factors=kfactors, method='CL')\n",
    "                df_s['HS %at m'] = [at_m[0].data.round(2)[0], at_m[1].data.round(2)[0]]\n",
    "            except:\n",
    "                print(l, 'not found in m, quantification with model not possible')\n",
    "                df_s['HS %at m'] = [np.nan, np.nan]\n",
    "        at = s.quantification(intensities, factors=kfactors, method='CL')\n",
    "        df_s['HS %at s'] = [at[0].data.round(2)[0], at[1].data.round(2)[0]]\n",
    "            \n",
    "\n",
    "    if print_results:\n",
    "        print(df_s)\n",
    "\n",
    "    # put results back in df\n",
    "    df[df['File'] == filename] = df_s"
   ]
  },
  {
   "cell_type": "code",
   "execution_count": 20,
   "metadata": {},
   "outputs": [
    {
     "data": {
      "application/vnd.jupyter.widget-view+json": {
       "model_id": "1355b4b7907f4f43817f59d8dfeeac8d",
       "version_major": 2,
       "version_minor": 0
      },
      "text/plain": [
       "Absorption correction calculation: 0it [00:00, ?it/s]"
      ]
     },
     "metadata": {},
     "output_type": "display_data"
    },
    {
     "name": "stdout",
     "output_type": "stream",
     "text": [
      "[########################################] | 100% Completed | 300.44 ms\n"
     ]
    },
    {
     "data": {
      "application/vnd.jupyter.widget-view+json": {
       "model_id": "df36f59cb95947dda5ea8c48f75bdae7",
       "version_major": 2,
       "version_minor": 0
      },
      "text/plain": [
       "Absorption correction calculation: 0it [00:00, ?it/s]"
      ]
     },
     "metadata": {},
     "output_type": "display_data"
    },
    {
     "name": "stdout",
     "output_type": "stream",
     "text": [
      "[########################################] | 100% Completed | 114.34 ms\n"
     ]
    },
    {
     "data": {
      "application/vnd.jupyter.widget-view+json": {
       "model_id": "701b261be475402986932a3e025c8ce1",
       "version_major": 2,
       "version_minor": 0
      },
      "text/plain": [
       "Absorption correction calculation: 0it [00:00, ?it/s]"
      ]
     },
     "metadata": {},
     "output_type": "display_data"
    },
    {
     "name": "stdout",
     "output_type": "stream",
     "text": [
      "[########################################] | 100% Completed | 105.67 ms\n"
     ]
    },
    {
     "data": {
      "application/vnd.jupyter.widget-view+json": {
       "model_id": "1f63b02a388d419dbeea2951b50e829b",
       "version_major": 2,
       "version_minor": 0
      },
      "text/plain": [
       "Absorption correction calculation: 0it [00:00, ?it/s]"
      ]
     },
     "metadata": {},
     "output_type": "display_data"
    },
    {
     "name": "stdout",
     "output_type": "stream",
     "text": [
      "[########################################] | 100% Completed | 114.85 ms\n"
     ]
    },
    {
     "data": {
      "application/vnd.jupyter.widget-view+json": {
       "model_id": "8915693243114e3d9c3b19a3f07e4fb7",
       "version_major": 2,
       "version_minor": 0
      },
      "text/plain": [
       "Absorption correction calculation: 0it [00:00, ?it/s]"
      ]
     },
     "metadata": {},
     "output_type": "display_data"
    },
    {
     "name": "stdout",
     "output_type": "stream",
     "text": [
      "[########################################] | 100% Completed | 113.79 ms\n"
     ]
    },
    {
     "data": {
      "application/vnd.jupyter.widget-view+json": {
       "model_id": "a19249fe469946098348f8653dadaa11",
       "version_major": 2,
       "version_minor": 0
      },
      "text/plain": [
       "Absorption correction calculation: 0it [00:00, ?it/s]"
      ]
     },
     "metadata": {},
     "output_type": "display_data"
    },
    {
     "name": "stdout",
     "output_type": "stream",
     "text": [
      "[########################################] | 100% Completed | 118.33 ms\n"
     ]
    },
    {
     "data": {
      "application/vnd.jupyter.widget-view+json": {
       "model_id": "20173a453f1e40e885dd3d0e1a53d7c2",
       "version_major": 2,
       "version_minor": 0
      },
      "text/plain": [
       "Absorption correction calculation: 0it [00:00, ?it/s]"
      ]
     },
     "metadata": {},
     "output_type": "display_data"
    },
    {
     "name": "stdout",
     "output_type": "stream",
     "text": [
      "[########################################] | 100% Completed | 120.81 ms\n"
     ]
    },
    {
     "data": {
      "application/vnd.jupyter.widget-view+json": {
       "model_id": "59dc35b8adb14389a51408bb25d6287a",
       "version_major": 2,
       "version_minor": 0
      },
      "text/plain": [
       "Absorption correction calculation: 0it [00:00, ?it/s]"
      ]
     },
     "metadata": {},
     "output_type": "display_data"
    },
    {
     "name": "stdout",
     "output_type": "stream",
     "text": [
      "[########################################] | 100% Completed | 118.31 ms\n"
     ]
    },
    {
     "data": {
      "application/vnd.jupyter.widget-view+json": {
       "model_id": "ad1719051c8b429fa9dd4db7135169d7",
       "version_major": 2,
       "version_minor": 0
      },
      "text/plain": [
       "Absorption correction calculation: 0it [00:00, ?it/s]"
      ]
     },
     "metadata": {},
     "output_type": "display_data"
    },
    {
     "name": "stdout",
     "output_type": "stream",
     "text": [
      "[########################################] | 100% Completed | 114.58 ms\n"
     ]
    },
    {
     "data": {
      "application/vnd.jupyter.widget-view+json": {
       "model_id": "73502f68d793481b94edfac786097885",
       "version_major": 2,
       "version_minor": 0
      },
      "text/plain": [
       "Absorption correction calculation: 0it [00:00, ?it/s]"
      ]
     },
     "metadata": {},
     "output_type": "display_data"
    },
    {
     "name": "stdout",
     "output_type": "stream",
     "text": [
      "[########################################] | 100% Completed | 119.48 ms\n"
     ]
    },
    {
     "data": {
      "application/vnd.jupyter.widget-view+json": {
       "model_id": "3ee13e1a227b4354b8fa60d7c067f16c",
       "version_major": 2,
       "version_minor": 0
      },
      "text/plain": [
       "Absorption correction calculation: 0it [00:00, ?it/s]"
      ]
     },
     "metadata": {},
     "output_type": "display_data"
    },
    {
     "name": "stdout",
     "output_type": "stream",
     "text": [
      "[########################################] | 100% Completed | 112.62 ms\n"
     ]
    },
    {
     "data": {
      "application/vnd.jupyter.widget-view+json": {
       "model_id": "5bb10f72ebcc4975999beed2397a0483",
       "version_major": 2,
       "version_minor": 0
      },
      "text/plain": [
       "Absorption correction calculation: 0it [00:00, ?it/s]"
      ]
     },
     "metadata": {},
     "output_type": "display_data"
    },
    {
     "name": "stdout",
     "output_type": "stream",
     "text": [
      "[########################################] | 100% Completed | 119.48 ms\n"
     ]
    },
    {
     "data": {
      "application/vnd.jupyter.widget-view+json": {
       "model_id": "294a98f296724ce98e291af98ddf3d59",
       "version_major": 2,
       "version_minor": 0
      },
      "text/plain": [
       "Absorption correction calculation: 0it [00:00, ?it/s]"
      ]
     },
     "metadata": {},
     "output_type": "display_data"
    },
    {
     "name": "stdout",
     "output_type": "stream",
     "text": [
      "[########################################] | 100% Completed | 121.40 ms\n"
     ]
    },
    {
     "data": {
      "application/vnd.jupyter.widget-view+json": {
       "model_id": "ac06773fa4d64232b1a00a7c0dd20a09",
       "version_major": 2,
       "version_minor": 0
      },
      "text/plain": [
       "Absorption correction calculation: 0it [00:00, ?it/s]"
      ]
     },
     "metadata": {},
     "output_type": "display_data"
    },
    {
     "name": "stdout",
     "output_type": "stream",
     "text": [
      "[########################################] | 100% Completed | 114.54 ms\n"
     ]
    },
    {
     "data": {
      "application/vnd.jupyter.widget-view+json": {
       "model_id": "ac3b3a02c4104d34a567984636f1654e",
       "version_major": 2,
       "version_minor": 0
      },
      "text/plain": [
       "Absorption correction calculation: 0it [00:00, ?it/s]"
      ]
     },
     "metadata": {},
     "output_type": "display_data"
    },
    {
     "name": "stdout",
     "output_type": "stream",
     "text": [
      "[########################################] | 100% Completed | 121.48 ms\n",
      "             File Group Element Line series  k-factor   Line  AZ %at  \\\n",
      "6  GaAs_30kV_25pA     A      As           K     4.191  As_Ka   42.03   \n",
      "7  GaAs_30kV_25pA     A      Ga           K     3.268  Ga_Ka   57.97   \n",
      "\n",
      "   HS %at s  HS %at s A  HS %at m  HS %at m A t=5e+01  HS %at m A t=1e+02  \\\n",
      "6         0       62.03         0               41.58               41.63   \n",
      "7         0       37.97         0               58.42               58.37   \n",
      "\n",
      "   HS %at m A t=2e+02  HS %at m A t=4e+02  HS %at m A t=1e+03  \\\n",
      "6               41.75               41.97               42.63   \n",
      "7               58.25               58.03               57.37   \n",
      "\n",
      "   HS %at m A t=1e+04  HS %at m A t=1e+05  \n",
      "6               49.93               61.36  \n",
      "7               50.07               38.64  \n"
     ]
    }
   ],
   "source": [
    "quant_as_TEM('GaAs_30kV_25pA',print_results=True)"
   ]
  },
  {
   "cell_type": "code",
   "execution_count": 21,
   "metadata": {},
   "outputs": [
    {
     "name": "stdout",
     "output_type": "stream",
     "text": [
      "[########################################] | 100% Completed | 110.14 ms\n",
      "[########################################] | 100% Completed | 106.92 ms\n",
      "[########################################] | 100% Completed | 105.15 ms\n",
      "             File Group Element Line series  k-factor   Line  AZ %at  \\\n",
      "6  GaAs_30kV_25pA     A      As           K     4.191  As_Ka   42.03   \n",
      "7  GaAs_30kV_25pA     A      Ga           K     3.268  Ga_Ka   57.97   \n",
      "\n",
      "   HS %at s  HS %at s A  HS %at m  HS %at m A t=5e+01  HS %at m A t=1e+02  \\\n",
      "6     42.54       62.03     41.52               41.58               41.63   \n",
      "7     57.46       37.97     58.48               58.42               58.37   \n",
      "\n",
      "   HS %at m A t=2e+02  HS %at m A t=4e+02  HS %at m A t=1e+03  \\\n",
      "6               41.75               41.97               42.63   \n",
      "7               58.25               58.03               57.37   \n",
      "\n",
      "   HS %at m A t=1e+04  HS %at m A t=1e+05  \n",
      "6               49.93               61.36  \n",
      "7               50.07               38.64  \n"
     ]
    }
   ],
   "source": [
    "quant_as_TEM('GaAs_30kV_25pA',print_results=True, a_corr=False)\n"
   ]
  },
  {
   "cell_type": "code",
   "execution_count": null,
   "metadata": {},
   "outputs": [],
   "source": [
    "quant_as_TEM('GaAs_30kV_25pA',print_results=True)\n",
    "quant_as_TEM('GaAs_30kV_25pA',print_results=True, a_corr=False)\n",
    "\n"
   ]
  },
  {
   "cell_type": "code",
   "execution_count": 22,
   "metadata": {},
   "outputs": [
    {
     "name": "stdout",
     "output_type": "stream",
     "text": [
      "GaAs_05kV_25pA\n"
     ]
    },
    {
     "data": {
      "application/vnd.jupyter.widget-view+json": {
       "model_id": "ed6f2225bf494bcbaf8f0e3ac3fe52b9",
       "version_major": 2,
       "version_minor": 0
      },
      "text/plain": [
       "Absorption correction calculation: 0it [00:00, ?it/s]"
      ]
     },
     "metadata": {},
     "output_type": "display_data"
    },
    {
     "name": "stdout",
     "output_type": "stream",
     "text": [
      "[########################################] | 100% Completed | 111.22 ms\n"
     ]
    },
    {
     "data": {
      "application/vnd.jupyter.widget-view+json": {
       "model_id": "30dfb534fe38464d9b7ac6e18aeccd67",
       "version_major": 2,
       "version_minor": 0
      },
      "text/plain": [
       "Absorption correction calculation: 0it [00:00, ?it/s]"
      ]
     },
     "metadata": {},
     "output_type": "display_data"
    },
    {
     "name": "stdout",
     "output_type": "stream",
     "text": [
      "[########################################] | 100% Completed | 109.78 ms\n"
     ]
    },
    {
     "data": {
      "application/vnd.jupyter.widget-view+json": {
       "model_id": "606659c382524ffa957ea2efb2e8c6c0",
       "version_major": 2,
       "version_minor": 0
      },
      "text/plain": [
       "Absorption correction calculation: 0it [00:00, ?it/s]"
      ]
     },
     "metadata": {},
     "output_type": "display_data"
    },
    {
     "name": "stdout",
     "output_type": "stream",
     "text": [
      "[########################################] | 100% Completed | 117.38 ms\n"
     ]
    },
    {
     "data": {
      "application/vnd.jupyter.widget-view+json": {
       "model_id": "453b4ad82a4840e6954da5d8ff4f1f3a",
       "version_major": 2,
       "version_minor": 0
      },
      "text/plain": [
       "Absorption correction calculation: 0it [00:00, ?it/s]"
      ]
     },
     "metadata": {},
     "output_type": "display_data"
    },
    {
     "name": "stdout",
     "output_type": "stream",
     "text": [
      "[########################################] | 100% Completed | 114.78 ms\n"
     ]
    },
    {
     "data": {
      "application/vnd.jupyter.widget-view+json": {
       "model_id": "6991f50731df46f29df2f7c693a89b43",
       "version_major": 2,
       "version_minor": 0
      },
      "text/plain": [
       "Absorption correction calculation: 0it [00:00, ?it/s]"
      ]
     },
     "metadata": {},
     "output_type": "display_data"
    },
    {
     "name": "stdout",
     "output_type": "stream",
     "text": [
      "[########################################] | 100% Completed | 116.81 ms\n"
     ]
    },
    {
     "data": {
      "application/vnd.jupyter.widget-view+json": {
       "model_id": "83da824de4db4c09a0ad482320879f37",
       "version_major": 2,
       "version_minor": 0
      },
      "text/plain": [
       "Absorption correction calculation: 0it [00:00, ?it/s]"
      ]
     },
     "metadata": {},
     "output_type": "display_data"
    },
    {
     "name": "stdout",
     "output_type": "stream",
     "text": [
      "[########################################] | 100% Completed | 117.88 ms\n"
     ]
    },
    {
     "data": {
      "application/vnd.jupyter.widget-view+json": {
       "model_id": "71821bcf0715406cab82dd9669d2125f",
       "version_major": 2,
       "version_minor": 0
      },
      "text/plain": [
       "Absorption correction calculation: 0it [00:00, ?it/s]"
      ]
     },
     "metadata": {},
     "output_type": "display_data"
    },
    {
     "name": "stdout",
     "output_type": "stream",
     "text": [
      "[########################################] | 100% Completed | 110.96 ms\n"
     ]
    },
    {
     "data": {
      "application/vnd.jupyter.widget-view+json": {
       "model_id": "d39cebacb4434382b72bef252ed22be3",
       "version_major": 2,
       "version_minor": 0
      },
      "text/plain": [
       "Absorption correction calculation: 0it [00:00, ?it/s]"
      ]
     },
     "metadata": {},
     "output_type": "display_data"
    },
    {
     "name": "stdout",
     "output_type": "stream",
     "text": [
      "[########################################] | 100% Completed | 119.20 ms\n"
     ]
    },
    {
     "data": {
      "application/vnd.jupyter.widget-view+json": {
       "model_id": "54a65507e29d4676a287dd5eb119a765",
       "version_major": 2,
       "version_minor": 0
      },
      "text/plain": [
       "Absorption correction calculation: 0it [00:00, ?it/s]"
      ]
     },
     "metadata": {},
     "output_type": "display_data"
    },
    {
     "name": "stdout",
     "output_type": "stream",
     "text": [
      "[########################################] | 100% Completed | 116.28 ms\n"
     ]
    },
    {
     "data": {
      "application/vnd.jupyter.widget-view+json": {
       "model_id": "1d7abf8afd254b79a071fb88c300d672",
       "version_major": 2,
       "version_minor": 0
      },
      "text/plain": [
       "Absorption correction calculation: 0it [00:00, ?it/s]"
      ]
     },
     "metadata": {},
     "output_type": "display_data"
    },
    {
     "name": "stdout",
     "output_type": "stream",
     "text": [
      "[########################################] | 100% Completed | 112.04 ms\n"
     ]
    },
    {
     "data": {
      "application/vnd.jupyter.widget-view+json": {
       "model_id": "c01363f8fa42427e991b256c4448c48a",
       "version_major": 2,
       "version_minor": 0
      },
      "text/plain": [
       "Absorption correction calculation: 0it [00:00, ?it/s]"
      ]
     },
     "metadata": {},
     "output_type": "display_data"
    },
    {
     "name": "stdout",
     "output_type": "stream",
     "text": [
      "[########################################] | 100% Completed | 118.37 ms\n"
     ]
    },
    {
     "data": {
      "application/vnd.jupyter.widget-view+json": {
       "model_id": "ec7b7bbd01f845b2be2ba5581cc983be",
       "version_major": 2,
       "version_minor": 0
      },
      "text/plain": [
       "Absorption correction calculation: 0it [00:00, ?it/s]"
      ]
     },
     "metadata": {},
     "output_type": "display_data"
    },
    {
     "name": "stdout",
     "output_type": "stream",
     "text": [
      "[########################################] | 100% Completed | 117.18 ms\n"
     ]
    },
    {
     "data": {
      "application/vnd.jupyter.widget-view+json": {
       "model_id": "b376cb97d04344a79cf7b2e2b1908f50",
       "version_major": 2,
       "version_minor": 0
      },
      "text/plain": [
       "Absorption correction calculation: 0it [00:00, ?it/s]"
      ]
     },
     "metadata": {},
     "output_type": "display_data"
    },
    {
     "name": "stdout",
     "output_type": "stream",
     "text": [
      "[########################################] | 100% Completed | 114.19 ms\n"
     ]
    },
    {
     "data": {
      "application/vnd.jupyter.widget-view+json": {
       "model_id": "b000970fda0540e999166fae225aec58",
       "version_major": 2,
       "version_minor": 0
      },
      "text/plain": [
       "Absorption correction calculation: 0it [00:00, ?it/s]"
      ]
     },
     "metadata": {},
     "output_type": "display_data"
    },
    {
     "name": "stdout",
     "output_type": "stream",
     "text": [
      "[########################################] | 100% Completed | 116.00 ms\n"
     ]
    },
    {
     "data": {
      "application/vnd.jupyter.widget-view+json": {
       "model_id": "2173c6a3272346969c9172bae6a48b9d",
       "version_major": 2,
       "version_minor": 0
      },
      "text/plain": [
       "Absorption correction calculation: 0it [00:00, ?it/s]"
      ]
     },
     "metadata": {},
     "output_type": "display_data"
    },
    {
     "name": "stdout",
     "output_type": "stream",
     "text": [
      "[########################################] | 100% Completed | 111.26 ms\n",
      "GaAs_10kV_25pA\n"
     ]
    },
    {
     "data": {
      "application/vnd.jupyter.widget-view+json": {
       "model_id": "3d0d2b1f18014b23926a110293f9267d",
       "version_major": 2,
       "version_minor": 0
      },
      "text/plain": [
       "Absorption correction calculation: 0it [00:00, ?it/s]"
      ]
     },
     "metadata": {},
     "output_type": "display_data"
    },
    {
     "name": "stdout",
     "output_type": "stream",
     "text": [
      "[########################################] | 100% Completed | 113.25 ms\n"
     ]
    },
    {
     "data": {
      "application/vnd.jupyter.widget-view+json": {
       "model_id": "b99377485c4d46ccb872c0e4679eb914",
       "version_major": 2,
       "version_minor": 0
      },
      "text/plain": [
       "Absorption correction calculation: 0it [00:00, ?it/s]"
      ]
     },
     "metadata": {},
     "output_type": "display_data"
    },
    {
     "name": "stdout",
     "output_type": "stream",
     "text": [
      "[########################################] | 100% Completed | 108.96 ms\n"
     ]
    },
    {
     "data": {
      "application/vnd.jupyter.widget-view+json": {
       "model_id": "f4ed04deff1b431ba54dd497acb127fa",
       "version_major": 2,
       "version_minor": 0
      },
      "text/plain": [
       "Absorption correction calculation: 0it [00:00, ?it/s]"
      ]
     },
     "metadata": {},
     "output_type": "display_data"
    },
    {
     "name": "stdout",
     "output_type": "stream",
     "text": [
      "[########################################] | 100% Completed | 115.97 ms\n"
     ]
    },
    {
     "data": {
      "application/vnd.jupyter.widget-view+json": {
       "model_id": "0ffd4016b2c64341b0fb327de9742e98",
       "version_major": 2,
       "version_minor": 0
      },
      "text/plain": [
       "Absorption correction calculation: 0it [00:00, ?it/s]"
      ]
     },
     "metadata": {},
     "output_type": "display_data"
    },
    {
     "name": "stdout",
     "output_type": "stream",
     "text": [
      "[########################################] | 100% Completed | 118.78 ms\n"
     ]
    },
    {
     "data": {
      "application/vnd.jupyter.widget-view+json": {
       "model_id": "fa94f122549f4af184714aa1381f22af",
       "version_major": 2,
       "version_minor": 0
      },
      "text/plain": [
       "Absorption correction calculation: 0it [00:00, ?it/s]"
      ]
     },
     "metadata": {},
     "output_type": "display_data"
    },
    {
     "name": "stdout",
     "output_type": "stream",
     "text": [
      "[########################################] | 100% Completed | 108.09 ms\n"
     ]
    },
    {
     "data": {
      "application/vnd.jupyter.widget-view+json": {
       "model_id": "0f01db6dca1647ea91eee79c298db879",
       "version_major": 2,
       "version_minor": 0
      },
      "text/plain": [
       "Absorption correction calculation: 0it [00:00, ?it/s]"
      ]
     },
     "metadata": {},
     "output_type": "display_data"
    },
    {
     "name": "stdout",
     "output_type": "stream",
     "text": [
      "[########################################] | 100% Completed | 114.70 ms\n"
     ]
    },
    {
     "data": {
      "application/vnd.jupyter.widget-view+json": {
       "model_id": "b25a6502f1a145bf98d733ccc282f53b",
       "version_major": 2,
       "version_minor": 0
      },
      "text/plain": [
       "Absorption correction calculation: 0it [00:00, ?it/s]"
      ]
     },
     "metadata": {},
     "output_type": "display_data"
    },
    {
     "name": "stdout",
     "output_type": "stream",
     "text": [
      "[########################################] | 100% Completed | 110.83 ms\n"
     ]
    },
    {
     "data": {
      "application/vnd.jupyter.widget-view+json": {
       "model_id": "465d9523fead432baef19bd7e55999c8",
       "version_major": 2,
       "version_minor": 0
      },
      "text/plain": [
       "Absorption correction calculation: 0it [00:00, ?it/s]"
      ]
     },
     "metadata": {},
     "output_type": "display_data"
    },
    {
     "name": "stdout",
     "output_type": "stream",
     "text": [
      "[########################################] | 100% Completed | 116.98 ms\n"
     ]
    },
    {
     "data": {
      "application/vnd.jupyter.widget-view+json": {
       "model_id": "5dac775a952945e18b112bf19fbf6845",
       "version_major": 2,
       "version_minor": 0
      },
      "text/plain": [
       "Absorption correction calculation: 0it [00:00, ?it/s]"
      ]
     },
     "metadata": {},
     "output_type": "display_data"
    },
    {
     "name": "stdout",
     "output_type": "stream",
     "text": [
      "[########################################] | 100% Completed | 105.71 ms\n"
     ]
    },
    {
     "data": {
      "application/vnd.jupyter.widget-view+json": {
       "model_id": "2f227713e1b24ad8be8f0cd86cf4a3b5",
       "version_major": 2,
       "version_minor": 0
      },
      "text/plain": [
       "Absorption correction calculation: 0it [00:00, ?it/s]"
      ]
     },
     "metadata": {},
     "output_type": "display_data"
    },
    {
     "name": "stdout",
     "output_type": "stream",
     "text": [
      "[########################################] | 100% Completed | 113.49 ms\n"
     ]
    },
    {
     "data": {
      "application/vnd.jupyter.widget-view+json": {
       "model_id": "6ed5aad9516c4b34b3eed98557563652",
       "version_major": 2,
       "version_minor": 0
      },
      "text/plain": [
       "Absorption correction calculation: 0it [00:00, ?it/s]"
      ]
     },
     "metadata": {},
     "output_type": "display_data"
    },
    {
     "name": "stdout",
     "output_type": "stream",
     "text": [
      "[########################################] | 100% Completed | 109.09 ms\n"
     ]
    },
    {
     "data": {
      "application/vnd.jupyter.widget-view+json": {
       "model_id": "d255ac7598a34386a91062bad5b02e87",
       "version_major": 2,
       "version_minor": 0
      },
      "text/plain": [
       "Absorption correction calculation: 0it [00:00, ?it/s]"
      ]
     },
     "metadata": {},
     "output_type": "display_data"
    },
    {
     "name": "stdout",
     "output_type": "stream",
     "text": [
      "[########################################] | 100% Completed | 111.10 ms\n"
     ]
    },
    {
     "data": {
      "application/vnd.jupyter.widget-view+json": {
       "model_id": "ab84dcc5186d4dd3a09374eafb8de91b",
       "version_major": 2,
       "version_minor": 0
      },
      "text/plain": [
       "Absorption correction calculation: 0it [00:00, ?it/s]"
      ]
     },
     "metadata": {},
     "output_type": "display_data"
    },
    {
     "name": "stdout",
     "output_type": "stream",
     "text": [
      "[########################################] | 100% Completed | 107.26 ms\n"
     ]
    },
    {
     "data": {
      "application/vnd.jupyter.widget-view+json": {
       "model_id": "70e96a0c2c2341b29e1a8256226572d1",
       "version_major": 2,
       "version_minor": 0
      },
      "text/plain": [
       "Absorption correction calculation: 0it [00:00, ?it/s]"
      ]
     },
     "metadata": {},
     "output_type": "display_data"
    },
    {
     "name": "stdout",
     "output_type": "stream",
     "text": [
      "[########################################] | 100% Completed | 124.17 ms\n"
     ]
    },
    {
     "data": {
      "application/vnd.jupyter.widget-view+json": {
       "model_id": "98da35af498441769109f43ce1a8752c",
       "version_major": 2,
       "version_minor": 0
      },
      "text/plain": [
       "Absorption correction calculation: 0it [00:00, ?it/s]"
      ]
     },
     "metadata": {},
     "output_type": "display_data"
    },
    {
     "name": "stdout",
     "output_type": "stream",
     "text": [
      "[########################################] | 100% Completed | 113.68 ms\n",
      "GaAs_15kV_25pA\n"
     ]
    },
    {
     "data": {
      "application/vnd.jupyter.widget-view+json": {
       "model_id": "d71cf671bb6a4d679edbc2185c6127c6",
       "version_major": 2,
       "version_minor": 0
      },
      "text/plain": [
       "Absorption correction calculation: 0it [00:00, ?it/s]"
      ]
     },
     "metadata": {},
     "output_type": "display_data"
    },
    {
     "name": "stdout",
     "output_type": "stream",
     "text": [
      "[########################################] | 100% Completed | 107.09 ms\n"
     ]
    },
    {
     "data": {
      "application/vnd.jupyter.widget-view+json": {
       "model_id": "e968d57ea5be46a88ea74898e2e9893e",
       "version_major": 2,
       "version_minor": 0
      },
      "text/plain": [
       "Absorption correction calculation: 0it [00:00, ?it/s]"
      ]
     },
     "metadata": {},
     "output_type": "display_data"
    },
    {
     "name": "stdout",
     "output_type": "stream",
     "text": [
      "[########################################] | 100% Completed | 105.91 ms\n"
     ]
    },
    {
     "data": {
      "application/vnd.jupyter.widget-view+json": {
       "model_id": "213b7465a3e54289b9518e8a12ad12b8",
       "version_major": 2,
       "version_minor": 0
      },
      "text/plain": [
       "Absorption correction calculation: 0it [00:00, ?it/s]"
      ]
     },
     "metadata": {},
     "output_type": "display_data"
    },
    {
     "name": "stdout",
     "output_type": "stream",
     "text": [
      "[########################################] | 100% Completed | 112.30 ms\n"
     ]
    },
    {
     "data": {
      "application/vnd.jupyter.widget-view+json": {
       "model_id": "ba5cb9924124466ab24918c64519ba9c",
       "version_major": 2,
       "version_minor": 0
      },
      "text/plain": [
       "Absorption correction calculation: 0it [00:00, ?it/s]"
      ]
     },
     "metadata": {},
     "output_type": "display_data"
    },
    {
     "name": "stdout",
     "output_type": "stream",
     "text": [
      "[########################################] | 100% Completed | 112.62 ms\n"
     ]
    },
    {
     "data": {
      "application/vnd.jupyter.widget-view+json": {
       "model_id": "8c5b5d553b694dc78965e6d85b3fe906",
       "version_major": 2,
       "version_minor": 0
      },
      "text/plain": [
       "Absorption correction calculation: 0it [00:00, ?it/s]"
      ]
     },
     "metadata": {},
     "output_type": "display_data"
    },
    {
     "name": "stdout",
     "output_type": "stream",
     "text": [
      "[########################################] | 100% Completed | 112.18 ms\n"
     ]
    },
    {
     "data": {
      "application/vnd.jupyter.widget-view+json": {
       "model_id": "fad54c0c104142fc91825232b39e034c",
       "version_major": 2,
       "version_minor": 0
      },
      "text/plain": [
       "Absorption correction calculation: 0it [00:00, ?it/s]"
      ]
     },
     "metadata": {},
     "output_type": "display_data"
    },
    {
     "name": "stdout",
     "output_type": "stream",
     "text": [
      "[########################################] | 100% Completed | 109.39 ms\n"
     ]
    },
    {
     "data": {
      "application/vnd.jupyter.widget-view+json": {
       "model_id": "11544cf3487c44f5a9e2922dc8611343",
       "version_major": 2,
       "version_minor": 0
      },
      "text/plain": [
       "Absorption correction calculation: 0it [00:00, ?it/s]"
      ]
     },
     "metadata": {},
     "output_type": "display_data"
    },
    {
     "name": "stdout",
     "output_type": "stream",
     "text": [
      "[########################################] | 100% Completed | 122.72 ms\n"
     ]
    },
    {
     "data": {
      "application/vnd.jupyter.widget-view+json": {
       "model_id": "4cc52a10489340fba784010eba218987",
       "version_major": 2,
       "version_minor": 0
      },
      "text/plain": [
       "Absorption correction calculation: 0it [00:00, ?it/s]"
      ]
     },
     "metadata": {},
     "output_type": "display_data"
    },
    {
     "name": "stdout",
     "output_type": "stream",
     "text": [
      "[########################################] | 100% Completed | 112.16 ms\n"
     ]
    },
    {
     "data": {
      "application/vnd.jupyter.widget-view+json": {
       "model_id": "00cf2f0793ed4aad86961769d81e1c5a",
       "version_major": 2,
       "version_minor": 0
      },
      "text/plain": [
       "Absorption correction calculation: 0it [00:00, ?it/s]"
      ]
     },
     "metadata": {},
     "output_type": "display_data"
    },
    {
     "name": "stdout",
     "output_type": "stream",
     "text": [
      "[########################################] | 100% Completed | 118.43 ms\n"
     ]
    },
    {
     "data": {
      "application/vnd.jupyter.widget-view+json": {
       "model_id": "d28f4a2e52bf4ad7a7a9d2409cc21436",
       "version_major": 2,
       "version_minor": 0
      },
      "text/plain": [
       "Absorption correction calculation: 0it [00:00, ?it/s]"
      ]
     },
     "metadata": {},
     "output_type": "display_data"
    },
    {
     "name": "stdout",
     "output_type": "stream",
     "text": [
      "[########################################] | 100% Completed | 113.23 ms\n"
     ]
    },
    {
     "data": {
      "application/vnd.jupyter.widget-view+json": {
       "model_id": "1f003d53a7f04501928f3666417dec34",
       "version_major": 2,
       "version_minor": 0
      },
      "text/plain": [
       "Absorption correction calculation: 0it [00:00, ?it/s]"
      ]
     },
     "metadata": {},
     "output_type": "display_data"
    },
    {
     "name": "stdout",
     "output_type": "stream",
     "text": [
      "[########################################] | 100% Completed | 123.81 ms\n"
     ]
    },
    {
     "data": {
      "application/vnd.jupyter.widget-view+json": {
       "model_id": "e4c8c1af73474840b5b51ee0439be75d",
       "version_major": 2,
       "version_minor": 0
      },
      "text/plain": [
       "Absorption correction calculation: 0it [00:00, ?it/s]"
      ]
     },
     "metadata": {},
     "output_type": "display_data"
    },
    {
     "name": "stdout",
     "output_type": "stream",
     "text": [
      "[########################################] | 100% Completed | 109.41 ms\n"
     ]
    },
    {
     "data": {
      "application/vnd.jupyter.widget-view+json": {
       "model_id": "a739b85d0f144333af8f8f52fdb1d479",
       "version_major": 2,
       "version_minor": 0
      },
      "text/plain": [
       "Absorption correction calculation: 0it [00:00, ?it/s]"
      ]
     },
     "metadata": {},
     "output_type": "display_data"
    },
    {
     "name": "stdout",
     "output_type": "stream",
     "text": [
      "[########################################] | 100% Completed | 105.47 ms\n"
     ]
    },
    {
     "data": {
      "application/vnd.jupyter.widget-view+json": {
       "model_id": "b3ffb5994224430390805114e9f0ff38",
       "version_major": 2,
       "version_minor": 0
      },
      "text/plain": [
       "Absorption correction calculation: 0it [00:00, ?it/s]"
      ]
     },
     "metadata": {},
     "output_type": "display_data"
    },
    {
     "name": "stdout",
     "output_type": "stream",
     "text": [
      "[########################################] | 100% Completed | 115.94 ms\n"
     ]
    },
    {
     "data": {
      "application/vnd.jupyter.widget-view+json": {
       "model_id": "ea3dac34ab834d978bc0bd54e6d412bc",
       "version_major": 2,
       "version_minor": 0
      },
      "text/plain": [
       "Absorption correction calculation: 0it [00:00, ?it/s]"
      ]
     },
     "metadata": {},
     "output_type": "display_data"
    },
    {
     "name": "stdout",
     "output_type": "stream",
     "text": [
      "[########################################] | 100% Completed | 114.18 ms\n",
      "GaAs_30kV_25pA\n"
     ]
    },
    {
     "data": {
      "application/vnd.jupyter.widget-view+json": {
       "model_id": "606feb0f2b534c7186ca549d19a07f61",
       "version_major": 2,
       "version_minor": 0
      },
      "text/plain": [
       "Absorption correction calculation: 0it [00:00, ?it/s]"
      ]
     },
     "metadata": {},
     "output_type": "display_data"
    },
    {
     "name": "stdout",
     "output_type": "stream",
     "text": [
      "[########################################] | 100% Completed | 111.21 ms\n"
     ]
    },
    {
     "data": {
      "application/vnd.jupyter.widget-view+json": {
       "model_id": "5a68d24dd3f2493aa6d56cab33671d67",
       "version_major": 2,
       "version_minor": 0
      },
      "text/plain": [
       "Absorption correction calculation: 0it [00:00, ?it/s]"
      ]
     },
     "metadata": {},
     "output_type": "display_data"
    },
    {
     "name": "stdout",
     "output_type": "stream",
     "text": [
      "[########################################] | 100% Completed | 133.37 ms\n"
     ]
    },
    {
     "data": {
      "application/vnd.jupyter.widget-view+json": {
       "model_id": "cb0ffe3eeeb14c7fa788d539f1d15504",
       "version_major": 2,
       "version_minor": 0
      },
      "text/plain": [
       "Absorption correction calculation: 0it [00:00, ?it/s]"
      ]
     },
     "metadata": {},
     "output_type": "display_data"
    },
    {
     "name": "stdout",
     "output_type": "stream",
     "text": [
      "[########################################] | 100% Completed | 107.87 ms\n"
     ]
    },
    {
     "data": {
      "application/vnd.jupyter.widget-view+json": {
       "model_id": "aff86dbac9574ffc86fb8087b4d7f8f0",
       "version_major": 2,
       "version_minor": 0
      },
      "text/plain": [
       "Absorption correction calculation: 0it [00:00, ?it/s]"
      ]
     },
     "metadata": {},
     "output_type": "display_data"
    },
    {
     "name": "stdout",
     "output_type": "stream",
     "text": [
      "[########################################] | 100% Completed | 114.29 ms\n"
     ]
    },
    {
     "data": {
      "application/vnd.jupyter.widget-view+json": {
       "model_id": "c5debb7696274b80871e8c65776bdb80",
       "version_major": 2,
       "version_minor": 0
      },
      "text/plain": [
       "Absorption correction calculation: 0it [00:00, ?it/s]"
      ]
     },
     "metadata": {},
     "output_type": "display_data"
    },
    {
     "name": "stdout",
     "output_type": "stream",
     "text": [
      "[########################################] | 100% Completed | 110.80 ms\n"
     ]
    },
    {
     "data": {
      "application/vnd.jupyter.widget-view+json": {
       "model_id": "df24f6e037154724b8a66f474a46fe5f",
       "version_major": 2,
       "version_minor": 0
      },
      "text/plain": [
       "Absorption correction calculation: 0it [00:00, ?it/s]"
      ]
     },
     "metadata": {},
     "output_type": "display_data"
    },
    {
     "name": "stdout",
     "output_type": "stream",
     "text": [
      "[########################################] | 100% Completed | 119.93 ms\n"
     ]
    },
    {
     "data": {
      "application/vnd.jupyter.widget-view+json": {
       "model_id": "790cede3a49f4fffb884e3104ff3e7ac",
       "version_major": 2,
       "version_minor": 0
      },
      "text/plain": [
       "Absorption correction calculation: 0it [00:00, ?it/s]"
      ]
     },
     "metadata": {},
     "output_type": "display_data"
    },
    {
     "name": "stdout",
     "output_type": "stream",
     "text": [
      "[########################################] | 100% Completed | 110.59 ms\n"
     ]
    },
    {
     "data": {
      "application/vnd.jupyter.widget-view+json": {
       "model_id": "dbf9f436d0b34eafad0e78ef273edd86",
       "version_major": 2,
       "version_minor": 0
      },
      "text/plain": [
       "Absorption correction calculation: 0it [00:00, ?it/s]"
      ]
     },
     "metadata": {},
     "output_type": "display_data"
    },
    {
     "name": "stdout",
     "output_type": "stream",
     "text": [
      "[########################################] | 100% Completed | 118.29 ms\n"
     ]
    },
    {
     "data": {
      "application/vnd.jupyter.widget-view+json": {
       "model_id": "23093206197c414ba6da894a19a07046",
       "version_major": 2,
       "version_minor": 0
      },
      "text/plain": [
       "Absorption correction calculation: 0it [00:00, ?it/s]"
      ]
     },
     "metadata": {},
     "output_type": "display_data"
    },
    {
     "name": "stdout",
     "output_type": "stream",
     "text": [
      "[########################################] | 100% Completed | 115.37 ms\n"
     ]
    },
    {
     "data": {
      "application/vnd.jupyter.widget-view+json": {
       "model_id": "9bbdee1f7788471dabc7eb8119cc9d31",
       "version_major": 2,
       "version_minor": 0
      },
      "text/plain": [
       "Absorption correction calculation: 0it [00:00, ?it/s]"
      ]
     },
     "metadata": {},
     "output_type": "display_data"
    },
    {
     "name": "stdout",
     "output_type": "stream",
     "text": [
      "[########################################] | 100% Completed | 114.33 ms\n"
     ]
    },
    {
     "data": {
      "application/vnd.jupyter.widget-view+json": {
       "model_id": "536383af8a9141d8a772a9f7b7536d5e",
       "version_major": 2,
       "version_minor": 0
      },
      "text/plain": [
       "Absorption correction calculation: 0it [00:00, ?it/s]"
      ]
     },
     "metadata": {},
     "output_type": "display_data"
    },
    {
     "name": "stdout",
     "output_type": "stream",
     "text": [
      "[########################################] | 100% Completed | 109.06 ms\n"
     ]
    },
    {
     "data": {
      "application/vnd.jupyter.widget-view+json": {
       "model_id": "cea856bf48c640d5a9421332f9683f66",
       "version_major": 2,
       "version_minor": 0
      },
      "text/plain": [
       "Absorption correction calculation: 0it [00:00, ?it/s]"
      ]
     },
     "metadata": {},
     "output_type": "display_data"
    },
    {
     "name": "stdout",
     "output_type": "stream",
     "text": [
      "[########################################] | 100% Completed | 114.85 ms\n"
     ]
    },
    {
     "data": {
      "application/vnd.jupyter.widget-view+json": {
       "model_id": "1aa56aaf0d644e9caa1bc15fa0a0401c",
       "version_major": 2,
       "version_minor": 0
      },
      "text/plain": [
       "Absorption correction calculation: 0it [00:00, ?it/s]"
      ]
     },
     "metadata": {},
     "output_type": "display_data"
    },
    {
     "name": "stdout",
     "output_type": "stream",
     "text": [
      "[########################################] | 100% Completed | 110.29 ms\n"
     ]
    },
    {
     "data": {
      "application/vnd.jupyter.widget-view+json": {
       "model_id": "cf03915cb65c474e8add736d41e5f770",
       "version_major": 2,
       "version_minor": 0
      },
      "text/plain": [
       "Absorption correction calculation: 0it [00:00, ?it/s]"
      ]
     },
     "metadata": {},
     "output_type": "display_data"
    },
    {
     "name": "stdout",
     "output_type": "stream",
     "text": [
      "[########################################] | 100% Completed | 123.19 ms\n"
     ]
    },
    {
     "data": {
      "application/vnd.jupyter.widget-view+json": {
       "model_id": "982301f089ec44b19065b60a39d7bc1e",
       "version_major": 2,
       "version_minor": 0
      },
      "text/plain": [
       "Absorption correction calculation: 0it [00:00, ?it/s]"
      ]
     },
     "metadata": {},
     "output_type": "display_data"
    },
    {
     "name": "stdout",
     "output_type": "stream",
     "text": [
      "[########################################] | 100% Completed | 115.17 ms\n",
      "GaAs_30kV_50pA\n"
     ]
    },
    {
     "data": {
      "application/vnd.jupyter.widget-view+json": {
       "model_id": "68c35f1eee014ca9b5aebb492cc842f9",
       "version_major": 2,
       "version_minor": 0
      },
      "text/plain": [
       "Absorption correction calculation: 0it [00:00, ?it/s]"
      ]
     },
     "metadata": {},
     "output_type": "display_data"
    },
    {
     "name": "stdout",
     "output_type": "stream",
     "text": [
      "[########################################] | 100% Completed | 120.78 ms\n"
     ]
    },
    {
     "data": {
      "application/vnd.jupyter.widget-view+json": {
       "model_id": "e19d2237d407449fab8982274e521736",
       "version_major": 2,
       "version_minor": 0
      },
      "text/plain": [
       "Absorption correction calculation: 0it [00:00, ?it/s]"
      ]
     },
     "metadata": {},
     "output_type": "display_data"
    },
    {
     "name": "stdout",
     "output_type": "stream",
     "text": [
      "[########################################] | 100% Completed | 114.06 ms\n"
     ]
    },
    {
     "data": {
      "application/vnd.jupyter.widget-view+json": {
       "model_id": "14be20e7be4c44ae95be52a1e004010b",
       "version_major": 2,
       "version_minor": 0
      },
      "text/plain": [
       "Absorption correction calculation: 0it [00:00, ?it/s]"
      ]
     },
     "metadata": {},
     "output_type": "display_data"
    },
    {
     "name": "stdout",
     "output_type": "stream",
     "text": [
      "[########################################] | 100% Completed | 110.76 ms\n"
     ]
    },
    {
     "data": {
      "application/vnd.jupyter.widget-view+json": {
       "model_id": "ecaa5de6c61d4946be8f3760dfd045bb",
       "version_major": 2,
       "version_minor": 0
      },
      "text/plain": [
       "Absorption correction calculation: 0it [00:00, ?it/s]"
      ]
     },
     "metadata": {},
     "output_type": "display_data"
    },
    {
     "name": "stdout",
     "output_type": "stream",
     "text": [
      "[########################################] | 100% Completed | 117.40 ms\n"
     ]
    },
    {
     "data": {
      "application/vnd.jupyter.widget-view+json": {
       "model_id": "46f2c8c3e7fa421ba9fe5e1245f87ad8",
       "version_major": 2,
       "version_minor": 0
      },
      "text/plain": [
       "Absorption correction calculation: 0it [00:00, ?it/s]"
      ]
     },
     "metadata": {},
     "output_type": "display_data"
    },
    {
     "name": "stdout",
     "output_type": "stream",
     "text": [
      "[########################################] | 100% Completed | 115.46 ms\n"
     ]
    },
    {
     "data": {
      "application/vnd.jupyter.widget-view+json": {
       "model_id": "ff8a87e772b44a9d81abb0ba04a69f00",
       "version_major": 2,
       "version_minor": 0
      },
      "text/plain": [
       "Absorption correction calculation: 0it [00:00, ?it/s]"
      ]
     },
     "metadata": {},
     "output_type": "display_data"
    },
    {
     "name": "stdout",
     "output_type": "stream",
     "text": [
      "[########################################] | 100% Completed | 111.04 ms\n"
     ]
    },
    {
     "data": {
      "application/vnd.jupyter.widget-view+json": {
       "model_id": "ffb7108ea534453a93ef58fdcb95cd77",
       "version_major": 2,
       "version_minor": 0
      },
      "text/plain": [
       "Absorption correction calculation: 0it [00:00, ?it/s]"
      ]
     },
     "metadata": {},
     "output_type": "display_data"
    },
    {
     "name": "stdout",
     "output_type": "stream",
     "text": [
      "[########################################] | 100% Completed | 106.56 ms\n"
     ]
    },
    {
     "data": {
      "application/vnd.jupyter.widget-view+json": {
       "model_id": "da7ce83059054910a5d3f261bbf2efc1",
       "version_major": 2,
       "version_minor": 0
      },
      "text/plain": [
       "Absorption correction calculation: 0it [00:00, ?it/s]"
      ]
     },
     "metadata": {},
     "output_type": "display_data"
    },
    {
     "name": "stdout",
     "output_type": "stream",
     "text": [
      "[########################################] | 100% Completed | 121.07 ms\n"
     ]
    },
    {
     "data": {
      "application/vnd.jupyter.widget-view+json": {
       "model_id": "87eb7dd76cea422287fa0398e7780460",
       "version_major": 2,
       "version_minor": 0
      },
      "text/plain": [
       "Absorption correction calculation: 0it [00:00, ?it/s]"
      ]
     },
     "metadata": {},
     "output_type": "display_data"
    },
    {
     "name": "stdout",
     "output_type": "stream",
     "text": [
      "[########################################] | 100% Completed | 108.79 ms\n"
     ]
    },
    {
     "data": {
      "application/vnd.jupyter.widget-view+json": {
       "model_id": "5cbcc2cfed9d4c76b9be7b43554aac69",
       "version_major": 2,
       "version_minor": 0
      },
      "text/plain": [
       "Absorption correction calculation: 0it [00:00, ?it/s]"
      ]
     },
     "metadata": {},
     "output_type": "display_data"
    },
    {
     "name": "stdout",
     "output_type": "stream",
     "text": [
      "[########################################] | 100% Completed | 112.55 ms\n"
     ]
    },
    {
     "data": {
      "application/vnd.jupyter.widget-view+json": {
       "model_id": "bb3e1cc3a17249a684b0d0701c0fcea2",
       "version_major": 2,
       "version_minor": 0
      },
      "text/plain": [
       "Absorption correction calculation: 0it [00:00, ?it/s]"
      ]
     },
     "metadata": {},
     "output_type": "display_data"
    },
    {
     "name": "stdout",
     "output_type": "stream",
     "text": [
      "[########################################] | 100% Completed | 109.32 ms\n"
     ]
    },
    {
     "data": {
      "application/vnd.jupyter.widget-view+json": {
       "model_id": "631fd337c8a741b080b2ee5a06a86fe1",
       "version_major": 2,
       "version_minor": 0
      },
      "text/plain": [
       "Absorption correction calculation: 0it [00:00, ?it/s]"
      ]
     },
     "metadata": {},
     "output_type": "display_data"
    },
    {
     "name": "stdout",
     "output_type": "stream",
     "text": [
      "[########################################] | 100% Completed | 115.50 ms\n"
     ]
    },
    {
     "data": {
      "application/vnd.jupyter.widget-view+json": {
       "model_id": "302a89d1632a4d5a96b3b3e2f7b09144",
       "version_major": 2,
       "version_minor": 0
      },
      "text/plain": [
       "Absorption correction calculation: 0it [00:00, ?it/s]"
      ]
     },
     "metadata": {},
     "output_type": "display_data"
    },
    {
     "name": "stdout",
     "output_type": "stream",
     "text": [
      "[########################################] | 100% Completed | 113.40 ms\n"
     ]
    },
    {
     "data": {
      "application/vnd.jupyter.widget-view+json": {
       "model_id": "140f84ef75914974ab4c33ad1e2ed591",
       "version_major": 2,
       "version_minor": 0
      },
      "text/plain": [
       "Absorption correction calculation: 0it [00:00, ?it/s]"
      ]
     },
     "metadata": {},
     "output_type": "display_data"
    },
    {
     "name": "stdout",
     "output_type": "stream",
     "text": [
      "[########################################] | 100% Completed | 112.09 ms\n"
     ]
    },
    {
     "data": {
      "application/vnd.jupyter.widget-view+json": {
       "model_id": "fa0c5f3e71364852812451acdad2f28c",
       "version_major": 2,
       "version_minor": 0
      },
      "text/plain": [
       "Absorption correction calculation: 0it [00:00, ?it/s]"
      ]
     },
     "metadata": {},
     "output_type": "display_data"
    },
    {
     "name": "stdout",
     "output_type": "stream",
     "text": [
      "[########################################] | 100% Completed | 107.69 ms\n",
      "GaSb_05kV_50pA\n",
      "Ga_La not found in m, quantification with model not possible\n",
      "Sb_Mz not found in m, quantification with model not possible\n"
     ]
    },
    {
     "data": {
      "application/vnd.jupyter.widget-view+json": {
       "model_id": "6000e82177e34575880a9380e7e2ad18",
       "version_major": 2,
       "version_minor": 0
      },
      "text/plain": [
       "Absorption correction calculation: 0it [00:00, ?it/s]"
      ]
     },
     "metadata": {},
     "output_type": "display_data"
    },
    {
     "name": "stdout",
     "output_type": "stream",
     "text": [
      "[########################################] | 100% Completed | 108.94 ms\n",
      "GaSb_10kV_50pA\n"
     ]
    },
    {
     "data": {
      "application/vnd.jupyter.widget-view+json": {
       "model_id": "89209c7466a7472e8355917983788b74",
       "version_major": 2,
       "version_minor": 0
      },
      "text/plain": [
       "Absorption correction calculation: 0it [00:00, ?it/s]"
      ]
     },
     "metadata": {},
     "output_type": "display_data"
    },
    {
     "name": "stdout",
     "output_type": "stream",
     "text": [
      "[########################################] | 100% Completed | 108.75 ms\n"
     ]
    },
    {
     "data": {
      "application/vnd.jupyter.widget-view+json": {
       "model_id": "45fec10251c64b7087e0d61874d0006b",
       "version_major": 2,
       "version_minor": 0
      },
      "text/plain": [
       "Absorption correction calculation: 0it [00:00, ?it/s]"
      ]
     },
     "metadata": {},
     "output_type": "display_data"
    },
    {
     "name": "stdout",
     "output_type": "stream",
     "text": [
      "[########################################] | 100% Completed | 112.66 ms\n"
     ]
    },
    {
     "data": {
      "application/vnd.jupyter.widget-view+json": {
       "model_id": "2fd4d6d897054e279e89f80f5742bbd4",
       "version_major": 2,
       "version_minor": 0
      },
      "text/plain": [
       "Absorption correction calculation: 0it [00:00, ?it/s]"
      ]
     },
     "metadata": {},
     "output_type": "display_data"
    },
    {
     "name": "stdout",
     "output_type": "stream",
     "text": [
      "[########################################] | 100% Completed | 116.10 ms\n"
     ]
    },
    {
     "data": {
      "application/vnd.jupyter.widget-view+json": {
       "model_id": "35e17427c57f4126ad0cc96644f8c43a",
       "version_major": 2,
       "version_minor": 0
      },
      "text/plain": [
       "Absorption correction calculation: 0it [00:00, ?it/s]"
      ]
     },
     "metadata": {},
     "output_type": "display_data"
    },
    {
     "name": "stdout",
     "output_type": "stream",
     "text": [
      "[########################################] | 100% Completed | 105.39 ms\n"
     ]
    },
    {
     "data": {
      "application/vnd.jupyter.widget-view+json": {
       "model_id": "d6e1f550c1dd4437b3d58ff8a714ced3",
       "version_major": 2,
       "version_minor": 0
      },
      "text/plain": [
       "Absorption correction calculation: 0it [00:00, ?it/s]"
      ]
     },
     "metadata": {},
     "output_type": "display_data"
    },
    {
     "name": "stdout",
     "output_type": "stream",
     "text": [
      "[########################################] | 100% Completed | 113.19 ms\n"
     ]
    },
    {
     "data": {
      "application/vnd.jupyter.widget-view+json": {
       "model_id": "d9ece633f49548f982549ca2247c7466",
       "version_major": 2,
       "version_minor": 0
      },
      "text/plain": [
       "Absorption correction calculation: 0it [00:00, ?it/s]"
      ]
     },
     "metadata": {},
     "output_type": "display_data"
    },
    {
     "name": "stdout",
     "output_type": "stream",
     "text": [
      "[########################################] | 100% Completed | 118.44 ms\n"
     ]
    },
    {
     "data": {
      "application/vnd.jupyter.widget-view+json": {
       "model_id": "109b863aef004192b12a9b38de9a182e",
       "version_major": 2,
       "version_minor": 0
      },
      "text/plain": [
       "Absorption correction calculation: 0it [00:00, ?it/s]"
      ]
     },
     "metadata": {},
     "output_type": "display_data"
    },
    {
     "name": "stdout",
     "output_type": "stream",
     "text": [
      "[########################################] | 100% Completed | 111.08 ms\n"
     ]
    },
    {
     "data": {
      "application/vnd.jupyter.widget-view+json": {
       "model_id": "ebd74854df2f4770903e71f8cba56357",
       "version_major": 2,
       "version_minor": 0
      },
      "text/plain": [
       "Absorption correction calculation: 0it [00:00, ?it/s]"
      ]
     },
     "metadata": {},
     "output_type": "display_data"
    },
    {
     "name": "stdout",
     "output_type": "stream",
     "text": [
      "[########################################] | 100% Completed | 113.66 ms\n"
     ]
    },
    {
     "data": {
      "application/vnd.jupyter.widget-view+json": {
       "model_id": "be64dec2545a42489174cd2058f331f8",
       "version_major": 2,
       "version_minor": 0
      },
      "text/plain": [
       "Absorption correction calculation: 0it [00:00, ?it/s]"
      ]
     },
     "metadata": {},
     "output_type": "display_data"
    },
    {
     "name": "stdout",
     "output_type": "stream",
     "text": [
      "[########################################] | 100% Completed | 109.53 ms\n"
     ]
    },
    {
     "data": {
      "application/vnd.jupyter.widget-view+json": {
       "model_id": "5322e298d3624661ae47714773ea412c",
       "version_major": 2,
       "version_minor": 0
      },
      "text/plain": [
       "Absorption correction calculation: 0it [00:00, ?it/s]"
      ]
     },
     "metadata": {},
     "output_type": "display_data"
    },
    {
     "name": "stdout",
     "output_type": "stream",
     "text": [
      "[########################################] | 100% Completed | 110.13 ms\n"
     ]
    },
    {
     "data": {
      "application/vnd.jupyter.widget-view+json": {
       "model_id": "65cc471cdc534155b7799e3697425b18",
       "version_major": 2,
       "version_minor": 0
      },
      "text/plain": [
       "Absorption correction calculation: 0it [00:00, ?it/s]"
      ]
     },
     "metadata": {},
     "output_type": "display_data"
    },
    {
     "name": "stdout",
     "output_type": "stream",
     "text": [
      "[########################################] | 100% Completed | 114.55 ms\n"
     ]
    },
    {
     "data": {
      "application/vnd.jupyter.widget-view+json": {
       "model_id": "c821cd9910ae4a698d6297432483f362",
       "version_major": 2,
       "version_minor": 0
      },
      "text/plain": [
       "Absorption correction calculation: 0it [00:00, ?it/s]"
      ]
     },
     "metadata": {},
     "output_type": "display_data"
    },
    {
     "name": "stdout",
     "output_type": "stream",
     "text": [
      "[########################################] | 100% Completed | 121.36 ms\n"
     ]
    },
    {
     "data": {
      "application/vnd.jupyter.widget-view+json": {
       "model_id": "c5a564ce9339490f8ff2d46c4f28658f",
       "version_major": 2,
       "version_minor": 0
      },
      "text/plain": [
       "Absorption correction calculation: 0it [00:00, ?it/s]"
      ]
     },
     "metadata": {},
     "output_type": "display_data"
    },
    {
     "name": "stdout",
     "output_type": "stream",
     "text": [
      "[########################################] | 100% Completed | 106.00 ms\n"
     ]
    },
    {
     "data": {
      "application/vnd.jupyter.widget-view+json": {
       "model_id": "390600c95d5f4589aaaf07121370d34e",
       "version_major": 2,
       "version_minor": 0
      },
      "text/plain": [
       "Absorption correction calculation: 0it [00:00, ?it/s]"
      ]
     },
     "metadata": {},
     "output_type": "display_data"
    },
    {
     "name": "stdout",
     "output_type": "stream",
     "text": [
      "[########################################] | 100% Completed | 119.12 ms\n"
     ]
    },
    {
     "data": {
      "application/vnd.jupyter.widget-view+json": {
       "model_id": "85bee3cc99684de89848e2aedb6c4c83",
       "version_major": 2,
       "version_minor": 0
      },
      "text/plain": [
       "Absorption correction calculation: 0it [00:00, ?it/s]"
      ]
     },
     "metadata": {},
     "output_type": "display_data"
    },
    {
     "name": "stdout",
     "output_type": "stream",
     "text": [
      "[########################################] | 100% Completed | 105.20 ms\n",
      "GaSb_15kV_50pA\n"
     ]
    },
    {
     "data": {
      "application/vnd.jupyter.widget-view+json": {
       "model_id": "1c3881f91ae44cc28f7c6d9ad8bd1985",
       "version_major": 2,
       "version_minor": 0
      },
      "text/plain": [
       "Absorption correction calculation: 0it [00:00, ?it/s]"
      ]
     },
     "metadata": {},
     "output_type": "display_data"
    },
    {
     "name": "stdout",
     "output_type": "stream",
     "text": [
      "[########################################] | 100% Completed | 113.09 ms\n"
     ]
    },
    {
     "data": {
      "application/vnd.jupyter.widget-view+json": {
       "model_id": "3b77a811646a4aafa1d90e8277430101",
       "version_major": 2,
       "version_minor": 0
      },
      "text/plain": [
       "Absorption correction calculation: 0it [00:00, ?it/s]"
      ]
     },
     "metadata": {},
     "output_type": "display_data"
    },
    {
     "name": "stdout",
     "output_type": "stream",
     "text": [
      "[########################################] | 100% Completed | 107.96 ms\n"
     ]
    },
    {
     "data": {
      "application/vnd.jupyter.widget-view+json": {
       "model_id": "613d3ce8325141f09c67143577939003",
       "version_major": 2,
       "version_minor": 0
      },
      "text/plain": [
       "Absorption correction calculation: 0it [00:00, ?it/s]"
      ]
     },
     "metadata": {},
     "output_type": "display_data"
    },
    {
     "name": "stdout",
     "output_type": "stream",
     "text": [
      "[########################################] | 100% Completed | 110.84 ms\n"
     ]
    },
    {
     "data": {
      "application/vnd.jupyter.widget-view+json": {
       "model_id": "377dbb04f90b4e55bec05b9a87ea401b",
       "version_major": 2,
       "version_minor": 0
      },
      "text/plain": [
       "Absorption correction calculation: 0it [00:00, ?it/s]"
      ]
     },
     "metadata": {},
     "output_type": "display_data"
    },
    {
     "name": "stdout",
     "output_type": "stream",
     "text": [
      "[########################################] | 100% Completed | 109.46 ms\n"
     ]
    },
    {
     "data": {
      "application/vnd.jupyter.widget-view+json": {
       "model_id": "572ae5c1e18845dbbc53543a3d9fa5c3",
       "version_major": 2,
       "version_minor": 0
      },
      "text/plain": [
       "Absorption correction calculation: 0it [00:00, ?it/s]"
      ]
     },
     "metadata": {},
     "output_type": "display_data"
    },
    {
     "name": "stdout",
     "output_type": "stream",
     "text": [
      "[########################################] | 100% Completed | 115.90 ms\n"
     ]
    },
    {
     "data": {
      "application/vnd.jupyter.widget-view+json": {
       "model_id": "7cd2981ae14842f994a63230acf4db72",
       "version_major": 2,
       "version_minor": 0
      },
      "text/plain": [
       "Absorption correction calculation: 0it [00:00, ?it/s]"
      ]
     },
     "metadata": {},
     "output_type": "display_data"
    },
    {
     "name": "stdout",
     "output_type": "stream",
     "text": [
      "[########################################] | 100% Completed | 113.30 ms\n"
     ]
    },
    {
     "data": {
      "application/vnd.jupyter.widget-view+json": {
       "model_id": "b326621c006e472e8cdee61c259751df",
       "version_major": 2,
       "version_minor": 0
      },
      "text/plain": [
       "Absorption correction calculation: 0it [00:00, ?it/s]"
      ]
     },
     "metadata": {},
     "output_type": "display_data"
    },
    {
     "name": "stdout",
     "output_type": "stream",
     "text": [
      "[########################################] | 100% Completed | 113.03 ms\n"
     ]
    },
    {
     "data": {
      "application/vnd.jupyter.widget-view+json": {
       "model_id": "3ca0dec34b394693825bafb6398b4e05",
       "version_major": 2,
       "version_minor": 0
      },
      "text/plain": [
       "Absorption correction calculation: 0it [00:00, ?it/s]"
      ]
     },
     "metadata": {},
     "output_type": "display_data"
    },
    {
     "name": "stdout",
     "output_type": "stream",
     "text": [
      "[########################################] | 100% Completed | 117.97 ms\n"
     ]
    },
    {
     "data": {
      "application/vnd.jupyter.widget-view+json": {
       "model_id": "090374c007334fec80a5f2d88655c590",
       "version_major": 2,
       "version_minor": 0
      },
      "text/plain": [
       "Absorption correction calculation: 0it [00:00, ?it/s]"
      ]
     },
     "metadata": {},
     "output_type": "display_data"
    },
    {
     "name": "stdout",
     "output_type": "stream",
     "text": [
      "[########################################] | 100% Completed | 110.86 ms\n"
     ]
    },
    {
     "data": {
      "application/vnd.jupyter.widget-view+json": {
       "model_id": "a1787a26aa3546349fb449599cb0c39d",
       "version_major": 2,
       "version_minor": 0
      },
      "text/plain": [
       "Absorption correction calculation: 0it [00:00, ?it/s]"
      ]
     },
     "metadata": {},
     "output_type": "display_data"
    },
    {
     "name": "stdout",
     "output_type": "stream",
     "text": [
      "[########################################] | 100% Completed | 119.35 ms\n"
     ]
    },
    {
     "data": {
      "application/vnd.jupyter.widget-view+json": {
       "model_id": "eb8cf7b1d6d7451985548633cb8fd923",
       "version_major": 2,
       "version_minor": 0
      },
      "text/plain": [
       "Absorption correction calculation: 0it [00:00, ?it/s]"
      ]
     },
     "metadata": {},
     "output_type": "display_data"
    },
    {
     "name": "stdout",
     "output_type": "stream",
     "text": [
      "[########################################] | 100% Completed | 110.71 ms\n"
     ]
    },
    {
     "data": {
      "application/vnd.jupyter.widget-view+json": {
       "model_id": "7be837f8c9354095a6a6d2c85465e17e",
       "version_major": 2,
       "version_minor": 0
      },
      "text/plain": [
       "Absorption correction calculation: 0it [00:00, ?it/s]"
      ]
     },
     "metadata": {},
     "output_type": "display_data"
    },
    {
     "name": "stdout",
     "output_type": "stream",
     "text": [
      "[########################################] | 100% Completed | 109.42 ms\n"
     ]
    },
    {
     "data": {
      "application/vnd.jupyter.widget-view+json": {
       "model_id": "609ef47baf75474b9bb7080a499e71cd",
       "version_major": 2,
       "version_minor": 0
      },
      "text/plain": [
       "Absorption correction calculation: 0it [00:00, ?it/s]"
      ]
     },
     "metadata": {},
     "output_type": "display_data"
    },
    {
     "name": "stdout",
     "output_type": "stream",
     "text": [
      "[########################################] | 100% Completed | 115.36 ms\n"
     ]
    },
    {
     "data": {
      "application/vnd.jupyter.widget-view+json": {
       "model_id": "99625eeeeeab49cc9d46e3a42734816a",
       "version_major": 2,
       "version_minor": 0
      },
      "text/plain": [
       "Absorption correction calculation: 0it [00:00, ?it/s]"
      ]
     },
     "metadata": {},
     "output_type": "display_data"
    },
    {
     "name": "stdout",
     "output_type": "stream",
     "text": [
      "[########################################] | 100% Completed | 118.38 ms\n"
     ]
    },
    {
     "data": {
      "application/vnd.jupyter.widget-view+json": {
       "model_id": "c7b90435d47e413bac83378545aed083",
       "version_major": 2,
       "version_minor": 0
      },
      "text/plain": [
       "Absorption correction calculation: 0it [00:00, ?it/s]"
      ]
     },
     "metadata": {},
     "output_type": "display_data"
    },
    {
     "name": "stdout",
     "output_type": "stream",
     "text": [
      "[########################################] | 100% Completed | 113.02 ms\n",
      "GaSb_30kV_50pA\n"
     ]
    },
    {
     "data": {
      "application/vnd.jupyter.widget-view+json": {
       "model_id": "b06af3d8082a456bb8a7f9a53a816263",
       "version_major": 2,
       "version_minor": 0
      },
      "text/plain": [
       "Absorption correction calculation: 0it [00:00, ?it/s]"
      ]
     },
     "metadata": {},
     "output_type": "display_data"
    },
    {
     "name": "stdout",
     "output_type": "stream",
     "text": [
      "[########################################] | 100% Completed | 114.59 ms\n"
     ]
    },
    {
     "data": {
      "application/vnd.jupyter.widget-view+json": {
       "model_id": "ea6c412caa164e41900322b90ddc7cf4",
       "version_major": 2,
       "version_minor": 0
      },
      "text/plain": [
       "Absorption correction calculation: 0it [00:00, ?it/s]"
      ]
     },
     "metadata": {},
     "output_type": "display_data"
    },
    {
     "name": "stdout",
     "output_type": "stream",
     "text": [
      "[########################################] | 100% Completed | 119.45 ms\n"
     ]
    },
    {
     "data": {
      "application/vnd.jupyter.widget-view+json": {
       "model_id": "4e2f6e7f57bd4416b5e6569cd0cfd11c",
       "version_major": 2,
       "version_minor": 0
      },
      "text/plain": [
       "Absorption correction calculation: 0it [00:00, ?it/s]"
      ]
     },
     "metadata": {},
     "output_type": "display_data"
    },
    {
     "name": "stdout",
     "output_type": "stream",
     "text": [
      "[########################################] | 100% Completed | 111.79 ms\n"
     ]
    },
    {
     "data": {
      "application/vnd.jupyter.widget-view+json": {
       "model_id": "f499fe678c3545afa11ea8645c6df859",
       "version_major": 2,
       "version_minor": 0
      },
      "text/plain": [
       "Absorption correction calculation: 0it [00:00, ?it/s]"
      ]
     },
     "metadata": {},
     "output_type": "display_data"
    },
    {
     "name": "stdout",
     "output_type": "stream",
     "text": [
      "[########################################] | 100% Completed | 104.29 ms\n"
     ]
    },
    {
     "data": {
      "application/vnd.jupyter.widget-view+json": {
       "model_id": "4691a1c33df146d4a98a1154aef2015f",
       "version_major": 2,
       "version_minor": 0
      },
      "text/plain": [
       "Absorption correction calculation: 0it [00:00, ?it/s]"
      ]
     },
     "metadata": {},
     "output_type": "display_data"
    },
    {
     "name": "stdout",
     "output_type": "stream",
     "text": [
      "[########################################] | 100% Completed | 110.87 ms\n"
     ]
    },
    {
     "data": {
      "application/vnd.jupyter.widget-view+json": {
       "model_id": "1ef15cd4d50e446190bc1490c1b50dd0",
       "version_major": 2,
       "version_minor": 0
      },
      "text/plain": [
       "Absorption correction calculation: 0it [00:00, ?it/s]"
      ]
     },
     "metadata": {},
     "output_type": "display_data"
    },
    {
     "name": "stdout",
     "output_type": "stream",
     "text": [
      "[########################################] | 100% Completed | 125.06 ms\n"
     ]
    },
    {
     "data": {
      "application/vnd.jupyter.widget-view+json": {
       "model_id": "929ec7bafdd7488e98dfbdf836ed6ad0",
       "version_major": 2,
       "version_minor": 0
      },
      "text/plain": [
       "Absorption correction calculation: 0it [00:00, ?it/s]"
      ]
     },
     "metadata": {},
     "output_type": "display_data"
    },
    {
     "name": "stdout",
     "output_type": "stream",
     "text": [
      "[########################################] | 100% Completed | 111.81 ms\n"
     ]
    },
    {
     "data": {
      "application/vnd.jupyter.widget-view+json": {
       "model_id": "8408f8b47a1e47c6ae0a322002b43672",
       "version_major": 2,
       "version_minor": 0
      },
      "text/plain": [
       "Absorption correction calculation: 0it [00:00, ?it/s]"
      ]
     },
     "metadata": {},
     "output_type": "display_data"
    },
    {
     "name": "stdout",
     "output_type": "stream",
     "text": [
      "[########################################] | 100% Completed | 105.10 ms\n"
     ]
    },
    {
     "data": {
      "application/vnd.jupyter.widget-view+json": {
       "model_id": "114c55d8d42e478fb2f3068931e6ab29",
       "version_major": 2,
       "version_minor": 0
      },
      "text/plain": [
       "Absorption correction calculation: 0it [00:00, ?it/s]"
      ]
     },
     "metadata": {},
     "output_type": "display_data"
    },
    {
     "name": "stdout",
     "output_type": "stream",
     "text": [
      "[########################################] | 100% Completed | 114.05 ms\n"
     ]
    },
    {
     "data": {
      "application/vnd.jupyter.widget-view+json": {
       "model_id": "bdc9435b681b4c3f89f3c9e3cc5197cb",
       "version_major": 2,
       "version_minor": 0
      },
      "text/plain": [
       "Absorption correction calculation: 0it [00:00, ?it/s]"
      ]
     },
     "metadata": {},
     "output_type": "display_data"
    },
    {
     "name": "stdout",
     "output_type": "stream",
     "text": [
      "[########################################] | 100% Completed | 118.01 ms\n"
     ]
    },
    {
     "data": {
      "application/vnd.jupyter.widget-view+json": {
       "model_id": "42cf9ff219cc48cbb1fb814ef582b188",
       "version_major": 2,
       "version_minor": 0
      },
      "text/plain": [
       "Absorption correction calculation: 0it [00:00, ?it/s]"
      ]
     },
     "metadata": {},
     "output_type": "display_data"
    },
    {
     "name": "stdout",
     "output_type": "stream",
     "text": [
      "[########################################] | 100% Completed | 108.13 ms\n"
     ]
    },
    {
     "data": {
      "application/vnd.jupyter.widget-view+json": {
       "model_id": "eb5b323724364f6b985be37c8a25e148",
       "version_major": 2,
       "version_minor": 0
      },
      "text/plain": [
       "Absorption correction calculation: 0it [00:00, ?it/s]"
      ]
     },
     "metadata": {},
     "output_type": "display_data"
    },
    {
     "name": "stdout",
     "output_type": "stream",
     "text": [
      "[########################################] | 100% Completed | 114.64 ms\n"
     ]
    },
    {
     "data": {
      "application/vnd.jupyter.widget-view+json": {
       "model_id": "9eebab7bb17c46f28e76919054140a9a",
       "version_major": 2,
       "version_minor": 0
      },
      "text/plain": [
       "Absorption correction calculation: 0it [00:00, ?it/s]"
      ]
     },
     "metadata": {},
     "output_type": "display_data"
    },
    {
     "name": "stdout",
     "output_type": "stream",
     "text": [
      "[########################################] | 100% Completed | 109.38 ms\n"
     ]
    },
    {
     "data": {
      "application/vnd.jupyter.widget-view+json": {
       "model_id": "8d82875391884c1fb298ef91ae24730a",
       "version_major": 2,
       "version_minor": 0
      },
      "text/plain": [
       "Absorption correction calculation: 0it [00:00, ?it/s]"
      ]
     },
     "metadata": {},
     "output_type": "display_data"
    },
    {
     "name": "stdout",
     "output_type": "stream",
     "text": [
      "[########################################] | 100% Completed | 117.54 ms\n"
     ]
    },
    {
     "data": {
      "application/vnd.jupyter.widget-view+json": {
       "model_id": "c189d32f1a5b4bb492afa8773710f548",
       "version_major": 2,
       "version_minor": 0
      },
      "text/plain": [
       "Absorption correction calculation: 0it [00:00, ?it/s]"
      ]
     },
     "metadata": {},
     "output_type": "display_data"
    },
    {
     "name": "stdout",
     "output_type": "stream",
     "text": [
      "[########################################] | 100% Completed | 118.84 ms\n",
      "GaSb_30kV_50pA_processTime1\n"
     ]
    },
    {
     "data": {
      "application/vnd.jupyter.widget-view+json": {
       "model_id": "d48a6b60f0694dca9ee603e5a07fd301",
       "version_major": 2,
       "version_minor": 0
      },
      "text/plain": [
       "Absorption correction calculation: 0it [00:00, ?it/s]"
      ]
     },
     "metadata": {},
     "output_type": "display_data"
    },
    {
     "name": "stdout",
     "output_type": "stream",
     "text": [
      "[########################################] | 100% Completed | 119.02 ms\n"
     ]
    },
    {
     "data": {
      "application/vnd.jupyter.widget-view+json": {
       "model_id": "0a0fe628823c44f999d5470bc66e7e09",
       "version_major": 2,
       "version_minor": 0
      },
      "text/plain": [
       "Absorption correction calculation: 0it [00:00, ?it/s]"
      ]
     },
     "metadata": {},
     "output_type": "display_data"
    },
    {
     "name": "stdout",
     "output_type": "stream",
     "text": [
      "[########################################] | 100% Completed | 115.42 ms\n"
     ]
    },
    {
     "data": {
      "application/vnd.jupyter.widget-view+json": {
       "model_id": "87d2e5cfee5449df8d5eab26cc5f76b9",
       "version_major": 2,
       "version_minor": 0
      },
      "text/plain": [
       "Absorption correction calculation: 0it [00:00, ?it/s]"
      ]
     },
     "metadata": {},
     "output_type": "display_data"
    },
    {
     "name": "stdout",
     "output_type": "stream",
     "text": [
      "[########################################] | 100% Completed | 109.32 ms\n"
     ]
    },
    {
     "data": {
      "application/vnd.jupyter.widget-view+json": {
       "model_id": "08930f4e022343618cf29bbcef160e6c",
       "version_major": 2,
       "version_minor": 0
      },
      "text/plain": [
       "Absorption correction calculation: 0it [00:00, ?it/s]"
      ]
     },
     "metadata": {},
     "output_type": "display_data"
    },
    {
     "name": "stdout",
     "output_type": "stream",
     "text": [
      "[########################################] | 100% Completed | 111.84 ms\n"
     ]
    },
    {
     "data": {
      "application/vnd.jupyter.widget-view+json": {
       "model_id": "56d9a52251774ee885940fc105f40e83",
       "version_major": 2,
       "version_minor": 0
      },
      "text/plain": [
       "Absorption correction calculation: 0it [00:00, ?it/s]"
      ]
     },
     "metadata": {},
     "output_type": "display_data"
    },
    {
     "name": "stdout",
     "output_type": "stream",
     "text": [
      "[########################################] | 100% Completed | 114.81 ms\n"
     ]
    },
    {
     "data": {
      "application/vnd.jupyter.widget-view+json": {
       "model_id": "9607256372b14d93a6d898e25b7f35c6",
       "version_major": 2,
       "version_minor": 0
      },
      "text/plain": [
       "Absorption correction calculation: 0it [00:00, ?it/s]"
      ]
     },
     "metadata": {},
     "output_type": "display_data"
    },
    {
     "name": "stdout",
     "output_type": "stream",
     "text": [
      "[########################################] | 100% Completed | 110.53 ms\n"
     ]
    },
    {
     "data": {
      "application/vnd.jupyter.widget-view+json": {
       "model_id": "933459be5fd940629c7c7d4a005ef1ee",
       "version_major": 2,
       "version_minor": 0
      },
      "text/plain": [
       "Absorption correction calculation: 0it [00:00, ?it/s]"
      ]
     },
     "metadata": {},
     "output_type": "display_data"
    },
    {
     "name": "stdout",
     "output_type": "stream",
     "text": [
      "[########################################] | 100% Completed | 108.56 ms\n"
     ]
    },
    {
     "data": {
      "application/vnd.jupyter.widget-view+json": {
       "model_id": "74cae3ddc84c43fda222141b0df4ad4a",
       "version_major": 2,
       "version_minor": 0
      },
      "text/plain": [
       "Absorption correction calculation: 0it [00:00, ?it/s]"
      ]
     },
     "metadata": {},
     "output_type": "display_data"
    },
    {
     "name": "stdout",
     "output_type": "stream",
     "text": [
      "[########################################] | 100% Completed | 116.35 ms\n"
     ]
    },
    {
     "data": {
      "application/vnd.jupyter.widget-view+json": {
       "model_id": "6388ee549003406b8c03884492c36e0f",
       "version_major": 2,
       "version_minor": 0
      },
      "text/plain": [
       "Absorption correction calculation: 0it [00:00, ?it/s]"
      ]
     },
     "metadata": {},
     "output_type": "display_data"
    },
    {
     "name": "stdout",
     "output_type": "stream",
     "text": [
      "[########################################] | 100% Completed | 113.63 ms\n"
     ]
    },
    {
     "data": {
      "application/vnd.jupyter.widget-view+json": {
       "model_id": "e84cd5b4602a45edb3f7dc1072074f0c",
       "version_major": 2,
       "version_minor": 0
      },
      "text/plain": [
       "Absorption correction calculation: 0it [00:00, ?it/s]"
      ]
     },
     "metadata": {},
     "output_type": "display_data"
    },
    {
     "name": "stdout",
     "output_type": "stream",
     "text": [
      "[########################################] | 100% Completed | 121.61 ms\n"
     ]
    },
    {
     "data": {
      "application/vnd.jupyter.widget-view+json": {
       "model_id": "33188b059cc74539b30ad3516dff0797",
       "version_major": 2,
       "version_minor": 0
      },
      "text/plain": [
       "Absorption correction calculation: 0it [00:00, ?it/s]"
      ]
     },
     "metadata": {},
     "output_type": "display_data"
    },
    {
     "name": "stdout",
     "output_type": "stream",
     "text": [
      "[########################################] | 100% Completed | 114.80 ms\n"
     ]
    },
    {
     "data": {
      "application/vnd.jupyter.widget-view+json": {
       "model_id": "fe68c4fce3b7428f944621d4aa4b4b49",
       "version_major": 2,
       "version_minor": 0
      },
      "text/plain": [
       "Absorption correction calculation: 0it [00:00, ?it/s]"
      ]
     },
     "metadata": {},
     "output_type": "display_data"
    },
    {
     "name": "stdout",
     "output_type": "stream",
     "text": [
      "[########################################] | 100% Completed | 105.60 ms\n"
     ]
    },
    {
     "data": {
      "application/vnd.jupyter.widget-view+json": {
       "model_id": "d1e4aa66c5c240d289215e240b73c21f",
       "version_major": 2,
       "version_minor": 0
      },
      "text/plain": [
       "Absorption correction calculation: 0it [00:00, ?it/s]"
      ]
     },
     "metadata": {},
     "output_type": "display_data"
    },
    {
     "name": "stdout",
     "output_type": "stream",
     "text": [
      "[########################################] | 100% Completed | 112.12 ms\n"
     ]
    },
    {
     "data": {
      "application/vnd.jupyter.widget-view+json": {
       "model_id": "ac5ccfc1c59b4567b2cd211249c55704",
       "version_major": 2,
       "version_minor": 0
      },
      "text/plain": [
       "Absorption correction calculation: 0it [00:00, ?it/s]"
      ]
     },
     "metadata": {},
     "output_type": "display_data"
    },
    {
     "name": "stdout",
     "output_type": "stream",
     "text": [
      "[########################################] | 100% Completed | 121.20 ms\n"
     ]
    },
    {
     "data": {
      "application/vnd.jupyter.widget-view+json": {
       "model_id": "492a8cf89f30428e9cfda1f3d31c903b",
       "version_major": 2,
       "version_minor": 0
      },
      "text/plain": [
       "Absorption correction calculation: 0it [00:00, ?it/s]"
      ]
     },
     "metadata": {},
     "output_type": "display_data"
    },
    {
     "name": "stdout",
     "output_type": "stream",
     "text": [
      "[########################################] | 100% Completed | 113.26 ms\n",
      "GaSb_30kV_50pA_processTime2\n"
     ]
    },
    {
     "data": {
      "application/vnd.jupyter.widget-view+json": {
       "model_id": "9d13479e1b04442fbfea8327d020e5f9",
       "version_major": 2,
       "version_minor": 0
      },
      "text/plain": [
       "Absorption correction calculation: 0it [00:00, ?it/s]"
      ]
     },
     "metadata": {},
     "output_type": "display_data"
    },
    {
     "name": "stdout",
     "output_type": "stream",
     "text": [
      "[########################################] | 100% Completed | 107.82 ms\n"
     ]
    },
    {
     "data": {
      "application/vnd.jupyter.widget-view+json": {
       "model_id": "a52cebaa1dea41af8245078630f73be3",
       "version_major": 2,
       "version_minor": 0
      },
      "text/plain": [
       "Absorption correction calculation: 0it [00:00, ?it/s]"
      ]
     },
     "metadata": {},
     "output_type": "display_data"
    },
    {
     "name": "stdout",
     "output_type": "stream",
     "text": [
      "[########################################] | 100% Completed | 111.09 ms\n"
     ]
    },
    {
     "data": {
      "application/vnd.jupyter.widget-view+json": {
       "model_id": "9419085a50004ff8812fef7ed1f2b7c4",
       "version_major": 2,
       "version_minor": 0
      },
      "text/plain": [
       "Absorption correction calculation: 0it [00:00, ?it/s]"
      ]
     },
     "metadata": {},
     "output_type": "display_data"
    },
    {
     "name": "stdout",
     "output_type": "stream",
     "text": [
      "[########################################] | 100% Completed | 115.14 ms\n"
     ]
    },
    {
     "data": {
      "application/vnd.jupyter.widget-view+json": {
       "model_id": "3b1bb0ef051541eb809d36fbf9ba04d1",
       "version_major": 2,
       "version_minor": 0
      },
      "text/plain": [
       "Absorption correction calculation: 0it [00:00, ?it/s]"
      ]
     },
     "metadata": {},
     "output_type": "display_data"
    },
    {
     "name": "stdout",
     "output_type": "stream",
     "text": [
      "[########################################] | 100% Completed | 123.27 ms\n"
     ]
    },
    {
     "data": {
      "application/vnd.jupyter.widget-view+json": {
       "model_id": "a4aafbc7934d4a0e887095b711cfb323",
       "version_major": 2,
       "version_minor": 0
      },
      "text/plain": [
       "Absorption correction calculation: 0it [00:00, ?it/s]"
      ]
     },
     "metadata": {},
     "output_type": "display_data"
    },
    {
     "name": "stdout",
     "output_type": "stream",
     "text": [
      "[########################################] | 100% Completed | 114.48 ms\n"
     ]
    },
    {
     "data": {
      "application/vnd.jupyter.widget-view+json": {
       "model_id": "d19d56c369454aea86eca97981688231",
       "version_major": 2,
       "version_minor": 0
      },
      "text/plain": [
       "Absorption correction calculation: 0it [00:00, ?it/s]"
      ]
     },
     "metadata": {},
     "output_type": "display_data"
    },
    {
     "name": "stdout",
     "output_type": "stream",
     "text": [
      "[########################################] | 100% Completed | 121.63 ms\n"
     ]
    },
    {
     "data": {
      "application/vnd.jupyter.widget-view+json": {
       "model_id": "26b0889a708e4969b216d47f7900e64f",
       "version_major": 2,
       "version_minor": 0
      },
      "text/plain": [
       "Absorption correction calculation: 0it [00:00, ?it/s]"
      ]
     },
     "metadata": {},
     "output_type": "display_data"
    },
    {
     "name": "stdout",
     "output_type": "stream",
     "text": [
      "[########################################] | 100% Completed | 116.08 ms\n"
     ]
    },
    {
     "data": {
      "application/vnd.jupyter.widget-view+json": {
       "model_id": "cc7dbb60ca484fb68fd3474d08924d3a",
       "version_major": 2,
       "version_minor": 0
      },
      "text/plain": [
       "Absorption correction calculation: 0it [00:00, ?it/s]"
      ]
     },
     "metadata": {},
     "output_type": "display_data"
    },
    {
     "name": "stdout",
     "output_type": "stream",
     "text": [
      "[########################################] | 100% Completed | 107.65 ms\n"
     ]
    },
    {
     "data": {
      "application/vnd.jupyter.widget-view+json": {
       "model_id": "586b625d716f4755a1d5a5370915655a",
       "version_major": 2,
       "version_minor": 0
      },
      "text/plain": [
       "Absorption correction calculation: 0it [00:00, ?it/s]"
      ]
     },
     "metadata": {},
     "output_type": "display_data"
    },
    {
     "name": "stdout",
     "output_type": "stream",
     "text": [
      "[########################################] | 100% Completed | 113.48 ms\n"
     ]
    },
    {
     "data": {
      "application/vnd.jupyter.widget-view+json": {
       "model_id": "3e7a9626730145bba50b8b0e662639ed",
       "version_major": 2,
       "version_minor": 0
      },
      "text/plain": [
       "Absorption correction calculation: 0it [00:00, ?it/s]"
      ]
     },
     "metadata": {},
     "output_type": "display_data"
    },
    {
     "name": "stdout",
     "output_type": "stream",
     "text": [
      "[########################################] | 100% Completed | 115.48 ms\n"
     ]
    },
    {
     "data": {
      "application/vnd.jupyter.widget-view+json": {
       "model_id": "f1a6437b381448bba7161f8219da5cab",
       "version_major": 2,
       "version_minor": 0
      },
      "text/plain": [
       "Absorption correction calculation: 0it [00:00, ?it/s]"
      ]
     },
     "metadata": {},
     "output_type": "display_data"
    },
    {
     "name": "stdout",
     "output_type": "stream",
     "text": [
      "[########################################] | 100% Completed | 114.69 ms\n"
     ]
    },
    {
     "data": {
      "application/vnd.jupyter.widget-view+json": {
       "model_id": "2e02eefeb46b48e3a046b35a7aa24448",
       "version_major": 2,
       "version_minor": 0
      },
      "text/plain": [
       "Absorption correction calculation: 0it [00:00, ?it/s]"
      ]
     },
     "metadata": {},
     "output_type": "display_data"
    },
    {
     "name": "stdout",
     "output_type": "stream",
     "text": [
      "[########################################] | 100% Completed | 117.29 ms\n"
     ]
    },
    {
     "data": {
      "application/vnd.jupyter.widget-view+json": {
       "model_id": "60025c8e2ba64ffab1b95c3e72bc0f45",
       "version_major": 2,
       "version_minor": 0
      },
      "text/plain": [
       "Absorption correction calculation: 0it [00:00, ?it/s]"
      ]
     },
     "metadata": {},
     "output_type": "display_data"
    },
    {
     "name": "stdout",
     "output_type": "stream",
     "text": [
      "[########################################] | 100% Completed | 117.09 ms\n"
     ]
    },
    {
     "data": {
      "application/vnd.jupyter.widget-view+json": {
       "model_id": "5374a51904e543428ec7e5d5235a5567",
       "version_major": 2,
       "version_minor": 0
      },
      "text/plain": [
       "Absorption correction calculation: 0it [00:00, ?it/s]"
      ]
     },
     "metadata": {},
     "output_type": "display_data"
    },
    {
     "name": "stdout",
     "output_type": "stream",
     "text": [
      "[########################################] | 100% Completed | 112.97 ms\n"
     ]
    },
    {
     "data": {
      "application/vnd.jupyter.widget-view+json": {
       "model_id": "d8340c8f47ba4a97906b2fc095089bc7",
       "version_major": 2,
       "version_minor": 0
      },
      "text/plain": [
       "Absorption correction calculation: 0it [00:00, ?it/s]"
      ]
     },
     "metadata": {},
     "output_type": "display_data"
    },
    {
     "name": "stdout",
     "output_type": "stream",
     "text": [
      "[########################################] | 100% Completed | 114.31 ms\n",
      "GaSb_30kV_50pA_processTime4\n"
     ]
    },
    {
     "data": {
      "application/vnd.jupyter.widget-view+json": {
       "model_id": "065eed9e1b5d40d5b2471061a30deccc",
       "version_major": 2,
       "version_minor": 0
      },
      "text/plain": [
       "Absorption correction calculation: 0it [00:00, ?it/s]"
      ]
     },
     "metadata": {},
     "output_type": "display_data"
    },
    {
     "name": "stdout",
     "output_type": "stream",
     "text": [
      "[########################################] | 100% Completed | 115.05 ms\n"
     ]
    },
    {
     "data": {
      "application/vnd.jupyter.widget-view+json": {
       "model_id": "d1858fb30b6d4d7eb015a2d232b29309",
       "version_major": 2,
       "version_minor": 0
      },
      "text/plain": [
       "Absorption correction calculation: 0it [00:00, ?it/s]"
      ]
     },
     "metadata": {},
     "output_type": "display_data"
    },
    {
     "name": "stdout",
     "output_type": "stream",
     "text": [
      "[########################################] | 100% Completed | 109.13 ms\n"
     ]
    },
    {
     "data": {
      "application/vnd.jupyter.widget-view+json": {
       "model_id": "ebbdb3654e784a93beb1e6f17ecd883e",
       "version_major": 2,
       "version_minor": 0
      },
      "text/plain": [
       "Absorption correction calculation: 0it [00:00, ?it/s]"
      ]
     },
     "metadata": {},
     "output_type": "display_data"
    },
    {
     "name": "stdout",
     "output_type": "stream",
     "text": [
      "[########################################] | 100% Completed | 113.50 ms\n"
     ]
    },
    {
     "data": {
      "application/vnd.jupyter.widget-view+json": {
       "model_id": "b2a2e76f46784db9889fae8ada5e84d9",
       "version_major": 2,
       "version_minor": 0
      },
      "text/plain": [
       "Absorption correction calculation: 0it [00:00, ?it/s]"
      ]
     },
     "metadata": {},
     "output_type": "display_data"
    },
    {
     "name": "stdout",
     "output_type": "stream",
     "text": [
      "[########################################] | 100% Completed | 121.11 ms\n"
     ]
    },
    {
     "data": {
      "application/vnd.jupyter.widget-view+json": {
       "model_id": "d63104e43d6643aebcb0f3ed0cc56b3e",
       "version_major": 2,
       "version_minor": 0
      },
      "text/plain": [
       "Absorption correction calculation: 0it [00:00, ?it/s]"
      ]
     },
     "metadata": {},
     "output_type": "display_data"
    },
    {
     "name": "stdout",
     "output_type": "stream",
     "text": [
      "[########################################] | 100% Completed | 115.86 ms\n"
     ]
    },
    {
     "data": {
      "application/vnd.jupyter.widget-view+json": {
       "model_id": "7e12fc3f054c47f48497c756dc9442bc",
       "version_major": 2,
       "version_minor": 0
      },
      "text/plain": [
       "Absorption correction calculation: 0it [00:00, ?it/s]"
      ]
     },
     "metadata": {},
     "output_type": "display_data"
    },
    {
     "name": "stdout",
     "output_type": "stream",
     "text": [
      "[########################################] | 100% Completed | 113.91 ms\n"
     ]
    },
    {
     "data": {
      "application/vnd.jupyter.widget-view+json": {
       "model_id": "0789c11263c741c1b7c5b1e4a637cd9f",
       "version_major": 2,
       "version_minor": 0
      },
      "text/plain": [
       "Absorption correction calculation: 0it [00:00, ?it/s]"
      ]
     },
     "metadata": {},
     "output_type": "display_data"
    },
    {
     "name": "stdout",
     "output_type": "stream",
     "text": [
      "[########################################] | 100% Completed | 104.09 ms\n"
     ]
    },
    {
     "data": {
      "application/vnd.jupyter.widget-view+json": {
       "model_id": "e44797a207e845debdd76086f3144cd1",
       "version_major": 2,
       "version_minor": 0
      },
      "text/plain": [
       "Absorption correction calculation: 0it [00:00, ?it/s]"
      ]
     },
     "metadata": {},
     "output_type": "display_data"
    },
    {
     "name": "stdout",
     "output_type": "stream",
     "text": [
      "[########################################] | 100% Completed | 109.54 ms\n"
     ]
    },
    {
     "data": {
      "application/vnd.jupyter.widget-view+json": {
       "model_id": "a6b86ec0102441efa011ff0cfc9d6de1",
       "version_major": 2,
       "version_minor": 0
      },
      "text/plain": [
       "Absorption correction calculation: 0it [00:00, ?it/s]"
      ]
     },
     "metadata": {},
     "output_type": "display_data"
    },
    {
     "name": "stdout",
     "output_type": "stream",
     "text": [
      "[########################################] | 100% Completed | 119.26 ms\n"
     ]
    },
    {
     "data": {
      "application/vnd.jupyter.widget-view+json": {
       "model_id": "50a6ff82448e417a955482224b2f4b71",
       "version_major": 2,
       "version_minor": 0
      },
      "text/plain": [
       "Absorption correction calculation: 0it [00:00, ?it/s]"
      ]
     },
     "metadata": {},
     "output_type": "display_data"
    },
    {
     "name": "stdout",
     "output_type": "stream",
     "text": [
      "[########################################] | 100% Completed | 107.15 ms\n"
     ]
    },
    {
     "data": {
      "application/vnd.jupyter.widget-view+json": {
       "model_id": "3669d8681a0e4443a2e0bfee82a9626f",
       "version_major": 2,
       "version_minor": 0
      },
      "text/plain": [
       "Absorption correction calculation: 0it [00:00, ?it/s]"
      ]
     },
     "metadata": {},
     "output_type": "display_data"
    },
    {
     "name": "stdout",
     "output_type": "stream",
     "text": [
      "[########################################] | 100% Completed | 116.71 ms\n"
     ]
    },
    {
     "data": {
      "application/vnd.jupyter.widget-view+json": {
       "model_id": "af44726f11a24ef1bdfe4cc66076f35c",
       "version_major": 2,
       "version_minor": 0
      },
      "text/plain": [
       "Absorption correction calculation: 0it [00:00, ?it/s]"
      ]
     },
     "metadata": {},
     "output_type": "display_data"
    },
    {
     "name": "stdout",
     "output_type": "stream",
     "text": [
      "[########################################] | 100% Completed | 113.87 ms\n"
     ]
    },
    {
     "data": {
      "application/vnd.jupyter.widget-view+json": {
       "model_id": "df99dc16d07e406d98cd92c2f0af608d",
       "version_major": 2,
       "version_minor": 0
      },
      "text/plain": [
       "Absorption correction calculation: 0it [00:00, ?it/s]"
      ]
     },
     "metadata": {},
     "output_type": "display_data"
    },
    {
     "name": "stdout",
     "output_type": "stream",
     "text": [
      "[########################################] | 100% Completed | 106.01 ms\n"
     ]
    },
    {
     "data": {
      "application/vnd.jupyter.widget-view+json": {
       "model_id": "b46bd9f8d5a64273aadc5acda34f74fd",
       "version_major": 2,
       "version_minor": 0
      },
      "text/plain": [
       "Absorption correction calculation: 0it [00:00, ?it/s]"
      ]
     },
     "metadata": {},
     "output_type": "display_data"
    },
    {
     "name": "stdout",
     "output_type": "stream",
     "text": [
      "[########################################] | 100% Completed | 104.41 ms\n"
     ]
    },
    {
     "data": {
      "application/vnd.jupyter.widget-view+json": {
       "model_id": "e6b5c0192b504e07a45ff90fc0907c3c",
       "version_major": 2,
       "version_minor": 0
      },
      "text/plain": [
       "Absorption correction calculation: 0it [00:00, ?it/s]"
      ]
     },
     "metadata": {},
     "output_type": "display_data"
    },
    {
     "name": "stdout",
     "output_type": "stream",
     "text": [
      "[########################################] | 100% Completed | 111.85 ms\n",
      "GaSb_15kV_200pA\n"
     ]
    },
    {
     "data": {
      "application/vnd.jupyter.widget-view+json": {
       "model_id": "2e3bdadacafc464ba79fa3158f08a4d5",
       "version_major": 2,
       "version_minor": 0
      },
      "text/plain": [
       "Absorption correction calculation: 0it [00:00, ?it/s]"
      ]
     },
     "metadata": {},
     "output_type": "display_data"
    },
    {
     "name": "stdout",
     "output_type": "stream",
     "text": [
      "[########################################] | 100% Completed | 114.60 ms\n"
     ]
    },
    {
     "data": {
      "application/vnd.jupyter.widget-view+json": {
       "model_id": "15dffddc47d34c6188ff0cab7ed433b3",
       "version_major": 2,
       "version_minor": 0
      },
      "text/plain": [
       "Absorption correction calculation: 0it [00:00, ?it/s]"
      ]
     },
     "metadata": {},
     "output_type": "display_data"
    },
    {
     "name": "stdout",
     "output_type": "stream",
     "text": [
      "[########################################] | 100% Completed | 116.10 ms\n"
     ]
    },
    {
     "data": {
      "application/vnd.jupyter.widget-view+json": {
       "model_id": "03b3e3a5b1fe4d03aab9b2ed07259a44",
       "version_major": 2,
       "version_minor": 0
      },
      "text/plain": [
       "Absorption correction calculation: 0it [00:00, ?it/s]"
      ]
     },
     "metadata": {},
     "output_type": "display_data"
    },
    {
     "name": "stdout",
     "output_type": "stream",
     "text": [
      "[########################################] | 100% Completed | 107.73 ms\n"
     ]
    },
    {
     "data": {
      "application/vnd.jupyter.widget-view+json": {
       "model_id": "e62feec360584a848d4dc6c55175ad5e",
       "version_major": 2,
       "version_minor": 0
      },
      "text/plain": [
       "Absorption correction calculation: 0it [00:00, ?it/s]"
      ]
     },
     "metadata": {},
     "output_type": "display_data"
    },
    {
     "name": "stdout",
     "output_type": "stream",
     "text": [
      "[########################################] | 100% Completed | 109.68 ms\n"
     ]
    },
    {
     "data": {
      "application/vnd.jupyter.widget-view+json": {
       "model_id": "28895bb3cb9a4f5fb586daf3aacf86f8",
       "version_major": 2,
       "version_minor": 0
      },
      "text/plain": [
       "Absorption correction calculation: 0it [00:00, ?it/s]"
      ]
     },
     "metadata": {},
     "output_type": "display_data"
    },
    {
     "name": "stdout",
     "output_type": "stream",
     "text": [
      "[########################################] | 100% Completed | 117.57 ms\n"
     ]
    },
    {
     "data": {
      "application/vnd.jupyter.widget-view+json": {
       "model_id": "1fb05bd135fe4f1fbe10d561aebae011",
       "version_major": 2,
       "version_minor": 0
      },
      "text/plain": [
       "Absorption correction calculation: 0it [00:00, ?it/s]"
      ]
     },
     "metadata": {},
     "output_type": "display_data"
    },
    {
     "name": "stdout",
     "output_type": "stream",
     "text": [
      "[########################################] | 100% Completed | 112.97 ms\n"
     ]
    },
    {
     "data": {
      "application/vnd.jupyter.widget-view+json": {
       "model_id": "258c011a351341ceaf8e372b69a71665",
       "version_major": 2,
       "version_minor": 0
      },
      "text/plain": [
       "Absorption correction calculation: 0it [00:00, ?it/s]"
      ]
     },
     "metadata": {},
     "output_type": "display_data"
    },
    {
     "name": "stdout",
     "output_type": "stream",
     "text": [
      "[########################################] | 100% Completed | 116.21 ms\n"
     ]
    },
    {
     "data": {
      "application/vnd.jupyter.widget-view+json": {
       "model_id": "a0be71de74104f08a2fc90486a60994f",
       "version_major": 2,
       "version_minor": 0
      },
      "text/plain": [
       "Absorption correction calculation: 0it [00:00, ?it/s]"
      ]
     },
     "metadata": {},
     "output_type": "display_data"
    },
    {
     "name": "stdout",
     "output_type": "stream",
     "text": [
      "[########################################] | 100% Completed | 119.97 ms\n"
     ]
    },
    {
     "data": {
      "application/vnd.jupyter.widget-view+json": {
       "model_id": "94dbc29f6c3b4ae79b55cfbed146abc8",
       "version_major": 2,
       "version_minor": 0
      },
      "text/plain": [
       "Absorption correction calculation: 0it [00:00, ?it/s]"
      ]
     },
     "metadata": {},
     "output_type": "display_data"
    },
    {
     "name": "stdout",
     "output_type": "stream",
     "text": [
      "[########################################] | 100% Completed | 110.37 ms\n"
     ]
    },
    {
     "data": {
      "application/vnd.jupyter.widget-view+json": {
       "model_id": "8adf97e8ecc24235913deb1318aa5a68",
       "version_major": 2,
       "version_minor": 0
      },
      "text/plain": [
       "Absorption correction calculation: 0it [00:00, ?it/s]"
      ]
     },
     "metadata": {},
     "output_type": "display_data"
    },
    {
     "name": "stdout",
     "output_type": "stream",
     "text": [
      "[########################################] | 100% Completed | 119.59 ms\n"
     ]
    },
    {
     "data": {
      "application/vnd.jupyter.widget-view+json": {
       "model_id": "0c845ebb8a554bd1b1135b18e7fd7f3c",
       "version_major": 2,
       "version_minor": 0
      },
      "text/plain": [
       "Absorption correction calculation: 0it [00:00, ?it/s]"
      ]
     },
     "metadata": {},
     "output_type": "display_data"
    },
    {
     "name": "stdout",
     "output_type": "stream",
     "text": [
      "[########################################] | 100% Completed | 112.57 ms\n"
     ]
    },
    {
     "data": {
      "application/vnd.jupyter.widget-view+json": {
       "model_id": "38220b0a1bd942ed8968f16496876132",
       "version_major": 2,
       "version_minor": 0
      },
      "text/plain": [
       "Absorption correction calculation: 0it [00:00, ?it/s]"
      ]
     },
     "metadata": {},
     "output_type": "display_data"
    },
    {
     "name": "stdout",
     "output_type": "stream",
     "text": [
      "[########################################] | 100% Completed | 114.68 ms\n"
     ]
    },
    {
     "data": {
      "application/vnd.jupyter.widget-view+json": {
       "model_id": "cd269bc8244f4d63a920a5ab165dd94e",
       "version_major": 2,
       "version_minor": 0
      },
      "text/plain": [
       "Absorption correction calculation: 0it [00:00, ?it/s]"
      ]
     },
     "metadata": {},
     "output_type": "display_data"
    },
    {
     "name": "stdout",
     "output_type": "stream",
     "text": [
      "[########################################] | 100% Completed | 113.68 ms\n"
     ]
    },
    {
     "data": {
      "application/vnd.jupyter.widget-view+json": {
       "model_id": "ebb39db72615466f8aee946d0569b48b",
       "version_major": 2,
       "version_minor": 0
      },
      "text/plain": [
       "Absorption correction calculation: 0it [00:00, ?it/s]"
      ]
     },
     "metadata": {},
     "output_type": "display_data"
    },
    {
     "name": "stdout",
     "output_type": "stream",
     "text": [
      "[########################################] | 100% Completed | 121.27 ms\n"
     ]
    },
    {
     "data": {
      "application/vnd.jupyter.widget-view+json": {
       "model_id": "63e0b420faba43d785892c5a8c0bb35c",
       "version_major": 2,
       "version_minor": 0
      },
      "text/plain": [
       "Absorption correction calculation: 0it [00:00, ?it/s]"
      ]
     },
     "metadata": {},
     "output_type": "display_data"
    },
    {
     "name": "stdout",
     "output_type": "stream",
     "text": [
      "[########################################] | 100% Completed | 113.24 ms\n",
      "GaSb_15kV_400pA\n"
     ]
    },
    {
     "data": {
      "application/vnd.jupyter.widget-view+json": {
       "model_id": "c6240be7a3ec472f956cdb09f79fc293",
       "version_major": 2,
       "version_minor": 0
      },
      "text/plain": [
       "Absorption correction calculation: 0it [00:00, ?it/s]"
      ]
     },
     "metadata": {},
     "output_type": "display_data"
    },
    {
     "name": "stdout",
     "output_type": "stream",
     "text": [
      "[########################################] | 100% Completed | 108.18 ms\n"
     ]
    },
    {
     "data": {
      "application/vnd.jupyter.widget-view+json": {
       "model_id": "80fd70150bec42ae8f282642c793c336",
       "version_major": 2,
       "version_minor": 0
      },
      "text/plain": [
       "Absorption correction calculation: 0it [00:00, ?it/s]"
      ]
     },
     "metadata": {},
     "output_type": "display_data"
    },
    {
     "name": "stdout",
     "output_type": "stream",
     "text": [
      "[########################################] | 100% Completed | 117.15 ms\n"
     ]
    },
    {
     "data": {
      "application/vnd.jupyter.widget-view+json": {
       "model_id": "61341da6aae249a089dc47321f7f063a",
       "version_major": 2,
       "version_minor": 0
      },
      "text/plain": [
       "Absorption correction calculation: 0it [00:00, ?it/s]"
      ]
     },
     "metadata": {},
     "output_type": "display_data"
    },
    {
     "name": "stdout",
     "output_type": "stream",
     "text": [
      "[########################################] | 100% Completed | 118.32 ms\n"
     ]
    },
    {
     "data": {
      "application/vnd.jupyter.widget-view+json": {
       "model_id": "483070b2205940709ab99c2d9398bca3",
       "version_major": 2,
       "version_minor": 0
      },
      "text/plain": [
       "Absorption correction calculation: 0it [00:00, ?it/s]"
      ]
     },
     "metadata": {},
     "output_type": "display_data"
    },
    {
     "name": "stdout",
     "output_type": "stream",
     "text": [
      "[########################################] | 100% Completed | 117.39 ms\n"
     ]
    },
    {
     "data": {
      "application/vnd.jupyter.widget-view+json": {
       "model_id": "771185f60e9f4da99ab8ee3d17f5ba66",
       "version_major": 2,
       "version_minor": 0
      },
      "text/plain": [
       "Absorption correction calculation: 0it [00:00, ?it/s]"
      ]
     },
     "metadata": {},
     "output_type": "display_data"
    },
    {
     "name": "stdout",
     "output_type": "stream",
     "text": [
      "[########################################] | 100% Completed | 111.73 ms\n"
     ]
    },
    {
     "data": {
      "application/vnd.jupyter.widget-view+json": {
       "model_id": "0e72a25552974472902a064b56bdd068",
       "version_major": 2,
       "version_minor": 0
      },
      "text/plain": [
       "Absorption correction calculation: 0it [00:00, ?it/s]"
      ]
     },
     "metadata": {},
     "output_type": "display_data"
    },
    {
     "name": "stdout",
     "output_type": "stream",
     "text": [
      "[########################################] | 100% Completed | 113.74 ms\n"
     ]
    },
    {
     "data": {
      "application/vnd.jupyter.widget-view+json": {
       "model_id": "f26fd1b440394e589774f51adc7818f3",
       "version_major": 2,
       "version_minor": 0
      },
      "text/plain": [
       "Absorption correction calculation: 0it [00:00, ?it/s]"
      ]
     },
     "metadata": {},
     "output_type": "display_data"
    },
    {
     "name": "stdout",
     "output_type": "stream",
     "text": [
      "[########################################] | 100% Completed | 120.22 ms\n"
     ]
    },
    {
     "data": {
      "application/vnd.jupyter.widget-view+json": {
       "model_id": "01441a71d16a43b485ef5d894e4b517b",
       "version_major": 2,
       "version_minor": 0
      },
      "text/plain": [
       "Absorption correction calculation: 0it [00:00, ?it/s]"
      ]
     },
     "metadata": {},
     "output_type": "display_data"
    },
    {
     "name": "stdout",
     "output_type": "stream",
     "text": [
      "[########################################] | 100% Completed | 114.82 ms\n"
     ]
    },
    {
     "data": {
      "application/vnd.jupyter.widget-view+json": {
       "model_id": "349a14516e7046c6a987bcf6814a1efa",
       "version_major": 2,
       "version_minor": 0
      },
      "text/plain": [
       "Absorption correction calculation: 0it [00:00, ?it/s]"
      ]
     },
     "metadata": {},
     "output_type": "display_data"
    },
    {
     "name": "stdout",
     "output_type": "stream",
     "text": [
      "[########################################] | 100% Completed | 115.39 ms\n"
     ]
    },
    {
     "data": {
      "application/vnd.jupyter.widget-view+json": {
       "model_id": "f972604337c342e48d4e7433292d7116",
       "version_major": 2,
       "version_minor": 0
      },
      "text/plain": [
       "Absorption correction calculation: 0it [00:00, ?it/s]"
      ]
     },
     "metadata": {},
     "output_type": "display_data"
    },
    {
     "name": "stdout",
     "output_type": "stream",
     "text": [
      "[########################################] | 100% Completed | 109.99 ms\n"
     ]
    },
    {
     "data": {
      "application/vnd.jupyter.widget-view+json": {
       "model_id": "8fcbbaae0d1f4378aa92a1f4c46014c0",
       "version_major": 2,
       "version_minor": 0
      },
      "text/plain": [
       "Absorption correction calculation: 0it [00:00, ?it/s]"
      ]
     },
     "metadata": {},
     "output_type": "display_data"
    },
    {
     "name": "stdout",
     "output_type": "stream",
     "text": [
      "[########################################] | 100% Completed | 109.73 ms\n"
     ]
    },
    {
     "data": {
      "application/vnd.jupyter.widget-view+json": {
       "model_id": "15caf547bcf344f4a5ebe273a7660e09",
       "version_major": 2,
       "version_minor": 0
      },
      "text/plain": [
       "Absorption correction calculation: 0it [00:00, ?it/s]"
      ]
     },
     "metadata": {},
     "output_type": "display_data"
    },
    {
     "name": "stdout",
     "output_type": "stream",
     "text": [
      "[########################################] | 100% Completed | 109.29 ms\n"
     ]
    },
    {
     "data": {
      "application/vnd.jupyter.widget-view+json": {
       "model_id": "5ea43c6a314f44e4a39bc5fcfe50671b",
       "version_major": 2,
       "version_minor": 0
      },
      "text/plain": [
       "Absorption correction calculation: 0it [00:00, ?it/s]"
      ]
     },
     "metadata": {},
     "output_type": "display_data"
    },
    {
     "name": "stdout",
     "output_type": "stream",
     "text": [
      "[########################################] | 100% Completed | 110.78 ms\n"
     ]
    },
    {
     "data": {
      "application/vnd.jupyter.widget-view+json": {
       "model_id": "093eb8b5e6c24994920cde99e7a0a30b",
       "version_major": 2,
       "version_minor": 0
      },
      "text/plain": [
       "Absorption correction calculation: 0it [00:00, ?it/s]"
      ]
     },
     "metadata": {},
     "output_type": "display_data"
    },
    {
     "name": "stdout",
     "output_type": "stream",
     "text": [
      "[########################################] | 100% Completed | 112.82 ms\n"
     ]
    },
    {
     "data": {
      "application/vnd.jupyter.widget-view+json": {
       "model_id": "ebbd0836d9bd454bba31e7d53f5bfe11",
       "version_major": 2,
       "version_minor": 0
      },
      "text/plain": [
       "Absorption correction calculation: 0it [00:00, ?it/s]"
      ]
     },
     "metadata": {},
     "output_type": "display_data"
    },
    {
     "name": "stdout",
     "output_type": "stream",
     "text": [
      "[########################################] | 100% Completed | 105.04 ms\n",
      "GaSb_30kV_400pA_processTime1\n"
     ]
    },
    {
     "data": {
      "application/vnd.jupyter.widget-view+json": {
       "model_id": "5684179c30d64fd0b3df70a3de3860e1",
       "version_major": 2,
       "version_minor": 0
      },
      "text/plain": [
       "Absorption correction calculation: 0it [00:00, ?it/s]"
      ]
     },
     "metadata": {},
     "output_type": "display_data"
    },
    {
     "name": "stdout",
     "output_type": "stream",
     "text": [
      "[########################################] | 100% Completed | 107.01 ms\n"
     ]
    },
    {
     "data": {
      "application/vnd.jupyter.widget-view+json": {
       "model_id": "8f151ed8862a4c9ba25a3b0a7117f857",
       "version_major": 2,
       "version_minor": 0
      },
      "text/plain": [
       "Absorption correction calculation: 0it [00:00, ?it/s]"
      ]
     },
     "metadata": {},
     "output_type": "display_data"
    },
    {
     "name": "stdout",
     "output_type": "stream",
     "text": [
      "[########################################] | 100% Completed | 105.93 ms\n"
     ]
    },
    {
     "data": {
      "application/vnd.jupyter.widget-view+json": {
       "model_id": "872ec71997764ff5aba70f86e263bef5",
       "version_major": 2,
       "version_minor": 0
      },
      "text/plain": [
       "Absorption correction calculation: 0it [00:00, ?it/s]"
      ]
     },
     "metadata": {},
     "output_type": "display_data"
    },
    {
     "name": "stdout",
     "output_type": "stream",
     "text": [
      "[########################################] | 100% Completed | 116.02 ms\n"
     ]
    },
    {
     "data": {
      "application/vnd.jupyter.widget-view+json": {
       "model_id": "14cc364e5232428d81b126331af6a871",
       "version_major": 2,
       "version_minor": 0
      },
      "text/plain": [
       "Absorption correction calculation: 0it [00:00, ?it/s]"
      ]
     },
     "metadata": {},
     "output_type": "display_data"
    },
    {
     "name": "stdout",
     "output_type": "stream",
     "text": [
      "[########################################] | 100% Completed | 106.52 ms\n"
     ]
    },
    {
     "data": {
      "application/vnd.jupyter.widget-view+json": {
       "model_id": "62b20390008c427d88c6d64ed88d45f0",
       "version_major": 2,
       "version_minor": 0
      },
      "text/plain": [
       "Absorption correction calculation: 0it [00:00, ?it/s]"
      ]
     },
     "metadata": {},
     "output_type": "display_data"
    },
    {
     "name": "stdout",
     "output_type": "stream",
     "text": [
      "[########################################] | 100% Completed | 122.06 ms\n"
     ]
    },
    {
     "data": {
      "application/vnd.jupyter.widget-view+json": {
       "model_id": "f28aa030272c4752b37c7413caeeb42d",
       "version_major": 2,
       "version_minor": 0
      },
      "text/plain": [
       "Absorption correction calculation: 0it [00:00, ?it/s]"
      ]
     },
     "metadata": {},
     "output_type": "display_data"
    },
    {
     "name": "stdout",
     "output_type": "stream",
     "text": [
      "[########################################] | 100% Completed | 119.85 ms\n"
     ]
    },
    {
     "data": {
      "application/vnd.jupyter.widget-view+json": {
       "model_id": "0d843a55a47e44779a181c4ed30025df",
       "version_major": 2,
       "version_minor": 0
      },
      "text/plain": [
       "Absorption correction calculation: 0it [00:00, ?it/s]"
      ]
     },
     "metadata": {},
     "output_type": "display_data"
    },
    {
     "name": "stdout",
     "output_type": "stream",
     "text": [
      "[########################################] | 100% Completed | 110.94 ms\n"
     ]
    },
    {
     "data": {
      "application/vnd.jupyter.widget-view+json": {
       "model_id": "a369d3d6150141998822641e01415f99",
       "version_major": 2,
       "version_minor": 0
      },
      "text/plain": [
       "Absorption correction calculation: 0it [00:00, ?it/s]"
      ]
     },
     "metadata": {},
     "output_type": "display_data"
    },
    {
     "name": "stdout",
     "output_type": "stream",
     "text": [
      "[########################################] | 100% Completed | 117.42 ms\n"
     ]
    },
    {
     "data": {
      "application/vnd.jupyter.widget-view+json": {
       "model_id": "c695b7edaa344d55bb03eaec16f99977",
       "version_major": 2,
       "version_minor": 0
      },
      "text/plain": [
       "Absorption correction calculation: 0it [00:00, ?it/s]"
      ]
     },
     "metadata": {},
     "output_type": "display_data"
    },
    {
     "name": "stdout",
     "output_type": "stream",
     "text": [
      "[########################################] | 100% Completed | 108.96 ms\n"
     ]
    },
    {
     "data": {
      "application/vnd.jupyter.widget-view+json": {
       "model_id": "659d282341fe48068890dff5e2920ff9",
       "version_major": 2,
       "version_minor": 0
      },
      "text/plain": [
       "Absorption correction calculation: 0it [00:00, ?it/s]"
      ]
     },
     "metadata": {},
     "output_type": "display_data"
    },
    {
     "name": "stdout",
     "output_type": "stream",
     "text": [
      "[########################################] | 100% Completed | 110.10 ms\n"
     ]
    },
    {
     "data": {
      "application/vnd.jupyter.widget-view+json": {
       "model_id": "e2ba718c4e6f4eed90df356fb8234592",
       "version_major": 2,
       "version_minor": 0
      },
      "text/plain": [
       "Absorption correction calculation: 0it [00:00, ?it/s]"
      ]
     },
     "metadata": {},
     "output_type": "display_data"
    },
    {
     "name": "stdout",
     "output_type": "stream",
     "text": [
      "[########################################] | 100% Completed | 116.63 ms\n"
     ]
    },
    {
     "data": {
      "application/vnd.jupyter.widget-view+json": {
       "model_id": "ddb377eaed4c4a5cbe91248986ebda97",
       "version_major": 2,
       "version_minor": 0
      },
      "text/plain": [
       "Absorption correction calculation: 0it [00:00, ?it/s]"
      ]
     },
     "metadata": {},
     "output_type": "display_data"
    },
    {
     "name": "stdout",
     "output_type": "stream",
     "text": [
      "[########################################] | 100% Completed | 111.07 ms\n"
     ]
    },
    {
     "data": {
      "application/vnd.jupyter.widget-view+json": {
       "model_id": "2bc172c5431745a482359f1d17b24993",
       "version_major": 2,
       "version_minor": 0
      },
      "text/plain": [
       "Absorption correction calculation: 0it [00:00, ?it/s]"
      ]
     },
     "metadata": {},
     "output_type": "display_data"
    },
    {
     "name": "stdout",
     "output_type": "stream",
     "text": [
      "[########################################] | 100% Completed | 115.22 ms\n"
     ]
    },
    {
     "data": {
      "application/vnd.jupyter.widget-view+json": {
       "model_id": "6ea96972c7324e5cb70ad823c0482ae3",
       "version_major": 2,
       "version_minor": 0
      },
      "text/plain": [
       "Absorption correction calculation: 0it [00:00, ?it/s]"
      ]
     },
     "metadata": {},
     "output_type": "display_data"
    },
    {
     "name": "stdout",
     "output_type": "stream",
     "text": [
      "[########################################] | 100% Completed | 106.15 ms\n"
     ]
    },
    {
     "data": {
      "application/vnd.jupyter.widget-view+json": {
       "model_id": "7b83990180e94fb9844d63ece5229c57",
       "version_major": 2,
       "version_minor": 0
      },
      "text/plain": [
       "Absorption correction calculation: 0it [00:00, ?it/s]"
      ]
     },
     "metadata": {},
     "output_type": "display_data"
    },
    {
     "name": "stdout",
     "output_type": "stream",
     "text": [
      "[########################################] | 100% Completed | 108.85 ms\n"
     ]
    }
   ],
   "source": [
    "# took 3-4 min\n",
    "for f in df['File'].unique():\n",
    "    print(f)\n",
    "    quant_as_TEM(f)"
   ]
  },
  {
   "cell_type": "code",
   "execution_count": 23,
   "metadata": {},
   "outputs": [
    {
     "name": "stdout",
     "output_type": "stream",
     "text": [
      "GaAs_05kV_25pA\n",
      "[########################################] | 100% Completed | 117.81 ms\n",
      "[########################################] | 100% Completed | 105.61 ms\n",
      "[########################################] | 100% Completed | 113.05 ms\n",
      "GaAs_10kV_25pA\n",
      "[########################################] | 100% Completed | 115.12 ms\n",
      "[########################################] | 100% Completed | 105.22 ms\n",
      "[########################################] | 100% Completed | 107.00 ms\n",
      "GaAs_15kV_25pA\n",
      "[########################################] | 100% Completed | 114.19 ms\n",
      "[########################################] | 100% Completed | 119.00 ms\n",
      "[########################################] | 100% Completed | 119.15 ms\n",
      "GaAs_30kV_25pA\n",
      "[########################################] | 100% Completed | 114.66 ms\n",
      "[########################################] | 100% Completed | 118.20 ms\n",
      "[########################################] | 100% Completed | 121.87 ms\n",
      "GaAs_30kV_50pA\n",
      "[########################################] | 100% Completed | 104.25 ms\n",
      "[########################################] | 100% Completed | 116.58 ms\n",
      "[########################################] | 100% Completed | 119.48 ms\n",
      "GaSb_05kV_50pA\n",
      "Ga_La not found in m, quantification with model not possible\n",
      "Sb_Mz not found in m, quantification with model not possible\n",
      "[########################################] | 100% Completed | 117.97 ms\n",
      "GaSb_10kV_50pA\n",
      "[########################################] | 100% Completed | 112.80 ms\n",
      "[########################################] | 100% Completed | 116.98 ms\n",
      "[########################################] | 100% Completed | 105.04 ms\n",
      "GaSb_15kV_50pA\n",
      "[########################################] | 100% Completed | 109.65 ms\n",
      "[########################################] | 100% Completed | 114.62 ms\n",
      "[########################################] | 100% Completed | 107.99 ms\n",
      "GaSb_30kV_50pA\n",
      "[########################################] | 100% Completed | 110.05 ms\n",
      "[########################################] | 100% Completed | 119.60 ms\n",
      "[########################################] | 100% Completed | 117.83 ms\n",
      "GaSb_30kV_50pA_processTime1\n",
      "[########################################] | 100% Completed | 116.58 ms\n",
      "[########################################] | 100% Completed | 113.50 ms\n",
      "[########################################] | 100% Completed | 113.93 ms\n",
      "GaSb_30kV_50pA_processTime2\n",
      "[########################################] | 100% Completed | 119.42 ms\n",
      "[########################################] | 100% Completed | 108.45 ms\n",
      "[########################################] | 100% Completed | 111.47 ms\n",
      "GaSb_30kV_50pA_processTime4\n",
      "[########################################] | 100% Completed | 116.04 ms\n",
      "[########################################] | 100% Completed | 115.78 ms\n",
      "[########################################] | 100% Completed | 118.40 ms\n",
      "GaSb_15kV_200pA\n",
      "[########################################] | 100% Completed | 114.32 ms\n",
      "[########################################] | 100% Completed | 118.90 ms\n",
      "[########################################] | 100% Completed | 114.50 ms\n",
      "GaSb_15kV_400pA\n",
      "[########################################] | 100% Completed | 113.43 ms\n",
      "[########################################] | 100% Completed | 116.69 ms\n",
      "[########################################] | 100% Completed | 120.97 ms\n",
      "GaSb_30kV_400pA_processTime1\n",
      "[########################################] | 100% Completed | 120.21 ms\n",
      "[########################################] | 100% Completed | 107.79 ms\n",
      "[########################################] | 100% Completed | 111.49 ms\n"
     ]
    }
   ],
   "source": [
    "# took 30 sec\n",
    "for f in df['File'].unique():\n",
    "    print(f)\n",
    "    quant_as_TEM(f, a_corr=False)"
   ]
  },
  {
   "cell_type": "code",
   "execution_count": 24,
   "metadata": {},
   "outputs": [
    {
     "data": {
      "text/html": [
       "<div>\n",
       "<style scoped>\n",
       "    .dataframe tbody tr th:only-of-type {\n",
       "        vertical-align: middle;\n",
       "    }\n",
       "\n",
       "    .dataframe tbody tr th {\n",
       "        vertical-align: top;\n",
       "    }\n",
       "\n",
       "    .dataframe thead th {\n",
       "        text-align: right;\n",
       "    }\n",
       "</style>\n",
       "<table border=\"1\" class=\"dataframe\">\n",
       "  <thead>\n",
       "    <tr style=\"text-align: right;\">\n",
       "      <th></th>\n",
       "      <th>File</th>\n",
       "      <th>Group</th>\n",
       "      <th>Element</th>\n",
       "      <th>Line series</th>\n",
       "      <th>k-factor</th>\n",
       "      <th>Line</th>\n",
       "      <th>AZ %at</th>\n",
       "      <th>HS %at s</th>\n",
       "      <th>HS %at s A</th>\n",
       "      <th>HS %at m</th>\n",
       "      <th>HS %at m A t=5e+01</th>\n",
       "      <th>HS %at m A t=1e+02</th>\n",
       "      <th>HS %at m A t=2e+02</th>\n",
       "      <th>HS %at m A t=4e+02</th>\n",
       "      <th>HS %at m A t=1e+03</th>\n",
       "      <th>HS %at m A t=1e+04</th>\n",
       "      <th>HS %at m A t=1e+05</th>\n",
       "    </tr>\n",
       "  </thead>\n",
       "  <tbody>\n",
       "    <tr>\n",
       "      <th>0</th>\n",
       "      <td>GaAs_05kV_25pA</td>\n",
       "      <td>A</td>\n",
       "      <td>As</td>\n",
       "      <td>L</td>\n",
       "      <td>1.210</td>\n",
       "      <td>As_La</td>\n",
       "      <td>45.40</td>\n",
       "      <td>45.00</td>\n",
       "      <td>62.93</td>\n",
       "      <td>45.41</td>\n",
       "      <td>46.90</td>\n",
       "      <td>48.24</td>\n",
       "      <td>50.56</td>\n",
       "      <td>53.98</td>\n",
       "      <td>59.51</td>\n",
       "      <td>63.19</td>\n",
       "      <td>63.19</td>\n",
       "    </tr>\n",
       "    <tr>\n",
       "      <th>1</th>\n",
       "      <td>GaAs_05kV_25pA</td>\n",
       "      <td>A</td>\n",
       "      <td>Ga</td>\n",
       "      <td>L</td>\n",
       "      <td>1.086</td>\n",
       "      <td>Ga_La</td>\n",
       "      <td>54.60</td>\n",
       "      <td>55.00</td>\n",
       "      <td>37.07</td>\n",
       "      <td>54.59</td>\n",
       "      <td>53.10</td>\n",
       "      <td>51.76</td>\n",
       "      <td>49.44</td>\n",
       "      <td>46.02</td>\n",
       "      <td>40.49</td>\n",
       "      <td>36.81</td>\n",
       "      <td>36.81</td>\n",
       "    </tr>\n",
       "    <tr>\n",
       "      <th>2</th>\n",
       "      <td>GaAs_10kV_25pA</td>\n",
       "      <td>A</td>\n",
       "      <td>As</td>\n",
       "      <td>L</td>\n",
       "      <td>1.310</td>\n",
       "      <td>As_La</td>\n",
       "      <td>42.09</td>\n",
       "      <td>41.43</td>\n",
       "      <td>60.58</td>\n",
       "      <td>41.62</td>\n",
       "      <td>43.22</td>\n",
       "      <td>44.65</td>\n",
       "      <td>47.15</td>\n",
       "      <td>50.84</td>\n",
       "      <td>56.79</td>\n",
       "      <td>60.71</td>\n",
       "      <td>60.71</td>\n",
       "    </tr>\n",
       "  </tbody>\n",
       "</table>\n",
       "</div>"
      ],
      "text/plain": [
       "             File Group Element Line series  k-factor   Line  AZ %at  \\\n",
       "0  GaAs_05kV_25pA     A      As           L     1.210  As_La   45.40   \n",
       "1  GaAs_05kV_25pA     A      Ga           L     1.086  Ga_La   54.60   \n",
       "2  GaAs_10kV_25pA     A      As           L     1.310  As_La   42.09   \n",
       "\n",
       "   HS %at s  HS %at s A  HS %at m  HS %at m A t=5e+01  HS %at m A t=1e+02  \\\n",
       "0     45.00       62.93     45.41               46.90               48.24   \n",
       "1     55.00       37.07     54.59               53.10               51.76   \n",
       "2     41.43       60.58     41.62               43.22               44.65   \n",
       "\n",
       "   HS %at m A t=2e+02  HS %at m A t=4e+02  HS %at m A t=1e+03  \\\n",
       "0               50.56               53.98               59.51   \n",
       "1               49.44               46.02               40.49   \n",
       "2               47.15               50.84               56.79   \n",
       "\n",
       "   HS %at m A t=1e+04  HS %at m A t=1e+05  \n",
       "0               63.19               63.19  \n",
       "1               36.81               36.81  \n",
       "2               60.71               60.71  "
      ]
     },
     "execution_count": 24,
     "metadata": {},
     "output_type": "execute_result"
    }
   ],
   "source": [
    "df.head(3)"
   ]
  },
  {
   "cell_type": "code",
   "execution_count": null,
   "metadata": {},
   "outputs": [],
   "source": [
    "y_keys = ['AZ %at', 'HS %at s','HS %at m A t=5e+01', 'HS %at m A t=1e+02', 'HS %at m A t=2e+02', 'HS %at m A t=4e+02', 'HS %at m A t=1e+03', 'HS %at m A t=1e+04', 'HS %at m A t=1e+05']\n",
    "x_key = ['File']\n",
    "\n"
   ]
  },
  {
   "cell_type": "code",
   "execution_count": 34,
   "metadata": {},
   "outputs": [
    {
     "data": {
      "text/plain": [
       "31"
      ]
     },
     "execution_count": 34,
     "metadata": {},
     "output_type": "execute_result"
    }
   ],
   "source": [
    "hs.material.elements[['Ga']]['General_properties']['Z']"
   ]
  },
  {
   "cell_type": "code",
   "execution_count": 36,
   "metadata": {},
   "outputs": [
    {
     "data": {
      "text/html": [
       "\n",
       "    <ul style=\"margin: 0px; list-style-position: outside;\">\n",
       "    <li style='margin-left:1em; padding-left: 0.5em'>Z = 29</li></ul>\n",
       "    \n",
       "    <ul style=\"margin: 0px; list-style-position: outside;\">\n",
       "    <li style='margin-left:1em; padding-left: 0.5em'>atomic_weight = 63.546</li></ul>\n",
       "    \n",
       "    <ul style=\"margin: 0px; list-style-position: outside;\">\n",
       "    <li style='margin-left:1em; padding-left: 0.5em'>name = copper</li></ul>\n",
       "    "
      ],
      "text/plain": [
       "├── Z = 29\n",
       "├── atomic_weight = 63.546\n",
       "└── name = copper"
      ]
     },
     "execution_count": 36,
     "metadata": {},
     "output_type": "execute_result"
    }
   ],
   "source": [
    "hs.material.elements.Cu.General_properties"
   ]
  },
  {
   "cell_type": "markdown",
   "metadata": {},
   "source": []
  },
  {
   "cell_type": "code",
   "execution_count": null,
   "metadata": {},
   "outputs": [],
   "source": [
    "yolo = "
   ]
  },
  {
   "cell_type": "code",
   "execution_count": 26,
   "metadata": {},
   "outputs": [],
   "source": [
    "# save the df to excel\n",
    "df.to_excel('results/quant_as_TEM.xlsx')"
   ]
  },
  {
   "cell_type": "code",
   "execution_count": null,
   "metadata": {},
   "outputs": [],
   "source": [
    "fig = go.Figure()\n",
    "lines_list = ['Sb_La', 'As_Ka', 'Ga_Ka', 'Ga_La', 'As_La']\n",
    "colors = ['#636EFA', '#EF553B', '#00CC96', '#AB63FA', '#FFA15A', '#19D3F3', '#FF6692', '#B6E880', '#FF97FF', '#FECB52'] # plotly colors\n",
    "\n",
    "for l in lines_list:\n",
    "    for y in y_keys:\n",
    "        i = y_keys.index(y)\n",
    "        fig.add_scatter(x=df[df['Line'] == l]['File'], y = df[df['Line'] == l][y], mode='markers', name=y, marker=dict(size=8, color=colors[i]), legendgroup=y, showlegend=True if l == lines_list[0] else False)\n",
    "fig.update_layout(title='Data treated as TEM, quantified with HS using different quantification parameters<br><sub>s=original spectrum, m=model, A=absorption correction, t=thickness')\n",
    "fig.update_layout(legend=dict(orientation=\"h\", yanchor=\"bottom\", y=1.02, xanchor=\"right\", x=1))\n",
    "fig.update_yaxes(range=[0, 100])\n",
    "fig"
   ]
  },
  {
   "cell_type": "code",
   "execution_count": null,
   "metadata": {},
   "outputs": [],
   "source": [
    "# fig.write_html('results/quant_as_TEM.html')"
   ]
  },
  {
   "cell_type": "code",
   "execution_count": null,
   "metadata": {},
   "outputs": [],
   "source": []
  }
 ],
 "metadata": {
  "kernelspec": {
   "display_name": "hspy",
   "language": "python",
   "name": "python3"
  },
  "language_info": {
   "codemirror_mode": {
    "name": "ipython",
    "version": 3
   },
   "file_extension": ".py",
   "mimetype": "text/x-python",
   "name": "python",
   "nbconvert_exporter": "python",
   "pygments_lexer": "ipython3",
   "version": "3.8.16"
  },
  "orig_nbformat": 4
 },
 "nbformat": 4,
 "nbformat_minor": 2
}
