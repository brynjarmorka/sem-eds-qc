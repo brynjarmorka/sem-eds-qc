{
 "cells": [
  {
   "cell_type": "code",
   "execution_count": null,
   "metadata": {},
   "outputs": [],
   "source": [
    "import hyperspy.api as hs"
   ]
  },
  {
   "cell_type": "code",
   "execution_count": null,
   "metadata": {},
   "outputs": [],
   "source": [
    "path = 'data/Maehlum_2022-09-06_EDS-SEM-APREO'\n",
    "file30 = 'GaAs_30kV.emsa'\n",
    "elements = ['Ga', 'As']\n",
    "zero_peak_end_index = 33"
   ]
  },
  {
   "cell_type": "code",
   "execution_count": null,
   "metadata": {},
   "outputs": [],
   "source": [
    "def do_calibration(lines, calibrate_lines=False):\n",
    "    s = hs.load(path + '/' + file30, signal_type='EDS_SEM')\n",
    "    s.add_elements(elements)\n",
    "    s = s.isig[zero_peak_end_index:]\n",
    "\n",
    "    # make model\n",
    "    m = s.create_model()\n",
    "    m.fit()\n",
    "    m.fit_background() # makes the bg fit better\n",
    "\n",
    "    print_str = f'{s.metadata.Acquisition_instrument.SEM.Detector.EDS.energy_resolution_MnKa:.2f} eV -->'\n",
    "\n",
    "    # calibrate the lines, usually changes the resolution +/- 1 eV\n",
    "    if calibrate_lines:\n",
    "        m.calibrate_xray_lines(calibrate='energy', xray_lines='all', kind='multi', iterpath='serpentine')\n",
    "        m.calibrate_xray_lines(calibrate='width', xray_lines='all', kind='multi', iterpath='serpentine')\n",
    "\n",
    "    # now calibrate on the requested lines, or 'all_alpha'\n",
    "    m.calibrate_energy_axis(calibrate='resolution', xray_lines=lines)\n",
    "\n",
    "    print(f'{print_str} {s.metadata.Acquisition_instrument.SEM.Detector.EDS.energy_resolution_MnKa:.2f} eV')\n",
    "\n",
    "    return s, m"
   ]
  },
  {
   "cell_type": "code",
   "execution_count": null,
   "metadata": {},
   "outputs": [],
   "source": [
    "def test_multiple_lines(lines_to_test):\n",
    "    results = []\n",
    "    for lines in lines_to_test:\n",
    "        print(f'{lines}')\n",
    "        s, m = do_calibration(lines)\n",
    "        results.append([lines, s.metadata.Acquisition_instrument.SEM.Detector.EDS.energy_resolution_MnKa])\n",
    "    return results"
   ]
  },
  {
   "cell_type": "code",
   "execution_count": null,
   "metadata": {},
   "outputs": [],
   "source": [
    "lines_to_test = ['all_alpha', ['As_Ka'], ['As_La'], ['Ga_Ka'], ['Ga_La']]\n",
    "lines_to_test2 = [['As_Ka', 'As_La', 'Ga_Ka', 'Ga_La'], ['Ga_La', 'As_Ka', 'As_La', 'Ga_Ka'], ['Ga_Ka', 'Ga_La', 'As_Ka', 'As_La']]\n",
    "results = test_multiple_lines(lines_to_test)\n",
    "results2 = test_multiple_lines(lines_to_test2)"
   ]
  },
  {
   "cell_type": "code",
   "execution_count": null,
   "metadata": {},
   "outputs": [],
   "source": [
    "test_3 = [['Ga_La'], ['Ga_La', 'As_Ka'], ['Ga_La', 'As_Ka', 'As_La'], ['Ga_La', 'As_Ka', 'As_La', 'Ga_Ka'], ['Ga_La', 'As_Ka', 'As_La', 'Ga_Ka', 'Ga_Ll', 'Ga_Kb']]\n",
    "results3 = test_multiple_lines(test_3)"
   ]
  },
  {
   "cell_type": "code",
   "execution_count": null,
   "metadata": {},
   "outputs": [],
   "source": [
    "# testing As_Ka\n",
    "test_4 = [['As_Ka'], ['As_Ka', 'Ga_Kb'], ['As_Ka', 'Ga_La', 'As_La', 'Ga_Ka'], ['As_Ka', 'Ga_La', 'As_La', 'Ga_Ka', 'Ga_Kb']]\n",
    "results4 = test_multiple_lines(test_4)"
   ]
  }
 ],
 "metadata": {
  "kernelspec": {
   "display_name": "hspy",
   "language": "python",
   "name": "python3"
  },
  "language_info": {
   "codemirror_mode": {
    "name": "ipython",
    "version": 3
   },
   "file_extension": ".py",
   "mimetype": "text/x-python",
   "name": "python",
   "nbconvert_exporter": "python",
   "pygments_lexer": "ipython3",
   "version": "3.8.16"
  },
  "orig_nbformat": 4,
  "vscode": {
   "interpreter": {
    "hash": "eedee208f6f0fe67ac5ec53646d8853bbb152098f521b748accd5958a126e1a5"
   }
  }
 },
 "nbformat": 4,
 "nbformat_minor": 2
}
