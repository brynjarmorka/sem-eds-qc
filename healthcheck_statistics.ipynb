{
 "cells": [
  {
   "cell_type": "code",
   "execution_count": null,
   "metadata": {},
   "outputs": [],
   "source": [
    "import hyperspy.api as hs\n",
    "import numpy as np\n",
    "import matplotlib.pyplot as plt\n",
    "import pandas as pd\n",
    "import plotly.graph_objects as go\n",
    "\n",
    "from helper_functions import elementlines, nearestlines, theoretical_energy\n",
    "\n",
    "# %matplotlib inline\n",
    "# %matplotlib qt"
   ]
  },
  {
   "cell_type": "code",
   "execution_count": null,
   "metadata": {},
   "outputs": [],
   "source": [
    "hs.eds.xray_range('Cu_Ka', 30., hs.material.elements.C.\n",
    "                  Physical_properties.density_gcm3)"
   ]
  },
  {
   "cell_type": "code",
   "execution_count": null,
   "metadata": {},
   "outputs": [],
   "source": [
    "# files_GaAsCu = ['GaAs_Cu_30kV_50pA_withPulsePileUpCorrection', 'GaAs_Cu_30kV_50pA_noPulsePileUpCorrection']\n",
    "files_GaAs = ['GaAs_05kV_25pA', 'GaAs_10kV_25pA', 'GaAs_15kV_25pA', 'GaAs_30kV_25pA', 'GaAs_30kV_50pA']\n",
    "# files_GaSb = ['GaSb_05kV_50pA', 'GaSb_10kV_50pA', 'GaSb_15kV_50pA', 'GaSb_30kV_50pA', 'GaSb_30kV_50pA_noPPUC', 'GaSb_30kV_50pA_processTime1', \n",
    "        # 'GaSb_30kV_50pA_processTime2', 'GaSb_30kV_50pA_processTime4', 'GaSb_30kV_400pA_processTime1', 'GaSb_15kV_200pA', 'GaSb_15kV_400pA']\n",
    "files_GaSb = ['GaSb_05kV_50pA', 'GaSb_10kV_50pA', 'GaSb_15kV_50pA', 'GaSb_30kV_50pA',                          'GaSb_30kV_50pA_processTime1', \n",
    "        'GaSb_30kV_50pA_processTime2', 'GaSb_30kV_50pA_processTime4', 'GaSb_30kV_400pA_processTime1', 'GaSb_15kV_200pA', 'GaSb_15kV_400pA']\n"
   ]
  },
  {
   "cell_type": "code",
   "execution_count": null,
   "metadata": {},
   "outputs": [],
   "source": [
    "# name = 'GaSb'\n",
    "# files = files_GaSb\n",
    "# name = 'GaAs'\n",
    "# files = files_GaAs\n",
    "# name = 'GaAsCu'\n",
    "# files = files_GaAsCu\n",
    "\n",
    "files_all = files_GaSb + files_GaAs\n",
    "name = 'GaSb+GaAs'\n",
    "files = files_all"
   ]
  },
  {
   "cell_type": "code",
   "execution_count": null,
   "metadata": {},
   "outputs": [],
   "source": [
    "# # read the lines_info file\n",
    "lines = [pd.read_csv(f'results/lines_info/{file}_lines_info.csv', index_col=0) for file in files]\n",
    "lines[1].head(2)"
   ]
  },
  {
   "cell_type": "code",
   "execution_count": null,
   "metadata": {},
   "outputs": [],
   "source": [
    "new_column_names = ['E_0', 'I_b', 'PT', 'ICR', 'DT', 'Live time', 'Duane-Hunt', 'Scale', 'Offset', 'E-res']\n",
    "old_column_names = ['Nominal beam energy [kV]', 'Beam current [pA]', 'Process time', 'ICR', 'Dead time [%]', 'Live time [s]', 'Duane-Hunt limit [kV]', 'Scale [keV]', 'Offset [keV]', 'Energy resolution [eV]']"
   ]
  },
  {
   "cell_type": "code",
   "execution_count": null,
   "metadata": {},
   "outputs": [],
   "source": [
    "calibrations = [pd.read_csv(f'results/{file}_output.csv', index_col=0) for file in files]\n",
    "calibs = pd.concat(calibrations, axis=1)\n",
    "calibs.columns = calibs.iloc[0]\n",
    "calibs = calibs.drop(calibs.index[0])\n",
    "calibs = calibs.astype(float)\n",
    "# limit df precision to 2 decimals\n",
    "# calibs = calibs.round(2)\n",
    "calibs.columns = [name.replace('processTime', 'PT') for name in calibs.columns]\n",
    "\n",
    "df = calibs.T\n",
    "df = df.rename(columns=dict(zip(old_column_names, new_column_names)))\n",
    "\n",
    "df.head(2)"
   ]
  },
  {
   "cell_type": "code",
   "execution_count": null,
   "metadata": {},
   "outputs": [],
   "source": [
    "# Duane-Hunt limit\n",
    "print('Mean Duane-Hunt deviation: ', (df[df['Duane-Hunt']>4]['Duane-Hunt']-df[df['Duane-Hunt']>4]['E_0']).abs().mean())\n",
    "print('STD Duane-Hunt deviation: ', (df[df['Duane-Hunt']>4]['Duane-Hunt']-df[df['Duane-Hunt']>4]['E_0']).abs().std())\n",
    "# df[df['Duane-Hunt']>4][['E_0', 'I_b', 'PT', 'Duane-Hunt']]"
   ]
  },
  {
   "cell_type": "code",
   "execution_count": null,
   "metadata": {},
   "outputs": [],
   "source": [
    "# Fiori numbers\n",
    "fiori_keys = df.keys()[df.keys().str.contains('Fiori')].to_list()\n",
    "\n",
    "df[['E_0', 'I_b', 'PT'] + fiori_keys]"
   ]
  },
  {
   "cell_type": "code",
   "execution_count": null,
   "metadata": {},
   "outputs": [],
   "source": [
    "# adding column \"Percentage that is bg\"\n",
    "df['Bg %'] = df['Background counts'] / df['Total counts']"
   ]
  },
  {
   "cell_type": "code",
   "execution_count": null,
   "metadata": {},
   "outputs": [],
   "source": [
    "line_info_to_add = ['Ga_La', 'As_La', 'Sb_La', 'Ga_Ka', 'As_Ka']\n",
    "\n",
    "for line in line_info_to_add:\n",
    "    temp_fwhm = []\n",
    "    temp_deviation = []\n",
    "    for l in lines:\n",
    "        # l is the df of one file\n",
    "        # now line is e.g. 'Ga_La'\n",
    "        try:\n",
    "            temp_fwhm.append(l.loc[line]['FWHM [eV]'])\n",
    "            temp_deviation.append(l.loc[line]['Delta E [eV]'])\n",
    "        except KeyError:\n",
    "            temp_fwhm.append(np.nan)\n",
    "            temp_deviation.append(np.nan)\n",
    "    df['FWHM(' + line + ')'] = temp_fwhm\n",
    "    df['dE(' + line + ')'] = temp_deviation\n",
    "\n",
    "df"
   ]
  },
  {
   "cell_type": "code",
   "execution_count": null,
   "metadata": {},
   "outputs": [],
   "source": [
    "\n",
    "fwhm_Ga_La = [l.loc['Ga_La']['FWHM [eV]'] for l in lines]\n",
    "deltaE_Ga_La = [l.loc['Ga_La']['Delta E [eV]'] for l in lines]\n",
    "df['FWHM [eV] (Ga_La)'] = fwhm_Ga_La\n",
    "df['Delta E [eV] (Ga_La)'] = deltaE_Ga_La\n",
    "\n",
    "fwhm_Ga_Ka = []\n",
    "deltaE_Ga_Ka = []\n",
    "fwhm_As_La = []\n",
    "deltaE_As_La = []\n",
    "fwhm_As_Ka = []\n",
    "deltaE_As_Ka = []\n",
    "fwhm_Sb_La = []\n",
    "deltaE_Sb_La = []\n",
    "\n",
    "\n",
    "for l in lines:\n",
    "    try:\n",
    "        fwhm_Ga_Ka.append(l.loc['Ga_Ka']['FWHM [eV]'])\n",
    "        deltaE_Ga_Ka.append(l.loc['Ga_Ka']['Delta E [eV]'])\n",
    "    except KeyError:\n",
    "        fwhm_Ga_Ka.append(np.nan)\n",
    "        deltaE_Ga_Ka.append(np.nan)\n",
    "df['FWHM [eV] (Ga_Ka)'] = fwhm_Ga_Ka\n",
    "df['Delta E [eV] (Ga_Ka)'] = deltaE_Ga_Ka\n",
    "\n",
    "# if name == 'GaAs':\n",
    "#     fwhm_As_La = [l.loc['As_La']['FWHM [eV]'] for l in lines]\n",
    "#     deltaE_As_La = [l.loc['As_La']['Delta E [eV]'] for l in lines]\n",
    "#     df['FWHM [eV] (As_La)'] = fwhm_As_La\n",
    "#     df['Delta E [eV] (As_La)'] = deltaE_As_La\n",
    "\n",
    "# if name == 'GaSb':\n",
    "#     fwhm_Sb_La = [l.loc['Sb_La']['FWHM [eV]'] for l in lines]\n",
    "#     deltaE_Sb_La = [l.loc['Sb_La']['Delta E [eV]'] for l in lines]\n",
    "#     df['FWHM [eV] (Sb_La)'] = fwhm_Sb_La\n",
    "#     df['Delta E [eV] (Sb_La)'] = deltaE_Sb_La"
   ]
  },
  {
   "cell_type": "code",
   "execution_count": null,
   "metadata": {},
   "outputs": [],
   "source": [
    "df.to_excel(f'results/healthcheck_statistics_{name}.xlsx')"
   ]
  },
  {
   "cell_type": "code",
   "execution_count": null,
   "metadata": {},
   "outputs": [],
   "source": [
    "# Boxplot of the peak ratios\n",
    "ratio_keys = ['Ratio (Sb_La/Sb_Lb1)','Ratio (Ga_La/Sb_La)','Ratio (Ga_Ka/Ga_La)','Ratio (Ga_La/As_La)']\n",
    "# ratio_keys = []\n",
    "# for key in df.keys():\n",
    "#     if 'Ratio' in key:\n",
    "#         ratio_keys.append(key)\n",
    "    \n",
    "\n",
    "# make plotly boxplot\n",
    "fig = go.Figure()\n",
    "for key in ratio_keys:\n",
    "    fig.add_trace(go.Box(y=df[key], name=key[5:], boxpoints='all'))\n",
    "fig.update_layout(title=f'Peak ratios for {name}', yaxis_title='Peak ratio', xaxis_title='Peak')\n",
    "\n",
    "# plot again, but only if E_0 is 30\n",
    "for key in ratio_keys:\n",
    "    fig.add_trace(go.Box(y=df[df['E_0'] == 30][key], name=key[5:] + ' 30kV'))\n",
    "\n",
    "# y-axis range\n",
    "fig.update_yaxes(range=[-.2, 3.2])\n",
    "fig.show()"
   ]
  },
  {
   "cell_type": "code",
   "execution_count": null,
   "metadata": {},
   "outputs": [],
   "source": [
    "# make it as a scatter plot\n",
    "fig = go.Figure()\n",
    "for key in ratio_keys:\n",
    "    fig.add_trace(go.Scatter(x=df['E_0'], y=df[key], mode='markers', name=key[5:]))\n",
    "fig.update_layout(title=f'Peak ratios for {name}', yaxis_title='Peak ratio', xaxis_title='E_0 [kV]')\n",
    "fig.show()"
   ]
  },
  {
   "cell_type": "code",
   "execution_count": null,
   "metadata": {},
   "outputs": [],
   "source": []
  },
  {
   "cell_type": "code",
   "execution_count": null,
   "metadata": {},
   "outputs": [],
   "source": []
  },
  {
   "cell_type": "code",
   "execution_count": null,
   "metadata": {},
   "outputs": [],
   "source": [
    "## Looking at the calculated FWHMs from the 30 kV 50 pA files\n",
    "file_name = 'GaAs_30kV_50pA'\n",
    "df = pd.read_csv(f'results/lines_info/{file_name}_lines_info.csv', index_col=0)\n",
    "lines_of_interest = ['Ga_La', 'Ga_Ka', 'As_Ka', 'As_La', 'Ga_Lb1', 'Ga_Kb', 'As_Kb', 'As_Lb1']\n",
    "df = df.T[lines_of_interest].T\n",
    "df"
   ]
  },
  {
   "cell_type": "code",
   "execution_count": null,
   "metadata": {},
   "outputs": [],
   "source": [
    "## Looking at the calculated FWHMs from the 30 kV 50 pA files\n",
    "file_name = 'GaSb_30kV_50pA'\n",
    "df = pd.read_csv(f'results/lines_info/{file_name}_lines_info.csv', index_col=0)\n",
    "lines_of_interest = ['Sb_La', 'Ga_Ka', 'Sb_Lb1', 'Ga_La', 'Sb_Lb2', 'Ga_Kb']\n",
    "df = df.T[lines_of_interest].T\n",
    "df"
   ]
  },
  {
   "cell_type": "code",
   "execution_count": null,
   "metadata": {},
   "outputs": [],
   "source": []
  },
  {
   "cell_type": "code",
   "execution_count": null,
   "metadata": {},
   "outputs": [],
   "source": [
    "# plot Fiori P/B vs. kV\n",
    "def plot_fioris(li, vacc):\n",
    "    for l in li:\n",
    "        y = []\n",
    "        for i in range(len(vacc)):\n",
    "            try:\n",
    "                y.append(lines[i].T[l]['Fiori P/B'])\n",
    "            except:\n",
    "                y.append(np.nan)\n",
    "        plt.plot(vacc, y, label=l, marker='D')\n",
    "    plt.legend()\n",
    "    plt.xlabel('Nominal beam energy [kV]')\n",
    "    plt.ylabel('Fiori P/B')"
   ]
  },
  {
   "cell_type": "code",
   "execution_count": null,
   "metadata": {},
   "outputs": [],
   "source": [
    "# li=['Ga_La', 'Ga_Ka', 'As_La', 'As_Ka']\n",
    "# plot_fioris(li, vacc)"
   ]
  },
  {
   "cell_type": "code",
   "execution_count": null,
   "metadata": {},
   "outputs": [],
   "source": [
    "# # plot all fioris\n",
    "# all_lines = lines[3].T.columns\n",
    "# plot_fioris(all_lines, vacc)\n",
    "# plt.show()"
   ]
  },
  {
   "cell_type": "code",
   "execution_count": null,
   "metadata": {},
   "outputs": [],
   "source": [
    "# fig, (ax1, ax2) = plt.subplots(1, 2, sharex=False, sharey=False)\n",
    "# colors = plt.cm.Blues(np.linspace(0.3, 1, len(vacc)))\n",
    "# fig.set_size_inches(20, 5)\n",
    "\n",
    "# for i in range(len(vacc)):\n",
    "#     ax1.scatter(lines[i]['Calibrated E [keV]'], lines[i]['Fiori P/B'], label=f'{vacc[i]} kV', color=colors[i])\n",
    "#     ax1.legend()\n",
    "# for i in range(len(vacc)):\n",
    "#     ax2.scatter(lines[i]['Calibrated E [keV]'], lines[i]['Fiori P/B'], label=f'{vacc[i]} kV', color=colors[i])\n",
    "# ax2.set_xlim([0.25, 2])\n",
    "# ax2.set_ylim([-5, 100])\n",
    "\n",
    "# ax1.plot([0.25, 2], [100,100], color='gray', linestyle='--', alpha=0.7)\n",
    "# ax1.plot([0.25, 2], [-5,-5], color='gray', linestyle='--', alpha=0.7)\n",
    "# ax1.plot([0.25, 0.25], [-5,100], color='gray', linestyle='--', alpha=0.7)\n",
    "# ax1.plot([2, 2], [-5,100], color='gray', linestyle='--', alpha=0.7)\n",
    "\n",
    "# fig.supxlabel('keV')\n",
    "# ax1.set_ylabel('Fiori P/B')\n",
    "# plt.suptitle('Fiori P/B vs. X-ray energy')"
   ]
  },
  {
   "cell_type": "code",
   "execution_count": null,
   "metadata": {},
   "outputs": [],
   "source": []
  },
  {
   "cell_type": "code",
   "execution_count": null,
   "metadata": {},
   "outputs": [],
   "source": []
  },
  {
   "cell_type": "code",
   "execution_count": null,
   "metadata": {},
   "outputs": [],
   "source": []
  }
 ],
 "metadata": {
  "kernelspec": {
   "display_name": "hspy",
   "language": "python",
   "name": "python3"
  },
  "language_info": {
   "codemirror_mode": {
    "name": "ipython",
    "version": 3
   },
   "file_extension": ".py",
   "mimetype": "text/x-python",
   "name": "python",
   "nbconvert_exporter": "python",
   "pygments_lexer": "ipython3",
   "version": "3.8.16"
  },
  "orig_nbformat": 4,
  "vscode": {
   "interpreter": {
    "hash": "eedee208f6f0fe67ac5ec53646d8853bbb152098f521b748accd5958a126e1a5"
   }
  }
 },
 "nbformat": 4,
 "nbformat_minor": 2
}
