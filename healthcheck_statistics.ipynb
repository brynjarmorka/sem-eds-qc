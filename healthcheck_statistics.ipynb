{
 "cells": [
  {
   "cell_type": "code",
   "execution_count": null,
   "metadata": {},
   "outputs": [],
   "source": [
    "import hyperspy.api as hs\n",
    "import numpy as np\n",
    "import matplotlib.pyplot as plt\n",
    "import pandas as pd\n",
    "\n",
    "from helper_functions import elementlines, nearestlines, theoretical_energy"
   ]
  },
  {
   "cell_type": "code",
   "execution_count": null,
   "metadata": {},
   "outputs": [],
   "source": [
    "%matplotlib qt"
   ]
  },
  {
   "cell_type": "code",
   "execution_count": null,
   "metadata": {},
   "outputs": [],
   "source": [
    "%matplotlib inline"
   ]
  },
  {
   "cell_type": "code",
   "execution_count": null,
   "metadata": {},
   "outputs": [],
   "source": [
    "plt.rcParams['font.size'] = '12'\n",
    "plt.rcParams[\"figure.figsize\"] = (10, 6)\n",
    "plt.rcParams['lines.linewidth'] = 2\n",
    "plt.rcParams['font.family'] = 'monospace'"
   ]
  },
  {
   "cell_type": "code",
   "execution_count": null,
   "metadata": {},
   "outputs": [],
   "source": [
    "files_GaAs = ['GaAs_05kV', 'GaAs_10kV', 'GaAs_15kV', 'GaAs_30kV']\n",
    "vacc = [5, 10, 15, 30]"
   ]
  },
  {
   "cell_type": "code",
   "execution_count": null,
   "metadata": {},
   "outputs": [],
   "source": [
    "# # read the lines_info file\n",
    "lines = [pd.read_csv(f'results/lines_info/{name}_lines_info.csv', index_col=0) for name in files_GaAs]\n",
    "lines[3].head()"
   ]
  },
  {
   "cell_type": "code",
   "execution_count": null,
   "metadata": {},
   "outputs": [],
   "source": [
    "calibrations = [pd.read_csv(f'results/{name}_output.csv', index_col=0) for name in files_GaAs]\n",
    "# combine the calibs to one dataframe\n",
    "calibs = pd.concat(calibrations, axis=1)\n",
    "calibs.columns = calibs.iloc[0]\n",
    "calibs = calibs.drop(calibs.index[0])\n",
    "calibs = calibs.astype(float)\n",
    "calibs.head(20)"
   ]
  },
  {
   "cell_type": "code",
   "execution_count": null,
   "metadata": {},
   "outputs": [],
   "source": [
    "# plot Fiori P/B vs. kV\n",
    "def plot_fioris(li, vacc):\n",
    "    for l in li:\n",
    "        y = []\n",
    "        for i in range(len(vacc)):\n",
    "            try:\n",
    "                y.append(lines[i].T[l]['Fiori P/B'])\n",
    "            except:\n",
    "                y.append(np.nan)\n",
    "        plt.plot(vacc, y, label=l, marker='D')\n",
    "    plt.legend()\n",
    "    plt.xlabel('Nominal beam energy [kV]')\n",
    "    plt.ylabel('Fiori P/B')"
   ]
  },
  {
   "cell_type": "code",
   "execution_count": null,
   "metadata": {},
   "outputs": [],
   "source": [
    "li=['Ga_La', 'Ga_Ka', 'As_La', 'As_Ka']\n",
    "plot_fioris(li, vacc)"
   ]
  },
  {
   "cell_type": "code",
   "execution_count": null,
   "metadata": {},
   "outputs": [],
   "source": [
    "# plot all fioris\n",
    "all_lines = lines[3].T.columns\n",
    "plot_fioris(all_lines, vacc)\n",
    "plt.show()"
   ]
  },
  {
   "cell_type": "code",
   "execution_count": null,
   "metadata": {},
   "outputs": [],
   "source": [
    "fig, (ax1, ax2) = plt.subplots(1, 2, sharex=False, sharey=False)\n",
    "colors = plt.cm.Blues(np.linspace(0.3, 1, len(vacc)))\n",
    "fig.set_size_inches(20, 5)\n",
    "\n",
    "for i in range(len(vacc)):\n",
    "    ax1.scatter(lines[i]['Calibrated E [keV]'], lines[i]['Fiori P/B'], label=f'{vacc[i]} kV', color=colors[i])\n",
    "    ax1.legend()\n",
    "for i in range(len(vacc)):\n",
    "    ax2.scatter(lines[i]['Calibrated E [keV]'], lines[i]['Fiori P/B'], label=f'{vacc[i]} kV', color=colors[i])\n",
    "ax2.set_xlim([0.25, 2])\n",
    "ax2.set_ylim([-5, 100])\n",
    "\n",
    "ax1.plot([0.25, 2], [100,100], color='gray', linestyle='--', alpha=0.7)\n",
    "ax1.plot([0.25, 2], [-5,-5], color='gray', linestyle='--', alpha=0.7)\n",
    "ax1.plot([0.25, 0.25], [-5,100], color='gray', linestyle='--', alpha=0.7)\n",
    "ax1.plot([2, 2], [-5,100], color='gray', linestyle='--', alpha=0.7)\n",
    "\n",
    "fig.supxlabel('keV')\n",
    "ax1.set_ylabel('Fiori P/B')\n",
    "plt.suptitle('Fiori P/B vs. X-ray energy')"
   ]
  },
  {
   "cell_type": "code",
   "execution_count": null,
   "metadata": {},
   "outputs": [],
   "source": []
  },
  {
   "cell_type": "code",
   "execution_count": null,
   "metadata": {},
   "outputs": [],
   "source": []
  },
  {
   "cell_type": "code",
   "execution_count": null,
   "metadata": {},
   "outputs": [],
   "source": []
  }
 ],
 "metadata": {
  "kernelspec": {
   "display_name": "hspy",
   "language": "python",
   "name": "python3"
  },
  "language_info": {
   "codemirror_mode": {
    "name": "ipython",
    "version": 3
   },
   "file_extension": ".py",
   "mimetype": "text/x-python",
   "name": "python",
   "nbconvert_exporter": "python",
   "pygments_lexer": "ipython3",
   "version": "3.8.16"
  },
  "orig_nbformat": 4,
  "vscode": {
   "interpreter": {
    "hash": "eedee208f6f0fe67ac5ec53646d8853bbb152098f521b748accd5958a126e1a5"
   }
  }
 },
 "nbformat": 4,
 "nbformat_minor": 2
}
