{
 "cells": [
  {
   "cell_type": "code",
   "execution_count": null,
   "metadata": {},
   "outputs": [],
   "source": [
    "import hyperspy.api as hs\n",
    "import numpy as np\n",
    "import matplotlib.pyplot as plt\n",
    "import plotly.graph_objects as go\n",
    "import pandas as pd\n",
    "\n",
    "from helper_functions import elementlines, nearestlines"
   ]
  },
  {
   "cell_type": "code",
   "execution_count": null,
   "metadata": {},
   "outputs": [],
   "source": [
    "hs.load"
   ]
  },
  {
   "cell_type": "code",
   "execution_count": null,
   "metadata": {},
   "outputs": [],
   "source": [
    "%matplotlib qt"
   ]
  },
  {
   "attachments": {},
   "cell_type": "markdown",
   "metadata": {},
   "source": [
    "### Variables that you need to change\n",
    "\n",
    "- path\n",
    "    - path to the data\n",
    "- file\n",
    "    - file name\n",
    "- elements\n",
    "    - list of elements to be analyzed\n",
    "- lines_of_interest\n",
    "    - lines of interest, will be included in the output\n",
    "- info_on_all_lines\n",
    "    - boolean, if true, the output will contain all lines, not only the lines of interest\n",
    "- zero_peak\n",
    "    - boolean, if true, the zero peak will be sliced out\n",
    "- zero_peak_end_index\n",
    "    - index of the last element of the zero peak, which will be sliced out\n",
    "- line_ratio_list\n",
    "    - list of list of lines which will be given a ratio, eg. K to L\n",
    "    - [['Ni_Ka', 'Ni_La'], ['Ni_Ka', 'Ni_Kb']]\n",
    "- fwtm_to_fwhm_lines\n",
    "    - lines of interest for the fwtm to fwhm ratio, should not be overlapping with other peaks\n",
    "    - the fwhm and fwtm here is taken from the raw spectrum, since the fitted gaussians have perfect shapes\n",
    "    - then if a overlapping peak is used, the ratio will be skewed"
   ]
  },
  {
   "cell_type": "code",
   "execution_count": null,
   "metadata": {},
   "outputs": [],
   "source": [
    "# TODO: detector setup (I_beam, distance, etc.)"
   ]
  },
  {
   "cell_type": "code",
   "execution_count": null,
   "metadata": {},
   "outputs": [],
   "source": [
    "# #### SU9000 #####\n",
    "path = 'data/Skomedal_2022-03-23_EDS_SU9000'\n",
    "file = 'Spectrum 03.emsa'  # 30 kV\n",
    "elements = ['Al', 'Au', 'C', 'Cu', 'F', 'Fe', 'Mg', 'Mo', 'Ni', 'O', 'Si', 'Sn']  # from Mari, pluss Mg and Sn\n",
    "lines_of_interest = ['Al_Ka', 'C_Ka', 'Cu_Ka', 'Mo_La', 'Ni_Ka', 'Ni_La', 'O_Ka', 'Si_Ka']\n",
    "info_on_all_lines = False\n",
    "line_ratio_list = [['Ni_Ka', 'Ni_La'], ['Ni_Ka', 'Mo_Ka'], ['Mo_Ka', 'Mo_La']]\n",
    "fwtm_to_fwhm_lines = ['Ni_Ka']\n",
    "\n",
    "# file = 'Spectrum 09.emsa'  # 15 kV\n",
    "\n",
    "# file = 'Spectrum 10.emsa'  # 10 kV\n",
    "# file = 'Spectrum 11.emsa'  # 5 kV\n",
    "\n",
    "\n",
    "##### GaAs 30 kV APREO #####\n",
    "# path = 'data/Maehlum_2022-09-06_EDS-SEM-APREO'\n",
    "# file = 'GaAs_30kV.emsa'\n",
    "# elements = ['Ga', 'As', 'O', 'C', 'Si']\n",
    "# lines_of_interest = ['Ga_Ka', 'As_Ka', 'O_Ka', 'C_Ka', 'Si_Ka', 'Ga_La', 'As_La', 'Ga_Kb', 'As_Kb', 'Ga_Ll']\n",
    "# info_on_all_lines = False\n",
    "# line_ratio_list = [['As_Ka', 'As_La'], ['Ga_Ka', 'Ga_La']]\n",
    "# fwtm_to_fwhm_lines = ['Ga_Ka', 'Ga_La']\n",
    "\n",
    "# # file = 'GaAs_15kV.emsa'\n",
    "# # file = 'GaAs_10kV.emsa'\n",
    "\n",
    "\n",
    "# ##### Mo APREO #####\n",
    "# path = 'data/Mæhlum_2022-09-06_EDS-SEM-APREO'\n",
    "# file = 'Mo_30kV.emsa'\n",
    "# elements = ['Mo', 'O']\n",
    "# lines_of_interest = ['Mo_Ka', 'O_Ka', 'Mo_La', 'Mo_Kb', 'Mo_Ll', 'Mo_Lb1', 'Mo_Lg3']\n",
    "# info_on_all_lines = False\n",
    "# line_ratio_list = [['Mo_Ka', 'Mo_La']]\n",
    "# fwtm_to_fwhm_lines = ['Mo_Ka', 'Mo_La']\n",
    "\n",
    "zero_peak = True \n",
    "zero_peak_end_index = 33"
   ]
  },
  {
   "cell_type": "code",
   "execution_count": null,
   "metadata": {},
   "outputs": [],
   "source": [
    "# function arguments that you can change, eg. if a step take too long\n",
    "\n",
    "# the model\n",
    "model_background_order = 6\n",
    "\n",
    "# calibration\n",
    "# change xray_lines from \"all_alpha\" to certain lines, or \"all\"\n",
    "# change rounds to do more or less rounds of calibration\n"
   ]
  },
  {
   "cell_type": "code",
   "execution_count": null,
   "metadata": {},
   "outputs": [],
   "source": [
    "s.plot(True)"
   ]
  },
  {
   "attachments": {},
   "cell_type": "markdown",
   "metadata": {},
   "source": [
    "## The output parameters that will be calculated are:\n"
   ]
  },
  {
   "cell_type": "code",
   "execution_count": null,
   "metadata": {},
   "outputs": [],
   "source": [
    "# output parameters\n",
    "scale = np.nan  # float\n",
    "offset = np.nan  # float \n",
    "energy_resolution = np.nan  # float\n",
    "total_counts = np.nan  # float\n",
    "background_counts = np.nan  # float\n",
    "dh_limit = np.nan # float\n",
    "lines_info = dict() # dict of dicts as {line_name1: {true_energy: ..., calib_energy: ..., area: ..., max_counts: ..., sigma: ..., fwhm: ...}, line_name2: {...}}\n",
    "line_ratios = dict()  # dict as {line1a/line1b: ratio1, line2a/line2b: ratio2, ...}\n",
    "fwtm_to_fwhm = dict()  # dict as {line1: fwtm_to_fwhm1, line2: fwtm_to_fwhm2, ...}\n"
   ]
  },
  {
   "cell_type": "markdown",
   "metadata": {},
   "source": [
    "## Loading the data and setting some parameters"
   ]
  },
  {
   "cell_type": "code",
   "execution_count": null,
   "metadata": {},
   "outputs": [],
   "source": [
    "s = hs.load(path + '/' + file, signal_type='EDS_TEM')  # have to pretent it's a TEM signal\n",
    "s.add_elements(elements)\n",
    "if zero_peak:\n",
    "    s = s.isig[zero_peak_end_index:]\n",
    "\n",
    "Vacc = s.metadata.Acquisition_instrument.TEM.beam_energy\n",
    "x_max = s.axes_manager[0].high_value  # highest x-axis value in keV, used in Duane-Hunt\n",
    "x = s.axes_manager[0].axis  # x-axis in keV"
   ]
  },
  {
   "cell_type": "code",
   "execution_count": null,
   "metadata": {},
   "outputs": [],
   "source": [
    "s.metadata"
   ]
  },
  {
   "cell_type": "code",
   "execution_count": null,
   "metadata": {},
   "outputs": [],
   "source": [
    "# TODO: add these as user inputs and add them to the output dict\n",
    "# also metadata like Vacc etc.\n",
    "\n",
    "date = s.metadata.General.date\n",
    "time = s.metadata.General.time\n",
    "original_filename = s.metadata.General.original_filename\n",
    "name = f'{file[:-5]}'  # remove \".emsa\", TODO: fix a nicer name"
   ]
  },
  {
   "cell_type": "code",
   "execution_count": null,
   "metadata": {},
   "outputs": [],
   "source": [
    "plt.rcParams['font.size'] = '16'\n",
    "plt.rcParams[\"figure.figsize\"] = (15,8)\n",
    "plt.rcParams['lines.linewidth'] = 3\n",
    "plt.rcParams['font.family'] = 'monospace'"
   ]
  },
  {
   "cell_type": "code",
   "execution_count": null,
   "metadata": {},
   "outputs": [],
   "source": [
    "# plot the spectrum\n",
    "# s.plot(xray_lines=True)"
   ]
  },
  {
   "cell_type": "code",
   "execution_count": null,
   "metadata": {},
   "outputs": [],
   "source": [
    "# these are temporary arrays used to show the effect of the calibrations\n",
    "# temporary because thay are not used in the final output\n",
    "\n",
    "scale_list = [s.axes_manager[0].scale]\n",
    "offset_list = [s.axes_manager[0].offset]\n",
    "energy_res_list = [s.metadata.Acquisition_instrument.TEM.Detector.EDS.energy_resolution_MnKa]"
   ]
  },
  {
   "cell_type": "code",
   "execution_count": null,
   "metadata": {},
   "outputs": [],
   "source": [
    "# # Duane-Hunt method to find the real E_0\n",
    "def calculate_duane_hunt(buffer_start=2, buffer_end=0.1, xaxis_plot_buffer=0.5, dh_plot=False):\n",
    "    if Vacc > x_max:\n",
    "        print(f'Vacc={Vacc} > x_max={x_max}, Duane-Hunt not possible')\n",
    "        return np.nan\n",
    "    else:\n",
    "        s_dh = s.deepcopy() \n",
    "        # making the lin fit of the background right before Vacc\n",
    "        dh_start = Vacc-buffer_start\n",
    "        dh_end = Vacc-buffer_end\n",
    "        s_end = s_dh.isig[dh_start:dh_end] # slice with keV\n",
    "        m_end = s_end.create_model(auto_background=False)\n",
    "        m_end.add_polynomial_background(order=1)\n",
    "        m_end.fit()\n",
    "\n",
    "        x_s_end = s_dh.isig[dh_start-xaxis_plot_buffer:dh_end+xaxis_plot_buffer].axes_manager[0].axis\n",
    "        dh_bg_zero_index = np.argmin(np.abs(m_end[-1].function(x_s_end) * s_dh.axes_manager[0].scale))\n",
    "\n",
    "        dh_limit = x_s_end[dh_bg_zero_index]\n",
    "        print(f'Duane-Hunt limit: {dh_limit:.3f} keV')\n",
    "\n",
    "        if dh_plot:\n",
    "            plt.plot(x, s_dh.data, label='spectrum', marker='o')\n",
    "            plt.plot(x_s_end, m_end[-1].function(x_s_end)* s_dh.axes_manager[0].scale, label='bg lin. fit')\n",
    "            plt.plot(s_end.axes_manager[0].axis, s_end.data, marker='o', label=f'points in bg lin. fit')\n",
    "            plt.axhline(0, color='k', linestyle='--')\n",
    "            plt.axvline(dh_limit, color='r', linestyle='--', label=f'Duane-Hunt: {dh_limit:.3f} keV')\n",
    "            plt.axvline(Vacc, color='y', linestyle='--', label=f'Vacc from instrument: {Vacc} keV', alpha=0.6)\n",
    "            plot_buffer = 1.1\n",
    "            plt.title(f'{file}\\nlin fit range kV: [{dh_start:.2f}, {dh_end:.2f}]')\n",
    "            plt.ylim(-5, m_end[-1].function(x_s_end).max() * s_dh.axes_manager[0].scale*plot_buffer)\n",
    "            plt.xlim(Vacc-buffer_start*plot_buffer, dh_limit + buffer_end)\n",
    "            plt.legend()\n",
    "            plt.show()\n",
    "\n",
    "        return dh_limit\n"
   ]
  },
  {
   "cell_type": "code",
   "execution_count": null,
   "metadata": {},
   "outputs": [],
   "source": [
    "dh_limit = calculate_duane_hunt(dh_plot=False)"
   ]
  },
  {
   "cell_type": "code",
   "execution_count": null,
   "metadata": {},
   "outputs": [],
   "source": [
    "# Using Duane-Hunt to slice the spectrum\n",
    "def use_dh_to_slice_spectrum(dh_limit=dh_limit, s=s, plot=False):\n",
    "    if np.isnan(dh_limit):\n",
    "        print('No Duane-Hunt limit found, not slicing the spectrum')\n",
    "    else:\n",
    "        s = s.isig[:dh_limit]\n",
    "        print(f'Spectrum sliced at {dh_limit:.2f} keV')\n",
    "        if plot:\n",
    "            s.plot(xray_lines=True)\n",
    "    return s"
   ]
  },
  {
   "cell_type": "code",
   "execution_count": null,
   "metadata": {},
   "outputs": [],
   "source": [
    "s = use_dh_to_slice_spectrum(dh_limit, plot=False)\n",
    "x = s.axes_manager[0].axis  # x-axis in keV, after slicing"
   ]
  },
  {
   "cell_type": "code",
   "execution_count": null,
   "metadata": {},
   "outputs": [],
   "source": [
    "# creating a model\n",
    "m = s.create_model(auto_background=False)\n",
    "\n",
    "# fitting the data\n",
    "m.add_polynomial_background(order=model_background_order) \n",
    "m.fit_background()\n",
    "m.fit(bounded=True)\n",
    "'m'\n",
    "# m.plot(True)"
   ]
  },
  {
   "cell_type": "code",
   "execution_count": null,
   "metadata": {},
   "outputs": [],
   "source": [
    "m.plot(True)"
   ]
  },
  {
   "attachments": {},
   "cell_type": "markdown",
   "metadata": {},
   "source": [
    "## Calibration (scale, offset and resolution)"
   ]
  },
  {
   "cell_type": "code",
   "execution_count": null,
   "metadata": {},
   "outputs": [],
   "source": [
    "#  Functions for calibrating the energy axis\n",
    "\n",
    "def calibrate_axis(rounds=2, xray_lines='all_alpha', scale=scale, offset=offset):\n",
    "    # calibration of the energy axis, i.e. scale and offset\n",
    "    print('Calibrating energy axis (with many elements it can take multiple minutes)')\n",
    "           \n",
    "    for i in range(rounds):\n",
    "        print(f'Calibrating offset and scale, round {i+1} of {rounds}')\n",
    "        m.calibrate_energy_axis(calibrate='offset', xray_lines=xray_lines)\n",
    "        offset_list.append(s.axes_manager[0].offset)\n",
    "        m.calibrate_energy_axis(calibrate='scale', xray_lines=xray_lines)\n",
    "        scale_list.append(s.axes_manager[0].scale)\n",
    "\n",
    "    print(f'Scale: {scale_list[-1]:.6f} eV/px \\nOffset: {offset_list[-1]:.6f} keV')\n",
    "\n",
    "    return scale_list[-1], offset_list[-1]\n",
    "\n",
    "\n",
    "def calibrate_resolution(rounds=1, xray_lines='all_alpha'):\n",
    "    # calibration of the energy resolution\n",
    "    for i in range(rounds):\n",
    "        print(f'Calibrating energy resolution, round {i+1} of {rounds}')\n",
    "        m.calibrate_energy_axis(calibrate='resolution', xray_lines=xray_lines)\n",
    "        energy_res_list.append(s.metadata.Acquisition_instrument.TEM.Detector.EDS.energy_resolution_MnKa)\n",
    "\n",
    "    print(f'Calibrated energy resolution: {energy_res_list[-1]:.3f} eV')\n",
    "    return energy_res_list[-1]\n",
    "\n",
    "\n",
    "def print_calibration_info():\n",
    "    # make pretty print of calibration info\n",
    "    infos = [' ', 'Scale [eV/channel]', 'Offset [keV]', 'E-res [eV]']\n",
    "    row1 = ['Current', f'{scale_list[-1]:.6f}', f'{offset_list[-1]:.6f}', f'{energy_res_list[-1]:.3f}']\n",
    "    row2 = ['Original', f'{scale_list[0]:.6f}', f'{offset_list[0]:.6f}', f'{energy_res_list[0]:.3f}']\n",
    "    row3 = ['Δ original', f'{(scale_list[-1] - scale_list[0])/scale_list[-2]*100:.3f} %', \n",
    "    f'{(offset_list[-1] - offset_list[0])/offset_list[-2]*100:.3f} %', f'{(energy_res_list[-1] - energy_res_list[0])/energy_res_list[0]*100:.3f} %']\n",
    "    row4 = ['Δ last step', f'{(scale_list[-1] - scale_list[-2])/scale_list[-2]*100:.3f} %', \n",
    "    f'{(offset_list[-1] - offset_list[-2])/offset_list[-2]*100:.3f} %', f'{(energy_res_list[-1] - energy_res_list[-2])/energy_res_list[-2]*100:.3f} %']\n",
    "\n",
    "    for i in range(len(infos)):\n",
    "        print(f'{infos[i]:<20}{row1[i]:<15}{row2[i]:<15}{row3[i]:<15}{row4[i]:<15}')\n",
    "    \n"
   ]
  },
  {
   "cell_type": "code",
   "execution_count": null,
   "metadata": {},
   "outputs": [],
   "source": [
    "[compo.name for compo in m.xray_lines]"
   ]
  },
  {
   "cell_type": "code",
   "execution_count": null,
   "metadata": {},
   "outputs": [],
   "source": [
    "# test of 'all_alpha' in m.calibrate_energy_axis(calibrate='resolution', xray_lines=xray_lines)\n",
    "m.calibrate_energy_axis(calibrate='resolution', xray_lines='all_alpha')\n",
    "s.metadata.Acquisition_instrument.TEM.Detector.EDS.energy_resolution_MnKa"
   ]
  },
  {
   "cell_type": "code",
   "execution_count": null,
   "metadata": {},
   "outputs": [],
   "source": [
    "# test of 'all_alpha' in m.calibrate_energy_axis(calibrate='resolution', xray_lines=xray_lines)\n",
    "m.calibrate_energy_axis(calibrate='resolution', xray_lines=['Ni_La'])\n",
    "s.metadata.Acquisition_instrument.TEM.Detector.EDS.energy_resolution_MnKa"
   ]
  },
  {
   "cell_type": "code",
   "execution_count": null,
   "metadata": {},
   "outputs": [],
   "source": [
    "# test of 'all_alpha' in m.calibrate_energy_axis(calibrate='resolution', xray_lines=xray_lines)\n",
    "m.calibrate_energy_axis(calibrate='resolution', xray_lines=['O_Ka'])\n",
    "s.metadata.Acquisition_instrument.TEM.Detector.EDS.energy_resolution_MnKa"
   ]
  },
  {
   "cell_type": "code",
   "execution_count": null,
   "metadata": {},
   "outputs": [],
   "source": [
    "# test of 'all_alpha' in m.calibrate_energy_axis(calibrate='resolution', xray_lines=xray_lines)\n",
    "m.calibrate_energy_axis(calibrate='resolution', xray_lines=['Cu_Ka'])\n",
    "s.metadata.Acquisition_instrument.TEM.Detector.EDS.energy_resolution_MnKa"
   ]
  },
  {
   "cell_type": "code",
   "execution_count": null,
   "metadata": {},
   "outputs": [],
   "source": [
    "# test of 'all_alpha' in m.calibrate_energy_axis(calibrate='resolution', xray_lines=xray_lines)\n",
    "m.calibrate_energy_axis(calibrate='resolution', xray_lines=['Al_Ka'])\n",
    "s.metadata.Acquisition_instrument.TEM.Detector.EDS.energy_resolution_MnKa"
   ]
  },
  {
   "cell_type": "code",
   "execution_count": null,
   "metadata": {},
   "outputs": [],
   "source": [
    "# test of 'all_alpha' in m.calibrate_energy_axis(calibrate='resolution', xray_lines=xray_lines)\n",
    "m.calibrate_energy_axis(calibrate='resolution', xray_lines=['Mo_Ka'])\n",
    "s.metadata.Acquisition_instrument.TEM.Detector.EDS.energy_resolution_MnKa"
   ]
  },
  {
   "cell_type": "code",
   "execution_count": null,
   "metadata": {},
   "outputs": [],
   "source": [
    "s.plot(True)"
   ]
  },
  {
   "cell_type": "code",
   "execution_count": null,
   "metadata": {},
   "outputs": [],
   "source": [
    "s.metadata"
   ]
  },
  {
   "cell_type": "code",
   "execution_count": null,
   "metadata": {},
   "outputs": [],
   "source": [
    "s.plot(True)"
   ]
  },
  {
   "cell_type": "code",
   "execution_count": null,
   "metadata": {},
   "outputs": [],
   "source": [
    "m.active_components[1].A.value"
   ]
  },
  {
   "cell_type": "code",
   "execution_count": null,
   "metadata": {},
   "outputs": [],
   "source": [
    "s.plot(True)"
   ]
  },
  {
   "cell_type": "code",
   "execution_count": null,
   "metadata": {},
   "outputs": [],
   "source": [
    "s.metadata"
   ]
  },
  {
   "cell_type": "code",
   "execution_count": null,
   "metadata": {},
   "outputs": [],
   "source": [
    "scale, offset = calibrate_axis()\n",
    "energy_resolution = calibrate_resolution()"
   ]
  },
  {
   "cell_type": "code",
   "execution_count": null,
   "metadata": {},
   "outputs": [],
   "source": [
    "print_calibration_info()"
   ]
  },
  {
   "cell_type": "markdown",
   "metadata": {},
   "source": [
    "## Peak positions fitting"
   ]
  },
  {
   "cell_type": "code",
   "execution_count": null,
   "metadata": {},
   "outputs": [],
   "source": [
    "# helper functions\n",
    "\n",
    "\n",
    "def energy_index(energy):\n",
    "    # given an energy in keV, return the index of that energy in the spectrum\n",
    "    return np.abs(x - energy).argmin()\n",
    "\n",
    "\n",
    "def energy_counts(energy):\n",
    "    # given an energy in keV, return the counts at that energy\n",
    "    energy_index = energy_index(energy)\n",
    "    return s.data[energy_index]\n",
    "\n",
    "\n",
    "def range_counts(start, stop):\n",
    "    # given a range in keV, return the counts in that range\n",
    "    return s.data[energy_index(start), energy_index(stop)].sum()\n",
    "\n",
    "\n",
    "def max_counts(energy, buffer=10):\n",
    "    # get the highest counts in +- 10 channels around a given energy\n",
    "    i = np.argmin(np.abs(x - energy))\n",
    "    return s.data[i-buffer:i+buffer].max()\n",
    "     \n",
    "\n",
    "def gaussian_counts(line):\n",
    "    # give the sum of counts from a gaussian fit of a line\n",
    "    return (m[line].function(x) * s.axes_manager[0].scale).sum()\n",
    "\n",
    "def gaussian_max_counts(line):\n",
    "    # give the max counts from a gaussian fit of a line\n",
    "    return m[line].function(x).max() * s.axes_manager[0].scale\n",
    "\n",
    "\n",
    "def bg_point(energy):\n",
    "    # give the background counts at a certain energy\n",
    "    return m[-1].function(energy) * s.axes_manager[0].scale\n",
    "\n",
    "\n",
    "def bg_range(range_array):\n",
    "    # give the background sum counts in range, where range is an array of energies\n",
    "    return (m[-1].function(range_array) * s.axes_manager[0].scale).sum()\n",
    "\n",
    "    \n",
    "def kev_to_channels(energy):\n",
    "    return np.argmin(np.abs(x - energy))\n",
    "\n",
    "\n",
    "def theoretical_energy(line):\n",
    "    # returns the theoretical energy of a given line, e.g. 'Ga_Ka'\n",
    "    element = line.split('_')[0]\n",
    "    line_name = line.split('_')[1]\n",
    "    return hs.material.elements[element]['Atomic_properties']['Xray_lines'][line_name]['energy (keV)']\n"
   ]
  },
  {
   "cell_type": "code",
   "execution_count": null,
   "metadata": {},
   "outputs": [],
   "source": [
    "# functions for calibrations of lines\n",
    "\n",
    "def calibrate_lines(rounds=2, xray_lines='all_alpha'):\n",
    "    # calibrating the lines using HyperSpy\n",
    "    # calibrate energy rounds times, and width and sub_weight only once\n",
    "    for i in range(rounds):\n",
    "        print(f'Calibrating peak positions, round {i+1} of {rounds}')\n",
    "        m.calibrate_xray_lines(calibrate='energy', xray_lines=xray_lines, kind='single') # use kind='multi' for better results?\n",
    "        if i == 0:\n",
    "            m.calibrate_xray_lines(calibrate='width', xray_lines=xray_lines, kind='single')\n",
    "            m.calibrate_xray_lines(calibrate='sub_weight', xray_lines=xray_lines, kind='single')\n",
    "\n",
    "\n",
    "def make_lines_info(all_lines=info_on_all_lines):\n",
    "    # make dict with lines info\n",
    "    lines_info = {}\n",
    "    for i in range(len(m) - 1): # last component is the background\n",
    "        if (all_lines == True) or (m[i].name in lines_of_interest):\n",
    "            lines_info[m[i].name] = {\n",
    "                'true_energy': theoretical_energy(m[i].name),\n",
    "                'calib_energy': m[i].centre.value,\n",
    "                'area': gaussian_counts(i),\n",
    "                'max_counts': gaussian_max_counts(i),\n",
    "                'HS_height': m[i].height * scale,\n",
    "                'sigma': m[i].sigma.value,\n",
    "                'fwhm': m[i].fwhm * 1000,\n",
    "                'Fiori P/B': m[i].A.value / (m[-1].function(m[i].centre.value) * scale)\n",
    "                \n",
    "            }\n",
    "    return lines_info\n",
    "\n",
    "\n",
    "def print_lines_info(give_return=False):\n",
    "    # print line info\n",
    "    headers = ['Line', 'True E [keV]', 'Calib. E [keV]', 'Area [counts]', 'Max (fit)', 'Max (HS)', 'Sigma [keV]', 'FWHM [eV]', 'Fiori P/B']\n",
    "    table = ''\n",
    "    for i in range(len(headers)):\n",
    "        table += f'{headers[i]:<15}'\n",
    "    table += '\\n'\n",
    "    for line in lines_info:\n",
    "    #   # this looks bad, but it is to align the columns and adjust the number of decimals\n",
    "        one_line_info = f'{line:<15}'\n",
    "        one_line_info += f'{lines_info[line][\"true_energy\"]:<15.4f}'\n",
    "        one_line_info += f'{lines_info[line][\"calib_energy\"]:<15.4f}'\n",
    "        one_line_info += f'{lines_info[line][\"area\"]:<15.1f}'\n",
    "        one_line_info += f'{lines_info[line][\"max_counts\"]:<15.1f}'\n",
    "        one_line_info += f'{lines_info[line][\"HS_height\"]:<15.1f}'\n",
    "        one_line_info += f'{lines_info[line][\"sigma\"]:<15.4f}'\n",
    "        one_line_info += f'{lines_info[line][\"fwhm\"]:<15.4f}'\n",
    "        one_line_info += f'{lines_info[line][\"Fiori P/B\"]:<15.1f}'\n",
    "        table += one_line_info + '\\n'\n",
    "    \n",
    "    if give_return == True:\n",
    "        return table\n",
    "    else:\n",
    "        print(table)"
   ]
  },
  {
   "cell_type": "code",
   "execution_count": null,
   "metadata": {},
   "outputs": [],
   "source": [
    "# m.components.Ni_Ka.fwhm"
   ]
  },
  {
   "cell_type": "code",
   "execution_count": null,
   "metadata": {},
   "outputs": [],
   "source": [
    "# NiKa = m.components.Ni_Ka.A.value\n",
    "\n",
    "# NiKaBG = m.as_signal(component_list=[\"background_order_6\"])\n",
    "# NiKaRange = (7.16, 7.76) \n",
    "# cf = (NiKaRange[1]-NiKaRange[0])/scale \n",
    "# roi = hs.roi.SpanROI(7.16, 7.76)\n",
    "# B = roi(NiKaBG)\n",
    "# PB = NiKa/B.integrate1D(-1).data[0]\n",
    "# PB_F = cf * PB \n",
    "\n",
    "# print(\"The peak to background ratio is: \", PB_F)"
   ]
  },
  {
   "cell_type": "code",
   "execution_count": null,
   "metadata": {},
   "outputs": [],
   "source": [
    "# (m[-1].function(s.isig[7.16:7.76].axes_manager[0].axis) * s.axes_manager[0].scale).sum()"
   ]
  },
  {
   "cell_type": "code",
   "execution_count": null,
   "metadata": {},
   "outputs": [],
   "source": [
    "# PB"
   ]
  },
  {
   "cell_type": "code",
   "execution_count": null,
   "metadata": {},
   "outputs": [],
   "source": [
    "# B.integrate1D(-1).data[0]"
   ]
  },
  {
   "cell_type": "code",
   "execution_count": null,
   "metadata": {},
   "outputs": [],
   "source": [
    "# type(roi)"
   ]
  },
  {
   "cell_type": "code",
   "execution_count": null,
   "metadata": {},
   "outputs": [],
   "source": [
    "# cf"
   ]
  },
  {
   "cell_type": "code",
   "execution_count": null,
   "metadata": {},
   "outputs": [],
   "source": [
    "calibrate_lines(rounds=2, xray_lines='all_alpha')"
   ]
  },
  {
   "cell_type": "code",
   "execution_count": null,
   "metadata": {},
   "outputs": [],
   "source": [
    "lines_info = make_lines_info()\n",
    "print_lines_info()"
   ]
  },
  {
   "cell_type": "code",
   "execution_count": null,
   "metadata": {},
   "outputs": [],
   "source": [
    "m['Ni_Ka'].A.value"
   ]
  },
  {
   "cell_type": "code",
   "execution_count": null,
   "metadata": {},
   "outputs": [],
   "source": [
    "m['Ni_Ka'].A.value / (m[-1].function(m['Ni_Ka'].centre.value)*scale)"
   ]
  },
  {
   "cell_type": "code",
   "execution_count": null,
   "metadata": {},
   "outputs": [],
   "source": [
    "m[-1].function(m['Ni_Ka'].centre.value) * scale"
   ]
  },
  {
   "cell_type": "code",
   "execution_count": null,
   "metadata": {},
   "outputs": [],
   "source": [
    "m['Ni_Ka'].height * s.axes_manager[0].scale"
   ]
  },
  {
   "cell_type": "code",
   "execution_count": null,
   "metadata": {},
   "outputs": [],
   "source": []
  },
  {
   "cell_type": "code",
   "execution_count": null,
   "metadata": {},
   "outputs": [],
   "source": [
    "## line ratios\n",
    "\n",
    "def peak_ratio(line1, line2):\n",
    "    # give the K to L ratio of a line, e.g. 'Ga_Ka' to 'Ga_La'\n",
    "    try:\n",
    "        m[line1]\n",
    "        m[line2]\n",
    "    except ValueError:\n",
    "        print('line not in model:', line1, line2)\n",
    "        return np.nan\n",
    "    return gaussian_counts(line1) / gaussian_counts(line2)\n",
    "\n",
    "def calculate_all_line_ratios():\n",
    "    # calculate the K to L ratios for line_ratio_list\n",
    "    line_ratios = {}\n",
    "    for line_pair in line_ratio_list:\n",
    "        pair_name = line_pair[0] + '/' + line_pair[1]\n",
    "        line_ratios[pair_name] =  peak_ratio(line_pair[0], line_pair[1])\n",
    "    return line_ratios"
   ]
  },
  {
   "cell_type": "code",
   "execution_count": null,
   "metadata": {},
   "outputs": [],
   "source": [
    "line_ratios = calculate_all_line_ratios()\n",
    "line_ratios"
   ]
  },
  {
   "cell_type": "code",
   "execution_count": null,
   "metadata": {},
   "outputs": [],
   "source": [
    "## FWTM to FWHM\n",
    "\n",
    "def fwtm_to_fwhm_line(line, plot_ratio=False):\n",
    "    try:\n",
    "        m[line]\n",
    "    except ValueError:\n",
    "        print('line not in model:', line)\n",
    "        return {'fwhm': np.nan, 'fwtm': np.nan, 'fwtm/fwhm': np.nan}\n",
    "    s_wo_bg = s.deepcopy()\n",
    "    s_wo_bg.data = s.data - m[-1].function(x)*s.axes_manager[0].scale\n",
    "    window = m[line].sigma.value * 4 # window around the line\n",
    "    line_energy = m[line].centre.value\n",
    "    s_line_window = s_wo_bg.isig[line_energy-window:line_energy+window]\n",
    "    fwhm = s_line_window.estimate_peak_width(factor=0.5, parallel=False).data[0]\n",
    "    fwtm = s_line_window.estimate_peak_width(factor=0.1, parallel=False).data[0]\n",
    "\n",
    "    # TODO: Put this plotting in a separate function?\n",
    "    if plot_ratio:\n",
    "        plt.plot(s_line_window.axes_manager[0].axis, s_line_window.data, label=f'Signal without bg', marker='o')\n",
    "        plt.axvline(line_energy-window, color='k', linestyle='--', label='window')\n",
    "        plt.axvline(line_energy+window, color='k', linestyle='--')\n",
    "        plt.axvline(theoretical_energy(line), color='r', linestyle='--', label='theoretical line center')\n",
    "        plt.axvline(m[line].centre.value, color='g', linestyle='--', label='calibrated center')\n",
    "        plt.plot([line_energy-fwhm/2, line_energy+fwhm/2], [lines_info[line]['max_counts']/2, lines_info[line]['max_counts']/2], label='fwhm')\n",
    "        plt.plot([line_energy-fwtm/2, line_energy+fwtm/2], [lines_info[line]['max_counts']/10, lines_info[line]['max_counts']/10], label='fwtm')\n",
    "        plt.title(f'{line} \\n FWHM: {fwhm*1000:.2f} eV, FWTM: {fwtm*1000:.2f} eV, ratio: {fwtm/fwhm:.3f}')\n",
    "        plt.legend()\n",
    "        plt.show()\n",
    "    \n",
    "    return {'fwhm': fwhm*1000, 'fwtm': fwtm*1000, 'fwtm/fwhm': fwtm/fwhm}\n",
    "\n",
    "\n",
    "def fwtm_to_fwhm_all():\n",
    "    fwtm_to_fwhm = {}\n",
    "    for line in fwtm_to_fwhm_lines:\n",
    "        fwtm_to_fwhm[line] = fwtm_to_fwhm_line(line, plot_ratio=False)\n",
    "\n",
    "    return fwtm_to_fwhm\n",
    "        \n",
    "\n",
    "fwtm_to_fwhm = fwtm_to_fwhm_all()\n",
    "fwtm_to_fwhm"
   ]
  },
  {
   "cell_type": "markdown",
   "metadata": {},
   "source": [
    "## Total counts and background counts"
   ]
  },
  {
   "cell_type": "code",
   "execution_count": null,
   "metadata": {},
   "outputs": [],
   "source": [
    "total_counts = s.data.sum()\n",
    "# total_counts_m = m.signal.data.sum() # does not work, m.signal is just a view of s\n",
    "\n",
    "# counts in the background\n",
    "background_counts = bg_range(x).sum()\n",
    "\n",
    "# counts in the spectrum without background\n",
    "total_counts_wo_bg = total_counts - background_counts\n",
    "\n",
    "\n",
    "def print_count_info():\n",
    "    print(f'background_counts: {background_counts:.1f}')\n",
    "    print(f'total_counts: {total_counts:.1f}')\n",
    "    print(f'total_counts_wo_bg: {total_counts_wo_bg:.1f}')\n",
    "\n",
    "    # ratio of total counts to total counts in background\n",
    "    print(f'total_counts/background_counts: {total_counts/background_counts:.1f}')\n",
    "\n",
    "    # ratio of total counts to total counts in spectrum without background\n",
    "    print(f'total_counts/total_counts_wo_bg: {total_counts/total_counts_wo_bg:.1f}')\n",
    "\n",
    "    # percentage of counts in peaks compared to total counts\n",
    "    print(f'percentage of counts in peaks: {total_counts_wo_bg/total_counts*100:.1f}%')\n"
   ]
  },
  {
   "cell_type": "code",
   "execution_count": null,
   "metadata": {},
   "outputs": [],
   "source": [
    "def print_output(scale=scale, offset=offset, energy_resolution=energy_resolution, total_counts=total_counts, \n",
    "background_counts=background_counts, dh_limit=dh_limit, lines_info=lines_info, line_ratios=line_ratios, fwtm_to_fwhm=fwtm_to_fwhm):\n",
    "    print(f\"{'file:':<20} {file}\")\n",
    "    print(f\"{'scale:':<20} {scale:.4f}\")\n",
    "    print(f\"{'offset:':<20} {offset:.4f}\")\n",
    "    print(f\"{'energy_resolution:':<20} {energy_resolution:.4f}\")\n",
    "    print(f\"{'total_counts:':<20} {total_counts:.1f}\")\n",
    "    print(f\"{'background_counts:':<20} {background_counts:.1f}\")\n",
    "    print(f\"{'dh_limit:':<20} {dh_limit:.3f}\")\n",
    "    print(print_lines_info(give_return=True))\n",
    "    print(f\"line_ratios: {line_ratios}\")\n",
    "    print(f\"fwtm_to_fwhm: {fwtm_to_fwhm}\")\n",
    "    print_count_info()\n"
   ]
  },
  {
   "cell_type": "code",
   "execution_count": null,
   "metadata": {},
   "outputs": [],
   "source": [
    "print_output()\n"
   ]
  },
  {
   "cell_type": "code",
   "execution_count": null,
   "metadata": {},
   "outputs": [],
   "source": [
    "# put output in a dictionary\n",
    "\n",
    "def output_dict(scale=scale, offset=offset, energy_resolution=energy_resolution, total_counts=total_counts,\n",
    "background_counts=background_counts, lines_info=lines_info, line_ratios=line_ratios, fwtm_to_fwhm=fwtm_to_fwhm, \n",
    "data=date, time=time, original_filename=original_filename, name=name, elements=elements):\n",
    "    output = {'name': name, 'date': date, 'time': time, 'original_filename': original_filename,'scale': scale, \n",
    "    'elements': elements, 'energy_resolution': energy_resolution, 'offset': offset,  'total_counts': total_counts,\n",
    "    'background_counts': background_counts, 'dh_limit':dh_limit, 'lines_info': lines_info, 'line_ratios': line_ratios, \n",
    "    'fwtm_to_fwhm': fwtm_to_fwhm}\n",
    "    return output\n"
   ]
  },
  {
   "cell_type": "code",
   "execution_count": null,
   "metadata": {},
   "outputs": [],
   "source": [
    "output = output_dict()\n",
    "output"
   ]
  },
  {
   "cell_type": "code",
   "execution_count": null,
   "metadata": {},
   "outputs": [],
   "source": [
    "# saving the output to a csv\n",
    "\n",
    "import csv\n",
    "\n",
    "with open(f'results/{name}_{date}.csv', 'w') as f:\n",
    "    for key in output.keys():\n",
    "        f.write(\"%s,%s\\n\"%(key,output[key]))"
   ]
  },
  {
   "cell_type": "code",
   "execution_count": null,
   "metadata": {},
   "outputs": [],
   "source": []
  },
  {
   "cell_type": "code",
   "execution_count": null,
   "metadata": {},
   "outputs": [],
   "source": [
    "m.family_lines"
   ]
  },
  {
   "cell_type": "code",
   "execution_count": null,
   "metadata": {},
   "outputs": [],
   "source": [
    "plt.close('all')"
   ]
  },
  {
   "cell_type": "code",
   "execution_count": null,
   "metadata": {},
   "outputs": [],
   "source": []
  },
  {
   "cell_type": "code",
   "execution_count": null,
   "metadata": {},
   "outputs": [],
   "source": [
    "# plotting all components and their centers, labeled\n",
    "\n",
    "plt.plot(s.axes_manager[0].axis, s.data-m[-1].function(s.axes_manager[0].axis)*scale+100, label='spectrum', marker='o')\n",
    "# m_data = np.zeros_like(s.data)\n",
    "\n",
    "for comp in m:\n",
    "    if comp == m[-1]:\n",
    "        continue\n",
    "    # m_data += comp.function(s.axes_manager[0].axis)*scale\n",
    "\n",
    "    # # comment in to only plot centain lines\n",
    "    # if not 'Ni_' in comp.name:\n",
    "    #     continue\n",
    "    \n",
    "    line_y = comp.height * scale\n",
    "    line_x = comp.centre.value\n",
    "    true_e  = hs.material.elements[comp.name.split('_')[0]].Atomic_properties.Xray_lines.as_dictionary()[comp.name.split('_')[1]]['energy (keV)']\n",
    "\n",
    "    plt.plot([line_x, line_x], [0, line_y+100])\n",
    "    plt.plot([true_e, true_e], [0, line_y+100], '--', color='k', alpha=0.7)\n",
    "\n",
    "    # plt.plot(s.axes_manager[0].axis, comp.function(s.axes_manager[0].axis)*scale+m[-1].function(s.axes_manager[0].axis)*scale, label=comp.name)\n",
    "    plt.plot(s.axes_manager[0].axis, comp.function(s.axes_manager[0].axis)*scale+100, label=comp.name)\n",
    "\n",
    "    plt.text(line_x, line_y+100, f'{comp.name}, {comp.centre.value:.3f}',rotation=90)\n",
    "\n",
    "# plt.plot(s.axes_manager[0].axis, m_data+150, label='model')\n",
    "\n",
    "\n",
    "plt.ylim(15,25e4)\n",
    "plt.yscale('log')\n",
    "\n",
    "# plt.legend()\n",
    "plt.show()"
   ]
  },
  {
   "cell_type": "code",
   "execution_count": null,
   "metadata": {},
   "outputs": [],
   "source": [
    "s.plot(True)"
   ]
  }
 ],
 "metadata": {
  "kernelspec": {
   "display_name": "hspy",
   "language": "python",
   "name": "python3"
  },
  "language_info": {
   "codemirror_mode": {
    "name": "ipython",
    "version": 3
   },
   "file_extension": ".py",
   "mimetype": "text/x-python",
   "name": "python",
   "nbconvert_exporter": "python",
   "pygments_lexer": "ipython3",
   "version": "3.8.16"
  },
  "orig_nbformat": 4,
  "vscode": {
   "interpreter": {
    "hash": "eedee208f6f0fe67ac5ec53646d8853bbb152098f521b748accd5958a126e1a5"
   }
  }
 },
 "nbformat": 4,
 "nbformat_minor": 2
}
